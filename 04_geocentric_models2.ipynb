{
 "cells": [
  {
   "cell_type": "code",
   "execution_count": 3,
   "metadata": {},
   "outputs": [],
   "source": [
    "import numpy as np\n",
    "import arviz as az\n",
    "import pandas as pd\n",
    "import matplotlib.pyplot as plt"
   ]
  },
  {
   "cell_type": "code",
   "execution_count": 4,
   "metadata": {},
   "outputs": [],
   "source": [
    "import jax\n",
    "import jax.numpy as jnp\n",
    "import random"
   ]
  },
  {
   "cell_type": "code",
   "execution_count": 5,
   "metadata": {},
   "outputs": [],
   "source": [
    "import tensorflow_probability as tfp; tfp = tfp.substrates.jax\n",
    "tfd = tfp.distributions"
   ]
  },
  {
   "cell_type": "code",
   "execution_count": 6,
   "metadata": {},
   "outputs": [],
   "source": [
    "from collections import namedtuple"
   ]
  },
  {
   "cell_type": "code",
   "execution_count": 7,
   "metadata": {},
   "outputs": [],
   "source": [
    "%load_ext autoreload\n",
    "%autoreload 2\n",
    "import rethinking"
   ]
  },
  {
   "cell_type": "code",
   "execution_count": 8,
   "metadata": {},
   "outputs": [],
   "source": [
    "from rethinking.data import RethinkingDataset\n",
    "from rethinking.data import dataframe_to_tensors\n",
    "from rethinking.mcmc import sample_posterior"
   ]
  },
  {
   "cell_type": "code",
   "execution_count": 9,
   "metadata": {},
   "outputs": [],
   "source": [
    "# a function to plot the density using arviz plot_kde function\n",
    "def plot_density(positions, x_label=\"Position\", y_label=\"Density\"):\n",
    "    az.plot_kde(positions)\n",
    "    plt.xlabel(x_label)\n",
    "    plt.ylabel(y_label)"
   ]
  },
  {
   "cell_type": "code",
   "execution_count": 10,
   "metadata": {},
   "outputs": [],
   "source": [
    "plt.rcParams['figure.figsize'] = [6, 4]"
   ]
  },
  {
   "cell_type": "code",
   "execution_count": 11,
   "metadata": {},
   "outputs": [],
   "source": [
    "# generate a key\n",
    "# jax.random.key (new version of jax.random.PRNGKey) \n",
    "#   not working with tfp.substrates.jax.mcmc\n",
    "def a_key():\n",
    "    # return jax.random.key(random.randint(0, 1000_000))\n",
    "    return jax.random.PRNGKey(random.randint(0, 1000_000))"
   ]
  },
  {
   "cell_type": "code",
   "execution_count": null,
   "metadata": {},
   "outputs": [],
   "source": [
    "# jnp array replaces tf array\n",
    "# but jnp has yet no equivalant to tf.Variable() \n",
    "from tensorflow_probability.python.internal.backend import jax as tf"
   ]
  },
  {
   "cell_type": "code",
   "execution_count": null,
   "metadata": {},
   "outputs": [],
   "source": [
    "tf.Variable(3)"
   ]
  },
  {
   "cell_type": "markdown",
   "metadata": {},
   "source": [
    "## 4.1 Why normal distributions are normal"
   ]
  },
  {
   "cell_type": "markdown",
   "metadata": {},
   "source": [
    "### 4.1.1 Normal by addition"
   ]
  },
  {
   "cell_type": "markdown",
   "metadata": {},
   "source": [
    "##### Code 4.1\n",
    "\n",
    "This snippet is showing the notion of \"Normal distribution by Addition\""
   ]
  },
  {
   "cell_type": "code",
   "execution_count": null,
   "metadata": {},
   "outputs": [],
   "source": [
    "u1 = tfd.Uniform(low=-1.0, high=1.0)\n",
    "pos = jnp.sum(u1.sample(sample_shape=(16, 1000), seed=a_key()), axis=0)\n",
    "plot_density(pos)"
   ]
  },
  {
   "cell_type": "markdown",
   "metadata": {},
   "source": [
    "### 4.1.2 Normal by multiplication"
   ]
  },
  {
   "cell_type": "markdown",
   "metadata": {},
   "source": [
    "##### Code 4.2 & 4.3\n",
    "\n",
    "This snippet is showing the notion of \"Normal distribution by Multiplication\""
   ]
  },
  {
   "cell_type": "code",
   "execution_count": null,
   "metadata": {},
   "outputs": [],
   "source": [
    "u2 = tfd.Uniform(low=1.0, high=1.1)\n",
    "pos = jnp.prod(u2.sample(sample_shape=(12, 10000), seed=a_key()), axis=0)\n",
    "plot_density(pos)"
   ]
  },
  {
   "cell_type": "markdown",
   "metadata": {},
   "source": [
    "##### Code 4.4\n",
    "\n",
    "Continuation of the notion of \"Normal distribution by Multiplication\"\n",
    "\n",
    "Author explains that - \"The smaller the effect of a variable (locus in the example), the better the additive approximation will be\""
   ]
  },
  {
   "cell_type": "code",
   "execution_count": null,
   "metadata": {},
   "outputs": [],
   "source": [
    "big = jnp.prod(tfd.Uniform(low=1.0, high=1.5).sample(sample_shape=(12, 10000), \n",
    "                                                     seed=a_key()), axis=0)\n",
    "small = jnp.prod(tfd.Uniform(low=1.0, high=1.01).sample(sample_shape=(12, 10000), \n",
    "                                                        seed=a_key()), axis=0)\n",
    "\n",
    "_, ax = plt.subplots(1, 2, figsize=(8, 4))\n",
    "az.plot_kde(big, ax=ax[0])\n",
    "az.plot_kde(small, ax=ax[1]);"
   ]
  },
  {
   "cell_type": "markdown",
   "metadata": {},
   "source": [
    "### 4.1.3 Normal by log-multiplication"
   ]
  },
  {
   "cell_type": "markdown",
   "metadata": {},
   "source": [
    "##### Code 4.5\n",
    "\n",
    "This snippet is showing the notion of \"Normal distribution by log-multiplication\"\n",
    "\n",
    "Author explains - \"Large deviates that are multi- plied together do not produce Gaussian distributions, but they do tend to produce Gaussian distributions on the log scale. So even multiplicative interactions of large deviations can produce Gaussian distributions, once we measure the outcomes on the log scale.\""
   ]
  },
  {
   "cell_type": "code",
   "execution_count": null,
   "metadata": {},
   "outputs": [],
   "source": [
    "log_big = jnp.log(\n",
    "  jnp.prod(\n",
    "    tfd.Uniform(low=1.0, high=1.5).sample(sample_shape=(12, 10000), \n",
    "                                          seed=a_key()), axis=0))"
   ]
  },
  {
   "cell_type": "code",
   "execution_count": null,
   "metadata": {},
   "outputs": [],
   "source": [
    "_, ax = plt.subplots(1, 2, figsize=(8, 4))\n",
    "az.plot_kde(big, ax=ax[0])\n",
    "az.plot_kde(log_big, ax=ax[1])"
   ]
  },
  {
   "cell_type": "markdown",
   "metadata": {},
   "source": [
    "## 4.2 A language for describing models"
   ]
  },
  {
   "cell_type": "markdown",
   "metadata": {},
   "source": [
    "##### Code 4.6\n",
    "\n",
    "Here the globe tossing model is described again.\n",
    "\n",
    "$w$ = Observed count of water\n",
    "\n",
    "$n$ = Total number of tosses\n",
    "\n",
    "$p$ = Proportion of water on the globel\n",
    "\n",
    "\n",
    "This is the first introduction/usage of Bayes' Theorem\n"
   ]
  },
  {
   "cell_type": "code",
   "execution_count": null,
   "metadata": {},
   "outputs": [],
   "source": [
    "w, n = 6.0, 9.0\n",
    "\n",
    "p_grid = jnp.linspace(0.0, 1.0, 100)\n",
    "\n",
    "b1_dist = tfd.Binomial(total_count=n, probs=p_grid)\n",
    "u3_dist = tfd.Uniform(low=0.0, high=1.0)\n",
    "\n",
    "posterior = b1_dist.prob(w) * u3_dist.prob(p_grid)\n",
    "posterior = posterior / jnp.sum(posterior)\n",
    "\n",
    "plt.plot(p_grid, posterior)\n",
    "plt.xlabel(\"p\")\n",
    "plt.ylabel(\"Density\")"
   ]
  },
  {
   "cell_type": "markdown",
   "metadata": {},
   "source": [
    "## 4.3 Gaussian model of height"
   ]
  },
  {
   "cell_type": "markdown",
   "metadata": {},
   "source": [
    "### 4.3.1 The data"
   ]
  },
  {
   "cell_type": "markdown",
   "metadata": {},
   "source": [
    "##### Code 4.7, 4.8 \n",
    "\n",
    "\n",
    "We are now building the Gaussian model of height\n"
   ]
  },
  {
   "cell_type": "code",
   "execution_count": null,
   "metadata": {},
   "outputs": [],
   "source": [
    "d = RethinkingDataset.Howell1.get_dataset()\n",
    "d.head()"
   ]
  },
  {
   "cell_type": "markdown",
   "metadata": {},
   "source": [
    "##### Code 4.9"
   ]
  },
  {
   "cell_type": "code",
   "execution_count": null,
   "metadata": {},
   "outputs": [],
   "source": [
    "az.summary(d.to_dict(orient=\"list\"), kind=\"stats\", hdi_prob=0.89)"
   ]
  },
  {
   "cell_type": "markdown",
   "metadata": {},
   "source": [
    "##### Code 4.10\n",
    "\n",
    "For now we are going to work only with the height columns so let's look at it"
   ]
  },
  {
   "cell_type": "code",
   "execution_count": null,
   "metadata": {},
   "outputs": [],
   "source": [
    "d.height.head()"
   ]
  },
  {
   "cell_type": "markdown",
   "metadata": {},
   "source": [
    "##### Code 4.11\n",
    "\n",
    "We are only interested in the heights of adults only (for the time being; we will incorporate the whole dataset later)"
   ]
  },
  {
   "cell_type": "code",
   "execution_count": null,
   "metadata": {},
   "outputs": [],
   "source": [
    "d2 = d[d.age >= 18]"
   ]
  },
  {
   "cell_type": "markdown",
   "metadata": {},
   "source": [
    "### 4.3.2 The model"
   ]
  },
  {
   "cell_type": "markdown",
   "metadata": {},
   "source": [
    "##### Code 4.12 & 4.13\n",
    "\n",
    "Author explains that whatever is your prior, it's a very good idea to always plot it. This way we will have a better\n",
    "sense of our model.\n",
    "\n",
    "Here we have assumed certain values for our priors and as per the instruction plotting them"
   ]
  },
  {
   "cell_type": "code",
   "execution_count": null,
   "metadata": {},
   "outputs": [],
   "source": [
    "_, (ax1, ax2) = plt.subplots(1, 2, figsize=(8, 4))\n",
    "\n",
    "x = jnp.linspace(100.0, 250.0, 100)\n",
    "mu_prior = tfd.Normal(loc=178.0, scale=20.0)\n",
    "ax1.set_title(\"Prior for mu\")\n",
    "ax1.plot(x, mu_prior.prob(x))\n",
    "\n",
    "x = jnp.linspace(-10.0, 60.0, 100)\n",
    "scale_prior = tfd.Uniform(low=0.0, high=50.0)\n",
    "ax2.set_title(\"Prior for scale/sigma\")\n",
    "ax2.plot(x, scale_prior.prob(x))"
   ]
  },
  {
   "cell_type": "markdown",
   "metadata": {},
   "source": [
    "##### Code 4.14\n",
    "\n",
    "In the above section we have chosen priors for $h$, $\\mu$, $\\sigma$ and even plotted them. It is also important to now see what kind of distribution these assumptions generate. This is called **PRIOR PREDICTIVE simulation** and is important part of modelling."
   ]
  },
  {
   "cell_type": "code",
   "execution_count": null,
   "metadata": {},
   "outputs": [],
   "source": [
    "# plot the joint distribution of h, mu and sigma\n",
    "n_samples = 1000\n",
    "\n",
    "sample_mu = tfd.Normal(loc=178.0, scale=20.0).sample(n_samples, seed=a_key())\n",
    "sample_sigma = tfd.Uniform(low=0.0, high=50.0).sample(n_samples, seed=a_key())\n",
    "prior_h = tfd.Normal(loc=sample_mu, scale=sample_sigma).sample(seed=a_key())\n",
    "\n",
    "az.plot_kde(prior_h)"
   ]
  },
  {
   "cell_type": "markdown",
   "metadata": {},
   "source": [
    "##### Code 4.15\n",
    "\n",
    "As mentioned in above cell the prior predictive simulation is helpful in assigning sensible priors. Here we see if we change the scale for *sample_mu* to 100 (instead of using 20 as in the above cell)"
   ]
  },
  {
   "cell_type": "code",
   "execution_count": null,
   "metadata": {},
   "outputs": [],
   "source": [
    "# plot the joint distribution of h, mu and sigma\n",
    "n_samples = 1000\n",
    "\n",
    "sample_mu = tfd.Normal(loc=178.0, scale=100.0).sample(n_samples, seed=a_key())\n",
    "sample_sigma = tfd.Uniform(low=0.0, high=50.0).sample(n_samples, seed=a_key())\n",
    "prior_h = tfd.Normal(loc=sample_mu, scale=sample_sigma).sample(seed=a_key())\n",
    "\n",
    "az.plot_kde(prior_h)"
   ]
  },
  {
   "cell_type": "markdown",
   "metadata": {},
   "source": [
    "Now, what the above plot is showing that there are about 4% of people that have a **negative height** and about 18% on the right side have height not common at all for humans to attain ! So clearly this choice of scale (i.e. 100) is not a good one as the prior. "
   ]
  },
  {
   "cell_type": "markdown",
   "metadata": {},
   "source": [
    "### 4.3.3 Grid approximation of the posterior distribution"
   ]
  },
  {
   "cell_type": "markdown",
   "metadata": {},
   "source": [
    "##### Code 4.16\n",
    "\n",
    "Here we are doing **Grid approximation of the posterior distribution**. A very crude technique that may work for small/simple models. It is customary to do it to make a point but later we will use well established inference methods based on MCMC and VI"
   ]
  },
  {
   "cell_type": "code",
   "execution_count": null,
   "metadata": {},
   "outputs": [],
   "source": [
    "def compute_likelihood(mu, sigma, sample_data):\n",
    "    def _compute(mu, sigma, sample_data):\n",
    "        norm_dist = tfd.Normal(loc=mu, scale=sigma)\n",
    "        return jnp.sum(norm_dist.log_prob(sample_data))\n",
    "\n",
    "    return jax.vmap(_compute, in_axes=(0, 0, None))(mu, sigma, sample_data)\n",
    "\n",
    "\n",
    "def grid_approximation(sample_data, mu_start=150.0, mu_stop=160.0, \n",
    "                       sigma_start=7.0, sigma_stop=9.0):\n",
    "    mu_list = jnp.linspace(start=mu_start, stop=mu_stop, num=200)\n",
    "    sigma_list = jnp.linspace(start=sigma_start, stop=sigma_stop, num=200)\n",
    "\n",
    "    mesh = jnp.meshgrid(mu_list, sigma_list)\n",
    "    mu = jnp.reshape(mesh[0], -1)\n",
    "    sigma = jnp.reshape(mesh[1], -1)\n",
    "\n",
    "    log_likelihood = compute_likelihood(mu, sigma, sample_data)\n",
    "\n",
    "    logprob_mu = tfd.Normal(178.0, 20.0).log_prob(mu)\n",
    "    logprob_sigma = tfd.Uniform(low=0.0, high=50.0).log_prob(sigma)\n",
    "\n",
    "    log_joint_prod = log_likelihood + logprob_mu + logprob_sigma\n",
    "    joint_prob = jnp.exp(log_joint_prod - jnp.max(log_joint_prod))\n",
    "\n",
    "    return mesh, joint_prob"
   ]
  },
  {
   "cell_type": "code",
   "execution_count": null,
   "metadata": {},
   "outputs": [],
   "source": [
    "mesh, joint_prob = grid_approximation(d2.height.values)"
   ]
  },
  {
   "cell_type": "markdown",
   "metadata": {},
   "source": [
    "##### Code 4.17\n",
    "\n",
    "Make a contour plot"
   ]
  },
  {
   "cell_type": "code",
   "execution_count": null,
   "metadata": {},
   "outputs": [],
   "source": [
    "reshaped_joint_prob = jnp.reshape(joint_prob, (200, 200))\n",
    "plt.contour(*mesh, reshaped_joint_prob)"
   ]
  },
  {
   "cell_type": "markdown",
   "metadata": {},
   "source": [
    "##### Code 4.18\n",
    "\n",
    "Here we are plotting a heatmap instead of contour plot"
   ]
  },
  {
   "cell_type": "code",
   "execution_count": null,
   "metadata": {},
   "outputs": [],
   "source": [
    "plt.imshow(reshaped_joint_prob, origin=\"lower\", extent=(150, 160, 7, 9), aspect=\"auto\")"
   ]
  },
  {
   "cell_type": "markdown",
   "metadata": {},
   "source": [
    "### 4.3.4 Sampling from the posterior"
   ]
  },
  {
   "cell_type": "markdown",
   "metadata": {},
   "source": [
    "##### Code 4.19 & 4.20\n",
    "\n",
    "We are at point of now **Sampling from the Posterior**"
   ]
  },
  {
   "cell_type": "code",
   "execution_count": null,
   "metadata": {},
   "outputs": [],
   "source": [
    "joint_prob.shape, joint_prob[:10]"
   ]
  },
  {
   "cell_type": "code",
   "execution_count": null,
   "metadata": {},
   "outputs": [],
   "source": [
    "# This is a trick to sample row numbers randomly with the help of Categorical distribution\n",
    "sample_rows = tfd.Categorical(probs=(joint_prob / jnp.sum(joint_prob))).sample(\n",
    "  100_00, seed=a_key())\n",
    "sample_rows"
   ]
  },
  {
   "cell_type": "code",
   "execution_count": null,
   "metadata": {},
   "outputs": [],
   "source": [
    "mu = mesh[0].reshape(-1)\n",
    "sigma = mesh[1].reshape(-1)\n",
    "\n",
    "# We are sampling 2 parameters here from the selected rows\n",
    "sample_mu = mu[sample_rows]\n",
    "sample_sigma = sigma[sample_rows]\n",
    "\n",
    "plt.scatter(sample_mu, sample_sigma, s=64, alpha=0.1, edgecolor=\"none\")"
   ]
  },
  {
   "cell_type": "markdown",
   "metadata": {},
   "source": [
    "##### Code 4.21\n",
    "\n",
    "Time to summarize/describe the distribution of confidence in each combination of $\\mu$ & $\\sigma$ using the samples."
   ]
  },
  {
   "cell_type": "code",
   "execution_count": null,
   "metadata": {},
   "outputs": [],
   "source": [
    "_, ax = plt.subplots(1, 2, figsize=(8, 4))\n",
    "az.plot_kde(sample_mu, ax=ax[0])\n",
    "ax[0].set_xlabel(\"sample_mu\")\n",
    "ax[0].set_yticks([])\n",
    "az.plot_kde(sample_sigma, ax=ax[1])\n",
    "ax[1].set_xlabel(\"sample_sigma\")\n",
    "ax[1].set_yticks([])"
   ]
  },
  {
   "cell_type": "markdown",
   "metadata": {},
   "source": [
    "As should be clear from the plot, the densities here are very close *normal distribution*. As sample size increases, posterior densities show this behavior. \n",
    "\n",
    "Pay attention to sample_sigma, density of it has a **longer right-hand tail**. Author mentions here that this condition is very common for standard deviation parameters. No explanation about it at this point of time."
   ]
  },
  {
   "cell_type": "markdown",
   "metadata": {},
   "source": [
    "##### Code 4.22\n",
    "\n",
    "Now we want to summarize the widths of these densities with **posterior compatibility intervals**"
   ]
  },
  {
   "cell_type": "code",
   "execution_count": null,
   "metadata": {},
   "outputs": [],
   "source": [
    "type(sample_mu), type(sample_mu.__array__()), type(jax.device_get(sample_mu))"
   ]
  },
  {
   "cell_type": "markdown",
   "metadata": {},
   "source": [
    "### 4.3.5 Finding the posterior distribution using quap"
   ]
  },
  {
   "cell_type": "markdown",
   "metadata": {},
   "source": [
    "### 4.3.5 Finding the posterior distribution using quap"
   ]
  },
  {
   "cell_type": "code",
   "execution_count": null,
   "metadata": {},
   "outputs": [],
   "source": [
    "print(\"sample_mu -\", az.hdi(sample_mu.__array__()))\n",
    "print(\"sample_sigma -\", az.hdi(jax.device_get(sample_sigma)))"
   ]
  },
  {
   "cell_type": "markdown",
   "metadata": {},
   "source": [
    "##### Code 4.23 & Code 4.24\n",
    "\n",
    "Author now wants to use Quadratic approximation but he wants to make a point about using it and impact of $\\sigma$ on this approximation.\n",
    "\n",
    "Here the above analysis of the height data is repeated but with only a fraction of original data. The reasoning behind is to demonstrate that, in principle, the posterior is not always Gaussian in shape.\n",
    "\n",
    "Author explains that for a Guassian $\\mu$ & Gaussian likelihood the shape is always Gaussian irrespective of the sample size but it is the $\\sigma$ that causes problems."
   ]
  },
  {
   "cell_type": "code",
   "execution_count": null,
   "metadata": {},
   "outputs": [],
   "source": [
    "# We just get 20 samples for now and repeat our exercise\n",
    "d3 = d2.height.sample(n=20)"
   ]
  },
  {
   "cell_type": "code",
   "execution_count": null,
   "metadata": {},
   "outputs": [],
   "source": [
    "mesh2, joint_prob2 = grid_approximation(\n",
    "    d3.values,\n",
    "    mu_start=150.0,\n",
    "    mu_stop=170.0,\n",
    "    sigma_start=4.0,\n",
    "    sigma_stop=20.0)"
   ]
  },
  {
   "cell_type": "code",
   "execution_count": null,
   "metadata": {},
   "outputs": [],
   "source": [
    "mu2 = mesh2[0].reshape(-1)\n",
    "sigma2 = mesh2[1].reshape(-1)\n",
    "\n",
    "# We are sampling 2 parameters here from the selected rows\n",
    "sample_mu2 = mu2[sample_rows]\n",
    "sample_sigma2 = sigma2[sample_rows]\n",
    "\n",
    "plt.scatter(sample_mu2, sample_sigma2, s=64, alpha=0.1, edgecolor=\"none\")"
   ]
  },
  {
   "cell_type": "markdown",
   "metadata": {},
   "source": [
    "##### Code 4.25"
   ]
  },
  {
   "cell_type": "code",
   "execution_count": null,
   "metadata": {},
   "outputs": [],
   "source": [
    "_, ax = plt.subplots(1, 2, figsize=(8, 4))\n",
    "az.plot_kde(sample_mu2, ax=ax[0])\n",
    "ax[0].set_xlabel(\"sample_mu2\")\n",
    "ax[0].set_yticks([])\n",
    "az.plot_kde(sample_sigma2, ax=ax[1])\n",
    "ax[1].set_xlabel(\"sample_sigma2\")\n",
    "ax[1].set_yticks([])"
   ]
  },
  {
   "cell_type": "code",
   "execution_count": null,
   "metadata": {},
   "outputs": [],
   "source": [
    "az.plot_kde(sample_sigma2)\n",
    "x = jnp.sort(sample_sigma2)\n",
    "plt.plot(x, tfd.Normal(loc=jnp.mean(x), scale=jnp.std(x)).prob(x), \"--\")"
   ]
  },
  {
   "cell_type": "markdown",
   "metadata": {},
   "source": [
    "### 4.3.5 Finding the posterior distribution using quap"
   ]
  },
  {
   "cell_type": "markdown",
   "metadata": {},
   "source": [
    "##### Code 4.26\n",
    "\n",
    "We will reload our data frame and start to use quadratic approximiation now"
   ]
  },
  {
   "cell_type": "code",
   "execution_count": null,
   "metadata": {},
   "outputs": [],
   "source": [
    "d = RethinkingDataset.Howell1.get_dataset()\n",
    "d2 = d[d.age > 18]"
   ]
  },
  {
   "cell_type": "markdown",
   "metadata": {},
   "source": [
    "##### Code 4.27\n",
    "\n",
    "We are now ready to define our model using tensorflow probability.\n",
    "\n",
    "\n",
    "There are few ways to define a model using tfp, I am going to use a variant\n",
    "of JointSequential that uses Coroutines (generator) based syntax. However, you can always\n",
    "define as a plain function and return log probs yourself. An example of plain function that would be \n",
    "\n",
    "```python\n",
    "def joint_log_prob_model(mu, sigma, data):\n",
    "  mu_dist = tfd.Normal(loc=178., scale=20.)\n",
    "  sigma_dist = tfd.Uniform(low=0., high=50.)\n",
    "  height_dist = tfd.Normal(loc=mu, scale=sigma)\n",
    "  \n",
    "  return (\n",
    "      mu_dist.log_prob(mu) +\n",
    "      sigma_dist.log_prob(sigma) +           \n",
    "      tf.reduce_sum(height_dist.log_prob(data)) \n",
    "  )\n",
    "```"
   ]
  },
  {
   "cell_type": "markdown",
   "metadata": {},
   "source": [
    "##### Code 4.28"
   ]
  },
  {
   "cell_type": "code",
   "execution_count": null,
   "metadata": {},
   "outputs": [],
   "source": [
    "n_sample = d2.shape[0]"
   ]
  },
  {
   "cell_type": "markdown",
   "metadata": {},
   "source": [
    "# using JointDistributionNamedAutoBatched"
   ]
  },
  {
   "cell_type": "code",
   "execution_count": null,
   "metadata": {},
   "outputs": [],
   "source": [
    "m41 = dict(\n",
    "    mu = tfd.Normal(loc=178.0, scale=20.0),\n",
    "    sigma = tfd.Uniform(low=0.0, high=50.0),\n",
    "    height = lambda mu, sigma: tfd.Sample(tfd.Normal(loc=mu, scale=sigma), n_sample)\n",
    ")\n",
    "\n",
    "jd_4_1_N = tfd.JointDistributionNamedAutoBatched(m41)"
   ]
  },
  {
   "cell_type": "code",
   "execution_count": null,
   "metadata": {},
   "outputs": [],
   "source": [
    "jd_4_1_N.sample(seed=a_key())"
   ]
  },
  {
   "cell_type": "code",
   "execution_count": null,
   "metadata": {},
   "outputs": [],
   "source": [
    "# sample of 'Named': dictionary\n",
    "type(jd_4_1_N.sample(seed=a_key()))"
   ]
  },
  {
   "cell_type": "code",
   "execution_count": null,
   "metadata": {},
   "outputs": [],
   "source": [
    "# mcmc.sample_chain(current_state): Tensor or Python list of Tensor\n",
    "#  - error when dict input \n",
    "# a list of two jnp.array\n",
    "init_state = [jd_4_1_N.sample(seed=a_key())[s] for s in [\"mu\", \"sigma\"]]\n",
    "init_state"
   ]
  },
  {
   "cell_type": "code",
   "execution_count": null,
   "metadata": {},
   "outputs": [],
   "source": [
    "# Match the function args with the init_state\n",
    "# init_state(a list of two jnp.array) be interpreted as \"mu\" and \"sigma\"\n",
    "def target_log_prob(mu, sigma):\n",
    "    # sample of 'Named': dictionary\n",
    "    samples = {\"mu\": mu, \"sigma\": sigma, \"height\": jnp.array(d2[\"height\"])}\n",
    "    return jd_4_1_N.log_prob(samples)"
   ]
  },
  {
   "cell_type": "code",
   "execution_count": null,
   "metadata": {},
   "outputs": [],
   "source": [
    "kernel = tfp.mcmc.HamiltonianMonteCarlo(\n",
    "    target_log_prob_fn=target_log_prob,\n",
    "    step_size=0.2, \n",
    "    num_leapfrog_steps=2)"
   ]
  },
  {
   "cell_type": "code",
   "execution_count": null,
   "metadata": {},
   "outputs": [],
   "source": [
    "states = tfp.mcmc.sample_chain(\n",
    "    1000,\n",
    "    current_state=init_state,\n",
    "    kernel=kernel,\n",
    "    num_burnin_steps=200,\n",
    "    trace_fn=None,\n",
    "    seed=a_key())"
   ]
  },
  {
   "cell_type": "code",
   "execution_count": null,
   "metadata": {},
   "outputs": [],
   "source": [
    "states"
   ]
  },
  {
   "cell_type": "code",
   "execution_count": null,
   "metadata": {},
   "outputs": [],
   "source": [
    "states_dict = dict(zip([\"mu\", \"sigma\"], states))"
   ]
  },
  {
   "cell_type": "code",
   "execution_count": null,
   "metadata": {},
   "outputs": [],
   "source": [
    "az.summary(states_dict, round_to=2, kind=\"stats\", hdi_prob=0.89)"
   ]
  },
  {
   "cell_type": "code",
   "execution_count": null,
   "metadata": {},
   "outputs": [],
   "source": [
    "# shape of mcmc.sample_chain output depends on shape of init_state\n",
    "init_state = jnp.concatenate(\n",
    "  [jnp.expand_dims(s, axis=0) for s in init_state if jnp.ndim(s)==0])\n",
    "# an jnp.array of two elements\n",
    "init_state"
   ]
  },
  {
   "cell_type": "code",
   "execution_count": null,
   "metadata": {},
   "outputs": [],
   "source": [
    "# def target_log_prob(mu, sigma):\n",
    "def target_log_prob(states):\n",
    "    mu, sigma = states\n",
    "    states = {\"mu\": mu, \"sigma\": sigma, \"height\": jnp.array(d2[\"height\"])}\n",
    "    return jd_4_1_N.log_prob(states)"
   ]
  },
  {
   "cell_type": "code",
   "execution_count": null,
   "metadata": {},
   "outputs": [],
   "source": [
    "kernel = tfp.mcmc.HamiltonianMonteCarlo(\n",
    "    target_log_prob_fn=target_log_prob,\n",
    "    step_size=0.2, \n",
    "    num_leapfrog_steps=2)"
   ]
  },
  {
   "cell_type": "code",
   "execution_count": null,
   "metadata": {},
   "outputs": [],
   "source": [
    "states = tfp.mcmc.sample_chain(\n",
    "    1000,\n",
    "    current_state=init_state,\n",
    "    kernel=kernel,\n",
    "    num_burnin_steps=200,\n",
    "    trace_fn=None,\n",
    "    seed=a_key())"
   ]
  },
  {
   "cell_type": "code",
   "execution_count": null,
   "metadata": {},
   "outputs": [],
   "source": [
    "states"
   ]
  },
  {
   "cell_type": "markdown",
   "metadata": {},
   "source": [
    "# using JointDistributionCoroutineAutoBatched"
   ]
  },
  {
   "cell_type": "code",
   "execution_count": null,
   "metadata": {},
   "outputs": [],
   "source": [
    "def m41c():\n",
    "    mu = yield tfd.Normal(loc=178.0, scale=20.0, name=\"mu\")\n",
    "    sigma = yield tfd.Uniform(low=0.0, high=50.0, name=\"sigma\")\n",
    "    height = yield tfd.Sample(tfd.Normal(loc=mu, scale=sigma), n_sample, name=\"height\")\n",
    "\n",
    "jd_4_1_C = tfd.JointDistributionCoroutineAutoBatched(m41c)"
   ]
  },
  {
   "cell_type": "code",
   "execution_count": null,
   "metadata": {},
   "outputs": [],
   "source": [
    "# 'Couroutine' sample: StructTuple\n",
    "init2 = jd_4_1_C.sample(seed=a_key())\n",
    "init2"
   ]
  },
  {
   "cell_type": "code",
   "execution_count": null,
   "metadata": {},
   "outputs": [],
   "source": [
    "type(init2)"
   ]
  },
  {
   "cell_type": "code",
   "execution_count": null,
   "metadata": {},
   "outputs": [],
   "source": [
    "# seemingly a NamedTuple\n",
    "init2.mu, init2.sigma"
   ]
  },
  {
   "cell_type": "code",
   "execution_count": null,
   "metadata": {},
   "outputs": [],
   "source": [
    "init2[:-1]"
   ]
  },
  {
   "cell_type": "code",
   "execution_count": null,
   "metadata": {},
   "outputs": [],
   "source": [
    "# a NamedTuple for Coroutine.log_prob()\n",
    "StateTuple = namedtuple(\"StateTuple\", [\"mu\", \"sigma\", \"height\"])"
   ]
  },
  {
   "cell_type": "code",
   "execution_count": null,
   "metadata": {},
   "outputs": [],
   "source": [
    "# mcmc.sample_chain() can interpret NamedTuple, so two args needed\n",
    "def target_log_prob(mu, sigma):\n",
    "    params = {\"mu\": mu, \"sigma\": sigma, \"height\": jnp.array(d2[\"height\"])}\n",
    "    return jd_4_1_C.log_prob(StateTuple(**params))"
   ]
  },
  {
   "cell_type": "code",
   "execution_count": null,
   "metadata": {},
   "outputs": [],
   "source": [
    "kernel = tfp.mcmc.HamiltonianMonteCarlo(\n",
    "    target_log_prob_fn=target_log_prob,\n",
    "    step_size=0.2, \n",
    "    num_leapfrog_steps=2\n",
    ")"
   ]
  },
  {
   "cell_type": "code",
   "execution_count": null,
   "metadata": {},
   "outputs": [],
   "source": [
    "init2 = init2[:-1]"
   ]
  },
  {
   "cell_type": "code",
   "execution_count": null,
   "metadata": {},
   "outputs": [],
   "source": [
    "states2 = tfp.mcmc.sample_chain(\n",
    "    1000,\n",
    "    current_state=init2,\n",
    "    kernel=kernel,\n",
    "    num_burnin_steps=200,\n",
    "    trace_fn=None,\n",
    "    seed=a_key()\n",
    ")"
   ]
  },
  {
   "cell_type": "code",
   "execution_count": null,
   "metadata": {},
   "outputs": [],
   "source": [
    "states2"
   ]
  },
  {
   "cell_type": "code",
   "execution_count": null,
   "metadata": {},
   "outputs": [],
   "source": [
    "az.summary(states2._asdict(), round_to=2, kind=\"stats\", hdi_prob=0.89)"
   ]
  },
  {
   "cell_type": "markdown",
   "metadata": {},
   "source": [
    "These numbers shown above provide Gaussian approximations for each parameter’s marginal distribution."
   ]
  },
  {
   "cell_type": "markdown",
   "metadata": {},
   "source": [
    "# a 'jit' version"
   ]
  },
  {
   "cell_type": "code",
   "execution_count": null,
   "metadata": {},
   "outputs": [],
   "source": [
    "# def run_chain(init_state, key):\n",
    "#     target_log_prob = target_log_prob(...)\n",
    "#     kernel = tfp.mcmc.HamiltonianMonteCarlo(...)\n",
    "#     return tfp.mcmc.sample_chain(...)\n",
    "\n",
    "# states = jax.jit(run_chain)(init_state, key)"
   ]
  },
  {
   "cell_type": "code",
   "execution_count": null,
   "metadata": {},
   "outputs": [],
   "source": [
    "tfd.Sample(tfd.Normal(loc=0., scale=1.), (2,)).sample(seed=a_key())"
   ]
  },
  {
   "cell_type": "code",
   "execution_count": null,
   "metadata": {},
   "outputs": [],
   "source": [
    "jnp.array([[3,2]]).shape"
   ]
  },
  {
   "cell_type": "markdown",
   "metadata": {},
   "source": [
    "##### Code 4.30\n",
    "\n",
    "What should be the starting values for the sampling ?\n",
    "\n",
    "Author recommends that we could use the mean from the dataframe"
   ]
  },
  {
   "cell_type": "markdown",
   "metadata": {},
   "source": [
    "##### Code 4.31"
   ]
  },
  {
   "cell_type": "code",
   "execution_count": null,
   "metadata": {},
   "outputs": [],
   "source": [
    "model_4_2 = dict(\n",
    "    # mu = tfd.Normal(loc=178.0, scale=20.0),\n",
    "    mu = tfd.Normal(loc=178.0, scale=0.1),\n",
    "    sigma = tfd.Uniform(low=0.0, high=50.0),\n",
    "    height = lambda mu, sigma: tfd.Sample(tfd.Normal(loc=mu, scale=sigma), n_sample)\n",
    ")\n",
    "\n",
    "jdc_4_2 = tfd.JointDistributionNamedAutoBatched(model_4_2)"
   ]
  },
  {
   "cell_type": "code",
   "execution_count": null,
   "metadata": {},
   "outputs": [],
   "source": [
    "num_burnin_steps = 0\n",
    "num_results = 1000\n",
    "step_size = 0.1"
   ]
  },
  {
   "cell_type": "code",
   "execution_count": null,
   "metadata": {},
   "outputs": [],
   "source": [
    "init_state = [jdc_4_2.sample(seed=a_key())[s] for s in [\"mu\", \"sigma\"]]"
   ]
  },
  {
   "cell_type": "code",
   "execution_count": null,
   "metadata": {},
   "outputs": [],
   "source": [
    "def target_log_prob(mu, sigma):\n",
    "    samples = {\"mu\": mu, \"sigma\": sigma, \"height\": d2.height.values}\n",
    "    return jdc_4_2.log_prob(samples)"
   ]
  },
  {
   "cell_type": "code",
   "execution_count": null,
   "metadata": {},
   "outputs": [],
   "source": [
    "kernel = tfp.mcmc.HamiltonianMonteCarlo(\n",
    "    target_log_prob_fn=target_log_prob,\n",
    "    step_size=step_size, \n",
    "    num_leapfrog_steps=2)\n",
    "\n",
    "kernel = tfp.mcmc.SimpleStepSizeAdaptation(\n",
    "    inner_kernel=kernel, num_adaptation_steps=int(num_burnin_steps * 0.8))"
   ]
  },
  {
   "cell_type": "code",
   "execution_count": null,
   "metadata": {},
   "outputs": [],
   "source": [
    "states, [step_size, log_accept_ratio] = tfp.mcmc.sample_chain(\n",
    "    num_results=num_results,\n",
    "    current_state=init_state,\n",
    "    kernel=kernel,\n",
    "    num_burnin_steps=num_burnin_steps,\n",
    "    trace_fn=lambda _, pkr: [pkr.inner_results.accepted_results.step_size,\n",
    "                             pkr.inner_results.log_accept_ratio],\n",
    "    seed=a_key())"
   ]
  },
  {
   "cell_type": "code",
   "execution_count": null,
   "metadata": {},
   "outputs": [],
   "source": [
    "jnp.unique(step_size)"
   ]
  },
  {
   "cell_type": "code",
   "execution_count": null,
   "metadata": {},
   "outputs": [],
   "source": [
    "jnp.exp(tfp.math.reduce_logmeanexp(jnp.minimum(log_accept_ratio, 0.)))"
   ]
  },
  {
   "cell_type": "code",
   "execution_count": null,
   "metadata": {},
   "outputs": [],
   "source": [
    "states_dict = dict(zip([\"mu\", \"sigma\"], [jax.device_get(s) for s in states]))"
   ]
  },
  {
   "cell_type": "code",
   "execution_count": null,
   "metadata": {},
   "outputs": [],
   "source": [
    "az.summary(states_dict, round_to=2, kind=\"stats\", hdi_prob=0.89)"
   ]
  },
  {
   "cell_type": "markdown",
   "metadata": {},
   "source": [
    "Taken verbatim from the book :\n",
    "\n",
    "Notice that the estimate for μ has hardly moved off the prior. The prior was very concentrated around 178. So this is not surprising. But also notice that the estimate for σ has changed quite a lot, even though we didn’t change its prior at all. Once the golem is certain that the mean is near 178—as the prior insists—then the golem has to estimate σ conditional on that fact. This results in a different posterior for σ, even though all we changed is prior information about the other parameter."
   ]
  },
  {
   "cell_type": "code",
   "execution_count": null,
   "metadata": {},
   "outputs": [],
   "source": [
    "d = RethinkingDataset.Howell1.get_dataset()\n",
    "d2 = d[d.age > 18]"
   ]
  },
  {
   "cell_type": "code",
   "execution_count": null,
   "metadata": {},
   "outputs": [],
   "source": [
    "n_sample = d2.shape[0]"
   ]
  },
  {
   "cell_type": "code",
   "execution_count": null,
   "metadata": {},
   "outputs": [],
   "source": [
    "m41 = dict(\n",
    "    mu = tfd.Normal(loc=178.0, scale=20.0),\n",
    "    sigma = tfd.Uniform(low=0.0, high=50.0),\n",
    "    height = lambda mu, sigma: tfd.Sample(tfd.Normal(loc=mu, scale=sigma), n_sample)\n",
    ")\n",
    "\n",
    "jd_4_1 = tfd.JointDistributionNamedAutoBatched(m41)"
   ]
  },
  {
   "cell_type": "code",
   "execution_count": null,
   "metadata": {},
   "outputs": [],
   "source": [
    "state_name = \"mu\", \"sigma\""
   ]
  },
  {
   "cell_type": "code",
   "execution_count": null,
   "metadata": {},
   "outputs": [],
   "source": [
    "def target_log_prob_41(mu, sigma):\n",
    "    sample = dict(zip(state_name, (mu, sigma)), height = d2.height.values)\n",
    "    return jd_4_1.log_prob(sample)"
   ]
  },
  {
   "cell_type": "code",
   "execution_count": null,
   "metadata": {},
   "outputs": [],
   "source": [
    "num_burnin_steps = 500\n",
    "num_results = 500\n",
    "step_size = 0.2"
   ]
  },
  {
   "cell_type": "code",
   "execution_count": null,
   "metadata": {},
   "outputs": [],
   "source": [
    "kernel_41 = tfp.mcmc.HamiltonianMonteCarlo(\n",
    "    target_log_prob_fn=target_log_prob_41,\n",
    "    step_size=step_size,\n",
    "    num_leapfrog_steps=2)\n",
    "\n",
    "kernel_41 = tfp.mcmc.SimpleStepSizeAdaptation(\n",
    "    inner_kernel=kernel_41, num_adaptation_steps=int(num_burnin_steps * 0.8))"
   ]
  },
  {
   "cell_type": "code",
   "execution_count": null,
   "metadata": {},
   "outputs": [],
   "source": [
    "# - init_state = [jnp.zeros(()), jnp.zeros(())]\n",
    "#   : stay at zero, bad initial\n",
    "# - init_state = [jd_4_1.sample((), seed=a_key())[s] for s in state_name]\n",
    "#   : a safe way"
   ]
  },
  {
   "cell_type": "code",
   "execution_count": null,
   "metadata": {},
   "outputs": [],
   "source": [
    "# number of chains: 3\n",
    "init_state = [jd_4_1.sample((3,), seed=a_key())[s] for s in state_name]\n",
    "init_state"
   ]
  },
  {
   "cell_type": "code",
   "execution_count": null,
   "metadata": {},
   "outputs": [],
   "source": [
    "states_41 = tfp.mcmc.sample_chain(\n",
    "    num_results=num_results,\n",
    "    current_state=init_state,\n",
    "    kernel=kernel_41,\n",
    "    num_burnin_steps=num_burnin_steps,\n",
    "    trace_fn=None,\n",
    "    seed=a_key())\n",
    "\n",
    "states_41"
   ]
  },
  {
   "cell_type": "code",
   "execution_count": null,
   "metadata": {},
   "outputs": [],
   "source": [
    "# tfp.mcmc.sample_chain output shape: (sample, batch, event)\n",
    "#  == in terms of arviz, (draws, chains, *shape)\n",
    "# arvis input shape: (chains, draws, *shape)\n",
    "states_41 = [jnp.moveaxis(s, 0, 1) for s in states_41]"
   ]
  },
  {
   "cell_type": "markdown",
   "metadata": {},
   "source": [
    "## 4.4 Linear prediction"
   ]
  },
  {
   "cell_type": "code",
   "execution_count": null,
   "metadata": {},
   "outputs": [],
   "source": [
    "states_41_dict = dict(zip(state_name, states_41))"
   ]
  },
  {
   "cell_type": "code",
   "execution_count": null,
   "metadata": {},
   "outputs": [],
   "source": [
    "# stats for all chains\n",
    "az.summary(states_41_dict, round_to=2, kind=\"stats\", hdi_prob=0.89)"
   ]
  },
  {
   "cell_type": "code",
   "execution_count": null,
   "metadata": {},
   "outputs": [],
   "source": [
    "# stats for the first chains\n",
    "az.summary(dict(mu=states_41_dict['mu'][0], sigma=states_41_dict['sigma'][0]), \n",
    "           round_to=2, kind=\"stats\", hdi_prob=0.89)"
   ]
  },
  {
   "cell_type": "code",
   "execution_count": null,
   "metadata": {},
   "outputs": [],
   "source": [
    "az.plot_trace(states_41_dict)"
   ]
  },
  {
   "cell_type": "markdown",
   "metadata": {},
   "source": [
    "##### Code 4.32\n",
    "\n",
    "\n",
    "Now this approximation of posterior is multi-dimension where $\\mu$ and $\\sigma$ are contributing a dimension each. In other words, we have a multi-dimensional gaussian distribution\n",
    "\n",
    "Since it is multi-dimensional, let's see the covariances between the parameters"
   ]
  },
  {
   "cell_type": "code",
   "execution_count": null,
   "metadata": {},
   "outputs": [],
   "source": [
    "az.plot_pair(states_41_dict)"
   ]
  },
  {
   "cell_type": "code",
   "execution_count": null,
   "metadata": {},
   "outputs": [],
   "source": [
    "sample_mu, sample_sigma = states_41_dict['mu'][0], states_41_dict['sigma'][0]\n",
    "cov_41 = tfp.stats.covariance(jnp.stack([sample_mu, sample_sigma], axis=1))\n",
    "cov_41"
   ]
  },
  {
   "cell_type": "markdown",
   "metadata": {},
   "source": [
    "##### Code 4.33"
   ]
  },
  {
   "cell_type": "code",
   "execution_count": null,
   "metadata": {},
   "outputs": [],
   "source": [
    "tfp.stats.correlation(jnp.stack([sample_mu, sample_sigma], axis=1))"
   ]
  },
  {
   "cell_type": "markdown",
   "metadata": {},
   "source": [
    "##### Code 4.34\n",
    "\n",
    "We did not use the quadratic approximation, instead we use a MCMC method to sample from the posterior. Thus, we already have samples. We can do something like"
   ]
  },
  {
   "cell_type": "code",
   "execution_count": null,
   "metadata": {},
   "outputs": [],
   "source": [
    "jnp.mean(sample_mu), jnp.mean(sample_sigma)"
   ]
  },
  {
   "cell_type": "code",
   "execution_count": null,
   "metadata": {},
   "outputs": [],
   "source": [
    "mvn = tfd.MultivariateNormalTriL(loc=[jnp.mean(sample_mu), jnp.mean(sample_sigma)], \n",
    "                                 scale_tril=jnp.linalg.cholesky(cov_41))\n",
    "mvn.sample(100, seed=a_key())"
   ]
  },
  {
   "cell_type": "markdown",
   "metadata": {},
   "source": [
    "## 4.4 Linear prediction"
   ]
  },
  {
   "cell_type": "markdown",
   "metadata": {},
   "source": [
    "##### Code 4.37\n",
    "\n",
    "So now let’s look at how height in these Kalahari foragers (the outcome variable) covaries with weight (the predictor variable)."
   ]
  },
  {
   "cell_type": "code",
   "execution_count": null,
   "metadata": {},
   "outputs": [],
   "source": [
    "plt.plot(d2.height, d2.weight, \".\")"
   ]
  },
  {
   "cell_type": "markdown",
   "metadata": {},
   "source": [
    "### 4.4.1 The linear model strategy"
   ]
  },
  {
   "cell_type": "markdown",
   "metadata": {},
   "source": [
    "##### Code 4.38, & 4.39 \n",
    "\n",
    "In brief, we have now started to model the relation between height & weight formally and the strategy is formally Linear Model and process is called Linear Regression. \n",
    "\n",
    "Here is the description of the model -\n",
    "\n",
    "$h_i \\sim Normal(\\mu_i,\\sigma)$    \n",
    "\n",
    "$\\mu_i = \\alpha + \\beta(x_i - \\bar{x})$   \n",
    "\n",
    "$\\alpha \\sim Normal(178,20)$       \n",
    "\n",
    "$\\beta \\sim Normal(0,10)$          \n",
    "\n",
    "$\\sigma \\sim Uniform(0,50)$        \n",
    "\n",
    "\n",
    "where, $h_i$ is the likelhood, $\\mu_i$ is the linear model and rest are the priors\n",
    "\n",
    "Important thing to note is that $h_i$ has a subscript $i$, which means that *the mean depends upon the row*\n",
    "\n",
    "$\\mu_i$ is also called a **Deterministic Variable** as given the values of other **Stochastic Variables** we are certain about the values it would take !"
   ]
  },
  {
   "cell_type": "code",
   "execution_count": null,
   "metadata": {},
   "outputs": [],
   "source": [
    "N = 100\n",
    "\n",
    "a = tfd.Normal(loc=178.0, scale=20.0).sample(N, seed=a_key())\n",
    "b = tfd.Normal(loc=0.0, scale=10.0).sample(N, seed=a_key())"
   ]
  },
  {
   "cell_type": "code",
   "execution_count": null,
   "metadata": {},
   "outputs": [],
   "source": [
    "a.shape, b.shape"
   ]
  },
  {
   "cell_type": "code",
   "execution_count": null,
   "metadata": {},
   "outputs": [],
   "source": [
    "plt.subplot(\n",
    "    xlim=(d2.weight.min(), d2.weight.max()),\n",
    "    ylim=(-100, 400),\n",
    "    xlabel=\"weight\",\n",
    "    ylabel=\"height\",\n",
    ")\n",
    "plt.axhline(y=0, c=\"k\", ls=\"--\")\n",
    "plt.axhline(y=272, c=\"k\", ls=\"-\", lw=0.5)\n",
    "plt.title(\"b ~ Normal(0, 10)\")\n",
    "xbar = d2.weight.mean()\n",
    "x = np.linspace(d2.weight.min(), d2.weight.max(), 101)\n",
    "for i in range(N):\n",
    "    plt.plot(x, a[i] + b[i] * (x - xbar), \"k\", alpha=0.2)\n",
    "\n",
    "plt.text(x=35, y=282, s=\"World's tallest person (272cm)\")\n",
    "plt.text(x=35, y=-25, s=\"Embryo (0cm)\")"
   ]
  },
  {
   "cell_type": "markdown",
   "metadata": {},
   "source": [
    "'---' represents a zero - no one is shorter than this & also is shown the line for world's tallest person.\n",
    "\n",
    "Clearly, the lines are showing unnatural relationships therefore befoe we have even see the data, this is a bad model. Again prior predictive checks are coming in handy !"
   ]
  },
  {
   "cell_type": "markdown",
   "metadata": {},
   "source": [
    "##### Code 4.40\n",
    "\n",
    "We use some common sense here, we know that average height increases with average weight (to some extent and to a certain point) therefore we must restrict it to positive values only. \n",
    "\n",
    "Earlier we used Normal distribution for beta but a better one is LogNormal\n",
    "\n",
    "$\\beta \\sim LogNormal(0,1)$"
   ]
  },
  {
   "cell_type": "code",
   "execution_count": null,
   "metadata": {},
   "outputs": [],
   "source": [
    "b = tfd.LogNormal(loc=0.0, scale=1.0).sample(1000, seed=a_key())\n",
    "az.plot_kde(b)"
   ]
  },
  {
   "cell_type": "markdown",
   "metadata": {},
   "source": [
    "##### Code 4.41\n",
    "\n",
    "Doing the prior predictive check again where $\\beta$ is LogNormal"
   ]
  },
  {
   "cell_type": "code",
   "execution_count": null,
   "metadata": {},
   "outputs": [],
   "source": [
    "a = tfd.Normal(loc=178.0, scale=20.0).sample(100, seed=a_key())\n",
    "b = tfd.LogNormal(loc=0.0, scale=1.0).sample(100, seed=a_key())\n",
    "\n",
    "plt.subplot(\n",
    "    xlim=(d2.weight.min(), d2.weight.max()),\n",
    "    ylim=(-100, 400),\n",
    "    xlabel=\"weight\",\n",
    "    ylabel=\"height\",\n",
    ")\n",
    "plt.axhline(y=0, c=\"k\", ls=\"--\")\n",
    "plt.axhline(y=272, c=\"k\", ls=\"-\", lw=0.5)\n",
    "plt.title(\"b ~ LogNormal(0, 1)\")\n",
    "xbar = d2.weight.mean()\n",
    "x = np.linspace(d2.weight.min(), d2.weight.max(), 101)\n",
    "for i in range(N):\n",
    "    plt.plot(x, a[i] + b[i] * (x - xbar), \"k\", alpha=0.2)\n",
    "\n",
    "plt.text(x=35, y=282, s=\"World's tallest person (272cm)\")\n",
    "plt.text(x=35, y=-25, s=\"Embryo (0cm)\")"
   ]
  },
  {
   "cell_type": "markdown",
   "metadata": {},
   "source": [
    "Now this is much sensible plot; nearly all lines in the joint prior for $\\alpha$ & $\\beta$ are now in human reason."
   ]
  },
  {
   "cell_type": "markdown",
   "metadata": {},
   "source": [
    "### 4.4.2 Finding the posterior distribution"
   ]
  },
  {
   "cell_type": "markdown",
   "metadata": {},
   "source": [
    "##### Code 4.42\n",
    "\n",
    "Time to build the model again with all the new things we have discovered and updates discussed above"
   ]
  },
  {
   "cell_type": "code",
   "execution_count": 12,
   "metadata": {},
   "outputs": [],
   "source": [
    "d = RethinkingDataset.Howell1.get_dataset()\n",
    "d2 = d[d.age > 18]\n",
    "x_bar = d2.weight.mean()"
   ]
  },
  {
   "cell_type": "code",
   "execution_count": 71,
   "metadata": {},
   "outputs": [],
   "source": [
    "# dict elements do not recognize other elements\n",
    "# e.g., mu = alpha + beta*(d2.weight.values - x_bar)\n",
    "#       -> NameError: name 'alpha' is not defined\n",
    "m43 = dict(\n",
    "    alpha = tfd.Normal(loc=178.0, scale=20.0),\n",
    "    beta = tfd.LogNormal(loc=0.0, scale=1.0),\n",
    "    sigma = tfd.Uniform(low=0.0, high=50.0),\n",
    "    # mu = alpha + beta*(d2.weight.values - x_bar),\n",
    "    mu = lambda alpha, beta: tfd.Deterministic(alpha + beta*(d2.weight.values - x_bar)),\n",
    "    height = lambda mu, sigma: tfd.Normal(loc=mu, scale=sigma)\n",
    ")\n",
    "\n",
    "jd_43 = tfd.JointDistributionNamedAutoBatched(m43)"
   ]
  },
  {
   "cell_type": "code",
   "execution_count": 73,
   "metadata": {},
   "outputs": [
    {
     "data": {
      "text/plain": [
       "(TensorShape([]),\n",
       " {'beta': TensorShape([]),\n",
       "  'alpha': TensorShape([]),\n",
       "  'mu': TensorShape([346]),\n",
       "  'sigma': TensorShape([]),\n",
       "  'height': TensorShape([346])})"
      ]
     },
     "execution_count": 73,
     "metadata": {},
     "output_type": "execute_result"
    }
   ],
   "source": [
    "jd_43.batch_shape, jd_43.event_shape"
   ]
  },
  {
   "cell_type": "code",
   "execution_count": 75,
   "metadata": {},
   "outputs": [
    {
     "data": {
      "text/plain": [
       "{'beta': Array(0.9115048, dtype=float32),\n",
       " 'alpha': Array(206.24863, dtype=float32),\n",
       " 'mu': Array([208.78267, 198.44638, 194.23434, 213.53735, 202.81346, 222.60745,\n",
       "        200.04851, 215.75966, 196.97346, 214.85524, 210.66904, 202.76178,\n",
       "        198.03293, 208.66818, 196.0432 , 209.45453, 203.76958, 200.15187,\n",
       "        209.84213, 204.13135, 197.54196, 199.73842, 197.51611, 201.93488,\n",
       "        215.42374, 199.37665, 200.28108, 207.67152, 200.59117, 197.61948,\n",
       "        208.39505, 208.83435, 210.22975, 210.2039 , 216.74161, 200.84958,\n",
       "        210.66904, 202.78763, 200.33276, 203.8372 , 218.60214, 207.77489,\n",
       "        205.5009 , 211.58499, 214.7002 , 207.0255 , 208.96355, 212.78798,\n",
       "        208.60178, 206.79294, 203.84709, 198.44638, 216.17311, 199.0924 ,\n",
       "        209.22195, 199.2216 , 208.18834, 208.29169, 217.64603, 199.76427,\n",
       "        208.21417, 204.57063, 211.00497, 201.08214, 211.39267, 201.13382,\n",
       "        198.2655 , 207.36143, 203.7179 , 208.60178, 215.96638, 209.45453,\n",
       "        204.20886, 197.15436, 216.92249, 211.9094 , 208.24002, 202.50337,\n",
       "        195.00957, 217.20674, 204.3639 , 201.59895, 207.07718, 202.65842,\n",
       "        208.57594, 199.37665, 206.22444, 203.7179 , 215.19116, 213.97665,\n",
       "        212.76213, 203.84709, 210.3848 , 203.22691, 216.25063, 203.61453,\n",
       "        213.58904, 210.97913, 203.95045, 209.9455 , 200.28108, 210.59152,\n",
       "        219.6616 , 208.88603, 201.00461, 198.80815, 203.58868, 205.81099,\n",
       "        208.8085 , 215.50125, 195.26797, 202.45169, 211.85844, 209.89381,\n",
       "        213.89912, 214.49347, 215.6563 , 203.69205, 202.50337, 210.48816,\n",
       "        205.60426, 207.07718, 203.43364, 212.11612, 205.39754, 194.54443,\n",
       "        216.92249, 213.20143, 198.44638, 209.71294, 217.10338, 203.56285,\n",
       "        210.92744, 207.61984, 221.52214, 209.84213, 193.92426, 197.36107,\n",
       "        206.79294, 205.19081, 206.71541, 202.7101 , 206.43117, 214.08002,\n",
       "        212.8655 , 200.82373, 206.84462, 202.0124 , 212.11612, 200.43613,\n",
       "        200.95294, 205.60426, 201.21133, 207.82657, 202.21913, 210.92744,\n",
       "        202.81346, 214.95757, 206.1986 , 197.8262 , 206.40532, 209.04108,\n",
       "        206.81877, 209.32532, 202.73595, 200.20355, 200.04851, 209.2478 ,\n",
       "        200.66869, 201.67647, 210.9533 , 214.67435, 206.75401, 201.13382,\n",
       "        204.57063, 194.23434, 206.61205, 199.86763, 198.08461, 202.45169,\n",
       "        208.86018, 208.6793 , 207.4648 , 202.7101 , 198.54974, 209.06691,\n",
       "        198.6531 , 216.74161, 200.46196, 208.47258, 198.18797, 202.81346,\n",
       "        205.99187, 211.16002, 215.57877, 199.76427, 218.47293, 205.68178,\n",
       "        205.66022, 205.81099, 205.86267, 202.08992, 205.37169, 196.56001,\n",
       "        195.06125, 197.95541, 210.35893, 213.66656, 198.98904, 202.11577,\n",
       "        211.31506, 205.26833, 210.66437, 195.81064, 205.16496, 209.06691,\n",
       "        204.15718, 196.09488, 201.39223, 197.95541, 211.5993 , 206.8963 ,\n",
       "        218.80887, 204.80319, 212.5554 , 211.39258, 196.40497, 201.08214,\n",
       "        219.48071, 212.7363 , 201.62479, 205.2425 , 214.9586 , 206.27612,\n",
       "        202.86514, 203.38196, 203.95023, 204.51895, 202.40001, 204.26054,\n",
       "        207.30975, 208.8085 , 203.95045, 209.40285, 206.99966, 213.40816,\n",
       "        208.5501 , 204.88072, 204.77736, 213.6924 , 205.91435, 208.21417,\n",
       "        194.05347, 216.63824, 216.0439 , 208.47258, 206.35364, 206.68958,\n",
       "        209.73877, 207.64568, 205.19081, 216.27647, 201.72815, 211.49594,\n",
       "        207.39207, 210.17807, 205.39754, 211.70267, 202.34833, 199.42833,\n",
       "        212.21948, 204.75151, 207.77489, 201.23718, 196.89595, 201.00461,\n",
       "        199.32497, 209.55789, 197.64532, 205.03577, 209.11859, 211.65099,\n",
       "        205.29417, 209.11859, 207.74904, 216.6124 , 209.48036, 209.14444,\n",
       "        208.47258, 197.59364, 198.55048, 209.8163 , 211.9094 , 207.594  ,\n",
       "        198.88568, 209.53204, 199.86763, 208.29169, 215.68213, 214.59683,\n",
       "        209.377  , 204.44144, 196.35329, 210.72072, 205.60426, 195.68143,\n",
       "        208.29169, 207.23222, 208.39505, 202.42586, 211.08249, 206.3278 ,\n",
       "        203.69205, 203.1494 , 206.40532, 211.9094 , 210.10054, 211.85771,\n",
       "        205.16496, 197.5678 , 204.27966, 207.82657, 203.35612, 200.00888,\n",
       "        204.65756, 214.08002, 204.3639 , 201.44391, 204.69983, 213.20143,\n",
       "        200.2294 , 204.20886, 197.90373, 205.5009 , 199.89346, 205.39754,\n",
       "        205.32   , 208.83435, 201.10797, 202.60674, 202.40001, 208.05913,\n",
       "        196.40497, 212.7363 , 214.46762, 213.07222], dtype=float32),\n",
       " 'sigma': Array(18.331284, dtype=float32),\n",
       " 'height': Array([182.50829, 187.08391, 182.28978, 208.4179 , 219.18452, 221.07317,\n",
       "        230.44122, 244.9325 , 215.20558, 198.1828 , 192.0441 , 203.11739,\n",
       "        204.3037 , 200.43152, 205.01445, 229.18605, 225.88367, 212.15096,\n",
       "        233.07925, 187.83733, 215.36067, 200.62038, 209.34996, 194.82164,\n",
       "        205.41759, 199.33315, 190.15091, 211.55203, 184.40074, 173.25504,\n",
       "        224.36935, 207.82756, 202.22743, 205.10774, 192.23549, 199.18877,\n",
       "        215.33331, 213.44844, 188.42517, 206.64403, 217.39526, 174.14981,\n",
       "        201.15034, 228.09818, 235.67975, 209.9302 , 223.60918, 191.2955 ,\n",
       "        188.35896, 204.32896, 200.43362, 204.44215, 198.11842, 207.36864,\n",
       "        219.93713, 195.81677, 189.73012, 186.09462, 210.7548 , 233.16594,\n",
       "        202.58043, 233.36038, 223.68362, 145.32011, 195.79504, 196.50943,\n",
       "        178.1377 , 176.76741, 184.9305 , 232.44202, 220.49983, 213.62292,\n",
       "        234.7704 , 187.70792, 191.29971, 193.0773 , 198.03352, 210.62593,\n",
       "        180.50598, 200.69499, 196.91093, 180.31358, 234.69246, 220.19534,\n",
       "        184.54593, 196.51236, 218.39914, 172.44754, 169.68073, 225.2623 ,\n",
       "        211.5755 , 212.1597 , 184.22832, 196.85406, 187.06126, 207.11151,\n",
       "        221.63226, 227.83487, 219.5154 , 189.52301, 179.17932, 193.26343,\n",
       "        218.44272, 186.16264, 209.46326, 232.57407, 192.38208, 188.37318,\n",
       "        217.77487, 259.63876, 213.53107, 200.63113, 228.49844, 186.13715,\n",
       "        196.56583, 217.52757, 212.21028, 196.87723, 218.36557, 222.89963,\n",
       "        190.06575, 183.78204, 216.0022 , 194.56287, 187.43187, 189.80998,\n",
       "        221.11093, 195.21747, 164.8575 , 205.75177, 232.32806, 221.4769 ,\n",
       "        257.93945, 209.91113, 231.32935, 212.98326, 173.04263, 159.39912,\n",
       "        204.16434, 230.35321, 218.79327, 177.12593, 240.25705, 194.59648,\n",
       "        218.617  , 203.67665, 226.92964, 199.02849, 225.43127, 201.44287,\n",
       "        211.9573 , 188.41803, 208.81252, 190.91365, 213.44252, 208.47388,\n",
       "        210.9378 , 237.3129 , 205.23112, 215.02264, 164.98904, 190.58383,\n",
       "        199.21025, 214.13728, 198.55203, 187.72382, 210.95132, 228.2118 ,\n",
       "        210.4664 , 211.70317, 222.25266, 215.1644 , 215.29568, 185.24876,\n",
       "        210.08963, 215.75266, 166.76518, 198.44994, 200.2621 , 200.68204,\n",
       "        206.57501, 205.72676, 172.77864, 247.72662, 176.80649, 229.19846,\n",
       "        200.04068, 201.67018, 185.99086, 216.72977, 158.45451, 234.61935,\n",
       "        212.16243, 226.36058, 214.73232, 211.12993, 179.27263, 200.30374,\n",
       "        206.74672, 199.36269, 226.92198, 171.84042, 221.17842, 188.89142,\n",
       "        233.18436, 192.2368 , 203.49252, 209.8763 , 192.93648, 220.58235,\n",
       "        219.33826, 200.26044, 203.61858, 191.60153, 209.1063 , 202.11977,\n",
       "        205.66087, 181.66927, 179.36009, 187.45699, 207.6234 , 189.42212,\n",
       "        229.0126 , 240.61696, 211.36528, 224.55624, 196.05421, 196.62071,\n",
       "        222.2091 , 227.57841, 213.61641, 225.51129, 219.11378, 199.08629,\n",
       "        226.79828, 216.38452, 193.03767, 229.4104 , 203.60191, 190.12201,\n",
       "        207.60434, 192.69489, 195.8931 , 201.65593, 237.80087, 239.94821,\n",
       "        241.10388, 199.37526, 218.54428, 238.89024, 210.69353, 205.35971,\n",
       "        195.88388, 181.53839, 220.84671, 213.2271 , 180.11882, 191.25418,\n",
       "        210.3258 , 204.29076, 234.6958 , 169.88434, 182.30164, 214.88727,\n",
       "        182.88518, 190.7012 , 199.25769, 228.61389, 194.15956, 193.07178,\n",
       "        196.13358, 210.37036, 177.31055, 216.92473, 216.70718, 216.8688 ,\n",
       "        196.6717 , 203.84195, 208.69022, 219.5744 , 210.05618, 220.6938 ,\n",
       "        219.36215, 198.4036 , 218.01164, 205.91199, 216.4751 , 224.41763,\n",
       "        238.79448, 180.57462, 230.58267, 178.0812 , 192.35974, 209.26192,\n",
       "        168.4035 , 216.53583, 222.87163, 221.13583, 217.62012, 180.70457,\n",
       "        171.2274 , 211.23085, 180.39307, 203.84244, 192.87299, 175.75302,\n",
       "        211.69897, 185.80016, 201.24286, 179.34116, 213.10736, 242.93007,\n",
       "        182.37369, 236.86584, 186.8878 , 195.1775 , 191.66241, 222.0962 ,\n",
       "        210.58463, 196.07751, 210.13309, 205.99306, 208.72476, 203.09293,\n",
       "        189.45798, 221.51703, 231.89694, 213.36774, 203.38539, 228.98027,\n",
       "        183.76765, 179.49985, 184.10239, 207.70557, 219.04907, 209.87369,\n",
       "        208.97604, 202.41382, 204.4969 , 208.25151, 211.20969, 172.8662 ,\n",
       "        213.25174, 230.70663, 195.61673, 193.27667], dtype=float32)}"
      ]
     },
     "execution_count": 75,
     "metadata": {},
     "output_type": "execute_result"
    }
   ],
   "source": [
    "jd_43.sample(seed=a_key())"
   ]
  },
  {
   "cell_type": "code",
   "execution_count": 74,
   "metadata": {},
   "outputs": [
    {
     "data": {
      "text/plain": [
       "Array(-824.8803, dtype=float32)"
      ]
     },
     "execution_count": 74,
     "metadata": {},
     "output_type": "execute_result"
    }
   ],
   "source": [
    "jd_43.log_prob(jd_43.sample(seed=a_key()))"
   ]
  },
  {
   "cell_type": "code",
   "execution_count": 14,
   "metadata": {},
   "outputs": [],
   "source": [
    "state_name = \"alpha\", \"beta\", \"sigma\""
   ]
  },
  {
   "cell_type": "code",
   "execution_count": 76,
   "metadata": {},
   "outputs": [
    {
     "data": {
      "text/plain": [
       "[Array(185.3092, dtype=float32),\n",
       " Array(0.71245664, dtype=float32),\n",
       " Array(41.973328, dtype=float32)]"
      ]
     },
     "execution_count": 76,
     "metadata": {},
     "output_type": "execute_result"
    }
   ],
   "source": [
    "init_state = [jd_43.sample(seed=a_key())[s] for s in state_name]\n",
    "init_state"
   ]
  },
  {
   "cell_type": "code",
   "execution_count": 77,
   "metadata": {},
   "outputs": [],
   "source": [
    "# \"mu\" is deterministic, but must be included\n",
    "def target_log_prob_43(alpha, beta, sigma):\n",
    "    sample = dict(zip(state_name, (alpha, beta, sigma)),\n",
    "                  mu = alpha + beta*(d2.weight.values - x_bar),\n",
    "                  height = d2.height.values)\n",
    "    return jd_43.log_prob(sample)"
   ]
  },
  {
   "cell_type": "code",
   "execution_count": 78,
   "metadata": {},
   "outputs": [
    {
     "data": {
      "text/plain": [
       "Array(-1714.5527, dtype=float32)"
      ]
     },
     "execution_count": 78,
     "metadata": {},
     "output_type": "execute_result"
    }
   ],
   "source": [
    "target_log_prob_43(init_state[0], init_state[1], init_state[2])"
   ]
  },
  {
   "cell_type": "code",
   "execution_count": 81,
   "metadata": {},
   "outputs": [
    {
     "data": {
      "text/plain": [
       "Array(-1675.2456, dtype=float32)"
      ]
     },
     "execution_count": 81,
     "metadata": {},
     "output_type": "execute_result"
    }
   ],
   "source": [
    "target_log_prob_43(jnp.array(180.), jnp.array(0.8), jnp.array(40.))"
   ]
  },
  {
   "cell_type": "code",
   "execution_count": 82,
   "metadata": {},
   "outputs": [],
   "source": [
    "num_burnin_steps = 400\n",
    "num_results = 500\n",
    "step_size = 0.2"
   ]
  },
  {
   "cell_type": "code",
   "execution_count": 83,
   "metadata": {},
   "outputs": [],
   "source": [
    "kernel_43 = tfp.mcmc.HamiltonianMonteCarlo(\n",
    "    target_log_prob_fn=target_log_prob_43,\n",
    "    step_size=step_size,\n",
    "    num_leapfrog_steps=2)\n",
    "\n",
    "kernel_43 = tfp.mcmc.SimpleStepSizeAdaptation(\n",
    "    inner_kernel=kernel_43, num_adaptation_steps=int(num_burnin_steps * 0.8))"
   ]
  },
  {
   "cell_type": "code",
   "execution_count": 85,
   "metadata": {},
   "outputs": [],
   "source": [
    "states_43 = tfp.mcmc.sample_chain(\n",
    "    num_results=num_results,\n",
    "    current_state=init_state,\n",
    "    kernel=kernel_43,\n",
    "    num_burnin_steps=num_burnin_steps,\n",
    "    trace_fn=None,\n",
    "    seed=a_key())"
   ]
  },
  {
   "cell_type": "code",
   "execution_count": 88,
   "metadata": {},
   "outputs": [],
   "source": [
    "states_43_dict = dict(zip(state_name, states_43))"
   ]
  },
  {
   "cell_type": "code",
   "execution_count": 89,
   "metadata": {},
   "outputs": [
    {
     "data": {
      "text/html": [
       "<div>\n",
       "<style scoped>\n",
       "    .dataframe tbody tr th:only-of-type {\n",
       "        vertical-align: middle;\n",
       "    }\n",
       "\n",
       "    .dataframe tbody tr th {\n",
       "        vertical-align: top;\n",
       "    }\n",
       "\n",
       "    .dataframe thead th {\n",
       "        text-align: right;\n",
       "    }\n",
       "</style>\n",
       "<table border=\"1\" class=\"dataframe\">\n",
       "  <thead>\n",
       "    <tr style=\"text-align: right;\">\n",
       "      <th></th>\n",
       "      <th>mean</th>\n",
       "      <th>sd</th>\n",
       "      <th>hdi_5.5%</th>\n",
       "      <th>hdi_94.5%</th>\n",
       "    </tr>\n",
       "  </thead>\n",
       "  <tbody>\n",
       "    <tr>\n",
       "      <th>alpha</th>\n",
       "      <td>154.64</td>\n",
       "      <td>0.29</td>\n",
       "      <td>154.21</td>\n",
       "      <td>155.13</td>\n",
       "    </tr>\n",
       "    <tr>\n",
       "      <th>beta</th>\n",
       "      <td>0.90</td>\n",
       "      <td>0.04</td>\n",
       "      <td>0.83</td>\n",
       "      <td>0.97</td>\n",
       "    </tr>\n",
       "    <tr>\n",
       "      <th>sigma</th>\n",
       "      <td>5.17</td>\n",
       "      <td>0.21</td>\n",
       "      <td>4.80</td>\n",
       "      <td>5.48</td>\n",
       "    </tr>\n",
       "  </tbody>\n",
       "</table>\n",
       "</div>"
      ],
      "text/plain": [
       "         mean    sd  hdi_5.5%  hdi_94.5%\n",
       "alpha  154.64  0.29    154.21     155.13\n",
       "beta     0.90  0.04      0.83       0.97\n",
       "sigma    5.17  0.21      4.80       5.48"
      ]
     },
     "execution_count": 89,
     "metadata": {},
     "output_type": "execute_result"
    }
   ],
   "source": [
    "# stats for all chains\n",
    "az.summary(states_43_dict, round_to=2, kind=\"stats\", hdi_prob=0.89)"
   ]
  },
  {
   "cell_type": "code",
   "execution_count": 91,
   "metadata": {},
   "outputs": [
    {
     "data": {
      "text/plain": [
       "array([[<Axes: title={'center': 'alpha'}>,\n",
       "        <Axes: title={'center': 'alpha'}>],\n",
       "       [<Axes: title={'center': 'beta'}>,\n",
       "        <Axes: title={'center': 'beta'}>],\n",
       "       [<Axes: title={'center': 'sigma'}>,\n",
       "        <Axes: title={'center': 'sigma'}>]], dtype=object)"
      ]
     },
     "execution_count": 91,
     "metadata": {},
     "output_type": "execute_result"
    },
    {
     "data": {
      "image/png": "[encoded data removed]",
      "text/plain": [
       "<Figure size 1200x600 with 6 Axes>"
      ]
     },
     "metadata": {},
     "output_type": "display_data"
    }
   ],
   "source": [
    "az.plot_trace(states_43_dict)"
   ]
  },
  {
   "cell_type": "code",
   "execution_count": null,
   "metadata": {},
   "outputs": [],
   "source": [
    "# TODO: test Couroutine with mu"
   ]
  },
  {
   "cell_type": "code",
   "execution_count": null,
   "metadata": {},
   "outputs": [],
   "source": [
    "\n",
    "\n",
    "\n",
    "def model_4_3(weight_data):\n",
    "    def _generator():\n",
    "        alpha = yield Root(\n",
    "            tfd.Sample(tfd.Normal(loc=178.0, scale=20.0), sample_shape=1)\n",
    "        )\n",
    "        beta = yield Root(tfd.Sample(tfd.LogNormal(loc=0.0, scale=1.0), sample_shape=1))\n",
    "        sigma = yield Root(tfd.Sample(tfd.Uniform(low=0.0, high=50.0), sample_shape=1))\n",
    "\n",
    "        mu = alpha + beta * (weight_data - x_bar)\n",
    "\n",
    "        height = yield tfd.Independent(\n",
    "            tfd.Normal(loc=mu, scale=sigma), reinterpreted_batch_ndims=1\n",
    "        )\n",
    "\n",
    "    return tfd.JointDistributionCoroutine(_generator, validate_args=True)\n",
    "\n",
    "\n",
    "jdc_4_3 = model_4_3(d2.weight.values)\n",
    "\n",
    "posterior_4_3, trace_4_3 = sample_posterior(\n",
    "    jdc_4_3, observed_data=(d2.height.values,), params=[\"alpha\", \"beta\", \"sigma\"]\n",
    ")\n",
    "\n",
    "az.summary(trace_4_3, round_to=2, kind=\"stats\", hdi_prob=0.89)\n"
   ]
  },
  {
   "cell_type": "code",
   "execution_count": null,
   "metadata": {},
   "outputs": [],
   "source": [
    "m41 = dict(\n",
    "    mu = tfd.Normal(loc=178.0, scale=20.0),\n",
    "    sigma = tfd.Uniform(low=0.0, high=50.0),\n",
    "    height = lambda mu, sigma: tfd.Sample(tfd.Normal(loc=mu, scale=sigma), n_sample)\n",
    ")\n",
    "\n",
    "jd_4_1 = tfd.JointDistributionNamedAutoBatched(m41)"
   ]
  },
  {
   "cell_type": "code",
   "execution_count": null,
   "metadata": {},
   "outputs": [],
   "source": [
    "def m43():\n",
    "    alpha = yield tfd.Normal(loc=178.0, scale=20.0, name=\"alpha\")\n",
    "    beta = yield tfd.LogNormal(loc=0.0, scale=1.0, name=\"beta\")\n",
    "    sigma = yield tfd.Uniform(low=0.0, high=50.0, name=\"sigma\")\n",
    "    mu = alpha + beta*(d2.weight.values - x_bar)\n",
    "    height = yield tfd.Normal(loc=mu, scale=sigma, name=\"height\")\n",
    "\n",
    "jd_43 = tfd.JointDistributionCoroutineAutoBatched(m43)"
   ]
  }
 ],
 "metadata": {
  "kernelspec": {
   "display_name": "tfpjax",
   "language": "python",
   "name": "python3"
  },
  "language_info": {
   "codemirror_mode": {
    "name": "ipython",
    "version": 3
   },
   "file_extension": ".py",
   "mimetype": "text/x-python",
   "name": "python",
   "nbconvert_exporter": "python",
   "pygments_lexer": "ipython3",
   "version": "3.11.9"
  }
 },
 "nbformat": 4,
 "nbformat_minor": 2
}
