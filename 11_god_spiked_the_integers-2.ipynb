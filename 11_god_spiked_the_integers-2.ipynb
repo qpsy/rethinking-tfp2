{
 "cells": [
  {
   "cell_type": "markdown",
   "metadata": {},
   "source": [
    "[![Open In Colab](https://colab.research.google.com/assets/colab-badge.svg)](https://colab.research.google.com/github/ksachdeva/rethinking-tensorflow-probability/blob/master/notebooks/11_god_spiked_the_integers.ipynb)"
   ]
  },
  {
   "cell_type": "markdown",
   "metadata": {},
   "source": [
    "# 11. God Spiked the Integers"
   ]
  },
  {
   "cell_type": "code",
   "execution_count": 189,
   "metadata": {},
   "outputs": [],
   "source": [
    "import os\n",
    "import numpy as np\n",
    "import arviz as az\n",
    "import pandas as pd\n",
    "import xarray as xr\n",
    "import matplotlib.pyplot as plt\n",
    "from collections import namedtuple\n",
    "import statsmodels.formula.api as smf\n",
    "\n",
    "import random\n",
    "import jax\n",
    "import jax.numpy as jnp\n",
    "\n",
    "import tensorflow as tf\n",
    "from tensorflow_probability.substrates import jax as tfp\n",
    "tfd = tfp.distributions\n",
    "tfb = tfp.bijectors\n",
    "# to use 'sample_distributions'\n",
    "import tensorflow_probability as xtfp\n",
    "xtfd = xtfp.distributions\n",
    "xtfb = xtfp.bijectors\n",
    "\n",
    "key = tfp.util.SeedStream(1004, salt=\"ch-11\")\n",
    "plt.rcParams['figure.figsize'] = [6, 5]\n",
    "\n",
    "# TFP often requires 64-bit precision (float64) for certain computations \n",
    "# to ensure numerical stability and accuracy, e.g., tfd.Possion.\n",
    "# However, jax.config.update(\"jax_enable_x64\", True)\n",
    "# converts all 32 to 64, so that sometimes errors occur.\n",
    "# e.g., TypeError: Tensor conversion requested dtype \n",
    "#   <class 'jax.numpy.int32'> for array with dtype int64\n",
    "jax.config.update(\"jax_enable_x64\", True)\n"
   ]
  },
  {
   "cell_type": "markdown",
   "metadata": {},
   "source": [
    "## 11.1 Binomial regression"
   ]
  },
  {
   "cell_type": "markdown",
   "metadata": {},
   "source": [
    "### 11.1.1 Logistic regression: Prosocial chimpanzees"
   ]
  },
  {
   "cell_type": "markdown",
   "metadata": {},
   "source": [
    "##### Code 11.1\n",
    "\n",
    "Authors start the chapter by highlighting one key difference between **Generalized Linear Models** and **Gaussian Linear Models**. He says, that unlike Gaussian Linear Models where we had some interpretation of parameters, in the case of **GLM** it is the combination of parameters that matter.\n",
    "\n",
    "Most common & **useful** GLM models are about **counts** but they are also difficult to model. What is the reason for that ?\n",
    "\n",
    "He says - \"When we *wish* to predict the outcome in the form of counts, the scale of parameters is **never the same** as the scale of outcome. This is another way of saying that it is the combination of parameters that help in prediction and hence some where we lose human intution that could have connected the parmaeters with the outcome.\n",
    "\n",
    "\n",
    "**Binomial Regression** -: model the outcome (count) when both of the categories are known.\n",
    "\n",
    "**Poisson Regression** -: model the outcome (count) when the maximum count is unknown.\n",
    "\n"
   ]
  },
  {
   "cell_type": "code",
   "execution_count": 4,
   "metadata": {},
   "outputs": [],
   "source": [
    "d = pd.read_csv(\"./data/chimpanzees.csv\", sep=\";\")"
   ]
  },
  {
   "cell_type": "markdown",
   "metadata": {},
   "source": [
    "##### Code 11.2\n",
    "\n",
    "\n",
    "We aim to build index variables instead of using dummy variables. Below is a quick way to do it. Treatment here is about the 4 possible situations.\n",
    "\n",
    "1. prosoc_left= 0 and condition= 0: Two food items on right and no partner. \n",
    "2. prosoc_left= 1 and condition= 0: Two food items on left and no partner.\n",
    "3. prosoc_left= 0 and condition= 1: Two food items on right and partner present.\n",
    "4. prosoc_left= 1 and condition= 1: Two food items on left and partner present."
   ]
  },
  {
   "cell_type": "code",
   "execution_count": 5,
   "metadata": {},
   "outputs": [],
   "source": [
    "# In the book there is an additional 1 in the code snippet.\n",
    "# That is because of R as in R index does not starts with 0\n",
    "\n",
    "d[\"treatment\"] = d.prosoc_left + 2 * d.condition"
   ]
  },
  {
   "cell_type": "markdown",
   "metadata": {},
   "source": [
    "##### Code 11.3"
   ]
  },
  {
   "cell_type": "code",
   "execution_count": 6,
   "metadata": {},
   "outputs": [
    {
     "data": {
      "text/plain": [
       "condition  prosoc_left  treatment\n",
       "0          0            0            126\n",
       "           1            1            126\n",
       "1          0            2            126\n",
       "           1            3            126\n",
       "dtype: int64"
      ]
     },
     "execution_count": 6,
     "metadata": {},
     "output_type": "execute_result"
    }
   ],
   "source": [
    "d.groupby([\"condition\", \"prosoc_left\", \"treatment\"]).size()"
   ]
  },
  {
   "cell_type": "code",
   "execution_count": 7,
   "metadata": {},
   "outputs": [
    {
     "data": {
      "text/html": [
       "<div>\n",
       "<style scoped>\n",
       "    .dataframe tbody tr th:only-of-type {\n",
       "        vertical-align: middle;\n",
       "    }\n",
       "\n",
       "    .dataframe tbody tr th {\n",
       "        vertical-align: top;\n",
       "    }\n",
       "\n",
       "    .dataframe thead th {\n",
       "        text-align: right;\n",
       "    }\n",
       "</style>\n",
       "<table border=\"1\" class=\"dataframe\">\n",
       "  <thead>\n",
       "    <tr style=\"text-align: right;\">\n",
       "      <th></th>\n",
       "      <th>actor</th>\n",
       "      <th>recipient</th>\n",
       "      <th>condition</th>\n",
       "      <th>block</th>\n",
       "      <th>trial</th>\n",
       "      <th>prosoc_left</th>\n",
       "      <th>chose_prosoc</th>\n",
       "      <th>pulled_left</th>\n",
       "      <th>treatment</th>\n",
       "    </tr>\n",
       "  </thead>\n",
       "  <tbody>\n",
       "    <tr>\n",
       "      <th>count</th>\n",
       "      <td>504.000000</td>\n",
       "      <td>252.00000</td>\n",
       "      <td>504.000000</td>\n",
       "      <td>504.000000</td>\n",
       "      <td>504.000000</td>\n",
       "      <td>504.000000</td>\n",
       "      <td>504.00000</td>\n",
       "      <td>504.000000</td>\n",
       "      <td>504.000000</td>\n",
       "    </tr>\n",
       "    <tr>\n",
       "      <th>mean</th>\n",
       "      <td>4.000000</td>\n",
       "      <td>5.00000</td>\n",
       "      <td>0.500000</td>\n",
       "      <td>3.500000</td>\n",
       "      <td>36.500000</td>\n",
       "      <td>0.500000</td>\n",
       "      <td>0.56746</td>\n",
       "      <td>0.579365</td>\n",
       "      <td>1.500000</td>\n",
       "    </tr>\n",
       "    <tr>\n",
       "      <th>std</th>\n",
       "      <td>2.001987</td>\n",
       "      <td>2.00398</td>\n",
       "      <td>0.500497</td>\n",
       "      <td>1.709522</td>\n",
       "      <td>20.803253</td>\n",
       "      <td>0.500497</td>\n",
       "      <td>0.49592</td>\n",
       "      <td>0.494151</td>\n",
       "      <td>1.119145</td>\n",
       "    </tr>\n",
       "    <tr>\n",
       "      <th>min</th>\n",
       "      <td>1.000000</td>\n",
       "      <td>2.00000</td>\n",
       "      <td>0.000000</td>\n",
       "      <td>1.000000</td>\n",
       "      <td>1.000000</td>\n",
       "      <td>0.000000</td>\n",
       "      <td>0.00000</td>\n",
       "      <td>0.000000</td>\n",
       "      <td>0.000000</td>\n",
       "    </tr>\n",
       "    <tr>\n",
       "      <th>25%</th>\n",
       "      <td>2.000000</td>\n",
       "      <td>3.00000</td>\n",
       "      <td>0.000000</td>\n",
       "      <td>2.000000</td>\n",
       "      <td>18.750000</td>\n",
       "      <td>0.000000</td>\n",
       "      <td>0.00000</td>\n",
       "      <td>0.000000</td>\n",
       "      <td>0.750000</td>\n",
       "    </tr>\n",
       "    <tr>\n",
       "      <th>50%</th>\n",
       "      <td>4.000000</td>\n",
       "      <td>5.00000</td>\n",
       "      <td>0.500000</td>\n",
       "      <td>3.500000</td>\n",
       "      <td>36.500000</td>\n",
       "      <td>0.500000</td>\n",
       "      <td>1.00000</td>\n",
       "      <td>1.000000</td>\n",
       "      <td>1.500000</td>\n",
       "    </tr>\n",
       "    <tr>\n",
       "      <th>75%</th>\n",
       "      <td>6.000000</td>\n",
       "      <td>7.00000</td>\n",
       "      <td>1.000000</td>\n",
       "      <td>5.000000</td>\n",
       "      <td>54.250000</td>\n",
       "      <td>1.000000</td>\n",
       "      <td>1.00000</td>\n",
       "      <td>1.000000</td>\n",
       "      <td>2.250000</td>\n",
       "    </tr>\n",
       "    <tr>\n",
       "      <th>max</th>\n",
       "      <td>7.000000</td>\n",
       "      <td>8.00000</td>\n",
       "      <td>1.000000</td>\n",
       "      <td>6.000000</td>\n",
       "      <td>72.000000</td>\n",
       "      <td>1.000000</td>\n",
       "      <td>1.00000</td>\n",
       "      <td>1.000000</td>\n",
       "      <td>3.000000</td>\n",
       "    </tr>\n",
       "  </tbody>\n",
       "</table>\n",
       "</div>"
      ],
      "text/plain": [
       "            actor  recipient   condition       block       trial  prosoc_left  \\\n",
       "count  504.000000  252.00000  504.000000  504.000000  504.000000   504.000000   \n",
       "mean     4.000000    5.00000    0.500000    3.500000   36.500000     0.500000   \n",
       "std      2.001987    2.00398    0.500497    1.709522   20.803253     0.500497   \n",
       "min      1.000000    2.00000    0.000000    1.000000    1.000000     0.000000   \n",
       "25%      2.000000    3.00000    0.000000    2.000000   18.750000     0.000000   \n",
       "50%      4.000000    5.00000    0.500000    3.500000   36.500000     0.500000   \n",
       "75%      6.000000    7.00000    1.000000    5.000000   54.250000     1.000000   \n",
       "max      7.000000    8.00000    1.000000    6.000000   72.000000     1.000000   \n",
       "\n",
       "       chose_prosoc  pulled_left   treatment  \n",
       "count     504.00000   504.000000  504.000000  \n",
       "mean        0.56746     0.579365    1.500000  \n",
       "std         0.49592     0.494151    1.119145  \n",
       "min         0.00000     0.000000    0.000000  \n",
       "25%         0.00000     0.000000    0.750000  \n",
       "50%         1.00000     1.000000    1.500000  \n",
       "75%         1.00000     1.000000    2.250000  \n",
       "max         1.00000     1.000000    3.000000  "
      ]
     },
     "execution_count": 7,
     "metadata": {},
     "output_type": "execute_result"
    }
   ],
   "source": [
    "d.describe()"
   ]
  },
  {
   "cell_type": "markdown",
   "metadata": {},
   "source": [
    "##### Code 11.4"
   ]
  },
  {
   "cell_type": "code",
   "execution_count": 8,
   "metadata": {},
   "outputs": [],
   "source": [
    "def model_11_1(a_scale):\n",
    "    def _generator():\n",
    "        a = yield tfd.Normal(loc=0., scale=a_scale, name='a')\n",
    "        logit = a\n",
    "        yield tfd.Binomial(total_count=1., logits=logit, name='pulled_left')\n",
    "\n",
    "    return tfd.JointDistributionCoroutineAutoBatched(_generator)"
   ]
  },
  {
   "cell_type": "code",
   "execution_count": 9,
   "metadata": {},
   "outputs": [],
   "source": [
    "jd_11_1 = model_11_1(a_scale=10.)"
   ]
  },
  {
   "cell_type": "markdown",
   "metadata": {},
   "source": [
    "##### Code 11.5"
   ]
  },
  {
   "cell_type": "code",
   "execution_count": 10,
   "metadata": {},
   "outputs": [],
   "source": [
    "prior = jd_11_1.sample(1000, seed=key())"
   ]
  },
  {
   "cell_type": "markdown",
   "metadata": {},
   "source": [
    "##### Code 11.6"
   ]
  },
  {
   "cell_type": "code",
   "execution_count": 11,
   "metadata": {},
   "outputs": [
    {
     "data": {
      "image/png": "[encoded data removed]",
      "text/plain": [
       "<Figure size 600x500 with 1 Axes>"
      ]
     },
     "metadata": {},
     "output_type": "display_data"
    }
   ],
   "source": [
    "p = jax.nn.sigmoid(prior[0])\n",
    "az.plot_kde(p)\n",
    "plt.show()"
   ]
  },
  {
   "cell_type": "markdown",
   "metadata": {},
   "source": [
    "Most of the probability mass in the above plot is piled up near zero or one. A flat prior in the logit space is not a flat prior in the outcome probability space."
   ]
  },
  {
   "cell_type": "code",
   "execution_count": 12,
   "metadata": {},
   "outputs": [
    {
     "data": {
      "image/png": "[encoded data removed]",
      "text/plain": [
       "<Figure size 600x500 with 1 Axes>"
      ]
     },
     "metadata": {},
     "output_type": "display_data"
    }
   ],
   "source": [
    "jd_11_1b = model_11_1(a_scale=1.5)\n",
    "prior_with_1_5 = jd_11_1b.sample(1000, seed=key())\n",
    "\n",
    "p = jax.nn.sigmoid(prior_with_1_5[0])\n",
    "\n",
    "az.plot_kde(p)\n",
    "plt.show()"
   ]
  },
  {
   "cell_type": "markdown",
   "metadata": {},
   "source": [
    "A more concentrated Normal(0,1.5) prior produces something more reasonable"
   ]
  },
  {
   "cell_type": "code",
   "execution_count": 13,
   "metadata": {},
   "outputs": [
    {
     "data": {
      "image/png": "[encoded data removed]",
      "text/plain": [
       "<Figure size 600x500 with 1 Axes>"
      ]
     },
     "metadata": {},
     "output_type": "display_data"
    }
   ],
   "source": [
    "# simply showing both of the above plots\n",
    "# at the same time to reproduce figure 11.3\n",
    "\n",
    "p1 = jax.nn.sigmoid(prior[0])\n",
    "p2 = jax.nn.sigmoid(prior_with_1_5[0])\n",
    "az.plot_kde(p1)\n",
    "az.plot_kde(p2)\n",
    "plt.show()"
   ]
  },
  {
   "cell_type": "markdown",
   "metadata": {},
   "source": [
    "##### Code 11.7 "
   ]
  },
  {
   "cell_type": "code",
   "execution_count": 14,
   "metadata": {},
   "outputs": [
    {
     "data": {
      "text/plain": [
       "array([0, 1, 2, 3])"
      ]
     },
     "execution_count": 14,
     "metadata": {},
     "output_type": "execute_result"
    }
   ],
   "source": [
    "d.treatment.unique()"
   ]
  },
  {
   "cell_type": "code",
   "execution_count": 15,
   "metadata": {},
   "outputs": [],
   "source": [
    "def model_11_2(treatments):\n",
    "    treatments = jnp.array(treatments, dtype=jnp.int32)\n",
    "\n",
    "    def _generator():\n",
    "        a = yield tfd.Normal(loc=0.0, scale=1.5, name='a')\n",
    "        b = yield tfd.Normal(loc=[0., 0, 0, 0], scale=10.0, name='b')\n",
    "        logit = a + jnp.take(b, treatments)\n",
    "        yield tfd.Binomial(total_count=1.0, logits=logit, name='pulled_left')\n",
    "\n",
    "    return tfd.JointDistributionCoroutineAutoBatched(_generator)"
   ]
  },
  {
   "cell_type": "code",
   "execution_count": 16,
   "metadata": {},
   "outputs": [],
   "source": [
    "jd_11_2 = model_11_2(d.treatment.values)"
   ]
  },
  {
   "cell_type": "code",
   "execution_count": 17,
   "metadata": {},
   "outputs": [],
   "source": [
    "prior_a, prior_b, _ = jd_11_2.sample(1000, seed=key())\n",
    "\n",
    "p = jax.nn.sigmoid(prior_a[..., jnp.newaxis] + prior_b)"
   ]
  },
  {
   "cell_type": "markdown",
   "metadata": {},
   "source": [
    "##### Code 11.8 "
   ]
  },
  {
   "cell_type": "code",
   "execution_count": 18,
   "metadata": {},
   "outputs": [
    {
     "data": {
      "image/png": "[encoded data removed]",
      "text/plain": [
       "<Figure size 600x500 with 1 Axes>"
      ]
     },
     "metadata": {},
     "output_type": "display_data"
    }
   ],
   "source": [
    "# az.plot_kde(p[:, 0])\n",
    "az.plot_kde(jnp.abs(p[:, 0] - p[:, 1]))\n",
    "plt.show()"
   ]
  },
  {
   "cell_type": "markdown",
   "metadata": {},
   "source": [
    "##### Code 11.9 \n",
    "\n",
    "Sample model as 11_2 but with a different scale for beta_treatment"
   ]
  },
  {
   "cell_type": "code",
   "execution_count": 19,
   "metadata": {},
   "outputs": [],
   "source": [
    "def model_11_3(treatments):\n",
    "    treatments = jnp.array(treatments, dtype=jnp.int32)\n",
    "\n",
    "    def _generator():\n",
    "        a = yield tfd.Normal(loc=0.0, scale=1.5, name='a')\n",
    "        b = yield tfd.Normal(loc=[0., 0, 0, 0], scale=.5, name='b')\n",
    "        logit = a + jnp.take(b, treatments)\n",
    "        yield tfd.Binomial(total_count=1.0, logits=logit, name='pulled_left')\n",
    "\n",
    "    return tfd.JointDistributionCoroutineAutoBatched(_generator)"
   ]
  },
  {
   "cell_type": "code",
   "execution_count": 20,
   "metadata": {},
   "outputs": [
    {
     "data": {
      "text/plain": [
       "Array(0.09510462, dtype=float32)"
      ]
     },
     "execution_count": 20,
     "metadata": {},
     "output_type": "execute_result"
    }
   ],
   "source": [
    "jd_11_3 = model_11_3(d.treatment.values)\n",
    "\n",
    "prior_a, prior_b, _ = jd_11_3.sample(1000, seed=key())\n",
    "\n",
    "p = jax.nn.sigmoid(prior_a[..., jnp.newaxis] + prior_b)\n",
    "\n",
    "np.mean(jnp.abs(p[:, 0] - p[:, 1]))"
   ]
  },
  {
   "cell_type": "code",
   "execution_count": 21,
   "metadata": {},
   "outputs": [
    {
     "data": {
      "image/png": "[encoded data removed]",
      "text/plain": [
       "<Figure size 600x500 with 1 Axes>"
      ]
     },
     "metadata": {},
     "output_type": "display_data"
    }
   ],
   "source": [
    "az.plot_kde(jnp.abs(p[:, 0] - p[:, 1]))\n",
    "plt.show()"
   ]
  },
  {
   "cell_type": "markdown",
   "metadata": {},
   "source": [
    "##### Code 11.10"
   ]
  },
  {
   "cell_type": "code",
   "execution_count": 22,
   "metadata": {},
   "outputs": [
    {
     "data": {
      "text/plain": [
       "array([1, 2, 3, 4, 5, 6, 7])"
      ]
     },
     "execution_count": 22,
     "metadata": {},
     "output_type": "execute_result"
    }
   ],
   "source": [
    "d.actor.unique()"
   ]
  },
  {
   "cell_type": "code",
   "execution_count": 23,
   "metadata": {},
   "outputs": [],
   "source": [
    "d[\"actor_id\"] = d.actor.values - 1"
   ]
  },
  {
   "cell_type": "markdown",
   "metadata": {},
   "source": [
    "##### Code 11.11"
   ]
  },
  {
   "cell_type": "code",
   "execution_count": 24,
   "metadata": {},
   "outputs": [],
   "source": [
    "def model_11_4(actors, treatments):\n",
    "    actors = jnp.array(actors, dtype=jnp.int32)\n",
    "    treatments = jnp.array(treatments, dtype=jnp.int32)\n",
    "\n",
    "    def _generator():\n",
    "        a = yield tfd.Sample(tfd.Normal(loc=0.0, scale=1.5), sample_shape=7, name='a')\n",
    "        b = yield tfd.Normal(loc=[0., 0, 0, 0], scale=.5, name='b')\n",
    "        logit = jnp.take(a, actors) + jnp.take(b, treatments)\n",
    "        yield tfd.Binomial(total_count=1.0, logits=logit, name='pulled_left')\n",
    "\n",
    "    return tfd.JointDistributionCoroutineAutoBatched(_generator)"
   ]
  },
  {
   "cell_type": "code",
   "execution_count": 25,
   "metadata": {},
   "outputs": [],
   "source": [
    "jd_11_4 = model_11_4(d.actor_id.values, d.treatment.values)"
   ]
  },
  {
   "cell_type": "code",
   "execution_count": 26,
   "metadata": {},
   "outputs": [],
   "source": [
    "jd_11_4_pin = jd_11_4.experimental_pin(\n",
    "  pulled_left=jnp.array(d.pulled_left.values, dtype=jnp.float32))"
   ]
  },
  {
   "cell_type": "code",
   "execution_count": 27,
   "metadata": {},
   "outputs": [],
   "source": [
    "# https://www.tensorflow.org/probability/examples/Modeling_with_JointDistribution\n",
    "@jax.jit\n",
    "def run_chain(init_state, seed, step_size=1e-3, num_steps=500, burnin=300):\n",
    "\n",
    "#   def trace_fn(_, pkr):\n",
    "#     return (\n",
    "#         pkr.inner_results.inner_results.target_log_prob,\n",
    "#         pkr.inner_results.inner_results.leapfrogs_taken,\n",
    "#         pkr.inner_results.inner_results.has_divergence,\n",
    "#         pkr.inner_results.inner_results.energy,\n",
    "#         pkr.inner_results.inner_results.log_accept_ratio)\n",
    "\n",
    "  def target_log_prob(*states):\n",
    "    return jd_11_4_pin.unnormalized_log_prob(states)\n",
    "  \n",
    "  bijectors = [tfb.Identity(), tfb.Identity()]\n",
    "\n",
    "  kernel = tfp.mcmc.NoUTurnSampler(\n",
    "      target_log_prob_fn=target_log_prob,\n",
    "      step_size=step_size)\n",
    "  \n",
    "  kernel = tfp.mcmc.TransformedTransitionKernel(\n",
    "    inner_kernel=kernel,\n",
    "    bijector=bijectors)\n",
    "\n",
    "  kernel = tfp.mcmc.DualAveragingStepSizeAdaptation(\n",
    "    inner_kernel=kernel,\n",
    "    num_adaptation_steps=burnin,\n",
    "    # step_size_setter_fn=lambda pkr, new_step_size: pkr._replace(\n",
    "    #     inner_results=pkr.inner_results._replace(step_size=new_step_size)),\n",
    "    # step_size_getter_fn=lambda pkr: pkr.inner_results.step_size,\n",
    "    # log_accept_prob_getter_fn=lambda pkr: pkr.inner_results.log_accept_ratio\n",
    "  )\n",
    "\n",
    "  chain_state = tfp.mcmc.sample_chain(\n",
    "      num_results=num_steps,\n",
    "      num_burnin_steps=burnin,\n",
    "      current_state=init_state,\n",
    "      kernel=kernel,\n",
    "      seed=seed,\n",
    "      trace_fn=None)\n",
    "  \n",
    "  return chain_state"
   ]
  },
  {
   "cell_type": "code",
   "execution_count": 28,
   "metadata": {},
   "outputs": [],
   "source": [
    "num_chains = 4\n",
    "init_state = jd_11_4_pin.sample_unpinned(num_chains, seed=key())\n",
    "\n",
    "post_4 = run_chain(init_state=init_state, seed=key())"
   ]
  },
  {
   "cell_type": "code",
   "execution_count": 29,
   "metadata": {},
   "outputs": [],
   "source": [
    "post_4_dict = {k: jnp.moveaxis(v, 0, 1) for k, v in post_4._asdict().items()}\n",
    "dict_4 = dict(posterior=post_4_dict)\n",
    "idata_4 = az.from_dict(**dict_4)"
   ]
  },
  {
   "cell_type": "code",
   "execution_count": 30,
   "metadata": {},
   "outputs": [
    {
     "data": {
      "text/html": [
       "<div>\n",
       "<style scoped>\n",
       "    .dataframe tbody tr th:only-of-type {\n",
       "        vertical-align: middle;\n",
       "    }\n",
       "\n",
       "    .dataframe tbody tr th {\n",
       "        vertical-align: top;\n",
       "    }\n",
       "\n",
       "    .dataframe thead th {\n",
       "        text-align: right;\n",
       "    }\n",
       "</style>\n",
       "<table border=\"1\" class=\"dataframe\">\n",
       "  <thead>\n",
       "    <tr style=\"text-align: right;\">\n",
       "      <th></th>\n",
       "      <th>mean</th>\n",
       "      <th>sd</th>\n",
       "      <th>hdi_5.5%</th>\n",
       "      <th>hdi_94.5%</th>\n",
       "      <th>mcse_mean</th>\n",
       "      <th>mcse_sd</th>\n",
       "      <th>ess_bulk</th>\n",
       "      <th>ess_tail</th>\n",
       "      <th>r_hat</th>\n",
       "    </tr>\n",
       "  </thead>\n",
       "  <tbody>\n",
       "    <tr>\n",
       "      <th>a[0]</th>\n",
       "      <td>-0.444</td>\n",
       "      <td>0.322</td>\n",
       "      <td>-0.964</td>\n",
       "      <td>0.052</td>\n",
       "      <td>0.008</td>\n",
       "      <td>0.006</td>\n",
       "      <td>1568.0</td>\n",
       "      <td>1561.0</td>\n",
       "      <td>1.00</td>\n",
       "    </tr>\n",
       "    <tr>\n",
       "      <th>a[1]</th>\n",
       "      <td>3.888</td>\n",
       "      <td>0.730</td>\n",
       "      <td>2.739</td>\n",
       "      <td>5.031</td>\n",
       "      <td>0.024</td>\n",
       "      <td>0.017</td>\n",
       "      <td>973.0</td>\n",
       "      <td>1020.0</td>\n",
       "      <td>1.00</td>\n",
       "    </tr>\n",
       "    <tr>\n",
       "      <th>a[2]</th>\n",
       "      <td>-0.739</td>\n",
       "      <td>0.331</td>\n",
       "      <td>-1.288</td>\n",
       "      <td>-0.226</td>\n",
       "      <td>0.009</td>\n",
       "      <td>0.006</td>\n",
       "      <td>1470.0</td>\n",
       "      <td>1403.0</td>\n",
       "      <td>1.00</td>\n",
       "    </tr>\n",
       "    <tr>\n",
       "      <th>a[3]</th>\n",
       "      <td>-0.746</td>\n",
       "      <td>0.333</td>\n",
       "      <td>-1.263</td>\n",
       "      <td>-0.204</td>\n",
       "      <td>0.008</td>\n",
       "      <td>0.006</td>\n",
       "      <td>1568.0</td>\n",
       "      <td>1702.0</td>\n",
       "      <td>1.00</td>\n",
       "    </tr>\n",
       "    <tr>\n",
       "      <th>a[4]</th>\n",
       "      <td>-0.448</td>\n",
       "      <td>0.326</td>\n",
       "      <td>-0.950</td>\n",
       "      <td>0.094</td>\n",
       "      <td>0.008</td>\n",
       "      <td>0.006</td>\n",
       "      <td>1645.0</td>\n",
       "      <td>1436.0</td>\n",
       "      <td>1.00</td>\n",
       "    </tr>\n",
       "    <tr>\n",
       "      <th>a[5]</th>\n",
       "      <td>0.485</td>\n",
       "      <td>0.329</td>\n",
       "      <td>0.004</td>\n",
       "      <td>1.059</td>\n",
       "      <td>0.009</td>\n",
       "      <td>0.006</td>\n",
       "      <td>1465.0</td>\n",
       "      <td>1681.0</td>\n",
       "      <td>1.00</td>\n",
       "    </tr>\n",
       "    <tr>\n",
       "      <th>a[6]</th>\n",
       "      <td>1.958</td>\n",
       "      <td>0.418</td>\n",
       "      <td>1.307</td>\n",
       "      <td>2.660</td>\n",
       "      <td>0.011</td>\n",
       "      <td>0.008</td>\n",
       "      <td>1476.0</td>\n",
       "      <td>1471.0</td>\n",
       "      <td>1.00</td>\n",
       "    </tr>\n",
       "    <tr>\n",
       "      <th>b[0]</th>\n",
       "      <td>-0.050</td>\n",
       "      <td>0.279</td>\n",
       "      <td>-0.474</td>\n",
       "      <td>0.413</td>\n",
       "      <td>0.007</td>\n",
       "      <td>0.005</td>\n",
       "      <td>1520.0</td>\n",
       "      <td>1575.0</td>\n",
       "      <td>1.00</td>\n",
       "    </tr>\n",
       "    <tr>\n",
       "      <th>b[1]</th>\n",
       "      <td>0.477</td>\n",
       "      <td>0.278</td>\n",
       "      <td>-0.008</td>\n",
       "      <td>0.883</td>\n",
       "      <td>0.007</td>\n",
       "      <td>0.005</td>\n",
       "      <td>1491.0</td>\n",
       "      <td>1384.0</td>\n",
       "      <td>1.00</td>\n",
       "    </tr>\n",
       "    <tr>\n",
       "      <th>b[2]</th>\n",
       "      <td>-0.380</td>\n",
       "      <td>0.290</td>\n",
       "      <td>-0.884</td>\n",
       "      <td>0.058</td>\n",
       "      <td>0.008</td>\n",
       "      <td>0.006</td>\n",
       "      <td>1490.0</td>\n",
       "      <td>1565.0</td>\n",
       "      <td>1.00</td>\n",
       "    </tr>\n",
       "    <tr>\n",
       "      <th>b[3]</th>\n",
       "      <td>0.362</td>\n",
       "      <td>0.282</td>\n",
       "      <td>-0.087</td>\n",
       "      <td>0.801</td>\n",
       "      <td>0.007</td>\n",
       "      <td>0.005</td>\n",
       "      <td>1502.0</td>\n",
       "      <td>1415.0</td>\n",
       "      <td>1.01</td>\n",
       "    </tr>\n",
       "  </tbody>\n",
       "</table>\n",
       "</div>"
      ],
      "text/plain": [
       "       mean     sd  hdi_5.5%  hdi_94.5%  mcse_mean  mcse_sd  ess_bulk  \\\n",
       "a[0] -0.444  0.322    -0.964      0.052      0.008    0.006    1568.0   \n",
       "a[1]  3.888  0.730     2.739      5.031      0.024    0.017     973.0   \n",
       "a[2] -0.739  0.331    -1.288     -0.226      0.009    0.006    1470.0   \n",
       "a[3] -0.746  0.333    -1.263     -0.204      0.008    0.006    1568.0   \n",
       "a[4] -0.448  0.326    -0.950      0.094      0.008    0.006    1645.0   \n",
       "a[5]  0.485  0.329     0.004      1.059      0.009    0.006    1465.0   \n",
       "a[6]  1.958  0.418     1.307      2.660      0.011    0.008    1476.0   \n",
       "b[0] -0.050  0.279    -0.474      0.413      0.007    0.005    1520.0   \n",
       "b[1]  0.477  0.278    -0.008      0.883      0.007    0.005    1491.0   \n",
       "b[2] -0.380  0.290    -0.884      0.058      0.008    0.006    1490.0   \n",
       "b[3]  0.362  0.282    -0.087      0.801      0.007    0.005    1502.0   \n",
       "\n",
       "      ess_tail  r_hat  \n",
       "a[0]    1561.0   1.00  \n",
       "a[1]    1020.0   1.00  \n",
       "a[2]    1403.0   1.00  \n",
       "a[3]    1702.0   1.00  \n",
       "a[4]    1436.0   1.00  \n",
       "a[5]    1681.0   1.00  \n",
       "a[6]    1471.0   1.00  \n",
       "b[0]    1575.0   1.00  \n",
       "b[1]    1384.0   1.00  \n",
       "b[2]    1565.0   1.00  \n",
       "b[3]    1415.0   1.01  "
      ]
     },
     "execution_count": 30,
     "metadata": {},
     "output_type": "execute_result"
    }
   ],
   "source": [
    "az.summary(idata_4, hdi_prob=0.89)"
   ]
  },
  {
   "cell_type": "markdown",
   "metadata": {},
   "source": [
    "Clearly interpretation of all these varying parameters is difficult now. The alphas above represent intercepts unique to each chimpanzee. Each of these expresses the tendency of each individual to pull the left lever. "
   ]
  },
  {
   "cell_type": "markdown",
   "metadata": {},
   "source": [
    "##### Code 11.12"
   ]
  },
  {
   "cell_type": "code",
   "execution_count": 31,
   "metadata": {},
   "outputs": [
    {
     "data": {
      "text/plain": [
       "array([<Axes: title={'center': '89.0% HDI'}>], dtype=object)"
      ]
     },
     "execution_count": 31,
     "metadata": {},
     "output_type": "execute_result"
    },
    {
     "data": {
      "image/png": "[encoded data removed]",
      "text/plain": [
       "<Figure size 600x470 with 1 Axes>"
      ]
     },
     "metadata": {},
     "output_type": "display_data"
    }
   ],
   "source": [
    "p_left = jax.nn.sigmoid(idata_4.posterior['a'].values)\n",
    "az.plot_forest({'p_left' : p_left}, combined=True, hdi_prob=0.89)"
   ]
  },
  {
   "cell_type": "markdown",
   "metadata": {},
   "source": [
    "What above plot shows is that 0,2,3,4 show preference for right lever.\n",
    "Two chimps (1 & 6) show strong preference for left lever and it is also reflected in the data"
   ]
  },
  {
   "cell_type": "markdown",
   "metadata": {},
   "source": [
    "##### Code 11.13\n",
    "\n",
    "Here we are now considering treatment effects and hoping that they are estimated more precisely"
   ]
  },
  {
   "cell_type": "code",
   "execution_count": 32,
   "metadata": {},
   "outputs": [
    {
     "data": {
      "image/png": "[encoded data removed]",
      "text/plain": [
       "<Figure size 600x440 with 1 Axes>"
      ]
     },
     "metadata": {},
     "output_type": "display_data"
    }
   ],
   "source": [
    "labs = [\"R/N\", \"L/N\", \"R/P\", \"L/P\"]\n",
    "az.plot_forest(idata_4, combined=True, var_names=\"b\", hdi_prob=0.89);"
   ]
  },
  {
   "cell_type": "markdown",
   "metadata": {},
   "source": [
    "* L/N => prosocial on left / no partner\n",
    "* R/P => proscoial on right / partner\n",
    "\n",
    "What we are looking for is evidence that the chimpanzees choose the prosocial option more when a partner is present. This implies comparing the first row with the third row and the second row with the fourth row"
   ]
  },
  {
   "cell_type": "markdown",
   "metadata": {},
   "source": [
    "##### Code 11.14"
   ]
  },
  {
   "cell_type": "code",
   "execution_count": 33,
   "metadata": {},
   "outputs": [
    {
     "data": {
      "image/png": "[encoded data removed]",
      "text/plain": [
       "<Figure size 600x520 with 1 Axes>"
      ]
     },
     "metadata": {},
     "output_type": "display_data"
    }
   ],
   "source": [
    "diffs = {\n",
    "    \"db13\": idata_4.posterior[\"b\"][..., 0] - idata_4.posterior[\"b\"][..., 2],\n",
    "    \"db24\": idata_4.posterior[\"b\"][..., 1] - idata_4.posterior[\"b\"][..., 3],\n",
    "}\n",
    "az.plot_forest(diffs, combined=True)\n",
    "plt.show()"
   ]
  },
  {
   "cell_type": "markdown",
   "metadata": {},
   "source": [
    "db13 is the difference between no-partner/partner treatments when the prosocial option was on the right.\n",
    "\n",
    "There is a weak evidence that individual pulled left more when the partner was absent"
   ]
  },
  {
   "cell_type": "markdown",
   "metadata": {},
   "source": [
    "## Code 11.15\n",
    "\n",
    "Compute proportion in each combination of actor & treatment"
   ]
  },
  {
   "cell_type": "code",
   "execution_count": 34,
   "metadata": {},
   "outputs": [
    {
     "data": {
      "text/html": [
       "<div>\n",
       "<style scoped>\n",
       "    .dataframe tbody tr th:only-of-type {\n",
       "        vertical-align: middle;\n",
       "    }\n",
       "\n",
       "    .dataframe tbody tr th {\n",
       "        vertical-align: top;\n",
       "    }\n",
       "\n",
       "    .dataframe thead th {\n",
       "        text-align: right;\n",
       "    }\n",
       "</style>\n",
       "<table border=\"1\" class=\"dataframe\">\n",
       "  <thead>\n",
       "    <tr style=\"text-align: right;\">\n",
       "      <th>treatment</th>\n",
       "      <th>0</th>\n",
       "      <th>1</th>\n",
       "      <th>2</th>\n",
       "      <th>3</th>\n",
       "    </tr>\n",
       "    <tr>\n",
       "      <th>actor</th>\n",
       "      <th></th>\n",
       "      <th></th>\n",
       "      <th></th>\n",
       "      <th></th>\n",
       "    </tr>\n",
       "  </thead>\n",
       "  <tbody>\n",
       "    <tr>\n",
       "      <th>1</th>\n",
       "      <td>0.333333</td>\n",
       "      <td>0.500000</td>\n",
       "      <td>0.277778</td>\n",
       "      <td>0.555556</td>\n",
       "    </tr>\n",
       "    <tr>\n",
       "      <th>2</th>\n",
       "      <td>1.000000</td>\n",
       "      <td>1.000000</td>\n",
       "      <td>1.000000</td>\n",
       "      <td>1.000000</td>\n",
       "    </tr>\n",
       "    <tr>\n",
       "      <th>3</th>\n",
       "      <td>0.277778</td>\n",
       "      <td>0.611111</td>\n",
       "      <td>0.166667</td>\n",
       "      <td>0.333333</td>\n",
       "    </tr>\n",
       "    <tr>\n",
       "      <th>4</th>\n",
       "      <td>0.333333</td>\n",
       "      <td>0.500000</td>\n",
       "      <td>0.111111</td>\n",
       "      <td>0.444444</td>\n",
       "    </tr>\n",
       "    <tr>\n",
       "      <th>5</th>\n",
       "      <td>0.333333</td>\n",
       "      <td>0.555556</td>\n",
       "      <td>0.277778</td>\n",
       "      <td>0.500000</td>\n",
       "    </tr>\n",
       "    <tr>\n",
       "      <th>6</th>\n",
       "      <td>0.777778</td>\n",
       "      <td>0.611111</td>\n",
       "      <td>0.555556</td>\n",
       "      <td>0.611111</td>\n",
       "    </tr>\n",
       "    <tr>\n",
       "      <th>7</th>\n",
       "      <td>0.777778</td>\n",
       "      <td>0.833333</td>\n",
       "      <td>0.944444</td>\n",
       "      <td>1.000000</td>\n",
       "    </tr>\n",
       "  </tbody>\n",
       "</table>\n",
       "</div>"
      ],
      "text/plain": [
       "treatment         0         1         2         3\n",
       "actor                                            \n",
       "1          0.333333  0.500000  0.277778  0.555556\n",
       "2          1.000000  1.000000  1.000000  1.000000\n",
       "3          0.277778  0.611111  0.166667  0.333333\n",
       "4          0.333333  0.500000  0.111111  0.444444\n",
       "5          0.333333  0.555556  0.277778  0.500000\n",
       "6          0.777778  0.611111  0.555556  0.611111\n",
       "7          0.777778  0.833333  0.944444  1.000000"
      ]
     },
     "execution_count": 34,
     "metadata": {},
     "output_type": "execute_result"
    }
   ],
   "source": [
    "pl = d.groupby([\"actor\", \"treatment\"])[\"pulled_left\"].mean().unstack()\n",
    "pl"
   ]
  },
  {
   "cell_type": "markdown",
   "metadata": {},
   "source": [
    "the cells contain proportions of pulls that were of the left lever"
   ]
  },
  {
   "cell_type": "markdown",
   "metadata": {},
   "source": [
    "##### Code 11.16\n",
    "\n",
    "Plotting observed proportions"
   ]
  },
  {
   "cell_type": "code",
   "execution_count": 35,
   "metadata": {},
   "outputs": [
    {
     "data": {
      "image/png": "[encoded data removed]",
      "text/plain": [
       "<Figure size 600x500 with 1 Axes>"
      ]
     },
     "metadata": {},
     "output_type": "display_data"
    }
   ],
   "source": [
    "ax = plt.subplot(\n",
    "    xlim=(0.5, 28.5),\n",
    "    ylim=(0, 1.05),\n",
    "    xlabel=\"\",\n",
    "    ylabel=\"proportion left lever\",\n",
    "    xticks=[],\n",
    ")\n",
    "plt.yticks(ticks=[0, 0.5, 1], labels=[0, 0.5, 1])\n",
    "ax.axhline(0.5, c=\"k\", lw=1, ls=\"--\")\n",
    "for j in range(1, 8):\n",
    "    ax.axvline((j - 1) * 4 + 4.5, c=\"k\", lw=0.5)\n",
    "for j in range(1, 8):\n",
    "    ax.annotate(\n",
    "        \"actor {}\".format(j),\n",
    "        ((j - 1) * 4 + 2.5, 1.1),\n",
    "        ha=\"center\",\n",
    "        va=\"center\",\n",
    "        annotation_clip=False,\n",
    "    )\n",
    "for j in np.delete(range(1, 8), 1):\n",
    "    ax.plot((j - 1) * 4 + np.array([1, 3]), pl.loc[j, [0, 2]], \"b\")\n",
    "    ax.plot((j - 1) * 4 + np.array([2, 4]), pl.loc[j, [1, 3]], \"b\")\n",
    "x = np.arange(1, 29).reshape(7, 4)\n",
    "ax.scatter(\n",
    "    x[:, [0, 1]].reshape(-1),\n",
    "    pl.values[:, [0, 1]].reshape(-1),\n",
    "    edgecolor=\"b\",\n",
    "    facecolor=\"w\",\n",
    "    zorder=3,\n",
    ")\n",
    "ax.scatter(\n",
    "    x[:, [2, 3]].reshape(-1), pl.values[:, [2, 3]].reshape(-1), marker=\".\", c=\"b\", s=80\n",
    ")\n",
    "yoff = 0.01\n",
    "ax.annotate(\"R/N\", (1, pl.loc[1, 0] - yoff), ha=\"center\", va=\"top\")\n",
    "ax.annotate(\"L/N\", (2, pl.loc[1, 1] + yoff), ha=\"center\", va=\"bottom\")\n",
    "ax.annotate(\"R/P\", (3, pl.loc[1, 2] - yoff), ha=\"center\", va=\"top\")\n",
    "ax.annotate(\"L/P\", (4, pl.loc[1, 3] + yoff), ha=\"center\", va=\"bottom\")\n",
    "ax.set_title(\"observed proportions\\n\")\n",
    "plt.tight_layout()\n"
   ]
  },
  {
   "cell_type": "markdown",
   "metadata": {},
   "source": [
    "##### Code 11.17"
   ]
  },
  {
   "cell_type": "code",
   "execution_count": 36,
   "metadata": {},
   "outputs": [],
   "source": [
    "dat = {\"actor\": np.repeat(np.arange(7), 4), \"treatment\": np.tile(np.arange(4), 7)}\n",
    "\n",
    "def compute_p_for_given_actor_treatment(params):\n",
    "    a = params[0]\n",
    "    t = params[1]\n",
    "    p = idata_4.posterior[\"a\"].values[0][:, a] + idata_4.posterior[\"b\"].values[0][:, t]\n",
    "    return jax.nn.sigmoid(p)\n",
    "\n",
    "params = zip(dat[\"actor\"], dat[\"treatment\"])\n",
    "\n",
    "p = np.array(list(map(compute_p_for_given_actor_treatment, params))).T\n",
    "\n",
    "p_mu = np.mean(p, 0)\n",
    "p_ci = np.percentile(p, q=(4.5, 95.5), axis=0)"
   ]
  },
  {
   "cell_type": "markdown",
   "metadata": {},
   "source": [
    "##### Code 11.18"
   ]
  },
  {
   "cell_type": "code",
   "execution_count": 37,
   "metadata": {},
   "outputs": [],
   "source": [
    "d[\"side\"] = d.prosoc_left  # right 0, left 1\n",
    "d[\"cond\"] = d.condition  # no partner 0, partner 1"
   ]
  },
  {
   "cell_type": "markdown",
   "metadata": {},
   "source": [
    "##### Code 11.19"
   ]
  },
  {
   "cell_type": "code",
   "execution_count": 38,
   "metadata": {},
   "outputs": [],
   "source": [
    "def model_11_5(actor, side, cond):\n",
    "  actor = jnp.array(actor, dtype=jnp.int32)\n",
    "  side = jnp.array(side, dtype=jnp.int32)\n",
    "  cond = jnp.array(cond, dtype=jnp.int32)\n",
    "\n",
    "  def _generator():\n",
    "    a = yield tfd.Sample(tfd.Normal(loc=0.0, scale=1.5), sample_shape=7, name='a')\n",
    "    bs = yield tfd.Sample(tfd.Normal(loc=0.0, scale=0.5), sample_shape=2, name='bs')\n",
    "    bc = yield tfd.Sample(tfd.Normal(loc=0.0, scale=0.5), sample_shape=2, name='bc')\n",
    "    logits = jnp.take(a, actor) + jnp.take(bs, side) + jnp.take(bc, cond)\n",
    "    yield tfd.Binomial(total_count=1.0, logits=logits, name='pulled_left')\n",
    "\n",
    "  return tfd.JointDistributionCoroutineAutoBatched(_generator)"
   ]
  },
  {
   "cell_type": "code",
   "execution_count": 39,
   "metadata": {},
   "outputs": [],
   "source": [
    "jd_11_5 = model_11_5(d.actor_id.values, d.side.values, d.cond.values)"
   ]
  },
  {
   "cell_type": "code",
   "execution_count": 40,
   "metadata": {},
   "outputs": [],
   "source": [
    "jd_11_5_pin = jd_11_5.experimental_pin(\n",
    "  pulled_left=jnp.array(d.pulled_left.values, dtype=jnp.float32))"
   ]
  },
  {
   "cell_type": "code",
   "execution_count": 41,
   "metadata": {},
   "outputs": [],
   "source": [
    "@jax.jit\n",
    "def run_chain(init_state, seed, step_size=1e-3, num_steps=500, burnin=300):\n",
    "\n",
    "  def target_log_prob(*states):\n",
    "    return jd_11_5_pin.unnormalized_log_prob(states)\n",
    "  \n",
    "  bijectors = [tfb.Identity(), tfb.Identity(), tfb.Identity()]\n",
    "\n",
    "  kernel = tfp.mcmc.NoUTurnSampler(\n",
    "      target_log_prob_fn=target_log_prob,\n",
    "      step_size=step_size)\n",
    "  \n",
    "  kernel = tfp.mcmc.TransformedTransitionKernel(\n",
    "    inner_kernel=kernel,\n",
    "    bijector=bijectors)\n",
    "\n",
    "  kernel = tfp.mcmc.DualAveragingStepSizeAdaptation(\n",
    "    inner_kernel=kernel,\n",
    "    num_adaptation_steps=burnin)\n",
    "\n",
    "  chain_state = tfp.mcmc.sample_chain(\n",
    "      num_results=num_steps,\n",
    "      num_burnin_steps=burnin,\n",
    "      current_state=init_state,\n",
    "      kernel=kernel,\n",
    "      seed=seed,\n",
    "      trace_fn=None)\n",
    "  \n",
    "  return chain_state"
   ]
  },
  {
   "cell_type": "code",
   "execution_count": 42,
   "metadata": {},
   "outputs": [],
   "source": [
    "num_chains = 4\n",
    "init_state = jd_11_5_pin.sample_unpinned(num_chains, seed=key())\n",
    "\n",
    "post_5 = run_chain(init_state=init_state, seed=key())"
   ]
  },
  {
   "cell_type": "code",
   "execution_count": 43,
   "metadata": {},
   "outputs": [],
   "source": [
    "post_5_dict = {k: jnp.moveaxis(v, 0, 1) for k, v in post_5._asdict().items()}\n",
    "dict_5 = dict(posterior=post_5_dict)\n",
    "idata_5 = az.from_dict(**dict_5)"
   ]
  },
  {
   "cell_type": "code",
   "execution_count": 44,
   "metadata": {},
   "outputs": [
    {
     "data": {
      "text/html": [
       "<div>\n",
       "<style scoped>\n",
       "    .dataframe tbody tr th:only-of-type {\n",
       "        vertical-align: middle;\n",
       "    }\n",
       "\n",
       "    .dataframe tbody tr th {\n",
       "        vertical-align: top;\n",
       "    }\n",
       "\n",
       "    .dataframe thead th {\n",
       "        text-align: right;\n",
       "    }\n",
       "</style>\n",
       "<table border=\"1\" class=\"dataframe\">\n",
       "  <thead>\n",
       "    <tr style=\"text-align: right;\">\n",
       "      <th></th>\n",
       "      <th>mean</th>\n",
       "      <th>sd</th>\n",
       "      <th>hdi_5.5%</th>\n",
       "      <th>hdi_94.5%</th>\n",
       "      <th>mcse_mean</th>\n",
       "      <th>mcse_sd</th>\n",
       "      <th>ess_bulk</th>\n",
       "      <th>ess_tail</th>\n",
       "      <th>r_hat</th>\n",
       "    </tr>\n",
       "  </thead>\n",
       "  <tbody>\n",
       "    <tr>\n",
       "      <th>a[0]</th>\n",
       "      <td>-0.653</td>\n",
       "      <td>0.444</td>\n",
       "      <td>-1.292</td>\n",
       "      <td>0.127</td>\n",
       "      <td>0.015</td>\n",
       "      <td>0.011</td>\n",
       "      <td>828.0</td>\n",
       "      <td>930.0</td>\n",
       "      <td>1.0</td>\n",
       "    </tr>\n",
       "    <tr>\n",
       "      <th>a[1]</th>\n",
       "      <td>3.784</td>\n",
       "      <td>0.826</td>\n",
       "      <td>2.509</td>\n",
       "      <td>5.121</td>\n",
       "      <td>0.031</td>\n",
       "      <td>0.022</td>\n",
       "      <td>736.0</td>\n",
       "      <td>859.0</td>\n",
       "      <td>1.0</td>\n",
       "    </tr>\n",
       "    <tr>\n",
       "      <th>a[2]</th>\n",
       "      <td>-0.949</td>\n",
       "      <td>0.445</td>\n",
       "      <td>-1.633</td>\n",
       "      <td>-0.198</td>\n",
       "      <td>0.015</td>\n",
       "      <td>0.011</td>\n",
       "      <td>866.0</td>\n",
       "      <td>1143.0</td>\n",
       "      <td>1.0</td>\n",
       "    </tr>\n",
       "    <tr>\n",
       "      <th>a[3]</th>\n",
       "      <td>-0.950</td>\n",
       "      <td>0.445</td>\n",
       "      <td>-1.636</td>\n",
       "      <td>-0.204</td>\n",
       "      <td>0.016</td>\n",
       "      <td>0.011</td>\n",
       "      <td>797.0</td>\n",
       "      <td>1037.0</td>\n",
       "      <td>1.0</td>\n",
       "    </tr>\n",
       "    <tr>\n",
       "      <th>a[4]</th>\n",
       "      <td>-0.652</td>\n",
       "      <td>0.447</td>\n",
       "      <td>-1.325</td>\n",
       "      <td>0.084</td>\n",
       "      <td>0.015</td>\n",
       "      <td>0.011</td>\n",
       "      <td>849.0</td>\n",
       "      <td>1093.0</td>\n",
       "      <td>1.0</td>\n",
       "    </tr>\n",
       "    <tr>\n",
       "      <th>a[5]</th>\n",
       "      <td>0.270</td>\n",
       "      <td>0.450</td>\n",
       "      <td>-0.471</td>\n",
       "      <td>0.975</td>\n",
       "      <td>0.016</td>\n",
       "      <td>0.011</td>\n",
       "      <td>827.0</td>\n",
       "      <td>1201.0</td>\n",
       "      <td>1.0</td>\n",
       "    </tr>\n",
       "    <tr>\n",
       "      <th>a[6]</th>\n",
       "      <td>1.765</td>\n",
       "      <td>0.514</td>\n",
       "      <td>1.003</td>\n",
       "      <td>2.648</td>\n",
       "      <td>0.017</td>\n",
       "      <td>0.012</td>\n",
       "      <td>968.0</td>\n",
       "      <td>1244.0</td>\n",
       "      <td>1.0</td>\n",
       "    </tr>\n",
       "    <tr>\n",
       "      <th>bc[0]</th>\n",
       "      <td>0.273</td>\n",
       "      <td>0.327</td>\n",
       "      <td>-0.287</td>\n",
       "      <td>0.755</td>\n",
       "      <td>0.010</td>\n",
       "      <td>0.007</td>\n",
       "      <td>1141.0</td>\n",
       "      <td>1322.0</td>\n",
       "      <td>1.0</td>\n",
       "    </tr>\n",
       "    <tr>\n",
       "      <th>bc[1]</th>\n",
       "      <td>0.024</td>\n",
       "      <td>0.327</td>\n",
       "      <td>-0.474</td>\n",
       "      <td>0.567</td>\n",
       "      <td>0.010</td>\n",
       "      <td>0.007</td>\n",
       "      <td>1080.0</td>\n",
       "      <td>1330.0</td>\n",
       "      <td>1.0</td>\n",
       "    </tr>\n",
       "    <tr>\n",
       "      <th>bs[0]</th>\n",
       "      <td>-0.183</td>\n",
       "      <td>0.333</td>\n",
       "      <td>-0.675</td>\n",
       "      <td>0.393</td>\n",
       "      <td>0.010</td>\n",
       "      <td>0.007</td>\n",
       "      <td>1064.0</td>\n",
       "      <td>1272.0</td>\n",
       "      <td>1.0</td>\n",
       "    </tr>\n",
       "    <tr>\n",
       "      <th>bs[1]</th>\n",
       "      <td>0.511</td>\n",
       "      <td>0.339</td>\n",
       "      <td>-0.019</td>\n",
       "      <td>1.058</td>\n",
       "      <td>0.010</td>\n",
       "      <td>0.007</td>\n",
       "      <td>1072.0</td>\n",
       "      <td>1194.0</td>\n",
       "      <td>1.0</td>\n",
       "    </tr>\n",
       "  </tbody>\n",
       "</table>\n",
       "</div>"
      ],
      "text/plain": [
       "        mean     sd  hdi_5.5%  hdi_94.5%  mcse_mean  mcse_sd  ess_bulk  \\\n",
       "a[0]  -0.653  0.444    -1.292      0.127      0.015    0.011     828.0   \n",
       "a[1]   3.784  0.826     2.509      5.121      0.031    0.022     736.0   \n",
       "a[2]  -0.949  0.445    -1.633     -0.198      0.015    0.011     866.0   \n",
       "a[3]  -0.950  0.445    -1.636     -0.204      0.016    0.011     797.0   \n",
       "a[4]  -0.652  0.447    -1.325      0.084      0.015    0.011     849.0   \n",
       "a[5]   0.270  0.450    -0.471      0.975      0.016    0.011     827.0   \n",
       "a[6]   1.765  0.514     1.003      2.648      0.017    0.012     968.0   \n",
       "bc[0]  0.273  0.327    -0.287      0.755      0.010    0.007    1141.0   \n",
       "bc[1]  0.024  0.327    -0.474      0.567      0.010    0.007    1080.0   \n",
       "bs[0] -0.183  0.333    -0.675      0.393      0.010    0.007    1064.0   \n",
       "bs[1]  0.511  0.339    -0.019      1.058      0.010    0.007    1072.0   \n",
       "\n",
       "       ess_tail  r_hat  \n",
       "a[0]      930.0    1.0  \n",
       "a[1]      859.0    1.0  \n",
       "a[2]     1143.0    1.0  \n",
       "a[3]     1037.0    1.0  \n",
       "a[4]     1093.0    1.0  \n",
       "a[5]     1201.0    1.0  \n",
       "a[6]     1244.0    1.0  \n",
       "bc[0]    1322.0    1.0  \n",
       "bc[1]    1330.0    1.0  \n",
       "bs[0]    1272.0    1.0  \n",
       "bs[1]    1194.0    1.0  "
      ]
     },
     "execution_count": 44,
     "metadata": {},
     "output_type": "execute_result"
    }
   ],
   "source": [
    "az.summary(idata_5, hdi_prob=0.89)"
   ]
  },
  {
   "cell_type": "markdown",
   "metadata": {},
   "source": [
    "##### Code 11.20\n",
    "\n",
    "We need to compute likelihoods in order to use arviz's compare method"
   ]
  },
  {
   "cell_type": "code",
   "execution_count": 45,
   "metadata": {},
   "outputs": [],
   "source": [
    "def model_11_4x(actor, treatment):\n",
    "  actor = tf.convert_to_tensor(actor, dtype=tf.int32)\n",
    "  treatment = tf.convert_to_tensor(treatment, dtype=tf.int32)\n",
    "\n",
    "  def _generator():\n",
    "    a = yield xtfd.Sample(xtfd.Normal(loc=0.0, scale=1.5), sample_shape=7, name='a')\n",
    "    b = yield xtfd.Normal(loc=[0., 0, 0, 0], scale=.5, name='b')\n",
    "    logits = tf.gather(a, actor) + tf.gather(b, treatment)\n",
    "    yield xtfd.Binomial(total_count=1.0, logits=logits, name='pulled_left')\n",
    "\n",
    "  return xtfd.JointDistributionCoroutineAutoBatched(_generator)"
   ]
  },
  {
   "cell_type": "code",
   "execution_count": 46,
   "metadata": {},
   "outputs": [],
   "source": [
    "jd_4x = model_11_4x(d.actor_id.values, d.treatment.values)\n",
    "ds_4, _ = jd_4x.sample_distributions(value=post_4)\n",
    "ll_4 = ds_4[-1].log_prob(d.pulled_left.values)\n",
    "ll_4 = np.moveaxis(ll_4, 0, 1) "
   ]
  },
  {
   "cell_type": "code",
   "execution_count": 47,
   "metadata": {},
   "outputs": [],
   "source": [
    "dict_4.update(log_likelihood={'ll': ll_4},\n",
    "              dims={\"ll\": [\"obs\"]},\n",
    "              coords={\"obs\": np.arange(len(d.pulled_left.values))})\n",
    "idata_4 = az.from_dict(**dict_4)"
   ]
  },
  {
   "cell_type": "code",
   "execution_count": 48,
   "metadata": {},
   "outputs": [],
   "source": [
    "def model_11_5x(actor, side, cond):\n",
    "  actor = tf.convert_to_tensor(actor, dtype=tf.int32)\n",
    "  side = tf.convert_to_tensor(side, dtype=tf.int32)\n",
    "  cond = tf.convert_to_tensor(cond, dtype=tf.int32)\n",
    "\n",
    "  def _generator():\n",
    "    a = yield xtfd.Sample(xtfd.Normal(loc=0.0, scale=1.5), sample_shape=7, name='a')\n",
    "    bs = yield xtfd.Sample(xtfd.Normal(loc=0.0, scale=0.5), sample_shape=2, name='bs')\n",
    "    bc = yield xtfd.Sample(xtfd.Normal(loc=0.0, scale=0.5), sample_shape=2, name='bc')\n",
    "    logits = tf.gather(a, actor) + tf.gather(bs, side) + tf.gather(bc, cond)\n",
    "    yield xtfd.Binomial(total_count=1.0, logits=logits, name='pulled_left')\n",
    "\n",
    "  return xtfd.JointDistributionCoroutineAutoBatched(_generator)"
   ]
  },
  {
   "cell_type": "code",
   "execution_count": 49,
   "metadata": {},
   "outputs": [],
   "source": [
    "jd_5x = model_11_5x(d.actor_id.values, d.side.values, d.cond.values)\n",
    "ds, _ = jd_5x.sample_distributions(value=post_5)\n",
    "ll_5 = ds[-1].log_prob(d.pulled_left.values)\n",
    "ll_5 = np.moveaxis(ll_5, 0, 1) "
   ]
  },
  {
   "cell_type": "code",
   "execution_count": 50,
   "metadata": {},
   "outputs": [],
   "source": [
    "dict_5.update(log_likelihood={'ll': ll_5},\n",
    "              dims={\"ll\": [\"obs\"]},\n",
    "              coords={\"obs\": np.arange(len(d.pulled_left.values))})\n",
    "idata_5 = az.from_dict(**dict_5)"
   ]
  },
  {
   "cell_type": "code",
   "execution_count": 51,
   "metadata": {},
   "outputs": [
    {
     "data": {
      "text/html": [
       "<div>\n",
       "<style scoped>\n",
       "    .dataframe tbody tr th:only-of-type {\n",
       "        vertical-align: middle;\n",
       "    }\n",
       "\n",
       "    .dataframe tbody tr th {\n",
       "        vertical-align: top;\n",
       "    }\n",
       "\n",
       "    .dataframe thead th {\n",
       "        text-align: right;\n",
       "    }\n",
       "</style>\n",
       "<table border=\"1\" class=\"dataframe\">\n",
       "  <thead>\n",
       "    <tr style=\"text-align: right;\">\n",
       "      <th></th>\n",
       "      <th>rank</th>\n",
       "      <th>elpd_loo</th>\n",
       "      <th>p_loo</th>\n",
       "      <th>elpd_diff</th>\n",
       "      <th>weight</th>\n",
       "      <th>se</th>\n",
       "      <th>dse</th>\n",
       "      <th>warning</th>\n",
       "      <th>scale</th>\n",
       "    </tr>\n",
       "  </thead>\n",
       "  <tbody>\n",
       "    <tr>\n",
       "      <th>m11.5</th>\n",
       "      <td>0</td>\n",
       "      <td>530.592546</td>\n",
       "      <td>7.726895</td>\n",
       "      <td>0.000000</td>\n",
       "      <td>1.0</td>\n",
       "      <td>19.128082</td>\n",
       "      <td>0.000000</td>\n",
       "      <td>False</td>\n",
       "      <td>deviance</td>\n",
       "    </tr>\n",
       "    <tr>\n",
       "      <th>m11.4</th>\n",
       "      <td>1</td>\n",
       "      <td>532.427182</td>\n",
       "      <td>8.567087</td>\n",
       "      <td>1.834636</td>\n",
       "      <td>0.0</td>\n",
       "      <td>18.919016</td>\n",
       "      <td>1.270507</td>\n",
       "      <td>False</td>\n",
       "      <td>deviance</td>\n",
       "    </tr>\n",
       "  </tbody>\n",
       "</table>\n",
       "</div>"
      ],
      "text/plain": [
       "       rank    elpd_loo     p_loo  elpd_diff  weight         se       dse  \\\n",
       "m11.5     0  530.592546  7.726895   0.000000     1.0  19.128082  0.000000   \n",
       "m11.4     1  532.427182  8.567087   1.834636     0.0  18.919016  1.270507   \n",
       "\n",
       "       warning     scale  \n",
       "m11.5    False  deviance  \n",
       "m11.4    False  deviance  "
      ]
     },
     "execution_count": 51,
     "metadata": {},
     "output_type": "execute_result"
    }
   ],
   "source": [
    "az.compare({\"m11.5\": idata_5, \"m11.4\": idata_4}, ic='loo', scale=\"deviance\")"
   ]
  },
  {
   "cell_type": "markdown",
   "metadata": {},
   "source": [
    "### 11.1.2 Relative shark and absolute penguin"
   ]
  },
  {
   "cell_type": "markdown",
   "metadata": {},
   "source": [
    "##### Code 11.23"
   ]
  },
  {
   "cell_type": "code",
   "execution_count": 52,
   "metadata": {},
   "outputs": [
    {
     "data": {
      "text/plain": [
       "0.9265165"
      ]
     },
     "execution_count": 52,
     "metadata": {},
     "output_type": "execute_result"
    }
   ],
   "source": [
    "np.mean(np.exp(post_4_dict['b'][:, :, 3] - post_4_dict['b'][:, :, 1]))"
   ]
  },
  {
   "cell_type": "markdown",
   "metadata": {},
   "source": [
    "### Aggregated binomial: Chimpanzees again,condensed"
   ]
  },
  {
   "cell_type": "markdown",
   "metadata": {},
   "source": [
    "##### Code 11.24"
   ]
  },
  {
   "cell_type": "code",
   "execution_count": 53,
   "metadata": {},
   "outputs": [],
   "source": [
    "d = pd.read_csv(\"./data/chimpanzees.csv\", sep=\";\")\n",
    "d[\"treatment\"] = d.prosoc_left + 2 * d.condition\n",
    "d[\"side\"] = d.prosoc_left  # right 0, left 1\n",
    "d[\"cond\"] = d.condition  # no partner 0, partner 1\n",
    "d_aggregated = (\n",
    "    d.groupby([\"treatment\", \"actor\", \"side\", \"cond\"])[\"pulled_left\"].sum().reset_index()\n",
    ")\n",
    "d_aggregated.rename(columns={\"pulled_left\": \"left_pulls\"}, inplace=True)\n",
    "\n",
    "d_aggregated[\"actor_id\"] = d_aggregated[\"actor\"].values - 1"
   ]
  },
  {
   "cell_type": "markdown",
   "metadata": {},
   "source": [
    "##### Code 11.25"
   ]
  },
  {
   "cell_type": "code",
   "execution_count": 54,
   "metadata": {},
   "outputs": [],
   "source": [
    "def model_11_6(actor, treatment):\n",
    "  actor = jnp.array(actor, dtype=jnp.int32)\n",
    "  treatment = jnp.array(treatment, dtype=jnp.int32)\n",
    "\n",
    "  def _generator():\n",
    "    a = yield tfd.Sample(tfd.Normal(loc=0.0, scale=1.5), sample_shape=7, name='a')\n",
    "    b = yield tfd.Sample(tfd.Normal(loc=0.0, scale=0.5), sample_shape=4, name='b')\n",
    "    logits = jnp.take(a, actor) + jnp.take(b, treatment)\n",
    "    yield tfd.Binomial(total_count=18.0, logits=logits, name='left_pulls')\n",
    "\n",
    "  return tfd.JointDistributionCoroutineAutoBatched(_generator)"
   ]
  },
  {
   "cell_type": "code",
   "execution_count": 65,
   "metadata": {},
   "outputs": [],
   "source": [
    "jd_11_6 = model_11_6(d_aggregated.actor_id.values, d_aggregated.treatment.values)"
   ]
  },
  {
   "cell_type": "code",
   "execution_count": 66,
   "metadata": {},
   "outputs": [],
   "source": [
    "jd_11_6_pin = jd_11_6.experimental_pin(\n",
    "  left_pulls=jnp.array(d_aggregated.left_pulls.values, dtype=jnp.float32))"
   ]
  },
  {
   "cell_type": "code",
   "execution_count": 67,
   "metadata": {},
   "outputs": [],
   "source": [
    "@jax.jit\n",
    "def run_chain(init_state, seed, step_size=1e-3, num_steps=500, burnin=300):\n",
    "\n",
    "  def target_log_prob(*states):\n",
    "    return jd_11_6_pin.unnormalized_log_prob(states)\n",
    "  \n",
    "  bijectors = [tfb.Identity(), tfb.Identity()]\n",
    "\n",
    "  kernel = tfp.mcmc.NoUTurnSampler(\n",
    "      target_log_prob_fn=target_log_prob,\n",
    "      step_size=step_size)\n",
    "  \n",
    "  kernel = tfp.mcmc.TransformedTransitionKernel(\n",
    "    inner_kernel=kernel,\n",
    "    bijector=bijectors)\n",
    "\n",
    "  kernel = tfp.mcmc.DualAveragingStepSizeAdaptation(\n",
    "    inner_kernel=kernel,\n",
    "    num_adaptation_steps=burnin)\n",
    "\n",
    "  chain_state = tfp.mcmc.sample_chain(\n",
    "      num_results=num_steps,\n",
    "      num_burnin_steps=burnin,\n",
    "      current_state=init_state,\n",
    "      kernel=kernel,\n",
    "      seed=seed,\n",
    "      trace_fn=None)\n",
    "  \n",
    "  return chain_state"
   ]
  },
  {
   "cell_type": "code",
   "execution_count": 68,
   "metadata": {},
   "outputs": [],
   "source": [
    "num_chains = 4\n",
    "init_state = jd_11_6_pin.sample_unpinned(num_chains, seed=key())\n",
    "# StateTuple = namedtuple(\"StateTuple\", ['a', 'b'])\n",
    "# init_state = StateTuple(jnp.zeros((num_chains, 7)), jnp.zeros((num_chains, 4)))\n",
    "post_6 = run_chain(init_state=init_state, seed=key(), burnin=500)"
   ]
  },
  {
   "cell_type": "code",
   "execution_count": 69,
   "metadata": {},
   "outputs": [],
   "source": [
    "post_6_dict = {k: jnp.moveaxis(v, 0, 1) for k, v in post_6._asdict().items()}\n",
    "dict_6 = dict(posterior=post_6_dict)\n",
    "idata_6 = az.from_dict(**dict_6)"
   ]
  },
  {
   "cell_type": "code",
   "execution_count": 70,
   "metadata": {},
   "outputs": [
    {
     "data": {
      "text/html": [
       "<div>\n",
       "<style scoped>\n",
       "    .dataframe tbody tr th:only-of-type {\n",
       "        vertical-align: middle;\n",
       "    }\n",
       "\n",
       "    .dataframe tbody tr th {\n",
       "        vertical-align: top;\n",
       "    }\n",
       "\n",
       "    .dataframe thead th {\n",
       "        text-align: right;\n",
       "    }\n",
       "</style>\n",
       "<table border=\"1\" class=\"dataframe\">\n",
       "  <thead>\n",
       "    <tr style=\"text-align: right;\">\n",
       "      <th></th>\n",
       "      <th>mean</th>\n",
       "      <th>sd</th>\n",
       "      <th>hdi_5.5%</th>\n",
       "      <th>hdi_94.5%</th>\n",
       "      <th>mcse_mean</th>\n",
       "      <th>mcse_sd</th>\n",
       "      <th>ess_bulk</th>\n",
       "      <th>ess_tail</th>\n",
       "      <th>r_hat</th>\n",
       "    </tr>\n",
       "  </thead>\n",
       "  <tbody>\n",
       "    <tr>\n",
       "      <th>a[0]</th>\n",
       "      <td>-0.442</td>\n",
       "      <td>0.339</td>\n",
       "      <td>-0.992</td>\n",
       "      <td>0.090</td>\n",
       "      <td>0.009</td>\n",
       "      <td>0.007</td>\n",
       "      <td>1446.0</td>\n",
       "      <td>1290.0</td>\n",
       "      <td>1.0</td>\n",
       "    </tr>\n",
       "    <tr>\n",
       "      <th>a[1]</th>\n",
       "      <td>3.890</td>\n",
       "      <td>0.757</td>\n",
       "      <td>2.658</td>\n",
       "      <td>4.997</td>\n",
       "      <td>0.022</td>\n",
       "      <td>0.016</td>\n",
       "      <td>1169.0</td>\n",
       "      <td>877.0</td>\n",
       "      <td>1.0</td>\n",
       "    </tr>\n",
       "    <tr>\n",
       "      <th>a[2]</th>\n",
       "      <td>-0.741</td>\n",
       "      <td>0.336</td>\n",
       "      <td>-1.222</td>\n",
       "      <td>-0.136</td>\n",
       "      <td>0.009</td>\n",
       "      <td>0.006</td>\n",
       "      <td>1410.0</td>\n",
       "      <td>1547.0</td>\n",
       "      <td>1.0</td>\n",
       "    </tr>\n",
       "    <tr>\n",
       "      <th>a[3]</th>\n",
       "      <td>-0.736</td>\n",
       "      <td>0.341</td>\n",
       "      <td>-1.318</td>\n",
       "      <td>-0.251</td>\n",
       "      <td>0.009</td>\n",
       "      <td>0.006</td>\n",
       "      <td>1385.0</td>\n",
       "      <td>1541.0</td>\n",
       "      <td>1.0</td>\n",
       "    </tr>\n",
       "    <tr>\n",
       "      <th>a[4]</th>\n",
       "      <td>-0.440</td>\n",
       "      <td>0.332</td>\n",
       "      <td>-1.001</td>\n",
       "      <td>0.050</td>\n",
       "      <td>0.008</td>\n",
       "      <td>0.006</td>\n",
       "      <td>1588.0</td>\n",
       "      <td>1689.0</td>\n",
       "      <td>1.0</td>\n",
       "    </tr>\n",
       "    <tr>\n",
       "      <th>a[5]</th>\n",
       "      <td>0.491</td>\n",
       "      <td>0.334</td>\n",
       "      <td>-0.082</td>\n",
       "      <td>0.999</td>\n",
       "      <td>0.008</td>\n",
       "      <td>0.006</td>\n",
       "      <td>1541.0</td>\n",
       "      <td>1431.0</td>\n",
       "      <td>1.0</td>\n",
       "    </tr>\n",
       "    <tr>\n",
       "      <th>a[6]</th>\n",
       "      <td>1.975</td>\n",
       "      <td>0.420</td>\n",
       "      <td>1.357</td>\n",
       "      <td>2.689</td>\n",
       "      <td>0.012</td>\n",
       "      <td>0.009</td>\n",
       "      <td>1295.0</td>\n",
       "      <td>1347.0</td>\n",
       "      <td>1.0</td>\n",
       "    </tr>\n",
       "    <tr>\n",
       "      <th>b[0]</th>\n",
       "      <td>-0.054</td>\n",
       "      <td>0.285</td>\n",
       "      <td>-0.531</td>\n",
       "      <td>0.388</td>\n",
       "      <td>0.008</td>\n",
       "      <td>0.006</td>\n",
       "      <td>1320.0</td>\n",
       "      <td>1560.0</td>\n",
       "      <td>1.0</td>\n",
       "    </tr>\n",
       "    <tr>\n",
       "      <th>b[1]</th>\n",
       "      <td>0.472</td>\n",
       "      <td>0.298</td>\n",
       "      <td>-0.027</td>\n",
       "      <td>0.934</td>\n",
       "      <td>0.008</td>\n",
       "      <td>0.006</td>\n",
       "      <td>1386.0</td>\n",
       "      <td>1419.0</td>\n",
       "      <td>1.0</td>\n",
       "    </tr>\n",
       "    <tr>\n",
       "      <th>b[2]</th>\n",
       "      <td>-0.391</td>\n",
       "      <td>0.285</td>\n",
       "      <td>-0.836</td>\n",
       "      <td>0.083</td>\n",
       "      <td>0.008</td>\n",
       "      <td>0.005</td>\n",
       "      <td>1376.0</td>\n",
       "      <td>1423.0</td>\n",
       "      <td>1.0</td>\n",
       "    </tr>\n",
       "    <tr>\n",
       "      <th>b[3]</th>\n",
       "      <td>0.358</td>\n",
       "      <td>0.286</td>\n",
       "      <td>-0.084</td>\n",
       "      <td>0.824</td>\n",
       "      <td>0.008</td>\n",
       "      <td>0.005</td>\n",
       "      <td>1453.0</td>\n",
       "      <td>1363.0</td>\n",
       "      <td>1.0</td>\n",
       "    </tr>\n",
       "  </tbody>\n",
       "</table>\n",
       "</div>"
      ],
      "text/plain": [
       "       mean     sd  hdi_5.5%  hdi_94.5%  mcse_mean  mcse_sd  ess_bulk  \\\n",
       "a[0] -0.442  0.339    -0.992      0.090      0.009    0.007    1446.0   \n",
       "a[1]  3.890  0.757     2.658      4.997      0.022    0.016    1169.0   \n",
       "a[2] -0.741  0.336    -1.222     -0.136      0.009    0.006    1410.0   \n",
       "a[3] -0.736  0.341    -1.318     -0.251      0.009    0.006    1385.0   \n",
       "a[4] -0.440  0.332    -1.001      0.050      0.008    0.006    1588.0   \n",
       "a[5]  0.491  0.334    -0.082      0.999      0.008    0.006    1541.0   \n",
       "a[6]  1.975  0.420     1.357      2.689      0.012    0.009    1295.0   \n",
       "b[0] -0.054  0.285    -0.531      0.388      0.008    0.006    1320.0   \n",
       "b[1]  0.472  0.298    -0.027      0.934      0.008    0.006    1386.0   \n",
       "b[2] -0.391  0.285    -0.836      0.083      0.008    0.005    1376.0   \n",
       "b[3]  0.358  0.286    -0.084      0.824      0.008    0.005    1453.0   \n",
       "\n",
       "      ess_tail  r_hat  \n",
       "a[0]    1290.0    1.0  \n",
       "a[1]     877.0    1.0  \n",
       "a[2]    1547.0    1.0  \n",
       "a[3]    1541.0    1.0  \n",
       "a[4]    1689.0    1.0  \n",
       "a[5]    1431.0    1.0  \n",
       "a[6]    1347.0    1.0  \n",
       "b[0]    1560.0    1.0  \n",
       "b[1]    1419.0    1.0  \n",
       "b[2]    1423.0    1.0  \n",
       "b[3]    1363.0    1.0  "
      ]
     },
     "execution_count": 70,
     "metadata": {},
     "output_type": "execute_result"
    }
   ],
   "source": [
    "az.summary(idata_6, hdi_prob=0.89)"
   ]
  },
  {
   "cell_type": "markdown",
   "metadata": {},
   "source": [
    "##### Code 11.26 (Find a way to get the comparison even if different number of obs)"
   ]
  },
  {
   "cell_type": "code",
   "execution_count": 77,
   "metadata": {},
   "outputs": [],
   "source": [
    "def model_11_6x(actor, treatment):\n",
    "  actor = tf.convert_to_tensor(actor, dtype=tf.int32)\n",
    "  treatment = tf.convert_to_tensor(treatment, dtype=tf.int32)\n",
    "\n",
    "  def _generator():\n",
    "    a = yield xtfd.Sample(xtfd.Normal(loc=0.0, scale=1.5), sample_shape=7, name='a')\n",
    "    b = yield xtfd.Sample(xtfd.Normal(loc=0.0, scale=0.5), sample_shape=4, name='b')\n",
    "    logits = tf.gather(a, actor) + tf.gather(b, treatment)\n",
    "    yield xtfd.Binomial(total_count=18.0, logits=logits, name='left_pulls')\n",
    "\n",
    "  return xtfd.JointDistributionCoroutineAutoBatched(_generator)"
   ]
  },
  {
   "cell_type": "code",
   "execution_count": 80,
   "metadata": {},
   "outputs": [
    {
     "name": "stdout",
     "output_type": "stream",
     "text": [
      "WARNING:tensorflow:5 out of the last 5 calls to <function pfor.<locals>.f at 0x38015d620> triggered tf.function retracing. Tracing is expensive and the excessive number of tracings could be due to (1) creating @tf.function repeatedly in a loop, (2) passing tensors with different shapes, (3) passing Python objects instead of tensors. For (1), please define your @tf.function outside of the loop. For (2), @tf.function has reduce_retracing=True option that can avoid unnecessary retracing. For (3), please refer to https://www.tensorflow.org/guide/function#controlling_retracing and https://www.tensorflow.org/api_docs/python/tf/function for  more details.\n"
     ]
    }
   ],
   "source": [
    "jd_6x = model_11_6x(d_aggregated.actor_id.values, d_aggregated.treatment.values)\n",
    "ds, _ = jd_6x.sample_distributions(value=post_6)\n",
    "ll_6 = ds[-1].log_prob(tf.convert_to_tensor(d_aggregated.left_pulls.values, dtype=tf.float32))\n",
    "ll_6 = np.moveaxis(ll_6, 0, 1) "
   ]
  },
  {
   "cell_type": "code",
   "execution_count": 81,
   "metadata": {},
   "outputs": [],
   "source": [
    "dict_6.update(log_likelihood={'ll': ll_6},\n",
    "              dims={\"ll\": [\"obs\"]},\n",
    "              coords={\"obs\": np.arange(len(d_aggregated.left_pulls.values))})\n",
    "idata_6 = az.from_dict(**dict_6)"
   ]
  },
  {
   "cell_type": "code",
   "execution_count": null,
   "metadata": {},
   "outputs": [],
   "source": [
    "# in order to use comparison the number of observations should be same\n",
    "# which is not the case with m11.4 (504) and m11.6 (28)\n",
    "# az.compare({\"m11.6\": idata_6, \"m11.4\": idata_4}, ic='loo', scale=\"deviance\")"
   ]
  },
  {
   "cell_type": "markdown",
   "metadata": {},
   "source": [
    "##### Code 11.27"
   ]
  },
  {
   "cell_type": "code",
   "execution_count": 83,
   "metadata": {},
   "outputs": [
    {
     "name": "stdout",
     "output_type": "stream",
     "text": [
      "11.790481\n",
      "20.652117\n"
     ]
    }
   ],
   "source": [
    "# deviance of aggregated 6-in-9\n",
    "print(-2 * tfd.Binomial(total_count=9.0, probs=0.2).log_prob(6))\n",
    "# deviance of dis-aggregated\n",
    "print(\n",
    "    -2\n",
    "    * np.sum(tfd.Bernoulli(probs=0.2).log_prob(np.array([1, 1, 1, 1, 1, 1, 0, 0, 0])))\n",
    ")"
   ]
  },
  {
   "cell_type": "markdown",
   "metadata": {},
   "source": [
    "### 11.1.4 Aggregated binomial: Graduate school admissions"
   ]
  },
  {
   "cell_type": "markdown",
   "metadata": {},
   "source": [
    "##### Code 11.28\n",
    "\n",
    "Evaluate if there is a gender bias in admissions"
   ]
  },
  {
   "cell_type": "code",
   "execution_count": 84,
   "metadata": {},
   "outputs": [
    {
     "data": {
      "text/html": [
       "<div>\n",
       "<style scoped>\n",
       "    .dataframe tbody tr th:only-of-type {\n",
       "        vertical-align: middle;\n",
       "    }\n",
       "\n",
       "    .dataframe tbody tr th {\n",
       "        vertical-align: top;\n",
       "    }\n",
       "\n",
       "    .dataframe thead th {\n",
       "        text-align: right;\n",
       "    }\n",
       "</style>\n",
       "<table border=\"1\" class=\"dataframe\">\n",
       "  <thead>\n",
       "    <tr style=\"text-align: right;\">\n",
       "      <th></th>\n",
       "      <th>dept</th>\n",
       "      <th>applicant.gender</th>\n",
       "      <th>admit</th>\n",
       "      <th>reject</th>\n",
       "      <th>applications</th>\n",
       "      <th>gid</th>\n",
       "    </tr>\n",
       "  </thead>\n",
       "  <tbody>\n",
       "    <tr>\n",
       "      <th>1</th>\n",
       "      <td>A</td>\n",
       "      <td>male</td>\n",
       "      <td>512</td>\n",
       "      <td>313</td>\n",
       "      <td>825</td>\n",
       "      <td>0</td>\n",
       "    </tr>\n",
       "    <tr>\n",
       "      <th>2</th>\n",
       "      <td>A</td>\n",
       "      <td>female</td>\n",
       "      <td>89</td>\n",
       "      <td>19</td>\n",
       "      <td>108</td>\n",
       "      <td>1</td>\n",
       "    </tr>\n",
       "    <tr>\n",
       "      <th>3</th>\n",
       "      <td>B</td>\n",
       "      <td>male</td>\n",
       "      <td>353</td>\n",
       "      <td>207</td>\n",
       "      <td>560</td>\n",
       "      <td>0</td>\n",
       "    </tr>\n",
       "    <tr>\n",
       "      <th>4</th>\n",
       "      <td>B</td>\n",
       "      <td>female</td>\n",
       "      <td>17</td>\n",
       "      <td>8</td>\n",
       "      <td>25</td>\n",
       "      <td>1</td>\n",
       "    </tr>\n",
       "    <tr>\n",
       "      <th>5</th>\n",
       "      <td>C</td>\n",
       "      <td>male</td>\n",
       "      <td>120</td>\n",
       "      <td>205</td>\n",
       "      <td>325</td>\n",
       "      <td>0</td>\n",
       "    </tr>\n",
       "    <tr>\n",
       "      <th>6</th>\n",
       "      <td>C</td>\n",
       "      <td>female</td>\n",
       "      <td>202</td>\n",
       "      <td>391</td>\n",
       "      <td>593</td>\n",
       "      <td>1</td>\n",
       "    </tr>\n",
       "    <tr>\n",
       "      <th>7</th>\n",
       "      <td>D</td>\n",
       "      <td>male</td>\n",
       "      <td>138</td>\n",
       "      <td>279</td>\n",
       "      <td>417</td>\n",
       "      <td>0</td>\n",
       "    </tr>\n",
       "    <tr>\n",
       "      <th>8</th>\n",
       "      <td>D</td>\n",
       "      <td>female</td>\n",
       "      <td>131</td>\n",
       "      <td>244</td>\n",
       "      <td>375</td>\n",
       "      <td>1</td>\n",
       "    </tr>\n",
       "    <tr>\n",
       "      <th>9</th>\n",
       "      <td>E</td>\n",
       "      <td>male</td>\n",
       "      <td>53</td>\n",
       "      <td>138</td>\n",
       "      <td>191</td>\n",
       "      <td>0</td>\n",
       "    </tr>\n",
       "    <tr>\n",
       "      <th>10</th>\n",
       "      <td>E</td>\n",
       "      <td>female</td>\n",
       "      <td>94</td>\n",
       "      <td>299</td>\n",
       "      <td>393</td>\n",
       "      <td>1</td>\n",
       "    </tr>\n",
       "    <tr>\n",
       "      <th>11</th>\n",
       "      <td>F</td>\n",
       "      <td>male</td>\n",
       "      <td>22</td>\n",
       "      <td>351</td>\n",
       "      <td>373</td>\n",
       "      <td>0</td>\n",
       "    </tr>\n",
       "    <tr>\n",
       "      <th>12</th>\n",
       "      <td>F</td>\n",
       "      <td>female</td>\n",
       "      <td>24</td>\n",
       "      <td>317</td>\n",
       "      <td>341</td>\n",
       "      <td>1</td>\n",
       "    </tr>\n",
       "  </tbody>\n",
       "</table>\n",
       "</div>"
      ],
      "text/plain": [
       "   dept applicant.gender  admit  reject  applications  gid\n",
       "1     A             male    512     313           825    0\n",
       "2     A           female     89      19           108    1\n",
       "3     B             male    353     207           560    0\n",
       "4     B           female     17       8            25    1\n",
       "5     C             male    120     205           325    0\n",
       "6     C           female    202     391           593    1\n",
       "7     D             male    138     279           417    0\n",
       "8     D           female    131     244           375    1\n",
       "9     E             male     53     138           191    0\n",
       "10    E           female     94     299           393    1\n",
       "11    F             male     22     351           373    0\n",
       "12    F           female     24     317           341    1"
      ]
     },
     "execution_count": 84,
     "metadata": {},
     "output_type": "execute_result"
    }
   ],
   "source": [
    "d = pd.read_csv(\"./data/UCBadmit.csv\", sep=\";\")\n",
    "d[\"gid\"] = (d[\"applicant.gender\"] != \"male\").astype(int)\n",
    "d"
   ]
  },
  {
   "cell_type": "markdown",
   "metadata": {},
   "source": [
    "There are 12 rows in the above dataset however they collectively represent 4526 applications. Counting the rows in the data table is not a sensible way to assess sample size"
   ]
  },
  {
   "cell_type": "markdown",
   "metadata": {},
   "source": [
    "##### Code 11.29\n",
    "\n",
    "We will model the admission as the outcome that depends on the gender"
   ]
  },
  {
   "cell_type": "code",
   "execution_count": 87,
   "metadata": {},
   "outputs": [],
   "source": [
    "def model_11_7(gid, applications):\n",
    "  gid = jnp.array(gid, dtype=jnp.int32)\n",
    "  applications = jnp.array(applications, dtype=jnp.float32)\n",
    "  \n",
    "  def _generator():\n",
    "    a = yield tfd.Sample(tfd.Normal(loc=0.0, scale=1.5), sample_shape=2, name='a')\n",
    "    logits = jnp.take(a, gid)\n",
    "    yield tfd.Binomial(total_count=applications, logits=logits, name='admit')\n",
    "\n",
    "  return tfd.JointDistributionCoroutineAutoBatched(_generator)"
   ]
  },
  {
   "cell_type": "code",
   "execution_count": 88,
   "metadata": {},
   "outputs": [],
   "source": [
    "jd_11_7 = model_11_7(d.gid.values, d.applications.values)"
   ]
  },
  {
   "cell_type": "code",
   "execution_count": 89,
   "metadata": {},
   "outputs": [],
   "source": [
    "jd_11_7_pin = jd_11_7.experimental_pin(\n",
    "  admit=jnp.array(d.admit.values, dtype=jnp.float32))"
   ]
  },
  {
   "cell_type": "code",
   "execution_count": 90,
   "metadata": {},
   "outputs": [],
   "source": [
    "@jax.jit\n",
    "def run_chain(init_state, seed, step_size=1e-3, num_steps=500, burnin=300):\n",
    "\n",
    "  def target_log_prob(*states):\n",
    "    return jd_11_7_pin.unnormalized_log_prob(states)\n",
    "  \n",
    "  bijectors = [tfb.Identity()]\n",
    "\n",
    "  kernel = tfp.mcmc.NoUTurnSampler(\n",
    "      target_log_prob_fn=target_log_prob,\n",
    "      step_size=step_size)\n",
    "  \n",
    "  kernel = tfp.mcmc.TransformedTransitionKernel(\n",
    "    inner_kernel=kernel,\n",
    "    bijector=bijectors)\n",
    "\n",
    "  kernel = tfp.mcmc.DualAveragingStepSizeAdaptation(\n",
    "    inner_kernel=kernel,\n",
    "    num_adaptation_steps=burnin)\n",
    "\n",
    "  chain_state = tfp.mcmc.sample_chain(\n",
    "      num_results=num_steps,\n",
    "      num_burnin_steps=burnin,\n",
    "      current_state=init_state,\n",
    "      kernel=kernel,\n",
    "      seed=seed,\n",
    "      trace_fn=None)\n",
    "  \n",
    "  return chain_state"
   ]
  },
  {
   "cell_type": "code",
   "execution_count": 91,
   "metadata": {},
   "outputs": [],
   "source": [
    "num_chains = 4\n",
    "init_state = jd_11_7_pin.sample_unpinned(num_chains, seed=key())\n",
    "post_7 = run_chain(init_state=init_state, seed=key(), burnin=400)"
   ]
  },
  {
   "cell_type": "code",
   "execution_count": 92,
   "metadata": {},
   "outputs": [],
   "source": [
    "post_7_dict = {k: jnp.moveaxis(v, 0, 1) for k, v in post_7._asdict().items()}\n",
    "dict_7 = dict(posterior=post_7_dict)\n",
    "idata_7 = az.from_dict(**dict_7)"
   ]
  },
  {
   "cell_type": "code",
   "execution_count": 93,
   "metadata": {},
   "outputs": [
    {
     "data": {
      "text/html": [
       "<div>\n",
       "<style scoped>\n",
       "    .dataframe tbody tr th:only-of-type {\n",
       "        vertical-align: middle;\n",
       "    }\n",
       "\n",
       "    .dataframe tbody tr th {\n",
       "        vertical-align: top;\n",
       "    }\n",
       "\n",
       "    .dataframe thead th {\n",
       "        text-align: right;\n",
       "    }\n",
       "</style>\n",
       "<table border=\"1\" class=\"dataframe\">\n",
       "  <thead>\n",
       "    <tr style=\"text-align: right;\">\n",
       "      <th></th>\n",
       "      <th>mean</th>\n",
       "      <th>sd</th>\n",
       "      <th>hdi_5.5%</th>\n",
       "      <th>hdi_94.5%</th>\n",
       "      <th>mcse_mean</th>\n",
       "      <th>mcse_sd</th>\n",
       "      <th>ess_bulk</th>\n",
       "      <th>ess_tail</th>\n",
       "      <th>r_hat</th>\n",
       "    </tr>\n",
       "  </thead>\n",
       "  <tbody>\n",
       "    <tr>\n",
       "      <th>a[0]</th>\n",
       "      <td>-0.221</td>\n",
       "      <td>0.040</td>\n",
       "      <td>-0.289</td>\n",
       "      <td>-0.160</td>\n",
       "      <td>0.001</td>\n",
       "      <td>0.001</td>\n",
       "      <td>1603.0</td>\n",
       "      <td>1615.0</td>\n",
       "      <td>1.01</td>\n",
       "    </tr>\n",
       "    <tr>\n",
       "      <th>a[1]</th>\n",
       "      <td>-0.829</td>\n",
       "      <td>0.051</td>\n",
       "      <td>-0.919</td>\n",
       "      <td>-0.754</td>\n",
       "      <td>0.001</td>\n",
       "      <td>0.001</td>\n",
       "      <td>1657.0</td>\n",
       "      <td>1285.0</td>\n",
       "      <td>1.00</td>\n",
       "    </tr>\n",
       "  </tbody>\n",
       "</table>\n",
       "</div>"
      ],
      "text/plain": [
       "       mean     sd  hdi_5.5%  hdi_94.5%  mcse_mean  mcse_sd  ess_bulk  \\\n",
       "a[0] -0.221  0.040    -0.289     -0.160      0.001    0.001    1603.0   \n",
       "a[1] -0.829  0.051    -0.919     -0.754      0.001    0.001    1657.0   \n",
       "\n",
       "      ess_tail  r_hat  \n",
       "a[0]    1615.0   1.01  \n",
       "a[1]    1285.0   1.00  "
      ]
     },
     "execution_count": 93,
     "metadata": {},
     "output_type": "execute_result"
    }
   ],
   "source": [
    "az.summary(idata_7, hdi_prob=0.89)"
   ]
  },
  {
   "cell_type": "markdown",
   "metadata": {},
   "source": [
    "##### Code 11.30\n",
    "\n",
    "Posterior of males is higher than females, here we compute the contrast"
   ]
  },
  {
   "cell_type": "code",
   "execution_count": 96,
   "metadata": {},
   "outputs": [
    {
     "data": {
      "text/html": [
       "<div>\n",
       "<style scoped>\n",
       "    .dataframe tbody tr th:only-of-type {\n",
       "        vertical-align: middle;\n",
       "    }\n",
       "\n",
       "    .dataframe tbody tr th {\n",
       "        vertical-align: top;\n",
       "    }\n",
       "\n",
       "    .dataframe thead th {\n",
       "        text-align: right;\n",
       "    }\n",
       "</style>\n",
       "<table border=\"1\" class=\"dataframe\">\n",
       "  <thead>\n",
       "    <tr style=\"text-align: right;\">\n",
       "      <th></th>\n",
       "      <th>mean</th>\n",
       "      <th>sd</th>\n",
       "      <th>hdi_5.5%</th>\n",
       "      <th>hdi_94.5%</th>\n",
       "      <th>mcse_mean</th>\n",
       "      <th>mcse_sd</th>\n",
       "      <th>ess_bulk</th>\n",
       "      <th>ess_tail</th>\n",
       "      <th>r_hat</th>\n",
       "    </tr>\n",
       "  </thead>\n",
       "  <tbody>\n",
       "    <tr>\n",
       "      <th>a[0]</th>\n",
       "      <td>-0.221</td>\n",
       "      <td>0.040</td>\n",
       "      <td>-0.289</td>\n",
       "      <td>-0.160</td>\n",
       "      <td>0.001</td>\n",
       "      <td>0.001</td>\n",
       "      <td>1603.0</td>\n",
       "      <td>1615.0</td>\n",
       "      <td>1.01</td>\n",
       "    </tr>\n",
       "    <tr>\n",
       "      <th>a[1]</th>\n",
       "      <td>-0.829</td>\n",
       "      <td>0.051</td>\n",
       "      <td>-0.919</td>\n",
       "      <td>-0.754</td>\n",
       "      <td>0.001</td>\n",
       "      <td>0.001</td>\n",
       "      <td>1657.0</td>\n",
       "      <td>1285.0</td>\n",
       "      <td>1.00</td>\n",
       "    </tr>\n",
       "    <tr>\n",
       "      <th>diff_a</th>\n",
       "      <td>0.609</td>\n",
       "      <td>0.065</td>\n",
       "      <td>0.505</td>\n",
       "      <td>0.707</td>\n",
       "      <td>0.002</td>\n",
       "      <td>0.001</td>\n",
       "      <td>1658.0</td>\n",
       "      <td>1423.0</td>\n",
       "      <td>1.00</td>\n",
       "    </tr>\n",
       "    <tr>\n",
       "      <th>diff_p</th>\n",
       "      <td>0.141</td>\n",
       "      <td>0.015</td>\n",
       "      <td>0.117</td>\n",
       "      <td>0.162</td>\n",
       "      <td>0.000</td>\n",
       "      <td>0.000</td>\n",
       "      <td>1659.0</td>\n",
       "      <td>1423.0</td>\n",
       "      <td>1.00</td>\n",
       "    </tr>\n",
       "  </tbody>\n",
       "</table>\n",
       "</div>"
      ],
      "text/plain": [
       "         mean     sd  hdi_5.5%  hdi_94.5%  mcse_mean  mcse_sd  ess_bulk  \\\n",
       "a[0]   -0.221  0.040    -0.289     -0.160      0.001    0.001    1603.0   \n",
       "a[1]   -0.829  0.051    -0.919     -0.754      0.001    0.001    1657.0   \n",
       "diff_a  0.609  0.065     0.505      0.707      0.002    0.001    1658.0   \n",
       "diff_p  0.141  0.015     0.117      0.162      0.000    0.000    1659.0   \n",
       "\n",
       "        ess_tail  r_hat  \n",
       "a[0]      1615.0   1.01  \n",
       "a[1]      1285.0   1.00  \n",
       "diff_a    1423.0   1.00  \n",
       "diff_p    1423.0   1.00  "
      ]
     },
     "execution_count": 96,
     "metadata": {},
     "output_type": "execute_result"
    }
   ],
   "source": [
    "diff_a = idata_7.posterior[\"a\"][:, :, 0] - idata_7.posterior[\"a\"][:, :, 1]\n",
    "idata_7.posterior[\"diff_a\"] = diff_a\n",
    "\n",
    "# to add diff_p have to do lot of massaging to make xarray happy !\n",
    "diff_p = jax.nn.sigmoid(idata_7.posterior[\"a\"][:, :, 0].values) - jax.nn.sigmoid(\n",
    "  idata_7.posterior[\"a\"][:, :, 1].values)\n",
    "\n",
    "coords = [idata_7.posterior.coords[\"chain\"], idata_7.posterior.coords[\"draw\"]]\n",
    "idata_7.posterior[\"diff_p\"] = xr.DataArray(\n",
    "    diff_p, coords=coords, dims=[\"chain\", \"draw\"])\n",
    "\n",
    "az.summary(idata_7, hdi_prob=0.89)"
   ]
  },
  {
   "cell_type": "markdown",
   "metadata": {},
   "source": [
    "Log odds difference is certainly positive, corresponding to a higher prob of admissions for male applicants. "
   ]
  },
  {
   "cell_type": "markdown",
   "metadata": {},
   "source": [
    "##### Code 11.31"
   ]
  },
  {
   "cell_type": "code",
   "execution_count": 114,
   "metadata": {},
   "outputs": [
    {
     "data": {
      "text/plain": [
       "(500, 12)"
      ]
     },
     "execution_count": 114,
     "metadata": {},
     "output_type": "execute_result"
    }
   ],
   "source": [
    "# compute the posterior predictive given the posterior parameters\n",
    "N = jnp.array(d.applications.values, dtype=jnp.float32)\n",
    "gid = d.gid.values\n",
    "\n",
    "# only picking the first chain\n",
    "a = post_7_dict['a'][0]\n",
    "\n",
    "# jnp.take(a, gid, axis=1)\n",
    "sample_logits = jnp.take(a, gid, axis=1)\n",
    "\n",
    "dist = tfd.Binomial(total_count=N, logits=sample_logits)\n",
    "\n",
    "# taking the samples from first chain\n",
    "predictive_samples = dist.sample(seed=key())"
   ]
  },
  {
   "cell_type": "code",
   "execution_count": 117,
   "metadata": {},
   "outputs": [
    {
     "data": {
      "image/png": "[encoded data removed]",
      "text/plain": [
       "<Figure size 600x500 with 1 Axes>"
      ]
     },
     "metadata": {},
     "output_type": "display_data"
    }
   ],
   "source": [
    "admit_rate = predictive_samples / N\n",
    "\n",
    "plt.errorbar(\n",
    "    range(1, 13),\n",
    "    np.mean(admit_rate, 0),\n",
    "    np.std(admit_rate, 0) / 2,\n",
    "    fmt=\"o\",\n",
    "    c=\"k\",\n",
    "    mfc=\"none\",\n",
    "    ms=7,\n",
    "    elinewidth=1,\n",
    ")\n",
    "plt.plot(range(1, 13), np.percentile(admit_rate, 5.5, 0), \"k+\")\n",
    "plt.plot(range(1, 13), np.percentile(admit_rate, 94.5, 0), \"k+\")\n",
    "# draw lines connecting points from same dept\n",
    "for i in range(1, 7):\n",
    "    x = 1 + 2 * (i - 1)\n",
    "    y1 = d.admit.iloc[x - 1] / d.applications.iloc[x - 1]\n",
    "    y2 = d.admit.iloc[x] / d.applications.iloc[x]\n",
    "    plt.plot((x, x + 1), (y1, y2), \"bo-\")\n",
    "    plt.annotate(\n",
    "        d.dept.iloc[x], (x + 0.5, (y1 + y2) / 2 + 0.05), ha=\"center\", color=\"royalblue\"\n",
    "    )\n",
    "plt.gca().set(ylim=(0, 1), xticks=range(1, 13), ylabel=\"admit\", xlabel=\"case\")\n",
    "plt.tight_layout()"
   ]
  },
  {
   "cell_type": "markdown",
   "metadata": {},
   "source": [
    "What above plot shows is that only for departments C & E, there was a lower rate of admissions for females. Now this is not in sync with what we observed earlier where the model was telling that females should expect an overall 14% lower chance of admission. \n",
    "\n",
    "What is going on ?\n",
    "\n",
    "Problem here is that male and females do not apply to same departments & departments also vary in their rate of admissions. Females do not apply to A & B that has higher rate of acceptance. Instead they applied to departments that have lower rate (10% of applicants) of acceptance.\n",
    "\n"
   ]
  },
  {
   "cell_type": "markdown",
   "metadata": {},
   "source": [
    "##### Code 11.32\n",
    "\n",
    "Changing the question to be asked -\n",
    "\n",
    "Instead of asking - \n",
    "\n",
    "*What are the average probabilities of admission for females and males across all departments?* \n",
    "\n",
    "we are now going to ask -\n",
    "\n",
    "*What is the average difference in probability of admis- sion between females and males within departments?*"
   ]
  },
  {
   "cell_type": "code",
   "execution_count": 127,
   "metadata": {},
   "outputs": [],
   "source": [
    "def model_11_8(gid, dept_id, applications):\n",
    "  gid = jnp.array(gid, dtype=jnp.int32)\n",
    "  dept_id = jnp.array(dept_id, dtype=jnp.int32)\n",
    "  applications = jnp.array(applications, dtype=jnp.float32)\n",
    "  \n",
    "  def _generator():\n",
    "    a = yield tfd.Sample(tfd.Normal(loc=0.0, scale=1.5), sample_shape=2, name='a')\n",
    "    delta = yield tfd.Sample(tfd.Normal(loc=0.0, scale=1.5), sample_shape=6, name='delta')\n",
    "    logits = jnp.take(a, gid) + jnp.take(delta, dept_id)\n",
    "    yield tfd.Binomial(total_count=applications, logits=logits, name='admit')\n",
    "\n",
    "  return tfd.JointDistributionCoroutineAutoBatched(_generator)"
   ]
  },
  {
   "cell_type": "code",
   "execution_count": 128,
   "metadata": {},
   "outputs": [],
   "source": [
    "jd_11_8 = model_11_8(d.gid.values, d.dept.factorize()[0], d.applications.values)"
   ]
  },
  {
   "cell_type": "code",
   "execution_count": 132,
   "metadata": {},
   "outputs": [],
   "source": [
    "jd_11_8_pin = jd_11_8.experimental_pin(\n",
    "  admit=jnp.array(d.admit.values, dtype=jnp.float32))"
   ]
  },
  {
   "cell_type": "code",
   "execution_count": 130,
   "metadata": {},
   "outputs": [],
   "source": [
    "@jax.jit\n",
    "def run_chain(init_state, seed, step_size=1e-3, num_steps=500, burnin=300):\n",
    "\n",
    "  def target_log_prob(*states):\n",
    "    return jd_11_8_pin.unnormalized_log_prob(states)\n",
    "  \n",
    "  bijectors = [tfb.Identity(), tfb.Identity()]\n",
    "\n",
    "  kernel = tfp.mcmc.NoUTurnSampler(\n",
    "      target_log_prob_fn=target_log_prob,\n",
    "      step_size=step_size)\n",
    "  \n",
    "  kernel = tfp.mcmc.TransformedTransitionKernel(\n",
    "    inner_kernel=kernel,\n",
    "    bijector=bijectors)\n",
    "\n",
    "  kernel = tfp.mcmc.DualAveragingStepSizeAdaptation(\n",
    "    inner_kernel=kernel,\n",
    "    num_adaptation_steps=burnin)\n",
    "\n",
    "  chain_state = tfp.mcmc.sample_chain(\n",
    "      num_results=num_steps,\n",
    "      num_burnin_steps=burnin,\n",
    "      current_state=init_state,\n",
    "      kernel=kernel,\n",
    "      seed=seed,\n",
    "      trace_fn=None)\n",
    "  \n",
    "  return chain_state"
   ]
  },
  {
   "cell_type": "code",
   "execution_count": 133,
   "metadata": {},
   "outputs": [],
   "source": [
    "num_chains = 4\n",
    "init_state = jd_11_8_pin.sample_unpinned(num_chains, seed=key())\n",
    "post_8 = run_chain(init_state=init_state, seed=key(), burnin=400)"
   ]
  },
  {
   "cell_type": "code",
   "execution_count": 134,
   "metadata": {},
   "outputs": [],
   "source": [
    "post_8_dict = {k: jnp.moveaxis(v, 0, 1) for k, v in post_8._asdict().items()}\n",
    "dict_8 = dict(posterior=post_8_dict)\n",
    "idata_8 = az.from_dict(**dict_8)"
   ]
  },
  {
   "cell_type": "code",
   "execution_count": 135,
   "metadata": {},
   "outputs": [
    {
     "data": {
      "text/html": [
       "<div>\n",
       "<style scoped>\n",
       "    .dataframe tbody tr th:only-of-type {\n",
       "        vertical-align: middle;\n",
       "    }\n",
       "\n",
       "    .dataframe tbody tr th {\n",
       "        vertical-align: top;\n",
       "    }\n",
       "\n",
       "    .dataframe thead th {\n",
       "        text-align: right;\n",
       "    }\n",
       "</style>\n",
       "<table border=\"1\" class=\"dataframe\">\n",
       "  <thead>\n",
       "    <tr style=\"text-align: right;\">\n",
       "      <th></th>\n",
       "      <th>mean</th>\n",
       "      <th>sd</th>\n",
       "      <th>hdi_5.5%</th>\n",
       "      <th>hdi_94.5%</th>\n",
       "      <th>mcse_mean</th>\n",
       "      <th>mcse_sd</th>\n",
       "      <th>ess_bulk</th>\n",
       "      <th>ess_tail</th>\n",
       "      <th>r_hat</th>\n",
       "    </tr>\n",
       "  </thead>\n",
       "  <tbody>\n",
       "    <tr>\n",
       "      <th>a[0]</th>\n",
       "      <td>-0.522</td>\n",
       "      <td>0.534</td>\n",
       "      <td>-1.387</td>\n",
       "      <td>0.261</td>\n",
       "      <td>0.031</td>\n",
       "      <td>0.023</td>\n",
       "      <td>290.0</td>\n",
       "      <td>225.0</td>\n",
       "      <td>1.01</td>\n",
       "    </tr>\n",
       "    <tr>\n",
       "      <th>a[1]</th>\n",
       "      <td>-0.425</td>\n",
       "      <td>0.534</td>\n",
       "      <td>-1.260</td>\n",
       "      <td>0.388</td>\n",
       "      <td>0.031</td>\n",
       "      <td>0.023</td>\n",
       "      <td>300.0</td>\n",
       "      <td>211.0</td>\n",
       "      <td>1.01</td>\n",
       "    </tr>\n",
       "    <tr>\n",
       "      <th>delta[0]</th>\n",
       "      <td>1.103</td>\n",
       "      <td>0.537</td>\n",
       "      <td>0.260</td>\n",
       "      <td>1.937</td>\n",
       "      <td>0.032</td>\n",
       "      <td>0.022</td>\n",
       "      <td>293.0</td>\n",
       "      <td>208.0</td>\n",
       "      <td>1.01</td>\n",
       "    </tr>\n",
       "    <tr>\n",
       "      <th>delta[1]</th>\n",
       "      <td>1.060</td>\n",
       "      <td>0.539</td>\n",
       "      <td>0.267</td>\n",
       "      <td>1.945</td>\n",
       "      <td>0.031</td>\n",
       "      <td>0.022</td>\n",
       "      <td>308.0</td>\n",
       "      <td>219.0</td>\n",
       "      <td>1.01</td>\n",
       "    </tr>\n",
       "    <tr>\n",
       "      <th>delta[2]</th>\n",
       "      <td>-0.162</td>\n",
       "      <td>0.536</td>\n",
       "      <td>-0.941</td>\n",
       "      <td>0.742</td>\n",
       "      <td>0.031</td>\n",
       "      <td>0.028</td>\n",
       "      <td>300.0</td>\n",
       "      <td>231.0</td>\n",
       "      <td>1.01</td>\n",
       "    </tr>\n",
       "    <tr>\n",
       "      <th>delta[3]</th>\n",
       "      <td>-0.192</td>\n",
       "      <td>0.539</td>\n",
       "      <td>-1.088</td>\n",
       "      <td>0.594</td>\n",
       "      <td>0.031</td>\n",
       "      <td>0.028</td>\n",
       "      <td>298.0</td>\n",
       "      <td>210.0</td>\n",
       "      <td>1.01</td>\n",
       "    </tr>\n",
       "    <tr>\n",
       "      <th>delta[4]</th>\n",
       "      <td>-0.632</td>\n",
       "      <td>0.539</td>\n",
       "      <td>-1.460</td>\n",
       "      <td>0.211</td>\n",
       "      <td>0.031</td>\n",
       "      <td>0.026</td>\n",
       "      <td>301.0</td>\n",
       "      <td>217.0</td>\n",
       "      <td>1.01</td>\n",
       "    </tr>\n",
       "    <tr>\n",
       "      <th>delta[5]</th>\n",
       "      <td>-2.187</td>\n",
       "      <td>0.545</td>\n",
       "      <td>-3.034</td>\n",
       "      <td>-1.314</td>\n",
       "      <td>0.031</td>\n",
       "      <td>0.023</td>\n",
       "      <td>307.0</td>\n",
       "      <td>242.0</td>\n",
       "      <td>1.01</td>\n",
       "    </tr>\n",
       "  </tbody>\n",
       "</table>\n",
       "</div>"
      ],
      "text/plain": [
       "           mean     sd  hdi_5.5%  hdi_94.5%  mcse_mean  mcse_sd  ess_bulk  \\\n",
       "a[0]     -0.522  0.534    -1.387      0.261      0.031    0.023     290.0   \n",
       "a[1]     -0.425  0.534    -1.260      0.388      0.031    0.023     300.0   \n",
       "delta[0]  1.103  0.537     0.260      1.937      0.032    0.022     293.0   \n",
       "delta[1]  1.060  0.539     0.267      1.945      0.031    0.022     308.0   \n",
       "delta[2] -0.162  0.536    -0.941      0.742      0.031    0.028     300.0   \n",
       "delta[3] -0.192  0.539    -1.088      0.594      0.031    0.028     298.0   \n",
       "delta[4] -0.632  0.539    -1.460      0.211      0.031    0.026     301.0   \n",
       "delta[5] -2.187  0.545    -3.034     -1.314      0.031    0.023     307.0   \n",
       "\n",
       "          ess_tail  r_hat  \n",
       "a[0]         225.0   1.01  \n",
       "a[1]         211.0   1.01  \n",
       "delta[0]     208.0   1.01  \n",
       "delta[1]     219.0   1.01  \n",
       "delta[2]     231.0   1.01  \n",
       "delta[3]     210.0   1.01  \n",
       "delta[4]     217.0   1.01  \n",
       "delta[5]     242.0   1.01  "
      ]
     },
     "execution_count": 135,
     "metadata": {},
     "output_type": "execute_result"
    }
   ],
   "source": [
    "az.summary(idata_8, hdi_prob=0.89)"
   ]
  },
  {
   "cell_type": "markdown",
   "metadata": {},
   "source": [
    "##### Code 11.33\n",
    "\n",
    "Computing the contrast"
   ]
  },
  {
   "cell_type": "code",
   "execution_count": 145,
   "metadata": {},
   "outputs": [
    {
     "data": {
      "text/html": [
       "<div>\n",
       "<style scoped>\n",
       "    .dataframe tbody tr th:only-of-type {\n",
       "        vertical-align: middle;\n",
       "    }\n",
       "\n",
       "    .dataframe tbody tr th {\n",
       "        vertical-align: top;\n",
       "    }\n",
       "\n",
       "    .dataframe thead th {\n",
       "        text-align: right;\n",
       "    }\n",
       "</style>\n",
       "<table border=\"1\" class=\"dataframe\">\n",
       "  <thead>\n",
       "    <tr style=\"text-align: right;\">\n",
       "      <th></th>\n",
       "      <th>mean</th>\n",
       "      <th>sd</th>\n",
       "      <th>hdi_5.5%</th>\n",
       "      <th>hdi_94.5%</th>\n",
       "      <th>mcse_mean</th>\n",
       "      <th>mcse_sd</th>\n",
       "      <th>ess_bulk</th>\n",
       "      <th>ess_tail</th>\n",
       "      <th>r_hat</th>\n",
       "    </tr>\n",
       "  </thead>\n",
       "  <tbody>\n",
       "    <tr>\n",
       "      <th>diff_a</th>\n",
       "      <td>-0.097</td>\n",
       "      <td>0.080</td>\n",
       "      <td>-0.233</td>\n",
       "      <td>0.025</td>\n",
       "      <td>0.002</td>\n",
       "      <td>0.001</td>\n",
       "      <td>2413.0</td>\n",
       "      <td>1759.0</td>\n",
       "      <td>1.0</td>\n",
       "    </tr>\n",
       "    <tr>\n",
       "      <th>diff_p</th>\n",
       "      <td>-0.022</td>\n",
       "      <td>0.018</td>\n",
       "      <td>-0.051</td>\n",
       "      <td>0.007</td>\n",
       "      <td>0.000</td>\n",
       "      <td>0.000</td>\n",
       "      <td>2365.0</td>\n",
       "      <td>1778.0</td>\n",
       "      <td>1.0</td>\n",
       "    </tr>\n",
       "  </tbody>\n",
       "</table>\n",
       "</div>"
      ],
      "text/plain": [
       "         mean     sd  hdi_5.5%  hdi_94.5%  mcse_mean  mcse_sd  ess_bulk  \\\n",
       "diff_a -0.097  0.080    -0.233      0.025      0.002    0.001    2413.0   \n",
       "diff_p -0.022  0.018    -0.051      0.007      0.000    0.000    2365.0   \n",
       "\n",
       "        ess_tail  r_hat  \n",
       "diff_a    1759.0    1.0  \n",
       "diff_p    1778.0    1.0  "
      ]
     },
     "execution_count": 145,
     "metadata": {},
     "output_type": "execute_result"
    }
   ],
   "source": [
    "diff_a = post_8_dict['a'][..., 0] - post_8_dict['a'][..., 1]\n",
    "diff_p = jax.nn.sigmoid(post_8_dict['a'][..., 0]) - jax.nn.sigmoid(post_8_dict['a'][..., 1])\n",
    "\n",
    "diffs = az.from_dict(**dict(posterior={'diff_a': diff_a, 'diff_p': diff_p}))\n",
    "az.summary(diffs, hdi_prob=0.89)"
   ]
  },
  {
   "cell_type": "markdown",
   "metadata": {},
   "source": [
    "##### Code 11.34"
   ]
  },
  {
   "cell_type": "code",
   "execution_count": 146,
   "metadata": {},
   "outputs": [
    {
     "data": {
      "text/html": [
       "<div>\n",
       "<style scoped>\n",
       "    .dataframe tbody tr th:only-of-type {\n",
       "        vertical-align: middle;\n",
       "    }\n",
       "\n",
       "    .dataframe tbody tr th {\n",
       "        vertical-align: top;\n",
       "    }\n",
       "\n",
       "    .dataframe thead th {\n",
       "        text-align: right;\n",
       "    }\n",
       "</style>\n",
       "<table border=\"1\" class=\"dataframe\">\n",
       "  <thead>\n",
       "    <tr style=\"text-align: right;\">\n",
       "      <th></th>\n",
       "      <th>A</th>\n",
       "      <th>B</th>\n",
       "      <th>C</th>\n",
       "      <th>D</th>\n",
       "      <th>E</th>\n",
       "      <th>F</th>\n",
       "    </tr>\n",
       "  </thead>\n",
       "  <tbody>\n",
       "    <tr>\n",
       "      <th>male</th>\n",
       "      <td>0.88</td>\n",
       "      <td>0.96</td>\n",
       "      <td>0.35</td>\n",
       "      <td>0.53</td>\n",
       "      <td>0.33</td>\n",
       "      <td>0.52</td>\n",
       "    </tr>\n",
       "    <tr>\n",
       "      <th>female</th>\n",
       "      <td>0.12</td>\n",
       "      <td>0.04</td>\n",
       "      <td>0.65</td>\n",
       "      <td>0.47</td>\n",
       "      <td>0.67</td>\n",
       "      <td>0.48</td>\n",
       "    </tr>\n",
       "  </tbody>\n",
       "</table>\n",
       "</div>"
      ],
      "text/plain": [
       "           A     B     C     D     E     F\n",
       "male    0.88  0.96  0.35  0.53  0.33  0.52\n",
       "female  0.12  0.04  0.65  0.47  0.67  0.48"
      ]
     },
     "execution_count": 146,
     "metadata": {},
     "output_type": "execute_result"
    }
   ],
   "source": [
    "dept_id = d.dept.factorize()[0]\n",
    "\n",
    "pg = np.stack(\n",
    "    list(\n",
    "        map(\n",
    "            lambda k: np.divide(\n",
    "                d.applications[dept_id == k].values, d.applications[dept_id == k].sum()\n",
    "            ),\n",
    "            range(6),\n",
    "        )\n",
    "    ),\n",
    "    axis=0,\n",
    ").T\n",
    "pg = pd.DataFrame(pg, index=[\"male\", \"female\"], columns=d.dept.unique())\n",
    "pg.round(2)\n"
   ]
  },
  {
   "cell_type": "markdown",
   "metadata": {},
   "source": [
    "Department A receives 88% of its applications from males. Department E receives 33% from males. "
   ]
  },
  {
   "cell_type": "markdown",
   "metadata": {},
   "source": [
    "## 11.2 Poisson regression"
   ]
  },
  {
   "cell_type": "markdown",
   "metadata": {},
   "source": [
    "##### Code 11.35\n",
    "\n",
    "\n",
    "Binomial is good when the count is known but quite often it is not the case.\n",
    "\n",
    "When the count goes extremely high then mean and variance of Binomial starts to become same and this is known as Poisson Distribution\n"
   ]
  },
  {
   "cell_type": "code",
   "execution_count": 197,
   "metadata": {},
   "outputs": [
    {
     "data": {
      "text/plain": [
       "(Array(0.9982, dtype=float32), Array(0.98779696, dtype=float32))"
      ]
     },
     "execution_count": 197,
     "metadata": {},
     "output_type": "execute_result"
    }
   ],
   "source": [
    "y = tfd.Binomial(1000, probs=1 / 1000).sample(10000, seed=key())\n",
    "jnp.mean(y), jnp.var(y)"
   ]
  },
  {
   "cell_type": "markdown",
   "metadata": {},
   "source": [
    "Useful for binomial events for which the number of trials N is unknown or uncountably large."
   ]
  },
  {
   "cell_type": "markdown",
   "metadata": {},
   "source": [
    "##### Code 11.36\n",
    "\n",
    "Counts of unique tool types for 10 historical Oceanic societies"
   ]
  },
  {
   "cell_type": "code",
   "execution_count": 198,
   "metadata": {},
   "outputs": [
    {
     "data": {
      "text/html": [
       "<div>\n",
       "<style scoped>\n",
       "    .dataframe tbody tr th:only-of-type {\n",
       "        vertical-align: middle;\n",
       "    }\n",
       "\n",
       "    .dataframe tbody tr th {\n",
       "        vertical-align: top;\n",
       "    }\n",
       "\n",
       "    .dataframe thead th {\n",
       "        text-align: right;\n",
       "    }\n",
       "</style>\n",
       "<table border=\"1\" class=\"dataframe\">\n",
       "  <thead>\n",
       "    <tr style=\"text-align: right;\">\n",
       "      <th></th>\n",
       "      <th>culture</th>\n",
       "      <th>population</th>\n",
       "      <th>contact</th>\n",
       "      <th>total_tools</th>\n",
       "      <th>mean_TU</th>\n",
       "    </tr>\n",
       "  </thead>\n",
       "  <tbody>\n",
       "    <tr>\n",
       "      <th>0</th>\n",
       "      <td>Malekula</td>\n",
       "      <td>1100</td>\n",
       "      <td>low</td>\n",
       "      <td>13</td>\n",
       "      <td>3.2</td>\n",
       "    </tr>\n",
       "    <tr>\n",
       "      <th>1</th>\n",
       "      <td>Tikopia</td>\n",
       "      <td>1500</td>\n",
       "      <td>low</td>\n",
       "      <td>22</td>\n",
       "      <td>4.7</td>\n",
       "    </tr>\n",
       "    <tr>\n",
       "      <th>2</th>\n",
       "      <td>Santa Cruz</td>\n",
       "      <td>3600</td>\n",
       "      <td>low</td>\n",
       "      <td>24</td>\n",
       "      <td>4.0</td>\n",
       "    </tr>\n",
       "    <tr>\n",
       "      <th>3</th>\n",
       "      <td>Yap</td>\n",
       "      <td>4791</td>\n",
       "      <td>high</td>\n",
       "      <td>43</td>\n",
       "      <td>5.0</td>\n",
       "    </tr>\n",
       "    <tr>\n",
       "      <th>4</th>\n",
       "      <td>Lau Fiji</td>\n",
       "      <td>7400</td>\n",
       "      <td>high</td>\n",
       "      <td>33</td>\n",
       "      <td>5.0</td>\n",
       "    </tr>\n",
       "    <tr>\n",
       "      <th>5</th>\n",
       "      <td>Trobriand</td>\n",
       "      <td>8000</td>\n",
       "      <td>high</td>\n",
       "      <td>19</td>\n",
       "      <td>4.0</td>\n",
       "    </tr>\n",
       "    <tr>\n",
       "      <th>6</th>\n",
       "      <td>Chuuk</td>\n",
       "      <td>9200</td>\n",
       "      <td>high</td>\n",
       "      <td>40</td>\n",
       "      <td>3.8</td>\n",
       "    </tr>\n",
       "    <tr>\n",
       "      <th>7</th>\n",
       "      <td>Manus</td>\n",
       "      <td>13000</td>\n",
       "      <td>low</td>\n",
       "      <td>28</td>\n",
       "      <td>6.6</td>\n",
       "    </tr>\n",
       "    <tr>\n",
       "      <th>8</th>\n",
       "      <td>Tonga</td>\n",
       "      <td>17500</td>\n",
       "      <td>high</td>\n",
       "      <td>55</td>\n",
       "      <td>5.4</td>\n",
       "    </tr>\n",
       "    <tr>\n",
       "      <th>9</th>\n",
       "      <td>Hawaii</td>\n",
       "      <td>275000</td>\n",
       "      <td>low</td>\n",
       "      <td>71</td>\n",
       "      <td>6.6</td>\n",
       "    </tr>\n",
       "  </tbody>\n",
       "</table>\n",
       "</div>"
      ],
      "text/plain": [
       "      culture  population contact  total_tools  mean_TU\n",
       "0    Malekula        1100     low           13      3.2\n",
       "1     Tikopia        1500     low           22      4.7\n",
       "2  Santa Cruz        3600     low           24      4.0\n",
       "3         Yap        4791    high           43      5.0\n",
       "4    Lau Fiji        7400    high           33      5.0\n",
       "5   Trobriand        8000    high           19      4.0\n",
       "6       Chuuk        9200    high           40      3.8\n",
       "7       Manus       13000     low           28      6.6\n",
       "8       Tonga       17500    high           55      5.4\n",
       "9      Hawaii      275000     low           71      6.6"
      ]
     },
     "execution_count": 198,
     "metadata": {},
     "output_type": "execute_result"
    }
   ],
   "source": [
    "d = pd.read_csv(\"./data/Kline.csv\", sep=\";\")\n",
    "d"
   ]
  },
  {
   "cell_type": "markdown",
   "metadata": {},
   "source": [
    "To remember - Number of rows in count based models is not same as the sample size"
   ]
  },
  {
   "cell_type": "markdown",
   "metadata": {},
   "source": [
    "##### Code 11.37\n",
    "\n",
    "Here the outcome variable is **total tools**\n",
    "\n",
    "We want to establish a relationship between **log population** and our outcome variable.\n",
    "\n",
    "We also want to see the interaction between **contact** and **log population**\n",
    "\n",
    "So first and foremost let's create a column for **log population**\n"
   ]
  },
  {
   "cell_type": "code",
   "execution_count": 199,
   "metadata": {},
   "outputs": [],
   "source": [
    "d[\"P\"] = d.population.pipe(np.log).pipe(lambda x: (x - x.mean()) / x.std())\n",
    "d[\"contact_id\"] = (d.contact == \"high\").astype(int)"
   ]
  },
  {
   "cell_type": "markdown",
   "metadata": {},
   "source": [
    "##### Code 11.38"
   ]
  },
  {
   "cell_type": "code",
   "execution_count": 4,
   "metadata": {},
   "outputs": [
    {
     "data": {
      "image/png": "[encoded data removed]",
      "text/plain": [
       "<Figure size 600x500 with 1 Axes>"
      ]
     },
     "metadata": {},
     "output_type": "display_data"
    }
   ],
   "source": [
    "x = jnp.linspace(0, 100, 200)\n",
    "plt.plot(x, tfd.LogNormal(loc=0.0, scale=10.0).prob(x))\n",
    "plt.show()"
   ]
  },
  {
   "cell_type": "markdown",
   "metadata": {},
   "source": [
    "##### Code 11.39"
   ]
  },
  {
   "cell_type": "code",
   "execution_count": 6,
   "metadata": {},
   "outputs": [
    {
     "data": {
      "text/plain": [
       "Array(1.0910003e+11, dtype=float32)"
      ]
     },
     "execution_count": 6,
     "metadata": {},
     "output_type": "execute_result"
    }
   ],
   "source": [
    "a = tfd.Normal(loc=0.0, scale=10.0).sample(1000, seed=key())\n",
    "lambda_ = jnp.exp(a)\n",
    "jnp.mean(lambda_)"
   ]
  },
  {
   "cell_type": "markdown",
   "metadata": {},
   "source": [
    "##### Code 11.40"
   ]
  },
  {
   "cell_type": "code",
   "execution_count": 7,
   "metadata": {},
   "outputs": [
    {
     "data": {
      "image/png": "[encoded data removed]",
      "text/plain": [
       "<Figure size 600x500 with 1 Axes>"
      ]
     },
     "metadata": {},
     "output_type": "display_data"
    }
   ],
   "source": [
    "x = np.linspace(0, 100, 200)\n",
    "plt.plot(x, tfd.LogNormal(loc=3.0, scale=0.5).prob(x))\n",
    "plt.show()"
   ]
  },
  {
   "cell_type": "markdown",
   "metadata": {},
   "source": [
    "##### Code 11.41"
   ]
  },
  {
   "cell_type": "code",
   "execution_count": 8,
   "metadata": {},
   "outputs": [
    {
     "data": {
      "image/png": "[encoded data removed]",
      "text/plain": [
       "<Figure size 600x500 with 1 Axes>"
      ]
     },
     "metadata": {},
     "output_type": "display_data"
    }
   ],
   "source": [
    "N = 100\n",
    "a = tfd.Normal(loc=3.0, scale=0.5).sample(N, seed=key())\n",
    "b = tfd.Normal(loc=0.0, scale=10.0).sample(N, seed=key())\n",
    "plt.subplot(xlim=(-2, 2), ylim=(0, 100))\n",
    "x = np.linspace(-2, 2, 100)\n",
    "for i in range(N):\n",
    "    plt.plot(x, jnp.exp(a[i] + b[i] * x), c=\"k\", alpha=0.5)"
   ]
  },
  {
   "cell_type": "markdown",
   "metadata": {},
   "source": [
    "##### Code 11.42"
   ]
  },
  {
   "cell_type": "code",
   "execution_count": 9,
   "metadata": {},
   "outputs": [
    {
     "data": {
      "image/png": "[encoded data removed]",
      "text/plain": [
       "<Figure size 600x500 with 1 Axes>"
      ]
     },
     "metadata": {},
     "output_type": "display_data"
    }
   ],
   "source": [
    "N = 100\n",
    "a = tfd.Normal(loc=3.0, scale=0.5).sample(N, seed=key())\n",
    "b = tfd.Normal(loc=0.0, scale=0.2).sample(N, seed=key())\n",
    "plt.subplot(xlim=(-2, 2), ylim=(0, 100))\n",
    "x = np.linspace(-2, 2, 100)\n",
    "for i in range(N):\n",
    "    plt.plot(x, jnp.exp(a[i] + b[i] * x), c=\"k\", alpha=0.5)"
   ]
  },
  {
   "cell_type": "markdown",
   "metadata": {},
   "source": [
    "##### Code 11.43"
   ]
  },
  {
   "cell_type": "code",
   "execution_count": 10,
   "metadata": {},
   "outputs": [
    {
     "data": {
      "image/png": "[encoded data removed]",
      "text/plain": [
       "<Figure size 600x500 with 1 Axes>"
      ]
     },
     "metadata": {},
     "output_type": "display_data"
    }
   ],
   "source": [
    "x_seq = np.linspace(np.log(100), np.log(200000), num=100)\n",
    "lambda_ = np.array(list(map(lambda x: np.exp(a + b * x), x_seq)))\n",
    "\n",
    "plt.subplot(\n",
    "    xlim=(np.min(x_seq).item(), np.max(x_seq).item()),\n",
    "    ylim=(0, 500),\n",
    "    xlabel=\"log population\",\n",
    "    ylabel=\"total tools\",\n",
    ")\n",
    "\n",
    "plt.plot(x_seq, lambda_, c=\"k\", alpha=0.5)\n",
    "plt.show()"
   ]
  },
  {
   "cell_type": "markdown",
   "metadata": {},
   "source": [
    "##### Code 11.44"
   ]
  },
  {
   "cell_type": "code",
   "execution_count": 11,
   "metadata": {},
   "outputs": [
    {
     "data": {
      "image/png": "[encoded data removed]",
      "text/plain": [
       "<Figure size 600x500 with 1 Axes>"
      ]
     },
     "metadata": {},
     "output_type": "display_data"
    }
   ],
   "source": [
    "plt.subplot(\n",
    "    xlim=(np.min(np.exp(x_seq)).item(), np.max(np.exp(x_seq)).item()),\n",
    "    ylim=(0, 500),\n",
    "    xlabel=\"population\",\n",
    "    ylabel=\"total tools\",\n",
    ")\n",
    "plt.plot(np.exp(x_seq), lambda_, c=\"k\", alpha=0.5)\n",
    "plt.show()"
   ]
  },
  {
   "cell_type": "markdown",
   "metadata": {},
   "source": [
    "##### Code 11.45"
   ]
  },
  {
   "cell_type": "code",
   "execution_count": 200,
   "metadata": {},
   "outputs": [],
   "source": [
    "# intercept only\n",
    "def model_11_9():\n",
    "\tdef _generator():\n",
    "\t\ta = yield tfd.Sample(tfd.Normal(loc=3.0, scale=0.5), sample_shape=1, name='a')\n",
    "\t\tyield tfd.Poisson(log_rate=a, name='T')\n",
    "\n",
    "\treturn tfd.JointDistributionCoroutineAutoBatched(_generator)"
   ]
  },
  {
   "cell_type": "code",
   "execution_count": 201,
   "metadata": {},
   "outputs": [],
   "source": [
    "jd_11_9 = model_11_9()"
   ]
  },
  {
   "cell_type": "code",
   "execution_count": 202,
   "metadata": {},
   "outputs": [],
   "source": [
    "total_tools = jnp.array(d.total_tools.values, dtype=jnp.float32)\n",
    "jd_11_9_pin = jd_11_9.experimental_pin(T=total_tools)"
   ]
  },
  {
   "cell_type": "code",
   "execution_count": 209,
   "metadata": {},
   "outputs": [],
   "source": [
    "@jax.jit\n",
    "def run_chain(init_state, seed, step_size=1e-3, num_steps=500, burnin=300):\n",
    "  # To avoid\n",
    "  # TypeError: Tensor conversion requested dtype <class 'jax.numpy.int32'> \n",
    "\t#   for array with dtype int64\n",
    "  burnin = jnp.array(burnin, dtype=jnp.int32)\n",
    "\n",
    "  def target_log_prob(*states):\n",
    "    return jd_11_9_pin.unnormalized_log_prob(states)\n",
    "  \n",
    "  bijectors = [tfb.Identity()]\n",
    "\n",
    "  kernel = tfp.mcmc.NoUTurnSampler(\n",
    "      target_log_prob_fn=target_log_prob,\n",
    "      step_size=step_size)\n",
    "  \n",
    "  kernel = tfp.mcmc.TransformedTransitionKernel(\n",
    "    inner_kernel=kernel,\n",
    "    bijector=bijectors)\n",
    "\n",
    "  kernel = tfp.mcmc.DualAveragingStepSizeAdaptation(\n",
    "    inner_kernel=kernel,\n",
    "    num_adaptation_steps=burnin)\n",
    "\n",
    "  chain_state = tfp.mcmc.sample_chain(\n",
    "      num_results=num_steps,\n",
    "      num_burnin_steps=burnin,\n",
    "      current_state=init_state,\n",
    "      kernel=kernel,\n",
    "      seed=seed,\n",
    "      trace_fn=None)\n",
    "  \n",
    "  return chain_state"
   ]
  },
  {
   "cell_type": "code",
   "execution_count": 210,
   "metadata": {},
   "outputs": [],
   "source": [
    "num_chains = 4\n",
    "init_state = jd_11_9_pin.sample_unpinned(num_chains, seed=key())\n",
    "post_9 = run_chain(init_state=init_state, seed=key(), burnin=400)"
   ]
  },
  {
   "cell_type": "code",
   "execution_count": 211,
   "metadata": {},
   "outputs": [],
   "source": [
    "post_9_dict = {k: jnp.moveaxis(v, 0, 1) for k, v in post_9._asdict().items()}\n",
    "dict_9 = dict(posterior=post_9_dict)\n",
    "idata_9 = az.from_dict(**dict_9)"
   ]
  },
  {
   "cell_type": "code",
   "execution_count": 212,
   "metadata": {},
   "outputs": [
    {
     "data": {
      "text/html": [
       "<div>\n",
       "<style scoped>\n",
       "    .dataframe tbody tr th:only-of-type {\n",
       "        vertical-align: middle;\n",
       "    }\n",
       "\n",
       "    .dataframe tbody tr th {\n",
       "        vertical-align: top;\n",
       "    }\n",
       "\n",
       "    .dataframe thead th {\n",
       "        text-align: right;\n",
       "    }\n",
       "</style>\n",
       "<table border=\"1\" class=\"dataframe\">\n",
       "  <thead>\n",
       "    <tr style=\"text-align: right;\">\n",
       "      <th></th>\n",
       "      <th>mean</th>\n",
       "      <th>sd</th>\n",
       "      <th>hdi_5.5%</th>\n",
       "      <th>hdi_94.5%</th>\n",
       "      <th>mcse_mean</th>\n",
       "      <th>mcse_sd</th>\n",
       "      <th>ess_bulk</th>\n",
       "      <th>ess_tail</th>\n",
       "      <th>r_hat</th>\n",
       "    </tr>\n",
       "  </thead>\n",
       "  <tbody>\n",
       "    <tr>\n",
       "      <th>a[0]</th>\n",
       "      <td>3.54</td>\n",
       "      <td>0.055</td>\n",
       "      <td>3.458</td>\n",
       "      <td>3.632</td>\n",
       "      <td>0.002</td>\n",
       "      <td>0.001</td>\n",
       "      <td>935.0</td>\n",
       "      <td>1504.0</td>\n",
       "      <td>1.0</td>\n",
       "    </tr>\n",
       "  </tbody>\n",
       "</table>\n",
       "</div>"
      ],
      "text/plain": [
       "      mean     sd  hdi_5.5%  hdi_94.5%  mcse_mean  mcse_sd  ess_bulk  \\\n",
       "a[0]  3.54  0.055     3.458      3.632      0.002    0.001     935.0   \n",
       "\n",
       "      ess_tail  r_hat  \n",
       "a[0]    1504.0    1.0  "
      ]
     },
     "execution_count": 212,
     "metadata": {},
     "output_type": "execute_result"
    }
   ],
   "source": [
    "az.summary(idata_9, hdi_prob=0.89)"
   ]
  },
  {
   "cell_type": "code",
   "execution_count": 213,
   "metadata": {},
   "outputs": [],
   "source": [
    "# interaction model\n",
    "def model_11_10(cid, P):\n",
    "\tdef _generator():\n",
    "\t\ta = yield tfd.Normal(loc=[3.0, 3.0], scale=0.5, name='a')\n",
    "\t\tb = yield tfd.Normal(loc=[0.0, 0.0], scale=0.2, name='b')\n",
    "\t\tlog_lambda = jnp.take(a, cid) + jnp.take(b, cid) * P\n",
    "\t\tyield tfd.Poisson(log_rate=log_lambda, name='T')\n",
    "\n",
    "\treturn tfd.JointDistributionCoroutineAutoBatched(_generator)"
   ]
  },
  {
   "cell_type": "code",
   "execution_count": 214,
   "metadata": {},
   "outputs": [],
   "source": [
    "jd_11_10 = model_11_10(d.contact_id.values, d.P.values)"
   ]
  },
  {
   "cell_type": "code",
   "execution_count": 215,
   "metadata": {},
   "outputs": [],
   "source": [
    "jd_11_10_pin = jd_11_10.experimental_pin(T=d.total_tools.values)"
   ]
  },
  {
   "cell_type": "code",
   "execution_count": 216,
   "metadata": {},
   "outputs": [],
   "source": [
    "@jax.jit\n",
    "def run_chain(init_state, seed, step_size=1e-3, num_steps=500, burnin=300):\n",
    "\n",
    "  def target_log_prob(*states):\n",
    "    return jd_11_10_pin.unnormalized_log_prob(states)\n",
    "  \n",
    "  bijectors = [tfb.Identity(), tfb.Identity()]\n",
    "\n",
    "  kernel = tfp.mcmc.NoUTurnSampler(\n",
    "      target_log_prob_fn=target_log_prob,\n",
    "      step_size=step_size)\n",
    "  \n",
    "  kernel = tfp.mcmc.TransformedTransitionKernel(\n",
    "    inner_kernel=kernel,\n",
    "    bijector=bijectors)\n",
    "\n",
    "  kernel = tfp.mcmc.DualAveragingStepSizeAdaptation(\n",
    "    inner_kernel=kernel,\n",
    "    num_adaptation_steps=burnin)\n",
    "\n",
    "  chain_state = tfp.mcmc.sample_chain(\n",
    "      num_results=num_steps,\n",
    "      num_burnin_steps=burnin,\n",
    "      current_state=init_state,\n",
    "      kernel=kernel,\n",
    "      seed=seed,\n",
    "      trace_fn=None)\n",
    "  \n",
    "  return chain_state"
   ]
  },
  {
   "cell_type": "code",
   "execution_count": 217,
   "metadata": {},
   "outputs": [],
   "source": [
    "num_chains = 4\n",
    "init_state = jd_11_10_pin.sample_unpinned(num_chains, seed=key())\n",
    "post_10 = run_chain(init_state=init_state, seed=key())"
   ]
  },
  {
   "cell_type": "code",
   "execution_count": 218,
   "metadata": {},
   "outputs": [],
   "source": [
    "post_10_dict = {k: jnp.moveaxis(v, 0, 1) for k, v in post_10._asdict().items()}\n",
    "dict_10 = dict(posterior=post_10_dict)\n",
    "idata_10 = az.from_dict(**dict_10)"
   ]
  },
  {
   "cell_type": "code",
   "execution_count": 219,
   "metadata": {},
   "outputs": [
    {
     "data": {
      "text/html": [
       "<div>\n",
       "<style scoped>\n",
       "    .dataframe tbody tr th:only-of-type {\n",
       "        vertical-align: middle;\n",
       "    }\n",
       "\n",
       "    .dataframe tbody tr th {\n",
       "        vertical-align: top;\n",
       "    }\n",
       "\n",
       "    .dataframe thead th {\n",
       "        text-align: right;\n",
       "    }\n",
       "</style>\n",
       "<table border=\"1\" class=\"dataframe\">\n",
       "  <thead>\n",
       "    <tr style=\"text-align: right;\">\n",
       "      <th></th>\n",
       "      <th>mean</th>\n",
       "      <th>sd</th>\n",
       "      <th>hdi_5.5%</th>\n",
       "      <th>hdi_94.5%</th>\n",
       "      <th>mcse_mean</th>\n",
       "      <th>mcse_sd</th>\n",
       "      <th>ess_bulk</th>\n",
       "      <th>ess_tail</th>\n",
       "      <th>r_hat</th>\n",
       "    </tr>\n",
       "  </thead>\n",
       "  <tbody>\n",
       "    <tr>\n",
       "      <th>a[0]</th>\n",
       "      <td>3.322</td>\n",
       "      <td>0.088</td>\n",
       "      <td>3.188</td>\n",
       "      <td>3.462</td>\n",
       "      <td>0.002</td>\n",
       "      <td>0.001</td>\n",
       "      <td>1822.0</td>\n",
       "      <td>1604.0</td>\n",
       "      <td>1.00</td>\n",
       "    </tr>\n",
       "    <tr>\n",
       "      <th>a[1]</th>\n",
       "      <td>3.610</td>\n",
       "      <td>0.072</td>\n",
       "      <td>3.493</td>\n",
       "      <td>3.720</td>\n",
       "      <td>0.002</td>\n",
       "      <td>0.001</td>\n",
       "      <td>2138.0</td>\n",
       "      <td>1584.0</td>\n",
       "      <td>1.00</td>\n",
       "    </tr>\n",
       "    <tr>\n",
       "      <th>b[0]</th>\n",
       "      <td>0.377</td>\n",
       "      <td>0.052</td>\n",
       "      <td>0.301</td>\n",
       "      <td>0.467</td>\n",
       "      <td>0.001</td>\n",
       "      <td>0.001</td>\n",
       "      <td>2216.0</td>\n",
       "      <td>1588.0</td>\n",
       "      <td>1.00</td>\n",
       "    </tr>\n",
       "    <tr>\n",
       "      <th>b[1]</th>\n",
       "      <td>0.185</td>\n",
       "      <td>0.156</td>\n",
       "      <td>-0.064</td>\n",
       "      <td>0.432</td>\n",
       "      <td>0.005</td>\n",
       "      <td>0.004</td>\n",
       "      <td>925.0</td>\n",
       "      <td>939.0</td>\n",
       "      <td>1.01</td>\n",
       "    </tr>\n",
       "  </tbody>\n",
       "</table>\n",
       "</div>"
      ],
      "text/plain": [
       "       mean     sd  hdi_5.5%  hdi_94.5%  mcse_mean  mcse_sd  ess_bulk  \\\n",
       "a[0]  3.322  0.088     3.188      3.462      0.002    0.001    1822.0   \n",
       "a[1]  3.610  0.072     3.493      3.720      0.002    0.001    2138.0   \n",
       "b[0]  0.377  0.052     0.301      0.467      0.001    0.001    2216.0   \n",
       "b[1]  0.185  0.156    -0.064      0.432      0.005    0.004     925.0   \n",
       "\n",
       "      ess_tail  r_hat  \n",
       "a[0]    1604.0   1.00  \n",
       "a[1]    1584.0   1.00  \n",
       "b[0]    1588.0   1.00  \n",
       "b[1]     939.0   1.01  "
      ]
     },
     "execution_count": 219,
     "metadata": {},
     "output_type": "execute_result"
    }
   ],
   "source": [
    "az.summary(idata_10, hdi_prob=0.89)"
   ]
  },
  {
   "cell_type": "markdown",
   "metadata": {},
   "source": [
    "##### Code 11.46  "
   ]
  },
  {
   "cell_type": "code",
   "execution_count": 156,
   "metadata": {},
   "outputs": [],
   "source": [
    "# intercept only\n",
    "def model_11_9x():\n",
    "\tdef _generator():\n",
    "\t\ta = yield xtfd.Sample(xtfd.Normal(loc=3.0, scale=0.5), sample_shape=1, name='a')\n",
    "\t\tyield xtfd.Poisson(log_rate=a, name='T')\n",
    "\n",
    "\treturn xtfd.JointDistributionCoroutineAutoBatched(_generator)"
   ]
  },
  {
   "cell_type": "code",
   "execution_count": 157,
   "metadata": {},
   "outputs": [],
   "source": [
    "jd_9x = model_11_9x()\n",
    "ds_9, _ = jd_9x.sample_distributions(value=post_9)\n",
    "ll_9 = ds_9[-1].log_prob(d.total_tools.values)\n",
    "ll_9 = np.moveaxis(ll_9, 0, 1) "
   ]
  },
  {
   "cell_type": "code",
   "execution_count": 159,
   "metadata": {},
   "outputs": [],
   "source": [
    "dict_9.update(log_likelihood={'ll': ll_9},\n",
    "              dims={'ll': ['culture']},\n",
    "              coords={'culture': d.culture.values})\n",
    "idata_9 = az.from_dict(**dict_9)"
   ]
  },
  {
   "cell_type": "code",
   "execution_count": 135,
   "metadata": {},
   "outputs": [],
   "source": [
    "# interaction model\n",
    "def model_11_10x(cid, P):\n",
    "\tdef _generator():\n",
    "\t\ta = yield xtfd.Normal(loc=[3.0, 3.0], scale=0.5, name='a')\n",
    "\t\tb = yield xtfd.Normal(loc=[0.0, 0.0], scale=0.2, name='b')\n",
    "\t\tlog_lambda = tf.gather(a, cid) + tf.gather(b, cid) * P\n",
    "\t\tyield xtfd.Poisson(log_rate=log_lambda, name='T')\n",
    "\n",
    "\treturn xtfd.JointDistributionCoroutineAutoBatched(_generator)"
   ]
  },
  {
   "cell_type": "code",
   "execution_count": 136,
   "metadata": {},
   "outputs": [
    {
     "name": "stdout",
     "output_type": "stream",
     "text": [
      "WARNING:tensorflow:6 out of the last 6 calls to <function pfor.<locals>.f at 0x35610cc20> triggered tf.function retracing. Tracing is expensive and the excessive number of tracings could be due to (1) creating @tf.function repeatedly in a loop, (2) passing tensors with different shapes, (3) passing Python objects instead of tensors. For (1), please define your @tf.function outside of the loop. For (2), @tf.function has reduce_retracing=True option that can avoid unnecessary retracing. For (3), please refer to https://www.tensorflow.org/guide/function#controlling_retracing and https://www.tensorflow.org/api_docs/python/tf/function for  more details.\n"
     ]
    }
   ],
   "source": [
    "jd_10x = model_11_10x(d.contact_id.values, d.P.values)\n",
    "ds_10, _ = jd_10x.sample_distributions(value=post_10)\n",
    "ll_10 = ds_10[-1].log_prob(d.total_tools.values)\n",
    "ll_10 = np.moveaxis(ll_10, 0, 1) "
   ]
  },
  {
   "cell_type": "code",
   "execution_count": 137,
   "metadata": {},
   "outputs": [],
   "source": [
    "dict_10.update(log_likelihood={'ll': ll_10},\n",
    "              dims={'ll': ['culture']},\n",
    "              coords={'culture': d.culture.values})\n",
    "idata_10 = az.from_dict(**dict_10)"
   ]
  },
  {
   "cell_type": "code",
   "execution_count": 160,
   "metadata": {},
   "outputs": [
    {
     "name": "stderr",
     "output_type": "stream",
     "text": [
      "/Users/jun/miniforge3/envs/dl/lib/python3.12/site-packages/arviz/stats/stats.py:795: UserWarning: Estimated shape parameter of Pareto distribution is greater than 0.70 for one or more samples. You should consider using a more robust model, this is because importance sampling is less likely to work well if the marginal posterior and LOO posterior are very different. This is more likely to happen with a non-robust model and highly influential observations.\n",
      "  warnings.warn(\n",
      "/Users/jun/miniforge3/envs/dl/lib/python3.12/site-packages/arviz/stats/stats.py:795: UserWarning: Estimated shape parameter of Pareto distribution is greater than 0.70 for one or more samples. You should consider using a more robust model, this is because importance sampling is less likely to work well if the marginal posterior and LOO posterior are very different. This is more likely to happen with a non-robust model and highly influential observations.\n",
      "  warnings.warn(\n"
     ]
    },
    {
     "data": {
      "text/html": [
       "<div>\n",
       "<style scoped>\n",
       "    .dataframe tbody tr th:only-of-type {\n",
       "        vertical-align: middle;\n",
       "    }\n",
       "\n",
       "    .dataframe tbody tr th {\n",
       "        vertical-align: top;\n",
       "    }\n",
       "\n",
       "    .dataframe thead th {\n",
       "        text-align: right;\n",
       "    }\n",
       "</style>\n",
       "<table border=\"1\" class=\"dataframe\">\n",
       "  <thead>\n",
       "    <tr style=\"text-align: right;\">\n",
       "      <th></th>\n",
       "      <th>rank</th>\n",
       "      <th>elpd_loo</th>\n",
       "      <th>p_loo</th>\n",
       "      <th>elpd_diff</th>\n",
       "      <th>weight</th>\n",
       "      <th>se</th>\n",
       "      <th>dse</th>\n",
       "      <th>warning</th>\n",
       "      <th>scale</th>\n",
       "    </tr>\n",
       "  </thead>\n",
       "  <tbody>\n",
       "    <tr>\n",
       "      <th>m11.10</th>\n",
       "      <td>0</td>\n",
       "      <td>84.304236</td>\n",
       "      <td>6.452423</td>\n",
       "      <td>0.000000</td>\n",
       "      <td>0.962789</td>\n",
       "      <td>12.279325</td>\n",
       "      <td>0.000000</td>\n",
       "      <td>True</td>\n",
       "      <td>deviance</td>\n",
       "    </tr>\n",
       "    <tr>\n",
       "      <th>m11.9</th>\n",
       "      <td>1</td>\n",
       "      <td>141.002675</td>\n",
       "      <td>7.921044</td>\n",
       "      <td>56.698439</td>\n",
       "      <td>0.037211</td>\n",
       "      <td>31.811849</td>\n",
       "      <td>31.553552</td>\n",
       "      <td>True</td>\n",
       "      <td>deviance</td>\n",
       "    </tr>\n",
       "  </tbody>\n",
       "</table>\n",
       "</div>"
      ],
      "text/plain": [
       "        rank    elpd_loo     p_loo  elpd_diff    weight         se        dse  \\\n",
       "m11.10     0   84.304236  6.452423   0.000000  0.962789  12.279325   0.000000   \n",
       "m11.9      1  141.002675  7.921044  56.698439  0.037211  31.811849  31.553552   \n",
       "\n",
       "        warning     scale  \n",
       "m11.10     True  deviance  \n",
       "m11.9      True  deviance  "
      ]
     },
     "execution_count": 160,
     "metadata": {},
     "output_type": "execute_result"
    }
   ],
   "source": [
    "az.compare({\"m11.9\": idata_9, \"m11.10\": idata_10}, ic='loo', scale=\"deviance\")"
   ]
  },
  {
   "cell_type": "markdown",
   "metadata": {},
   "source": [
    "##### Code 11.47"
   ]
  },
  {
   "cell_type": "code",
   "execution_count": 178,
   "metadata": {},
   "outputs": [
    {
     "name": "stderr",
     "output_type": "stream",
     "text": [
      "/Users/jun/miniforge3/envs/dl/lib/python3.12/site-packages/arviz/stats/stats.py:795: UserWarning: Estimated shape parameter of Pareto distribution is greater than 0.70 for one or more samples. You should consider using a more robust model, this is because importance sampling is less likely to work well if the marginal posterior and LOO posterior are very different. This is more likely to happen with a non-robust model and highly influential observations.\n",
      "  warnings.warn(\n"
     ]
    },
    {
     "data": {
      "image/png": "[encoded data removed]",
      "text/plain": [
       "<Figure size 600x500 with 1 Axes>"
      ]
     },
     "metadata": {},
     "output_type": "display_data"
    }
   ],
   "source": [
    "k = az.loo(idata_10, pointwise=True).pareto_k.values\n",
    "\n",
    "cex = 1 + (k - np.min(k)) / (np.max(k) - np.min(k))\n",
    "plt.scatter(\n",
    "    d.P,\n",
    "    d.total_tools,\n",
    "    s=40 * cex,\n",
    "    edgecolors=[\"none\" if i == 1 else \"b\" for i in d.contact_id],\n",
    "    facecolors=[\"none\" if i == 0 else \"b\" for i in d.contact_id],\n",
    ")\n",
    "plt.gca().set(xlabel=\"log population (std)\", ylabel=\"total tools\", ylim=(0, 75))\n",
    "\n",
    "P_seq = np.linspace(-1.4, 3, num=100)\n",
    "\n",
    "jd_10_cid0 = model_11_10x(cid=np.repeat(0, 100), P=P_seq)\n",
    "ds_cid0, _ = jd_10_cid0.sample_distributions(value=post_10)\n",
    "lambda_0 = ds_cid0[-1].mean()\n",
    "lmu0 = np.mean(lambda_0, axis=(0, 1))\n",
    "lci0 = np.percentile(lambda_0, (0.55, 94.5), axis=(0, 1))\n",
    "plt.plot(P_seq, lmu0, \"k--\", lw=1.5)\n",
    "plt.fill_between(P_seq, lci0[0], lci0[1], color=\"k\", alpha=0.2)\n",
    "\n",
    "jd_10_cid1 = model_11_10x(cid=np.repeat(1, 100), P=P_seq)\n",
    "ds_cid1, _ = jd_10_cid1.sample_distributions(value=post_10)\n",
    "lambda_1 = ds_cid1[-1].mean()\n",
    "lmu1 = np.mean(lambda_1, axis=(0, 1))\n",
    "lci1 = np.percentile(lambda_1, (0.55, 94.5), axis=(0, 1))\n",
    "plt.plot(P_seq, lmu1, \"k\", lw=1.5)\n",
    "plt.fill_between(P_seq, lci1[0], lci1[1], color=\"k\", alpha=0.2);"
   ]
  },
  {
   "cell_type": "markdown",
   "metadata": {},
   "source": [
    "Open points are low contact societies and closed points are the high contact ones. Dashed curve is the posterior mean for low contact societies."
   ]
  },
  {
   "cell_type": "markdown",
   "metadata": {},
   "source": [
    "### 11.2.2 Negative binomial (gamm-poisson) models"
   ]
  },
  {
   "cell_type": "markdown",
   "metadata": {},
   "source": [
    "### 11.2.3 Example: Exposure and the offset"
   ]
  },
  {
   "cell_type": "markdown",
   "metadata": {},
   "source": [
    "##### Code 11.50"
   ]
  },
  {
   "cell_type": "code",
   "execution_count": 220,
   "metadata": {},
   "outputs": [],
   "source": [
    "num_days = 30\n",
    "y = tfd.Poisson(rate=1.5).sample(num_days, seed=key())"
   ]
  },
  {
   "cell_type": "markdown",
   "metadata": {},
   "source": [
    "## Code 11.51"
   ]
  },
  {
   "cell_type": "code",
   "execution_count": 221,
   "metadata": {},
   "outputs": [],
   "source": [
    "num_weeks = 4\n",
    "y_new = tfd.Poisson(rate=0.5 * 7).sample(num_weeks, seed=key())"
   ]
  },
  {
   "cell_type": "markdown",
   "metadata": {},
   "source": [
    "##### Code 11.52"
   ]
  },
  {
   "cell_type": "code",
   "execution_count": 222,
   "metadata": {},
   "outputs": [],
   "source": [
    "y_all = np.concatenate([y, y_new])\n",
    "exposure = np.concatenate([np.repeat(1, 30), np.repeat(7, 4)])\n",
    "monastery = np.concatenate([np.repeat(0, 30), np.repeat(1, 4)])\n",
    "d = pd.DataFrame.from_dict(dict(y=y_all, days=exposure, monastery=monastery))"
   ]
  },
  {
   "cell_type": "markdown",
   "metadata": {},
   "source": [
    "##### Code 11.53"
   ]
  },
  {
   "cell_type": "code",
   "execution_count": 225,
   "metadata": {},
   "outputs": [],
   "source": [
    "# compute the offset\n",
    "d[\"log_days\"] = d.days.pipe(np.log)\n",
    "\n",
    "def model_11_12(log_days, monastery):\n",
    "\tdef _generator():\n",
    "\t\ta = yield tfd.Normal(loc=0.0, scale=1.0, name='a')\n",
    "\t\tb = yield tfd.Normal(loc=0.0, scale=1.0, name='b')\n",
    "\t\tlog_lambda = log_days + a + b * monastery\n",
    "\t\tyield tfd.Poisson(log_rate=log_lambda, name='y')\n",
    "\treturn tfd.JointDistributionCoroutineAutoBatched(_generator)"
   ]
  },
  {
   "cell_type": "code",
   "execution_count": 226,
   "metadata": {},
   "outputs": [],
   "source": [
    "jd_11_12 = model_11_12(d.log_days.values, d.monastery.values)"
   ]
  },
  {
   "cell_type": "code",
   "execution_count": 227,
   "metadata": {},
   "outputs": [],
   "source": [
    "jd_11_12_pin = jd_11_12.experimental_pin(y=d.y.values)"
   ]
  },
  {
   "cell_type": "code",
   "execution_count": 228,
   "metadata": {},
   "outputs": [],
   "source": [
    "@jax.jit\n",
    "def run_chain(init_state, seed, step_size=1e-3, num_steps=500, burnin=400):\n",
    "\n",
    "  def target_log_prob(*states):\n",
    "    return jd_11_12_pin.unnormalized_log_prob(states)\n",
    "  \n",
    "  bijectors = [tfb.Identity(), tfb.Identity()]\n",
    "\n",
    "  kernel = tfp.mcmc.NoUTurnSampler(\n",
    "      target_log_prob_fn=target_log_prob,\n",
    "      step_size=step_size)\n",
    "  \n",
    "  kernel = tfp.mcmc.TransformedTransitionKernel(\n",
    "    inner_kernel=kernel,\n",
    "    bijector=bijectors)\n",
    "\n",
    "  kernel = tfp.mcmc.DualAveragingStepSizeAdaptation(\n",
    "    inner_kernel=kernel,\n",
    "    num_adaptation_steps=burnin)\n",
    "\n",
    "  chain_state = tfp.mcmc.sample_chain(\n",
    "      num_results=num_steps,\n",
    "      num_burnin_steps=burnin,\n",
    "      current_state=init_state,\n",
    "      kernel=kernel,\n",
    "      seed=seed,\n",
    "      trace_fn=None)\n",
    "  \n",
    "  return chain_state"
   ]
  },
  {
   "cell_type": "code",
   "execution_count": 229,
   "metadata": {},
   "outputs": [],
   "source": [
    "num_chains = 4\n",
    "init_state = jd_11_12_pin.sample_unpinned(num_chains, seed=key())\n",
    "post_12 = run_chain(init_state=init_state, seed=key())"
   ]
  },
  {
   "cell_type": "code",
   "execution_count": 230,
   "metadata": {},
   "outputs": [],
   "source": [
    "post_12_dict = {k: jnp.moveaxis(v, 0, 1) for k, v in post_12._asdict().items()}\n",
    "dict_12 = dict(posterior=post_12_dict)\n",
    "idata_12 = az.from_dict(**dict_12)"
   ]
  },
  {
   "cell_type": "code",
   "execution_count": 231,
   "metadata": {},
   "outputs": [
    {
     "data": {
      "text/html": [
       "<div>\n",
       "<style scoped>\n",
       "    .dataframe tbody tr th:only-of-type {\n",
       "        vertical-align: middle;\n",
       "    }\n",
       "\n",
       "    .dataframe tbody tr th {\n",
       "        vertical-align: top;\n",
       "    }\n",
       "\n",
       "    .dataframe thead th {\n",
       "        text-align: right;\n",
       "    }\n",
       "</style>\n",
       "<table border=\"1\" class=\"dataframe\">\n",
       "  <thead>\n",
       "    <tr style=\"text-align: right;\">\n",
       "      <th></th>\n",
       "      <th>mean</th>\n",
       "      <th>sd</th>\n",
       "      <th>hdi_5.5%</th>\n",
       "      <th>hdi_94.5%</th>\n",
       "      <th>mcse_mean</th>\n",
       "      <th>mcse_sd</th>\n",
       "      <th>ess_bulk</th>\n",
       "      <th>ess_tail</th>\n",
       "      <th>r_hat</th>\n",
       "    </tr>\n",
       "  </thead>\n",
       "  <tbody>\n",
       "    <tr>\n",
       "      <th>a</th>\n",
       "      <td>0.257</td>\n",
       "      <td>0.157</td>\n",
       "      <td>0.018</td>\n",
       "      <td>0.513</td>\n",
       "      <td>0.005</td>\n",
       "      <td>0.004</td>\n",
       "      <td>1058.0</td>\n",
       "      <td>1393.0</td>\n",
       "      <td>1.01</td>\n",
       "    </tr>\n",
       "    <tr>\n",
       "      <th>b</th>\n",
       "      <td>-0.744</td>\n",
       "      <td>0.274</td>\n",
       "      <td>-1.185</td>\n",
       "      <td>-0.323</td>\n",
       "      <td>0.010</td>\n",
       "      <td>0.007</td>\n",
       "      <td>758.0</td>\n",
       "      <td>921.0</td>\n",
       "      <td>1.01</td>\n",
       "    </tr>\n",
       "  </tbody>\n",
       "</table>\n",
       "</div>"
      ],
      "text/plain": [
       "    mean     sd  hdi_5.5%  hdi_94.5%  mcse_mean  mcse_sd  ess_bulk  ess_tail  \\\n",
       "a  0.257  0.157     0.018      0.513      0.005    0.004    1058.0    1393.0   \n",
       "b -0.744  0.274    -1.185     -0.323      0.010    0.007     758.0     921.0   \n",
       "\n",
       "   r_hat  \n",
       "a   1.01  \n",
       "b   1.01  "
      ]
     },
     "execution_count": 231,
     "metadata": {},
     "output_type": "execute_result"
    }
   ],
   "source": [
    "az.summary(idata_12, hdi_prob=0.89)"
   ]
  },
  {
   "cell_type": "markdown",
   "metadata": {},
   "source": [
    "##### Code 11.54"
   ]
  },
  {
   "cell_type": "code",
   "execution_count": 233,
   "metadata": {},
   "outputs": [
    {
     "data": {
      "text/html": [
       "<div>\n",
       "<style scoped>\n",
       "    .dataframe tbody tr th:only-of-type {\n",
       "        vertical-align: middle;\n",
       "    }\n",
       "\n",
       "    .dataframe tbody tr th {\n",
       "        vertical-align: top;\n",
       "    }\n",
       "\n",
       "    .dataframe thead th {\n",
       "        text-align: right;\n",
       "    }\n",
       "</style>\n",
       "<table border=\"1\" class=\"dataframe\">\n",
       "  <thead>\n",
       "    <tr style=\"text-align: right;\">\n",
       "      <th></th>\n",
       "      <th>mean</th>\n",
       "      <th>sd</th>\n",
       "      <th>hdi_5.5%</th>\n",
       "      <th>hdi_94.5%</th>\n",
       "      <th>mcse_mean</th>\n",
       "      <th>mcse_sd</th>\n",
       "      <th>ess_bulk</th>\n",
       "      <th>ess_tail</th>\n",
       "      <th>r_hat</th>\n",
       "    </tr>\n",
       "  </thead>\n",
       "  <tbody>\n",
       "    <tr>\n",
       "      <th>lambda_new</th>\n",
       "      <td>0.631</td>\n",
       "      <td>0.145</td>\n",
       "      <td>0.407</td>\n",
       "      <td>0.858</td>\n",
       "      <td>0.004</td>\n",
       "      <td>0.003</td>\n",
       "      <td>1097.0</td>\n",
       "      <td>1462.0</td>\n",
       "      <td>1.00</td>\n",
       "    </tr>\n",
       "    <tr>\n",
       "      <th>lambda_old</th>\n",
       "      <td>1.308</td>\n",
       "      <td>0.205</td>\n",
       "      <td>0.954</td>\n",
       "      <td>1.596</td>\n",
       "      <td>0.006</td>\n",
       "      <td>0.005</td>\n",
       "      <td>1058.0</td>\n",
       "      <td>1393.0</td>\n",
       "      <td>1.01</td>\n",
       "    </tr>\n",
       "  </tbody>\n",
       "</table>\n",
       "</div>"
      ],
      "text/plain": [
       "             mean     sd  hdi_5.5%  hdi_94.5%  mcse_mean  mcse_sd  ess_bulk  \\\n",
       "lambda_new  0.631  0.145     0.407      0.858      0.004    0.003    1097.0   \n",
       "lambda_old  1.308  0.205     0.954      1.596      0.006    0.005    1058.0   \n",
       "\n",
       "            ess_tail  r_hat  \n",
       "lambda_new    1462.0   1.00  \n",
       "lambda_old    1393.0   1.01  "
      ]
     },
     "execution_count": 233,
     "metadata": {},
     "output_type": "execute_result"
    }
   ],
   "source": [
    "# using only the first chain\n",
    "sample_a = post_12_dict['a']\n",
    "sample_b = post_12_dict['b']\n",
    "\n",
    "lambda_old = jnp.exp(sample_a)\n",
    "lambda_new = jnp.exp(sample_a + sample_b)\n",
    "\n",
    "az.summary(\n",
    "    az.from_dict({\"lambda_old\": lambda_old, \"lambda_new\": lambda_new}), hdi_prob=0.89)"
   ]
  },
  {
   "cell_type": "markdown",
   "metadata": {},
   "source": [
    "## 11.3 Multinomial and categorical models"
   ]
  },
  {
   "cell_type": "markdown",
   "metadata": {},
   "source": [
    "### 11.3.1 Predictors matched to outcomes"
   ]
  },
  {
   "cell_type": "markdown",
   "metadata": {},
   "source": [
    "##### Code 11.55\n",
    "\n",
    "Here we simulate career choice from three different careers, each with its own income trait. These traits are used to assign a score to each type of event. Then when the model is fit to the data, one of these scores is held constant, and the other two scores are estimated, using the known income traits"
   ]
  },
  {
   "cell_type": "code",
   "execution_count": 249,
   "metadata": {},
   "outputs": [],
   "source": [
    "N = 500  # number of individuals\n",
    "income = np.array([1., 2, 5])  # expected income of each career\n",
    "career = tfd.Categorical(logits=income).sample(N, seed=key())"
   ]
  },
  {
   "cell_type": "markdown",
   "metadata": {},
   "source": [
    "##### Code 11.56\n",
    "\n",
    "\n",
    "Categorical likelihood is a multinomial logistic regression distribution.\n",
    "\n",
    "Each possible career will gets its own linear model with its own features. "
   ]
  },
  {
   "cell_type": "code",
   "execution_count": 365,
   "metadata": {},
   "outputs": [],
   "source": [
    "def model_11_13(career_income):\n",
    "\tcareer_income = jnp.array(career_income, dtype=jnp.float32)\n",
    "\tK = jnp.size(career_income)\n",
    "\n",
    "\tdef _generator():\n",
    "\t\ta = yield tfd.Sample(tfd.Normal(loc=0.0, scale=1.0), sample_shape=K-1, name='a')\n",
    "\t\t# fix-one-to-zero constraint (for intercept, not a whole category)\n",
    "\t\ta = jnp.concatenate([a, jnp.array([0.])])\n",
    "\t\tb = yield tfd.Normal(loc=0.0, scale=0.5, name='b')\n",
    "\t\ts = a + b*career_income\n",
    "\t\tyield tfd.Sample(tfd.Categorical(logits=s), sample_shape=500, name='career')\n",
    "\n",
    "\treturn tfd.JointDistributionCoroutineAutoBatched(_generator)"
   ]
  },
  {
   "cell_type": "markdown",
   "metadata": {},
   "source": [
    "##### Code 11.57"
   ]
  },
  {
   "cell_type": "code",
   "execution_count": 366,
   "metadata": {},
   "outputs": [],
   "source": [
    "jd_11_13 = model_11_13(income)"
   ]
  },
  {
   "cell_type": "code",
   "execution_count": 367,
   "metadata": {},
   "outputs": [],
   "source": [
    "jd_11_13_pin = jd_11_13.experimental_pin(career=career)"
   ]
  },
  {
   "cell_type": "code",
   "execution_count": 368,
   "metadata": {},
   "outputs": [],
   "source": [
    "@jax.jit\n",
    "def run_chain(init_state, seed, step_size=1e-3, num_steps=500, burnin=400):\n",
    "\n",
    "  def target_log_prob(*states):\n",
    "    return jd_11_13_pin.unnormalized_log_prob(states)\n",
    "  \n",
    "  bijectors = [tfb.Identity(), tfb.Identity()]\n",
    "\n",
    "  kernel = tfp.mcmc.NoUTurnSampler(\n",
    "      target_log_prob_fn=target_log_prob,\n",
    "      step_size=step_size)\n",
    "  \n",
    "  kernel = tfp.mcmc.TransformedTransitionKernel(\n",
    "    inner_kernel=kernel,\n",
    "    bijector=bijectors)\n",
    "\n",
    "  kernel = tfp.mcmc.DualAveragingStepSizeAdaptation(\n",
    "    inner_kernel=kernel,\n",
    "    num_adaptation_steps=burnin)\n",
    "\n",
    "  chain_state = tfp.mcmc.sample_chain(\n",
    "      num_results=num_steps,\n",
    "      num_burnin_steps=burnin,\n",
    "      current_state=init_state,\n",
    "      kernel=kernel,\n",
    "      seed=seed,\n",
    "      trace_fn=None)\n",
    "  \n",
    "  return chain_state"
   ]
  },
  {
   "cell_type": "code",
   "execution_count": 369,
   "metadata": {},
   "outputs": [],
   "source": [
    "num_chains = 4\n",
    "init_state = jd_11_13_pin.sample_unpinned(num_chains, seed=key())\n",
    "post_13 = run_chain(init_state=init_state, seed=key())"
   ]
  },
  {
   "cell_type": "code",
   "execution_count": 371,
   "metadata": {},
   "outputs": [],
   "source": [
    "post_13_dict = {k: jnp.moveaxis(v, 0, 1) for k, v in post_13._asdict().items()}\n",
    "dict_13 = dict(posterior=post_13_dict)\n",
    "idata_13 = az.from_dict(**dict_13)"
   ]
  },
  {
   "cell_type": "code",
   "execution_count": 372,
   "metadata": {},
   "outputs": [
    {
     "data": {
      "text/html": [
       "<div>\n",
       "<style scoped>\n",
       "    .dataframe tbody tr th:only-of-type {\n",
       "        vertical-align: middle;\n",
       "    }\n",
       "\n",
       "    .dataframe tbody tr th {\n",
       "        vertical-align: top;\n",
       "    }\n",
       "\n",
       "    .dataframe thead th {\n",
       "        text-align: right;\n",
       "    }\n",
       "</style>\n",
       "<table border=\"1\" class=\"dataframe\">\n",
       "  <thead>\n",
       "    <tr style=\"text-align: right;\">\n",
       "      <th></th>\n",
       "      <th>mean</th>\n",
       "      <th>sd</th>\n",
       "      <th>hdi_5.5%</th>\n",
       "      <th>hdi_94.5%</th>\n",
       "      <th>mcse_mean</th>\n",
       "      <th>mcse_sd</th>\n",
       "      <th>ess_bulk</th>\n",
       "      <th>ess_tail</th>\n",
       "      <th>r_hat</th>\n",
       "    </tr>\n",
       "  </thead>\n",
       "  <tbody>\n",
       "    <tr>\n",
       "      <th>a[0]</th>\n",
       "      <td>-0.803</td>\n",
       "      <td>0.755</td>\n",
       "      <td>-1.989</td>\n",
       "      <td>0.431</td>\n",
       "      <td>0.037</td>\n",
       "      <td>0.028</td>\n",
       "      <td>416.0</td>\n",
       "      <td>365.0</td>\n",
       "      <td>1.02</td>\n",
       "    </tr>\n",
       "    <tr>\n",
       "      <th>a[1]</th>\n",
       "      <td>-0.153</td>\n",
       "      <td>0.581</td>\n",
       "      <td>-1.105</td>\n",
       "      <td>0.703</td>\n",
       "      <td>0.026</td>\n",
       "      <td>0.018</td>\n",
       "      <td>500.0</td>\n",
       "      <td>522.0</td>\n",
       "      <td>1.01</td>\n",
       "    </tr>\n",
       "    <tr>\n",
       "      <th>b</th>\n",
       "      <td>0.878</td>\n",
       "      <td>0.190</td>\n",
       "      <td>0.581</td>\n",
       "      <td>1.183</td>\n",
       "      <td>0.009</td>\n",
       "      <td>0.006</td>\n",
       "      <td>491.0</td>\n",
       "      <td>576.0</td>\n",
       "      <td>1.01</td>\n",
       "    </tr>\n",
       "  </tbody>\n",
       "</table>\n",
       "</div>"
      ],
      "text/plain": [
       "       mean     sd  hdi_5.5%  hdi_94.5%  mcse_mean  mcse_sd  ess_bulk  \\\n",
       "a[0] -0.803  0.755    -1.989      0.431      0.037    0.028     416.0   \n",
       "a[1] -0.153  0.581    -1.105      0.703      0.026    0.018     500.0   \n",
       "b     0.878  0.190     0.581      1.183      0.009    0.006     491.0   \n",
       "\n",
       "      ess_tail  r_hat  \n",
       "a[0]     365.0   1.02  \n",
       "a[1]     522.0   1.01  \n",
       "b        576.0   1.01  "
      ]
     },
     "execution_count": 372,
     "metadata": {},
     "output_type": "execute_result"
    }
   ],
   "source": [
    "az.summary(idata_13, hdi_prob=0.89)"
   ]
  },
  {
   "cell_type": "markdown",
   "metadata": {},
   "source": [
    "### 11.3.3 Multinomial in disguise as Poisson"
   ]
  },
  {
   "cell_type": "markdown",
   "metadata": {},
   "source": [
    "##### Code 11.60\n",
    "\n",
    "Multinomial in disguise as Poisson. The author shows a technique here on how to fit a multinomial/categorical model as a series of Poisson Likelihoods.\n",
    "\n",
    "\n",
    "It is computationally easier to use Poisson rather than multinomial likelihoods"
   ]
  },
  {
   "cell_type": "code",
   "execution_count": 373,
   "metadata": {},
   "outputs": [
    {
     "data": {
      "text/html": [
       "<div>\n",
       "<style scoped>\n",
       "    .dataframe tbody tr th:only-of-type {\n",
       "        vertical-align: middle;\n",
       "    }\n",
       "\n",
       "    .dataframe tbody tr th {\n",
       "        vertical-align: top;\n",
       "    }\n",
       "\n",
       "    .dataframe thead th {\n",
       "        text-align: right;\n",
       "    }\n",
       "</style>\n",
       "<table border=\"1\" class=\"dataframe\">\n",
       "  <thead>\n",
       "    <tr style=\"text-align: right;\">\n",
       "      <th></th>\n",
       "      <th>dept</th>\n",
       "      <th>applicant.gender</th>\n",
       "      <th>admit</th>\n",
       "      <th>reject</th>\n",
       "      <th>applications</th>\n",
       "    </tr>\n",
       "  </thead>\n",
       "  <tbody>\n",
       "    <tr>\n",
       "      <th>1</th>\n",
       "      <td>A</td>\n",
       "      <td>male</td>\n",
       "      <td>512</td>\n",
       "      <td>313</td>\n",
       "      <td>825</td>\n",
       "    </tr>\n",
       "    <tr>\n",
       "      <th>2</th>\n",
       "      <td>A</td>\n",
       "      <td>female</td>\n",
       "      <td>89</td>\n",
       "      <td>19</td>\n",
       "      <td>108</td>\n",
       "    </tr>\n",
       "    <tr>\n",
       "      <th>3</th>\n",
       "      <td>B</td>\n",
       "      <td>male</td>\n",
       "      <td>353</td>\n",
       "      <td>207</td>\n",
       "      <td>560</td>\n",
       "    </tr>\n",
       "    <tr>\n",
       "      <th>4</th>\n",
       "      <td>B</td>\n",
       "      <td>female</td>\n",
       "      <td>17</td>\n",
       "      <td>8</td>\n",
       "      <td>25</td>\n",
       "    </tr>\n",
       "    <tr>\n",
       "      <th>5</th>\n",
       "      <td>C</td>\n",
       "      <td>male</td>\n",
       "      <td>120</td>\n",
       "      <td>205</td>\n",
       "      <td>325</td>\n",
       "    </tr>\n",
       "    <tr>\n",
       "      <th>6</th>\n",
       "      <td>C</td>\n",
       "      <td>female</td>\n",
       "      <td>202</td>\n",
       "      <td>391</td>\n",
       "      <td>593</td>\n",
       "    </tr>\n",
       "    <tr>\n",
       "      <th>7</th>\n",
       "      <td>D</td>\n",
       "      <td>male</td>\n",
       "      <td>138</td>\n",
       "      <td>279</td>\n",
       "      <td>417</td>\n",
       "    </tr>\n",
       "    <tr>\n",
       "      <th>8</th>\n",
       "      <td>D</td>\n",
       "      <td>female</td>\n",
       "      <td>131</td>\n",
       "      <td>244</td>\n",
       "      <td>375</td>\n",
       "    </tr>\n",
       "    <tr>\n",
       "      <th>9</th>\n",
       "      <td>E</td>\n",
       "      <td>male</td>\n",
       "      <td>53</td>\n",
       "      <td>138</td>\n",
       "      <td>191</td>\n",
       "    </tr>\n",
       "    <tr>\n",
       "      <th>10</th>\n",
       "      <td>E</td>\n",
       "      <td>female</td>\n",
       "      <td>94</td>\n",
       "      <td>299</td>\n",
       "      <td>393</td>\n",
       "    </tr>\n",
       "    <tr>\n",
       "      <th>11</th>\n",
       "      <td>F</td>\n",
       "      <td>male</td>\n",
       "      <td>22</td>\n",
       "      <td>351</td>\n",
       "      <td>373</td>\n",
       "    </tr>\n",
       "    <tr>\n",
       "      <th>12</th>\n",
       "      <td>F</td>\n",
       "      <td>female</td>\n",
       "      <td>24</td>\n",
       "      <td>317</td>\n",
       "      <td>341</td>\n",
       "    </tr>\n",
       "  </tbody>\n",
       "</table>\n",
       "</div>"
      ],
      "text/plain": [
       "   dept applicant.gender  admit  reject  applications\n",
       "1     A             male    512     313           825\n",
       "2     A           female     89      19           108\n",
       "3     B             male    353     207           560\n",
       "4     B           female     17       8            25\n",
       "5     C             male    120     205           325\n",
       "6     C           female    202     391           593\n",
       "7     D             male    138     279           417\n",
       "8     D           female    131     244           375\n",
       "9     E             male     53     138           191\n",
       "10    E           female     94     299           393\n",
       "11    F             male     22     351           373\n",
       "12    F           female     24     317           341"
      ]
     },
     "execution_count": 373,
     "metadata": {},
     "output_type": "execute_result"
    }
   ],
   "source": [
    "d = pd.read_csv(\"./data/UCBadmit.csv\", sep=\";\")\n",
    "d"
   ]
  },
  {
   "cell_type": "markdown",
   "metadata": {},
   "source": [
    "##### Code 11.61\n",
    "\n",
    "Using Poisson regression to model rate of admission & rate of rejection"
   ]
  },
  {
   "cell_type": "code",
   "execution_count": 376,
   "metadata": {},
   "outputs": [],
   "source": [
    "def m_binom(applications):\n",
    "\tdef _generator():\n",
    "\t\ta = yield tfd.Normal(loc=0.0, scale=1.5, name='a')\n",
    "\t\tyield tfd.Binomial(total_count=applications, logits=a, name='admit')\n",
    "\n",
    "\treturn tfd.JointDistributionCoroutineAutoBatched(_generator)"
   ]
  },
  {
   "cell_type": "code",
   "execution_count": 388,
   "metadata": {},
   "outputs": [],
   "source": [
    "jd_binom = m_binom(d.applications.values.astype(np.float32))"
   ]
  },
  {
   "cell_type": "code",
   "execution_count": 389,
   "metadata": {},
   "outputs": [],
   "source": [
    "jd_binom_pin = jd_binom.experimental_pin(admit=d.admit.values.astype(np.float32))"
   ]
  },
  {
   "cell_type": "code",
   "execution_count": 390,
   "metadata": {},
   "outputs": [],
   "source": [
    "@jax.jit\n",
    "def run_chain(init_state, seed, step_size=1e-3, num_steps=500, burnin=400):\n",
    "\n",
    "  def target_log_prob(*states):\n",
    "    return jd_binom_pin.unnormalized_log_prob(states)\n",
    "  \n",
    "  bijectors = [tfb.Identity()]\n",
    "\n",
    "  kernel = tfp.mcmc.NoUTurnSampler(\n",
    "      target_log_prob_fn=target_log_prob,\n",
    "      step_size=step_size)\n",
    "  \n",
    "  kernel = tfp.mcmc.TransformedTransitionKernel(\n",
    "    inner_kernel=kernel,\n",
    "    bijector=bijectors)\n",
    "\n",
    "  kernel = tfp.mcmc.DualAveragingStepSizeAdaptation(\n",
    "    inner_kernel=kernel,\n",
    "    num_adaptation_steps=burnin)\n",
    "\n",
    "  chain_state = tfp.mcmc.sample_chain(\n",
    "      num_results=num_steps,\n",
    "      num_burnin_steps=burnin,\n",
    "      current_state=init_state,\n",
    "      kernel=kernel,\n",
    "      seed=seed,\n",
    "      trace_fn=None)\n",
    "  \n",
    "  return chain_state"
   ]
  },
  {
   "cell_type": "code",
   "execution_count": 391,
   "metadata": {},
   "outputs": [],
   "source": [
    "num_chains = 4\n",
    "init_state = jd_binom_pin.sample_unpinned(num_chains, seed=key())\n",
    "post_binom = run_chain(init_state=init_state, seed=key())"
   ]
  },
  {
   "cell_type": "code",
   "execution_count": 392,
   "metadata": {},
   "outputs": [],
   "source": [
    "post_binom_dict = {k: jnp.moveaxis(v, 0, 1) for k, v in post_binom._asdict().items()}\n",
    "dict_binom = dict(posterior=post_binom_dict)\n",
    "idata_binom = az.from_dict(**dict_binom)"
   ]
  },
  {
   "cell_type": "code",
   "execution_count": 402,
   "metadata": {},
   "outputs": [
    {
     "data": {
      "text/plain": [
       "Array(0.38746039, dtype=float64)"
      ]
     },
     "execution_count": 402,
     "metadata": {},
     "output_type": "execute_result"
    }
   ],
   "source": [
    "jax.nn.sigmoid(az.summary(idata_binom, hdi_prob=0.89)['mean']['a'])"
   ]
  },
  {
   "cell_type": "code",
   "execution_count": 412,
   "metadata": {},
   "outputs": [],
   "source": [
    "def m_pois():\n",
    "\tdef _generator():\n",
    "\t\ta = yield tfd.Sample(tfd.Normal(loc=0.0, scale=1.5), sample_shape=2, name='a')\n",
    "\t\tyield tfd.Sample(tfd.Poisson(log_rate=a[0]), sample_shape=12, name='admit')\n",
    "\t\tyield tfd.Sample(tfd.Poisson(log_rate=a[1]), sample_shape=12, name='rej')\n",
    "\n",
    "\treturn tfd.JointDistributionCoroutineAutoBatched(_generator)"
   ]
  },
  {
   "cell_type": "code",
   "execution_count": 413,
   "metadata": {},
   "outputs": [],
   "source": [
    "jd_pois = m_pois()"
   ]
  },
  {
   "cell_type": "code",
   "execution_count": 414,
   "metadata": {},
   "outputs": [],
   "source": [
    "jd_pois_pin = jd_pois.experimental_pin(\n",
    "  admit=d.admit.values.astype(np.float32), rej=d.reject.values.astype(np.float32))"
   ]
  },
  {
   "cell_type": "code",
   "execution_count": 415,
   "metadata": {},
   "outputs": [],
   "source": [
    "@jax.jit\n",
    "def run_chain(init_state, seed, step_size=1e-3, num_steps=500, burnin=400):\n",
    "\n",
    "  def target_log_prob(*states):\n",
    "    return jd_pois_pin.unnormalized_log_prob(states)\n",
    "  \n",
    "  bijectors = [tfb.Identity()]\n",
    "\n",
    "  kernel = tfp.mcmc.NoUTurnSampler(\n",
    "      target_log_prob_fn=target_log_prob,\n",
    "      step_size=step_size)\n",
    "  \n",
    "  kernel = tfp.mcmc.TransformedTransitionKernel(\n",
    "    inner_kernel=kernel,\n",
    "    bijector=bijectors)\n",
    "\n",
    "  kernel = tfp.mcmc.DualAveragingStepSizeAdaptation(\n",
    "    inner_kernel=kernel,\n",
    "    num_adaptation_steps=burnin)\n",
    "\n",
    "  chain_state = tfp.mcmc.sample_chain(\n",
    "      num_results=num_steps,\n",
    "      num_burnin_steps=burnin,\n",
    "      current_state=init_state,\n",
    "      kernel=kernel,\n",
    "      seed=seed,\n",
    "      trace_fn=None)\n",
    "  \n",
    "  return chain_state"
   ]
  },
  {
   "cell_type": "code",
   "execution_count": 416,
   "metadata": {},
   "outputs": [],
   "source": [
    "num_chains = 4\n",
    "init_state = jd_pois_pin.sample_unpinned(num_chains, seed=key())\n",
    "post_pois = run_chain(init_state=init_state, seed=key())"
   ]
  },
  {
   "cell_type": "code",
   "execution_count": 417,
   "metadata": {},
   "outputs": [],
   "source": [
    "post_pois_dict = {k: jnp.moveaxis(v, 0, 1) for k, v in post_pois._asdict().items()}\n",
    "dict_pois = dict(posterior=post_pois_dict)\n",
    "idata_pois = az.from_dict(**dict_pois)"
   ]
  },
  {
   "cell_type": "code",
   "execution_count": 421,
   "metadata": {},
   "outputs": [
    {
     "data": {
      "text/plain": [
       "0.3881726309982628"
      ]
     },
     "execution_count": 421,
     "metadata": {},
     "output_type": "execute_result"
    }
   ],
   "source": [
    "k = az.summary(idata_pois, hdi_prob=0.89)['mean']\n",
    "np.exp(k['a[0]']) / (np.exp(k['a[0]']) + np.exp(k['a[1]']))"
   ]
  }
 ],
 "metadata": {
  "kernelspec": {
   "display_name": "Python 3 (ipykernel)",
   "language": "python",
   "name": "python3"
  },
  "language_info": {
   "codemirror_mode": {
    "name": "ipython",
    "version": 3
   },
   "file_extension": ".py",
   "mimetype": "text/x-python",
   "name": "python",
   "nbconvert_exporter": "python",
   "pygments_lexer": "ipython3",
   "version": "3.12.7"
  },
  "toc": {
   "base_numbering": 1,
   "nav_menu": {},
   "number_sections": true,
   "sideBar": true,
   "skip_h1_title": false,
   "title_cell": "Table of Contents",
   "title_sidebar": "Contents",
   "toc_cell": false,
   "toc_position": {},
   "toc_section_display": true,
   "toc_window_display": false
  }
 },
 "nbformat": 4,
 "nbformat_minor": 4
}
