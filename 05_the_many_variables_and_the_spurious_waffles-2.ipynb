{
 "cells": [
  {
   "cell_type": "markdown",
   "metadata": {},
   "source": [
    "[![Open In Colab](https://colab.research.google.com/assets/colab-badge.svg)](https://colab.research.google.com/github/ksachdeva/rethinking-tensorflow-probability/blob/master/notebooks/05_the_many_variables_and_the_spurious_waffles.ipynb)"
   ]
  },
  {
   "cell_type": "markdown",
   "metadata": {},
   "source": [
    "# 5. The Many Variables & The Spurious Waffles"
   ]
  },
  {
   "cell_type": "code",
   "execution_count": 1,
   "metadata": {},
   "outputs": [],
   "source": [
    "import numpy as np\n",
    "import arviz as az\n",
    "import pandas as pd\n",
    "import matplotlib.pyplot as plt\n",
    "import daft\n",
    "from collections import namedtuple\n",
    "# from causalgraphicalmodels import CausalGraphicalModel\n",
    "\n",
    "import random\n",
    "import jax\n",
    "import jax.numpy as jnp\n",
    "\n",
    "from tensorflow_probability.substrates import jax as tfp\n",
    "tfd = tfp.distributions\n",
    "tfb = tfp.bijectors\n",
    "\n",
    "%load_ext autoreload\n",
    "%autoreload 2\n",
    "import rethinking\n",
    "\n",
    "from rethinking.data import RethinkingDataset\n",
    "from rethinking.data import dataframe_to_tensors\n",
    "# from rethinking.mcmc import sample_posterior\n",
    "\n",
    "plt.rcParams['figure.figsize'] = [6, 4]\n",
    "\n",
    "def a_key():\n",
    "    # return jax.random.key(random.randint(0, 1000_000))\n",
    "    return jax.random.PRNGKey(random.randint(0, 1000_000))"
   ]
  },
  {
   "cell_type": "code",
   "execution_count": 2,
   "metadata": {},
   "outputs": [],
   "source": [
    "# config of various plotting libraries\n",
    "%config InlineBackend.figure_format = 'retina'"
   ]
  },
  {
   "cell_type": "markdown",
   "metadata": {},
   "source": [
    "## 5.1 Spurious association"
   ]
  },
  {
   "cell_type": "markdown",
   "metadata": {},
   "source": [
    "##### Code 5.1\n",
    "\n",
    "The chapter is going to use 2 predictor variables - Marriage Rate & Median Age at Marriage to predict the divorce rate. Here we start with the first predictor variable - Median Age at Marriage\n",
    "\n",
    "Loading the dataset and standardizing the variables of interest (i.e. median age at marriage and divorce rate)"
   ]
  },
  {
   "cell_type": "code",
   "execution_count": 3,
   "metadata": {},
   "outputs": [],
   "source": [
    "d = RethinkingDataset.WaffleDivorce.get_dataset()\n",
    "\n",
    "# standardize variables\n",
    "d[\"A\"] = d.MedianAgeMarriage.pipe(lambda x: (x - x.mean()) / x.std())\n",
    "d[\"D\"] = d.Divorce.pipe(lambda x: (x - x.mean()) / x.std())"
   ]
  },
  {
   "cell_type": "markdown",
   "metadata": {},
   "source": [
    "##### Code 5.2\n",
    "\n",
    "Here is the description of the linear regression model that use Median Age as the predictor variable.\n",
    "\n",
    "$D_i \\sim Normal(\\mu_i,\\sigma)$    \n",
    "\n",
    "$\\mu_i = \\alpha + \\beta_AA_i$   \n",
    "\n",
    "$\\alpha \\sim Normal(0,0.2)$       \n",
    "\n",
    "$\\beta_A \\sim Normal(0,0.5)$          \n",
    "\n",
    "$\\sigma \\sim Exponential(1)$ \n",
    "\n",
    "\n",
    "We have standardized both D and A this means that the intercept ($\\alpha$) should be close to zero. \n",
    "\n",
    "A slope ($\\beta_A$) of 1 would then imply that a change in one standard deviation in marriage rate is associated with change of one standard deviation in divorce. \n",
    "\n",
    "Below we compute the standard deviation in median age"
   ]
  },
  {
   "cell_type": "code",
   "execution_count": 4,
   "metadata": {},
   "outputs": [
    {
     "data": {
      "text/plain": [
       "1.2436303013880823"
      ]
     },
     "execution_count": 4,
     "metadata": {},
     "output_type": "execute_result"
    }
   ],
   "source": [
    "d.MedianAgeMarriage.std()"
   ]
  },
  {
   "cell_type": "markdown",
   "metadata": {},
   "source": [
    "This means that when $\\beta_A$ is 1 then we expect a change of 1.2 years in median age at marriage is associated with 1 full standard deviation of the divorce rate. "
   ]
  },
  {
   "cell_type": "markdown",
   "metadata": {},
   "source": [
    "##### Code 5.3\n",
    "\n",
    "Define the model and compute the posterior"
   ]
  },
  {
   "cell_type": "code",
   "execution_count": 43,
   "metadata": {},
   "outputs": [],
   "source": [
    "def model_51(median_age_data):\n",
    "    def _generator():\n",
    "        alpha = yield tfd.Normal(loc=0.0, scale=0.2, name=\"alpha\")\n",
    "        betaA = yield tfd.Normal(loc=0.0, scale=0.5, name=\"betaA\")\n",
    "        sigma = yield tfd.Exponential(rate=1.0, name=\"sigma\")\n",
    "        mu = alpha + betaA * median_age_data\n",
    "        divorce = yield tfd.Normal(loc=mu, scale=sigma, name=\"divorce\")\n",
    "\n",
    "    return tfd.JointDistributionCoroutineAutoBatched(_generator)\n",
    "\n",
    "jd_51 = model_51(d.A.values)"
   ]
  },
  {
   "cell_type": "code",
   "execution_count": 44,
   "metadata": {},
   "outputs": [
    {
     "data": {
      "text/plain": [
       "('alpha', 'betaA', 'sigma')"
      ]
     },
     "execution_count": 44,
     "metadata": {},
     "output_type": "execute_result"
    }
   ],
   "source": [
    "init_state_51 = jd_51.sample(seed=a_key())\n",
    "names_51 = init_state_51._fields\n",
    "init_state_51 = init_state_51[:-1]\n",
    "\n",
    "StateTuple = namedtuple(\"StateTuple\", names_51)\n",
    "state_name_51 = names_51[:-1]\n",
    "state_name_51"
   ]
  },
  {
   "cell_type": "code",
   "execution_count": 45,
   "metadata": {},
   "outputs": [],
   "source": [
    "def target_log_prob_51(alpha, betaA, sigma):\n",
    "    sample = {\"alpha\": alpha, \"betaA\": betaA, \"sigma\": sigma, \"divorce\": d.D.values}\n",
    "    return jd_51.log_prob(StateTuple(**sample))"
   ]
  },
  {
   "cell_type": "code",
   "execution_count": 47,
   "metadata": {},
   "outputs": [],
   "source": [
    "num_burnin_steps = 400\n",
    "num_results = 500\n",
    "step_size = 0.2"
   ]
  },
  {
   "cell_type": "code",
   "execution_count": 46,
   "metadata": {},
   "outputs": [],
   "source": [
    "kernel_51 = tfp.mcmc.HamiltonianMonteCarlo(\n",
    "    target_log_prob_fn=target_log_prob_51,\n",
    "    step_size=step_size,\n",
    "    num_leapfrog_steps=2)\n",
    "\n",
    "kernel_51 = tfp.mcmc.SimpleStepSizeAdaptation(\n",
    "    inner_kernel=kernel_51, num_adaptation_steps=int(num_burnin_steps * 0.8))"
   ]
  },
  {
   "cell_type": "code",
   "execution_count": 48,
   "metadata": {},
   "outputs": [],
   "source": [
    "states_51 = tfp.mcmc.sample_chain(\n",
    "    num_results=num_results,\n",
    "    current_state=init_state_51,\n",
    "    kernel=kernel_51,\n",
    "    num_burnin_steps=num_burnin_steps,\n",
    "    trace_fn=None,\n",
    "    seed=a_key())"
   ]
  },
  {
   "cell_type": "code",
   "execution_count": 11,
   "metadata": {},
   "outputs": [],
   "source": [
    "## in case of multiple chains.\n",
    "# tfp.mcmc.sample_chain output shape: (sample, batch, event)\n",
    "#  == in terms of arviz, (draws, chains, *shape)\n",
    "# arvis input shape: (chains, draws, *shape)\n",
    "# states_51 = [jnp.moveaxis(s, 0, 1) for s in states_51]"
   ]
  },
  {
   "cell_type": "code",
   "execution_count": 49,
   "metadata": {},
   "outputs": [
    {
     "data": {
      "text/html": [
       "<div>\n",
       "<style scoped>\n",
       "    .dataframe tbody tr th:only-of-type {\n",
       "        vertical-align: middle;\n",
       "    }\n",
       "\n",
       "    .dataframe tbody tr th {\n",
       "        vertical-align: top;\n",
       "    }\n",
       "\n",
       "    .dataframe thead th {\n",
       "        text-align: right;\n",
       "    }\n",
       "</style>\n",
       "<table border=\"1\" class=\"dataframe\">\n",
       "  <thead>\n",
       "    <tr style=\"text-align: right;\">\n",
       "      <th></th>\n",
       "      <th>mean</th>\n",
       "      <th>sd</th>\n",
       "      <th>hdi_5.5%</th>\n",
       "      <th>hdi_94.5%</th>\n",
       "    </tr>\n",
       "  </thead>\n",
       "  <tbody>\n",
       "    <tr>\n",
       "      <th>alpha</th>\n",
       "      <td>-0.00</td>\n",
       "      <td>0.09</td>\n",
       "      <td>-0.15</td>\n",
       "      <td>0.15</td>\n",
       "    </tr>\n",
       "    <tr>\n",
       "      <th>betaA</th>\n",
       "      <td>-0.57</td>\n",
       "      <td>0.11</td>\n",
       "      <td>-0.71</td>\n",
       "      <td>-0.38</td>\n",
       "    </tr>\n",
       "    <tr>\n",
       "      <th>sigma</th>\n",
       "      <td>0.81</td>\n",
       "      <td>0.08</td>\n",
       "      <td>0.69</td>\n",
       "      <td>0.94</td>\n",
       "    </tr>\n",
       "  </tbody>\n",
       "</table>\n",
       "</div>"
      ],
      "text/plain": [
       "       mean    sd  hdi_5.5%  hdi_94.5%\n",
       "alpha -0.00  0.09     -0.15       0.15\n",
       "betaA -0.57  0.11     -0.71      -0.38\n",
       "sigma  0.81  0.08      0.69       0.94"
      ]
     },
     "execution_count": 49,
     "metadata": {},
     "output_type": "execute_result"
    }
   ],
   "source": [
    "states_51_dict = states_51._asdict()\n",
    "az.summary(states_51_dict, round_to=2, kind=\"stats\", hdi_prob=0.89)"
   ]
  },
  {
   "cell_type": "markdown",
   "metadata": {},
   "source": [
    "##### Code 5.4\n",
    "\n",
    "Before we do posterior analysis let's check our priors"
   ]
  },
  {
   "cell_type": "code",
   "execution_count": 82,
   "metadata": {},
   "outputs": [],
   "source": [
    "# Below we are using the value of A (median age)\n",
    "A = jnp.array([-2.0, 2.0])\n",
    "jd_51_prior = model_51(A)\n",
    "prior_pred_samples = jd_51_prior.sample(20, seed=a_key())"
   ]
  },
  {
   "cell_type": "code",
   "execution_count": 84,
   "metadata": {},
   "outputs": [],
   "source": [
    "prior_alpha = prior_pred_samples[0]\n",
    "prior_beta = prior_pred_samples[1]\n",
    "mu = prior_alpha[:, jnp.newaxis] + prior_beta[:, jnp.newaxis] * A"
   ]
  },
  {
   "cell_type": "code",
   "execution_count": 86,
   "metadata": {},
   "outputs": [
    {
     "data": {
      "image/png": "[encoded data removed]",
      "text/plain": [
       "<Figure size 600x400 with 1 Axes>"
      ]
     },
     "metadata": {
      "image/png": {
       "height": 376,
       "width": 558
      }
     },
     "output_type": "display_data"
    }
   ],
   "source": [
    "plt.subplot(xlim=(-2, 2), ylim=(-2, 2))\n",
    "for i in range(20):\n",
    "    plt.plot([-2, 2], mu[i], \"k\", alpha=0.4)\n",
    "plt.xlabel(\"Median age marriage (std)\")\n",
    "plt.ylabel(\"Divorce rate (std)\");"
   ]
  },
  {
   "cell_type": "code",
   "execution_count": 87,
   "metadata": {},
   "outputs": [
    {
     "data": {
      "text/plain": [
       "StructTuple(\n",
       "  alpha=Array([-0.067218  ,  0.09717894,  0.09717894, -0.1045128 , -0.1045128 ,\n",
       "           -0.1045128 , -0.09134048, -0.09134048,  0.12673783,  0.12673783,\n",
       "            0.02063989,  0.01324556,  0.01324556, -0.0503146 ,  0.11724761,\n",
       "           -0.00593441,  0.039805  , -0.03469146,  0.03469365,  0.04334452,\n",
       "            0.04334452,  0.04334452,  0.04334452, -0.01516856, -0.01516856,\n",
       "            0.0313106 , -0.17396303,  0.08866391, -0.05525352,  0.1509656 ,\n",
       "            0.1509656 , -0.09463684,  0.03781796, -0.01418424, -0.01418424,\n",
       "           -0.01418424,  0.01143697,  0.05513887,  0.05513887,  0.06799097,\n",
       "           -0.03853859,  0.02782688,  0.01265384,  0.01265384,  0.01265384,\n",
       "            0.03885379,  0.15261705,  0.15261705,  0.15261705, -0.00264779,\n",
       "            0.16824603, -0.15416586, -0.15416586,  0.04183643, -0.06417295,\n",
       "            0.12426381, -0.09598634,  0.12234123,  0.12234123,  0.12234123,\n",
       "            0.12234123, -0.09548005, -0.09548005,  0.0315734 ,  0.0315734 ,\n",
       "            0.0315734 ,  0.08678266,  0.08678266, -0.09435537,  0.19604008,\n",
       "           -0.08734917, -0.08734917,  0.1139039 , -0.1080703 , -0.13902459,\n",
       "            0.01911733,  0.01911733,  0.02948645,  0.02948645,  0.00407138,\n",
       "            0.00407138,  0.01996353,  0.01996353,  0.01996353, -0.026483  ,\n",
       "            0.08273011,  0.08273011,  0.08273011,  0.08273011,  0.08273011,\n",
       "           -0.04440255,  0.0030152 , -0.07446732, -0.07446732, -0.07446732,\n",
       "           -0.02848784, -0.09673364,  0.00560971, -0.02303963,  0.13404398,\n",
       "            0.06185637, -0.13337156, -0.13337156, -0.13337156,  0.2007755 ,\n",
       "           -0.2581059 ,  0.03182301, -0.09992786, -0.03750781, -0.03750781,\n",
       "            0.04760006, -0.01833378,  0.04139414,  0.01286603,  0.15050049,\n",
       "            0.15050049, -0.14705525,  0.03950681,  0.03950681, -0.01937152,\n",
       "            0.11327267,  0.11327267, -0.13422099, -0.13422099, -0.13422099,\n",
       "           -0.13422099,  0.13824558, -0.08831377, -0.08831377, -0.08831377,\n",
       "           -0.08831377, -0.08831377, -0.03369897,  0.03367932,  0.03367932,\n",
       "            0.0488884 ,  0.0488884 , -0.0482055 , -0.0482055 , -0.00628648,\n",
       "            0.02772257,  0.02772257,  0.02772257,  0.02772257, -0.04150366,\n",
       "            0.02429569,  0.08426825,  0.08426825,  0.01261938, -0.03317874,\n",
       "            0.08959662, -0.00368615,  0.02238769,  0.02238769,  0.01400773,\n",
       "            0.02057912, -0.01137779, -0.03537894, -0.03537894, -0.03537894,\n",
       "           -0.03537894, -0.03537894, -0.07132452, -0.04611449,  0.14734721,\n",
       "            0.03372755, -0.03386075,  0.09306774, -0.07073499, -0.07073499,\n",
       "            0.10851981, -0.05257451, -0.05257451, -0.07507039,  0.02134423,\n",
       "           -0.03597402, -0.03597402, -0.01351774, -0.01351774, -0.00054601,\n",
       "           -0.00054601,  0.09636124, -0.05283865,  0.08777855,  0.08777855,\n",
       "            0.08777855, -0.20033768,  0.05336522, -0.07251348, -0.01886393,\n",
       "           -0.01886393, -0.01886393, -0.01886393, -0.09105113,  0.22491598,\n",
       "           -0.18235432, -0.18235432, -0.18235432,  0.20775615,  0.05120684,\n",
       "            0.05120684,  0.01731888, -0.17946705, -0.17946705,  0.06035974,\n",
       "            0.06035974,  0.06035974,  0.06035974,  0.06035974, -0.12103612,\n",
       "            0.12366796, -0.00061689,  0.1040627 , -0.02599683, -0.02599683,\n",
       "            0.01235616, -0.06688197, -0.03746976,  0.09830023,  0.09830023,\n",
       "            0.09830023,  0.09830023, -0.15655291, -0.15655291, -0.15655291,\n",
       "            0.12199822,  0.12199822, -0.08456385, -0.08456385, -0.08456385,\n",
       "           -0.08456385, -0.08456385, -0.08456385,  0.12833287,  0.12833287,\n",
       "           -0.03579901, -0.07036608,  0.0812193 ,  0.0812193 ,  0.0812193 ,\n",
       "           -0.05710834, -0.05291636,  0.0838986 ,  0.07122495, -0.00691718,\n",
       "           -0.03209243,  0.03576498,  0.03576498, -0.02932444, -0.01231906,\n",
       "           -0.01231906, -0.01231906, -0.02185362,  0.03288251,  0.03288251,\n",
       "            0.03288251, -0.02466816,  0.14106187,  0.14106187,  0.14106187,\n",
       "            0.14106187, -0.12722181,  0.17926906, -0.14756265,  0.09743159,\n",
       "           -0.06593964,  0.0428353 ,  0.00980624,  0.00980624,  0.07512186,\n",
       "           -0.01195024, -0.01195024, -0.04423349,  0.10631234, -0.05379617,\n",
       "           -0.00732806, -0.00384681, -0.00384681, -0.02918678, -0.00988587,\n",
       "           -0.00988587, -0.0871207 ,  0.06647777, -0.02858317, -0.02858317,\n",
       "           -0.00763805, -0.00763805, -0.02533421, -0.02533421, -0.02533421,\n",
       "            0.12658997, -0.05692429,  0.05566434, -0.05702761, -0.05702761,\n",
       "           -0.05702761, -0.05702761,  0.03877025,  0.06293098, -0.09317809,\n",
       "           -0.09317809, -0.09317809, -0.09317809, -0.09317809, -0.09317809,\n",
       "           -0.09317809, -0.09317809,  0.04385076, -0.12885237,  0.00233202,\n",
       "            0.01298091,  0.01449023,  0.22767968, -0.29625165,  0.14424913,\n",
       "           -0.15835385,  0.04642629,  0.00221828, -0.15980619,  0.16159026,\n",
       "            0.16159026, -0.19418794, -0.19418794,  0.19857754,  0.19857754,\n",
       "            0.02726555,  0.01617934,  0.01617934, -0.11054578, -0.11054578,\n",
       "            0.0396656 ,  0.0396656 , -0.03411822, -0.19547543,  0.09294171,\n",
       "            0.0267041 , -0.13588518, -0.13588518,  0.13099596,  0.13099596,\n",
       "           -0.05072501, -0.05072501, -0.05072501, -0.05072501,  0.04260003,\n",
       "           -0.03180976, -0.02395128, -0.02395128, -0.02395128, -0.05799468,\n",
       "           -0.02683775,  0.0817106 , -0.04644998,  0.10532203, -0.02038662,\n",
       "            0.00749272, -0.07579414, -0.10932686, -0.10932686, -0.10932686,\n",
       "            0.17734236, -0.17642106,  0.17880729, -0.00046388, -0.03534004,\n",
       "            0.12474295,  0.01167084, -0.21096979,  0.23336796, -0.14682521,\n",
       "            0.05365394,  0.05365394,  0.05365394,  0.00137085,  0.00137085,\n",
       "            0.08793946,  0.06947166,  0.06947166, -0.00968979, -0.08460314,\n",
       "            0.03394525,  0.03394525,  0.03394525, -0.13688327, -0.13688327,\n",
       "            0.1531038 , -0.163376  , -0.08315608,  0.04223702, -0.04685726,\n",
       "           -0.1588434 ,  0.18614702, -0.02857296, -0.02857296, -0.02857296,\n",
       "           -0.07227608, -0.07227608, -0.07227608, -0.07227608,  0.02822061,\n",
       "            0.1470133 ,  0.1470133 , -0.16307859,  0.05365776, -0.05443654,\n",
       "           -0.05443654, -0.05443654,  0.01894583,  0.01894583,  0.01894583,\n",
       "            0.01894583,  0.01894583,  0.13399787,  0.13399787, -0.05880382,\n",
       "            0.01146575,  0.01146575,  0.03658257,  0.03658257,  0.03658257,\n",
       "           -0.15364867,  0.16213484, -0.13375948, -0.13375948, -0.13375948,\n",
       "            0.18083595, -0.18902472,  0.11130162, -0.21446732,  0.17292327,\n",
       "           -0.14795366, -0.14795366,  0.15495972,  0.01073695,  0.02355905,\n",
       "            0.02355905,  0.02835738,  0.02835738,  0.03399624,  0.03399624,\n",
       "           -0.02437562,  0.02893507, -0.17421427,  0.07741654, -0.06225951,\n",
       "           -0.06225951,  0.03988141, -0.08696889,  0.00824373,  0.00824373,\n",
       "            0.00824373,  0.02508739,  0.02508739, -0.05347322,  0.04559017,\n",
       "            0.04559017,  0.06406421,  0.06406421,  0.08768684, -0.03469462,\n",
       "           -0.03469462, -0.03469462, -0.03469462, -0.00182237,  0.00999221,\n",
       "            0.00999221,  0.01547594,  0.01547594, -0.05632311, -0.0826657 ,\n",
       "           -0.0826657 ,  0.11266109, -0.05947139,  0.02625453,  0.06660821,\n",
       "           -0.00421335,  0.00989747, -0.07823063,  0.14662492,  0.14662492,\n",
       "           -0.15826447,  0.11046261, -0.00717002,  0.16238092, -0.14531659,\n",
       "           -0.14531659,  0.08391137, -0.08978704, -0.08978704, -0.08978704,\n",
       "           -0.03698572, -0.06557616, -0.08999749, -0.08999749,  0.1764911 ,\n",
       "            0.1764911 , -0.18497929,  0.12132435,  0.12132435,  0.11437082],      dtype=float32),\n",
       "  betaA=Array([-0.55601513, -0.6011014 , -0.6011014 , -0.6328719 , -0.6328719 ,\n",
       "           -0.6328719 , -0.6158426 , -0.6158426 , -0.53192157, -0.53192157,\n",
       "           -0.7891895 , -0.33159167, -0.33159167, -0.551059  , -0.55449116,\n",
       "           -0.4903151 , -0.7758678 , -0.4030482 , -0.78407425, -0.6472291 ,\n",
       "           -0.6472291 , -0.6472291 , -0.6472291 , -0.5398025 , -0.5398025 ,\n",
       "           -0.34972507, -0.8166119 , -0.42478752, -0.5109566 , -0.52009404,\n",
       "           -0.52009404, -0.60581094, -0.59046453, -0.6575948 , -0.6575948 ,\n",
       "           -0.6575948 , -0.44566455, -0.7716958 , -0.7716958 , -0.29645774,\n",
       "           -0.71140665, -0.532745  , -0.45490032, -0.45490032, -0.45490032,\n",
       "           -0.6815884 , -0.55473614, -0.55473614, -0.55473614, -0.66066194,\n",
       "           -0.39655298, -0.5510477 , -0.5510477 , -0.591936  , -0.46580642,\n",
       "           -0.6575653 , -0.3606355 , -0.65608466, -0.65608466, -0.65608466,\n",
       "           -0.65608466, -0.5491909 , -0.5491909 , -0.68241286, -0.68241286,\n",
       "           -0.68241286, -0.5305711 , -0.5305711 , -0.58467716, -0.6708093 ,\n",
       "           -0.5659264 , -0.5659264 , -0.5907303 , -0.4619703 , -0.7116479 ,\n",
       "           -0.6126874 , -0.6126874 , -0.57063764, -0.57063764, -0.42351016,\n",
       "           -0.42351016, -0.7064247 , -0.7064247 , -0.7064247 , -0.62341195,\n",
       "           -0.68742126, -0.68742126, -0.68742126, -0.68742126, -0.68742126,\n",
       "           -0.45795637, -0.5286675 , -0.49881533, -0.49881533, -0.49881533,\n",
       "           -0.66805196, -0.4618796 , -0.78577894, -0.38307893, -0.6683856 ,\n",
       "           -0.42209607, -0.46962944, -0.46962944, -0.46962944, -0.6551413 ,\n",
       "           -0.57205254, -0.58328   , -0.51285505, -0.6090322 , -0.6090322 ,\n",
       "           -0.5864893 , -0.36984673, -0.707273  , -0.41486338, -0.6441313 ,\n",
       "           -0.6441313 , -0.56434953, -0.67146385, -0.67146385, -0.5252395 ,\n",
       "           -0.68931186, -0.68931186, -0.505631  , -0.505631  , -0.505631  ,\n",
       "           -0.505631  , -0.554789  , -0.5897696 , -0.5897696 , -0.5897696 ,\n",
       "           -0.5897696 , -0.5897696 , -0.5711943 , -0.593055  , -0.593055  ,\n",
       "           -0.67071354, -0.67071354, -0.6211759 , -0.6211759 , -0.55505913,\n",
       "           -0.47825924, -0.47825924, -0.47825924, -0.47825924, -0.62053823,\n",
       "           -0.572263  , -0.4176194 , -0.4176194 , -0.7328205 , -0.63067037,\n",
       "           -0.43783602, -0.6133063 , -0.51382244, -0.51382244, -0.6477518 ,\n",
       "           -0.48027948, -0.704442  , -0.48412085, -0.48412085, -0.48412085,\n",
       "           -0.48412085, -0.48412085, -0.6987701 , -0.7073793 , -0.4708999 ,\n",
       "           -0.45777145, -0.74515814, -0.5804777 , -0.7285613 , -0.7285613 ,\n",
       "           -0.41176182, -0.5604384 , -0.5604384 , -0.4900538 , -0.83628505,\n",
       "           -0.30465764, -0.30465764, -0.502291  , -0.502291  , -0.58995825,\n",
       "           -0.58995825, -0.5465788 , -0.55192685, -0.5093386 , -0.5093386 ,\n",
       "           -0.5093386 , -0.5039579 , -0.69377714, -0.5546029 , -0.46712196,\n",
       "           -0.46712196, -0.46712196, -0.46712196, -0.60236394, -0.5469919 ,\n",
       "           -0.5927341 , -0.5927341 , -0.5927341 , -0.40306246, -0.6116822 ,\n",
       "           -0.6116822 , -0.4553061 , -0.5427156 , -0.5427156 , -0.5029289 ,\n",
       "           -0.5029289 , -0.5029289 , -0.5029289 , -0.5029289 , -0.7840225 ,\n",
       "           -0.32690722, -0.5727125 , -0.3999765 , -0.56365114, -0.56365114,\n",
       "           -0.59465426, -0.45183176, -0.40438628, -0.60850674, -0.60850674,\n",
       "           -0.60850674, -0.60850674, -0.55901074, -0.55901074, -0.55901074,\n",
       "           -0.4695096 , -0.4695096 , -0.630314  , -0.630314  , -0.630314  ,\n",
       "           -0.630314  , -0.630314  , -0.630314  , -0.63488907, -0.63488907,\n",
       "           -0.48333365, -0.78266877, -0.41887724, -0.41887724, -0.41887724,\n",
       "           -0.75893766, -0.281656  , -1.0418079 , -0.4097523 , -0.64373004,\n",
       "           -0.46705434, -0.72505957, -0.72505957, -0.42309687, -0.5580038 ,\n",
       "           -0.5580038 , -0.5580038 , -0.48265523, -0.6247712 , -0.6247712 ,\n",
       "           -0.6247712 , -0.5418171 , -0.37771675, -0.37771675, -0.37771675,\n",
       "           -0.37771675, -0.6126702 , -0.66480213, -0.5422961 , -0.5044597 ,\n",
       "           -0.55354637, -0.5125522 , -0.47249806, -0.47249806, -0.51466954,\n",
       "           -0.5243024 , -0.5243024 , -0.77259856, -0.44135466, -0.7077195 ,\n",
       "           -0.341358  , -0.624748  , -0.624748  , -0.4463582 , -0.74220884,\n",
       "           -0.74220884, -0.5214921 , -0.672074  , -0.42941228, -0.42941228,\n",
       "           -0.6709534 , -0.6709534 , -0.69264305, -0.69264305, -0.69264305,\n",
       "           -0.6275188 , -0.42204803, -0.6476392 , -0.59961075, -0.59961075,\n",
       "           -0.59961075, -0.59961075, -0.5908363 , -0.567752  , -0.5134113 ,\n",
       "           -0.5134113 , -0.5134113 , -0.5134113 , -0.5134113 , -0.5134113 ,\n",
       "           -0.5134113 , -0.5134113 , -0.52403027, -0.5380308 , -0.4832945 ,\n",
       "           -0.6806094 , -0.3834684 , -0.66380954, -0.73850286, -0.42577127,\n",
       "           -0.6990974 , -0.63114715, -0.31545892, -0.6920174 , -0.4155465 ,\n",
       "           -0.4155465 , -0.69031215, -0.69031215, -0.5649872 , -0.5649872 ,\n",
       "           -0.31725273, -0.6546351 , -0.6546351 , -0.5502082 , -0.5502082 ,\n",
       "           -0.566178  , -0.566178  , -0.69602305, -0.68326354, -0.58241165,\n",
       "           -0.5886695 , -0.527804  , -0.527804  , -0.42772967, -0.42772967,\n",
       "           -0.6380925 , -0.6380925 , -0.6380925 , -0.6380925 , -0.6022523 ,\n",
       "           -0.64646536, -0.5218539 , -0.5218539 , -0.5218539 , -0.6064694 ,\n",
       "           -0.67028266, -0.39068347, -0.7375791 , -0.4080013 , -0.5585566 ,\n",
       "           -0.47319627, -0.5830043 , -0.75523996, -0.75523996, -0.75523996,\n",
       "           -0.5419189 , -0.72685087, -0.480844  , -0.6269289 , -0.7625574 ,\n",
       "           -0.4853113 , -0.6059596 , -0.41200614, -0.6736441 , -0.54020053,\n",
       "           -0.67822534, -0.67822534, -0.67822534, -0.4244877 , -0.4244877 ,\n",
       "           -0.3242817 , -0.92486656, -0.92486656, -0.3683972 , -0.6761816 ,\n",
       "           -0.63145494, -0.63145494, -0.63145494, -0.5500231 , -0.5500231 ,\n",
       "           -0.5712451 , -0.53861356, -0.65768707, -0.5552555 , -0.565196  ,\n",
       "           -0.7605756 , -0.5070666 , -0.5303227 , -0.5303227 , -0.5303227 ,\n",
       "           -0.55774313, -0.55774313, -0.55774313, -0.55774313, -0.5335972 ,\n",
       "           -0.53370434, -0.53370434, -0.38024226, -0.76338804, -0.5469671 ,\n",
       "           -0.5469671 , -0.5469671 , -0.45432073, -0.45432073, -0.45432073,\n",
       "           -0.45432073, -0.45432073, -0.66754   , -0.66754   , -0.49002787,\n",
       "           -0.6938424 , -0.6938424 , -0.5306681 , -0.5306681 , -0.5306681 ,\n",
       "           -0.66989386, -0.48703653, -0.53388846, -0.53388846, -0.53388846,\n",
       "           -0.4464026 , -0.6454062 , -0.4105692 , -0.6053598 , -0.5517475 ,\n",
       "           -0.4506859 , -0.4506859 , -0.67259   , -0.577635  , -0.4441956 ,\n",
       "           -0.4441956 , -0.6291704 , -0.6291704 , -0.498271  , -0.498271  ,\n",
       "           -0.60940725, -0.48588404, -0.57844985, -0.6807374 , -0.5656029 ,\n",
       "           -0.5656029 , -0.48119935, -0.49339974, -0.68001103, -0.68001103,\n",
       "           -0.68001103, -0.5506874 , -0.5506874 , -0.5454318 , -0.5114896 ,\n",
       "           -0.5114896 , -0.6671777 , -0.6671777 , -0.6128522 , -0.5920341 ,\n",
       "           -0.5920341 , -0.5920341 , -0.5920341 , -0.47188458, -0.7402077 ,\n",
       "           -0.7402077 , -0.46850243, -0.46850243, -0.68067336, -0.4050315 ,\n",
       "           -0.4050315 , -0.50461686, -0.5978707 , -0.3648919 , -0.8154466 ,\n",
       "           -0.4190572 , -0.7977739 , -0.43426937, -0.5703901 , -0.5703901 ,\n",
       "           -0.57604814, -0.4850448 , -0.7457667 , -0.7089742 , -0.56457454,\n",
       "           -0.56457454, -0.5752241 , -0.45671964, -0.45671964, -0.45671964,\n",
       "           -0.80792475, -0.5658421 , -0.534248  , -0.534248  , -0.44732764,\n",
       "           -0.44732764, -0.6591357 , -0.3937517 , -0.3937517 , -0.5448834 ],      dtype=float32),\n",
       "  sigma=Array([1.0168078 , 0.6417604 , 0.6417604 , 0.9469356 , 0.9469356 ,\n",
       "           0.9469356 , 0.95927244, 0.95927244, 0.6881321 , 0.6881321 ,\n",
       "           0.96426314, 0.7297738 , 0.7297738 , 0.97284186, 0.68565583,\n",
       "           0.95516396, 0.7938479 , 0.78334445, 0.94984317, 0.99113077,\n",
       "           0.99113077, 0.99113077, 0.99113077, 0.69268864, 0.69268864,\n",
       "           0.978629  , 0.7344632 , 0.9179754 , 0.9282466 , 0.83356345,\n",
       "           0.83356345, 0.75882405, 0.8897981 , 0.7278213 , 0.7278213 ,\n",
       "           0.7278213 , 0.8517929 , 0.739794  , 0.739794  , 0.8947155 ,\n",
       "           0.7403562 , 0.88130623, 0.7703822 , 0.7703822 , 0.7703822 ,\n",
       "           0.9966193 , 0.6987959 , 0.6987959 , 0.6987959 , 0.9469348 ,\n",
       "           0.8745279 , 0.8596198 , 0.8596198 , 0.7491746 , 0.8539062 ,\n",
       "           0.7442146 , 0.8691727 , 0.73655444, 0.73655444, 0.73655444,\n",
       "           0.73655444, 0.85964614, 0.85964614, 0.81732404, 0.81732404,\n",
       "           0.81732404, 0.80399466, 0.80399466, 0.789019  , 0.8508914 ,\n",
       "           0.775808  , 0.775808  , 0.92426085, 0.979287  , 0.7440822 ,\n",
       "           0.9018235 , 0.9018235 , 0.6855716 , 0.6855716 , 0.94334257,\n",
       "           0.94334257, 0.6989978 , 0.6989978 , 0.6989978 , 0.9123423 ,\n",
       "           0.7131079 , 0.7131079 , 0.7131079 , 0.7131079 , 0.7131079 ,\n",
       "           0.8851972 , 0.8292666 , 0.7831534 , 0.7831534 , 0.7831534 ,\n",
       "           0.82819813, 0.78757286, 0.81860375, 0.7653475 , 0.88038045,\n",
       "           0.9098873 , 0.7598541 , 0.7598541 , 0.7598541 , 0.8667665 ,\n",
       "           0.7246706 , 1.0739095 , 0.68363523, 0.9396632 , 0.9396632 ,\n",
       "           0.7210996 , 0.92700016, 0.66011184, 0.94068795, 0.7069654 ,\n",
       "           0.7069654 , 0.87877434, 0.81729347, 0.81729347, 0.84475476,\n",
       "           0.80524176, 0.80524176, 0.77231157, 0.77231157, 0.77231157,\n",
       "           0.77231157, 0.85462546, 0.7502767 , 0.7502767 , 0.7502767 ,\n",
       "           0.7502767 , 0.7502767 , 0.8998328 , 0.9301814 , 0.9301814 ,\n",
       "           0.801934  , 0.801934  , 0.80551   , 0.80551   , 0.7786202 ,\n",
       "           0.81969005, 0.81969005, 0.81969005, 0.81969005, 0.7792733 ,\n",
       "           0.8303171 , 0.82770365, 0.82770365, 0.7930541 , 0.8505258 ,\n",
       "           0.77514726, 0.846302  , 0.8117309 , 0.8117309 , 0.7784418 ,\n",
       "           0.80895126, 0.9090418 , 0.76087403, 0.76087403, 0.76087403,\n",
       "           0.76087403, 0.76087403, 0.8455106 , 0.8343576 , 0.76875985,\n",
       "           0.9281975 , 0.70073575, 0.980276  , 0.7098792 , 0.7098792 ,\n",
       "           0.8740936 , 0.7677745 , 0.7677745 , 0.8623354 , 0.7712414 ,\n",
       "           0.8398003 , 0.8398003 , 0.8701866 , 0.8701866 , 0.7304887 ,\n",
       "           0.7304887 , 0.87048095, 0.77291274, 0.83146673, 0.83146673,\n",
       "           0.83146673, 0.80979747, 0.8444828 , 0.7601481 , 0.8611798 ,\n",
       "           0.8611798 , 0.8611798 , 0.8611798 , 0.7553409 , 0.8802316 ,\n",
       "           0.70651877, 0.70651877, 0.70651877, 0.95057243, 0.7843839 ,\n",
       "           0.7843839 , 0.8166153 , 0.9624964 , 0.9624964 , 0.7484001 ,\n",
       "           0.7484001 , 0.7484001 , 0.7484001 , 0.7484001 , 0.8577199 ,\n",
       "           0.91361177, 0.79014933, 0.8564328 , 0.7815819 , 0.7815819 ,\n",
       "           0.8032538 , 0.7976855 , 0.89772904, 0.7156063 , 0.7156063 ,\n",
       "           0.7156063 , 0.7156063 , 0.8737543 , 0.8737543 , 0.8737543 ,\n",
       "           0.751658  , 0.751658  , 0.86072475, 0.86072475, 0.86072475,\n",
       "           0.86072475, 0.86072475, 0.86072475, 0.8245113 , 0.8245113 ,\n",
       "           0.7758815 , 0.89713264, 0.6873998 , 0.6873998 , 0.6873998 ,\n",
       "           0.9994124 , 0.7269665 , 0.90646666, 0.7994413 , 0.8025635 ,\n",
       "           0.7848939 , 0.79118556, 0.79118556, 0.8250405 , 0.79533386,\n",
       "           0.79533386, 0.79533386, 0.8300748 , 0.77640826, 0.77640826,\n",
       "           0.77640826, 0.89842045, 0.7723543 , 0.7723543 , 0.7723543 ,\n",
       "           0.7723543 , 0.90704644, 0.73536885, 0.8453526 , 0.857869  ,\n",
       "           0.7434135 , 0.8575395 , 0.7645042 , 0.7645042 , 0.92982453,\n",
       "           0.6771293 , 0.6771293 , 0.9625753 , 0.7231084 , 0.90895724,\n",
       "           0.69585425, 0.9266646 , 0.9266646 , 0.7419863 , 0.9077168 ,\n",
       "           0.9077168 , 0.7361308 , 0.8501892 , 0.81047714, 0.81047714,\n",
       "           0.82269806, 0.82269806, 0.8419701 , 0.8419701 , 0.8419701 ,\n",
       "           0.83015203, 0.8540411 , 0.79821134, 0.80947715, 0.80947715,\n",
       "           0.80947715, 0.80947715, 0.7692937 , 0.8944152 , 0.7639894 ,\n",
       "           0.7639894 , 0.7639894 , 0.7639894 , 0.7639894 , 0.7639894 ,\n",
       "           0.7639894 , 0.7639894 , 0.9006838 , 0.7087735 , 0.9503813 ,\n",
       "           0.82051855, 0.79359704, 0.9113837 , 0.80398464, 0.94665194,\n",
       "           0.84210235, 0.79864454, 0.8415627 , 0.81537896, 0.84017605,\n",
       "           0.84017605, 0.75748867, 0.75748867, 0.8513345 , 0.8513345 ,\n",
       "           0.93456995, 0.69019556, 0.69019556, 0.9109645 , 0.9109645 ,\n",
       "           0.6940713 , 0.6940713 , 0.8996993 , 0.9215131 , 0.7061521 ,\n",
       "           0.91410583, 0.7104469 , 0.7104469 , 0.9178139 , 0.9178139 ,\n",
       "           0.73123676, 0.73123676, 0.73123676, 0.73123676, 0.85754937,\n",
       "           0.9426709 , 0.70848525, 0.70848525, 0.70848525, 0.92328763,\n",
       "           0.72214925, 0.9110594 , 0.73571604, 0.86067337, 0.82256776,\n",
       "           0.7756128 , 0.84351844, 0.91647184, 0.91647184, 0.91647184,\n",
       "           0.7571691 , 0.83557826, 0.7810869 , 0.89321196, 0.9398204 ,\n",
       "           0.6970363 , 0.95562625, 0.8743771 , 0.7502019 , 0.89079833,\n",
       "           0.7123304 , 0.7123304 , 0.7123304 , 0.8830362 , 0.8830362 ,\n",
       "           0.86800975, 0.8072674 , 0.8072674 , 0.82356715, 0.7919942 ,\n",
       "           0.8200782 , 0.8200782 , 0.8200782 , 0.78371245, 0.78371245,\n",
       "           0.7949462 , 0.9476636 , 0.8531794 , 0.73214275, 0.86761236,\n",
       "           0.8798031 , 0.7490108 , 0.9043277 , 0.9043277 , 0.9043277 ,\n",
       "           0.707687  , 0.707687  , 0.707687  , 0.707687  , 0.9266256 ,\n",
       "           0.7427041 , 0.7427041 , 0.9426841 , 0.6852359 , 1.0299531 ,\n",
       "           1.0299531 , 1.0299531 , 0.6890962 , 0.6890962 , 0.6890962 ,\n",
       "           0.6890962 , 0.6890962 , 0.95048624, 0.95048624, 0.69273317,\n",
       "           0.89858365, 0.89858365, 0.7784041 , 0.7784041 , 0.7784041 ,\n",
       "           0.83651316, 0.9624028 , 0.65041417, 0.65041417, 0.65041417,\n",
       "           0.98730546, 0.6862684 , 0.94334424, 0.793924  , 0.8720704 ,\n",
       "           0.80591816, 0.80591816, 0.7726367 , 0.891475  , 0.72119635,\n",
       "           0.72119635, 0.9099175 , 0.9099175 , 0.7335353 , 0.7335353 ,\n",
       "           0.8536556 , 0.7702902 , 0.9638041 , 0.69738793, 0.88737446,\n",
       "           0.88737446, 0.7151785 , 0.99209726, 0.77799237, 0.77799237,\n",
       "           0.77799237, 0.8193172 , 0.8193172 , 0.84707546, 0.74357766,\n",
       "           0.74357766, 0.87385386, 0.87385386, 0.7795328 , 0.81060004,\n",
       "           0.81060004, 0.81060004, 0.81060004, 0.7856228 , 0.8077108 ,\n",
       "           0.8077108 , 0.7854865 , 0.7854865 , 0.79731935, 0.8403189 ,\n",
       "           0.8403189 , 0.8153461 , 0.7776227 , 0.86401284, 0.7352921 ,\n",
       "           0.9168193 , 0.7468274 , 0.8896298 , 0.7380675 , 0.7380675 ,\n",
       "           0.8479051 , 0.7911941 , 0.835154  , 0.8898539 , 0.7564626 ,\n",
       "           0.7564626 , 0.84053063, 0.76793957, 0.76793957, 0.76793957,\n",
       "           0.85858667, 0.9707714 , 0.690584  , 0.690584  , 0.976304  ,\n",
       "           0.976304  , 0.7131777 , 0.9488858 , 0.9488858 , 0.8773511 ],      dtype=float32)\n",
       ")"
      ]
     },
     "execution_count": 87,
     "metadata": {},
     "output_type": "execute_result"
    }
   ],
   "source": [
    "states_51"
   ]
  },
  {
   "cell_type": "markdown",
   "metadata": {},
   "source": [
    "##### Code 5.6 \n",
    "\n",
    "We can now model a simple regression for the Mariage rate as well."
   ]
  },
  {
   "cell_type": "code",
   "execution_count": 90,
   "metadata": {},
   "outputs": [],
   "source": [
    "d[\"M\"] = d.Marriage.pipe(lambda x: (x - x.mean()) / x.std())"
   ]
  },
  {
   "cell_type": "code",
   "execution_count": 91,
   "metadata": {},
   "outputs": [],
   "source": [
    "def model_52(marriage_rate_data):\n",
    "    def _generator():\n",
    "        alpha = yield tfd.Normal(loc=0.0, scale=0.2, name=\"alpha\")\n",
    "        betaM = yield tfd.Normal(loc=0.0, scale=0.5, name=\"betaM\")\n",
    "        sigma = yield tfd.Exponential(rate=1.0, name=\"sigma\")\n",
    "        mu = alpha + betaM * marriage_rate_data\n",
    "        yield tfd.Normal(loc=mu, scale=sigma, name=\"divorce\")\n",
    "\n",
    "    return tfd.JointDistributionCoroutineAutoBatched(_generator, validate_args=True)\n",
    "\n",
    "jd_52 = model_52(d.M.values)"
   ]
  },
  {
   "cell_type": "markdown",
   "metadata": {},
   "source": [
    "#### Prior"
   ]
  },
  {
   "cell_type": "code",
   "execution_count": null,
   "metadata": {},
   "outputs": [],
   "source": [
    "*_, prior_predictive = jd_52.sample(2500, seed=a_key())"
   ]
  },
  {
   "cell_type": "code",
   "execution_count": null,
   "metadata": {},
   "outputs": [
    {
     "data": {
      "text/plain": [
       "(2500, 50)"
      ]
     },
     "metadata": {},
     "output_type": "display_data"
    }
   ],
   "source": [
    "prior_predictive.shape"
   ]
  },
  {
   "cell_type": "code",
   "execution_count": 152,
   "metadata": {},
   "outputs": [
    {
     "name": "stdout",
     "output_type": "stream",
     "text": [
      "<xarray.Dataset> Size: 520kB\n",
      "Dimensions:        (chain: 1, draw: 2500, divorce_dim_0: 50)\n",
      "Coordinates:\n",
      "  * chain          (chain) int64 8B 0\n",
      "  * draw           (draw) int64 20kB 0 1 2 3 4 5 ... 2495 2496 2497 2498 2499\n",
      "  * divorce_dim_0  (divorce_dim_0) int64 400B 0 1 2 3 4 5 ... 44 45 46 47 48 49\n",
      "Data variables:\n",
      "    divorce        (chain, draw, divorce_dim_0) float32 500kB 0.0144 ... 0.5083\n",
      "Attributes:\n",
      "    created_at:     2024-06-19T13:12:30.175143+00:00\n",
      "    arviz_version:  0.18.0\n"
     ]
    }
   ],
   "source": [
    "# arviz expects (chain, draw, *shape)\n",
    "prior_trace = az.from_dict(\n",
    "    observed_data={\"divorce\": d.D.values},\n",
    "    prior_predictive={\"divorce\": prior_predictive[jnp.newaxis, ...]},\n",
    "    # coords={\"observation\": jnp.arange(50)},\n",
    "    # dims={\"observations\": [\"observation\"]},\n",
    ")\n",
    "\n",
    "print(prior_trace.prior_predictive)"
   ]
  },
  {
   "cell_type": "code",
   "execution_count": null,
   "metadata": {},
   "outputs": [
    {
     "data": {
      "image/png": "[encoded data removed]",
      "text/plain": [
       "<Figure size 600x400 with 1 Axes>"
      ]
     },
     "metadata": {},
     "output_type": "display_data"
    }
   ],
   "source": [
    "az.plot_ppc(prior_trace, group=\"prior\", num_pp_samples=500);"
   ]
  },
  {
   "cell_type": "markdown",
   "metadata": {},
   "source": [
    "#### Posterior"
   ]
  },
  {
   "cell_type": "code",
   "execution_count": 141,
   "metadata": {},
   "outputs": [
    {
     "data": {
      "text/plain": [
       "StructTuple(\n",
       "  alpha=Array(0.2, dtype=float32),\n",
       "  betaM=Array(1.6419656, dtype=float32),\n",
       "  sigma=Array(0.39289555, dtype=float32),\n",
       "  divorce=Array([ 0.1356282 ,  2.8554718 ,  0.56621385,  2.7436047 ,  0.19073851,\n",
       "            1.9652144 , -1.754112  ,  0.9991354 , -0.57454336, -1.3980854 ,\n",
       "            1.2982901 ,  2.4740937 ,  2.7311497 , -0.992888  ,  0.13850805,\n",
       "            1.2599614 ,  0.7107239 ,  1.3097813 ,  0.91296834, -2.0963268 ,\n",
       "           -0.8217353 , -1.5558923 , -0.91139543, -1.9779117 ,  0.3290522 ,\n",
       "           -0.70277643, -0.31515723, -0.01897921, -1.7888956 , -2.4288282 ,\n",
       "            0.41514248, -1.0014454 ,  0.2327303 ,  2.4997826 , -1.5391577 ,\n",
       "            1.9040382 , -0.15614651, -2.5230289 , -1.9284326 , -0.528813  ,\n",
       "           -0.35243952,  0.54513353,  0.630811  ,  4.7066536 , -0.71745896,\n",
       "            0.8442453 ,  1.3869064 ,  1.2987077 , -1.007875  ,  4.599514  ],      dtype=float32)\n",
       ")"
      ]
     },
     "execution_count": 141,
     "metadata": {},
     "output_type": "execute_result"
    }
   ],
   "source": [
    "# conditional sample: (betaM, sigma | alpha=0.2)\n",
    "jd_52.sample(value=[0.2, None, None, None], seed=a_key())"
   ]
  },
  {
   "cell_type": "code",
   "execution_count": 135,
   "metadata": {},
   "outputs": [
    {
     "data": {
      "text/plain": [
       "StructTuple(\n",
       "  alpha=Array(0.2, dtype=float32),\n",
       "  betaM=Array(0.41656533, dtype=float32),\n",
       "  sigma=Array(1.4824997, dtype=float32),\n",
       "  divorce=Array([-0.3349238 ,  1.6702225 ,  2.8344243 , -1.5363097 ,  2.7437482 ,\n",
       "           -0.46191847,  0.11664857, -0.87974083,  0.9835101 , -1.6645143 ,\n",
       "           -0.04748991,  1.9378623 ,  0.1222195 , -3.0466003 , -0.5828819 ,\n",
       "            1.4618074 ,  1.27688   ,  0.18508871, -0.20733282,  0.8529437 ,\n",
       "            1.8208349 ,  0.5294172 , -2.2951176 , -0.77963233, -1.4148452 ,\n",
       "            0.59587103,  0.8594248 ,  0.63986737,  0.7834483 ,  1.3912578 ,\n",
       "           -2.061859  ,  0.64506465, -1.3021338 , -0.44113016,  1.0976515 ,\n",
       "            0.13906127, -2.3040504 , -1.6245859 , -0.611477  ,  0.15001655,\n",
       "            1.1879431 , -1.9790058 , -0.2929294 ,  1.9849842 ,  0.69123155,\n",
       "            0.66916203,  1.9274731 , -1.111146  ,  2.0919363 ,  0.22172284],      dtype=float32)\n",
       ")"
      ]
     },
     "execution_count": 135,
     "metadata": {},
     "output_type": "execute_result"
    }
   ],
   "source": [
    "# conditional sample: (betaM, sigma | alpha=0.2)\n",
    "jd_52.sample(alpha=0.2, seed=a_key())"
   ]
  },
  {
   "cell_type": "code",
   "execution_count": 136,
   "metadata": {},
   "outputs": [
    {
     "data": {
      "text/plain": [
       "<tfp.distributions.JointDistributionPinned 'PinnedJointDistributionCoroutineAutoBatched' batch_shape=[] event_shape=StructTuple(\n",
       "  betaM=[],\n",
       "  sigma=[],\n",
       "  divorce=[50]\n",
       ") dtype=StructTuple(\n",
       "  betaM=float32,\n",
       "  sigma=float32,\n",
       "  divorce=float32\n",
       ")>"
      ]
     },
     "execution_count": 136,
     "metadata": {},
     "output_type": "execute_result"
    }
   ],
   "source": [
    "# conditional distribution: (betaM, sigma | alpha=0.2)\n",
    "jd_52.experimental_pin(alpha=0.2)"
   ]
  },
  {
   "cell_type": "code",
   "execution_count": 140,
   "metadata": {},
   "outputs": [
    {
     "data": {
      "text/plain": [
       "<tfp.distributions.JointDistributionPinned 'PinnedJointDistributionCoroutineAutoBatched' batch_shape=[] event_shape=StructTuple(\n",
       "  betaM=[],\n",
       "  sigma=[],\n",
       "  divorce=[50]\n",
       ") dtype=StructTuple(\n",
       "  betaM=float32,\n",
       "  sigma=float32,\n",
       "  divorce=float32\n",
       ")>"
      ]
     },
     "execution_count": 140,
     "metadata": {},
     "output_type": "execute_result"
    }
   ],
   "source": [
    "# conditional distribution: (betaM, sigma | alpha=0.2)\n",
    "tfde = tfp.experimental.distributions\n",
    "tfde.JointDistributionPinned(jd_52, alpha=0.2)"
   ]
  },
  {
   "cell_type": "code",
   "execution_count": 149,
   "metadata": {},
   "outputs": [],
   "source": [
    "# conditional distribution i.e., posterior: (alpha, betaM, sigma | divorce)\n",
    "jd_52_pd = jd_52.experimental_pin(divorce=d.D.values)"
   ]
  },
  {
   "cell_type": "code",
   "execution_count": 151,
   "metadata": {},
   "outputs": [
    {
     "data": {
      "text/plain": [
       "StructTuple(\n",
       "  alpha=Array(0.22570153, dtype=float32),\n",
       "  betaM=Array(-0.636363, dtype=float32),\n",
       "  sigma=Array(2.349587, dtype=float32)\n",
       ")"
      ]
     },
     "execution_count": 151,
     "metadata": {},
     "output_type": "execute_result"
    }
   ],
   "source": [
    "jd_52_pd.sample_unpinned(seed=a_key())"
   ]
  },
  {
   "cell_type": "code",
   "execution_count": 159,
   "metadata": {},
   "outputs": [],
   "source": [
    "# from the official document:\n",
    "# experimental_pin pins some parts, returning an unnormalized distribution object.\n",
    "# The measure on the space of unpinned values that is represented by this object \n",
    "# is not a probability measure, \n",
    "# so the values of log_prob will in general not integrate to 1.\n",
    "def target_log_prob_52(*states):\n",
    "    return jd_52_pd.unnormalized_log_prob(states)"
   ]
  },
  {
   "cell_type": "code",
   "execution_count": 155,
   "metadata": {},
   "outputs": [],
   "source": [
    "init_state_52 = jd_52_pd.sample_unpinned(seed=a_key())"
   ]
  },
  {
   "cell_type": "code",
   "execution_count": 156,
   "metadata": {},
   "outputs": [],
   "source": [
    "num_burnin_steps = 500\n",
    "num_results = 500\n",
    "step_size = 0.1"
   ]
  },
  {
   "cell_type": "code",
   "execution_count": 160,
   "metadata": {},
   "outputs": [],
   "source": [
    "kernel_52 = tfp.mcmc.HamiltonianMonteCarlo(\n",
    "    target_log_prob_fn=target_log_prob_52,\n",
    "    step_size=step_size,\n",
    "    num_leapfrog_steps=2)\n",
    "\n",
    "kernel_52 = tfp.mcmc.SimpleStepSizeAdaptation(\n",
    "    inner_kernel=kernel_52, num_adaptation_steps=int(num_burnin_steps * 0.8))"
   ]
  },
  {
   "cell_type": "code",
   "execution_count": 162,
   "metadata": {},
   "outputs": [],
   "source": [
    "posterior_52 = tfp.mcmc.sample_chain(\n",
    "    num_results=num_results,\n",
    "    current_state=init_state_52,\n",
    "    kernel=kernel_52,\n",
    "    num_burnin_steps=num_burnin_steps,\n",
    "    trace_fn=None,\n",
    "    seed=a_key())"
   ]
  },
  {
   "cell_type": "code",
   "execution_count": null,
   "metadata": {},
   "outputs": [],
   "source": [
    "## in case of multiple chains.\n",
    "# tfp.mcmc.sample_chain output shape: (sample, batch, event)\n",
    "#  == in terms of arviz, (draws, chains, *shape)\n",
    "# arvis input shape: (chains, draws, *shape)\n",
    "# states_51 = [jnp.moveaxis(s, 0, 1) for s in states_51]"
   ]
  },
  {
   "cell_type": "code",
   "execution_count": 163,
   "metadata": {},
   "outputs": [
    {
     "data": {
      "text/html": [
       "<div>\n",
       "<style scoped>\n",
       "    .dataframe tbody tr th:only-of-type {\n",
       "        vertical-align: middle;\n",
       "    }\n",
       "\n",
       "    .dataframe tbody tr th {\n",
       "        vertical-align: top;\n",
       "    }\n",
       "\n",
       "    .dataframe thead th {\n",
       "        text-align: right;\n",
       "    }\n",
       "</style>\n",
       "<table border=\"1\" class=\"dataframe\">\n",
       "  <thead>\n",
       "    <tr style=\"text-align: right;\">\n",
       "      <th></th>\n",
       "      <th>mean</th>\n",
       "      <th>sd</th>\n",
       "      <th>hdi_5.5%</th>\n",
       "      <th>hdi_94.5%</th>\n",
       "    </tr>\n",
       "  </thead>\n",
       "  <tbody>\n",
       "    <tr>\n",
       "      <th>alpha</th>\n",
       "      <td>-0.00</td>\n",
       "      <td>0.11</td>\n",
       "      <td>-0.15</td>\n",
       "      <td>0.19</td>\n",
       "    </tr>\n",
       "    <tr>\n",
       "      <th>betaM</th>\n",
       "      <td>0.34</td>\n",
       "      <td>0.14</td>\n",
       "      <td>0.14</td>\n",
       "      <td>0.56</td>\n",
       "    </tr>\n",
       "    <tr>\n",
       "      <th>sigma</th>\n",
       "      <td>0.95</td>\n",
       "      <td>0.10</td>\n",
       "      <td>0.80</td>\n",
       "      <td>1.11</td>\n",
       "    </tr>\n",
       "  </tbody>\n",
       "</table>\n",
       "</div>"
      ],
      "text/plain": [
       "       mean    sd  hdi_5.5%  hdi_94.5%\n",
       "alpha -0.00  0.11     -0.15       0.19\n",
       "betaM  0.34  0.14      0.14       0.56\n",
       "sigma  0.95  0.10      0.80       1.11"
      ]
     },
     "execution_count": 163,
     "metadata": {},
     "output_type": "execute_result"
    }
   ],
   "source": [
    "posterior_52_dict = posterior_52._asdict()\n",
    "az.summary(posterior_52_dict, round_to=2, kind=\"stats\", hdi_prob=0.89)"
   ]
  },
  {
   "cell_type": "code",
   "execution_count": 164,
   "metadata": {},
   "outputs": [
    {
     "data": {
      "text/plain": [
       "['alpha', 'betaM', 'sigma']"
      ]
     },
     "execution_count": 164,
     "metadata": {},
     "output_type": "execute_result"
    }
   ],
   "source": [
    "jd_52_pd._flat_resolve_names()"
   ]
  },
  {
   "cell_type": "code",
   "execution_count": 169,
   "metadata": {},
   "outputs": [],
   "source": [
    "# now, easy to get posterior_predictive\n",
    "M_seq = jnp.linspace(start=-3.0, stop=3.2, num=30)\n",
    "jd_52_test = model_52(M_seq)\n",
    "*_, posterior_predictive = jd_52_test.sample(value=posterior_52, seed=a_key())"
   ]
  },
  {
   "cell_type": "code",
   "execution_count": 170,
   "metadata": {},
   "outputs": [
    {
     "data": {
      "text/plain": [
       "(500, 30)"
      ]
     },
     "execution_count": 170,
     "metadata": {},
     "output_type": "execute_result"
    }
   ],
   "source": [
    "posterior_predictive.shape"
   ]
  },
  {
   "cell_type": "code",
   "execution_count": null,
   "metadata": {},
   "outputs": [],
   "source": [
    "az.plot_pair(d[[\"M\", \"D\"]].to_dict(orient=\"list\"))\n",
    "plt.fill_between(M_seq, mu_PI[0], mu_PI[1], color=\"k\", alpha=0.2)\n",
    "plt.plot(M_seq, mu_mean, \"k\");\n"
   ]
  },
  {
   "cell_type": "markdown",
   "metadata": {},
   "source": [
    "Above plot is showing that the influence of marriage rate is strongly positive with divorce rate"
   ]
  },
  {
   "cell_type": "markdown",
   "metadata": {},
   "source": [
    "##### Code 5.7\n",
    "\n",
    "\n",
    "Author suggests that merely comparing parameter means between bivariate regressions is no way to decide which predictor is better. They may be independent, or related or could eliminate other. \n",
    "\n",
    "How do we understand all this ?\n",
    "\n",
    "He explains that here we may want to think **causally**. \n",
    "\n",
    "Few interesting assumptions (or rather deductions) -\n",
    "\n",
    "a) Age has a direct impact on Divorce rate as people may grow incompatible with the parter \n",
    "\n",
    "b) Marriage Rate has a direct impact on Divorce rate for obvious reason (more marriages => more divorce)\n",
    "\n",
    "c) Finally, Age has an impact on Marriage Rate because there are more young people\n",
    "\n",
    "Another way to represent above is :\n",
    "\n",
    "A -> D\n",
    "\n",
    "M -> D\n",
    "\n",
    "A -> M\n",
    "\n",
    "and yet another way is to use **DAG** (Directed Acyclic Graphs)\n"
   ]
  },
  {
   "cell_type": "code",
   "execution_count": null,
   "metadata": {},
   "outputs": [],
   "source": [
    "dag5_1 = CausalGraphicalModel(\n",
    "    nodes=[\"A\", \"D\", \"M\"], edges=[(\"A\", \"D\"), (\"A\", \"M\"), (\"M\", \"D\")]\n",
    ")\n",
    "pgm = daft.PGM()\n",
    "coordinates = {\"A\": (0, 0), \"D\": (1, 1), \"M\": (2, 0)}\n",
    "for node in dag5_1.dag.nodes:\n",
    "    pgm.add_node(node, node, *coordinates[node])\n",
    "for edge in dag5_1.dag.edges:\n",
    "    pgm.add_edge(*edge)\n",
    "pgm.render()\n",
    "plt.gca().invert_yaxis()\n"
   ]
  },
  {
   "cell_type": "markdown",
   "metadata": {},
   "source": [
    "Above DAG clearly shows that A impacts D directly and indirectly (i.e. via M)\n",
    "\n",
    "The author used \"total influence\". What is meant by *total* is that we need to account for every path from **A** to **D**.\n",
    "\n",
    "**MEDIATION** - Let's say that **A** did not directly influenced **D**; rather it did it via **M**. This type of relationship is called *Mediation*\n",
    "\n",
    "\n",
    "Author raises many interesting questions here. He asks if there is indeed a direct effect of marriage rate or rather is age at marriage just driving both, creating a **spurious** coorelation between marriage rate and divorce rate\n",
    "\n",
    "\n",
    "\n"
   ]
  },
  {
   "cell_type": "markdown",
   "metadata": {},
   "source": [
    "##### Code 5.8 \n",
    "\n",
    "Checking conditional indpendencies"
   ]
  },
  {
   "cell_type": "code",
   "execution_count": null,
   "metadata": {},
   "outputs": [],
   "source": [
    "# Note - There is no explicity code section for drawing the second DAG\n",
    "# but the figure appears in the book and hence drawing it as well\n",
    "dag5_2 = CausalGraphicalModel(nodes=[\"A\", \"D\", \"M\"], edges=[(\"A\", \"D\"), (\"A\", \"M\")])\n",
    "pgm = daft.PGM()\n",
    "coordinates = {\"A\": (0, 0), \"D\": (1, 1), \"M\": (2, 0)}\n",
    "for node in dag5_2.dag.nodes:\n",
    "    pgm.add_node(node, node, *coordinates[node])\n",
    "for edge in dag5_2.dag.edges:\n",
    "    pgm.add_edge(*edge)\n",
    "pgm.render()\n",
    "plt.gca().invert_yaxis()\n"
   ]
  },
  {
   "cell_type": "code",
   "execution_count": null,
   "metadata": {},
   "outputs": [],
   "source": [
    "DMA_dag2 = CausalGraphicalModel(nodes=[\"A\", \"D\", \"M\"], edges=[(\"A\", \"D\"), (\"A\", \"M\")])\n",
    "all_independencies = DMA_dag2.get_all_independence_relationships()\n",
    "for s in all_independencies:\n",
    "    if all(\n",
    "        t[0] != s[0] or t[1] != s[1] or not t[2].issubset(s[2])\n",
    "        for t in all_independencies\n",
    "        if t != s\n",
    "    ):\n",
    "        print(s)\n"
   ]
  },
  {
   "cell_type": "markdown",
   "metadata": {},
   "source": [
    "##### Code 5.9\n",
    "\n",
    "Checking conditional indpenedencies in the DAG1"
   ]
  },
  {
   "cell_type": "code",
   "execution_count": null,
   "metadata": {},
   "outputs": [],
   "source": [
    "DMA_dag1 = CausalGraphicalModel(\n",
    "    nodes=[\"A\", \"D\", \"M\"], edges=[(\"A\", \"D\"), (\"A\", \"M\"), (\"M\", \"D\")]\n",
    ")\n",
    "all_independencies = DMA_dag1.get_all_independence_relationships()\n",
    "for s in all_independencies:\n",
    "    if all(\n",
    "        t[0] != s[0] or t[1] != s[1] or not t[2].issubset(s[2])\n",
    "        for t in all_independencies\n",
    "        if t != s\n",
    "    ):\n",
    "        print(s)\n"
   ]
  },
  {
   "cell_type": "markdown",
   "metadata": {},
   "source": [
    "Executing above cell should not display anything as in the DAG1 (where all nodes are connected to each other) there are no conditional indpedencies."
   ]
  },
  {
   "cell_type": "markdown",
   "metadata": {},
   "source": [
    "##### Code 5.10"
   ]
  },
  {
   "cell_type": "code",
   "execution_count": null,
   "metadata": {},
   "outputs": [],
   "source": [
    "def model_5_3(median_age_data, marriage_rate_data):\n",
    "    def _generator():\n",
    "        alpha = yield Root(\n",
    "            tfd.Sample(tfd.Normal(loc=0.0, scale=0.2, name=\"alpha\"), sample_shape=1)\n",
    "        )\n",
    "        betaA = yield Root(\n",
    "            tfd.Sample(tfd.Normal(loc=0.0, scale=0.5, name=\"betaA\"), sample_shape=1)\n",
    "        )\n",
    "        betaM = yield Root(\n",
    "            tfd.Sample(tfd.Normal(loc=0.0, scale=0.5, name=\"betaM\"), sample_shape=1)\n",
    "        )\n",
    "        sigma = yield Root(\n",
    "            tfd.Sample(tfd.Exponential(rate=1.0, name=\"sigma\"), sample_shape=1)\n",
    "        )\n",
    "\n",
    "        mu = alpha + betaA * median_age_data + betaM * marriage_rate_data\n",
    "\n",
    "        divorce = yield tfd.Independent(\n",
    "            tfd.Normal(loc=mu, scale=sigma, name=\"divorce\"), reinterpreted_batch_ndims=1\n",
    "        )\n",
    "\n",
    "    return tfd.JointDistributionCoroutine(_generator, validate_args=True)\n",
    "\n",
    "\n",
    "jdc_5_3 = model_5_3(tdf.A, tdf.M)\n",
    "\n",
    "posterior_5_3, trace_5_3 = sample_posterior(\n",
    "    jdc_5_3, observed_data=(tdf.D,), params=[\"alpha\", \"betaA\", \"betaM\", \"sigma\"]\n",
    ")\n"
   ]
  },
  {
   "cell_type": "code",
   "execution_count": null,
   "metadata": {},
   "outputs": [],
   "source": [
    "az.summary(trace_5_3, round_to=2, kind=\"stats\", hdi_prob=0.89)\n"
   ]
  },
  {
   "cell_type": "markdown",
   "metadata": {},
   "source": [
    "Let's try to understand the above table generated by arviz.\n",
    "\n",
    "In the model above, we had include both the predictors i.e. M & A. The weights of M i.e. betaM is approaching zero where as betaA is more or less unchanged.\n"
   ]
  },
  {
   "cell_type": "code",
   "execution_count": null,
   "metadata": {},
   "outputs": [],
   "source": [
    "az.plot_trace(trace_5_3)\n",
    "plt.tight_layout();\n"
   ]
  },
  {
   "cell_type": "markdown",
   "metadata": {},
   "source": [
    "##### Code 5.11\n",
    "\n",
    "Here we will take the help of forest plot to compare the posteriors of various models that we have built so far"
   ]
  },
  {
   "cell_type": "code",
   "execution_count": null,
   "metadata": {},
   "outputs": [],
   "source": [
    "coeftab = {\"m5.1\": trace_5_1, \"m5.2\": trace_5_2, \"m5.3\": trace_5_3}\n",
    "\n",
    "az.plot_forest(\n",
    "    list(coeftab.values()),\n",
    "    model_names=list(coeftab.keys()),\n",
    "    combined=True,\n",
    "    var_names=[\"betaA\", \"betaM\"],\n",
    "    hdi_prob=0.89,\n",
    ");\n"
   ]
  },
  {
   "cell_type": "markdown",
   "metadata": {},
   "source": [
    "Let's learn how to read above plot\n",
    "\n",
    "m5.1 is our first model where we had used betaA. If we compare it to m5.3 it is more or less at the same place.\n",
    "\n",
    "whereas,\n",
    "\n",
    "m5.2 is our second model where we had used betaM. If we compare it to m5.3, it is now closer to zero. \n",
    "\n",
    "This is another way to read/plot what we saw in the arviz summary in Code 5.10\n"
   ]
  },
  {
   "cell_type": "markdown",
   "metadata": {},
   "source": [
    "From all this, we can say that - once we know median age at marriage for a State, there is little or no additional predictive power in also knowing the rate of marriage in that state"
   ]
  },
  {
   "cell_type": "markdown",
   "metadata": {},
   "source": [
    "##### Code 5.12 (TODO)\n",
    "\n",
    "Possibly revisit this to do what professor has asked to do instead of just translating the code in the cell"
   ]
  },
  {
   "cell_type": "code",
   "execution_count": null,
   "metadata": {},
   "outputs": [],
   "source": [
    "N = 50  # number of simulated States\n",
    "age = tfd.Normal(loc=0.0, scale=1.0).sample((N,))  # sim A\n",
    "mar = tfd.Normal(loc=age, scale=1.0).sample()  # sim A -> M\n",
    "div = tfd.Normal(loc=age, scale=1.0).sample()  # sim A -> D\n"
   ]
  },
  {
   "cell_type": "markdown",
   "metadata": {},
   "source": [
    "##### Code 5.13\n",
    "\n",
    "Following few cells are all about how to plot multivariate posteriors. \n",
    "\n",
    "Previously we had only 1 predictor variable and hence a single scatterplot can convey a lot of information. Addition of regression lines and intervals also helped in estimating the size and uncertainity.\n",
    "\n",
    "However, in the case multivariate regression we would have use other types of plots. \n",
    "\n",
    "Author mentions that we need to also know how to select the proper type of plot for a given problem.\n",
    "\n",
    "He explains 3 types of plots -\n",
    "\n",
    "* Predictor residual plots\n",
    "\n",
    "* Posterior prediction plots\n",
    "\n",
    "* Counterfactual plots\n",
    "\n"
   ]
  },
  {
   "cell_type": "code",
   "execution_count": null,
   "metadata": {},
   "outputs": [],
   "source": [
    "# we are first redefining our first model. It is exactly the same as m5_1\n",
    "\n",
    "\n",
    "def model_5_4(median_age_data):\n",
    "    def _generator():\n",
    "        alpha = yield Root(\n",
    "            tfd.Sample(tfd.Normal(loc=0.0, scale=0.2, name=\"alpha\"), sample_shape=1)\n",
    "        )\n",
    "        betaA = yield Root(\n",
    "            tfd.Sample(tfd.Normal(loc=0.0, scale=0.5, name=\"betaA\"), sample_shape=1)\n",
    "        )\n",
    "        sigma = yield Root(\n",
    "            tfd.Sample(tfd.Exponential(rate=1.0, name=\"sigma\"), sample_shape=1)\n",
    "        )\n",
    "\n",
    "        mu = alpha + betaA * median_age_data\n",
    "\n",
    "        M = yield tfd.Independent(\n",
    "            tfd.Normal(loc=mu, scale=sigma, name=\"M\"), reinterpreted_batch_ndims=1\n",
    "        )\n",
    "\n",
    "    return tfd.JointDistributionCoroutine(_generator, validate_args=True)\n",
    "\n",
    "\n",
    "jdc_5_4 = model_5_4(tdf.A)\n",
    "\n",
    "posterior_5_4, trace_5_4 = sample_posterior(\n",
    "    jdc_5_4, observed_data=(tdf.D,), params=[\"alpha\", \"betaA\", \"sigma\"]\n",
    ")\n"
   ]
  },
  {
   "cell_type": "code",
   "execution_count": null,
   "metadata": {},
   "outputs": [],
   "source": [
    "az.plot_trace(trace_5_4)\n",
    "plt.tight_layout();\n"
   ]
  },
  {
   "cell_type": "markdown",
   "metadata": {},
   "source": [
    "##### Code 5.14\n",
    "\n",
    "First is **Predictor residual plot**"
   ]
  },
  {
   "cell_type": "code",
   "execution_count": null,
   "metadata": {},
   "outputs": [],
   "source": [
    "sample_alpha = posterior_5_4[\"alpha\"][0]\n",
    "sample_betaA = posterior_5_4[\"betaA\"][0]\n",
    "sample_sigma = posterior_5_4[\"sigma\"][0]\n",
    "\n",
    "ds, samples = jdc_5_4.sample_distributions(\n",
    "    value=[sample_alpha, sample_betaA, sample_sigma, None]\n",
    ")\n",
    "\n",
    "mu_pred = ds[-1].distribution.loc\n",
    "\n",
    "mu_mean = tf.reduce_mean(mu_pred, 0)\n",
    "mu_resid = d.M.values - mu_mean\n"
   ]
  },
  {
   "cell_type": "markdown",
   "metadata": {},
   "source": [
    "##### Code 5.15\n",
    "\n",
    "Second is **Posterior prediction plots**"
   ]
  },
  {
   "cell_type": "code",
   "execution_count": null,
   "metadata": {},
   "outputs": [],
   "source": [
    "sample_alpha = posterior_5_3[\"alpha\"][0]\n",
    "sample_betaA = posterior_5_3[\"betaA\"][0]\n",
    "sample_betaM = posterior_5_3[\"betaM\"][0]\n",
    "sample_sigma = posterior_5_3[\"sigma\"][0]\n",
    "\n",
    "ds, samples = jdc_5_3.sample_distributions(\n",
    "    value=[sample_alpha, sample_betaA, sample_betaM, sample_sigma, None]\n",
    ")\n",
    "\n",
    "mu_pred = ds[-1].distribution.loc\n",
    "\n",
    "mu_mean = tf.reduce_mean(mu_pred, 0)\n",
    "mu_PI = tfp.stats.percentile(mu_pred, q=(5.5, 94.5), axis=0).numpy()\n",
    "\n",
    "# get the simulated D\n",
    "D_sim = samples[-1]\n",
    "D_PI = tfp.stats.percentile(D_sim, q=(5.5, 94.5), axis=0)\n",
    "\n",
    "D_sim.shape\n"
   ]
  },
  {
   "cell_type": "markdown",
   "metadata": {},
   "source": [
    "##### Code 5.16\n",
    "\n",
    "Plot predictions against the observed"
   ]
  },
  {
   "cell_type": "code",
   "execution_count": null,
   "metadata": {},
   "outputs": [],
   "source": [
    "ax = plt.subplot(\n",
    "    ylim=(float(mu_PI.min()), float(mu_PI.max())),\n",
    "    xlabel=\"Observed divorce\",\n",
    "    ylabel=\"Predicted divorce\",\n",
    ")\n",
    "plt.plot(d.D, mu_mean, \"o\")\n",
    "x = np.linspace(mu_PI.min(), mu_PI.max(), 101)\n",
    "plt.plot(x, x, \"--\")\n",
    "for i in range(d.shape[0]):\n",
    "    plt.plot([d.D[i]] * 2, mu_PI[:, i], \"b\")\n",
    "fig = plt.gcf();\n"
   ]
  },
  {
   "cell_type": "markdown",
   "metadata": {},
   "source": [
    "The diagonal line shows **perfect predictions**. "
   ]
  },
  {
   "cell_type": "markdown",
   "metadata": {},
   "source": [
    "##### Code 5.17"
   ]
  },
  {
   "cell_type": "code",
   "execution_count": null,
   "metadata": {},
   "outputs": [],
   "source": [
    "for i in range(d.shape[0]):\n",
    "    if d.Loc[i] in [\"ID\", \"UT\", \"RI\", \"ME\"]:\n",
    "        ax.annotate(\n",
    "            d.Loc[i], (d.D[i], mu_mean[i]), xytext=(-25, -5), textcoords=\"offset pixels\"\n",
    "        )\n",
    "fig\n"
   ]
  },
  {
   "cell_type": "markdown",
   "metadata": {},
   "source": [
    "Remember that the above graph is draw using m5_3 that had taken both predictor variables in account.\n",
    "\n",
    "According to book, above figure shows -\n",
    "\"Model under-predicts for States with very high divorce rate while it over-predicts for states with very low divorce rates.\"\n",
    "\n",
    "**I am not able to interpret that :(**\n",
    "\n",
    "\n",
    "Some states, the ones which are labelled i.e. Idaho (ID), Utah (UT) have lower divorce rates because of religious regions. \n"
   ]
  },
  {
   "cell_type": "markdown",
   "metadata": {},
   "source": [
    "##### Code 5.18 "
   ]
  },
  {
   "cell_type": "code",
   "execution_count": null,
   "metadata": {},
   "outputs": [],
   "source": [
    "N = 100  # number of cases\n",
    "# x_real as Gaussian with mean 0 and stddev 1\n",
    "x_real = tfd.Normal(loc=0.0, scale=1.0).sample((N,))\n",
    "# x_spur as Gaussian with mean=x_real\n",
    "x_spur = tfd.Normal(loc=x_real, scale=1.0).sample()\n",
    "# y as Gaussian with mean=x_real\n",
    "y = tfd.Normal(loc=x_real, scale=1.0).sample()\n",
    "# bind all together in data frame\n",
    "d = pd.DataFrame({\"y\": y, \"x_real\": x_real, \"x_spur\": x_spur})\n"
   ]
  },
  {
   "cell_type": "code",
   "execution_count": null,
   "metadata": {},
   "outputs": [],
   "source": [
    "d\n"
   ]
  },
  {
   "cell_type": "markdown",
   "metadata": {},
   "source": [
    "##### Code 5.19\n",
    "\n",
    "Third type of plot is called **Counterfactual Plots**\n",
    "\n",
    "The simplest use of counterfactual plot is to see how the prediction changes as we change **only one** predictor at a time."
   ]
  },
  {
   "cell_type": "code",
   "execution_count": null,
   "metadata": {},
   "outputs": [],
   "source": [
    "# Reloading the dataset\n",
    "\n",
    "d = RethinkingDataset.WaffleDivorce.get_dataset()\n",
    "\n",
    "# standardize variables\n",
    "d[\"A\"] = d.MedianAgeMarriage.pipe(lambda x: (x - x.mean()) / x.std())\n",
    "d[\"D\"] = d.Divorce.pipe(lambda x: (x - x.mean()) / x.std())\n",
    "d[\"M\"] = d.Marriage.pipe(lambda x: (x - x.mean()) / x.std())\n",
    "\n",
    "tdf = dataframe_to_tensors(\"WaffleDivorce\", d, [\"A\", \"D\", \"M\"])\n"
   ]
  },
  {
   "cell_type": "code",
   "execution_count": null,
   "metadata": {},
   "outputs": [],
   "source": [
    "def model_5_3_A(median_age_data, marriage_rate_data):\n",
    "    def _generator():\n",
    "        alpha = yield Root(\n",
    "            tfd.Sample(tfd.Normal(loc=0.0, scale=0.2, name=\"alpha\"), sample_shape=1)\n",
    "        )\n",
    "        betaA = yield Root(\n",
    "            tfd.Sample(tfd.Normal(loc=0.0, scale=0.5, name=\"betaA\"), sample_shape=1)\n",
    "        )\n",
    "        betaM = yield Root(\n",
    "            tfd.Sample(tfd.Normal(loc=0.0, scale=0.5, name=\"betaM\"), sample_shape=1)\n",
    "        )\n",
    "        sigma = yield Root(\n",
    "            tfd.Sample(tfd.Exponential(rate=1.0, name=\"sigma\"), sample_shape=1)\n",
    "        )\n",
    "\n",
    "        mu = alpha + betaA * median_age_data + betaM * marriage_rate_data\n",
    "\n",
    "        divorce = yield tfd.Independent(\n",
    "            tfd.Normal(loc=mu, scale=sigma, name=\"divorce\"), reinterpreted_batch_ndims=1\n",
    "        )\n",
    "\n",
    "    return tfd.JointDistributionCoroutine(_generator, validate_args=True)\n",
    "\n",
    "\n",
    "def model_5_X_M(median_age_data):\n",
    "    def _generator():\n",
    "        alphaM = yield Root(\n",
    "            tfd.Sample(tfd.Normal(loc=0.0, scale=0.2, name=\"alphaM\"), sample_shape=1)\n",
    "        )\n",
    "        betaAM = yield Root(\n",
    "            tfd.Sample(tfd.Normal(loc=0.0, scale=0.5, name=\"betaAM\"), sample_shape=1)\n",
    "        )\n",
    "        sigmaM = yield Root(\n",
    "            tfd.Sample(tfd.Exponential(rate=1.0, name=\"sigmaM\"), sample_shape=1)\n",
    "        )\n",
    "\n",
    "        mu_M = alphaM + betaAM * median_age_data\n",
    "\n",
    "        M = yield tfd.Independent(\n",
    "            tfd.Normal(loc=mu_M, scale=sigmaM, name=\"M\"), reinterpreted_batch_ndims=1\n",
    "        )\n",
    "\n",
    "    return tfd.JointDistributionCoroutine(_generator, validate_args=True)\n",
    "\n",
    "\n",
    "## First model\n",
    "jdc_5_3_A = model_5_3_A(tdf.A, tdf.M)\n",
    "posterior_5_3_A, trace_5_3_A = sample_posterior(\n",
    "    jdc_5_3_A, observed_data=(tdf.D,), params=[\"alpha\", \"betaA\", \"betaM\", \"sigma\"]\n",
    ")\n",
    "\n",
    "## Second model\n",
    "jdc_5_X_M = model_5_X_M(tdf.A)\n",
    "posterior_5_X_M, trace_5_X_M = sample_posterior(\n",
    "    jdc_5_X_M, observed_data=(tdf.M,), params=[\"alpha\", \"betaA\", \"sigma\"]\n",
    ")\n"
   ]
  },
  {
   "cell_type": "code",
   "execution_count": null,
   "metadata": {},
   "outputs": [],
   "source": [
    "az.plot_trace(trace_5_X_M)\n",
    "plt.tight_layout();\n"
   ]
  },
  {
   "cell_type": "code",
   "execution_count": null,
   "metadata": {},
   "outputs": [],
   "source": [
    "az.plot_trace(trace_5_3_A)\n",
    "plt.tight_layout()\n"
   ]
  },
  {
   "cell_type": "markdown",
   "metadata": {},
   "source": [
    "##### Code 5.20"
   ]
  },
  {
   "cell_type": "code",
   "execution_count": null,
   "metadata": {},
   "outputs": [],
   "source": [
    "A_seq = tf.linspace(-2.0, 2.0, num=30)\n",
    "A_seq = tf.cast(A_seq, dtype=tf.float32)\n"
   ]
  },
  {
   "cell_type": "markdown",
   "metadata": {},
   "source": [
    "##### Code 5.21"
   ]
  },
  {
   "cell_type": "code",
   "execution_count": null,
   "metadata": {},
   "outputs": [],
   "source": [
    "sample5X_alpha = posterior_5_X_M[\"alpha\"][0]\n",
    "sample5X_betaA = posterior_5_X_M[\"betaA\"][0]\n",
    "sample5X_sigma = posterior_5_X_M[\"sigma\"][0]\n",
    "\n",
    "# simulate M using A_seq\n",
    "jdc_5_X_M_test = model_5_X_M(A_seq)\n",
    "\n",
    "samples = jdc_5_X_M_test.sample(\n",
    "    value=[sample5X_alpha, sample5X_betaA, sample5X_sigma, None]\n",
    ")\n",
    "\n",
    "M_sim = samples[-1]\n",
    "\n",
    "M_sim.shape\n"
   ]
  },
  {
   "cell_type": "code",
   "execution_count": null,
   "metadata": {},
   "outputs": [],
   "source": [
    "# time to simulate D using M\n",
    "sample53A_alpha = posterior_5_3_A[\"alpha\"][0]\n",
    "sample53A_betaA = posterior_5_3_A[\"betaA\"][0]\n",
    "sample53A_betaM = posterior_5_3_A[\"betaM\"][0]\n",
    "sample53A_sigma = posterior_5_3_A[\"sigma\"][0]\n",
    "\n",
    "jdc_5_3_A_test = model_5_3_A(A_seq, M_sim)\n",
    "\n",
    "_, _, _, _, D_sim = jdc_5_3_A_test.sample(\n",
    "    value=[sample53A_alpha, sample53A_betaA, sample53A_betaM, sample53A_sigma, None]\n",
    ")\n",
    "\n",
    "D_sim.shape\n"
   ]
  },
  {
   "cell_type": "markdown",
   "metadata": {},
   "source": [
    "##### Code 5.22"
   ]
  },
  {
   "cell_type": "code",
   "execution_count": null,
   "metadata": {},
   "outputs": [],
   "source": [
    "# display counterfactual predictions\n",
    "plt.plot(A_seq, tf.reduce_mean(D_sim, 0))\n",
    "plt.gca().set(ylim=(-2, 2), xlabel=\"manipulated A\", ylabel=\"counterfactual D\")\n",
    "plt.fill_between(\n",
    "    A_seq, *tfp.stats.percentile(D_sim, q=(5.5, 94.5), axis=0), color=\"k\", alpha=0.2\n",
    ")\n",
    "plt.title(\"Total counterfactual effect of A on D\");\n"
   ]
  },
  {
   "cell_type": "markdown",
   "metadata": {},
   "source": [
    "##### Code 5.23  "
   ]
  },
  {
   "cell_type": "code",
   "execution_count": null,
   "metadata": {},
   "outputs": [],
   "source": [
    "M_seq = tf.linspace(-2.0, 2.0, num=30)\n",
    "M_seq = tf.cast(M_seq, dtype=tf.float32)\n",
    "\n",
    "\n",
    "def compute_D_from_posterior_using_M(m):\n",
    "    mu = sample53A_alpha + sample53A_betaM * m\n",
    "    return tfd.Normal(loc=mu, scale=sample53A_sigma).sample()\n",
    "\n",
    "\n",
    "D_sim = tf.transpose(\n",
    "    tf.squeeze(tf.vectorized_map(compute_D_from_posterior_using_M, M_seq))\n",
    ")\n",
    "D_sim.shape\n"
   ]
  },
  {
   "cell_type": "code",
   "execution_count": null,
   "metadata": {},
   "outputs": [],
   "source": [
    "# display counterfactual predictions\n",
    "plt.plot(M_seq, tf.reduce_mean(D_sim, 0))\n",
    "plt.gca().set(ylim=(-2, 2), xlabel=\"manipulated M\", ylabel=\"counterfactual D\")\n",
    "plt.fill_between(\n",
    "    M_seq, *tfp.stats.percentile(D_sim, q=(5.5, 94.5), axis=0), color=\"k\", alpha=0.2\n",
    ")\n",
    "plt.title(\"Total counterfactual effect of M on D\");\n"
   ]
  },
  {
   "cell_type": "markdown",
   "metadata": {},
   "source": [
    "##### Code 5.24, 5.25 and 5.26\n",
    "\n",
    "Here the author explains how to do above manually in the overthinking box.\n",
    "\n",
    "Due to the lack of Predictive support in tensorflow prob I had to do it anyways. So refer to above cells."
   ]
  },
  {
   "cell_type": "markdown",
   "metadata": {},
   "source": [
    "##### Code 5.27\n",
    "\n",
    "Previous example used multiple predictors to show case spurious association but sometimes you do need multiple predictor variables as they do have influence on the outcome.\n",
    "\n",
    "It is possible that one predictor variable is +ively related to outcome whereas the other one is -ively correlated.\n",
    "\n",
    "We are going to use a new dataset called Milk.\n",
    "\n",
    "Question that we want to answer is - **To what extent energy content of milk, measured in KCal, is related to the percent of the brain mass that is neocortex**.\n",
    "\n"
   ]
  },
  {
   "cell_type": "code",
   "execution_count": null,
   "metadata": {},
   "outputs": [],
   "source": [
    "d = RethinkingDataset.Milk.get_dataset()\n",
    "d.info()\n",
    "d.head()\n"
   ]
  },
  {
   "cell_type": "markdown",
   "metadata": {},
   "source": [
    "* kcal.per.g - Kilocalories of energy per gram of milk\n",
    "* mass - Average female body mass, in KG\n",
    "* neocortex.perc - Percent of total brain mass that is neocortex mass\n",
    "\n",
    "Although not mentioned in the question that was asked above, we are considering the female body mass as well. This is to see the masking that hides the relationships among the variables.\n"
   ]
  },
  {
   "cell_type": "markdown",
   "metadata": {},
   "source": [
    "## 5.2 Masked relationship"
   ]
  },
  {
   "cell_type": "markdown",
   "metadata": {},
   "source": [
    "##### Code 5.28"
   ]
  },
  {
   "cell_type": "code",
   "execution_count": null,
   "metadata": {},
   "outputs": [],
   "source": [
    "d[\"K\"] = d[\"kcal.per.g\"].pipe(lambda x: (x - x.mean()) / x.std())\n",
    "d[\"N\"] = d[\"neocortex.perc\"].pipe(lambda x: (x - x.mean()) / x.std())\n",
    "d[\"M\"] = d.mass.pipe(np.log).pipe(lambda x: (x - x.mean()) / x.std())\n",
    "\n",
    "tdf = dataframe_to_tensors(\"Milk\", d, [\"K\", \"N\", \"M\"])\n"
   ]
  },
  {
   "cell_type": "markdown",
   "metadata": {},
   "source": [
    "##### Code 5.29\n",
    "\n",
    "A Simple Bivariate model between KCal and NeoCortex percent"
   ]
  },
  {
   "cell_type": "code",
   "execution_count": null,
   "metadata": {},
   "outputs": [],
   "source": [
    "# N => Standardized Neocortex percent\n",
    "\n",
    "\n",
    "def model_5_5(neocortex_percent_std):\n",
    "    def _generator():\n",
    "        alpha = yield Root(\n",
    "            tfd.Sample(tfd.Normal(loc=0.0, scale=1.0, name=\"alpha\"), sample_shape=1)\n",
    "        )\n",
    "        betaN = yield Root(\n",
    "            tfd.Sample(tfd.Normal(loc=0.0, scale=1.0, name=\"betaN\"), sample_shape=1)\n",
    "        )\n",
    "        sigma = yield Root(\n",
    "            tfd.Sample(tfd.Exponential(rate=1.0, name=\"sigma\"), sample_shape=1)\n",
    "        )\n",
    "\n",
    "        mu = alpha + betaN * neocortex_percent_std\n",
    "\n",
    "        K = yield tfd.Independent(\n",
    "            tfd.Normal(loc=mu, scale=sigma, name=\"K\"), reinterpreted_batch_ndims=1\n",
    "        )\n",
    "\n",
    "    return tfd.JointDistributionCoroutine(_generator, validate_args=True)\n",
    "\n",
    "\n",
    "jdc_5_5 = model_5_5(tdf.N)\n",
    "\n",
    "samples = jdc_5_5.sample()\n",
    "\n",
    "samples\n"
   ]
  },
  {
   "cell_type": "markdown",
   "metadata": {},
   "source": [
    "If you see above displayed samples, you would see lot of NaN. Now tensorflow prob does not complain and/or throw\n",
    "an exception here but it is going to cause lot of pain.\n",
    "\n",
    "In other words, we must not have this situation i.e. presence of NaN"
   ]
  },
  {
   "cell_type": "markdown",
   "metadata": {},
   "source": [
    "##### Code 5.30"
   ]
  },
  {
   "cell_type": "code",
   "execution_count": null,
   "metadata": {},
   "outputs": [],
   "source": [
    "d[\"neocortex.perc\"]\n"
   ]
  },
  {
   "cell_type": "markdown",
   "metadata": {},
   "source": [
    "We have lot of data missing in the neorcortex.perc colums"
   ]
  },
  {
   "cell_type": "markdown",
   "metadata": {},
   "source": [
    "##### Code 5.31\n",
    "\n",
    "Drop all the cases with missing values. This is known as **COMPLETE CASE ANANLYSIS**"
   ]
  },
  {
   "cell_type": "code",
   "execution_count": null,
   "metadata": {},
   "outputs": [],
   "source": [
    "dcc = d.iloc[d[[\"K\", \"N\", \"M\"]].dropna(how=\"any\", axis=0).index]\n",
    "\n",
    "# we now have only 17 rows\n",
    "dcc.describe()\n"
   ]
  },
  {
   "cell_type": "code",
   "execution_count": null,
   "metadata": {},
   "outputs": [],
   "source": [
    "tdcc = dataframe_to_tensors(\"Milk\", dcc, [\"K\", \"N\", \"M\"])\n"
   ]
  },
  {
   "cell_type": "markdown",
   "metadata": {},
   "source": [
    "##### Code 5.32"
   ]
  },
  {
   "cell_type": "code",
   "execution_count": null,
   "metadata": {},
   "outputs": [],
   "source": [
    "jdc_5_5_draft = model_5_5(tdcc.N)\n",
    "\n",
    "samples = jdc_5_5_draft.sample()\n",
    "\n",
    "samples\n"
   ]
  },
  {
   "cell_type": "markdown",
   "metadata": {},
   "source": [
    "You should not see an NaN in the samples"
   ]
  },
  {
   "cell_type": "markdown",
   "metadata": {},
   "source": [
    "##### Code 5.33\n",
    "\n",
    "Investigate if we have proper priors by plotting 50 prior regression lines"
   ]
  },
  {
   "cell_type": "code",
   "execution_count": null,
   "metadata": {},
   "outputs": [],
   "source": [
    "xseq = tf.constant([-2.0, 2.0], dtype=tf.float32)\n",
    "\n",
    "sample_alpha, sample_betaN, sample_sigma, _ = model_5_5(xseq).sample(1000)\n",
    "\n",
    "# we simply compute for the two possible values\n",
    "mu_pred_0 = sample_alpha + sample_betaN * -2.0\n",
    "mu_pred_1 = sample_alpha + sample_betaN * 2.0\n",
    "\n",
    "mu_pred = tf.concat([mu_pred_0, mu_pred_1], axis=1)\n",
    "\n",
    "plt.subplot(xlim=xseq.numpy(), ylim=xseq.numpy())\n",
    "for i in range(50):\n",
    "    plt.plot(xseq, mu_pred[i], \"k\", alpha=0.3)\n"
   ]
  },
  {
   "cell_type": "markdown",
   "metadata": {},
   "source": [
    "Above does not look good. We should have better priors for $\\alpha$ so that it sticks closer to zero"
   ]
  },
  {
   "cell_type": "markdown",
   "metadata": {},
   "source": [
    "##### Code 5.34"
   ]
  },
  {
   "cell_type": "code",
   "execution_count": null,
   "metadata": {},
   "outputs": [],
   "source": [
    "def model_5_5(neocortex_percent_std):\n",
    "    def _generator():\n",
    "        alpha = yield Root(\n",
    "            tfd.Sample(tfd.Normal(loc=0.0, scale=0.2, name=\"alpha\"), sample_shape=1)\n",
    "        )\n",
    "        betaN = yield Root(\n",
    "            tfd.Sample(tfd.Normal(loc=0.0, scale=0.5, name=\"betaN\"), sample_shape=1)\n",
    "        )\n",
    "        sigma = yield Root(\n",
    "            tfd.Sample(tfd.Exponential(rate=1.0, name=\"sigma\"), sample_shape=1)\n",
    "        )\n",
    "\n",
    "        mu = alpha + betaN * neocortex_percent_std\n",
    "\n",
    "        K = yield tfd.Independent(\n",
    "            tfd.Normal(loc=mu, scale=sigma, name=\"K\"), reinterpreted_batch_ndims=1\n",
    "        )\n",
    "\n",
    "    return tfd.JointDistributionCoroutine(_generator, validate_args=True)\n",
    "\n",
    "\n",
    "jdc_5_5 = model_5_5(tdcc.N)\n",
    "\n",
    "posterior_5_5, trace_5_5 = sample_posterior(\n",
    "    jdc_5_5, observed_data=(tdcc.K,), params=[\"alpha\", \"betaN\", \"sigma\"]\n",
    ")\n"
   ]
  },
  {
   "cell_type": "markdown",
   "metadata": {},
   "source": [
    "##### Code 5.35"
   ]
  },
  {
   "cell_type": "code",
   "execution_count": null,
   "metadata": {},
   "outputs": [],
   "source": [
    "az.summary(trace_5_5, round_to=2, kind=\"stats\", hdi_prob=0.89)\n"
   ]
  },
  {
   "cell_type": "markdown",
   "metadata": {},
   "source": [
    "##### Code 5.36"
   ]
  },
  {
   "cell_type": "code",
   "execution_count": null,
   "metadata": {},
   "outputs": [],
   "source": [
    "xseq = tf.linspace(start=dcc.N.min() - 0.15, stop=dcc.N.max() + 0.15, num=30)\n",
    "xseq = tf.cast(xseq, dtype=tf.float32)\n",
    "\n",
    "sample_alpha = posterior_5_5[\"alpha\"][0]\n",
    "sample_betaN = posterior_5_5[\"betaN\"][0]\n",
    "sample_sigma = posterior_5_5[\"sigma\"][0]\n",
    "\n",
    "jdc_5_5_test = model_5_5(xseq)\n",
    "\n",
    "ds, samples = jdc_5_5_test.sample_distributions(\n",
    "    value=[sample_alpha, sample_betaN, sample_sigma, None]\n",
    ")\n",
    "\n",
    "mu_pred = ds[-1].distribution.loc\n",
    "\n",
    "# summarize samples across cases\n",
    "mu_mean = tf.reduce_mean(mu_pred, 0)\n",
    "mu_PI = tfp.stats.percentile(mu_pred, q=(5.5, 94.5), axis=0)\n",
    "\n",
    "az.plot_pair(dcc[[\"N\", \"K\"]].to_dict(orient=\"list\"))\n",
    "plt.plot(xseq, mu_mean, \"k\")\n",
    "plt.fill_between(xseq, mu_PI[0], mu_PI[1], color=\"k\", alpha=0.2);\n"
   ]
  },
  {
   "cell_type": "markdown",
   "metadata": {},
   "source": [
    "Above plot displays weak association when using simple bivariate regression"
   ]
  },
  {
   "cell_type": "markdown",
   "metadata": {},
   "source": [
    "##### Code 5.37\n",
    "\n",
    "We now consider another predictor variable; the adult female body mass"
   ]
  },
  {
   "cell_type": "code",
   "execution_count": null,
   "metadata": {},
   "outputs": [],
   "source": [
    "def model_5_6(female_body_mass):\n",
    "    def _generator():\n",
    "        alpha = yield Root(\n",
    "            tfd.Sample(tfd.Normal(loc=0.0, scale=0.2, name=\"alpha\"), sample_shape=1)\n",
    "        )\n",
    "        betaM = yield Root(\n",
    "            tfd.Sample(tfd.Normal(loc=0.0, scale=0.5, name=\"betaM\"), sample_shape=1)\n",
    "        )\n",
    "        sigma = yield Root(\n",
    "            tfd.Sample(tfd.Exponential(rate=1.0, name=\"sigma\"), sample_shape=1)\n",
    "        )\n",
    "\n",
    "        mu = alpha + betaM * female_body_mass\n",
    "\n",
    "        K = yield tfd.Independent(\n",
    "            tfd.Normal(loc=mu, scale=sigma, name=\"K\"), reinterpreted_batch_ndims=1\n",
    "        )\n",
    "\n",
    "    return tfd.JointDistributionCoroutine(_generator, validate_args=True)\n",
    "\n",
    "\n",
    "jdc_5_6 = model_5_6(tdcc.M)\n",
    "\n",
    "posterior_5_6, trace_5_6 = sample_posterior(\n",
    "    jdc_5_6, observed_data=(tdcc.K,), params=[\"alpha\", \"betaM\", \"sigma\"]\n",
    ")\n",
    "\n",
    "az.summary(trace_5_6, round_to=2, kind=\"stats\", hdi_prob=0.89)\n"
   ]
  },
  {
   "cell_type": "markdown",
   "metadata": {},
   "source": [
    "Log-mass is negatively correlated with KCal. The influence is stronger than that of neocortex percent but it is in the opposite direction."
   ]
  },
  {
   "cell_type": "markdown",
   "metadata": {},
   "source": [
    "##### Code 5.38\n",
    "\n",
    "Now let's see what happens when we add both the predictor variables to the model"
   ]
  },
  {
   "cell_type": "code",
   "execution_count": null,
   "metadata": {},
   "outputs": [],
   "source": [
    "def model_5_7(neocortex_percent_std, female_body_mass):\n",
    "    def _generator():\n",
    "        alpha = yield Root(\n",
    "            tfd.Sample(tfd.Normal(loc=0.0, scale=0.2, name=\"alpha\"), sample_shape=1)\n",
    "        )\n",
    "        betaN = yield Root(\n",
    "            tfd.Sample(tfd.Normal(loc=0.0, scale=0.5, name=\"betaN\"), sample_shape=1)\n",
    "        )\n",
    "        betaM = yield Root(\n",
    "            tfd.Sample(tfd.Normal(loc=0.0, scale=0.5, name=\"betaM\"), sample_shape=1)\n",
    "        )\n",
    "        sigma = yield Root(\n",
    "            tfd.Sample(tfd.Exponential(rate=1.0, name=\"sigma\"), sample_shape=1)\n",
    "        )\n",
    "\n",
    "        mu = alpha + betaN * neocortex_percent_std + betaM * female_body_mass\n",
    "\n",
    "        K = yield tfd.Independent(\n",
    "            tfd.Normal(loc=mu, scale=sigma, name=\"K\"), reinterpreted_batch_ndims=1\n",
    "        )\n",
    "\n",
    "    return tfd.JointDistributionCoroutine(_generator, validate_args=True)\n",
    "\n",
    "\n",
    "jdc_5_7 = model_5_7(tdcc.N, tdcc.M)\n",
    "\n",
    "posterior_5_7, trace_5_7 = sample_posterior(\n",
    "    jdc_5_7, observed_data=(tdcc.K,), params=[\"alpha\", \"betaN\", \"betaM\", \"sigma\"]\n",
    ")\n",
    "\n",
    "az.summary(trace_5_7, round_to=2, kind=\"stats\", hdi_prob=0.89)\n"
   ]
  },
  {
   "cell_type": "markdown",
   "metadata": {},
   "source": [
    "By including both predictor variables in the regression, the posterior assocition of both with the outcome has increased."
   ]
  },
  {
   "cell_type": "markdown",
   "metadata": {},
   "source": [
    "##### Code 5.39"
   ]
  },
  {
   "cell_type": "code",
   "execution_count": null,
   "metadata": {},
   "outputs": [],
   "source": [
    "coeftab = {\"m5.5\": trace_5_5, \"m5.6\": trace_5_6, \"m5.7\": trace_5_7}\n",
    "\n",
    "az.plot_forest(\n",
    "    list(coeftab.values()),\n",
    "    model_names=list(coeftab.keys()),\n",
    "    combined=True,\n",
    "    var_names=[\"betaM\", \"betaN\"],\n",
    "    hdi_prob=0.89,\n",
    ");\n"
   ]
  },
  {
   "cell_type": "markdown",
   "metadata": {},
   "source": [
    "##### Code 5.40\n",
    "\n",
    "Counterfactual plot when setting N to zero and using M as the predictor variable "
   ]
  },
  {
   "cell_type": "code",
   "execution_count": null,
   "metadata": {},
   "outputs": [],
   "source": [
    "xseq = tf.linspace(start=dcc.M.min() - 0.15, stop=dcc.M.max() + 0.15, num=30)\n",
    "xseq = tf.cast(xseq, dtype=tf.float32)\n",
    "\n",
    "sample_alpha = posterior_5_7[\"alpha\"][0]\n",
    "sample_betaN = posterior_5_7[\"betaN\"][0]\n",
    "sample_betaM = posterior_5_7[\"betaN\"][0]\n",
    "sample_sigma = posterior_5_7[\"sigma\"][0]\n",
    "\n",
    "mu_pred = tf.transpose(\n",
    "    tf.squeeze(tf.vectorized_map(lambda x: sample_alpha + sample_betaN * x, xseq))\n",
    ")\n",
    "\n",
    "# summarize samples across cases\n",
    "mu_mean = tf.reduce_mean(mu_pred, 0)\n",
    "mu_PI = tfp.stats.percentile(mu_pred, q=(5.5, 94.5), axis=0)\n",
    "\n",
    "plt.subplot(xlim=(dcc.M.min(), dcc.M.max()), ylim=(dcc.K.min(), dcc.K.max()))\n",
    "plt.plot(xseq, mu_mean, \"k\")\n",
    "plt.fill_between(xseq, mu_PI[0], mu_PI[1], color=\"k\", alpha=0.2);\n"
   ]
  },
  {
   "cell_type": "markdown",
   "metadata": {},
   "source": [
    "##### Code 5.41"
   ]
  },
  {
   "cell_type": "code",
   "execution_count": null,
   "metadata": {},
   "outputs": [],
   "source": [
    "# M -> K <- N\n",
    "# M -> N\n",
    "n = 100\n",
    "M = tfd.Normal(loc=0.0, scale=1.0).sample((n,))\n",
    "N = tfd.Normal(loc=M, scale=1.0).sample()\n",
    "K = tfd.Normal(loc=N - M, scale=1.0).sample()\n",
    "\n",
    "d_sim = pd.DataFrame({\"K\": K, \"N\": N, \"M\": M})\n",
    "\n",
    "d_sim\n"
   ]
  },
  {
   "cell_type": "markdown",
   "metadata": {},
   "source": [
    "##### Code 5.42"
   ]
  },
  {
   "cell_type": "code",
   "execution_count": null,
   "metadata": {},
   "outputs": [],
   "source": [
    "# M -> K <- N\n",
    "# N -> M\n",
    "n = 100\n",
    "N = tfd.Normal(loc=0.0, scale=1.0).sample((n,))\n",
    "M = tfd.Normal(loc=N, scale=1.0).sample()\n",
    "K = tfd.Normal(loc=N - M, scale=1.0).sample()\n",
    "\n",
    "d_sim2 = pd.DataFrame({\"K\": K, \"N\": N, \"M\": M})\n",
    "\n",
    "# M -> K <- N\n",
    "# M <- U -> N\n",
    "n = 100\n",
    "N = tfd.Normal(loc=0.0, scale=1.0).sample((n,))\n",
    "M = tfd.Normal(loc=M, scale=1.0).sample()\n",
    "K = tfd.Normal(loc=N - M, scale=1.0).sample()\n",
    "\n",
    "d_sim3 = pd.DataFrame({\"K\": K, \"N\": N, \"M\": M})\n"
   ]
  },
  {
   "cell_type": "markdown",
   "metadata": {},
   "source": [
    "##### Code 5.43 \n",
    "\n",
    "The book uses `dagitty` an R package that can draw the DAG as well generate the equivalentDAGs given a DAG as input\n",
    "\n",
    "At this point I do not have the corresponding function in python so I am manually specifying the equivalent DAGs (after seeing the result in RStudio as the book does not display the equivalentDAGs either)"
   ]
  },
  {
   "cell_type": "code",
   "execution_count": null,
   "metadata": {},
   "outputs": [],
   "source": [
    "coordinates = {\"M\": (0, 0.5), \"K\": (1, 1), \"N\": (2, 0.5)}\n",
    "node_names = [\"M\", \"K\", \"N\"]\n",
    "\n",
    "equivalent_dags = [\n",
    "    [(\"M\", \"K\"), (\"N\", \"K\"), (\"M\", \"N\")],\n",
    "    [(\"M\", \"K\"), (\"K\", \"N\"), (\"M\", \"N\")],\n",
    "    [(\"M\", \"K\"), (\"N\", \"K\"), (\"N\", \"M\")],\n",
    "    [(\"K\", \"M\"), (\"K\", \"N\"), (\"M\", \"N\")],\n",
    "    [(\"K\", \"M\"), (\"N\", \"K\"), (\"N\", \"M\")],\n",
    "    [(\"K\", \"M\"), (\"K\", \"N\"), (\"N\", \"M\")],\n",
    "]\n",
    "\n",
    "for e in equivalent_dags:\n",
    "    dag = CausalGraphicalModel(nodes=node_names, edges=e)\n",
    "    pgm = daft.PGM()\n",
    "    for node in dag.dag.nodes:\n",
    "        pgm.add_node(node, node, *coordinates[node])\n",
    "    for edge in dag.dag.edges:\n",
    "        pgm.add_edge(*edge)\n",
    "\n",
    "    pgm.render()\n",
    "    plt.gca().invert_yaxis()\n"
   ]
  },
  {
   "cell_type": "markdown",
   "metadata": {},
   "source": [
    "##### Code 5.44\n",
    "\n",
    "This section discusses Categorical Variables i.e. Discrete & Unordered variables.\n",
    "\n",
    "We will again use HOWELL dataset here. In previous chapter, we had taken into consider *sex* variable and here we will model it as a categorical variable.\n",
    "\n",
    "To start with let's load the dataset"
   ]
  },
  {
   "cell_type": "code",
   "execution_count": null,
   "metadata": {},
   "outputs": [],
   "source": [
    "d = RethinkingDataset.Howell1.get_dataset()\n",
    "d.info()\n",
    "d.head()\n"
   ]
  },
  {
   "cell_type": "markdown",
   "metadata": {},
   "source": [
    "## 5.3 Categorical variables"
   ]
  },
  {
   "cell_type": "markdown",
   "metadata": {},
   "source": [
    "##### Code 5.45\n",
    "\n",
    "\n",
    "Here we are considering following model\n",
    "\n",
    "$h_i \\sim Normal(\\mu_i,\\sigma)$    \n",
    "\n",
    "$\\mu_i = \\alpha + \\beta_mm_i$   \n",
    "\n",
    "$\\alpha \\sim Normal(178,20)$       \n",
    "\n",
    "$\\beta_m \\sim Normal(0,10)$          \n",
    "\n",
    "$\\sigma \\sim Exponential(1)$ \n",
    "\n",
    "\n",
    "*m* here is a categorical value and is 1 when we are dealing with males. This means that $\\alpha$ is used\n",
    "to predict both female and male heights.\n",
    "\n",
    "But if we have a male then the height gets an extra $\\beta_m$. This also means that $\\alpha$ does not represent the average of all samples but rather the average of female height.\n"
   ]
  },
  {
   "cell_type": "code",
   "execution_count": null,
   "metadata": {},
   "outputs": [],
   "source": [
    "mu_female = tfd.Normal(loc=178.0, scale=20.0).sample((int(1e4),))\n",
    "\n",
    "diff = tfd.Normal(loc=0.0, scale=10.0).sample((int(1e4),))\n",
    "\n",
    "mu_male = tfd.Normal(loc=178.0, scale=20.0).sample((int(1e4),)) + diff\n",
    "\n",
    "sample_dict = {\"mu_female\": mu_female.numpy(), \"mu_male\": mu_male.numpy()}\n",
    "\n",
    "az.summary(az.from_dict(sample_dict), round_to=2, kind=\"stats\", hdi_prob=0.89)\n"
   ]
  },
  {
   "cell_type": "markdown",
   "metadata": {},
   "source": [
    "The prior for male is wider (see std column). This is because it uses both the parameters.\n",
    "\n",
    "Author explains that this makes assigning sensible priors harder. As show above, one of the category would have more uncertainity in the prediction as two priors are involved.\n",
    "\n"
   ]
  },
  {
   "cell_type": "markdown",
   "metadata": {},
   "source": [
    "##### Code 5.46\n",
    "\n",
    "Another approach is to use **INDEX VARIABLE**"
   ]
  },
  {
   "cell_type": "code",
   "execution_count": null,
   "metadata": {},
   "outputs": [],
   "source": [
    "d[\"sex\"] = np.where(d.male.values == 1, 1, 0)\n",
    "d.sex\n"
   ]
  },
  {
   "cell_type": "markdown",
   "metadata": {},
   "source": [
    "##### Code 5.47"
   ]
  },
  {
   "cell_type": "code",
   "execution_count": null,
   "metadata": {},
   "outputs": [],
   "source": [
    "tdf = dataframe_to_tensors(\"Howell1\", d, {\"height\": tf.float32, \"sex\": tf.int32})\n",
    "\n",
    "\n",
    "def model_5_8(sex):\n",
    "    def _generator():\n",
    "        alpha = yield Root(\n",
    "            tfd.Sample(\n",
    "                tfd.Normal(loc=178.0, scale=20.0, name=\"alpha\"), sample_shape=(2,)\n",
    "            )\n",
    "        )\n",
    "        sigma = yield Root(\n",
    "            tfd.Sample(tfd.Uniform(low=0.0, high=50.0, name=\"sigma\"), sample_shape=1)\n",
    "        )\n",
    "\n",
    "        # took long time to figure this out\n",
    "        mu = tf.transpose(tf.gather(tf.transpose(alpha), sex))\n",
    "\n",
    "        height = yield tfd.Independent(\n",
    "            tfd.Normal(loc=mu, scale=sigma, name=\"height\"), reinterpreted_batch_ndims=1\n",
    "        )\n",
    "\n",
    "    return tfd.JointDistributionCoroutine(_generator, validate_args=True)\n",
    "\n",
    "\n",
    "jdc_5_8 = model_5_8(tdf.sex)\n",
    "\n",
    "posterior_5_8, trace_5_8 = sample_posterior(\n",
    "    jdc_5_8, observed_data=(tdf.height,), params=[\"alpha\", \"sigma\"]\n",
    ")\n",
    "\n",
    "# now here is the special thing we have to do here\n",
    "# alpha is actually a vector so for az_trace to display\n",
    "# it properly I would have to extract it properly\n",
    "female_alpha, male_alpha = tf.split(posterior_5_8[\"alpha\"][0], 2, axis=1)\n",
    "\n",
    "# reformatted\n",
    "posterior_5_8_new = {\n",
    "    \"female_alpha\": female_alpha.numpy(),\n",
    "    \"male_alpha\": male_alpha.numpy(),\n",
    "    \"sigma\": posterior_5_8[\"sigma\"][0],\n",
    "}\n",
    "\n",
    "az.summary(az.from_dict(posterior_5_8_new), round_to=2, kind=\"stats\", hdi_prob=0.89)\n"
   ]
  },
  {
   "cell_type": "markdown",
   "metadata": {},
   "source": [
    "##### Code 5.48\n",
    "\n",
    "What is the expected difference between females and males ?\n",
    "\n",
    "We can use the samples from the posterior to compute this."
   ]
  },
  {
   "cell_type": "code",
   "execution_count": null,
   "metadata": {},
   "outputs": [],
   "source": [
    "posterior_5_8_new.update({\"diff_fm\": female_alpha.numpy() - male_alpha.numpy()})\n",
    "\n",
    "az.summary(az.from_dict(posterior_5_8_new), round_to=2, kind=\"stats\", hdi_prob=0.89)\n"
   ]
  },
  {
   "cell_type": "markdown",
   "metadata": {},
   "source": [
    "Note that the above computation (i.e. diff) appeared in the arviz summary. This kind of calculation is called a **CONTRAST**. "
   ]
  },
  {
   "cell_type": "markdown",
   "metadata": {},
   "source": [
    "##### Code 5.49\n",
    "\n",
    "\n",
    "We explore the mile dataset again. We are now interested in `clade` variable which encodes the broad taxonomic membership of each species\n"
   ]
  },
  {
   "cell_type": "code",
   "execution_count": null,
   "metadata": {},
   "outputs": [],
   "source": [
    "d = RethinkingDataset.Milk.get_dataset()\n",
    "d.clade.unique()\n"
   ]
  },
  {
   "cell_type": "markdown",
   "metadata": {},
   "source": [
    "##### Code 5.50"
   ]
  },
  {
   "cell_type": "code",
   "execution_count": null,
   "metadata": {},
   "outputs": [],
   "source": [
    "d[\"clade_id\"] = d.clade.astype(\"category\").cat.codes\n",
    "\n",
    "d[\"clade_id\"]\n"
   ]
  },
  {
   "cell_type": "code",
   "execution_count": null,
   "metadata": {},
   "outputs": [],
   "source": [
    "d.clade\n"
   ]
  },
  {
   "cell_type": "markdown",
   "metadata": {},
   "source": [
    "Based on above it seems that pandas is first sorting the categories by name and then assigning the number. So,\n",
    "\n",
    "* Ape = 0\n",
    "* New World Monkey = 1\n",
    "* Old World Monkey = 2\n",
    "* Strepsirrhine    = 3\n"
   ]
  },
  {
   "cell_type": "markdown",
   "metadata": {},
   "source": [
    "##### Code 5.51\n",
    "\n",
    "We will now model again using the index variables"
   ]
  },
  {
   "cell_type": "code",
   "execution_count": null,
   "metadata": {},
   "outputs": [],
   "source": [
    "d[\"K\"] = d[\"kcal.per.g\"].pipe(lambda x: (x - x.mean()) / x.std())\n",
    "\n",
    "tdf = dataframe_to_tensors(\"Milk\", d, {\"K\": tf.float32, \"clade_id\": tf.int64})\n",
    "\n",
    "CLADE_ID_LEN = len(set(d.clade_id.values))\n",
    "\n",
    "\n",
    "def model_5_9(clade_id):\n",
    "    def _generator():\n",
    "        alpha = yield Root(\n",
    "            tfd.Sample(\n",
    "                tfd.Normal(loc=0.0, scale=0.5, name=\"alpha\"),\n",
    "                sample_shape=(CLADE_ID_LEN,),\n",
    "            )\n",
    "        )\n",
    "        sigma = yield Root(\n",
    "            tfd.Sample(tfd.Exponential(rate=1.0, name=\"sigma\"), sample_shape=1)\n",
    "        )\n",
    "\n",
    "        mu = tf.transpose(\n",
    "            tf.gather(tf.transpose(alpha), tf.cast(clade_id, dtype=tf.int64))\n",
    "        )\n",
    "\n",
    "        K = yield tfd.Independent(\n",
    "            tfd.Normal(loc=mu, scale=sigma, name=\"K\"), reinterpreted_batch_ndims=1\n",
    "        )\n",
    "\n",
    "    return tfd.JointDistributionCoroutine(_generator, validate_args=True)\n",
    "\n",
    "\n",
    "jdc_5_9 = model_5_9(tdf.clade_id)\n",
    "\n",
    "posterior_5_9, trace_5_9 = sample_posterior(\n",
    "    jdc_5_9, observed_data=(tdf.K,), params=[\"alpha\", \"sigma\"]\n",
    ")\n",
    "\n",
    "# now here is the special thing we have to do here\n",
    "# alpha is actually a vector so for az_trace to display\n",
    "# it properly I would have to extract it properly\n",
    "ape_alpha, nwm_alpha, owm_alpha, strep_alpha = tf.split(\n",
    "    posterior_5_9[\"alpha\"][0], 4, axis=1\n",
    ")\n",
    "\n",
    "# reformatted\n",
    "updated_posterior_5_9 = {\n",
    "    \"ape_alpha\": ape_alpha.numpy(),\n",
    "    \"nwm_alpha\": nwm_alpha.numpy(),\n",
    "    \"owm_alpha\": owm_alpha.numpy(),\n",
    "    \"strep_alpha\": strep_alpha.numpy(),\n",
    "    \"sigma\": posterior_5_9[\"sigma\"][0],\n",
    "}\n",
    "\n",
    "az.summary(az.from_dict(updated_posterior_5_9), round_to=2, kind=\"stats\", hdi_prob=0.89)\n"
   ]
  },
  {
   "cell_type": "code",
   "execution_count": null,
   "metadata": {},
   "outputs": [],
   "source": [
    "labels = [\"a[\" + str(i) + \"]:\" + s for i, s in enumerate(sorted(d.clade.unique()))]\n",
    "az.plot_forest({\"a\": trace_5_9.posterior[\"alpha\"].values[0][None, ...]}, hdi_prob=0.89)\n",
    "plt.gca().set(yticklabels=labels[::-1], xlabel=\"expected kcal (std)\");\n"
   ]
  },
  {
   "cell_type": "markdown",
   "metadata": {},
   "source": [
    "##### Code 5.52"
   ]
  },
  {
   "cell_type": "code",
   "execution_count": null,
   "metadata": {},
   "outputs": [],
   "source": [
    "np.random.seed(63)\n",
    "d[\"house\"] = np.random.choice(np.repeat(np.arange(4), 8), d.shape[0], False)\n"
   ]
  },
  {
   "cell_type": "code",
   "execution_count": null,
   "metadata": {},
   "outputs": [],
   "source": [
    "d.house\n"
   ]
  },
  {
   "cell_type": "markdown",
   "metadata": {},
   "source": [
    "##### Code 5.53"
   ]
  },
  {
   "cell_type": "code",
   "execution_count": null,
   "metadata": {},
   "outputs": [],
   "source": [
    "tdf = dataframe_to_tensors(\n",
    "    \"Milk\", d, {\"K\": tf.float32, \"clade_id\": tf.int32, \"house\": tf.int32}\n",
    ")\n",
    "\n",
    "CLADE_ID_LEN = len(set(d.clade_id.values))\n",
    "HOUSE_ID_LEN = len(set(d.house.values))\n",
    "\n",
    "\n",
    "def model_5_10(clade_id, house_id):\n",
    "    def _generator():\n",
    "        alpha = yield Root(\n",
    "            tfd.Sample(\n",
    "                tfd.Normal(loc=0.0, scale=0.5, name=\"alpha\"),\n",
    "                sample_shape=(CLADE_ID_LEN,),\n",
    "            )\n",
    "        )\n",
    "        house = yield Root(\n",
    "            tfd.Sample(\n",
    "                tfd.Normal(loc=0.0, scale=0.5, name=\"house\"),\n",
    "                sample_shape=(HOUSE_ID_LEN,),\n",
    "            )\n",
    "        )\n",
    "        sigma = yield Root(\n",
    "            tfd.Sample(tfd.Exponential(rate=1.0, name=\"sigma\"), sample_shape=1)\n",
    "        )\n",
    "\n",
    "        mu = tf.transpose(\n",
    "            tf.gather(tf.transpose(alpha), tf.cast(clade_id, dtype=tf.int64))\n",
    "        ) + tf.transpose(tf.gather(tf.transpose(house), house_id))\n",
    "\n",
    "        K = yield tfd.Independent(\n",
    "            tfd.Normal(loc=mu, scale=sigma, name=\"K\"), reinterpreted_batch_ndims=1\n",
    "        )\n",
    "\n",
    "    return tfd.JointDistributionCoroutine(_generator, validate_args=True)\n",
    "\n",
    "\n",
    "jdc_5_10 = model_5_10(tdf.clade_id, tdf.house)\n",
    "\n",
    "posterior_5_10, trace_5_10 = sample_posterior(\n",
    "    jdc_5_10, observed_data=(tdf.K,), params=[\"alpha\", \"house\", \"sigma\"]\n",
    ")\n",
    "\n",
    "# now here is the special thing we have to do here\n",
    "# alpha is actually a vector so for az_trace to display\n",
    "# it properly I would have to extract it properly\n",
    "ape_alpha, nwm_alpha, owm_alpha, strep_alpha = tf.split(\n",
    "    posterior_5_10[\"alpha\"][0], 4, axis=1\n",
    ")\n",
    "house_0, house_1, house_2, house_3 = tf.split(posterior_5_10[\"house\"][0], 4, axis=1)\n",
    "\n",
    "# reformatted\n",
    "updated_posterior_5_10 = {\n",
    "    \"ape_alpha\": ape_alpha.numpy(),\n",
    "    \"nwm_alpha\": nwm_alpha.numpy(),\n",
    "    \"owm_alpha\": owm_alpha.numpy(),\n",
    "    \"strep_alpha\": strep_alpha.numpy(),\n",
    "    \"house_0\": house_0.numpy(),\n",
    "    \"house_1\": house_1.numpy(),\n",
    "    \"house_2\": house_2.numpy(),\n",
    "    \"house_3\": house_3.numpy(),\n",
    "    \"sigma\": posterior_5_10[\"sigma\"][0],\n",
    "}\n",
    "\n",
    "az.summary(\n",
    "    az.from_dict(updated_posterior_5_10), round_to=2, kind=\"stats\", hdi_prob=0.89\n",
    ")\n"
   ]
  }
 ],
 "metadata": {
  "kernelspec": {
   "display_name": "Python 3 (ipykernel)",
   "language": "python",
   "name": "python3"
  },
  "language_info": {
   "codemirror_mode": {
    "name": "ipython",
    "version": 3
   },
   "file_extension": ".py",
   "mimetype": "text/x-python",
   "name": "python",
   "nbconvert_exporter": "python",
   "pygments_lexer": "ipython3",
   "version": "3.11.9"
  },
  "toc": {
   "base_numbering": 1,
   "nav_menu": {},
   "number_sections": true,
   "sideBar": true,
   "skip_h1_title": false,
   "title_cell": "Table of Contents",
   "title_sidebar": "Contents",
   "toc_cell": false,
   "toc_position": {},
   "toc_section_display": true,
   "toc_window_display": false
  }
 },
 "nbformat": 4,
 "nbformat_minor": 4
}
