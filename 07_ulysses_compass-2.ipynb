{
 "cells": [
  {
   "cell_type": "markdown",
   "metadata": {},
   "source": [
    "[![Open In Colab](https://colab.research.google.com/assets/colab-badge.svg)](https://colab.research.google.com/github/ksachdeva/rethinking-tensorflow-probability/blob/master/notebooks/07_ulysses_compass.ipynb)"
   ]
  },
  {
   "cell_type": "markdown",
   "metadata": {},
   "source": [
    "# 7. Ulysses' Compass"
   ]
  },
  {
   "cell_type": "code",
   "execution_count": 1,
   "metadata": {},
   "outputs": [],
   "source": [
    "from io import StringIO\n",
    "import numpy as np\n",
    "import arviz as az\n",
    "import pandas as pd\n",
    "import xarray as xr\n",
    "import matplotlib.pyplot as plt\n",
    "from collections import namedtuple\n",
    "import statsmodels.formula.api as smf\n",
    "\n",
    "import random\n",
    "import jax\n",
    "import jax.numpy as jnp\n",
    "\n",
    "from tensorflow_probability.substrates import jax as tfp\n",
    "# import tensorflow_probability as tfp\n",
    "tfd = tfp.distributions\n",
    "tfb = tfp.bijectors\n",
    "\n",
    "from rethinking.data import RethinkingDataset\n",
    "\n",
    "plt.rcParams['figure.figsize'] = [6, 4]"
   ]
  },
  {
   "cell_type": "code",
   "execution_count": 2,
   "metadata": {},
   "outputs": [],
   "source": [
    "# global key generator for ch-07 notebook\n",
    "key = tfp.util.SeedStream(7, salt=\"ch-07\")"
   ]
  },
  {
   "cell_type": "markdown",
   "metadata": {},
   "source": [
    "## 7.1 The problem with parameters"
   ]
  },
  {
   "cell_type": "markdown",
   "metadata": {},
   "source": [
    "### 7.1.1 More parameters(almost) always improve fit"
   ]
  },
  {
   "cell_type": "markdown",
   "metadata": {},
   "source": [
    "##### Code 7.1\n",
    "\n",
    "\n",
    "Below is a dataset for average brain volumes and body masses for 7 hominin species"
   ]
  },
  {
   "cell_type": "code",
   "execution_count": 97,
   "metadata": {},
   "outputs": [
    {
     "data": {
      "text/html": [
       "<div>\n",
       "<style scoped>\n",
       "    .dataframe tbody tr th:only-of-type {\n",
       "        vertical-align: middle;\n",
       "    }\n",
       "\n",
       "    .dataframe tbody tr th {\n",
       "        vertical-align: top;\n",
       "    }\n",
       "\n",
       "    .dataframe thead th {\n",
       "        text-align: right;\n",
       "    }\n",
       "</style>\n",
       "<table border=\"1\" class=\"dataframe\">\n",
       "  <thead>\n",
       "    <tr style=\"text-align: right;\">\n",
       "      <th></th>\n",
       "      <th>species</th>\n",
       "      <th>brain</th>\n",
       "      <th>mass</th>\n",
       "    </tr>\n",
       "  </thead>\n",
       "  <tbody>\n",
       "    <tr>\n",
       "      <th>0</th>\n",
       "      <td>afarensis</td>\n",
       "      <td>438</td>\n",
       "      <td>37.0</td>\n",
       "    </tr>\n",
       "    <tr>\n",
       "      <th>1</th>\n",
       "      <td>africanus</td>\n",
       "      <td>452</td>\n",
       "      <td>35.5</td>\n",
       "    </tr>\n",
       "    <tr>\n",
       "      <th>2</th>\n",
       "      <td>habilis</td>\n",
       "      <td>612</td>\n",
       "      <td>34.5</td>\n",
       "    </tr>\n",
       "    <tr>\n",
       "      <th>3</th>\n",
       "      <td>boisei</td>\n",
       "      <td>521</td>\n",
       "      <td>41.5</td>\n",
       "    </tr>\n",
       "    <tr>\n",
       "      <th>4</th>\n",
       "      <td>rudolfensis</td>\n",
       "      <td>752</td>\n",
       "      <td>55.5</td>\n",
       "    </tr>\n",
       "    <tr>\n",
       "      <th>5</th>\n",
       "      <td>ergaster</td>\n",
       "      <td>871</td>\n",
       "      <td>61.0</td>\n",
       "    </tr>\n",
       "    <tr>\n",
       "      <th>6</th>\n",
       "      <td>sapiens</td>\n",
       "      <td>1350</td>\n",
       "      <td>53.5</td>\n",
       "    </tr>\n",
       "  </tbody>\n",
       "</table>\n",
       "</div>"
      ],
      "text/plain": [
       "       species  brain  mass\n",
       "0    afarensis    438  37.0\n",
       "1    africanus    452  35.5\n",
       "2      habilis    612  34.5\n",
       "3       boisei    521  41.5\n",
       "4  rudolfensis    752  55.5\n",
       "5     ergaster    871  61.0\n",
       "6      sapiens   1350  53.5"
      ]
     },
     "execution_count": 97,
     "metadata": {},
     "output_type": "execute_result"
    }
   ],
   "source": [
    "sppnames = [\n",
    "    \"afarensis\",\n",
    "    \"africanus\",\n",
    "    \"habilis\",\n",
    "    \"boisei\",\n",
    "    \"rudolfensis\",\n",
    "    \"ergaster\",\n",
    "    \"sapiens\",\n",
    "]\n",
    "brainvolcc = jnp.array([438, 452, 612, 521, 752, 871, 1350])\n",
    "masskg = jnp.array([37.0, 35.5, 34.5, 41.5, 55.5, 61.0, 53.5])\n",
    "d = pd.DataFrame({\"species\": sppnames, \"brain\": brainvolcc, \"mass\": masskg})\n",
    "d"
   ]
  },
  {
   "cell_type": "code",
   "execution_count": 4,
   "metadata": {},
   "outputs": [
    {
     "data": {
      "image/png": "[encoded data removed]",
      "text/plain": [
       "<Figure size 600x400 with 1 Axes>"
      ]
     },
     "metadata": {},
     "output_type": "display_data"
    }
   ],
   "source": [
    "# Reproducing the figure in the book (there is no code fragment for this in R in the book)\n",
    "plt.scatter(d.mass, d.brain, facecolors=\"none\", edgecolors=\"b\")\n",
    "plt.gca().set(\n",
    "    xlim=(30, 70), xlabel=\"body mass (kg)\", ylim=(400, 1400), ylabel=\"brain volume (cc)\"\n",
    ")\n",
    "\n",
    "for i in range(d.shape[0]):\n",
    "    plt.annotate(d.species[i], (d.mass[i], d.brain[i]))\n",
    "\n",
    "plt.tight_layout();"
   ]
  },
  {
   "cell_type": "markdown",
   "metadata": {},
   "source": [
    "##### Code 7.2\n",
    "\n",
    "\n",
    "Author talks about linear vs polynomial regression. He is of the opinion that most of the time polynomial regression is not a good idea (at least when used blindly). But why ?"
   ]
  },
  {
   "cell_type": "code",
   "execution_count": 98,
   "metadata": {},
   "outputs": [],
   "source": [
    "d[\"mass_std\"] = (d.mass - d.mass.mean()) / d.mass.std()\n",
    "d[\"brain_std\"] = d.brain / d.brain.max()"
   ]
  },
  {
   "cell_type": "markdown",
   "metadata": {},
   "source": [
    "Note - brain is not standardized as such because you can not have -ive brain"
   ]
  },
  {
   "cell_type": "markdown",
   "metadata": {},
   "source": [
    "##### Code 7.3\n",
    "\n",
    "Simplest model is the linear one and this is what we will start with"
   ]
  },
  {
   "cell_type": "code",
   "execution_count": 19,
   "metadata": {},
   "outputs": [],
   "source": [
    "def model_71(mass_std):\n",
    "    def _generator():\n",
    "        alpha = yield tfd.Normal(loc=0.5, scale=1.0, name=\"alpha\")\n",
    "        beta = yield tfd.Normal(loc=0.0, scale=10.0, name=\"beta\")\n",
    "        # sigma = yield tfd.LogNormal(loc=0.0, scale=1.0, name=\"sigma\")\n",
    "        log_sigma = yield tfd.Normal(loc=0.0, scale=1.0, name=\"log_sigma\")\n",
    "        mu = alpha + beta * mass_std\n",
    "        sigma = jnp.exp(log_sigma)\n",
    "        yield tfd.Normal(loc=mu, scale=sigma, name=\"brain_std\")\n",
    "\n",
    "    return tfd.JointDistributionCoroutineAutoBatched(_generator)"
   ]
  },
  {
   "cell_type": "code",
   "execution_count": 20,
   "metadata": {},
   "outputs": [],
   "source": [
    "jd_71 = model_71(d.mass_std.values)"
   ]
  },
  {
   "cell_type": "code",
   "execution_count": 21,
   "metadata": {},
   "outputs": [],
   "source": [
    "jd_71_pd = jd_71.experimental_pin(brain_std=d.brain_std.values)"
   ]
  },
  {
   "cell_type": "code",
   "execution_count": 22,
   "metadata": {},
   "outputs": [],
   "source": [
    "def target_log_prob_71(*states):\n",
    "    return jd_71_pd.unnormalized_log_prob(states)"
   ]
  },
  {
   "cell_type": "code",
   "execution_count": 23,
   "metadata": {},
   "outputs": [],
   "source": [
    "@jax.jit\n",
    "def sample_post_71(init_state, seed):\n",
    "    kernel = tfp.mcmc.NoUTurnSampler(target_log_prob_71, 1e-3)\n",
    "  \n",
    "    return tfp.mcmc.sample_chain(\n",
    "        num_results=1000,\n",
    "        current_state=init_state,\n",
    "        kernel=kernel,\n",
    "        num_burnin_steps=1000,\n",
    "        trace_fn=None, seed=seed)"
   ]
  },
  {
   "cell_type": "code",
   "execution_count": 24,
   "metadata": {},
   "outputs": [],
   "source": [
    "num_chains = 4\n",
    "init_state_71 = jd_71_pd.sample_unpinned(num_chains, seed=key())"
   ]
  },
  {
   "cell_type": "code",
   "execution_count": 12,
   "metadata": {},
   "outputs": [],
   "source": [
    "post_71 = sample_post_71(init_state_71, key())"
   ]
  },
  {
   "cell_type": "code",
   "execution_count": 13,
   "metadata": {},
   "outputs": [],
   "source": [
    "post_71_dict = {k: jnp.moveaxis(v, 0, 1) for k, v in post_71._asdict().items()}\n",
    "dict_71 = dict(posterior=post_71_dict)\n",
    "idata_71 = az.from_dict(**dict_71)"
   ]
  },
  {
   "cell_type": "code",
   "execution_count": 14,
   "metadata": {},
   "outputs": [
    {
     "data": {
      "text/html": [
       "<div>\n",
       "<style scoped>\n",
       "    .dataframe tbody tr th:only-of-type {\n",
       "        vertical-align: middle;\n",
       "    }\n",
       "\n",
       "    .dataframe tbody tr th {\n",
       "        vertical-align: top;\n",
       "    }\n",
       "\n",
       "    .dataframe thead th {\n",
       "        text-align: right;\n",
       "    }\n",
       "</style>\n",
       "<table border=\"1\" class=\"dataframe\">\n",
       "  <thead>\n",
       "    <tr style=\"text-align: right;\">\n",
       "      <th></th>\n",
       "      <th>mean</th>\n",
       "      <th>sd</th>\n",
       "      <th>hdi_3%</th>\n",
       "      <th>hdi_97%</th>\n",
       "      <th>mcse_mean</th>\n",
       "      <th>mcse_sd</th>\n",
       "      <th>ess_bulk</th>\n",
       "      <th>ess_tail</th>\n",
       "      <th>r_hat</th>\n",
       "    </tr>\n",
       "  </thead>\n",
       "  <tbody>\n",
       "    <tr>\n",
       "      <th>alpha</th>\n",
       "      <td>0.527</td>\n",
       "      <td>0.114</td>\n",
       "      <td>0.318</td>\n",
       "      <td>0.750</td>\n",
       "      <td>0.002</td>\n",
       "      <td>0.002</td>\n",
       "      <td>2906.0</td>\n",
       "      <td>1802.0</td>\n",
       "      <td>1.0</td>\n",
       "    </tr>\n",
       "    <tr>\n",
       "      <th>beta</th>\n",
       "      <td>0.166</td>\n",
       "      <td>0.126</td>\n",
       "      <td>-0.064</td>\n",
       "      <td>0.396</td>\n",
       "      <td>0.003</td>\n",
       "      <td>0.002</td>\n",
       "      <td>2711.0</td>\n",
       "      <td>1511.0</td>\n",
       "      <td>1.0</td>\n",
       "    </tr>\n",
       "    <tr>\n",
       "      <th>log_sigma</th>\n",
       "      <td>-1.370</td>\n",
       "      <td>0.392</td>\n",
       "      <td>-2.102</td>\n",
       "      <td>-0.661</td>\n",
       "      <td>0.017</td>\n",
       "      <td>0.012</td>\n",
       "      <td>525.0</td>\n",
       "      <td>838.0</td>\n",
       "      <td>1.0</td>\n",
       "    </tr>\n",
       "  </tbody>\n",
       "</table>\n",
       "</div>"
      ],
      "text/plain": [
       "            mean     sd  hdi_3%  hdi_97%  mcse_mean  mcse_sd  ess_bulk  \\\n",
       "alpha      0.527  0.114   0.318    0.750      0.002    0.002    2906.0   \n",
       "beta       0.166  0.126  -0.064    0.396      0.003    0.002    2711.0   \n",
       "log_sigma -1.370  0.392  -2.102   -0.661      0.017    0.012     525.0   \n",
       "\n",
       "           ess_tail  r_hat  \n",
       "alpha        1802.0    1.0  \n",
       "beta         1511.0    1.0  \n",
       "log_sigma     838.0    1.0  "
      ]
     },
     "execution_count": 14,
     "metadata": {},
     "output_type": "execute_result"
    }
   ],
   "source": [
    "az.summary(idata_71)"
   ]
  },
  {
   "cell_type": "markdown",
   "metadata": {},
   "source": [
    "#### Code 7.4\n",
    "\n",
    "OLS and Bayesian anti-essentialism. \n",
    "\n",
    "Use OLS for the above model. Author has used R's lm package so here we are using statsmodel (..sort of python counterpart to R's lm package) to do oridinary least square.\n",
    "\n",
    "The OLS from the non bayesian statistics is going to provide the point estimates (which would to some extent correspond to the mean (mu) if flat priors are used). "
   ]
  },
  {
   "cell_type": "markdown",
   "metadata": {},
   "source": [
    "Note - In the text book you would see\n",
    "\n",
    "```\n",
    "m7.1_OLS <- lm( brain_std ~ mass_std , data=d ) \n",
    "post <- extract.samples( m7.1_OLS )\n",
    "```\n",
    "\n",
    "extract.samples( m7.1_OLS ) is in the source file https://github.com/rmcelreath/rethinking/blob/master/R/map-quap-class.r\n",
    "\n",
    "Below I have replicated the code for extract.samples for (non-bayesian OLS) using statsmodel & tensorflow probabilty"
   ]
  },
  {
   "cell_type": "code",
   "execution_count": 15,
   "metadata": {},
   "outputs": [
    {
     "data": {
      "text/plain": [
       "(Intercept    0.528677\n",
       " mass_std     0.167118\n",
       " dtype: float64,\n",
       "               Intercept      mass_std\n",
       " Intercept  4.980017e-03  2.473601e-11\n",
       " mass_std   2.473601e-11  5.810020e-03)"
      ]
     },
     "execution_count": 15,
     "metadata": {},
     "output_type": "execute_result"
    }
   ],
   "source": [
    "# Use statsmodel OLS\n",
    "m_7_1_OLS = smf.ols(\"brain_std ~ mass_std\", data=d).fit()\n",
    "m_7_1_OLS.params, m_7_1_OLS.cov_params()"
   ]
  },
  {
   "cell_type": "code",
   "execution_count": 18,
   "metadata": {},
   "outputs": [],
   "source": [
    "mu = jnp.array(m_7_1_OLS.params)\n",
    "cov = jnp.array(m_7_1_OLS.cov_params())"
   ]
  },
  {
   "cell_type": "code",
   "execution_count": 19,
   "metadata": {},
   "outputs": [],
   "source": [
    "# we can build a multivariate normal distribution using the mu & cov obtained\n",
    "# from the non bayesian land\n",
    "mvn = tfd.MultivariateNormalFullCovariance(loc=mu, covariance_matrix=cov)\n",
    "posterior = mvn.sample(10000, seed=key())"
   ]
  },
  {
   "cell_type": "markdown",
   "metadata": {},
   "source": [
    "##### Code 7.5\n",
    "\n",
    "\n",
    "Variance explained or $R^2$ is defined as:\n",
    "\n",
    "$R^2$ = 1 - $\\frac{var(residuals)}{var(outcome)}$"
   ]
  },
  {
   "cell_type": "code",
   "execution_count": 86,
   "metadata": {},
   "outputs": [],
   "source": [
    "post_pred_71 = jd_71.sample(500, value=post_71, seed=key())._asdict()['brain_std']"
   ]
  },
  {
   "cell_type": "code",
   "execution_count": 87,
   "metadata": {},
   "outputs": [
    {
     "data": {
      "text/plain": [
       "(500, 1000, 4, 7)"
      ]
     },
     "execution_count": 87,
     "metadata": {},
     "output_type": "execute_result"
    }
   ],
   "source": [
    "# (sample, draw, chain, obs)\n",
    "post_pred_71.shape"
   ]
  },
  {
   "cell_type": "code",
   "execution_count": 91,
   "metadata": {},
   "outputs": [],
   "source": [
    "# mean through [sample, draw, chain]\n",
    "mu = post_pred_71.mean(axis=[0, 1, 2])"
   ]
  },
  {
   "cell_type": "code",
   "execution_count": 89,
   "metadata": {},
   "outputs": [],
   "source": [
    "r = mu - d.brain_std.values"
   ]
  },
  {
   "cell_type": "code",
   "execution_count": 90,
   "metadata": {},
   "outputs": [
    {
     "data": {
      "text/plain": [
       "Array(0.5227264, dtype=float32)"
      ]
     },
     "execution_count": 90,
     "metadata": {},
     "output_type": "execute_result"
    }
   ],
   "source": [
    "resid_var = jnp.var(r)\n",
    "outcome_var = jnp.var(d.brain_std.values)\n",
    "1 - (resid_var / outcome_var)"
   ]
  },
  {
   "cell_type": "markdown",
   "metadata": {},
   "source": [
    "##### fit sigma LogNormal directly"
   ]
  },
  {
   "cell_type": "code",
   "execution_count": 99,
   "metadata": {},
   "outputs": [],
   "source": [
    "def model_71(mass_std):\n",
    "    def _generator():\n",
    "        alpha = yield tfd.Normal(loc=0.5, scale=1.0, name=\"alpha\")\n",
    "        beta = yield tfd.Normal(loc=0.0, scale=10.0, name=\"beta\")\n",
    "        sigma = yield tfd.LogNormal(loc=0.0, scale=1.0, name=\"sigma\")\n",
    "        mu = alpha + beta * mass_std\n",
    "        yield tfd.Normal(loc=mu, scale=sigma, name=\"brain_std\")\n",
    "\n",
    "    return tfd.JointDistributionCoroutineAutoBatched(_generator)"
   ]
  },
  {
   "cell_type": "code",
   "execution_count": 100,
   "metadata": {},
   "outputs": [],
   "source": [
    "jd_71 = model_71(d.mass_std.values)"
   ]
  },
  {
   "cell_type": "code",
   "execution_count": 101,
   "metadata": {},
   "outputs": [],
   "source": [
    "jd_71_pd = jd_71.experimental_pin(brain_std=d.brain_std.values)"
   ]
  },
  {
   "cell_type": "code",
   "execution_count": 102,
   "metadata": {},
   "outputs": [],
   "source": [
    "def target_log_prob_71(*states):\n",
    "    return jd_71_pd.unnormalized_log_prob(states)"
   ]
  },
  {
   "cell_type": "code",
   "execution_count": 103,
   "metadata": {},
   "outputs": [],
   "source": [
    "# @jax.jit\n",
    "def sample_post_71(init_state, seed):\n",
    "    kernel = tfp.mcmc.NoUTurnSampler(target_log_prob_71, 1e-3)\n",
    "  \n",
    "    return tfp.mcmc.sample_chain(\n",
    "        num_results=1000,\n",
    "        current_state=init_state,\n",
    "        kernel=kernel,\n",
    "        num_burnin_steps=1000,\n",
    "        trace_fn=None, seed=seed)"
   ]
  },
  {
   "cell_type": "code",
   "execution_count": 104,
   "metadata": {},
   "outputs": [],
   "source": [
    "num_chains = 4\n",
    "init_state_71 = jd_71_pd.sample_unpinned(num_chains, seed=key())"
   ]
  },
  {
   "cell_type": "code",
   "execution_count": 105,
   "metadata": {},
   "outputs": [],
   "source": [
    "post_71 = sample_post_71(init_state_71, key())"
   ]
  },
  {
   "cell_type": "code",
   "execution_count": 106,
   "metadata": {},
   "outputs": [],
   "source": [
    "post_71_dict = {k: jnp.moveaxis(v, 0, 1) for k, v in post_71._asdict().items()}\n",
    "dict_71 = dict(posterior=post_71_dict)\n",
    "idata_71 = az.from_dict(**dict_71)"
   ]
  },
  {
   "cell_type": "code",
   "execution_count": 107,
   "metadata": {},
   "outputs": [
    {
     "data": {
      "text/html": [
       "<div>\n",
       "<style scoped>\n",
       "    .dataframe tbody tr th:only-of-type {\n",
       "        vertical-align: middle;\n",
       "    }\n",
       "\n",
       "    .dataframe tbody tr th {\n",
       "        vertical-align: top;\n",
       "    }\n",
       "\n",
       "    .dataframe thead th {\n",
       "        text-align: right;\n",
       "    }\n",
       "</style>\n",
       "<table border=\"1\" class=\"dataframe\">\n",
       "  <thead>\n",
       "    <tr style=\"text-align: right;\">\n",
       "      <th></th>\n",
       "      <th>mean</th>\n",
       "      <th>sd</th>\n",
       "      <th>hdi_3%</th>\n",
       "      <th>hdi_97%</th>\n",
       "      <th>mcse_mean</th>\n",
       "      <th>mcse_sd</th>\n",
       "      <th>ess_bulk</th>\n",
       "      <th>ess_tail</th>\n",
       "      <th>r_hat</th>\n",
       "    </tr>\n",
       "  </thead>\n",
       "  <tbody>\n",
       "    <tr>\n",
       "      <th>alpha</th>\n",
       "      <td>0.527</td>\n",
       "      <td>0.107</td>\n",
       "      <td>0.329</td>\n",
       "      <td>0.723</td>\n",
       "      <td>0.002</td>\n",
       "      <td>0.002</td>\n",
       "      <td>1963.0</td>\n",
       "      <td>1595.0</td>\n",
       "      <td>1.0</td>\n",
       "    </tr>\n",
       "    <tr>\n",
       "      <th>beta</th>\n",
       "      <td>0.167</td>\n",
       "      <td>0.118</td>\n",
       "      <td>-0.045</td>\n",
       "      <td>0.385</td>\n",
       "      <td>0.003</td>\n",
       "      <td>0.002</td>\n",
       "      <td>1540.0</td>\n",
       "      <td>1313.0</td>\n",
       "      <td>1.0</td>\n",
       "    </tr>\n",
       "    <tr>\n",
       "      <th>sigma</th>\n",
       "      <td>0.268</td>\n",
       "      <td>0.113</td>\n",
       "      <td>0.109</td>\n",
       "      <td>0.468</td>\n",
       "      <td>0.004</td>\n",
       "      <td>0.003</td>\n",
       "      <td>968.0</td>\n",
       "      <td>1107.0</td>\n",
       "      <td>1.0</td>\n",
       "    </tr>\n",
       "  </tbody>\n",
       "</table>\n",
       "</div>"
      ],
      "text/plain": [
       "        mean     sd  hdi_3%  hdi_97%  mcse_mean  mcse_sd  ess_bulk  ess_tail  \\\n",
       "alpha  0.527  0.107   0.329    0.723      0.002    0.002    1963.0    1595.0   \n",
       "beta   0.167  0.118  -0.045    0.385      0.003    0.002    1540.0    1313.0   \n",
       "sigma  0.268  0.113   0.109    0.468      0.004    0.003     968.0    1107.0   \n",
       "\n",
       "       r_hat  \n",
       "alpha    1.0  \n",
       "beta     1.0  \n",
       "sigma    1.0  "
      ]
     },
     "execution_count": 107,
     "metadata": {},
     "output_type": "execute_result"
    }
   ],
   "source": [
    "az.summary(idata_71)"
   ]
  },
  {
   "cell_type": "markdown",
   "metadata": {},
   "source": [
    "##### Code 7.7\n",
    "\n",
    "Building some more models to compare to m7.1\n",
    "\n",
    "This one is a poymomial of second degree"
   ]
  },
  {
   "cell_type": "code",
   "execution_count": 24,
   "metadata": {},
   "outputs": [],
   "source": [
    "def model_72(mass_std):\n",
    "    def _generator():\n",
    "        alpha = yield tfd.Normal(loc=0.5, scale=1.0, name=\"alpha\")\n",
    "        beta1 = yield tfd.Normal(loc=0.0, scale=10.0, name=\"beta1\")\n",
    "        beta2 = yield tfd.Normal(loc=0.0, scale=10.0, name=\"beta2\")\n",
    "        sigma = yield tfd.LogNormal(loc=0.0, scale=1.0, name=\"sigma\")\n",
    "        mu = alpha + beta1 * mass_std + beta2 * (mass_std**2)\n",
    "        yield tfd.Normal(loc=mu, scale=sigma, name=\"brain_std\")\n",
    "\n",
    "    return tfd.JointDistributionCoroutineAutoBatched(_generator)"
   ]
  },
  {
   "cell_type": "code",
   "execution_count": 25,
   "metadata": {},
   "outputs": [],
   "source": [
    "jd_72 = model_72(d.mass_std.values)"
   ]
  },
  {
   "cell_type": "code",
   "execution_count": 26,
   "metadata": {},
   "outputs": [],
   "source": [
    "jd_72_pd = jd_72.experimental_pin(brain_std=d.brain_std.values)"
   ]
  },
  {
   "cell_type": "code",
   "execution_count": 27,
   "metadata": {},
   "outputs": [],
   "source": [
    "def target_log_prob_72(*states):\n",
    "    return jd_72_pd.unnormalized_log_prob(states)"
   ]
  },
  {
   "cell_type": "code",
   "execution_count": 28,
   "metadata": {},
   "outputs": [],
   "source": [
    "@jax.jit\n",
    "def sample_post_72(init_state, seed):\n",
    "    kernel = tfp.mcmc.NoUTurnSampler(target_log_prob_72, 1e-3)\n",
    "  \n",
    "    return tfp.mcmc.sample_chain(\n",
    "        num_results=1000,\n",
    "        current_state=init_state,\n",
    "        kernel=kernel,\n",
    "        num_burnin_steps=1000,\n",
    "        trace_fn=None, seed=seed)"
   ]
  },
  {
   "cell_type": "code",
   "execution_count": 29,
   "metadata": {},
   "outputs": [],
   "source": [
    "num_chains = 4\n",
    "init_state_72 = jd_72_pd.sample_unpinned(num_chains, seed=key())"
   ]
  },
  {
   "cell_type": "code",
   "execution_count": 30,
   "metadata": {},
   "outputs": [],
   "source": [
    "post_72 = sample_post_72(init_state_72, key())"
   ]
  },
  {
   "cell_type": "code",
   "execution_count": 31,
   "metadata": {},
   "outputs": [],
   "source": [
    "post_72_dict = {k: jnp.moveaxis(v, 0, 1) for k, v in post_72._asdict().items()}\n",
    "dict_72 = dict(posterior=post_72_dict)\n",
    "idata_72 = az.from_dict(**dict_72)"
   ]
  },
  {
   "cell_type": "code",
   "execution_count": 32,
   "metadata": {},
   "outputs": [
    {
     "data": {
      "text/html": [
       "<div>\n",
       "<style scoped>\n",
       "    .dataframe tbody tr th:only-of-type {\n",
       "        vertical-align: middle;\n",
       "    }\n",
       "\n",
       "    .dataframe tbody tr th {\n",
       "        vertical-align: top;\n",
       "    }\n",
       "\n",
       "    .dataframe thead th {\n",
       "        text-align: right;\n",
       "    }\n",
       "</style>\n",
       "<table border=\"1\" class=\"dataframe\">\n",
       "  <thead>\n",
       "    <tr style=\"text-align: right;\">\n",
       "      <th></th>\n",
       "      <th>mean</th>\n",
       "      <th>sd</th>\n",
       "      <th>hdi_3%</th>\n",
       "      <th>hdi_97%</th>\n",
       "      <th>mcse_mean</th>\n",
       "      <th>mcse_sd</th>\n",
       "      <th>ess_bulk</th>\n",
       "      <th>ess_tail</th>\n",
       "      <th>r_hat</th>\n",
       "    </tr>\n",
       "  </thead>\n",
       "  <tbody>\n",
       "    <tr>\n",
       "      <th>alpha</th>\n",
       "      <td>0.615</td>\n",
       "      <td>0.243</td>\n",
       "      <td>0.192</td>\n",
       "      <td>1.090</td>\n",
       "      <td>0.009</td>\n",
       "      <td>0.007</td>\n",
       "      <td>710.0</td>\n",
       "      <td>616.0</td>\n",
       "      <td>1.01</td>\n",
       "    </tr>\n",
       "    <tr>\n",
       "      <th>beta1</th>\n",
       "      <td>0.197</td>\n",
       "      <td>0.155</td>\n",
       "      <td>-0.098</td>\n",
       "      <td>0.493</td>\n",
       "      <td>0.004</td>\n",
       "      <td>0.003</td>\n",
       "      <td>1339.0</td>\n",
       "      <td>1571.0</td>\n",
       "      <td>1.00</td>\n",
       "    </tr>\n",
       "    <tr>\n",
       "      <th>beta2</th>\n",
       "      <td>-0.096</td>\n",
       "      <td>0.256</td>\n",
       "      <td>-0.560</td>\n",
       "      <td>0.411</td>\n",
       "      <td>0.010</td>\n",
       "      <td>0.007</td>\n",
       "      <td>683.0</td>\n",
       "      <td>524.0</td>\n",
       "      <td>1.01</td>\n",
       "    </tr>\n",
       "    <tr>\n",
       "      <th>sigma</th>\n",
       "      <td>0.305</td>\n",
       "      <td>0.154</td>\n",
       "      <td>0.120</td>\n",
       "      <td>0.590</td>\n",
       "      <td>0.008</td>\n",
       "      <td>0.005</td>\n",
       "      <td>533.0</td>\n",
       "      <td>692.0</td>\n",
       "      <td>1.01</td>\n",
       "    </tr>\n",
       "  </tbody>\n",
       "</table>\n",
       "</div>"
      ],
      "text/plain": [
       "        mean     sd  hdi_3%  hdi_97%  mcse_mean  mcse_sd  ess_bulk  ess_tail  \\\n",
       "alpha  0.615  0.243   0.192    1.090      0.009    0.007     710.0     616.0   \n",
       "beta1  0.197  0.155  -0.098    0.493      0.004    0.003    1339.0    1571.0   \n",
       "beta2 -0.096  0.256  -0.560    0.411      0.010    0.007     683.0     524.0   \n",
       "sigma  0.305  0.154   0.120    0.590      0.008    0.005     533.0     692.0   \n",
       "\n",
       "       r_hat  \n",
       "alpha   1.01  \n",
       "beta1   1.00  \n",
       "beta2   1.01  \n",
       "sigma   1.01  "
      ]
     },
     "execution_count": 32,
     "metadata": {},
     "output_type": "execute_result"
    }
   ],
   "source": [
    "az.summary(idata_72)"
   ]
  },
  {
   "cell_type": "code",
   "execution_count": 33,
   "metadata": {},
   "outputs": [],
   "source": [
    "d['mass_std_2'] = d['mass_std'].pow(2)\n",
    "d['mass_std_3'] = d['mass_std'].pow(3)\n",
    "d['mass_std_4'] = d['mass_std'].pow(4)\n",
    "d['mass_std_5'] = d['mass_std'].pow(5)\n",
    "d['mass_std_6'] = d['mass_std'].pow(6)"
   ]
  },
  {
   "cell_type": "code",
   "execution_count": 35,
   "metadata": {},
   "outputs": [],
   "source": [
    "def gen_model(mass):\n",
    "    ncol = mass.shape[1]\n",
    "    def _generator():\n",
    "        alpha = yield tfd.Normal(loc=0.5, scale=1.0, name=\"alpha\")\n",
    "        beta = yield tfd.Sample(\n",
    "            tfd.Normal(loc=0.0, scale=10.0), sample_shape=ncol, name=\"beta\")\n",
    "        sigma = yield tfd.LogNormal(loc=0.0, scale=1.0, name=\"sigma\")\n",
    "        # match dims with output: (nobs,) not (1, nobs)\n",
    "        mu = alpha + jnp.matmul(beta, mass.T) \n",
    "        yield tfd.Normal(loc=mu, scale=sigma, name=\"brain_std\")\n",
    "\n",
    "    return tfd.JointDistributionCoroutineAutoBatched(_generator)"
   ]
  },
  {
   "cell_type": "code",
   "execution_count": 36,
   "metadata": {},
   "outputs": [],
   "source": [
    "mass_2 = d[['mass_std', 'mass_std_2']].to_numpy()"
   ]
  },
  {
   "cell_type": "code",
   "execution_count": 92,
   "metadata": {},
   "outputs": [],
   "source": [
    "jd_72 = gen_model(mass_2)"
   ]
  },
  {
   "cell_type": "code",
   "execution_count": 93,
   "metadata": {},
   "outputs": [],
   "source": [
    "jd_72_pd = jd_72.experimental_pin(brain_std=d.brain_std.values)"
   ]
  },
  {
   "cell_type": "code",
   "execution_count": 94,
   "metadata": {},
   "outputs": [],
   "source": [
    "def target_log_prob_72(*states):\n",
    "    return jd_72_pd.unnormalized_log_prob(states)"
   ]
  },
  {
   "cell_type": "code",
   "execution_count": 95,
   "metadata": {},
   "outputs": [],
   "source": [
    "@jax.jit\n",
    "def sample_post_72(init_state, seed):\n",
    "    kernel = tfp.mcmc.NoUTurnSampler(target_log_prob_72, 1e-3)\n",
    "  \n",
    "    return tfp.mcmc.sample_chain(\n",
    "        num_results=1000,\n",
    "        current_state=init_state,\n",
    "        kernel=kernel,\n",
    "        num_burnin_steps=1000,\n",
    "        trace_fn=None, seed=seed)"
   ]
  },
  {
   "cell_type": "code",
   "execution_count": 96,
   "metadata": {},
   "outputs": [],
   "source": [
    "num_chains = 4\n",
    "init_state_72 = jd_72_pd.sample_unpinned(num_chains, seed=key())"
   ]
  },
  {
   "cell_type": "code",
   "execution_count": 97,
   "metadata": {},
   "outputs": [],
   "source": [
    "post_72 = sample_post_72(init_state_72, key())"
   ]
  },
  {
   "cell_type": "code",
   "execution_count": 98,
   "metadata": {},
   "outputs": [],
   "source": [
    "post_72_dict = {k: jnp.moveaxis(v, 0, 1) for k, v in post_72._asdict().items()}\n",
    "dict_72 = dict(posterior=post_72_dict,\n",
    "               dims={\"beta\": [\"coef\"]},\n",
    "               coords={\"coef\": ['1', '2']})\n",
    "idata_72 = az.from_dict(**dict_72)"
   ]
  },
  {
   "cell_type": "code",
   "execution_count": 99,
   "metadata": {},
   "outputs": [
    {
     "data": {
      "text/html": [
       "<div>\n",
       "<style scoped>\n",
       "    .dataframe tbody tr th:only-of-type {\n",
       "        vertical-align: middle;\n",
       "    }\n",
       "\n",
       "    .dataframe tbody tr th {\n",
       "        vertical-align: top;\n",
       "    }\n",
       "\n",
       "    .dataframe thead th {\n",
       "        text-align: right;\n",
       "    }\n",
       "</style>\n",
       "<table border=\"1\" class=\"dataframe\">\n",
       "  <thead>\n",
       "    <tr style=\"text-align: right;\">\n",
       "      <th></th>\n",
       "      <th>mean</th>\n",
       "      <th>sd</th>\n",
       "      <th>hdi_3%</th>\n",
       "      <th>hdi_97%</th>\n",
       "      <th>mcse_mean</th>\n",
       "      <th>mcse_sd</th>\n",
       "      <th>ess_bulk</th>\n",
       "      <th>ess_tail</th>\n",
       "      <th>r_hat</th>\n",
       "    </tr>\n",
       "  </thead>\n",
       "  <tbody>\n",
       "    <tr>\n",
       "      <th>alpha</th>\n",
       "      <td>0.557</td>\n",
       "      <td>0.243</td>\n",
       "      <td>0.221</td>\n",
       "      <td>1.058</td>\n",
       "      <td>0.052</td>\n",
       "      <td>0.037</td>\n",
       "      <td>19.0</td>\n",
       "      <td>800.0</td>\n",
       "      <td>1.15</td>\n",
       "    </tr>\n",
       "    <tr>\n",
       "      <th>beta[1]</th>\n",
       "      <td>-2.013</td>\n",
       "      <td>3.830</td>\n",
       "      <td>-8.643</td>\n",
       "      <td>0.388</td>\n",
       "      <td>1.907</td>\n",
       "      <td>1.461</td>\n",
       "      <td>7.0</td>\n",
       "      <td>4.0</td>\n",
       "      <td>1.53</td>\n",
       "    </tr>\n",
       "    <tr>\n",
       "      <th>beta[2]</th>\n",
       "      <td>0.013</td>\n",
       "      <td>0.302</td>\n",
       "      <td>-0.512</td>\n",
       "      <td>0.372</td>\n",
       "      <td>0.105</td>\n",
       "      <td>0.077</td>\n",
       "      <td>10.0</td>\n",
       "      <td>703.0</td>\n",
       "      <td>1.34</td>\n",
       "    </tr>\n",
       "    <tr>\n",
       "      <th>sigma</th>\n",
       "      <td>0.249</td>\n",
       "      <td>0.150</td>\n",
       "      <td>0.098</td>\n",
       "      <td>0.499</td>\n",
       "      <td>0.043</td>\n",
       "      <td>0.031</td>\n",
       "      <td>7.0</td>\n",
       "      <td>4.0</td>\n",
       "      <td>1.52</td>\n",
       "    </tr>\n",
       "  </tbody>\n",
       "</table>\n",
       "</div>"
      ],
      "text/plain": [
       "          mean     sd  hdi_3%  hdi_97%  mcse_mean  mcse_sd  ess_bulk  \\\n",
       "alpha    0.557  0.243   0.221    1.058      0.052    0.037      19.0   \n",
       "beta[1] -2.013  3.830  -8.643    0.388      1.907    1.461       7.0   \n",
       "beta[2]  0.013  0.302  -0.512    0.372      0.105    0.077      10.0   \n",
       "sigma    0.249  0.150   0.098    0.499      0.043    0.031       7.0   \n",
       "\n",
       "         ess_tail  r_hat  \n",
       "alpha       800.0   1.15  \n",
       "beta[1]       4.0   1.53  \n",
       "beta[2]     703.0   1.34  \n",
       "sigma         4.0   1.52  "
      ]
     },
     "execution_count": 99,
     "metadata": {},
     "output_type": "execute_result"
    }
   ],
   "source": [
    "az.summary(idata_72)"
   ]
  },
  {
   "cell_type": "code",
   "execution_count": 46,
   "metadata": {},
   "outputs": [],
   "source": [
    "mass_3 = d[['mass_std', 'mass_std_2', 'mass_std_3']].to_numpy()"
   ]
  },
  {
   "cell_type": "code",
   "execution_count": 47,
   "metadata": {},
   "outputs": [],
   "source": [
    "jd_73 = gen_model(mass_3)"
   ]
  },
  {
   "cell_type": "code",
   "execution_count": 48,
   "metadata": {},
   "outputs": [],
   "source": [
    "jd_73_pd = jd_73.experimental_pin(brain_std=d.brain_std.values)"
   ]
  },
  {
   "cell_type": "code",
   "execution_count": 49,
   "metadata": {},
   "outputs": [],
   "source": [
    "def target_log_prob_73(*states):\n",
    "    return jd_73_pd.unnormalized_log_prob(states)"
   ]
  },
  {
   "cell_type": "code",
   "execution_count": 50,
   "metadata": {},
   "outputs": [],
   "source": [
    "@jax.jit\n",
    "def sample_post_73(init_state, seed):\n",
    "    kernel = tfp.mcmc.NoUTurnSampler(target_log_prob_73, 1e-3)\n",
    "  \n",
    "    return tfp.mcmc.sample_chain(\n",
    "        num_results=1000,\n",
    "        current_state=init_state,\n",
    "        kernel=kernel,\n",
    "        num_burnin_steps=1000,\n",
    "        trace_fn=None, seed=seed)"
   ]
  },
  {
   "cell_type": "code",
   "execution_count": 51,
   "metadata": {},
   "outputs": [],
   "source": [
    "num_chains = 4\n",
    "init_state_73 = jd_73_pd.sample_unpinned(num_chains, seed=key())"
   ]
  },
  {
   "cell_type": "code",
   "execution_count": 52,
   "metadata": {},
   "outputs": [],
   "source": [
    "post_73 = sample_post_73(init_state_73, key())"
   ]
  },
  {
   "cell_type": "code",
   "execution_count": 53,
   "metadata": {},
   "outputs": [],
   "source": [
    "post_73_dict = {k: jnp.moveaxis(v, 0, 1) for k, v in post_73._asdict().items()}\n",
    "dict_73 = dict(posterior=post_73_dict,\n",
    "                 dims={\"beta\": [\"coef\"]},\n",
    "                 coords={\"coef\": ['1', '2', '3']})\n",
    "idata_73 = az.from_dict(**dict_73)"
   ]
  },
  {
   "cell_type": "code",
   "execution_count": 54,
   "metadata": {},
   "outputs": [
    {
     "data": {
      "text/html": [
       "<div>\n",
       "<style scoped>\n",
       "    .dataframe tbody tr th:only-of-type {\n",
       "        vertical-align: middle;\n",
       "    }\n",
       "\n",
       "    .dataframe tbody tr th {\n",
       "        vertical-align: top;\n",
       "    }\n",
       "\n",
       "    .dataframe thead th {\n",
       "        text-align: right;\n",
       "    }\n",
       "</style>\n",
       "<table border=\"1\" class=\"dataframe\">\n",
       "  <thead>\n",
       "    <tr style=\"text-align: right;\">\n",
       "      <th></th>\n",
       "      <th>mean</th>\n",
       "      <th>sd</th>\n",
       "      <th>hdi_3%</th>\n",
       "      <th>hdi_97%</th>\n",
       "      <th>mcse_mean</th>\n",
       "      <th>mcse_sd</th>\n",
       "      <th>ess_bulk</th>\n",
       "      <th>ess_tail</th>\n",
       "      <th>r_hat</th>\n",
       "    </tr>\n",
       "  </thead>\n",
       "  <tbody>\n",
       "    <tr>\n",
       "      <th>alpha</th>\n",
       "      <td>0.528</td>\n",
       "      <td>0.287</td>\n",
       "      <td>0.017</td>\n",
       "      <td>1.096</td>\n",
       "      <td>0.011</td>\n",
       "      <td>0.009</td>\n",
       "      <td>710.0</td>\n",
       "      <td>819.0</td>\n",
       "      <td>1.01</td>\n",
       "    </tr>\n",
       "    <tr>\n",
       "      <th>beta[1]</th>\n",
       "      <td>0.440</td>\n",
       "      <td>0.408</td>\n",
       "      <td>-0.267</td>\n",
       "      <td>1.286</td>\n",
       "      <td>0.020</td>\n",
       "      <td>0.017</td>\n",
       "      <td>563.0</td>\n",
       "      <td>461.0</td>\n",
       "      <td>1.01</td>\n",
       "    </tr>\n",
       "    <tr>\n",
       "      <th>beta[2]</th>\n",
       "      <td>0.071</td>\n",
       "      <td>0.363</td>\n",
       "      <td>-0.603</td>\n",
       "      <td>0.745</td>\n",
       "      <td>0.016</td>\n",
       "      <td>0.012</td>\n",
       "      <td>597.0</td>\n",
       "      <td>716.0</td>\n",
       "      <td>1.01</td>\n",
       "    </tr>\n",
       "    <tr>\n",
       "      <th>beta[3]</th>\n",
       "      <td>-0.246</td>\n",
       "      <td>0.363</td>\n",
       "      <td>-1.036</td>\n",
       "      <td>0.363</td>\n",
       "      <td>0.018</td>\n",
       "      <td>0.014</td>\n",
       "      <td>518.0</td>\n",
       "      <td>425.0</td>\n",
       "      <td>1.01</td>\n",
       "    </tr>\n",
       "    <tr>\n",
       "      <th>sigma</th>\n",
       "      <td>0.327</td>\n",
       "      <td>0.184</td>\n",
       "      <td>0.107</td>\n",
       "      <td>0.654</td>\n",
       "      <td>0.011</td>\n",
       "      <td>0.008</td>\n",
       "      <td>379.0</td>\n",
       "      <td>304.0</td>\n",
       "      <td>1.02</td>\n",
       "    </tr>\n",
       "  </tbody>\n",
       "</table>\n",
       "</div>"
      ],
      "text/plain": [
       "          mean     sd  hdi_3%  hdi_97%  mcse_mean  mcse_sd  ess_bulk  \\\n",
       "alpha    0.528  0.287   0.017    1.096      0.011    0.009     710.0   \n",
       "beta[1]  0.440  0.408  -0.267    1.286      0.020    0.017     563.0   \n",
       "beta[2]  0.071  0.363  -0.603    0.745      0.016    0.012     597.0   \n",
       "beta[3] -0.246  0.363  -1.036    0.363      0.018    0.014     518.0   \n",
       "sigma    0.327  0.184   0.107    0.654      0.011    0.008     379.0   \n",
       "\n",
       "         ess_tail  r_hat  \n",
       "alpha       819.0   1.01  \n",
       "beta[1]     461.0   1.01  \n",
       "beta[2]     716.0   1.01  \n",
       "beta[3]     425.0   1.01  \n",
       "sigma       304.0   1.02  "
      ]
     },
     "execution_count": 54,
     "metadata": {},
     "output_type": "execute_result"
    }
   ],
   "source": [
    "az.summary(idata_73)"
   ]
  },
  {
   "cell_type": "code",
   "execution_count": 160,
   "metadata": {},
   "outputs": [],
   "source": [
    "mass_new = pd.DataFrame({'mass_seq': np.linspace(d.mass_std.min(), d.mass_std.max(), num=100)})\n",
    "mass_new['mass_seq_2'] = mass_new['mass_seq'].pow(2)\n",
    "mass_new['mass_seq_3'] = mass_new['mass_seq'].pow(3)"
   ]
  },
  {
   "cell_type": "code",
   "execution_count": 161,
   "metadata": {},
   "outputs": [],
   "source": [
    "jd_73_new = gen_model(mass_new.to_numpy())"
   ]
  },
  {
   "cell_type": "code",
   "execution_count": 162,
   "metadata": {},
   "outputs": [],
   "source": [
    "post_pred_73_new = jd_73_new.sample(500, value=post_73, seed=key())[-1:]"
   ]
  },
  {
   "cell_type": "code",
   "execution_count": 163,
   "metadata": {},
   "outputs": [
    {
     "data": {
      "text/plain": [
       "(500, 1000, 4, 100)"
      ]
     },
     "execution_count": 163,
     "metadata": {},
     "output_type": "execute_result"
    }
   ],
   "source": [
    "# (sample, draw, chain, obs)\n",
    "post_pred_73_new[0].shape"
   ]
  },
  {
   "cell_type": "code",
   "execution_count": 164,
   "metadata": {},
   "outputs": [
    {
     "data": {
      "text/plain": [
       "(4, 1000, 100, 500)"
      ]
     },
     "execution_count": 164,
     "metadata": {},
     "output_type": "execute_result"
    }
   ],
   "source": [
    "post_pred_73_new_dict = {k: jnp.moveaxis(v, (0, 2), (-1, 0)) \\\n",
    "                         for k, v in post_pred_73_new._asdict().items()}\n",
    "# (chain, draw, obs, sample)\n",
    "post_pred_73_new_dict['brain_std'].shape"
   ]
  },
  {
   "cell_type": "code",
   "execution_count": 166,
   "metadata": {},
   "outputs": [],
   "source": [
    "mass_newx = xr.DataArray(mass_new.to_numpy(), dims=['obs', 'coef'])"
   ]
  },
  {
   "cell_type": "code",
   "execution_count": 168,
   "metadata": {},
   "outputs": [
    {
     "data": {
      "text/plain": [
       "Coordinates:\n",
       "  * chain    (chain) int64 32B 0 1 2 3\n",
       "  * draw     (draw) int64 8kB 0 1 2 3 4 5 6 7 ... 993 994 995 996 997 998 999\n",
       "  * coef     (coef) <U1 12B '1' '2' '3'"
      ]
     },
     "execution_count": 168,
     "metadata": {},
     "output_type": "execute_result"
    }
   ],
   "source": [
    "idata_73.posterior[\"beta\"].coords"
   ]
  },
  {
   "cell_type": "code",
   "execution_count": 169,
   "metadata": {},
   "outputs": [
    {
     "data": {
      "text/plain": [
       "(4, 1000, 100)"
      ]
     },
     "execution_count": 169,
     "metadata": {},
     "output_type": "execute_result"
    }
   ],
   "source": [
    "# calculate mu using idata\n",
    "# dot operation through dims both have. here 'coef'\n",
    "mu = idata_73.posterior[\"alpha\"] + idata_73.posterior[\"beta\"].dot(mass_newx)\n",
    "mu.shape"
   ]
  },
  {
   "cell_type": "code",
   "execution_count": 170,
   "metadata": {},
   "outputs": [],
   "source": [
    "mu_mean = mu.mean(dim=['chain', 'draw'])"
   ]
  },
  {
   "cell_type": "code",
   "execution_count": 172,
   "metadata": {},
   "outputs": [],
   "source": [
    "mass_seqx = xr.DataArray(mass_new['mass_seq'].to_numpy())"
   ]
  },
  {
   "cell_type": "code",
   "execution_count": 173,
   "metadata": {},
   "outputs": [
    {
     "data": {
      "image/png": "[encoded data removed]",
      "text/plain": [
       "<Figure size 600x400 with 1 Axes>"
      ]
     },
     "metadata": {},
     "output_type": "display_data"
    }
   ],
   "source": [
    "az.plot_lm(y=mu_mean, x=mass_seqx, y_model=mu, kind_pp=\"hdi\", kind_model=\"hdi\");"
   ]
  },
  {
   "cell_type": "code",
   "execution_count": 55,
   "metadata": {},
   "outputs": [],
   "source": [
    "mass_4 = d[['mass_std', 'mass_std_2', 'mass_std_3', 'mass_std_4']].to_numpy()"
   ]
  },
  {
   "cell_type": "code",
   "execution_count": 56,
   "metadata": {},
   "outputs": [],
   "source": [
    "jd_74 = gen_model(mass_4)"
   ]
  },
  {
   "cell_type": "code",
   "execution_count": 57,
   "metadata": {},
   "outputs": [],
   "source": [
    "jd_74_pd = jd_74.experimental_pin(brain_std=d.brain_std.values)"
   ]
  },
  {
   "cell_type": "code",
   "execution_count": 58,
   "metadata": {},
   "outputs": [],
   "source": [
    "def target_log_prob_74(*states):\n",
    "    return jd_74_pd.unnormalized_log_prob(states)\n",
    "\n",
    "@jax.jit\n",
    "def sample_post_74(init_state, seed):\n",
    "    kernel = tfp.mcmc.NoUTurnSampler(target_log_prob_74, 1e-3)\n",
    "  \n",
    "    return tfp.mcmc.sample_chain(\n",
    "        num_results=1000,\n",
    "        current_state=init_state,\n",
    "        kernel=kernel,\n",
    "        num_burnin_steps=1000,\n",
    "        trace_fn=None, seed=seed)"
   ]
  },
  {
   "cell_type": "code",
   "execution_count": 59,
   "metadata": {},
   "outputs": [],
   "source": [
    "num_chains = 4\n",
    "init_state_74 = jd_74_pd.sample_unpinned(num_chains, seed=key())"
   ]
  },
  {
   "cell_type": "code",
   "execution_count": 60,
   "metadata": {},
   "outputs": [],
   "source": [
    "post_74 = sample_post_74(init_state_74, key())"
   ]
  },
  {
   "cell_type": "code",
   "execution_count": 61,
   "metadata": {},
   "outputs": [],
   "source": [
    "post_74_dict = {k: jnp.moveaxis(v, 0, 1) for k, v in post_74._asdict().items()}\n",
    "dict_74 = dict(posterior=post_74_dict,\n",
    "                 dims={\"beta\": [\"coef\"]},\n",
    "                 coords={\"coef\": ['1', '2', '3', '4']})\n",
    "idata_74 = az.from_dict(**dict_74)"
   ]
  },
  {
   "cell_type": "code",
   "execution_count": 62,
   "metadata": {},
   "outputs": [
    {
     "data": {
      "text/html": [
       "<div>\n",
       "<style scoped>\n",
       "    .dataframe tbody tr th:only-of-type {\n",
       "        vertical-align: middle;\n",
       "    }\n",
       "\n",
       "    .dataframe tbody tr th {\n",
       "        vertical-align: top;\n",
       "    }\n",
       "\n",
       "    .dataframe thead th {\n",
       "        text-align: right;\n",
       "    }\n",
       "</style>\n",
       "<table border=\"1\" class=\"dataframe\">\n",
       "  <thead>\n",
       "    <tr style=\"text-align: right;\">\n",
       "      <th></th>\n",
       "      <th>mean</th>\n",
       "      <th>sd</th>\n",
       "      <th>hdi_3%</th>\n",
       "      <th>hdi_97%</th>\n",
       "      <th>mcse_mean</th>\n",
       "      <th>mcse_sd</th>\n",
       "      <th>ess_bulk</th>\n",
       "      <th>ess_tail</th>\n",
       "      <th>r_hat</th>\n",
       "    </tr>\n",
       "  </thead>\n",
       "  <tbody>\n",
       "    <tr>\n",
       "      <th>alpha</th>\n",
       "      <td>0.764</td>\n",
       "      <td>0.543</td>\n",
       "      <td>-0.321</td>\n",
       "      <td>1.828</td>\n",
       "      <td>0.079</td>\n",
       "      <td>0.056</td>\n",
       "      <td>49.0</td>\n",
       "      <td>134.0</td>\n",
       "      <td>1.07</td>\n",
       "    </tr>\n",
       "    <tr>\n",
       "      <th>beta[1]</th>\n",
       "      <td>0.766</td>\n",
       "      <td>0.804</td>\n",
       "      <td>-1.043</td>\n",
       "      <td>2.196</td>\n",
       "      <td>0.115</td>\n",
       "      <td>0.082</td>\n",
       "      <td>45.0</td>\n",
       "      <td>154.0</td>\n",
       "      <td>1.08</td>\n",
       "    </tr>\n",
       "    <tr>\n",
       "      <th>beta[2]</th>\n",
       "      <td>-0.795</td>\n",
       "      <td>1.621</td>\n",
       "      <td>-3.967</td>\n",
       "      <td>2.449</td>\n",
       "      <td>0.289</td>\n",
       "      <td>0.206</td>\n",
       "      <td>32.0</td>\n",
       "      <td>73.0</td>\n",
       "      <td>1.10</td>\n",
       "    </tr>\n",
       "    <tr>\n",
       "      <th>beta[3]</th>\n",
       "      <td>-0.692</td>\n",
       "      <td>0.975</td>\n",
       "      <td>-2.549</td>\n",
       "      <td>1.358</td>\n",
       "      <td>0.155</td>\n",
       "      <td>0.111</td>\n",
       "      <td>38.0</td>\n",
       "      <td>136.0</td>\n",
       "      <td>1.09</td>\n",
       "    </tr>\n",
       "    <tr>\n",
       "      <th>beta[4]</th>\n",
       "      <td>0.583</td>\n",
       "      <td>1.085</td>\n",
       "      <td>-1.372</td>\n",
       "      <td>2.913</td>\n",
       "      <td>0.196</td>\n",
       "      <td>0.140</td>\n",
       "      <td>31.0</td>\n",
       "      <td>83.0</td>\n",
       "      <td>1.10</td>\n",
       "    </tr>\n",
       "    <tr>\n",
       "      <th>sigma</th>\n",
       "      <td>0.373</td>\n",
       "      <td>0.248</td>\n",
       "      <td>0.094</td>\n",
       "      <td>0.772</td>\n",
       "      <td>0.015</td>\n",
       "      <td>0.010</td>\n",
       "      <td>308.0</td>\n",
       "      <td>500.0</td>\n",
       "      <td>1.00</td>\n",
       "    </tr>\n",
       "  </tbody>\n",
       "</table>\n",
       "</div>"
      ],
      "text/plain": [
       "          mean     sd  hdi_3%  hdi_97%  mcse_mean  mcse_sd  ess_bulk  \\\n",
       "alpha    0.764  0.543  -0.321    1.828      0.079    0.056      49.0   \n",
       "beta[1]  0.766  0.804  -1.043    2.196      0.115    0.082      45.0   \n",
       "beta[2] -0.795  1.621  -3.967    2.449      0.289    0.206      32.0   \n",
       "beta[3] -0.692  0.975  -2.549    1.358      0.155    0.111      38.0   \n",
       "beta[4]  0.583  1.085  -1.372    2.913      0.196    0.140      31.0   \n",
       "sigma    0.373  0.248   0.094    0.772      0.015    0.010     308.0   \n",
       "\n",
       "         ess_tail  r_hat  \n",
       "alpha       134.0   1.07  \n",
       "beta[1]     154.0   1.08  \n",
       "beta[2]      73.0   1.10  \n",
       "beta[3]     136.0   1.09  \n",
       "beta[4]      83.0   1.10  \n",
       "sigma       500.0   1.00  "
      ]
     },
     "execution_count": 62,
     "metadata": {},
     "output_type": "execute_result"
    }
   ],
   "source": [
    "az.summary(idata_74)"
   ]
  },
  {
   "cell_type": "code",
   "execution_count": 63,
   "metadata": {},
   "outputs": [],
   "source": [
    "mass_5 = d[['mass_std', 'mass_std_2', 'mass_std_3',\n",
    "            'mass_std_4', 'mass_std_5']].to_numpy()"
   ]
  },
  {
   "cell_type": "code",
   "execution_count": 64,
   "metadata": {},
   "outputs": [],
   "source": [
    "jd_75 = gen_model(mass_5)\n",
    "jd_75_pd = jd_75.experimental_pin(brain_std=d.brain_std.values)"
   ]
  },
  {
   "cell_type": "code",
   "execution_count": 65,
   "metadata": {},
   "outputs": [],
   "source": [
    "def target_log_prob_75(*states):\n",
    "    return jd_75_pd.unnormalized_log_prob(states)\n",
    "\n",
    "@jax.jit\n",
    "def sample_post_75(init_state, seed):\n",
    "    kernel = tfp.mcmc.NoUTurnSampler(target_log_prob_75, 1e-3)\n",
    "  \n",
    "    return tfp.mcmc.sample_chain(\n",
    "        num_results=1000,\n",
    "        current_state=init_state,\n",
    "        kernel=kernel,\n",
    "        num_burnin_steps=1000,\n",
    "        trace_fn=None, seed=seed)"
   ]
  },
  {
   "cell_type": "code",
   "execution_count": 66,
   "metadata": {},
   "outputs": [],
   "source": [
    "num_chains = 4\n",
    "init_state_75 = jd_75_pd.sample_unpinned(num_chains, seed=key())\n",
    "post_75 = sample_post_75(init_state_75, key())"
   ]
  },
  {
   "cell_type": "code",
   "execution_count": 67,
   "metadata": {},
   "outputs": [],
   "source": [
    "post_75_dict = {k: jnp.moveaxis(v, 0, 1) for k, v in post_75._asdict().items()}\n",
    "dict_75 = dict(posterior=post_75_dict,\n",
    "                 dims={\"beta\": [\"coef\"]},\n",
    "                 coords={\"coef\": ['1', '2', '3', '4', '5']})\n",
    "idata_75 = az.from_dict(**dict_75)"
   ]
  },
  {
   "cell_type": "code",
   "execution_count": 68,
   "metadata": {},
   "outputs": [
    {
     "data": {
      "text/html": [
       "<div>\n",
       "<style scoped>\n",
       "    .dataframe tbody tr th:only-of-type {\n",
       "        vertical-align: middle;\n",
       "    }\n",
       "\n",
       "    .dataframe tbody tr th {\n",
       "        vertical-align: top;\n",
       "    }\n",
       "\n",
       "    .dataframe thead th {\n",
       "        text-align: right;\n",
       "    }\n",
       "</style>\n",
       "<table border=\"1\" class=\"dataframe\">\n",
       "  <thead>\n",
       "    <tr style=\"text-align: right;\">\n",
       "      <th></th>\n",
       "      <th>mean</th>\n",
       "      <th>sd</th>\n",
       "      <th>hdi_3%</th>\n",
       "      <th>hdi_97%</th>\n",
       "      <th>mcse_mean</th>\n",
       "      <th>mcse_sd</th>\n",
       "      <th>ess_bulk</th>\n",
       "      <th>ess_tail</th>\n",
       "      <th>r_hat</th>\n",
       "    </tr>\n",
       "  </thead>\n",
       "  <tbody>\n",
       "    <tr>\n",
       "      <th>alpha</th>\n",
       "      <td>0.741</td>\n",
       "      <td>0.421</td>\n",
       "      <td>-0.100</td>\n",
       "      <td>1.566</td>\n",
       "      <td>0.051</td>\n",
       "      <td>0.053</td>\n",
       "      <td>48.0</td>\n",
       "      <td>197.0</td>\n",
       "      <td>1.20</td>\n",
       "    </tr>\n",
       "    <tr>\n",
       "      <th>beta[1]</th>\n",
       "      <td>2.282</td>\n",
       "      <td>2.565</td>\n",
       "      <td>-1.021</td>\n",
       "      <td>6.285</td>\n",
       "      <td>1.186</td>\n",
       "      <td>0.966</td>\n",
       "      <td>6.0</td>\n",
       "      <td>39.0</td>\n",
       "      <td>1.71</td>\n",
       "    </tr>\n",
       "    <tr>\n",
       "      <th>beta[2]</th>\n",
       "      <td>2.012</td>\n",
       "      <td>4.809</td>\n",
       "      <td>-2.506</td>\n",
       "      <td>10.081</td>\n",
       "      <td>2.322</td>\n",
       "      <td>1.828</td>\n",
       "      <td>7.0</td>\n",
       "      <td>157.0</td>\n",
       "      <td>1.54</td>\n",
       "    </tr>\n",
       "    <tr>\n",
       "      <th>beta[3]</th>\n",
       "      <td>-0.683</td>\n",
       "      <td>2.427</td>\n",
       "      <td>-4.782</td>\n",
       "      <td>4.350</td>\n",
       "      <td>0.626</td>\n",
       "      <td>0.451</td>\n",
       "      <td>16.0</td>\n",
       "      <td>37.0</td>\n",
       "      <td>1.20</td>\n",
       "    </tr>\n",
       "    <tr>\n",
       "      <th>beta[4]</th>\n",
       "      <td>-0.657</td>\n",
       "      <td>2.149</td>\n",
       "      <td>-3.913</td>\n",
       "      <td>2.093</td>\n",
       "      <td>0.939</td>\n",
       "      <td>0.722</td>\n",
       "      <td>7.0</td>\n",
       "      <td>4.0</td>\n",
       "      <td>1.54</td>\n",
       "    </tr>\n",
       "    <tr>\n",
       "      <th>beta[5]</th>\n",
       "      <td>3.220</td>\n",
       "      <td>5.333</td>\n",
       "      <td>-2.012</td>\n",
       "      <td>12.217</td>\n",
       "      <td>2.602</td>\n",
       "      <td>2.032</td>\n",
       "      <td>7.0</td>\n",
       "      <td>43.0</td>\n",
       "      <td>1.68</td>\n",
       "    </tr>\n",
       "    <tr>\n",
       "      <th>sigma</th>\n",
       "      <td>0.287</td>\n",
       "      <td>0.282</td>\n",
       "      <td>0.039</td>\n",
       "      <td>0.777</td>\n",
       "      <td>0.072</td>\n",
       "      <td>0.052</td>\n",
       "      <td>8.0</td>\n",
       "      <td>4.0</td>\n",
       "      <td>1.49</td>\n",
       "    </tr>\n",
       "  </tbody>\n",
       "</table>\n",
       "</div>"
      ],
      "text/plain": [
       "          mean     sd  hdi_3%  hdi_97%  mcse_mean  mcse_sd  ess_bulk  \\\n",
       "alpha    0.741  0.421  -0.100    1.566      0.051    0.053      48.0   \n",
       "beta[1]  2.282  2.565  -1.021    6.285      1.186    0.966       6.0   \n",
       "beta[2]  2.012  4.809  -2.506   10.081      2.322    1.828       7.0   \n",
       "beta[3] -0.683  2.427  -4.782    4.350      0.626    0.451      16.0   \n",
       "beta[4] -0.657  2.149  -3.913    2.093      0.939    0.722       7.0   \n",
       "beta[5]  3.220  5.333  -2.012   12.217      2.602    2.032       7.0   \n",
       "sigma    0.287  0.282   0.039    0.777      0.072    0.052       8.0   \n",
       "\n",
       "         ess_tail  r_hat  \n",
       "alpha       197.0   1.20  \n",
       "beta[1]      39.0   1.71  \n",
       "beta[2]     157.0   1.54  \n",
       "beta[3]      37.0   1.20  \n",
       "beta[4]       4.0   1.54  \n",
       "beta[5]      43.0   1.68  \n",
       "sigma         4.0   1.49  "
      ]
     },
     "execution_count": 68,
     "metadata": {},
     "output_type": "execute_result"
    }
   ],
   "source": [
    "az.summary(idata_75)"
   ]
  },
  {
   "cell_type": "code",
   "execution_count": 69,
   "metadata": {},
   "outputs": [],
   "source": [
    "mass_6 = d[['mass_std', 'mass_std_2', 'mass_std_3',\n",
    "            'mass_std_4', 'mass_std_5', 'mass_std_6']].to_numpy()"
   ]
  },
  {
   "cell_type": "code",
   "execution_count": 70,
   "metadata": {},
   "outputs": [],
   "source": [
    "jd_76 = gen_model(mass_6)\n",
    "jd_76_pd = jd_76.experimental_pin(brain_std=d.brain_std.values)"
   ]
  },
  {
   "cell_type": "code",
   "execution_count": 71,
   "metadata": {},
   "outputs": [],
   "source": [
    "def target_log_prob_76(*states):\n",
    "    return jd_76_pd.unnormalized_log_prob(states)\n",
    "\n",
    "# @jax.jit\n",
    "def sample_post_76(init_state, seed):\n",
    "    kernel = tfp.mcmc.NoUTurnSampler(target_log_prob_76, 1e-3)\n",
    "  \n",
    "    return tfp.mcmc.sample_chain(\n",
    "        num_results=1000,\n",
    "        current_state=init_state,\n",
    "        kernel=kernel,\n",
    "        num_burnin_steps=1000,\n",
    "        trace_fn=None, seed=seed)"
   ]
  },
  {
   "cell_type": "code",
   "execution_count": 72,
   "metadata": {},
   "outputs": [],
   "source": [
    "num_chains = 4\n",
    "init_state_76 = jd_76_pd.sample_unpinned(num_chains, seed=key())\n",
    "post_76 = sample_post_76(init_state_76, key())"
   ]
  },
  {
   "cell_type": "code",
   "execution_count": 73,
   "metadata": {},
   "outputs": [],
   "source": [
    "post_76_dict = {k: jnp.moveaxis(v, 0, 1) for k, v in post_76._asdict().items()}\n",
    "dict_76 = dict(posterior=post_76_dict,\n",
    "                 dims={\"beta\": [\"coef\"]},\n",
    "                 coords={\"coef\": ['1', '2', '3', '4', '5', '6']})\n",
    "idata_76 = az.from_dict(**dict_76)"
   ]
  },
  {
   "cell_type": "code",
   "execution_count": 74,
   "metadata": {},
   "outputs": [
    {
     "data": {
      "text/html": [
       "<div>\n",
       "<style scoped>\n",
       "    .dataframe tbody tr th:only-of-type {\n",
       "        vertical-align: middle;\n",
       "    }\n",
       "\n",
       "    .dataframe tbody tr th {\n",
       "        vertical-align: top;\n",
       "    }\n",
       "\n",
       "    .dataframe thead th {\n",
       "        text-align: right;\n",
       "    }\n",
       "</style>\n",
       "<table border=\"1\" class=\"dataframe\">\n",
       "  <thead>\n",
       "    <tr style=\"text-align: right;\">\n",
       "      <th></th>\n",
       "      <th>mean</th>\n",
       "      <th>sd</th>\n",
       "      <th>hdi_3%</th>\n",
       "      <th>hdi_97%</th>\n",
       "      <th>mcse_mean</th>\n",
       "      <th>mcse_sd</th>\n",
       "      <th>ess_bulk</th>\n",
       "      <th>ess_tail</th>\n",
       "      <th>r_hat</th>\n",
       "    </tr>\n",
       "  </thead>\n",
       "  <tbody>\n",
       "    <tr>\n",
       "      <th>alpha</th>\n",
       "      <td>0.481</td>\n",
       "      <td>0.598</td>\n",
       "      <td>-0.478</td>\n",
       "      <td>1.788</td>\n",
       "      <td>0.199</td>\n",
       "      <td>0.145</td>\n",
       "      <td>11.0</td>\n",
       "      <td>16.0</td>\n",
       "      <td>1.83</td>\n",
       "    </tr>\n",
       "    <tr>\n",
       "      <th>beta[1]</th>\n",
       "      <td>2.668</td>\n",
       "      <td>3.530</td>\n",
       "      <td>-1.394</td>\n",
       "      <td>8.283</td>\n",
       "      <td>1.680</td>\n",
       "      <td>1.329</td>\n",
       "      <td>6.0</td>\n",
       "      <td>30.0</td>\n",
       "      <td>1.95</td>\n",
       "    </tr>\n",
       "    <tr>\n",
       "      <th>beta[2]</th>\n",
       "      <td>-0.648</td>\n",
       "      <td>4.411</td>\n",
       "      <td>-6.606</td>\n",
       "      <td>5.650</td>\n",
       "      <td>2.026</td>\n",
       "      <td>1.532</td>\n",
       "      <td>6.0</td>\n",
       "      <td>4.0</td>\n",
       "      <td>1.90</td>\n",
       "    </tr>\n",
       "    <tr>\n",
       "      <th>beta[3]</th>\n",
       "      <td>0.256</td>\n",
       "      <td>3.403</td>\n",
       "      <td>-6.832</td>\n",
       "      <td>6.527</td>\n",
       "      <td>1.253</td>\n",
       "      <td>0.923</td>\n",
       "      <td>8.0</td>\n",
       "      <td>14.0</td>\n",
       "      <td>1.47</td>\n",
       "    </tr>\n",
       "    <tr>\n",
       "      <th>beta[4]</th>\n",
       "      <td>-1.281</td>\n",
       "      <td>5.309</td>\n",
       "      <td>-9.985</td>\n",
       "      <td>7.741</td>\n",
       "      <td>2.357</td>\n",
       "      <td>1.773</td>\n",
       "      <td>6.0</td>\n",
       "      <td>18.0</td>\n",
       "      <td>1.98</td>\n",
       "    </tr>\n",
       "    <tr>\n",
       "      <th>beta[5]</th>\n",
       "      <td>2.341</td>\n",
       "      <td>5.399</td>\n",
       "      <td>-3.569</td>\n",
       "      <td>11.044</td>\n",
       "      <td>2.603</td>\n",
       "      <td>2.042</td>\n",
       "      <td>5.0</td>\n",
       "      <td>39.0</td>\n",
       "      <td>2.09</td>\n",
       "    </tr>\n",
       "    <tr>\n",
       "      <th>beta[6]</th>\n",
       "      <td>1.112</td>\n",
       "      <td>2.141</td>\n",
       "      <td>-2.639</td>\n",
       "      <td>5.091</td>\n",
       "      <td>0.895</td>\n",
       "      <td>0.669</td>\n",
       "      <td>6.0</td>\n",
       "      <td>16.0</td>\n",
       "      <td>1.83</td>\n",
       "    </tr>\n",
       "    <tr>\n",
       "      <th>sigma</th>\n",
       "      <td>0.351</td>\n",
       "      <td>0.344</td>\n",
       "      <td>0.023</td>\n",
       "      <td>0.883</td>\n",
       "      <td>0.051</td>\n",
       "      <td>0.036</td>\n",
       "      <td>81.0</td>\n",
       "      <td>102.0</td>\n",
       "      <td>1.38</td>\n",
       "    </tr>\n",
       "  </tbody>\n",
       "</table>\n",
       "</div>"
      ],
      "text/plain": [
       "          mean     sd  hdi_3%  hdi_97%  mcse_mean  mcse_sd  ess_bulk  \\\n",
       "alpha    0.481  0.598  -0.478    1.788      0.199    0.145      11.0   \n",
       "beta[1]  2.668  3.530  -1.394    8.283      1.680    1.329       6.0   \n",
       "beta[2] -0.648  4.411  -6.606    5.650      2.026    1.532       6.0   \n",
       "beta[3]  0.256  3.403  -6.832    6.527      1.253    0.923       8.0   \n",
       "beta[4] -1.281  5.309  -9.985    7.741      2.357    1.773       6.0   \n",
       "beta[5]  2.341  5.399  -3.569   11.044      2.603    2.042       5.0   \n",
       "beta[6]  1.112  2.141  -2.639    5.091      0.895    0.669       6.0   \n",
       "sigma    0.351  0.344   0.023    0.883      0.051    0.036      81.0   \n",
       "\n",
       "         ess_tail  r_hat  \n",
       "alpha        16.0   1.83  \n",
       "beta[1]      30.0   1.95  \n",
       "beta[2]       4.0   1.90  \n",
       "beta[3]      14.0   1.47  \n",
       "beta[4]      18.0   1.98  \n",
       "beta[5]      39.0   2.09  \n",
       "beta[6]      16.0   1.83  \n",
       "sigma       102.0   1.38  "
      ]
     },
     "execution_count": 74,
     "metadata": {},
     "output_type": "execute_result"
    }
   ],
   "source": [
    "az.summary(idata_76)"
   ]
  },
  {
   "cell_type": "markdown",
   "metadata": {},
   "source": [
    "### 7.2.3 From entropy to accuracy"
   ]
  },
  {
   "cell_type": "markdown",
   "metadata": {},
   "source": [
    "### 7.2.4 Estimating divergence"
   ]
  },
  {
   "cell_type": "markdown",
   "metadata": {},
   "source": [
    "##### Code 7.13"
   ]
  },
  {
   "cell_type": "markdown",
   "metadata": {},
   "source": [
    "# BUG: jd.sample_distributions(value) works only with zero dim values  "
   ]
  },
  {
   "cell_type": "code",
   "execution_count": 15,
   "metadata": {},
   "outputs": [
    {
     "data": {
      "text/plain": [
       "(StructTuple(\n",
       "   alpha=<tfp.distributions.Normal 'alpha' batch_shape=[] event_shape=[] dtype=float32>,\n",
       "   beta=<tfp.distributions.Normal 'beta' batch_shape=[] event_shape=[] dtype=float32>,\n",
       "   log_sigma=<tfp.distributions.Normal 'log_sigma' batch_shape=[] event_shape=[] dtype=float32>,\n",
       "   brain_std=<tfp.distributions.Normal 'brain_std' batch_shape=[7] event_shape=[] dtype=float32>\n",
       " ),\n",
       " StructTuple(\n",
       "   alpha=Array(0., dtype=float32),\n",
       "   beta=Array(-0.2, dtype=float32),\n",
       "   log_sigma=Array(6.1, dtype=float32),\n",
       "   brain_std=Array([ 726.3438 , -742.3146 , -258.90024,   83.36224,  274.41556,\n",
       "            -126.8707 ,  676.07635], dtype=float32)\n",
       " ))"
      ]
     },
     "execution_count": 15,
     "metadata": {},
     "output_type": "execute_result"
    }
   ],
   "source": [
    "jd_71.sample_distributions(value=[0.0, -0.2, 6.1], seed=key())"
   ]
  },
  {
   "cell_type": "code",
   "execution_count": 16,
   "metadata": {},
   "outputs": [
    {
     "data": {
      "text/plain": [
       "(StructTuple(\n",
       "   alpha=<tfp.distributions.Normal 'alpha' batch_shape=[] event_shape=[] dtype=float32>,\n",
       "   beta=<tfp.distributions.Normal 'beta' batch_shape=[] event_shape=[] dtype=float32>,\n",
       "   log_sigma=<tfp.distributions.Normal 'log_sigma' batch_shape=[] event_shape=[] dtype=float32>,\n",
       "   brain_std=<tfp.distributions.Normal 'brain_std' batch_shape=[7] event_shape=[] dtype=float32>\n",
       " ),\n",
       " StructTuple(\n",
       "   alpha=Array(0., dtype=float32),\n",
       "   beta=Array(-0.2, dtype=float32),\n",
       "   log_sigma=Array(6.1, dtype=float32),\n",
       "   brain_std=Array([-711.87915 ,  186.92088 ,  319.87506 ,  437.5431  ,  144.0621  ,\n",
       "            -202.03775 ,    6.832624], dtype=float32)\n",
       " ))"
      ]
     },
     "execution_count": 16,
     "metadata": {},
     "output_type": "execute_result"
    }
   ],
   "source": [
    "StateTuple = namedtuple('StateTuple', ['alpha', 'beta', 'sigma'])\n",
    "jd_71.sample_distributions(value=StateTuple(0.0, -0.2, 6.1), seed=key())"
   ]
  },
  {
   "cell_type": "code",
   "execution_count": 64,
   "metadata": {},
   "outputs": [
    {
     "ename": "ValueError",
     "evalue": "Attempt to convert a value (<object object at 0x321ac2350>) with an unsupported type (<class 'object'>) to a Tensor.",
     "output_type": "error",
     "traceback": [
      "\u001b[0;31m---------------------------------------------------------------------------\u001b[0m",
      "\u001b[0;31mValueError\u001b[0m                                Traceback (most recent call last)",
      "Cell \u001b[0;32mIn[64], line 1\u001b[0m\n\u001b[0;32m----> 1\u001b[0m \u001b[43mjd_71\u001b[49m\u001b[38;5;241;43m.\u001b[39;49m\u001b[43msample_distributions\u001b[49m\u001b[43m(\u001b[49m\u001b[43mvalue\u001b[49m\u001b[38;5;241;43m=\u001b[39;49m\u001b[43mStateTuple\u001b[49m\u001b[43m(\u001b[49m\u001b[43m[\u001b[49m\u001b[38;5;241;43m0.0\u001b[39;49m\u001b[43m,\u001b[49m\u001b[43m \u001b[49m\u001b[38;5;241;43m0.0\u001b[39;49m\u001b[43m]\u001b[49m\u001b[43m,\u001b[49m\u001b[43m \u001b[49m\u001b[43m[\u001b[49m\u001b[38;5;241;43m-\u001b[39;49m\u001b[38;5;241;43m0.2\u001b[39;49m\u001b[43m,\u001b[49m\u001b[43m \u001b[49m\u001b[38;5;241;43m0.0\u001b[39;49m\u001b[43m]\u001b[49m\u001b[43m,\u001b[49m\u001b[43m \u001b[49m\u001b[43m[\u001b[49m\u001b[38;5;241;43m6.1\u001b[39;49m\u001b[43m,\u001b[49m\u001b[43m \u001b[49m\u001b[38;5;241;43m5.4\u001b[39;49m\u001b[43m]\u001b[49m\u001b[43m)\u001b[49m\u001b[43m,\u001b[49m\u001b[43m \u001b[49m\u001b[43mseed\u001b[49m\u001b[38;5;241;43m=\u001b[39;49m\u001b[43mkey\u001b[49m\u001b[43m(\u001b[49m\u001b[43m)\u001b[49m\u001b[43m)\u001b[49m\n",
      "File \u001b[0;32m~/miniforge3/envs/dl/lib/python3.12/site-packages/tensorflow_probability/substrates/jax/distributions/joint_distribution.py:524\u001b[0m, in \u001b[0;36mJointDistribution.sample_distributions\u001b[0;34m(self, sample_shape, seed, value, name, **kwargs)\u001b[0m\n\u001b[1;32m    520\u001b[0m value \u001b[38;5;241m=\u001b[39m \u001b[38;5;28mself\u001b[39m\u001b[38;5;241m.\u001b[39m_resolve_value(value\u001b[38;5;241m=\u001b[39mvalue,\n\u001b[1;32m    521\u001b[0m                             allow_partially_specified\u001b[38;5;241m=\u001b[39m\u001b[38;5;28;01mTrue\u001b[39;00m,\n\u001b[1;32m    522\u001b[0m                             \u001b[38;5;241m*\u001b[39m\u001b[38;5;241m*\u001b[39mkwargs)\n\u001b[1;32m    523\u001b[0m \u001b[38;5;28;01mtry\u001b[39;00m:\n\u001b[0;32m--> 524\u001b[0m   ds, xs \u001b[38;5;241m=\u001b[39m \u001b[38;5;28;43mself\u001b[39;49m\u001b[38;5;241;43m.\u001b[39;49m\u001b[43m_call_flat_sample_distributions\u001b[49m\u001b[43m(\u001b[49m\n\u001b[1;32m    525\u001b[0m \u001b[43m      \u001b[49m\u001b[43msample_shape\u001b[49m\u001b[43m,\u001b[49m\u001b[43m \u001b[49m\u001b[43mseed\u001b[49m\u001b[38;5;241;43m=\u001b[39;49m\u001b[43mseed\u001b[49m\u001b[43m,\u001b[49m\u001b[43m \u001b[49m\u001b[43mvalue\u001b[49m\u001b[38;5;241;43m=\u001b[39;49m\u001b[43mvalue\u001b[49m\u001b[43m)\u001b[49m\n\u001b[1;32m    526\u001b[0m \u001b[38;5;28;01mexcept\u001b[39;00m \u001b[38;5;167;01mTypeError\u001b[39;00m \u001b[38;5;28;01mas\u001b[39;00m e:\n\u001b[1;32m    527\u001b[0m   \u001b[38;5;28;01mif\u001b[39;00m \u001b[38;5;124m'\u001b[39m\u001b[38;5;124mFailed to convert elements\u001b[39m\u001b[38;5;124m'\u001b[39m \u001b[38;5;129;01min\u001b[39;00m \u001b[38;5;28mstr\u001b[39m(e):\n",
      "File \u001b[0;32m~/miniforge3/envs/dl/lib/python3.12/site-packages/tensorflow_probability/substrates/jax/distributions/joint_distribution.py:548\u001b[0m, in \u001b[0;36mJointDistribution._call_flat_sample_distributions\u001b[0;34m(self, sample_shape, seed, value)\u001b[0m\n\u001b[1;32m    544\u001b[0m \u001b[38;5;28;01mdef\u001b[39;00m \u001b[38;5;21m_call_flat_sample_distributions\u001b[39m(\u001b[38;5;28mself\u001b[39m,\n\u001b[1;32m    545\u001b[0m                                     sample_shape\u001b[38;5;241m=\u001b[39m(),\n\u001b[1;32m    546\u001b[0m                                     seed\u001b[38;5;241m=\u001b[39m\u001b[38;5;28;01mNone\u001b[39;00m,\n\u001b[1;32m    547\u001b[0m                                     value\u001b[38;5;241m=\u001b[39m\u001b[38;5;28;01mNone\u001b[39;00m):\n\u001b[0;32m--> 548\u001b[0m   \u001b[38;5;28;01mreturn\u001b[39;00m \u001b[38;5;28mzip\u001b[39m(\u001b[38;5;241m*\u001b[39m\u001b[38;5;28;43mself\u001b[39;49m\u001b[38;5;241;43m.\u001b[39;49m\u001b[43m_call_execute_model\u001b[49m\u001b[43m(\u001b[49m\n\u001b[1;32m    549\u001b[0m \u001b[43m      \u001b[49m\u001b[43msample_shape\u001b[49m\u001b[43m,\u001b[49m\n\u001b[1;32m    550\u001b[0m \u001b[43m      \u001b[49m\u001b[43mseed\u001b[49m\u001b[38;5;241;43m=\u001b[39;49m\u001b[43mseed\u001b[49m\u001b[43m,\u001b[49m\n\u001b[1;32m    551\u001b[0m \u001b[43m      \u001b[49m\u001b[43mvalue\u001b[49m\u001b[38;5;241;43m=\u001b[39;49m\u001b[43mvalue\u001b[49m\u001b[43m,\u001b[49m\n\u001b[1;32m    552\u001b[0m \u001b[43m      \u001b[49m\u001b[43msample_and_trace_fn\u001b[49m\u001b[38;5;241;43m=\u001b[39;49m\u001b[43mtrace_distributions_and_values\u001b[49m\u001b[43m)\u001b[49m)\n",
      "File \u001b[0;32m~/miniforge3/envs/dl/lib/python3.12/site-packages/tensorflow_probability/substrates/jax/distributions/joint_distribution.py:882\u001b[0m, in \u001b[0;36mJointDistribution._call_execute_model\u001b[0;34m(self, sample_shape, seed, value, sample_and_trace_fn)\u001b[0m\n\u001b[1;32m    878\u001b[0m \u001b[38;5;28;01mif\u001b[39;00m sample_shape_may_be_nontrivial:\n\u001b[1;32m    879\u001b[0m   vectorized_execute_model \u001b[38;5;241m=\u001b[39m vectorization_util\u001b[38;5;241m.\u001b[39miid_sample(\n\u001b[1;32m    880\u001b[0m       vectorized_execute_model, sample_shape)\n\u001b[0;32m--> 882\u001b[0m \u001b[38;5;28;01mreturn\u001b[39;00m \u001b[43mvectorized_execute_model\u001b[49m\u001b[43m(\u001b[49m\u001b[43mflat_value\u001b[49m\u001b[43m,\u001b[49m\u001b[43m \u001b[49m\u001b[43mseed\u001b[49m\u001b[38;5;241;43m=\u001b[39;49m\u001b[43mseed\u001b[49m\u001b[43m)\u001b[49m\n",
      "File \u001b[0;32m~/miniforge3/envs/dl/lib/python3.12/site-packages/tensorflow_probability/substrates/jax/distributions/joint_distribution.py:876\u001b[0m, in \u001b[0;36mJointDistribution._call_execute_model.<locals>.<lambda>\u001b[0;34m(fv, seed)\u001b[0m\n\u001b[1;32m    864\u001b[0m vectorized_execute_model_helper \u001b[38;5;241m=\u001b[39m vectorization_util\u001b[38;5;241m.\u001b[39mmake_rank_polymorphic(\n\u001b[1;32m    865\u001b[0m     \u001b[38;5;28;01mlambda\u001b[39;00m fv, seed: (  \u001b[38;5;66;03m# pylint: disable=g-long-lambda\u001b[39;00m\n\u001b[1;32m    866\u001b[0m         \u001b[38;5;28mself\u001b[39m\u001b[38;5;241m.\u001b[39m_execute_model(\n\u001b[0;32m   (...)\u001b[0m\n\u001b[1;32m    870\u001b[0m             sample_and_trace_fn\u001b[38;5;241m=\u001b[39msample_and_trace_fn)),\n\u001b[1;32m    871\u001b[0m     core_ndims\u001b[38;5;241m=\u001b[39m[flat_value_core_ndims, \u001b[38;5;28;01mNone\u001b[39;00m])\n\u001b[1;32m    872\u001b[0m \u001b[38;5;66;03m# Redefine the polymorphic fn to hack around `make_rank_polymorphic`\u001b[39;00m\n\u001b[1;32m    873\u001b[0m \u001b[38;5;66;03m# not currently supporting keyword args. This is needed because the\u001b[39;00m\n\u001b[1;32m    874\u001b[0m \u001b[38;5;66;03m# `iid_sample` wrapper below expects to pass through a `seed` kwarg.\u001b[39;00m\n\u001b[1;32m    875\u001b[0m vectorized_execute_model \u001b[38;5;241m=\u001b[39m (\n\u001b[0;32m--> 876\u001b[0m     \u001b[38;5;28;01mlambda\u001b[39;00m fv, seed: \u001b[43mvectorized_execute_model_helper\u001b[49m\u001b[43m(\u001b[49m\u001b[43mfv\u001b[49m\u001b[43m,\u001b[49m\u001b[43m \u001b[49m\u001b[43mseed\u001b[49m\u001b[43m)\u001b[49m)  \u001b[38;5;66;03m# pylint: disable=unnecessary-lambda\u001b[39;00m\n\u001b[1;32m    878\u001b[0m \u001b[38;5;28;01mif\u001b[39;00m sample_shape_may_be_nontrivial:\n\u001b[1;32m    879\u001b[0m   vectorized_execute_model \u001b[38;5;241m=\u001b[39m vectorization_util\u001b[38;5;241m.\u001b[39miid_sample(\n\u001b[1;32m    880\u001b[0m       vectorized_execute_model, sample_shape)\n",
      "File \u001b[0;32m~/miniforge3/envs/dl/lib/python3.12/site-packages/tensorflow_probability/substrates/jax/internal/vectorization_util.py:327\u001b[0m, in \u001b[0;36mmake_rank_polymorphic.<locals>.vectorized_fn\u001b[0;34m(*args)\u001b[0m\n\u001b[1;32m    322\u001b[0m   vectorized_args_with_flattened_batch_dim \u001b[38;5;241m=\u001b[39m [\n\u001b[1;32m    323\u001b[0m       tf\u001b[38;5;241m.\u001b[39mreshape(part, ps\u001b[38;5;241m.\u001b[39mconcat([[n], core_shape], axis\u001b[38;5;241m=\u001b[39m\u001b[38;5;241m0\u001b[39m))\n\u001b[1;32m    324\u001b[0m       \u001b[38;5;28;01mfor\u001b[39;00m (part, core_shape) \u001b[38;5;129;01min\u001b[39;00m \u001b[38;5;28mzip\u001b[39m(\n\u001b[1;32m    325\u001b[0m           broadcast_vectorized_args, core_shapes)]\n\u001b[1;32m    326\u001b[0m   result_batch_dims \u001b[38;5;241m=\u001b[39m \u001b[38;5;241m1\u001b[39m\n\u001b[0;32m--> 327\u001b[0m   batched_result \u001b[38;5;241m=\u001b[39m \u001b[43mtf\u001b[49m\u001b[38;5;241;43m.\u001b[39;49m\u001b[43mvectorized_map\u001b[49m\u001b[43m(\u001b[49m\n\u001b[1;32m    328\u001b[0m \u001b[43m      \u001b[49m\u001b[43mfn_of_vectorized_args\u001b[49m\u001b[43m,\u001b[49m\u001b[43m \u001b[49m\u001b[43mvectorized_args_with_flattened_batch_dim\u001b[49m\u001b[43m)\u001b[49m\n\u001b[1;32m    330\u001b[0m \u001b[38;5;66;03m# Unflatten any `Tensor`s in the result.\u001b[39;00m\n\u001b[1;32m    331\u001b[0m unflatten \u001b[38;5;241m=\u001b[39m \u001b[38;5;28;01mlambda\u001b[39;00m x: tf\u001b[38;5;241m.\u001b[39mreshape(x, ps\u001b[38;5;241m.\u001b[39mconcat([  \u001b[38;5;66;03m# pylint: disable=g-long-lambda\u001b[39;00m\n\u001b[1;32m    332\u001b[0m     broadcast_batch_shape, ps\u001b[38;5;241m.\u001b[39mshape(x)[result_batch_dims:]], axis\u001b[38;5;241m=\u001b[39m\u001b[38;5;241m0\u001b[39m))\n",
      "File \u001b[0;32m~/miniforge3/envs/dl/lib/python3.12/site-packages/tensorflow_probability/python/internal/backend/jax/_utils.py:62\u001b[0m, in \u001b[0;36mcopy_docstring.<locals>.wrap\u001b[0;34m(***failed resolving arguments***)\u001b[0m\n\u001b[1;32m     59\u001b[0m \u001b[38;5;129m@wrapt\u001b[39m\u001b[38;5;241m.\u001b[39mdecorator\n\u001b[1;32m     60\u001b[0m \u001b[38;5;28;01mdef\u001b[39;00m \u001b[38;5;21mwrap\u001b[39m(wrapped, instance, args, kwargs):\n\u001b[1;32m     61\u001b[0m   \u001b[38;5;28;01mdel\u001b[39;00m instance, wrapped\n\u001b[0;32m---> 62\u001b[0m   \u001b[38;5;28;01mreturn\u001b[39;00m \u001b[43mnew_fn\u001b[49m\u001b[43m(\u001b[49m\u001b[38;5;241;43m*\u001b[39;49m\u001b[43margs\u001b[49m\u001b[43m,\u001b[49m\u001b[43m \u001b[49m\u001b[38;5;241;43m*\u001b[39;49m\u001b[38;5;241;43m*\u001b[39;49m\u001b[43mkwargs\u001b[49m\u001b[43m)\u001b[49m\n",
      "File \u001b[0;32m~/miniforge3/envs/dl/lib/python3.12/site-packages/tensorflow_probability/python/internal/backend/jax/functional_ops.py:103\u001b[0m, in \u001b[0;36m_vectorized_map\u001b[0;34m(fn, elems)\u001b[0m\n\u001b[1;32m    101\u001b[0m \u001b[38;5;28;01mif\u001b[39;00m JAX_MODE:\n\u001b[1;32m    102\u001b[0m   \u001b[38;5;28;01mfrom\u001b[39;00m \u001b[38;5;21;01mjax\u001b[39;00m \u001b[38;5;28;01mimport\u001b[39;00m vmap  \u001b[38;5;66;03m# pylint: disable=g-import-not-at-top\u001b[39;00m\n\u001b[0;32m--> 103\u001b[0m   \u001b[38;5;28;01mreturn\u001b[39;00m \u001b[43mvmap\u001b[49m\u001b[43m(\u001b[49m\u001b[43mfn\u001b[49m\u001b[43m)\u001b[49m\u001b[43m(\u001b[49m\u001b[43melems\u001b[49m\u001b[43m)\u001b[49m\n\u001b[1;32m    105\u001b[0m \u001b[38;5;66;03m# In the NumPy backend, we don't actually vectorize.\u001b[39;00m\n\u001b[1;32m    106\u001b[0m \u001b[38;5;28;01mreturn\u001b[39;00m _map_fn(fn, elems)\n",
      "    \u001b[0;31m[... skipping hidden 7 frame]\u001b[0m\n",
      "File \u001b[0;32m~/miniforge3/envs/dl/lib/python3.12/site-packages/tensorflow_probability/substrates/jax/internal/auto_composite_tensor.py:813\u001b[0m, in \u001b[0;36mpytree_unflatten\u001b[0;34m(cls, aux_data, children)\u001b[0m\n\u001b[1;32m    809\u001b[0m keys, metadata \u001b[38;5;241m=\u001b[39m aux_data\n\u001b[1;32m    810\u001b[0m parameters \u001b[38;5;241m=\u001b[39m \u001b[38;5;28mdict\u001b[39m(\u001b[38;5;28mlist\u001b[39m(\u001b[38;5;28mzip\u001b[39m(keys, children)),\n\u001b[1;32m    811\u001b[0m                   \u001b[38;5;241m*\u001b[39m\u001b[38;5;241m*\u001b[39mmetadata[\u001b[38;5;124m'\u001b[39m\u001b[38;5;124mnon_tensor_params\u001b[39m\u001b[38;5;124m'\u001b[39m],\n\u001b[1;32m    812\u001b[0m                   \u001b[38;5;241m*\u001b[39m\u001b[38;5;241m*\u001b[39mmetadata[\u001b[38;5;124m'\u001b[39m\u001b[38;5;124mcallable_params\u001b[39m\u001b[38;5;124m'\u001b[39m])\n\u001b[0;32m--> 813\u001b[0m \u001b[38;5;28;01mreturn\u001b[39;00m \u001b[38;5;28;43mcls\u001b[39;49m\u001b[43m(\u001b[49m\u001b[38;5;241;43m*\u001b[39;49m\u001b[38;5;241;43m*\u001b[39;49m\u001b[43mparameters\u001b[49m\u001b[43m)\u001b[49m\n",
      "File \u001b[0;32m~/miniforge3/envs/dl/lib/python3.12/site-packages/decorator.py:232\u001b[0m, in \u001b[0;36mdecorate.<locals>.fun\u001b[0;34m(*args, **kw)\u001b[0m\n\u001b[1;32m    230\u001b[0m \u001b[38;5;28;01mif\u001b[39;00m \u001b[38;5;129;01mnot\u001b[39;00m kwsyntax:\n\u001b[1;32m    231\u001b[0m     args, kw \u001b[38;5;241m=\u001b[39m fix(args, kw, sig)\n\u001b[0;32m--> 232\u001b[0m \u001b[38;5;28;01mreturn\u001b[39;00m \u001b[43mcaller\u001b[49m\u001b[43m(\u001b[49m\u001b[43mfunc\u001b[49m\u001b[43m,\u001b[49m\u001b[43m \u001b[49m\u001b[38;5;241;43m*\u001b[39;49m\u001b[43m(\u001b[49m\u001b[43mextras\u001b[49m\u001b[43m \u001b[49m\u001b[38;5;241;43m+\u001b[39;49m\u001b[43m \u001b[49m\u001b[43margs\u001b[49m\u001b[43m)\u001b[49m\u001b[43m,\u001b[49m\u001b[43m \u001b[49m\u001b[38;5;241;43m*\u001b[39;49m\u001b[38;5;241;43m*\u001b[39;49m\u001b[43mkw\u001b[49m\u001b[43m)\u001b[49m\n",
      "File \u001b[0;32m~/miniforge3/envs/dl/lib/python3.12/site-packages/tensorflow_probability/substrates/jax/distributions/distribution.py:342\u001b[0m, in \u001b[0;36m_DistributionMeta.__new__.<locals>.wrapped_init\u001b[0;34m(***failed resolving arguments***)\u001b[0m\n\u001b[1;32m    339\u001b[0m \u001b[38;5;66;03m# Note: if we ever want to have things set in `self` before `__init__` is\u001b[39;00m\n\u001b[1;32m    340\u001b[0m \u001b[38;5;66;03m# called, here is the place to do it.\u001b[39;00m\n\u001b[1;32m    341\u001b[0m self_\u001b[38;5;241m.\u001b[39m_parameters \u001b[38;5;241m=\u001b[39m \u001b[38;5;28;01mNone\u001b[39;00m\n\u001b[0;32m--> 342\u001b[0m \u001b[43mdefault_init\u001b[49m\u001b[43m(\u001b[49m\u001b[43mself_\u001b[49m\u001b[43m,\u001b[49m\u001b[43m \u001b[49m\u001b[38;5;241;43m*\u001b[39;49m\u001b[43margs\u001b[49m\u001b[43m,\u001b[49m\u001b[43m \u001b[49m\u001b[38;5;241;43m*\u001b[39;49m\u001b[38;5;241;43m*\u001b[39;49m\u001b[43mkwargs\u001b[49m\u001b[43m)\u001b[49m\n\u001b[1;32m    343\u001b[0m \u001b[38;5;66;03m# Note: if we ever want to override things set in `self` by subclass\u001b[39;00m\n\u001b[1;32m    344\u001b[0m \u001b[38;5;66;03m# `__init__`, here is the place to do it.\u001b[39;00m\n\u001b[1;32m    345\u001b[0m \u001b[38;5;28;01mif\u001b[39;00m self_\u001b[38;5;241m.\u001b[39m_parameters \u001b[38;5;129;01mis\u001b[39;00m \u001b[38;5;28;01mNone\u001b[39;00m:\n\u001b[1;32m    346\u001b[0m   \u001b[38;5;66;03m# We prefer subclasses will set `parameters = dict(locals())` because\u001b[39;00m\n\u001b[1;32m    347\u001b[0m   \u001b[38;5;66;03m# this has nearly zero overhead. However, failing to do this, we will\u001b[39;00m\n\u001b[1;32m    348\u001b[0m   \u001b[38;5;66;03m# resolve the input arguments dynamically and only when needed.\u001b[39;00m\n",
      "File \u001b[0;32m~/miniforge3/envs/dl/lib/python3.12/site-packages/tensorflow_probability/substrates/jax/distributions/normal.py:136\u001b[0m, in \u001b[0;36mNormal.__init__\u001b[0;34m(self, loc, scale, validate_args, allow_nan_stats, name)\u001b[0m\n\u001b[1;32m    134\u001b[0m \u001b[38;5;28;01mwith\u001b[39;00m tf\u001b[38;5;241m.\u001b[39mname_scope(name) \u001b[38;5;28;01mas\u001b[39;00m name:\n\u001b[1;32m    135\u001b[0m   dtype \u001b[38;5;241m=\u001b[39m dtype_util\u001b[38;5;241m.\u001b[39mcommon_dtype([loc, scale], dtype_hint\u001b[38;5;241m=\u001b[39mtf\u001b[38;5;241m.\u001b[39mfloat32)\n\u001b[0;32m--> 136\u001b[0m   \u001b[38;5;28mself\u001b[39m\u001b[38;5;241m.\u001b[39m_loc \u001b[38;5;241m=\u001b[39m \u001b[43mtensor_util\u001b[49m\u001b[38;5;241;43m.\u001b[39;49m\u001b[43mconvert_nonref_to_tensor\u001b[49m\u001b[43m(\u001b[49m\n\u001b[1;32m    137\u001b[0m \u001b[43m      \u001b[49m\u001b[43mloc\u001b[49m\u001b[43m,\u001b[49m\u001b[43m \u001b[49m\u001b[43mdtype\u001b[49m\u001b[38;5;241;43m=\u001b[39;49m\u001b[43mdtype\u001b[49m\u001b[43m,\u001b[49m\u001b[43m \u001b[49m\u001b[43mname\u001b[49m\u001b[38;5;241;43m=\u001b[39;49m\u001b[38;5;124;43m'\u001b[39;49m\u001b[38;5;124;43mloc\u001b[39;49m\u001b[38;5;124;43m'\u001b[39;49m\u001b[43m)\u001b[49m\n\u001b[1;32m    138\u001b[0m   \u001b[38;5;28mself\u001b[39m\u001b[38;5;241m.\u001b[39m_scale \u001b[38;5;241m=\u001b[39m tensor_util\u001b[38;5;241m.\u001b[39mconvert_nonref_to_tensor(\n\u001b[1;32m    139\u001b[0m       scale, dtype\u001b[38;5;241m=\u001b[39mdtype, name\u001b[38;5;241m=\u001b[39m\u001b[38;5;124m'\u001b[39m\u001b[38;5;124mscale\u001b[39m\u001b[38;5;124m'\u001b[39m)\n\u001b[1;32m    140\u001b[0m   \u001b[38;5;28msuper\u001b[39m(Normal, \u001b[38;5;28mself\u001b[39m)\u001b[38;5;241m.\u001b[39m\u001b[38;5;21m__init__\u001b[39m(\n\u001b[1;32m    141\u001b[0m       dtype\u001b[38;5;241m=\u001b[39mdtype,\n\u001b[1;32m    142\u001b[0m       reparameterization_type\u001b[38;5;241m=\u001b[39mreparameterization\u001b[38;5;241m.\u001b[39mFULLY_REPARAMETERIZED,\n\u001b[0;32m   (...)\u001b[0m\n\u001b[1;32m    145\u001b[0m       parameters\u001b[38;5;241m=\u001b[39mparameters,\n\u001b[1;32m    146\u001b[0m       name\u001b[38;5;241m=\u001b[39mname)\n",
      "File \u001b[0;32m~/miniforge3/envs/dl/lib/python3.12/site-packages/tensorflow_probability/substrates/jax/internal/tensor_util.py:119\u001b[0m, in \u001b[0;36mconvert_nonref_to_tensor\u001b[0;34m(value, dtype, dtype_hint, as_shape_tensor, name)\u001b[0m\n\u001b[1;32m    116\u001b[0m \u001b[38;5;28;01mif\u001b[39;00m as_shape_tensor:\n\u001b[1;32m    117\u001b[0m   \u001b[38;5;28;01mreturn\u001b[39;00m prefer_static\u001b[38;5;241m.\u001b[39mconvert_to_shape_tensor(\n\u001b[1;32m    118\u001b[0m       value, dtype\u001b[38;5;241m=\u001b[39mdtype, dtype_hint\u001b[38;5;241m=\u001b[39mdtype_hint, name\u001b[38;5;241m=\u001b[39mname)\n\u001b[0;32m--> 119\u001b[0m \u001b[38;5;28;01mreturn\u001b[39;00m \u001b[43mtf\u001b[49m\u001b[38;5;241;43m.\u001b[39;49m\u001b[43mconvert_to_tensor\u001b[49m\u001b[43m(\u001b[49m\n\u001b[1;32m    120\u001b[0m \u001b[43m    \u001b[49m\u001b[43mvalue\u001b[49m\u001b[43m,\u001b[49m\u001b[43m \u001b[49m\u001b[43mdtype\u001b[49m\u001b[38;5;241;43m=\u001b[39;49m\u001b[43mdtype\u001b[49m\u001b[43m,\u001b[49m\u001b[43m \u001b[49m\u001b[43mdtype_hint\u001b[49m\u001b[38;5;241;43m=\u001b[39;49m\u001b[43mdtype_hint\u001b[49m\u001b[43m,\u001b[49m\u001b[43m \u001b[49m\u001b[43mname\u001b[49m\u001b[38;5;241;43m=\u001b[39;49m\u001b[43mname\u001b[49m\u001b[43m)\u001b[49m\n",
      "File \u001b[0;32m~/miniforge3/envs/dl/lib/python3.12/site-packages/tensorflow_probability/python/internal/backend/jax/_utils.py:62\u001b[0m, in \u001b[0;36mcopy_docstring.<locals>.wrap\u001b[0;34m(***failed resolving arguments***)\u001b[0m\n\u001b[1;32m     59\u001b[0m \u001b[38;5;129m@wrapt\u001b[39m\u001b[38;5;241m.\u001b[39mdecorator\n\u001b[1;32m     60\u001b[0m \u001b[38;5;28;01mdef\u001b[39;00m \u001b[38;5;21mwrap\u001b[39m(wrapped, instance, args, kwargs):\n\u001b[1;32m     61\u001b[0m   \u001b[38;5;28;01mdel\u001b[39;00m instance, wrapped\n\u001b[0;32m---> 62\u001b[0m   \u001b[38;5;28;01mreturn\u001b[39;00m \u001b[43mnew_fn\u001b[49m\u001b[43m(\u001b[49m\u001b[38;5;241;43m*\u001b[39;49m\u001b[43margs\u001b[49m\u001b[43m,\u001b[49m\u001b[43m \u001b[49m\u001b[38;5;241;43m*\u001b[39;49m\u001b[38;5;241;43m*\u001b[39;49m\u001b[43mkwargs\u001b[49m\u001b[43m)\u001b[49m\n",
      "File \u001b[0;32m~/miniforge3/envs/dl/lib/python3.12/site-packages/tensorflow_probability/python/internal/backend/jax/ops.py:167\u001b[0m, in \u001b[0;36m_convert_to_tensor\u001b[0;34m(value, dtype, dtype_hint, name)\u001b[0m\n\u001b[1;32m    164\u001b[0m     \u001b[38;5;28;01mpass\u001b[39;00m\n\u001b[1;32m    166\u001b[0m \u001b[38;5;28;01mif\u001b[39;00m ret \u001b[38;5;129;01mis\u001b[39;00m \u001b[38;5;28;01mNone\u001b[39;00m:\n\u001b[0;32m--> 167\u001b[0m   ret \u001b[38;5;241m=\u001b[39m \u001b[43mconversion_func\u001b[49m\u001b[43m(\u001b[49m\u001b[43mvalue\u001b[49m\u001b[43m,\u001b[49m\u001b[43m \u001b[49m\u001b[43mdtype\u001b[49m\u001b[38;5;241;43m=\u001b[39;49m\u001b[43mdtype\u001b[49m\u001b[43m)\u001b[49m\n\u001b[1;32m    168\u001b[0m \u001b[38;5;28;01mreturn\u001b[39;00m ret\n",
      "File \u001b[0;32m~/miniforge3/envs/dl/lib/python3.12/site-packages/tensorflow_probability/python/internal/backend/jax/ops.py:231\u001b[0m, in \u001b[0;36m_default_convert_to_tensor\u001b[0;34m(value, dtype)\u001b[0m\n\u001b[1;32m    226\u001b[0m     \u001b[38;5;28;01mif\u001b[39;00m \u001b[38;5;28mhasattr\u001b[39m(value[\u001b[38;5;241m0\u001b[39m], \u001b[38;5;124m'\u001b[39m\u001b[38;5;124mdtype\u001b[39m\u001b[38;5;124m'\u001b[39m) \u001b[38;5;129;01mand\u001b[39;00m jax\u001b[38;5;241m.\u001b[39mdtypes\u001b[38;5;241m.\u001b[39missubdtype(\n\u001b[1;32m    227\u001b[0m         value[\u001b[38;5;241m0\u001b[39m]\u001b[38;5;241m.\u001b[39mdtype, jax\u001b[38;5;241m.\u001b[39mdtypes\u001b[38;5;241m.\u001b[39mprng_key\n\u001b[1;32m    228\u001b[0m     ):\n\u001b[1;32m    229\u001b[0m       \u001b[38;5;28;01mreturn\u001b[39;00m np\u001b[38;5;241m.\u001b[39mstack(value, axis\u001b[38;5;241m=\u001b[39m\u001b[38;5;241m0\u001b[39m)\n\u001b[0;32m--> 231\u001b[0m inferred_dtype \u001b[38;5;241m=\u001b[39m \u001b[43m_infer_dtype\u001b[49m\u001b[43m(\u001b[49m\u001b[43mvalue\u001b[49m\u001b[43m,\u001b[49m\u001b[43m \u001b[49m\u001b[43mnp\u001b[49m\u001b[38;5;241;43m.\u001b[39;49m\u001b[43mfloat32\u001b[49m\u001b[43m)\u001b[49m\n\u001b[1;32m    232\u001b[0m \u001b[38;5;66;03m# When a dtype is provided, we can go ahead and try converting to the dtype\u001b[39;00m\n\u001b[1;32m    233\u001b[0m \u001b[38;5;66;03m# and force overflow/underflow if an int64 is converted to an int32.\u001b[39;00m\n\u001b[1;32m    234\u001b[0m \u001b[38;5;28;01mif\u001b[39;00m dtype \u001b[38;5;129;01mis\u001b[39;00m \u001b[38;5;129;01mnot\u001b[39;00m \u001b[38;5;28;01mNone\u001b[39;00m:\n",
      "File \u001b[0;32m~/miniforge3/envs/dl/lib/python3.12/site-packages/tensorflow_probability/python/internal/backend/jax/ops.py:195\u001b[0m, in \u001b[0;36m_infer_dtype\u001b[0;34m(value, default_dtype)\u001b[0m\n\u001b[1;32m    193\u001b[0m   \u001b[38;5;28;01mexcept\u001b[39;00m (\u001b[38;5;167;01mIndexError\u001b[39;00m, \u001b[38;5;167;01mTypeError\u001b[39;00m):\n\u001b[1;32m    194\u001b[0m     \u001b[38;5;28;01mreturn\u001b[39;00m default_dtype\n\u001b[0;32m--> 195\u001b[0m \u001b[38;5;28;01mraise\u001b[39;00m \u001b[38;5;167;01mValueError\u001b[39;00m((\u001b[38;5;124m'\u001b[39m\u001b[38;5;124mAttempt to convert a value (\u001b[39m\u001b[38;5;132;01m{}\u001b[39;00m\u001b[38;5;124m)\u001b[39m\u001b[38;5;124m'\u001b[39m\n\u001b[1;32m    196\u001b[0m                   \u001b[38;5;124m'\u001b[39m\u001b[38;5;124m with an unsupported type (\u001b[39m\u001b[38;5;132;01m{}\u001b[39;00m\u001b[38;5;124m) to a Tensor.\u001b[39m\u001b[38;5;124m'\u001b[39m)\u001b[38;5;241m.\u001b[39mformat(\n\u001b[1;32m    197\u001b[0m                       value, \u001b[38;5;28mtype\u001b[39m(value)))\n",
      "\u001b[0;31mValueError\u001b[0m: Attempt to convert a value (<object object at 0x321ac2350>) with an unsupported type (<class 'object'>) to a Tensor."
     ]
    }
   ],
   "source": [
    "# jd_71.sample_distributions(value=[[0.0, 0.0], [-0.2, 0.0], [6.1, 5.4]], seed=key())\n",
    "jd_71.sample_distributions(value=StateTuple([0.0, 0.0], [-0.2, 0.0], [6.1, 5.4]), seed=key())"
   ]
  },
  {
   "cell_type": "code",
   "execution_count": null,
   "metadata": {},
   "outputs": [],
   "source": [
    "# # In a better world. intuitive and elegant\n",
    "# ds, samples = jd_71.sample_distributions(value=post_71, seed=key())\n",
    "# ll = ds[-1].log_prob(d.brain_std.values) # (draw, chain, 7)\n",
    "# # lppd\n",
    "# jax.scipy.special.logsumexp(ll[:,0,:], b=1/draw, axis=0) # first chain or\n",
    "# jax.scipy.special.logsumexp(ll, b=1/(draw*chain), axis=[0, 1]) "
   ]
  },
  {
   "cell_type": "markdown",
   "metadata": {},
   "source": [
    "## 7.3 Golem Taming: Regularization"
   ]
  },
  {
   "cell_type": "markdown",
   "metadata": {},
   "source": [
    "## 7.4 Predicting predictive accuracy"
   ]
  },
  {
   "cell_type": "markdown",
   "metadata": {},
   "source": [
    "### Overthinking: WAIC calculations"
   ]
  },
  {
   "cell_type": "markdown",
   "metadata": {},
   "source": [
    "##### Code 7.19"
   ]
  },
  {
   "cell_type": "code",
   "execution_count": 120,
   "metadata": {},
   "outputs": [
    {
     "data": {
      "text/html": [
       "<div>\n",
       "<style scoped>\n",
       "    .dataframe tbody tr th:only-of-type {\n",
       "        vertical-align: middle;\n",
       "    }\n",
       "\n",
       "    .dataframe tbody tr th {\n",
       "        vertical-align: top;\n",
       "    }\n",
       "\n",
       "    .dataframe thead th {\n",
       "        text-align: right;\n",
       "    }\n",
       "</style>\n",
       "<table border=\"1\" class=\"dataframe\">\n",
       "  <thead>\n",
       "    <tr style=\"text-align: right;\">\n",
       "      <th></th>\n",
       "      <th>Unnamed: 0</th>\n",
       "      <th>speed</th>\n",
       "      <th>dist</th>\n",
       "    </tr>\n",
       "  </thead>\n",
       "  <tbody>\n",
       "    <tr>\n",
       "      <th>0</th>\n",
       "      <td>1</td>\n",
       "      <td>4</td>\n",
       "      <td>2</td>\n",
       "    </tr>\n",
       "    <tr>\n",
       "      <th>1</th>\n",
       "      <td>2</td>\n",
       "      <td>4</td>\n",
       "      <td>10</td>\n",
       "    </tr>\n",
       "    <tr>\n",
       "      <th>2</th>\n",
       "      <td>3</td>\n",
       "      <td>7</td>\n",
       "      <td>4</td>\n",
       "    </tr>\n",
       "    <tr>\n",
       "      <th>3</th>\n",
       "      <td>4</td>\n",
       "      <td>7</td>\n",
       "      <td>22</td>\n",
       "    </tr>\n",
       "    <tr>\n",
       "      <th>4</th>\n",
       "      <td>5</td>\n",
       "      <td>8</td>\n",
       "      <td>16</td>\n",
       "    </tr>\n",
       "  </tbody>\n",
       "</table>\n",
       "</div>"
      ],
      "text/plain": [
       "   Unnamed: 0  speed  dist\n",
       "0           1      4     2\n",
       "1           2      4    10\n",
       "2           3      7     4\n",
       "3           4      7    22\n",
       "4           5      8    16"
      ]
     },
     "execution_count": 120,
     "metadata": {},
     "output_type": "execute_result"
    }
   ],
   "source": [
    "# There is no CSV file for cars dataset in author's repo\n",
    "# hence I have inlined the data. In R this dataset much be bundled in\n",
    "# and this is why his code snippets do not need the csv file\n",
    "\n",
    "cars_data = \"\"\"\n",
    "\"\",\"speed\",\"dist\"\n",
    "\"1\",4,2\n",
    "\"2\",4,10\n",
    "\"3\",7,4\n",
    "\"4\",7,22\n",
    "\"5\",8,16\n",
    "\"6\",9,10\n",
    "\"7\",10,18\n",
    "\"8\",10,26\n",
    "\"9\",10,34\n",
    "\"10\",11,17\n",
    "\"11\",11,28\n",
    "\"12\",12,14\n",
    "\"13\",12,20\n",
    "\"14\",12,24\n",
    "\"15\",12,28\n",
    "\"16\",13,26\n",
    "\"17\",13,34\n",
    "\"18\",13,34\n",
    "\"19\",13,46\n",
    "\"20\",14,26\n",
    "\"21\",14,36\n",
    "\"22\",14,60\n",
    "\"23\",14,80\n",
    "\"24\",15,20\n",
    "\"25\",15,26\n",
    "\"26\",15,54\n",
    "\"27\",16,32\n",
    "\"28\",16,40\n",
    "\"29\",17,32\n",
    "\"30\",17,40\n",
    "\"31\",17,50\n",
    "\"32\",18,42\n",
    "\"33\",18,56\n",
    "\"34\",18,76\n",
    "\"35\",18,84\n",
    "\"36\",19,36\n",
    "\"37\",19,46\n",
    "\"38\",19,68\n",
    "\"39\",20,32\n",
    "\"40\",20,48\n",
    "\"41\",20,52\n",
    "\"42\",20,56\n",
    "\"43\",20,64\n",
    "\"44\",22,66\n",
    "\"45\",23,54\n",
    "\"46\",24,70\n",
    "\"47\",24,92\n",
    "\"48\",24,93\n",
    "\"49\",24,120\n",
    "\"50\",25,85\n",
    "\"\"\"\n",
    "\n",
    "buffer = StringIO(cars_data)\n",
    "d = pd.read_csv(buffer, sep=\",\")\n",
    "\n",
    "d.head()"
   ]
  },
  {
   "cell_type": "code",
   "execution_count": 121,
   "metadata": {},
   "outputs": [
    {
     "data": {
      "text/plain": [
       "Unnamed: 0    float32\n",
       "speed         float32\n",
       "dist          float32\n",
       "dtype: object"
      ]
     },
     "execution_count": 121,
     "metadata": {},
     "output_type": "execute_result"
    }
   ],
   "source": [
    "d = d.astype('float32')\n",
    "d.dtypes"
   ]
  },
  {
   "cell_type": "code",
   "execution_count": 25,
   "metadata": {},
   "outputs": [],
   "source": [
    "def model_cars(speed):\n",
    "    def _generator():\n",
    "        a = yield tfd.Normal(loc=0.0, scale=100.0, name=\"a\")\n",
    "        b = yield tfd.Normal(loc=0.0, scale=10.0, name=\"b\")\n",
    "        sigma = yield tfd.Exponential(rate=1.0, name=\"sigma\")\n",
    "        mu = a + b * speed\n",
    "        # BUG: DO NOT USE 'dist' as a name!!!! \n",
    "        yield tfd.Normal(loc=mu, scale=sigma, name=\"distance\")\n",
    "\n",
    "    return tfd.JointDistributionCoroutineAutoBatched(_generator, validate_args=False)"
   ]
  },
  {
   "cell_type": "code",
   "execution_count": 26,
   "metadata": {},
   "outputs": [],
   "source": [
    "jd_cars = model_cars(speed=d.speed.values)\n",
    "jd_cars_pd = jd_cars.experimental_pin(distance=d.dist.values)"
   ]
  },
  {
   "cell_type": "code",
   "execution_count": 76,
   "metadata": {},
   "outputs": [],
   "source": [
    "def target_log_prob_cars(*states):\n",
    "    return jd_cars_pd.unnormalized_log_prob(states)\n",
    "\n",
    "@jax.jit\n",
    "def sample_post_cars(init_state, seed):\n",
    "    kernel = tfp.mcmc.NoUTurnSampler(target_log_prob_cars, 1e-3)\n",
    "  \n",
    "    return tfp.mcmc.sample_chain(\n",
    "        num_results=1000,\n",
    "        current_state=init_state,\n",
    "        kernel=kernel,\n",
    "        num_burnin_steps=2000,\n",
    "        trace_fn=None, seed=seed)"
   ]
  },
  {
   "cell_type": "code",
   "execution_count": 65,
   "metadata": {},
   "outputs": [],
   "source": [
    "# # too braod prior for 'a'\n",
    "# num_chains = 4\n",
    "# init_state_cars = jd_cars_pd.sample_unpinned(num_chains, seed=key())\n",
    "# post_cars = sample_post_cars(init_state_cars, key())"
   ]
  },
  {
   "cell_type": "code",
   "execution_count": 69,
   "metadata": {},
   "outputs": [],
   "source": [
    "state_name_cars = jd_cars_pd.sample_unpinned(seed=key())._fields\n",
    "StateTuple = namedtuple(\"StateTuple\", state_name_cars)"
   ]
  },
  {
   "cell_type": "code",
   "execution_count": 83,
   "metadata": {},
   "outputs": [],
   "source": [
    "num_chains = 4\n",
    "init_state_cars = [jnp.ones(num_chains), \n",
    "                   jnp.ones(num_chains), jnp.ones(num_chains)]\n",
    "init_state_cars = StateTuple(**dict(zip(state_name_cars, init_state_cars)))\n",
    "post_cars = sample_post_cars(init_state_cars, key())"
   ]
  },
  {
   "cell_type": "code",
   "execution_count": 84,
   "metadata": {},
   "outputs": [],
   "source": [
    "post_cars_dict = {k: jnp.moveaxis(v, 0, 1) for k, v in post_cars._asdict().items()}\n",
    "dict_cars = dict(posterior=post_cars_dict)\n",
    "idata_cars = az.from_dict(**dict_cars)"
   ]
  },
  {
   "cell_type": "code",
   "execution_count": 85,
   "metadata": {},
   "outputs": [
    {
     "data": {
      "text/html": [
       "<div>\n",
       "<style scoped>\n",
       "    .dataframe tbody tr th:only-of-type {\n",
       "        vertical-align: middle;\n",
       "    }\n",
       "\n",
       "    .dataframe tbody tr th {\n",
       "        vertical-align: top;\n",
       "    }\n",
       "\n",
       "    .dataframe thead th {\n",
       "        text-align: right;\n",
       "    }\n",
       "</style>\n",
       "<table border=\"1\" class=\"dataframe\">\n",
       "  <thead>\n",
       "    <tr style=\"text-align: right;\">\n",
       "      <th></th>\n",
       "      <th>mean</th>\n",
       "      <th>sd</th>\n",
       "      <th>hdi_3%</th>\n",
       "      <th>hdi_97%</th>\n",
       "      <th>mcse_mean</th>\n",
       "      <th>mcse_sd</th>\n",
       "      <th>ess_bulk</th>\n",
       "      <th>ess_tail</th>\n",
       "      <th>r_hat</th>\n",
       "    </tr>\n",
       "  </thead>\n",
       "  <tbody>\n",
       "    <tr>\n",
       "      <th>a</th>\n",
       "      <td>-17.777</td>\n",
       "      <td>5.456</td>\n",
       "      <td>-28.257</td>\n",
       "      <td>-8.578</td>\n",
       "      <td>1.890</td>\n",
       "      <td>1.439</td>\n",
       "      <td>8.0</td>\n",
       "      <td>25.0</td>\n",
       "      <td>1.45</td>\n",
       "    </tr>\n",
       "    <tr>\n",
       "      <th>b</th>\n",
       "      <td>3.944</td>\n",
       "      <td>0.337</td>\n",
       "      <td>3.301</td>\n",
       "      <td>4.542</td>\n",
       "      <td>0.110</td>\n",
       "      <td>0.081</td>\n",
       "      <td>9.0</td>\n",
       "      <td>29.0</td>\n",
       "      <td>1.37</td>\n",
       "    </tr>\n",
       "    <tr>\n",
       "      <th>sigma</th>\n",
       "      <td>13.867</td>\n",
       "      <td>1.191</td>\n",
       "      <td>11.714</td>\n",
       "      <td>16.105</td>\n",
       "      <td>0.082</td>\n",
       "      <td>0.058</td>\n",
       "      <td>208.0</td>\n",
       "      <td>393.0</td>\n",
       "      <td>1.03</td>\n",
       "    </tr>\n",
       "  </tbody>\n",
       "</table>\n",
       "</div>"
      ],
      "text/plain": [
       "         mean     sd  hdi_3%  hdi_97%  mcse_mean  mcse_sd  ess_bulk  ess_tail  \\\n",
       "a     -17.777  5.456 -28.257   -8.578      1.890    1.439       8.0      25.0   \n",
       "b       3.944  0.337   3.301    4.542      0.110    0.081       9.0      29.0   \n",
       "sigma  13.867  1.191  11.714   16.105      0.082    0.058     208.0     393.0   \n",
       "\n",
       "       r_hat  \n",
       "a       1.45  \n",
       "b       1.37  \n",
       "sigma   1.03  "
      ]
     },
     "execution_count": 85,
     "metadata": {},
     "output_type": "execute_result"
    }
   ],
   "source": [
    "az.summary(idata_cars)"
   ]
  },
  {
   "cell_type": "code",
   "execution_count": 86,
   "metadata": {},
   "outputs": [],
   "source": [
    "from sklearn.linear_model import LinearRegression"
   ]
  },
  {
   "cell_type": "code",
   "execution_count": 88,
   "metadata": {},
   "outputs": [
    {
     "data": {
      "text/html": [
       "<style>#sk-container-id-1 {\n",
       "  /* Definition of color scheme common for light and dark mode */\n",
       "  --sklearn-color-text: black;\n",
       "  --sklearn-color-line: gray;\n",
       "  /* Definition of color scheme for unfitted estimators */\n",
       "  --sklearn-color-unfitted-level-0: #fff5e6;\n",
       "  --sklearn-color-unfitted-level-1: #f6e4d2;\n",
       "  --sklearn-color-unfitted-level-2: #ffe0b3;\n",
       "  --sklearn-color-unfitted-level-3: chocolate;\n",
       "  /* Definition of color scheme for fitted estimators */\n",
       "  --sklearn-color-fitted-level-0: #f0f8ff;\n",
       "  --sklearn-color-fitted-level-1: #d4ebff;\n",
       "  --sklearn-color-fitted-level-2: #b3dbfd;\n",
       "  --sklearn-color-fitted-level-3: cornflowerblue;\n",
       "\n",
       "  /* Specific color for light theme */\n",
       "  --sklearn-color-text-on-default-background: var(--sg-text-color, var(--theme-code-foreground, var(--jp-content-font-color1, black)));\n",
       "  --sklearn-color-background: var(--sg-background-color, var(--theme-background, var(--jp-layout-color0, white)));\n",
       "  --sklearn-color-border-box: var(--sg-text-color, var(--theme-code-foreground, var(--jp-content-font-color1, black)));\n",
       "  --sklearn-color-icon: #696969;\n",
       "\n",
       "  @media (prefers-color-scheme: dark) {\n",
       "    /* Redefinition of color scheme for dark theme */\n",
       "    --sklearn-color-text-on-default-background: var(--sg-text-color, var(--theme-code-foreground, var(--jp-content-font-color1, white)));\n",
       "    --sklearn-color-background: var(--sg-background-color, var(--theme-background, var(--jp-layout-color0, #111)));\n",
       "    --sklearn-color-border-box: var(--sg-text-color, var(--theme-code-foreground, var(--jp-content-font-color1, white)));\n",
       "    --sklearn-color-icon: #878787;\n",
       "  }\n",
       "}\n",
       "\n",
       "#sk-container-id-1 {\n",
       "  color: var(--sklearn-color-text);\n",
       "}\n",
       "\n",
       "#sk-container-id-1 pre {\n",
       "  padding: 0;\n",
       "}\n",
       "\n",
       "#sk-container-id-1 input.sk-hidden--visually {\n",
       "  border: 0;\n",
       "  clip: rect(1px 1px 1px 1px);\n",
       "  clip: rect(1px, 1px, 1px, 1px);\n",
       "  height: 1px;\n",
       "  margin: -1px;\n",
       "  overflow: hidden;\n",
       "  padding: 0;\n",
       "  position: absolute;\n",
       "  width: 1px;\n",
       "}\n",
       "\n",
       "#sk-container-id-1 div.sk-dashed-wrapped {\n",
       "  border: 1px dashed var(--sklearn-color-line);\n",
       "  margin: 0 0.4em 0.5em 0.4em;\n",
       "  box-sizing: border-box;\n",
       "  padding-bottom: 0.4em;\n",
       "  background-color: var(--sklearn-color-background);\n",
       "}\n",
       "\n",
       "#sk-container-id-1 div.sk-container {\n",
       "  /* jupyter's `normalize.less` sets `[hidden] { display: none; }`\n",
       "     but bootstrap.min.css set `[hidden] { display: none !important; }`\n",
       "     so we also need the `!important` here to be able to override the\n",
       "     default hidden behavior on the sphinx rendered scikit-learn.org.\n",
       "     See: https://github.com/scikit-learn/scikit-learn/issues/21755 */\n",
       "  display: inline-block !important;\n",
       "  position: relative;\n",
       "}\n",
       "\n",
       "#sk-container-id-1 div.sk-text-repr-fallback {\n",
       "  display: none;\n",
       "}\n",
       "\n",
       "div.sk-parallel-item,\n",
       "div.sk-serial,\n",
       "div.sk-item {\n",
       "  /* draw centered vertical line to link estimators */\n",
       "  background-image: linear-gradient(var(--sklearn-color-text-on-default-background), var(--sklearn-color-text-on-default-background));\n",
       "  background-size: 2px 100%;\n",
       "  background-repeat: no-repeat;\n",
       "  background-position: center center;\n",
       "}\n",
       "\n",
       "/* Parallel-specific style estimator block */\n",
       "\n",
       "#sk-container-id-1 div.sk-parallel-item::after {\n",
       "  content: \"\";\n",
       "  width: 100%;\n",
       "  border-bottom: 2px solid var(--sklearn-color-text-on-default-background);\n",
       "  flex-grow: 1;\n",
       "}\n",
       "\n",
       "#sk-container-id-1 div.sk-parallel {\n",
       "  display: flex;\n",
       "  align-items: stretch;\n",
       "  justify-content: center;\n",
       "  background-color: var(--sklearn-color-background);\n",
       "  position: relative;\n",
       "}\n",
       "\n",
       "#sk-container-id-1 div.sk-parallel-item {\n",
       "  display: flex;\n",
       "  flex-direction: column;\n",
       "}\n",
       "\n",
       "#sk-container-id-1 div.sk-parallel-item:first-child::after {\n",
       "  align-self: flex-end;\n",
       "  width: 50%;\n",
       "}\n",
       "\n",
       "#sk-container-id-1 div.sk-parallel-item:last-child::after {\n",
       "  align-self: flex-start;\n",
       "  width: 50%;\n",
       "}\n",
       "\n",
       "#sk-container-id-1 div.sk-parallel-item:only-child::after {\n",
       "  width: 0;\n",
       "}\n",
       "\n",
       "/* Serial-specific style estimator block */\n",
       "\n",
       "#sk-container-id-1 div.sk-serial {\n",
       "  display: flex;\n",
       "  flex-direction: column;\n",
       "  align-items: center;\n",
       "  background-color: var(--sklearn-color-background);\n",
       "  padding-right: 1em;\n",
       "  padding-left: 1em;\n",
       "}\n",
       "\n",
       "\n",
       "/* Toggleable style: style used for estimator/Pipeline/ColumnTransformer box that is\n",
       "clickable and can be expanded/collapsed.\n",
       "- Pipeline and ColumnTransformer use this feature and define the default style\n",
       "- Estimators will overwrite some part of the style using the `sk-estimator` class\n",
       "*/\n",
       "\n",
       "/* Pipeline and ColumnTransformer style (default) */\n",
       "\n",
       "#sk-container-id-1 div.sk-toggleable {\n",
       "  /* Default theme specific background. It is overwritten whether we have a\n",
       "  specific estimator or a Pipeline/ColumnTransformer */\n",
       "  background-color: var(--sklearn-color-background);\n",
       "}\n",
       "\n",
       "/* Toggleable label */\n",
       "#sk-container-id-1 label.sk-toggleable__label {\n",
       "  cursor: pointer;\n",
       "  display: block;\n",
       "  width: 100%;\n",
       "  margin-bottom: 0;\n",
       "  padding: 0.5em;\n",
       "  box-sizing: border-box;\n",
       "  text-align: center;\n",
       "}\n",
       "\n",
       "#sk-container-id-1 label.sk-toggleable__label-arrow:before {\n",
       "  /* Arrow on the left of the label */\n",
       "  content: \"▸\";\n",
       "  float: left;\n",
       "  margin-right: 0.25em;\n",
       "  color: var(--sklearn-color-icon);\n",
       "}\n",
       "\n",
       "#sk-container-id-1 label.sk-toggleable__label-arrow:hover:before {\n",
       "  color: var(--sklearn-color-text);\n",
       "}\n",
       "\n",
       "/* Toggleable content - dropdown */\n",
       "\n",
       "#sk-container-id-1 div.sk-toggleable__content {\n",
       "  max-height: 0;\n",
       "  max-width: 0;\n",
       "  overflow: hidden;\n",
       "  text-align: left;\n",
       "  /* unfitted */\n",
       "  background-color: var(--sklearn-color-unfitted-level-0);\n",
       "}\n",
       "\n",
       "#sk-container-id-1 div.sk-toggleable__content.fitted {\n",
       "  /* fitted */\n",
       "  background-color: var(--sklearn-color-fitted-level-0);\n",
       "}\n",
       "\n",
       "#sk-container-id-1 div.sk-toggleable__content pre {\n",
       "  margin: 0.2em;\n",
       "  border-radius: 0.25em;\n",
       "  color: var(--sklearn-color-text);\n",
       "  /* unfitted */\n",
       "  background-color: var(--sklearn-color-unfitted-level-0);\n",
       "}\n",
       "\n",
       "#sk-container-id-1 div.sk-toggleable__content.fitted pre {\n",
       "  /* unfitted */\n",
       "  background-color: var(--sklearn-color-fitted-level-0);\n",
       "}\n",
       "\n",
       "#sk-container-id-1 input.sk-toggleable__control:checked~div.sk-toggleable__content {\n",
       "  /* Expand drop-down */\n",
       "  max-height: 200px;\n",
       "  max-width: 100%;\n",
       "  overflow: auto;\n",
       "}\n",
       "\n",
       "#sk-container-id-1 input.sk-toggleable__control:checked~label.sk-toggleable__label-arrow:before {\n",
       "  content: \"▾\";\n",
       "}\n",
       "\n",
       "/* Pipeline/ColumnTransformer-specific style */\n",
       "\n",
       "#sk-container-id-1 div.sk-label input.sk-toggleable__control:checked~label.sk-toggleable__label {\n",
       "  color: var(--sklearn-color-text);\n",
       "  background-color: var(--sklearn-color-unfitted-level-2);\n",
       "}\n",
       "\n",
       "#sk-container-id-1 div.sk-label.fitted input.sk-toggleable__control:checked~label.sk-toggleable__label {\n",
       "  background-color: var(--sklearn-color-fitted-level-2);\n",
       "}\n",
       "\n",
       "/* Estimator-specific style */\n",
       "\n",
       "/* Colorize estimator box */\n",
       "#sk-container-id-1 div.sk-estimator input.sk-toggleable__control:checked~label.sk-toggleable__label {\n",
       "  /* unfitted */\n",
       "  background-color: var(--sklearn-color-unfitted-level-2);\n",
       "}\n",
       "\n",
       "#sk-container-id-1 div.sk-estimator.fitted input.sk-toggleable__control:checked~label.sk-toggleable__label {\n",
       "  /* fitted */\n",
       "  background-color: var(--sklearn-color-fitted-level-2);\n",
       "}\n",
       "\n",
       "#sk-container-id-1 div.sk-label label.sk-toggleable__label,\n",
       "#sk-container-id-1 div.sk-label label {\n",
       "  /* The background is the default theme color */\n",
       "  color: var(--sklearn-color-text-on-default-background);\n",
       "}\n",
       "\n",
       "/* On hover, darken the color of the background */\n",
       "#sk-container-id-1 div.sk-label:hover label.sk-toggleable__label {\n",
       "  color: var(--sklearn-color-text);\n",
       "  background-color: var(--sklearn-color-unfitted-level-2);\n",
       "}\n",
       "\n",
       "/* Label box, darken color on hover, fitted */\n",
       "#sk-container-id-1 div.sk-label.fitted:hover label.sk-toggleable__label.fitted {\n",
       "  color: var(--sklearn-color-text);\n",
       "  background-color: var(--sklearn-color-fitted-level-2);\n",
       "}\n",
       "\n",
       "/* Estimator label */\n",
       "\n",
       "#sk-container-id-1 div.sk-label label {\n",
       "  font-family: monospace;\n",
       "  font-weight: bold;\n",
       "  display: inline-block;\n",
       "  line-height: 1.2em;\n",
       "}\n",
       "\n",
       "#sk-container-id-1 div.sk-label-container {\n",
       "  text-align: center;\n",
       "}\n",
       "\n",
       "/* Estimator-specific */\n",
       "#sk-container-id-1 div.sk-estimator {\n",
       "  font-family: monospace;\n",
       "  border: 1px dotted var(--sklearn-color-border-box);\n",
       "  border-radius: 0.25em;\n",
       "  box-sizing: border-box;\n",
       "  margin-bottom: 0.5em;\n",
       "  /* unfitted */\n",
       "  background-color: var(--sklearn-color-unfitted-level-0);\n",
       "}\n",
       "\n",
       "#sk-container-id-1 div.sk-estimator.fitted {\n",
       "  /* fitted */\n",
       "  background-color: var(--sklearn-color-fitted-level-0);\n",
       "}\n",
       "\n",
       "/* on hover */\n",
       "#sk-container-id-1 div.sk-estimator:hover {\n",
       "  /* unfitted */\n",
       "  background-color: var(--sklearn-color-unfitted-level-2);\n",
       "}\n",
       "\n",
       "#sk-container-id-1 div.sk-estimator.fitted:hover {\n",
       "  /* fitted */\n",
       "  background-color: var(--sklearn-color-fitted-level-2);\n",
       "}\n",
       "\n",
       "/* Specification for estimator info (e.g. \"i\" and \"?\") */\n",
       "\n",
       "/* Common style for \"i\" and \"?\" */\n",
       "\n",
       ".sk-estimator-doc-link,\n",
       "a:link.sk-estimator-doc-link,\n",
       "a:visited.sk-estimator-doc-link {\n",
       "  float: right;\n",
       "  font-size: smaller;\n",
       "  line-height: 1em;\n",
       "  font-family: monospace;\n",
       "  background-color: var(--sklearn-color-background);\n",
       "  border-radius: 1em;\n",
       "  height: 1em;\n",
       "  width: 1em;\n",
       "  text-decoration: none !important;\n",
       "  margin-left: 1ex;\n",
       "  /* unfitted */\n",
       "  border: var(--sklearn-color-unfitted-level-1) 1pt solid;\n",
       "  color: var(--sklearn-color-unfitted-level-1);\n",
       "}\n",
       "\n",
       ".sk-estimator-doc-link.fitted,\n",
       "a:link.sk-estimator-doc-link.fitted,\n",
       "a:visited.sk-estimator-doc-link.fitted {\n",
       "  /* fitted */\n",
       "  border: var(--sklearn-color-fitted-level-1) 1pt solid;\n",
       "  color: var(--sklearn-color-fitted-level-1);\n",
       "}\n",
       "\n",
       "/* On hover */\n",
       "div.sk-estimator:hover .sk-estimator-doc-link:hover,\n",
       ".sk-estimator-doc-link:hover,\n",
       "div.sk-label-container:hover .sk-estimator-doc-link:hover,\n",
       ".sk-estimator-doc-link:hover {\n",
       "  /* unfitted */\n",
       "  background-color: var(--sklearn-color-unfitted-level-3);\n",
       "  color: var(--sklearn-color-background);\n",
       "  text-decoration: none;\n",
       "}\n",
       "\n",
       "div.sk-estimator.fitted:hover .sk-estimator-doc-link.fitted:hover,\n",
       ".sk-estimator-doc-link.fitted:hover,\n",
       "div.sk-label-container:hover .sk-estimator-doc-link.fitted:hover,\n",
       ".sk-estimator-doc-link.fitted:hover {\n",
       "  /* fitted */\n",
       "  background-color: var(--sklearn-color-fitted-level-3);\n",
       "  color: var(--sklearn-color-background);\n",
       "  text-decoration: none;\n",
       "}\n",
       "\n",
       "/* Span, style for the box shown on hovering the info icon */\n",
       ".sk-estimator-doc-link span {\n",
       "  display: none;\n",
       "  z-index: 9999;\n",
       "  position: relative;\n",
       "  font-weight: normal;\n",
       "  right: .2ex;\n",
       "  padding: .5ex;\n",
       "  margin: .5ex;\n",
       "  width: min-content;\n",
       "  min-width: 20ex;\n",
       "  max-width: 50ex;\n",
       "  color: var(--sklearn-color-text);\n",
       "  box-shadow: 2pt 2pt 4pt #999;\n",
       "  /* unfitted */\n",
       "  background: var(--sklearn-color-unfitted-level-0);\n",
       "  border: .5pt solid var(--sklearn-color-unfitted-level-3);\n",
       "}\n",
       "\n",
       ".sk-estimator-doc-link.fitted span {\n",
       "  /* fitted */\n",
       "  background: var(--sklearn-color-fitted-level-0);\n",
       "  border: var(--sklearn-color-fitted-level-3);\n",
       "}\n",
       "\n",
       ".sk-estimator-doc-link:hover span {\n",
       "  display: block;\n",
       "}\n",
       "\n",
       "/* \"?\"-specific style due to the `<a>` HTML tag */\n",
       "\n",
       "#sk-container-id-1 a.estimator_doc_link {\n",
       "  float: right;\n",
       "  font-size: 1rem;\n",
       "  line-height: 1em;\n",
       "  font-family: monospace;\n",
       "  background-color: var(--sklearn-color-background);\n",
       "  border-radius: 1rem;\n",
       "  height: 1rem;\n",
       "  width: 1rem;\n",
       "  text-decoration: none;\n",
       "  /* unfitted */\n",
       "  color: var(--sklearn-color-unfitted-level-1);\n",
       "  border: var(--sklearn-color-unfitted-level-1) 1pt solid;\n",
       "}\n",
       "\n",
       "#sk-container-id-1 a.estimator_doc_link.fitted {\n",
       "  /* fitted */\n",
       "  border: var(--sklearn-color-fitted-level-1) 1pt solid;\n",
       "  color: var(--sklearn-color-fitted-level-1);\n",
       "}\n",
       "\n",
       "/* On hover */\n",
       "#sk-container-id-1 a.estimator_doc_link:hover {\n",
       "  /* unfitted */\n",
       "  background-color: var(--sklearn-color-unfitted-level-3);\n",
       "  color: var(--sklearn-color-background);\n",
       "  text-decoration: none;\n",
       "}\n",
       "\n",
       "#sk-container-id-1 a.estimator_doc_link.fitted:hover {\n",
       "  /* fitted */\n",
       "  background-color: var(--sklearn-color-fitted-level-3);\n",
       "}\n",
       "</style><div id=\"sk-container-id-1\" class=\"sk-top-container\"><div class=\"sk-text-repr-fallback\"><pre>LinearRegression()</pre><b>In a Jupyter environment, please rerun this cell to show the HTML representation or trust the notebook. <br />On GitHub, the HTML representation is unable to render, please try loading this page with nbviewer.org.</b></div><div class=\"sk-container\" hidden><div class=\"sk-item\"><div class=\"sk-estimator fitted sk-toggleable\"><input class=\"sk-toggleable__control sk-hidden--visually\" id=\"sk-estimator-id-1\" type=\"checkbox\" checked><label for=\"sk-estimator-id-1\" class=\"sk-toggleable__label fitted sk-toggleable__label-arrow fitted\">&nbsp;&nbsp;LinearRegression<a class=\"sk-estimator-doc-link fitted\" rel=\"noreferrer\" target=\"_blank\" href=\"https://scikit-learn.org/1.5/modules/generated/sklearn.linear_model.LinearRegression.html\">?<span>Documentation for LinearRegression</span></a><span class=\"sk-estimator-doc-link fitted\">i<span>Fitted</span></span></label><div class=\"sk-toggleable__content fitted\"><pre>LinearRegression()</pre></div> </div></div></div></div>"
      ],
      "text/plain": [
       "LinearRegression()"
      ]
     },
     "execution_count": 88,
     "metadata": {},
     "output_type": "execute_result"
    }
   ],
   "source": [
    "m = LinearRegression()\n",
    "m.fit(d.speed.values.reshape(-1, 1), d.dist.values)"
   ]
  },
  {
   "cell_type": "code",
   "execution_count": 89,
   "metadata": {},
   "outputs": [
    {
     "name": "stdout",
     "output_type": "stream",
     "text": [
      "intercept: -17.579082489013672\n",
      "slope: [3.932408]\n"
     ]
    }
   ],
   "source": [
    "print(f\"intercept: {m.intercept_}\")\n",
    "print(f\"slope: {m.coef_}\")"
   ]
  },
  {
   "cell_type": "markdown",
   "metadata": {},
   "source": [
    "##### Code 7.20"
   ]
  },
  {
   "cell_type": "code",
   "execution_count": 161,
   "metadata": {},
   "outputs": [],
   "source": [
    "# idata_cars.posterior['a']: (chain, draw)\n",
    "# mu: (chain, draw, obs)\n",
    "mu = idata_cars.posterior['a'] + idata_cars.posterior['b'] * xr.DataArray(d.speed.values)\n",
    "mu = mu.to_numpy()\n",
    "# add newaxis to braodcast through obs\n",
    "sigma = idata_cars.posterior['sigma'].to_numpy()[..., np.newaxis]"
   ]
  },
  {
   "cell_type": "code",
   "execution_count": 164,
   "metadata": {},
   "outputs": [],
   "source": [
    "normal = tfd.Normal(loc=mu, scale=sigma)"
   ]
  },
  {
   "cell_type": "code",
   "execution_count": 265,
   "metadata": {},
   "outputs": [],
   "source": [
    "# (chain, draw, obs)\n",
    "ll_i = normal.log_prob(d.dist.values)"
   ]
  },
  {
   "cell_type": "code",
   "execution_count": null,
   "metadata": {},
   "outputs": [],
   "source": [
    "# from source: /arviz/stats/stats.py: def waic() ...\n",
    "# \n",
    "# waic_i = scale_value * (lppd_i - vars_lpd)\n",
    "# waic_se = (n_data_points * np.var(waic_i.values)) ** 0.5\n",
    "# waic_sum = np.sum(waic_i.values)\n",
    "# p_waic = np.sum(vars_lpd.values)"
   ]
  },
  {
   "cell_type": "code",
   "execution_count": 272,
   "metadata": {},
   "outputs": [
    {
     "name": "stdout",
     "output_type": "stream",
     "text": [
      "elpd_waic: 420.5662841796875, se:15.613472938537598\n",
      "p_wais: 3.6938436031341553\n"
     ]
    }
   ],
   "source": [
    "lppd_i = jax.scipy.special.logsumexp(ll_i, b=1/4000, axis=(0, 1))\n",
    "vars_lpd = jnp.var(ll_i, axis=(0, 1))\n",
    "waic_i = -2*(lppd_i - vars_lpd)\n",
    "print(f\"elpd_waic: {jnp.sum(waic_i)}, se:{jnp.sqrt(len(obs) * jnp.var(waic_i))}\")\n",
    "print(f\"p_wais: {jnp.sum(vars_lpd)}\")"
   ]
  },
  {
   "cell_type": "code",
   "execution_count": 273,
   "metadata": {},
   "outputs": [],
   "source": [
    "dict_cars.update(log_likelihood={'ll': ll_i},\n",
    "                 dims={\"ll\": [\"obs\"]},\n",
    "                 coords={\"obs\": jnp.arange(len(d.dist.values))})\n",
    "idata_cars = az.from_dict(**dict_cars)"
   ]
  },
  {
   "cell_type": "code",
   "execution_count": 274,
   "metadata": {},
   "outputs": [
    {
     "name": "stderr",
     "output_type": "stream",
     "text": [
      "/Users/jun/miniforge3/envs/dl/lib/python3.12/site-packages/arviz/stats/stats.py:1632: UserWarning: For one or more samples the posterior variance of the log predictive densities exceeds 0.4. This could be indication of WAIC starting to fail. \n",
      "See http://arxiv.org/abs/1507.04544 for details\n",
      "  warnings.warn(\n"
     ]
    },
    {
     "data": {
      "text/plain": [
       "Computed from 4000 posterior samples and 50 observations log-likelihood matrix.\n",
       "\n",
       "              Estimate       SE\n",
       "deviance_waic   420.57    15.94\n",
       "p_waic            3.69        -\n",
       "\n",
       "There has been a warning during the calculation. Please check the results."
      ]
     },
     "execution_count": 274,
     "metadata": {},
     "output_type": "execute_result"
    }
   ],
   "source": [
    "az.waic(idata_cars, scale='deviance')"
   ]
  },
  {
   "cell_type": "code",
   "execution_count": 207,
   "metadata": {},
   "outputs": [
    {
     "data": {
      "text/plain": [
       "Array([0.7092146, 1.2408626], dtype=float32)"
      ]
     },
     "execution_count": 207,
     "metadata": {},
     "output_type": "execute_result"
    }
   ],
   "source": [
    "# UserWarning: For one or more samples the posterior variance of the log predictive densities exceeds 0.4. This could be indication of WAIC starting to fail. \n",
    "# See http://arxiv.org/abs/1507.04544 for details\n",
    "ll_vars = jnp.var(ll_i, axis=(0, 1))\n",
    "ll_vars[jnp.where(ll_vars > 0.4)]"
   ]
  },
  {
   "cell_type": "code",
   "execution_count": 275,
   "metadata": {},
   "outputs": [],
   "source": [
    "# az.waic() without waning cases \n",
    "obs = jnp.where(ll_vars <= 0.4)[0]\n",
    "ll_i = ll_i[..., obs]"
   ]
  },
  {
   "cell_type": "code",
   "execution_count": 276,
   "metadata": {},
   "outputs": [],
   "source": [
    "dict_cars.update(log_likelihood={'ll': ll_i},\n",
    "                 dims={\"ll\": [\"obs\"]},\n",
    "                 coords={\"obs\": jnp.arange(len(obs))})\n",
    "idata_cars = az.from_dict(**dict_cars)"
   ]
  },
  {
   "cell_type": "code",
   "execution_count": 277,
   "metadata": {},
   "outputs": [
    {
     "data": {
      "text/plain": [
       "Computed from 4000 posterior samples and 48 observations log-likelihood matrix.\n",
       "\n",
       "              Estimate       SE\n",
       "deviance_waic   384.62     7.95\n",
       "p_waic            1.74        -"
      ]
     },
     "execution_count": 277,
     "metadata": {},
     "output_type": "execute_result"
    }
   ],
   "source": [
    "az.waic(idata_cars, scale='deviance')"
   ]
  },
  {
   "cell_type": "code",
   "execution_count": 278,
   "metadata": {},
   "outputs": [],
   "source": [
    "# by hand with the selected obs\n",
    "lppd_i = jax.scipy.special.logsumexp(ll_i, b=1/4000, axis=(0, 1))\n",
    "vars_lpd = jnp.var(ll_i, axis=(0, 1))"
   ]
  },
  {
   "cell_type": "code",
   "execution_count": 279,
   "metadata": {},
   "outputs": [
    {
     "name": "stdout",
     "output_type": "stream",
     "text": [
      "elpd_waic: 384.6249694824219, se:7.945420742034912\n",
      "p_wais: 1.7437663078308105\n"
     ]
    }
   ],
   "source": [
    "waic_i = -2*(lppd_i - vars_lpd)\n",
    "# elpd_waic\n",
    "print(f\"elpd_waic: {jnp.sum(waic_i)}, se:{jnp.sqrt(len(obs) * jnp.var(waic_i))}\")\n",
    "print(f\"p_wais: {jnp.sum(vars_lpd)}\")"
   ]
  },
  {
   "cell_type": "markdown",
   "metadata": {},
   "source": [
    "### 7.4.3 Comparing CV, PSIS, and WAIC"
   ]
  },
  {
   "cell_type": "markdown",
   "metadata": {},
   "source": [
    "## 7.5 Model comparison"
   ]
  },
  {
   "cell_type": "markdown",
   "metadata": {},
   "source": [
    "##### Code 7.25\n",
    "\n",
    "\n",
    "Here we need to first redefine models from the previous chapters i.e. m6_6,m6_7,m6_8 and compute the log likelihoods as well and only then we will compute the WAIC"
   ]
  },
  {
   "cell_type": "code",
   "execution_count": 282,
   "metadata": {},
   "outputs": [],
   "source": [
    "def simulate():\n",
    "    seed = tfp.util.SeedStream(613, salt=\"sim_heights\")\n",
    "    # number of plants\n",
    "    N = 100\n",
    "    # simulate initial heights\n",
    "    h0 = tfd.Normal(loc=10.0, scale=2.0).sample(N, seed=seed())\n",
    "    # assign treatments and simulate fungus and growth\n",
    "    treatment = jnp.repeat(jnp.array([0.0, 1.0]), repeats=N // 2)\n",
    "    fungus = tfd.Binomial(total_count=1.0, probs=(0.5 - treatment * 0.4)).sample(seed=seed())\n",
    "    h1 = h0 + tfd.Normal(loc=5.0 - 3.0 * fungus, scale=1.0).sample(seed=seed())\n",
    "    # compose a clean data frame\n",
    "    return {\"h0\": h0, \"h1\": h1, \"treatment\": treatment, \"fungus\": fungus}\n",
    "\n",
    "d_dict = simulate()"
   ]
  },
  {
   "cell_type": "code",
   "execution_count": 283,
   "metadata": {},
   "outputs": [],
   "source": [
    "d = pd.DataFrame.from_dict(d_dict)"
   ]
  },
  {
   "cell_type": "code",
   "execution_count": 285,
   "metadata": {},
   "outputs": [],
   "source": [
    "def model_66(h0):\n",
    "    def _generator():\n",
    "        p = yield tfd.LogNormal(loc=0.0, scale=0.25, name=\"p\")\n",
    "        sigma = yield tfd.Exponential(rate=1.0, name=\"sigma\")\n",
    "        mu = h0 * p\n",
    "        h1 = yield tfd.Normal(loc=mu, scale=sigma, name=\"h1\")\n",
    "\n",
    "    return tfd.JointDistributionCoroutineAutoBatched(_generator, validate_args=False)"
   ]
  },
  {
   "cell_type": "code",
   "execution_count": 286,
   "metadata": {},
   "outputs": [],
   "source": [
    "jd_66 = model_66(d.h0.values)\n",
    "jd_66_pd = jd_66.experimental_pin(h1=d.h1.values)"
   ]
  },
  {
   "cell_type": "code",
   "execution_count": 291,
   "metadata": {},
   "outputs": [],
   "source": [
    "def target_log_prob_66(*states):\n",
    "    return jd_66_pd.unnormalized_log_prob(states)\n",
    "\n",
    "def sample_post_66(init_state, seed):\n",
    "    kernel = tfp.mcmc.NoUTurnSampler(target_log_prob_66, 1e-3)\n",
    "  \n",
    "    return tfp.mcmc.sample_chain(\n",
    "            num_results=1000,\n",
    "            current_state=init_state,\n",
    "            kernel=kernel,\n",
    "            num_burnin_steps=2000,\n",
    "            trace_fn=None, seed=seed)"
   ]
  },
  {
   "cell_type": "code",
   "execution_count": 292,
   "metadata": {},
   "outputs": [],
   "source": [
    "num_chains = 4\n",
    "init_state_66 = jd_66_pd.sample_unpinned(num_chains, seed=key())\n",
    "post_66 = sample_post_66(init_state_66, key())"
   ]
  },
  {
   "cell_type": "code",
   "execution_count": 293,
   "metadata": {},
   "outputs": [],
   "source": [
    "post_66_dict = {k: jnp.moveaxis(v, 0, 1) for k, v in post_66._asdict().items()}\n",
    "dict_66 = dict(posterior=post_66_dict)\n",
    "idata_66 = az.from_dict(**dict_66)"
   ]
  },
  {
   "cell_type": "code",
   "execution_count": 294,
   "metadata": {},
   "outputs": [
    {
     "data": {
      "text/html": [
       "<div>\n",
       "<style scoped>\n",
       "    .dataframe tbody tr th:only-of-type {\n",
       "        vertical-align: middle;\n",
       "    }\n",
       "\n",
       "    .dataframe tbody tr th {\n",
       "        vertical-align: top;\n",
       "    }\n",
       "\n",
       "    .dataframe thead th {\n",
       "        text-align: right;\n",
       "    }\n",
       "</style>\n",
       "<table border=\"1\" class=\"dataframe\">\n",
       "  <thead>\n",
       "    <tr style=\"text-align: right;\">\n",
       "      <th></th>\n",
       "      <th>mean</th>\n",
       "      <th>sd</th>\n",
       "      <th>hdi_3%</th>\n",
       "      <th>hdi_97%</th>\n",
       "      <th>mcse_mean</th>\n",
       "      <th>mcse_sd</th>\n",
       "      <th>ess_bulk</th>\n",
       "      <th>ess_tail</th>\n",
       "      <th>r_hat</th>\n",
       "    </tr>\n",
       "  </thead>\n",
       "  <tbody>\n",
       "    <tr>\n",
       "      <th>p</th>\n",
       "      <td>1.411</td>\n",
       "      <td>0.018</td>\n",
       "      <td>1.377</td>\n",
       "      <td>1.444</td>\n",
       "      <td>0.000</td>\n",
       "      <td>0.000</td>\n",
       "      <td>2713.0</td>\n",
       "      <td>1816.0</td>\n",
       "      <td>1.00</td>\n",
       "    </tr>\n",
       "    <tr>\n",
       "      <th>sigma</th>\n",
       "      <td>1.869</td>\n",
       "      <td>0.141</td>\n",
       "      <td>1.615</td>\n",
       "      <td>2.130</td>\n",
       "      <td>0.006</td>\n",
       "      <td>0.005</td>\n",
       "      <td>520.0</td>\n",
       "      <td>542.0</td>\n",
       "      <td>1.01</td>\n",
       "    </tr>\n",
       "  </tbody>\n",
       "</table>\n",
       "</div>"
      ],
      "text/plain": [
       "        mean     sd  hdi_3%  hdi_97%  mcse_mean  mcse_sd  ess_bulk  ess_tail  \\\n",
       "p      1.411  0.018   1.377    1.444      0.000    0.000    2713.0    1816.0   \n",
       "sigma  1.869  0.141   1.615    2.130      0.006    0.005     520.0     542.0   \n",
       "\n",
       "       r_hat  \n",
       "p       1.00  \n",
       "sigma   1.01  "
      ]
     },
     "execution_count": 294,
     "metadata": {},
     "output_type": "execute_result"
    }
   ],
   "source": [
    "az.summary(idata_66)"
   ]
  },
  {
   "cell_type": "markdown",
   "metadata": {},
   "source": [
    "The result shows that with height as the only predictor variable in the model there is about 40% growth on average."
   ]
  },
  {
   "cell_type": "markdown",
   "metadata": {},
   "source": [
    "##### Code 6.16\n",
    "\n",
    "In this model we include treatment & fungus variables as well"
   ]
  },
  {
   "cell_type": "code",
   "execution_count": 295,
   "metadata": {},
   "outputs": [],
   "source": [
    "def model_67(h0, treatment, fungus):\n",
    "    def _generator():\n",
    "        a = yield tfd.LogNormal(loc=0.0, scale=0.2, name=\"a\")\n",
    "        bt = yield tfd.Normal(loc=0.0, scale=0.5, name=\"bt\")\n",
    "        bf = yield tfd.Normal(loc=0.0, scale=0.5, name=\"bf\")\n",
    "        sigma = yield tfd.Exponential(rate=1.0, name=\"sigma\")\n",
    "        p = a + bt * treatment + bf * fungus\n",
    "        mu = h0 * p\n",
    "        yield tfd.Normal(loc=mu, scale=sigma, name=\"h1\")\n",
    "\n",
    "    return tfd.JointDistributionCoroutineAutoBatched(_generator, validate_args=False)"
   ]
  },
  {
   "cell_type": "code",
   "execution_count": 296,
   "metadata": {},
   "outputs": [],
   "source": [
    "jd_67 = model_67(d.h0.values, d.treatment.values, d.fungus.values)\n",
    "jd_67_pd = jd_67.experimental_pin(h1=d.h1.values)"
   ]
  },
  {
   "cell_type": "code",
   "execution_count": 297,
   "metadata": {},
   "outputs": [],
   "source": [
    "def target_log_prob_67(*states):\n",
    "    return jd_67_pd.unnormalized_log_prob(states)\n",
    "\n",
    "def sample_post_67(init_state, seed):\n",
    "    kernel = tfp.mcmc.NoUTurnSampler(target_log_prob_67, 1e-2)\n",
    "  \n",
    "    return tfp.mcmc.sample_chain(\n",
    "            num_results=1000,\n",
    "            current_state=init_state,\n",
    "            kernel=kernel,\n",
    "            num_burnin_steps=1500,\n",
    "            trace_fn=None, seed=seed)"
   ]
  },
  {
   "cell_type": "code",
   "execution_count": null,
   "metadata": {},
   "outputs": [],
   "source": [
    "# num_chains = 4\n",
    "# init_state_67 = jd_67_pd.sample_unpinned(num_chains, seed=key())"
   ]
  },
  {
   "cell_type": "code",
   "execution_count": 298,
   "metadata": {},
   "outputs": [],
   "source": [
    "state_name_67 = jd_67_pd.sample_unpinned(seed=key())._fields"
   ]
  },
  {
   "cell_type": "code",
   "execution_count": 299,
   "metadata": {},
   "outputs": [],
   "source": [
    "StateTuple = namedtuple(\"StateTuple\", state_name_67)"
   ]
  },
  {
   "cell_type": "code",
   "execution_count": 300,
   "metadata": {},
   "outputs": [],
   "source": [
    "num_chains = 4\n",
    "init_state_67 = [jnp.ones(num_chains), jnp.zeros(num_chains), \n",
    "                 jnp.zeros(num_chains), jnp.ones(num_chains)]"
   ]
  },
  {
   "cell_type": "code",
   "execution_count": 301,
   "metadata": {},
   "outputs": [],
   "source": [
    "init_state_67 = StateTuple(**dict(zip(state_name_67, init_state_67)))"
   ]
  },
  {
   "cell_type": "code",
   "execution_count": 302,
   "metadata": {},
   "outputs": [],
   "source": [
    "post_67 = sample_post_67(init_state_67, key())"
   ]
  },
  {
   "cell_type": "code",
   "execution_count": 303,
   "metadata": {},
   "outputs": [],
   "source": [
    "post_67_dict = {k: jnp.moveaxis(v, 0, 1) for k, v in post_67._asdict().items()}"
   ]
  },
  {
   "cell_type": "code",
   "execution_count": 304,
   "metadata": {},
   "outputs": [],
   "source": [
    "dict_67 = dict(posterior=post_67_dict)"
   ]
  },
  {
   "cell_type": "code",
   "execution_count": 305,
   "metadata": {},
   "outputs": [],
   "source": [
    "idata_67 = az.from_dict(**dict_67)"
   ]
  },
  {
   "cell_type": "code",
   "execution_count": 306,
   "metadata": {},
   "outputs": [
    {
     "data": {
      "text/html": [
       "<div>\n",
       "<style scoped>\n",
       "    .dataframe tbody tr th:only-of-type {\n",
       "        vertical-align: middle;\n",
       "    }\n",
       "\n",
       "    .dataframe tbody tr th {\n",
       "        vertical-align: top;\n",
       "    }\n",
       "\n",
       "    .dataframe thead th {\n",
       "        text-align: right;\n",
       "    }\n",
       "</style>\n",
       "<table border=\"1\" class=\"dataframe\">\n",
       "  <thead>\n",
       "    <tr style=\"text-align: right;\">\n",
       "      <th></th>\n",
       "      <th>mean</th>\n",
       "      <th>sd</th>\n",
       "      <th>hdi_3%</th>\n",
       "      <th>hdi_97%</th>\n",
       "      <th>mcse_mean</th>\n",
       "      <th>mcse_sd</th>\n",
       "      <th>ess_bulk</th>\n",
       "      <th>ess_tail</th>\n",
       "      <th>r_hat</th>\n",
       "    </tr>\n",
       "  </thead>\n",
       "  <tbody>\n",
       "    <tr>\n",
       "      <th>a</th>\n",
       "      <td>1.493</td>\n",
       "      <td>0.023</td>\n",
       "      <td>1.451</td>\n",
       "      <td>1.536</td>\n",
       "      <td>0.000</td>\n",
       "      <td>0.000</td>\n",
       "      <td>2869.0</td>\n",
       "      <td>2715.0</td>\n",
       "      <td>1.0</td>\n",
       "    </tr>\n",
       "    <tr>\n",
       "      <th>bf</th>\n",
       "      <td>-0.326</td>\n",
       "      <td>0.033</td>\n",
       "      <td>-0.389</td>\n",
       "      <td>-0.264</td>\n",
       "      <td>0.001</td>\n",
       "      <td>0.000</td>\n",
       "      <td>2774.0</td>\n",
       "      <td>2663.0</td>\n",
       "      <td>1.0</td>\n",
       "    </tr>\n",
       "    <tr>\n",
       "      <th>bt</th>\n",
       "      <td>-0.015</td>\n",
       "      <td>0.028</td>\n",
       "      <td>-0.065</td>\n",
       "      <td>0.039</td>\n",
       "      <td>0.001</td>\n",
       "      <td>0.000</td>\n",
       "      <td>2888.0</td>\n",
       "      <td>2406.0</td>\n",
       "      <td>1.0</td>\n",
       "    </tr>\n",
       "    <tr>\n",
       "      <th>sigma</th>\n",
       "      <td>1.257</td>\n",
       "      <td>0.089</td>\n",
       "      <td>1.100</td>\n",
       "      <td>1.433</td>\n",
       "      <td>0.003</td>\n",
       "      <td>0.002</td>\n",
       "      <td>874.0</td>\n",
       "      <td>1226.0</td>\n",
       "      <td>1.0</td>\n",
       "    </tr>\n",
       "  </tbody>\n",
       "</table>\n",
       "</div>"
      ],
      "text/plain": [
       "        mean     sd  hdi_3%  hdi_97%  mcse_mean  mcse_sd  ess_bulk  ess_tail  \\\n",
       "a      1.493  0.023   1.451    1.536      0.000    0.000    2869.0    2715.0   \n",
       "bf    -0.326  0.033  -0.389   -0.264      0.001    0.000    2774.0    2663.0   \n",
       "bt    -0.015  0.028  -0.065    0.039      0.001    0.000    2888.0    2406.0   \n",
       "sigma  1.257  0.089   1.100    1.433      0.003    0.002     874.0    1226.0   \n",
       "\n",
       "       r_hat  \n",
       "a        1.0  \n",
       "bf       1.0  \n",
       "bt       1.0  \n",
       "sigma    1.0  "
      ]
     },
     "execution_count": 306,
     "metadata": {},
     "output_type": "execute_result"
    }
   ],
   "source": [
    "az.summary(idata_67)"
   ]
  },
  {
   "cell_type": "code",
   "execution_count": 307,
   "metadata": {},
   "outputs": [],
   "source": [
    "def model_68(h0, treatment):\n",
    "    def _generator():\n",
    "        a = yield tfd.LogNormal(loc=0.0, scale=0.2, name=\"a\")\n",
    "        bt = yield tfd.Normal(loc=0.0, scale=0.5, name=\"bt\")\n",
    "        sigma = yield tfd.Exponential(rate=1.0, name=\"sigma\")\n",
    "        p = a + bt * treatment\n",
    "        mu = h0 * p\n",
    "        yield tfd.Normal(loc=mu, scale=sigma, name=\"h1\")\n",
    "\n",
    "    return tfd.JointDistributionCoroutineAutoBatched(_generator)"
   ]
  },
  {
   "cell_type": "code",
   "execution_count": 308,
   "metadata": {},
   "outputs": [],
   "source": [
    "jd_68 = model_68(d.h0.values, d.treatment.values)"
   ]
  },
  {
   "cell_type": "code",
   "execution_count": 309,
   "metadata": {},
   "outputs": [],
   "source": [
    "jd_68_pd = jd_68.experimental_pin(h1=d.h1.values)"
   ]
  },
  {
   "cell_type": "code",
   "execution_count": 310,
   "metadata": {},
   "outputs": [],
   "source": [
    "def target_log_prob_68(*states):\n",
    "    return jd_68_pd.unnormalized_log_prob(states)"
   ]
  },
  {
   "cell_type": "code",
   "execution_count": 311,
   "metadata": {},
   "outputs": [],
   "source": [
    "def sample_post_68(init_state, seed):\n",
    "    kernel = tfp.mcmc.NoUTurnSampler(target_log_prob_68, 1e-3)\n",
    "  \n",
    "    return tfp.mcmc.sample_chain(\n",
    "            num_results=1000,\n",
    "            current_state=init_state,\n",
    "            kernel=kernel,\n",
    "            num_burnin_steps=1500,\n",
    "            trace_fn=None, seed=seed)"
   ]
  },
  {
   "cell_type": "code",
   "execution_count": 316,
   "metadata": {},
   "outputs": [],
   "source": [
    "num_chains = 4\n",
    "init_state_68 = jd_68_pd.sample_unpinned(num_chains, seed=key())"
   ]
  },
  {
   "cell_type": "code",
   "execution_count": 317,
   "metadata": {},
   "outputs": [],
   "source": [
    "post_68 = sample_post_68(init_state_68, key())"
   ]
  },
  {
   "cell_type": "code",
   "execution_count": 318,
   "metadata": {},
   "outputs": [],
   "source": [
    "post_68_dict = {k: jnp.moveaxis(v, 0, 1) for k, v in post_68._asdict().items()}\n",
    "dict_68 = dict(posterior=post_68_dict)\n",
    "idata_68 = az.from_dict(**dict_68)"
   ]
  },
  {
   "cell_type": "code",
   "execution_count": 319,
   "metadata": {},
   "outputs": [
    {
     "data": {
      "text/html": [
       "<div>\n",
       "<style scoped>\n",
       "    .dataframe tbody tr th:only-of-type {\n",
       "        vertical-align: middle;\n",
       "    }\n",
       "\n",
       "    .dataframe tbody tr th {\n",
       "        vertical-align: top;\n",
       "    }\n",
       "\n",
       "    .dataframe thead th {\n",
       "        text-align: right;\n",
       "    }\n",
       "</style>\n",
       "<table border=\"1\" class=\"dataframe\">\n",
       "  <thead>\n",
       "    <tr style=\"text-align: right;\">\n",
       "      <th></th>\n",
       "      <th>mean</th>\n",
       "      <th>sd</th>\n",
       "      <th>hdi_3%</th>\n",
       "      <th>hdi_97%</th>\n",
       "      <th>mcse_mean</th>\n",
       "      <th>mcse_sd</th>\n",
       "      <th>ess_bulk</th>\n",
       "      <th>ess_tail</th>\n",
       "      <th>r_hat</th>\n",
       "    </tr>\n",
       "  </thead>\n",
       "  <tbody>\n",
       "    <tr>\n",
       "      <th>a</th>\n",
       "      <td>1.350</td>\n",
       "      <td>0.025</td>\n",
       "      <td>1.300</td>\n",
       "      <td>1.395</td>\n",
       "      <td>0.001</td>\n",
       "      <td>0.000</td>\n",
       "      <td>2540.0</td>\n",
       "      <td>2509.0</td>\n",
       "      <td>1.00</td>\n",
       "    </tr>\n",
       "    <tr>\n",
       "      <th>bt</th>\n",
       "      <td>0.119</td>\n",
       "      <td>0.035</td>\n",
       "      <td>0.053</td>\n",
       "      <td>0.188</td>\n",
       "      <td>0.001</td>\n",
       "      <td>0.001</td>\n",
       "      <td>2146.0</td>\n",
       "      <td>1969.0</td>\n",
       "      <td>1.00</td>\n",
       "    </tr>\n",
       "    <tr>\n",
       "      <th>sigma</th>\n",
       "      <td>1.772</td>\n",
       "      <td>0.126</td>\n",
       "      <td>1.554</td>\n",
       "      <td>2.029</td>\n",
       "      <td>0.005</td>\n",
       "      <td>0.004</td>\n",
       "      <td>625.0</td>\n",
       "      <td>683.0</td>\n",
       "      <td>1.01</td>\n",
       "    </tr>\n",
       "  </tbody>\n",
       "</table>\n",
       "</div>"
      ],
      "text/plain": [
       "        mean     sd  hdi_3%  hdi_97%  mcse_mean  mcse_sd  ess_bulk  ess_tail  \\\n",
       "a      1.350  0.025   1.300    1.395      0.001    0.000    2540.0    2509.0   \n",
       "bt     0.119  0.035   0.053    0.188      0.001    0.001    2146.0    1969.0   \n",
       "sigma  1.772  0.126   1.554    2.029      0.005    0.004     625.0     683.0   \n",
       "\n",
       "       r_hat  \n",
       "a       1.00  \n",
       "bt      1.00  \n",
       "sigma   1.01  "
      ]
     },
     "execution_count": 319,
     "metadata": {},
     "output_type": "execute_result"
    }
   ],
   "source": [
    "az.summary(idata_68)"
   ]
  },
  {
   "cell_type": "code",
   "execution_count": 320,
   "metadata": {},
   "outputs": [],
   "source": [
    "mu_66 = idata_66.posterior['p'] * xr.DataArray(d.h0.values)\n",
    "mu_66 = mu_66.to_numpy()\n",
    "# add newaxis to braodcast through obs\n",
    "sigma_66 = idata_66.posterior['sigma'].to_numpy()[..., np.newaxis]\n",
    "\n",
    "normal_66 = tfd.Normal(loc=mu_66, scale=sigma_66)\n",
    "ll_i_66 = normal_66.log_prob(d.h1.values)\n",
    "\n",
    "dict_66 = dict(log_likelihood={'ll': ll_i_66},\n",
    "               dims={\"ll\": [\"obs\"]},\n",
    "               coords={\"obs\": jnp.arange(len(d.h1.values))})\n",
    "idata_66 = az.from_dict(**dict_66)"
   ]
  },
  {
   "cell_type": "code",
   "execution_count": 329,
   "metadata": {},
   "outputs": [],
   "source": [
    "mu_67 = (idata_67.posterior['a'] + \\\n",
    "         idata_67.posterior['bt'] * xr.DataArray(d.treatment.values) + \\\n",
    "         idata_67.posterior['bf'] * xr.DataArray(d.fungus.values)) * xr.DataArray(d.h0.values)\n",
    "mu_67 = mu_67.to_numpy()\n",
    "sigma_67 = idata_67.posterior['sigma'].to_numpy()[..., np.newaxis]\n",
    "\n",
    "normal_67 = tfd.Normal(loc=mu_67, scale=sigma_67)\n",
    "ll_i_67 = normal_67.log_prob(d.h1.values)\n",
    "\n",
    "dict_67 = dict(log_likelihood={'ll': ll_i_67},\n",
    "               dims={\"ll\": [\"obs\"]},\n",
    "               coords={\"obs\": jnp.arange(len(d.h1.values))})\n",
    "idata_67 = az.from_dict(**dict_67)"
   ]
  },
  {
   "cell_type": "code",
   "execution_count": 330,
   "metadata": {},
   "outputs": [],
   "source": [
    "mu_68 = (idata_68.posterior['a'] + \\\n",
    "         idata_68.posterior['bt'] * xr.DataArray(d.treatment.values)) * xr.DataArray(d.h0.values)\n",
    "mu_68 = mu_68.to_numpy()\n",
    "sigma_68 = idata_68.posterior['sigma'].to_numpy()[..., np.newaxis]\n",
    "\n",
    "normal_68 = tfd.Normal(loc=mu_68, scale=sigma_68)\n",
    "ll_i_68 = normal_68.log_prob(d.h1.values)\n",
    "\n",
    "dict_68 = dict(log_likelihood={'ll': ll_i_68},\n",
    "               dims={\"ll\": [\"obs\"]},\n",
    "               coords={\"obs\": jnp.arange(len(d.h1.values))})\n",
    "idata_68 = az.from_dict(**dict_68)"
   ]
  },
  {
   "cell_type": "markdown",
   "metadata": {},
   "source": [
    "##### Code 7.26"
   ]
  },
  {
   "cell_type": "code",
   "execution_count": 336,
   "metadata": {},
   "outputs": [
    {
     "name": "stderr",
     "output_type": "stream",
     "text": [
      "/Users/jun/miniforge3/envs/dl/lib/python3.12/site-packages/arviz/stats/stats.py:1632: UserWarning: For one or more samples the posterior variance of the log predictive densities exceeds 0.4. This could be indication of WAIC starting to fail. \n",
      "See http://arxiv.org/abs/1507.04544 for details\n",
      "  warnings.warn(\n",
      "/Users/jun/miniforge3/envs/dl/lib/python3.12/site-packages/arviz/stats/stats.py:1632: UserWarning: For one or more samples the posterior variance of the log predictive densities exceeds 0.4. This could be indication of WAIC starting to fail. \n",
      "See http://arxiv.org/abs/1507.04544 for details\n",
      "  warnings.warn(\n",
      "/Users/jun/miniforge3/envs/dl/lib/python3.12/site-packages/arviz/stats/stats.py:1632: UserWarning: For one or more samples the posterior variance of the log predictive densities exceeds 0.4. This could be indication of WAIC starting to fail. \n",
      "See http://arxiv.org/abs/1507.04544 for details\n",
      "  warnings.warn(\n"
     ]
    },
    {
     "data": {
      "text/html": [
       "<div>\n",
       "<style scoped>\n",
       "    .dataframe tbody tr th:only-of-type {\n",
       "        vertical-align: middle;\n",
       "    }\n",
       "\n",
       "    .dataframe tbody tr th {\n",
       "        vertical-align: top;\n",
       "    }\n",
       "\n",
       "    .dataframe thead th {\n",
       "        text-align: right;\n",
       "    }\n",
       "</style>\n",
       "<table border=\"1\" class=\"dataframe\">\n",
       "  <thead>\n",
       "    <tr style=\"text-align: right;\">\n",
       "      <th></th>\n",
       "      <th>rank</th>\n",
       "      <th>elpd_waic</th>\n",
       "      <th>p_waic</th>\n",
       "      <th>elpd_diff</th>\n",
       "      <th>weight</th>\n",
       "      <th>se</th>\n",
       "      <th>dse</th>\n",
       "      <th>warning</th>\n",
       "      <th>scale</th>\n",
       "    </tr>\n",
       "  </thead>\n",
       "  <tbody>\n",
       "    <tr>\n",
       "      <th>m6.7</th>\n",
       "      <td>0</td>\n",
       "      <td>334.520512</td>\n",
       "      <td>4.425648</td>\n",
       "      <td>0.000000</td>\n",
       "      <td>0.954797</td>\n",
       "      <td>17.387366</td>\n",
       "      <td>0.000000</td>\n",
       "      <td>True</td>\n",
       "      <td>deviance</td>\n",
       "    </tr>\n",
       "    <tr>\n",
       "      <th>m6.8</th>\n",
       "      <td>1</td>\n",
       "      <td>402.415840</td>\n",
       "      <td>3.385741</td>\n",
       "      <td>67.895328</td>\n",
       "      <td>0.000000</td>\n",
       "      <td>14.534156</td>\n",
       "      <td>14.636170</td>\n",
       "      <td>True</td>\n",
       "      <td>deviance</td>\n",
       "    </tr>\n",
       "    <tr>\n",
       "      <th>m6.6</th>\n",
       "      <td>2</td>\n",
       "      <td>411.123234</td>\n",
       "      <td>2.299253</td>\n",
       "      <td>76.602721</td>\n",
       "      <td>0.045203</td>\n",
       "      <td>15.366604</td>\n",
       "      <td>18.044349</td>\n",
       "      <td>True</td>\n",
       "      <td>deviance</td>\n",
       "    </tr>\n",
       "  </tbody>\n",
       "</table>\n",
       "</div>"
      ],
      "text/plain": [
       "      rank   elpd_waic    p_waic  elpd_diff    weight         se        dse  \\\n",
       "m6.7     0  334.520512  4.425648   0.000000  0.954797  17.387366   0.000000   \n",
       "m6.8     1  402.415840  3.385741  67.895328  0.000000  14.534156  14.636170   \n",
       "m6.6     2  411.123234  2.299253  76.602721  0.045203  15.366604  18.044349   \n",
       "\n",
       "      warning     scale  \n",
       "m6.7     True  deviance  \n",
       "m6.8     True  deviance  \n",
       "m6.6     True  deviance  "
      ]
     },
     "execution_count": 336,
     "metadata": {},
     "output_type": "execute_result"
    }
   ],
   "source": [
    "compare_df =az.compare(\n",
    "    {\"m6.6\": idata_66, \"m6.7\": idata_67, \"m6.8\": idata_68},\n",
    "    ic=\"waic\", scale=\"deviance\")\n",
    "compare_df"
   ]
  },
  {
   "cell_type": "markdown",
   "metadata": {},
   "source": [
    "##### Code 7.27 "
   ]
  },
  {
   "cell_type": "code",
   "execution_count": 341,
   "metadata": {},
   "outputs": [
    {
     "name": "stderr",
     "output_type": "stream",
     "text": [
      "/Users/jun/miniforge3/envs/dl/lib/python3.12/site-packages/arviz/stats/stats.py:1632: UserWarning: For one or more samples the posterior variance of the log predictive densities exceeds 0.4. This could be indication of WAIC starting to fail. \n",
      "See http://arxiv.org/abs/1507.04544 for details\n",
      "  warnings.warn(\n",
      "/Users/jun/miniforge3/envs/dl/lib/python3.12/site-packages/arviz/stats/stats.py:1632: UserWarning: For one or more samples the posterior variance of the log predictive densities exceeds 0.4. This could be indication of WAIC starting to fail. \n",
      "See http://arxiv.org/abs/1507.04544 for details\n",
      "  warnings.warn(\n",
      "/Users/jun/miniforge3/envs/dl/lib/python3.12/site-packages/arviz/stats/stats.py:1632: UserWarning: For one or more samples the posterior variance of the log predictive densities exceeds 0.4. This could be indication of WAIC starting to fail. \n",
      "See http://arxiv.org/abs/1507.04544 for details\n",
      "  warnings.warn(\n"
     ]
    },
    {
     "data": {
      "text/plain": [
       "Array(14.636169, dtype=float32)"
      ]
     },
     "execution_count": 341,
     "metadata": {},
     "output_type": "execute_result"
    }
   ],
   "source": [
    "waic_66 = az.waic(idata_66, pointwise=True, scale=\"deviance\")\n",
    "waic_67 = az.waic(idata_67, pointwise=True, scale=\"deviance\")\n",
    "waic_68 = az.waic(idata_68, pointwise=True, scale=\"deviance\")\n",
    "\n",
    "diff_78 = waic_67.waic_i - waic_68.waic_i\n",
    "jnp.sqrt(len(diff_78) * jnp.var(diff_78.to_numpy()))"
   ]
  },
  {
   "cell_type": "markdown",
   "metadata": {},
   "source": [
    "##### Code 7.29"
   ]
  },
  {
   "cell_type": "code",
   "execution_count": 337,
   "metadata": {},
   "outputs": [
    {
     "data": {
      "image/png": "[encoded data removed]",
      "text/plain": [
       "<Figure size 600x300 with 1 Axes>"
      ]
     },
     "metadata": {},
     "output_type": "display_data"
    }
   ],
   "source": [
    "az.plot_compare(compare_df);"
   ]
  },
  {
   "cell_type": "markdown",
   "metadata": {},
   "source": [
    "##### Code 7.31"
   ]
  },
  {
   "cell_type": "code",
   "execution_count": 342,
   "metadata": {},
   "outputs": [
    {
     "data": {
      "text/html": [
       "<div>\n",
       "<style scoped>\n",
       "    .dataframe tbody tr th:only-of-type {\n",
       "        vertical-align: middle;\n",
       "    }\n",
       "\n",
       "    .dataframe tbody tr th {\n",
       "        vertical-align: top;\n",
       "    }\n",
       "\n",
       "    .dataframe thead th {\n",
       "        text-align: right;\n",
       "    }\n",
       "</style>\n",
       "<table border=\"1\" class=\"dataframe\">\n",
       "  <thead>\n",
       "    <tr style=\"text-align: right;\">\n",
       "      <th></th>\n",
       "      <th>m6.6</th>\n",
       "      <th>m6.7</th>\n",
       "      <th>m6.8</th>\n",
       "    </tr>\n",
       "  </thead>\n",
       "  <tbody>\n",
       "    <tr>\n",
       "      <th>m6.6</th>\n",
       "      <td>0.000000</td>\n",
       "      <td>18.044349</td>\n",
       "      <td>7.020422</td>\n",
       "    </tr>\n",
       "    <tr>\n",
       "      <th>m6.7</th>\n",
       "      <td>18.044349</td>\n",
       "      <td>0.000000</td>\n",
       "      <td>14.636170</td>\n",
       "    </tr>\n",
       "    <tr>\n",
       "      <th>m6.8</th>\n",
       "      <td>7.020422</td>\n",
       "      <td>14.636170</td>\n",
       "      <td>0.000000</td>\n",
       "    </tr>\n",
       "  </tbody>\n",
       "</table>\n",
       "</div>"
      ],
      "text/plain": [
       "           m6.6       m6.7       m6.8\n",
       "m6.6   0.000000  18.044349   7.020422\n",
       "m6.7  18.044349   0.000000  14.636170\n",
       "m6.8   7.020422  14.636170   0.000000"
      ]
     },
     "execution_count": 342,
     "metadata": {},
     "output_type": "execute_result"
    }
   ],
   "source": [
    "dSE = lambda waic1, waic2: np.sqrt(\n",
    "    len(waic1.waic_i) * np.var(waic1.waic_i.to_numpy() - waic2.waic_i.to_numpy())\n",
    ")\n",
    "data = {\"m6.6\": waic_66, \"m6.7\": waic_67, \"m6.8\": waic_68}\n",
    "pd.DataFrame(\n",
    "    {\n",
    "        row: {col: dSE(row_val, col_val) for col, col_val in data.items()}\n",
    "        for row, row_val in data.items()\n",
    "    }\n",
    ")"
   ]
  },
  {
   "cell_type": "markdown",
   "metadata": {},
   "source": [
    "### 7.5.2 Outliers and other illusions"
   ]
  },
  {
   "cell_type": "code",
   "execution_count": 66,
   "metadata": {},
   "outputs": [],
   "source": [
    "# az.compare(compare_dict, ic=\"loo\", scale=\"deviance\")"
   ]
  }
 ],
 "metadata": {
  "kernelspec": {
   "display_name": "Python 3 (ipykernel)",
   "language": "python",
   "name": "python3"
  },
  "language_info": {
   "codemirror_mode": {
    "name": "ipython",
    "version": 3
   },
   "file_extension": ".py",
   "mimetype": "text/x-python",
   "name": "python",
   "nbconvert_exporter": "python",
   "pygments_lexer": "ipython3",
   "version": "3.12.4"
  },
  "toc": {
   "base_numbering": 1,
   "nav_menu": {},
   "number_sections": true,
   "sideBar": true,
   "skip_h1_title": false,
   "title_cell": "Table of Contents",
   "title_sidebar": "Contents",
   "toc_cell": false,
   "toc_position": {},
   "toc_section_display": true,
   "toc_window_display": false
  }
 },
 "nbformat": 4,
 "nbformat_minor": 4
}
