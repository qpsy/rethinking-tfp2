{
 "cells": [
  {
   "cell_type": "code",
   "execution_count": 1,
   "metadata": {},
   "outputs": [],
   "source": [
    "import numpy as np\n",
    "import arviz as az\n",
    "import pandas as pd\n",
    "import matplotlib.pyplot as plt"
   ]
  },
  {
   "cell_type": "code",
   "execution_count": 2,
   "metadata": {},
   "outputs": [],
   "source": [
    "import jax\n",
    "import jax.numpy as jnp\n",
    "import random"
   ]
  },
  {
   "cell_type": "code",
   "execution_count": 3,
   "metadata": {},
   "outputs": [],
   "source": [
    "from tensorflow_probability.substrates import jax as tfp\n",
    "tfd = tfp.distributions"
   ]
  },
  {
   "cell_type": "code",
   "execution_count": 4,
   "metadata": {},
   "outputs": [],
   "source": [
    "from collections import namedtuple"
   ]
  },
  {
   "cell_type": "code",
   "execution_count": 7,
   "metadata": {},
   "outputs": [],
   "source": [
    "# a function to plot the density using arviz plot_kde function\n",
    "def plot_density(positions, x_label=\"Position\", y_label=\"Density\"):\n",
    "    az.plot_kde(positions)\n",
    "    plt.xlabel(x_label)\n",
    "    plt.ylabel(y_label)"
   ]
  },
  {
   "cell_type": "code",
   "execution_count": 8,
   "metadata": {},
   "outputs": [],
   "source": [
    "plt.rcParams['figure.figsize'] = [6, 4]"
   ]
  },
  {
   "cell_type": "code",
   "execution_count": 9,
   "metadata": {},
   "outputs": [],
   "source": [
    "# generate a key\n",
    "# jax.random.key (new version of jax.random.PRNGKey) \n",
    "#   not working with tfp.substrates.jax.mcmc\n",
    "def a_key():\n",
    "    # return jax.random.key(random.randint(0, 1000_000))\n",
    "    return jax.random.PRNGKey(random.randint(0, 1000_000))"
   ]
  },
  {
   "cell_type": "code",
   "execution_count": 10,
   "metadata": {},
   "outputs": [],
   "source": [
    "# jnp array replaces tf array\n",
    "# but jnp has yet no equivalant to tf.Variable() \n",
    "from tensorflow_probability.python.internal.backend import jax as tf"
   ]
  },
  {
   "cell_type": "code",
   "execution_count": null,
   "metadata": {},
   "outputs": [],
   "source": [
    "tf.Variable(3)"
   ]
  },
  {
   "cell_type": "markdown",
   "metadata": {},
   "source": [
    "## 4.1 Why normal distributions are normal"
   ]
  },
  {
   "cell_type": "markdown",
   "metadata": {},
   "source": [
    "### 4.1.1 Normal by addition"
   ]
  },
  {
   "cell_type": "markdown",
   "metadata": {},
   "source": [
    "##### Code 4.1\n",
    "\n",
    "This snippet is showing the notion of \"Normal distribution by Addition\""
   ]
  },
  {
   "cell_type": "code",
   "execution_count": null,
   "metadata": {},
   "outputs": [],
   "source": [
    "u1 = tfd.Uniform(low=-1.0, high=1.0)\n",
    "pos = jnp.sum(u1.sample(sample_shape=(16, 1000), seed=a_key()), axis=0)\n",
    "plot_density(pos)"
   ]
  },
  {
   "cell_type": "markdown",
   "metadata": {},
   "source": [
    "### 4.1.2 Normal by multiplication"
   ]
  },
  {
   "cell_type": "markdown",
   "metadata": {},
   "source": [
    "##### Code 4.2 & 4.3\n",
    "\n",
    "This snippet is showing the notion of \"Normal distribution by Multiplication\""
   ]
  },
  {
   "cell_type": "code",
   "execution_count": null,
   "metadata": {},
   "outputs": [],
   "source": [
    "u2 = tfd.Uniform(low=1.0, high=1.1)\n",
    "pos = jnp.prod(u2.sample(sample_shape=(12, 10000), seed=a_key()), axis=0)\n",
    "plot_density(pos)"
   ]
  },
  {
   "cell_type": "markdown",
   "metadata": {},
   "source": [
    "##### Code 4.4\n",
    "\n",
    "Continuation of the notion of \"Normal distribution by Multiplication\"\n",
    "\n",
    "Author explains that - \"The smaller the effect of a variable (locus in the example), the better the additive approximation will be\""
   ]
  },
  {
   "cell_type": "code",
   "execution_count": null,
   "metadata": {},
   "outputs": [],
   "source": [
    "big = jnp.prod(tfd.Uniform(low=1.0, high=1.5).sample(sample_shape=(12, 10000), \n",
    "                                                     seed=a_key()), axis=0)\n",
    "small = jnp.prod(tfd.Uniform(low=1.0, high=1.01).sample(sample_shape=(12, 10000), \n",
    "                                                        seed=a_key()), axis=0)\n",
    "\n",
    "_, ax = plt.subplots(1, 2, figsize=(8, 4))\n",
    "az.plot_kde(big, ax=ax[0])\n",
    "az.plot_kde(small, ax=ax[1]);"
   ]
  },
  {
   "cell_type": "markdown",
   "metadata": {},
   "source": [
    "### 4.1.3 Normal by log-multiplication"
   ]
  },
  {
   "cell_type": "markdown",
   "metadata": {},
   "source": [
    "##### Code 4.5\n",
    "\n",
    "This snippet is showing the notion of \"Normal distribution by log-multiplication\"\n",
    "\n",
    "Author explains - \"Large deviates that are multi- plied together do not produce Gaussian distributions, but they do tend to produce Gaussian distributions on the log scale. So even multiplicative interactions of large deviations can produce Gaussian distributions, once we measure the outcomes on the log scale.\""
   ]
  },
  {
   "cell_type": "code",
   "execution_count": null,
   "metadata": {},
   "outputs": [],
   "source": [
    "log_big = jnp.log(\n",
    "  jnp.prod(\n",
    "    tfd.Uniform(low=1.0, high=1.5).sample(sample_shape=(12, 10000), \n",
    "                                          seed=a_key()), axis=0))"
   ]
  },
  {
   "cell_type": "code",
   "execution_count": null,
   "metadata": {},
   "outputs": [],
   "source": [
    "_, ax = plt.subplots(1, 2, figsize=(8, 4))\n",
    "az.plot_kde(big, ax=ax[0])\n",
    "az.plot_kde(log_big, ax=ax[1])"
   ]
  },
  {
   "cell_type": "markdown",
   "metadata": {},
   "source": [
    "## 4.2 A language for describing models"
   ]
  },
  {
   "cell_type": "markdown",
   "metadata": {},
   "source": [
    "##### Code 4.6\n",
    "\n",
    "Here the globe tossing model is described again.\n",
    "\n",
    "$w$ = Observed count of water\n",
    "\n",
    "$n$ = Total number of tosses\n",
    "\n",
    "$p$ = Proportion of water on the globel\n",
    "\n",
    "\n",
    "This is the first introduction/usage of Bayes' Theorem\n"
   ]
  },
  {
   "cell_type": "code",
   "execution_count": null,
   "metadata": {},
   "outputs": [],
   "source": [
    "w, n = 6.0, 9.0\n",
    "\n",
    "p_grid = jnp.linspace(0.0, 1.0, 100)\n",
    "\n",
    "b1_dist = tfd.Binomial(total_count=n, probs=p_grid)\n",
    "u3_dist = tfd.Uniform(low=0.0, high=1.0)\n",
    "\n",
    "posterior = b1_dist.prob(w) * u3_dist.prob(p_grid)\n",
    "posterior = posterior / jnp.sum(posterior)\n",
    "\n",
    "plt.plot(p_grid, posterior)\n",
    "plt.xlabel(\"p\")\n",
    "plt.ylabel(\"Density\")"
   ]
  },
  {
   "cell_type": "markdown",
   "metadata": {},
   "source": [
    "## 4.3 Gaussian model of height"
   ]
  },
  {
   "cell_type": "markdown",
   "metadata": {},
   "source": [
    "### 4.3.1 The data"
   ]
  },
  {
   "cell_type": "markdown",
   "metadata": {},
   "source": [
    "##### Code 4.7, 4.8 \n",
    "\n",
    "\n",
    "We are now building the Gaussian model of height\n"
   ]
  },
  {
   "cell_type": "code",
   "execution_count": null,
   "metadata": {},
   "outputs": [],
   "source": [
    "d = pd.read_csv(\"./data/Howell1.csv\", sep=\";\")\n",
    "d.head()"
   ]
  },
  {
   "cell_type": "markdown",
   "metadata": {},
   "source": [
    "##### Code 4.9"
   ]
  },
  {
   "cell_type": "code",
   "execution_count": null,
   "metadata": {},
   "outputs": [],
   "source": [
    "az.summary(d.to_dict(orient=\"list\"), kind=\"stats\", hdi_prob=0.89)"
   ]
  },
  {
   "cell_type": "markdown",
   "metadata": {},
   "source": [
    "##### Code 4.10\n",
    "\n",
    "For now we are going to work only with the height columns so let's look at it"
   ]
  },
  {
   "cell_type": "code",
   "execution_count": null,
   "metadata": {},
   "outputs": [],
   "source": [
    "d.height.head()"
   ]
  },
  {
   "cell_type": "markdown",
   "metadata": {},
   "source": [
    "##### Code 4.11\n",
    "\n",
    "We are only interested in the heights of adults only (for the time being; we will incorporate the whole dataset later)"
   ]
  },
  {
   "cell_type": "code",
   "execution_count": null,
   "metadata": {},
   "outputs": [],
   "source": [
    "d2 = d[d.age >= 18]"
   ]
  },
  {
   "cell_type": "markdown",
   "metadata": {},
   "source": [
    "### 4.3.2 The model"
   ]
  },
  {
   "cell_type": "markdown",
   "metadata": {},
   "source": [
    "##### Code 4.12 & 4.13\n",
    "\n",
    "Author explains that whatever is your prior, it's a very good idea to always plot it. This way we will have a better\n",
    "sense of our model.\n",
    "\n",
    "Here we have assumed certain values for our priors and as per the instruction plotting them"
   ]
  },
  {
   "cell_type": "code",
   "execution_count": null,
   "metadata": {},
   "outputs": [],
   "source": [
    "_, (ax1, ax2) = plt.subplots(1, 2, figsize=(8, 4))\n",
    "\n",
    "x = jnp.linspace(100.0, 250.0, 100)\n",
    "mu_prior = tfd.Normal(loc=178.0, scale=20.0)\n",
    "ax1.set_title(\"Prior for mu\")\n",
    "ax1.plot(x, mu_prior.prob(x))\n",
    "\n",
    "x = jnp.linspace(-10.0, 60.0, 100)\n",
    "scale_prior = tfd.Uniform(low=0.0, high=50.0)\n",
    "ax2.set_title(\"Prior for scale/sigma\")\n",
    "ax2.plot(x, scale_prior.prob(x))"
   ]
  },
  {
   "cell_type": "markdown",
   "metadata": {},
   "source": [
    "##### Code 4.14\n",
    "\n",
    "In the above section we have chosen priors for $h$, $\\mu$, $\\sigma$ and even plotted them. It is also important to now see what kind of distribution these assumptions generate. This is called **PRIOR PREDICTIVE simulation** and is important part of modelling."
   ]
  },
  {
   "cell_type": "code",
   "execution_count": null,
   "metadata": {},
   "outputs": [],
   "source": [
    "# plot the joint distribution of h, mu and sigma\n",
    "n_samples = 1000\n",
    "\n",
    "sample_mu = tfd.Normal(loc=178.0, scale=20.0).sample(n_samples, seed=a_key())\n",
    "sample_sigma = tfd.Uniform(low=0.0, high=50.0).sample(n_samples, seed=a_key())\n",
    "prior_h = tfd.Normal(loc=sample_mu, scale=sample_sigma).sample(seed=a_key())\n",
    "\n",
    "az.plot_kde(prior_h)"
   ]
  },
  {
   "cell_type": "markdown",
   "metadata": {},
   "source": [
    "##### Code 4.15\n",
    "\n",
    "As mentioned in above cell the prior predictive simulation is helpful in assigning sensible priors. Here we see if we change the scale for *sample_mu* to 100 (instead of using 20 as in the above cell)"
   ]
  },
  {
   "cell_type": "code",
   "execution_count": null,
   "metadata": {},
   "outputs": [],
   "source": [
    "# plot the joint distribution of h, mu and sigma\n",
    "n_samples = 1000\n",
    "\n",
    "sample_mu = tfd.Normal(loc=178.0, scale=100.0).sample(n_samples, seed=a_key())\n",
    "sample_sigma = tfd.Uniform(low=0.0, high=50.0).sample(n_samples, seed=a_key())\n",
    "prior_h = tfd.Normal(loc=sample_mu, scale=sample_sigma).sample(seed=a_key())\n",
    "\n",
    "az.plot_kde(prior_h)"
   ]
  },
  {
   "cell_type": "markdown",
   "metadata": {},
   "source": [
    "Now, what the above plot is showing that there are about 4% of people that have a **negative height** and about 18% on the right side have height not common at all for humans to attain ! So clearly this choice of scale (i.e. 100) is not a good one as the prior. "
   ]
  },
  {
   "cell_type": "markdown",
   "metadata": {},
   "source": [
    "### 4.3.3 Grid approximation of the posterior distribution"
   ]
  },
  {
   "cell_type": "markdown",
   "metadata": {},
   "source": [
    "##### Code 4.16\n",
    "\n",
    "Here we are doing **Grid approximation of the posterior distribution**. A very crude technique that may work for small/simple models. It is customary to do it to make a point but later we will use well established inference methods based on MCMC and VI"
   ]
  },
  {
   "cell_type": "code",
   "execution_count": null,
   "metadata": {},
   "outputs": [],
   "source": [
    "def compute_likelihood(mu, sigma, sample_data):\n",
    "    def _compute(mu, sigma, sample_data):\n",
    "        norm_dist = tfd.Normal(loc=mu, scale=sigma)\n",
    "        return jnp.sum(norm_dist.log_prob(sample_data))\n",
    "\n",
    "    return jax.vmap(_compute, in_axes=(0, 0, None))(mu, sigma, sample_data)\n",
    "\n",
    "\n",
    "def grid_approximation(sample_data, mu_start=150.0, mu_stop=160.0, \n",
    "                       sigma_start=7.0, sigma_stop=9.0):\n",
    "    mu_list = jnp.linspace(start=mu_start, stop=mu_stop, num=200)\n",
    "    sigma_list = jnp.linspace(start=sigma_start, stop=sigma_stop, num=200)\n",
    "\n",
    "    mesh = jnp.meshgrid(mu_list, sigma_list)\n",
    "    mu = jnp.reshape(mesh[0], -1)\n",
    "    sigma = jnp.reshape(mesh[1], -1)\n",
    "\n",
    "    log_likelihood = compute_likelihood(mu, sigma, sample_data)\n",
    "\n",
    "    logprob_mu = tfd.Normal(178.0, 20.0).log_prob(mu)\n",
    "    logprob_sigma = tfd.Uniform(low=0.0, high=50.0).log_prob(sigma)\n",
    "\n",
    "    log_joint_prod = log_likelihood + logprob_mu + logprob_sigma\n",
    "    joint_prob = jnp.exp(log_joint_prod - jnp.max(log_joint_prod))\n",
    "\n",
    "    return mesh, joint_prob"
   ]
  },
  {
   "cell_type": "code",
   "execution_count": null,
   "metadata": {},
   "outputs": [],
   "source": [
    "mesh, joint_prob = grid_approximation(d2.height.values)"
   ]
  },
  {
   "cell_type": "markdown",
   "metadata": {},
   "source": [
    "##### Code 4.17\n",
    "\n",
    "Make a contour plot"
   ]
  },
  {
   "cell_type": "code",
   "execution_count": null,
   "metadata": {},
   "outputs": [],
   "source": [
    "reshaped_joint_prob = jnp.reshape(joint_prob, (200, 200))\n",
    "plt.contour(*mesh, reshaped_joint_prob)"
   ]
  },
  {
   "cell_type": "markdown",
   "metadata": {},
   "source": [
    "##### Code 4.18\n",
    "\n",
    "Here we are plotting a heatmap instead of contour plot"
   ]
  },
  {
   "cell_type": "code",
   "execution_count": null,
   "metadata": {},
   "outputs": [],
   "source": [
    "plt.imshow(reshaped_joint_prob, origin=\"lower\", extent=(150, 160, 7, 9), aspect=\"auto\")"
   ]
  },
  {
   "cell_type": "markdown",
   "metadata": {},
   "source": [
    "### 4.3.4 Sampling from the posterior"
   ]
  },
  {
   "cell_type": "markdown",
   "metadata": {},
   "source": [
    "##### Code 4.19 & 4.20\n",
    "\n",
    "We are at point of now **Sampling from the Posterior**"
   ]
  },
  {
   "cell_type": "code",
   "execution_count": null,
   "metadata": {},
   "outputs": [],
   "source": [
    "joint_prob.shape, joint_prob[:10]"
   ]
  },
  {
   "cell_type": "code",
   "execution_count": null,
   "metadata": {},
   "outputs": [],
   "source": [
    "# This is a trick to sample row numbers randomly with the help of Categorical distribution\n",
    "sample_rows = tfd.Categorical(probs=(joint_prob / jnp.sum(joint_prob))).sample(\n",
    "  100_00, seed=a_key())\n",
    "sample_rows"
   ]
  },
  {
   "cell_type": "code",
   "execution_count": null,
   "metadata": {},
   "outputs": [],
   "source": [
    "mu = mesh[0].reshape(-1)\n",
    "sigma = mesh[1].reshape(-1)\n",
    "\n",
    "# We are sampling 2 parameters here from the selected rows\n",
    "sample_mu = mu[sample_rows]\n",
    "sample_sigma = sigma[sample_rows]\n",
    "\n",
    "plt.scatter(sample_mu, sample_sigma, s=64, alpha=0.1, edgecolor=\"none\")"
   ]
  },
  {
   "cell_type": "markdown",
   "metadata": {},
   "source": [
    "##### Code 4.21\n",
    "\n",
    "Time to summarize/describe the distribution of confidence in each combination of $\\mu$ & $\\sigma$ using the samples."
   ]
  },
  {
   "cell_type": "code",
   "execution_count": null,
   "metadata": {},
   "outputs": [],
   "source": [
    "_, ax = plt.subplots(1, 2, figsize=(8, 4))\n",
    "az.plot_kde(sample_mu, ax=ax[0])\n",
    "ax[0].set_xlabel(\"sample_mu\")\n",
    "ax[0].set_yticks([])\n",
    "az.plot_kde(sample_sigma, ax=ax[1])\n",
    "ax[1].set_xlabel(\"sample_sigma\")\n",
    "ax[1].set_yticks([])"
   ]
  },
  {
   "cell_type": "markdown",
   "metadata": {},
   "source": [
    "As should be clear from the plot, the densities here are very close *normal distribution*. As sample size increases, posterior densities show this behavior. \n",
    "\n",
    "Pay attention to sample_sigma, density of it has a **longer right-hand tail**. Author mentions here that this condition is very common for standard deviation parameters. No explanation about it at this point of time."
   ]
  },
  {
   "cell_type": "markdown",
   "metadata": {},
   "source": [
    "##### Code 4.22\n",
    "\n",
    "Now we want to summarize the widths of these densities with **posterior compatibility intervals**"
   ]
  },
  {
   "cell_type": "code",
   "execution_count": null,
   "metadata": {},
   "outputs": [],
   "source": [
    "type(sample_mu), type(sample_mu.__array__()), type(jax.device_get(sample_mu))"
   ]
  },
  {
   "cell_type": "markdown",
   "metadata": {},
   "source": [
    "### 4.3.5 Finding the posterior distribution using quap"
   ]
  },
  {
   "cell_type": "markdown",
   "metadata": {},
   "source": [
    "### 4.3.5 Finding the posterior distribution using quap"
   ]
  },
  {
   "cell_type": "code",
   "execution_count": null,
   "metadata": {},
   "outputs": [],
   "source": [
    "print(\"sample_mu -\", az.hdi(sample_mu.__array__()))\n",
    "print(\"sample_sigma -\", az.hdi(jax.device_get(sample_sigma)))"
   ]
  },
  {
   "cell_type": "markdown",
   "metadata": {},
   "source": [
    "##### Code 4.23 & Code 4.24\n",
    "\n",
    "Author now wants to use Quadratic approximation but he wants to make a point about using it and impact of $\\sigma$ on this approximation.\n",
    "\n",
    "Here the above analysis of the height data is repeated but with only a fraction of original data. The reasoning behind is to demonstrate that, in principle, the posterior is not always Gaussian in shape.\n",
    "\n",
    "Author explains that for a Guassian $\\mu$ & Gaussian likelihood the shape is always Gaussian irrespective of the sample size but it is the $\\sigma$ that causes problems."
   ]
  },
  {
   "cell_type": "code",
   "execution_count": null,
   "metadata": {},
   "outputs": [],
   "source": [
    "# We just get 20 samples for now and repeat our exercise\n",
    "d3 = d2.height.sample(n=20)"
   ]
  },
  {
   "cell_type": "code",
   "execution_count": null,
   "metadata": {},
   "outputs": [],
   "source": [
    "mesh2, joint_prob2 = grid_approximation(\n",
    "    d3.values,\n",
    "    mu_start=150.0,\n",
    "    mu_stop=170.0,\n",
    "    sigma_start=4.0,\n",
    "    sigma_stop=20.0)"
   ]
  },
  {
   "cell_type": "code",
   "execution_count": null,
   "metadata": {},
   "outputs": [],
   "source": [
    "mu2 = mesh2[0].reshape(-1)\n",
    "sigma2 = mesh2[1].reshape(-1)\n",
    "\n",
    "# We are sampling 2 parameters here from the selected rows\n",
    "sample_mu2 = mu2[sample_rows]\n",
    "sample_sigma2 = sigma2[sample_rows]\n",
    "\n",
    "plt.scatter(sample_mu2, sample_sigma2, s=64, alpha=0.1, edgecolor=\"none\")"
   ]
  },
  {
   "cell_type": "markdown",
   "metadata": {},
   "source": [
    "##### Code 4.25"
   ]
  },
  {
   "cell_type": "code",
   "execution_count": null,
   "metadata": {},
   "outputs": [],
   "source": [
    "_, ax = plt.subplots(1, 2, figsize=(8, 4))\n",
    "az.plot_kde(sample_mu2, ax=ax[0])\n",
    "ax[0].set_xlabel(\"sample_mu2\")\n",
    "ax[0].set_yticks([])\n",
    "az.plot_kde(sample_sigma2, ax=ax[1])\n",
    "ax[1].set_xlabel(\"sample_sigma2\")\n",
    "ax[1].set_yticks([])"
   ]
  },
  {
   "cell_type": "code",
   "execution_count": null,
   "metadata": {},
   "outputs": [],
   "source": [
    "az.plot_kde(sample_sigma2)\n",
    "x = jnp.sort(sample_sigma2)\n",
    "plt.plot(x, tfd.Normal(loc=jnp.mean(x), scale=jnp.std(x)).prob(x), \"--\")"
   ]
  },
  {
   "cell_type": "markdown",
   "metadata": {},
   "source": [
    "### 4.3.5 Finding the posterior distribution using quap"
   ]
  },
  {
   "cell_type": "markdown",
   "metadata": {},
   "source": [
    "##### Code 4.26\n",
    "\n",
    "We will reload our data frame and start to use quadratic approximiation now"
   ]
  },
  {
   "cell_type": "code",
   "execution_count": null,
   "metadata": {},
   "outputs": [],
   "source": [
    "d = pd.read_csv(\"./data/Howell1.csv\", sep=\";\")\n",
    "d2 = d[d.age > 18]"
   ]
  },
  {
   "cell_type": "markdown",
   "metadata": {},
   "source": [
    "##### Code 4.27\n",
    "\n",
    "We are now ready to define our model using tensorflow probability.\n",
    "\n",
    "\n",
    "There are few ways to define a model using tfp, I am going to use a variant\n",
    "of JointSequential that uses Coroutines (generator) based syntax. However, you can always\n",
    "define as a plain function and return log probs yourself. An example of plain function that would be \n",
    "\n",
    "```python\n",
    "def joint_log_prob_model(mu, sigma, data):\n",
    "  mu_dist = tfd.Normal(loc=178., scale=20.)\n",
    "  sigma_dist = tfd.Uniform(low=0., high=50.)\n",
    "  height_dist = tfd.Normal(loc=mu, scale=sigma)\n",
    "  \n",
    "  return (\n",
    "      mu_dist.log_prob(mu) +\n",
    "      sigma_dist.log_prob(sigma) +           \n",
    "      tf.reduce_sum(height_dist.log_prob(data)) \n",
    "  )\n",
    "```"
   ]
  },
  {
   "cell_type": "markdown",
   "metadata": {},
   "source": [
    "##### Code 4.28"
   ]
  },
  {
   "cell_type": "code",
   "execution_count": null,
   "metadata": {},
   "outputs": [],
   "source": [
    "n_sample = d2.shape[0]"
   ]
  },
  {
   "cell_type": "markdown",
   "metadata": {},
   "source": [
    "#### using JointDistributionNamedAutoBatched"
   ]
  },
  {
   "cell_type": "code",
   "execution_count": null,
   "metadata": {},
   "outputs": [],
   "source": [
    "m41 = dict(\n",
    "    mu = tfd.Normal(loc=178.0, scale=20.0),\n",
    "    sigma = tfd.Uniform(low=0.0, high=50.0),\n",
    "    height = lambda mu, sigma: tfd.Sample(tfd.Normal(loc=mu, scale=sigma), n_sample)\n",
    ")\n",
    "\n",
    "jd_4_1_N = tfd.JointDistributionNamedAutoBatched(m41)"
   ]
  },
  {
   "cell_type": "code",
   "execution_count": null,
   "metadata": {},
   "outputs": [],
   "source": [
    "jd_4_1_N.sample(seed=a_key())"
   ]
  },
  {
   "cell_type": "code",
   "execution_count": null,
   "metadata": {},
   "outputs": [],
   "source": [
    "# sample of 'Named': dictionary\n",
    "type(jd_4_1_N.sample(seed=a_key()))"
   ]
  },
  {
   "cell_type": "code",
   "execution_count": null,
   "metadata": {},
   "outputs": [],
   "source": [
    "# mcmc.sample_chain(current_state): Tensor or Python list of Tensor\n",
    "#  - error when dict input \n",
    "# a list of two jnp.array\n",
    "init_state = [jd_4_1_N.sample(seed=a_key())[s] for s in [\"mu\", \"sigma\"]]\n",
    "init_state"
   ]
  },
  {
   "cell_type": "code",
   "execution_count": null,
   "metadata": {},
   "outputs": [],
   "source": [
    "# Match the function args with the init_state\n",
    "# init_state(a list of two jnp.array) be interpreted as \"mu\" and \"sigma\"\n",
    "def target_log_prob(mu, sigma):\n",
    "    # sample of 'Named': dictionary\n",
    "    samples = {\"mu\": mu, \"sigma\": sigma, \"height\": jnp.array(d2[\"height\"])}\n",
    "    return jd_4_1_N.log_prob(samples)"
   ]
  },
  {
   "cell_type": "code",
   "execution_count": null,
   "metadata": {},
   "outputs": [],
   "source": [
    "kernel = tfp.mcmc.HamiltonianMonteCarlo(\n",
    "    target_log_prob_fn=target_log_prob,\n",
    "    step_size=0.2, \n",
    "    num_leapfrog_steps=2)"
   ]
  },
  {
   "cell_type": "code",
   "execution_count": null,
   "metadata": {},
   "outputs": [],
   "source": [
    "states = tfp.mcmc.sample_chain(\n",
    "    1000,\n",
    "    current_state=init_state,\n",
    "    kernel=kernel,\n",
    "    num_burnin_steps=200,\n",
    "    trace_fn=None,\n",
    "    seed=a_key())"
   ]
  },
  {
   "cell_type": "code",
   "execution_count": null,
   "metadata": {},
   "outputs": [],
   "source": [
    "states"
   ]
  },
  {
   "cell_type": "code",
   "execution_count": null,
   "metadata": {},
   "outputs": [],
   "source": [
    "states_dict = dict(zip([\"mu\", \"sigma\"], states))"
   ]
  },
  {
   "cell_type": "code",
   "execution_count": null,
   "metadata": {},
   "outputs": [],
   "source": [
    "az.summary(states_dict, round_to=2, kind=\"stats\", hdi_prob=0.89)"
   ]
  },
  {
   "cell_type": "code",
   "execution_count": null,
   "metadata": {},
   "outputs": [],
   "source": [
    "# shape of mcmc.sample_chain output depends on shape of init_state\n",
    "init_state = jnp.concatenate(\n",
    "  [jnp.expand_dims(s, axis=0) for s in init_state if jnp.ndim(s)==0])\n",
    "# an jnp.array of two elements\n",
    "init_state"
   ]
  },
  {
   "cell_type": "code",
   "execution_count": null,
   "metadata": {},
   "outputs": [],
   "source": [
    "# def target_log_prob(mu, sigma):\n",
    "def target_log_prob(states):\n",
    "    mu, sigma = states\n",
    "    states = {\"mu\": mu, \"sigma\": sigma, \"height\": jnp.array(d2[\"height\"])}\n",
    "    return jd_4_1_N.log_prob(states)"
   ]
  },
  {
   "cell_type": "code",
   "execution_count": null,
   "metadata": {},
   "outputs": [],
   "source": [
    "kernel = tfp.mcmc.HamiltonianMonteCarlo(\n",
    "    target_log_prob_fn=target_log_prob,\n",
    "    step_size=0.2, \n",
    "    num_leapfrog_steps=2)"
   ]
  },
  {
   "cell_type": "code",
   "execution_count": null,
   "metadata": {},
   "outputs": [],
   "source": [
    "states = tfp.mcmc.sample_chain(\n",
    "    1000,\n",
    "    current_state=init_state,\n",
    "    kernel=kernel,\n",
    "    num_burnin_steps=200,\n",
    "    trace_fn=None,\n",
    "    seed=a_key())"
   ]
  },
  {
   "cell_type": "code",
   "execution_count": null,
   "metadata": {},
   "outputs": [],
   "source": [
    "states"
   ]
  },
  {
   "cell_type": "markdown",
   "metadata": {},
   "source": [
    "#### using JointDistributionCoroutineAutoBatched"
   ]
  },
  {
   "cell_type": "code",
   "execution_count": null,
   "metadata": {},
   "outputs": [],
   "source": [
    "def m41c():\n",
    "    mu = yield tfd.Normal(loc=178.0, scale=20.0, name=\"mu\")\n",
    "    sigma = yield tfd.Uniform(low=0.0, high=50.0, name=\"sigma\")\n",
    "    height = yield tfd.Sample(tfd.Normal(loc=mu, scale=sigma), n_sample, name=\"height\")\n",
    "\n",
    "jd_4_1_C = tfd.JointDistributionCoroutineAutoBatched(m41c)"
   ]
  },
  {
   "cell_type": "code",
   "execution_count": null,
   "metadata": {},
   "outputs": [],
   "source": [
    "# 'Couroutine' sample: StructTuple\n",
    "init2 = jd_4_1_C.sample(seed=a_key())\n",
    "init2"
   ]
  },
  {
   "cell_type": "code",
   "execution_count": null,
   "metadata": {},
   "outputs": [],
   "source": [
    "type(init2)"
   ]
  },
  {
   "cell_type": "code",
   "execution_count": null,
   "metadata": {},
   "outputs": [],
   "source": [
    "# seemingly a NamedTuple\n",
    "init2.mu, init2.sigma"
   ]
  },
  {
   "cell_type": "code",
   "execution_count": null,
   "metadata": {},
   "outputs": [],
   "source": [
    "init2[:-1]"
   ]
  },
  {
   "cell_type": "code",
   "execution_count": null,
   "metadata": {},
   "outputs": [],
   "source": [
    "# a NamedTuple for Coroutine.log_prob()\n",
    "StateTuple = namedtuple(\"StateTuple\", [\"mu\", \"sigma\", \"height\"])"
   ]
  },
  {
   "cell_type": "code",
   "execution_count": null,
   "metadata": {},
   "outputs": [],
   "source": [
    "# mcmc.sample_chain() can interpret NamedTuple, so two args needed\n",
    "def target_log_prob(mu, sigma):\n",
    "    params = {\"mu\": mu, \"sigma\": sigma, \"height\": jnp.array(d2[\"height\"])}\n",
    "    return jd_4_1_C.log_prob(StateTuple(**params))"
   ]
  },
  {
   "cell_type": "code",
   "execution_count": null,
   "metadata": {},
   "outputs": [],
   "source": [
    "kernel = tfp.mcmc.HamiltonianMonteCarlo(\n",
    "    target_log_prob_fn=target_log_prob,\n",
    "    step_size=0.2, \n",
    "    num_leapfrog_steps=2\n",
    ")"
   ]
  },
  {
   "cell_type": "code",
   "execution_count": null,
   "metadata": {},
   "outputs": [],
   "source": [
    "init2 = init2[:-1]"
   ]
  },
  {
   "cell_type": "code",
   "execution_count": null,
   "metadata": {},
   "outputs": [],
   "source": [
    "states2 = tfp.mcmc.sample_chain(\n",
    "    1000,\n",
    "    current_state=init2,\n",
    "    kernel=kernel,\n",
    "    num_burnin_steps=200,\n",
    "    trace_fn=None,\n",
    "    seed=a_key()\n",
    ")"
   ]
  },
  {
   "cell_type": "code",
   "execution_count": null,
   "metadata": {},
   "outputs": [],
   "source": [
    "states2"
   ]
  },
  {
   "cell_type": "code",
   "execution_count": null,
   "metadata": {},
   "outputs": [],
   "source": [
    "az.summary(states2._asdict(), round_to=2, kind=\"stats\", hdi_prob=0.89)"
   ]
  },
  {
   "cell_type": "markdown",
   "metadata": {},
   "source": [
    "These numbers shown above provide Gaussian approximations for each parameter’s marginal distribution."
   ]
  },
  {
   "cell_type": "markdown",
   "metadata": {},
   "source": [
    "# a 'jit' version"
   ]
  },
  {
   "cell_type": "code",
   "execution_count": null,
   "metadata": {},
   "outputs": [],
   "source": [
    "# def run_chain(init_state, key):\n",
    "#     target_log_prob = target_log_prob(...)\n",
    "#     kernel = tfp.mcmc.HamiltonianMonteCarlo(...)\n",
    "#     return tfp.mcmc.sample_chain(...)\n",
    "\n",
    "# states = jax.jit(run_chain)(init_state, key)"
   ]
  },
  {
   "cell_type": "code",
   "execution_count": null,
   "metadata": {},
   "outputs": [],
   "source": [
    "tfd.Sample(tfd.Normal(loc=0., scale=1.), (2,)).sample(seed=a_key())"
   ]
  },
  {
   "cell_type": "code",
   "execution_count": null,
   "metadata": {},
   "outputs": [],
   "source": [
    "jnp.array([[3,2]]).shape"
   ]
  },
  {
   "cell_type": "markdown",
   "metadata": {},
   "source": [
    "##### Code 4.30\n",
    "\n",
    "What should be the starting values for the sampling ?\n",
    "\n",
    "Author recommends that we could use the mean from the dataframe"
   ]
  },
  {
   "cell_type": "markdown",
   "metadata": {},
   "source": [
    "##### Code 4.31"
   ]
  },
  {
   "cell_type": "code",
   "execution_count": null,
   "metadata": {},
   "outputs": [],
   "source": [
    "model_4_2 = dict(\n",
    "    # mu = tfd.Normal(loc=178.0, scale=20.0),\n",
    "    mu = tfd.Normal(loc=178.0, scale=0.1),\n",
    "    sigma = tfd.Uniform(low=0.0, high=50.0),\n",
    "    height = lambda mu, sigma: tfd.Sample(tfd.Normal(loc=mu, scale=sigma), n_sample)\n",
    ")\n",
    "\n",
    "jdc_4_2 = tfd.JointDistributionNamedAutoBatched(model_4_2)"
   ]
  },
  {
   "cell_type": "code",
   "execution_count": null,
   "metadata": {},
   "outputs": [],
   "source": [
    "num_burnin_steps = 0\n",
    "num_results = 1000\n",
    "step_size = 0.1"
   ]
  },
  {
   "cell_type": "code",
   "execution_count": null,
   "metadata": {},
   "outputs": [],
   "source": [
    "init_state = [jdc_4_2.sample(seed=a_key())[s] for s in [\"mu\", \"sigma\"]]"
   ]
  },
  {
   "cell_type": "code",
   "execution_count": null,
   "metadata": {},
   "outputs": [],
   "source": [
    "def target_log_prob(mu, sigma):\n",
    "    samples = {\"mu\": mu, \"sigma\": sigma, \"height\": d2.height.values}\n",
    "    return jdc_4_2.log_prob(samples)"
   ]
  },
  {
   "cell_type": "code",
   "execution_count": null,
   "metadata": {},
   "outputs": [],
   "source": [
    "kernel = tfp.mcmc.HamiltonianMonteCarlo(\n",
    "    target_log_prob_fn=target_log_prob,\n",
    "    step_size=step_size, \n",
    "    num_leapfrog_steps=2)\n",
    "\n",
    "kernel = tfp.mcmc.SimpleStepSizeAdaptation(\n",
    "    inner_kernel=kernel, num_adaptation_steps=int(num_burnin_steps * 0.8))"
   ]
  },
  {
   "cell_type": "code",
   "execution_count": null,
   "metadata": {},
   "outputs": [],
   "source": [
    "states, [step_size, log_accept_ratio] = tfp.mcmc.sample_chain(\n",
    "    num_results=num_results,\n",
    "    current_state=init_state,\n",
    "    kernel=kernel,\n",
    "    num_burnin_steps=num_burnin_steps,\n",
    "    trace_fn=lambda _, pkr: [pkr.inner_results.accepted_results.step_size,\n",
    "                             pkr.inner_results.log_accept_ratio],\n",
    "    seed=a_key())"
   ]
  },
  {
   "cell_type": "code",
   "execution_count": null,
   "metadata": {},
   "outputs": [],
   "source": [
    "jnp.unique(step_size)"
   ]
  },
  {
   "cell_type": "code",
   "execution_count": null,
   "metadata": {},
   "outputs": [],
   "source": [
    "jnp.exp(tfp.math.reduce_logmeanexp(jnp.minimum(log_accept_ratio, 0.)))"
   ]
  },
  {
   "cell_type": "code",
   "execution_count": null,
   "metadata": {},
   "outputs": [],
   "source": [
    "states_dict = dict(zip([\"mu\", \"sigma\"], [jax.device_get(s) for s in states]))"
   ]
  },
  {
   "cell_type": "code",
   "execution_count": null,
   "metadata": {},
   "outputs": [],
   "source": [
    "az.summary(states_dict, round_to=2, kind=\"stats\", hdi_prob=0.89)"
   ]
  },
  {
   "cell_type": "markdown",
   "metadata": {},
   "source": [
    "Taken verbatim from the book :\n",
    "\n",
    "Notice that the estimate for μ has hardly moved off the prior. The prior was very concentrated around 178. So this is not surprising. But also notice that the estimate for σ has changed quite a lot, even though we didn’t change its prior at all. Once the golem is certain that the mean is near 178—as the prior insists—then the golem has to estimate σ conditional on that fact. This results in a different posterior for σ, even though all we changed is prior information about the other parameter."
   ]
  },
  {
   "cell_type": "code",
   "execution_count": null,
   "metadata": {},
   "outputs": [],
   "source": [
    "d = pd.read_csv(\"./data/Howell1.csv\", sep=\";\")\n",
    "d2 = d[d.age > 18]"
   ]
  },
  {
   "cell_type": "code",
   "execution_count": null,
   "metadata": {},
   "outputs": [],
   "source": [
    "n_sample = d2.shape[0]"
   ]
  },
  {
   "cell_type": "code",
   "execution_count": null,
   "metadata": {},
   "outputs": [],
   "source": [
    "m41 = dict(\n",
    "    mu = tfd.Normal(loc=178.0, scale=20.0),\n",
    "    sigma = tfd.Uniform(low=0.0, high=50.0),\n",
    "    height = lambda mu, sigma: tfd.Sample(tfd.Normal(loc=mu, scale=sigma), n_sample)\n",
    ")\n",
    "\n",
    "jd_4_1 = tfd.JointDistributionNamedAutoBatched(m41)"
   ]
  },
  {
   "cell_type": "code",
   "execution_count": null,
   "metadata": {},
   "outputs": [],
   "source": [
    "state_name = \"mu\", \"sigma\""
   ]
  },
  {
   "cell_type": "code",
   "execution_count": null,
   "metadata": {},
   "outputs": [],
   "source": [
    "def target_log_prob_41(mu, sigma):\n",
    "    sample = dict(zip(state_name, (mu, sigma)), height = d2.height.values)\n",
    "    return jd_4_1.log_prob(sample)"
   ]
  },
  {
   "cell_type": "code",
   "execution_count": null,
   "metadata": {},
   "outputs": [],
   "source": [
    "num_burnin_steps = 500\n",
    "num_results = 500\n",
    "step_size = 0.2"
   ]
  },
  {
   "cell_type": "code",
   "execution_count": null,
   "metadata": {},
   "outputs": [],
   "source": [
    "kernel_41 = tfp.mcmc.HamiltonianMonteCarlo(\n",
    "    target_log_prob_fn=target_log_prob_41,\n",
    "    step_size=step_size,\n",
    "    num_leapfrog_steps=2)\n",
    "\n",
    "kernel_41 = tfp.mcmc.SimpleStepSizeAdaptation(\n",
    "    inner_kernel=kernel_41, num_adaptation_steps=int(num_burnin_steps * 0.8))"
   ]
  },
  {
   "cell_type": "code",
   "execution_count": null,
   "metadata": {},
   "outputs": [],
   "source": [
    "# - init_state = [jnp.zeros(()), jnp.zeros(())]\n",
    "#   : stay at zero, bad initial\n",
    "# - init_state = [jd_4_1.sample((), seed=a_key())[s] for s in state_name]\n",
    "#   : a safe way"
   ]
  },
  {
   "cell_type": "code",
   "execution_count": null,
   "metadata": {},
   "outputs": [],
   "source": [
    "# number of chains: 3\n",
    "init_state = [jd_4_1.sample((3,), seed=a_key())[s] for s in state_name]\n",
    "init_state"
   ]
  },
  {
   "cell_type": "code",
   "execution_count": null,
   "metadata": {},
   "outputs": [],
   "source": [
    "states_41 = tfp.mcmc.sample_chain(\n",
    "    num_results=num_results,\n",
    "    current_state=init_state,\n",
    "    kernel=kernel_41,\n",
    "    num_burnin_steps=num_burnin_steps,\n",
    "    trace_fn=None,\n",
    "    seed=a_key())\n",
    "\n",
    "states_41"
   ]
  },
  {
   "cell_type": "code",
   "execution_count": null,
   "metadata": {},
   "outputs": [],
   "source": [
    "# tfp.mcmc.sample_chain output shape: (sample, batch, event)\n",
    "#  == in terms of arviz, (draws, chains, *shape)\n",
    "# arvis input shape: (chains, draws, *shape)\n",
    "states_41 = [jnp.moveaxis(s, 0, 1) for s in states_41]"
   ]
  },
  {
   "cell_type": "markdown",
   "metadata": {},
   "source": [
    "## 4.4 Linear prediction"
   ]
  },
  {
   "cell_type": "code",
   "execution_count": null,
   "metadata": {},
   "outputs": [],
   "source": [
    "states_41_dict = dict(zip(state_name, states_41))"
   ]
  },
  {
   "cell_type": "code",
   "execution_count": null,
   "metadata": {},
   "outputs": [],
   "source": [
    "# stats for all chains\n",
    "az.summary(states_41_dict, round_to=2, kind=\"stats\", hdi_prob=0.89)"
   ]
  },
  {
   "cell_type": "code",
   "execution_count": null,
   "metadata": {},
   "outputs": [],
   "source": [
    "# stats for the first chains\n",
    "az.summary(dict(mu=states_41_dict['mu'][0], sigma=states_41_dict['sigma'][0]), \n",
    "           round_to=2, kind=\"stats\", hdi_prob=0.89)"
   ]
  },
  {
   "cell_type": "code",
   "execution_count": null,
   "metadata": {},
   "outputs": [],
   "source": [
    "az.plot_trace(states_41_dict)"
   ]
  },
  {
   "cell_type": "markdown",
   "metadata": {},
   "source": [
    "##### Code 4.32\n",
    "\n",
    "\n",
    "Now this approximation of posterior is multi-dimension where $\\mu$ and $\\sigma$ are contributing a dimension each. In other words, we have a multi-dimensional gaussian distribution\n",
    "\n",
    "Since it is multi-dimensional, let's see the covariances between the parameters"
   ]
  },
  {
   "cell_type": "code",
   "execution_count": null,
   "metadata": {},
   "outputs": [],
   "source": [
    "az.plot_pair(states_41_dict)"
   ]
  },
  {
   "cell_type": "code",
   "execution_count": null,
   "metadata": {},
   "outputs": [],
   "source": [
    "sample_mu, sample_sigma = states_41_dict['mu'][0], states_41_dict['sigma'][0]\n",
    "cov_41 = tfp.stats.covariance(jnp.stack([sample_mu, sample_sigma], axis=1))\n",
    "cov_41"
   ]
  },
  {
   "cell_type": "markdown",
   "metadata": {},
   "source": [
    "##### Code 4.33"
   ]
  },
  {
   "cell_type": "code",
   "execution_count": null,
   "metadata": {},
   "outputs": [],
   "source": [
    "tfp.stats.correlation(jnp.stack([sample_mu, sample_sigma], axis=1))"
   ]
  },
  {
   "cell_type": "markdown",
   "metadata": {},
   "source": [
    "##### Code 4.34\n",
    "\n",
    "We did not use the quadratic approximation, instead we use a MCMC method to sample from the posterior. Thus, we already have samples. We can do something like"
   ]
  },
  {
   "cell_type": "code",
   "execution_count": null,
   "metadata": {},
   "outputs": [],
   "source": [
    "jnp.mean(sample_mu), jnp.mean(sample_sigma)"
   ]
  },
  {
   "cell_type": "code",
   "execution_count": null,
   "metadata": {},
   "outputs": [],
   "source": [
    "mvn = tfd.MultivariateNormalTriL(loc=[jnp.mean(sample_mu), jnp.mean(sample_sigma)], \n",
    "                                 scale_tril=jnp.linalg.cholesky(cov_41))\n",
    "mvn.sample(100, seed=a_key())"
   ]
  },
  {
   "cell_type": "markdown",
   "metadata": {},
   "source": [
    "## 4.4 Linear prediction"
   ]
  },
  {
   "cell_type": "markdown",
   "metadata": {},
   "source": [
    "##### Code 4.37\n",
    "\n",
    "So now let’s look at how height in these Kalahari foragers (the outcome variable) covaries with weight (the predictor variable)."
   ]
  },
  {
   "cell_type": "code",
   "execution_count": null,
   "metadata": {},
   "outputs": [],
   "source": [
    "plt.plot(d2.height, d2.weight, \".\")"
   ]
  },
  {
   "cell_type": "markdown",
   "metadata": {},
   "source": [
    "### 4.4.1 The linear model strategy"
   ]
  },
  {
   "cell_type": "markdown",
   "metadata": {},
   "source": [
    "##### Code 4.38, & 4.39 \n",
    "\n",
    "In brief, we have now started to model the relation between height & weight formally and the strategy is formally Linear Model and process is called Linear Regression. \n",
    "\n",
    "Here is the description of the model -\n",
    "\n",
    "$h_i \\sim Normal(\\mu_i,\\sigma)$    \n",
    "\n",
    "$\\mu_i = \\alpha + \\beta(x_i - \\bar{x})$   \n",
    "\n",
    "$\\alpha \\sim Normal(178,20)$       \n",
    "\n",
    "$\\beta \\sim Normal(0,10)$          \n",
    "\n",
    "$\\sigma \\sim Uniform(0,50)$        \n",
    "\n",
    "\n",
    "where, $h_i$ is the likelhood, $\\mu_i$ is the linear model and rest are the priors\n",
    "\n",
    "Important thing to note is that $h_i$ has a subscript $i$, which means that *the mean depends upon the row*\n",
    "\n",
    "$\\mu_i$ is also called a **Deterministic Variable** as given the values of other **Stochastic Variables** we are certain about the values it would take !"
   ]
  },
  {
   "cell_type": "code",
   "execution_count": null,
   "metadata": {},
   "outputs": [],
   "source": [
    "N = 100\n",
    "\n",
    "a = tfd.Normal(loc=178.0, scale=20.0).sample(N, seed=a_key())\n",
    "b = tfd.Normal(loc=0.0, scale=10.0).sample(N, seed=a_key())"
   ]
  },
  {
   "cell_type": "code",
   "execution_count": null,
   "metadata": {},
   "outputs": [],
   "source": [
    "a.shape, b.shape"
   ]
  },
  {
   "cell_type": "code",
   "execution_count": null,
   "metadata": {},
   "outputs": [],
   "source": [
    "plt.subplot(\n",
    "    xlim=(d2.weight.min(), d2.weight.max()),\n",
    "    ylim=(-100, 400),\n",
    "    xlabel=\"weight\",\n",
    "    ylabel=\"height\",\n",
    ")\n",
    "plt.axhline(y=0, c=\"k\", ls=\"--\")\n",
    "plt.axhline(y=272, c=\"k\", ls=\"-\", lw=0.5)\n",
    "plt.title(\"b ~ Normal(0, 10)\")\n",
    "xbar = d2.weight.mean()\n",
    "x = np.linspace(d2.weight.min(), d2.weight.max(), 101)\n",
    "for i in range(N):\n",
    "    plt.plot(x, a[i] + b[i] * (x - xbar), \"k\", alpha=0.2)\n",
    "\n",
    "plt.text(x=35, y=282, s=\"World's tallest person (272cm)\")\n",
    "plt.text(x=35, y=-25, s=\"Embryo (0cm)\")"
   ]
  },
  {
   "cell_type": "markdown",
   "metadata": {},
   "source": [
    "'---' represents a zero - no one is shorter than this & also is shown the line for world's tallest person.\n",
    "\n",
    "Clearly, the lines are showing unnatural relationships therefore befoe we have even see the data, this is a bad model. Again prior predictive checks are coming in handy !"
   ]
  },
  {
   "cell_type": "markdown",
   "metadata": {},
   "source": [
    "##### Code 4.40\n",
    "\n",
    "We use some common sense here, we know that average height increases with average weight (to some extent and to a certain point) therefore we must restrict it to positive values only. \n",
    "\n",
    "Earlier we used Normal distribution for beta but a better one is LogNormal\n",
    "\n",
    "$\\beta \\sim LogNormal(0,1)$"
   ]
  },
  {
   "cell_type": "code",
   "execution_count": null,
   "metadata": {},
   "outputs": [],
   "source": [
    "b = tfd.LogNormal(loc=0.0, scale=1.0).sample(1000, seed=a_key())\n",
    "az.plot_kde(b)"
   ]
  },
  {
   "cell_type": "markdown",
   "metadata": {},
   "source": [
    "##### Code 4.41\n",
    "\n",
    "Doing the prior predictive check again where $\\beta$ is LogNormal"
   ]
  },
  {
   "cell_type": "code",
   "execution_count": null,
   "metadata": {},
   "outputs": [],
   "source": [
    "a = tfd.Normal(loc=178.0, scale=20.0).sample(100, seed=a_key())\n",
    "b = tfd.LogNormal(loc=0.0, scale=1.0).sample(100, seed=a_key())\n",
    "\n",
    "plt.subplot(\n",
    "    xlim=(d2.weight.min(), d2.weight.max()),\n",
    "    ylim=(-100, 400),\n",
    "    xlabel=\"weight\",\n",
    "    ylabel=\"height\",\n",
    ")\n",
    "plt.axhline(y=0, c=\"k\", ls=\"--\")\n",
    "plt.axhline(y=272, c=\"k\", ls=\"-\", lw=0.5)\n",
    "plt.title(\"b ~ LogNormal(0, 1)\")\n",
    "xbar = d2.weight.mean()\n",
    "x = np.linspace(d2.weight.min(), d2.weight.max(), 101)\n",
    "for i in range(N):\n",
    "    plt.plot(x, a[i] + b[i] * (x - xbar), \"k\", alpha=0.2)\n",
    "\n",
    "plt.text(x=35, y=282, s=\"World's tallest person (272cm)\")\n",
    "plt.text(x=35, y=-25, s=\"Embryo (0cm)\")"
   ]
  },
  {
   "cell_type": "markdown",
   "metadata": {},
   "source": [
    "Now this is much sensible plot; nearly all lines in the joint prior for $\\alpha$ & $\\beta$ are now in human reason."
   ]
  },
  {
   "cell_type": "markdown",
   "metadata": {},
   "source": [
    "### 4.4.2 Finding the posterior distribution"
   ]
  },
  {
   "cell_type": "markdown",
   "metadata": {},
   "source": [
    "##### Code 4.42\n",
    "\n",
    "Time to build the model again with all the new things we have discovered and updates discussed above"
   ]
  },
  {
   "cell_type": "code",
   "execution_count": 11,
   "metadata": {},
   "outputs": [],
   "source": [
    "d = pd.read_csv(\"./data/Howell1.csv\", sep=\";\")\n",
    "d2 = d[d.age > 18]\n",
    "x_bar = d2.weight.mean()"
   ]
  },
  {
   "cell_type": "code",
   "execution_count": 71,
   "metadata": {},
   "outputs": [],
   "source": [
    "# dict elements do not recognize other elements\n",
    "# e.g., mu = alpha + beta*(d2.weight.values - x_bar)\n",
    "#       -> NameError: name 'alpha' is not defined\n",
    "m43 = dict(\n",
    "    alpha = tfd.Normal(loc=178.0, scale=20.0),\n",
    "    beta = tfd.LogNormal(loc=0.0, scale=1.0),\n",
    "    sigma = tfd.Uniform(low=0.0, high=50.0),\n",
    "    # mu = alpha + beta*(d2.weight.values - x_bar),\n",
    "    mu = lambda alpha, beta: tfd.Deterministic(alpha + beta*(d2.weight.values - x_bar)),\n",
    "    height = lambda mu, sigma: tfd.Normal(loc=mu, scale=sigma)\n",
    ")\n",
    "\n",
    "jd_43 = tfd.JointDistributionNamedAutoBatched(m43)"
   ]
  },
  {
   "cell_type": "code",
   "execution_count": 73,
   "metadata": {},
   "outputs": [
    {
     "data": {
      "text/plain": [
       "(TensorShape([]),\n",
       " {'beta': TensorShape([]),\n",
       "  'alpha': TensorShape([]),\n",
       "  'mu': TensorShape([346]),\n",
       "  'sigma': TensorShape([]),\n",
       "  'height': TensorShape([346])})"
      ]
     },
     "execution_count": 73,
     "metadata": {},
     "output_type": "execute_result"
    }
   ],
   "source": [
    "jd_43.batch_shape, jd_43.event_shape"
   ]
  },
  {
   "cell_type": "code",
   "execution_count": 75,
   "metadata": {},
   "outputs": [
    {
     "data": {
      "text/plain": [
       "{'beta': Array(0.9115048, dtype=float32),\n",
       " 'alpha': Array(206.24863, dtype=float32),\n",
       " 'mu': Array([208.78267, 198.44638, 194.23434, 213.53735, 202.81346, 222.60745,\n",
       "        200.04851, 215.75966, 196.97346, 214.85524, 210.66904, 202.76178,\n",
       "        198.03293, 208.66818, 196.0432 , 209.45453, 203.76958, 200.15187,\n",
       "        209.84213, 204.13135, 197.54196, 199.73842, 197.51611, 201.93488,\n",
       "        215.42374, 199.37665, 200.28108, 207.67152, 200.59117, 197.61948,\n",
       "        208.39505, 208.83435, 210.22975, 210.2039 , 216.74161, 200.84958,\n",
       "        210.66904, 202.78763, 200.33276, 203.8372 , 218.60214, 207.77489,\n",
       "        205.5009 , 211.58499, 214.7002 , 207.0255 , 208.96355, 212.78798,\n",
       "        208.60178, 206.79294, 203.84709, 198.44638, 216.17311, 199.0924 ,\n",
       "        209.22195, 199.2216 , 208.18834, 208.29169, 217.64603, 199.76427,\n",
       "        208.21417, 204.57063, 211.00497, 201.08214, 211.39267, 201.13382,\n",
       "        198.2655 , 207.36143, 203.7179 , 208.60178, 215.96638, 209.45453,\n",
       "        204.20886, 197.15436, 216.92249, 211.9094 , 208.24002, 202.50337,\n",
       "        195.00957, 217.20674, 204.3639 , 201.59895, 207.07718, 202.65842,\n",
       "        208.57594, 199.37665, 206.22444, 203.7179 , 215.19116, 213.97665,\n",
       "        212.76213, 203.84709, 210.3848 , 203.22691, 216.25063, 203.61453,\n",
       "        213.58904, 210.97913, 203.95045, 209.9455 , 200.28108, 210.59152,\n",
       "        219.6616 , 208.88603, 201.00461, 198.80815, 203.58868, 205.81099,\n",
       "        208.8085 , 215.50125, 195.26797, 202.45169, 211.85844, 209.89381,\n",
       "        213.89912, 214.49347, 215.6563 , 203.69205, 202.50337, 210.48816,\n",
       "        205.60426, 207.07718, 203.43364, 212.11612, 205.39754, 194.54443,\n",
       "        216.92249, 213.20143, 198.44638, 209.71294, 217.10338, 203.56285,\n",
       "        210.92744, 207.61984, 221.52214, 209.84213, 193.92426, 197.36107,\n",
       "        206.79294, 205.19081, 206.71541, 202.7101 , 206.43117, 214.08002,\n",
       "        212.8655 , 200.82373, 206.84462, 202.0124 , 212.11612, 200.43613,\n",
       "        200.95294, 205.60426, 201.21133, 207.82657, 202.21913, 210.92744,\n",
       "        202.81346, 214.95757, 206.1986 , 197.8262 , 206.40532, 209.04108,\n",
       "        206.81877, 209.32532, 202.73595, 200.20355, 200.04851, 209.2478 ,\n",
       "        200.66869, 201.67647, 210.9533 , 214.67435, 206.75401, 201.13382,\n",
       "        204.57063, 194.23434, 206.61205, 199.86763, 198.08461, 202.45169,\n",
       "        208.86018, 208.6793 , 207.4648 , 202.7101 , 198.54974, 209.06691,\n",
       "        198.6531 , 216.74161, 200.46196, 208.47258, 198.18797, 202.81346,\n",
       "        205.99187, 211.16002, 215.57877, 199.76427, 218.47293, 205.68178,\n",
       "        205.66022, 205.81099, 205.86267, 202.08992, 205.37169, 196.56001,\n",
       "        195.06125, 197.95541, 210.35893, 213.66656, 198.98904, 202.11577,\n",
       "        211.31506, 205.26833, 210.66437, 195.81064, 205.16496, 209.06691,\n",
       "        204.15718, 196.09488, 201.39223, 197.95541, 211.5993 , 206.8963 ,\n",
       "        218.80887, 204.80319, 212.5554 , 211.39258, 196.40497, 201.08214,\n",
       "        219.48071, 212.7363 , 201.62479, 205.2425 , 214.9586 , 206.27612,\n",
       "        202.86514, 203.38196, 203.95023, 204.51895, 202.40001, 204.26054,\n",
       "        207.30975, 208.8085 , 203.95045, 209.40285, 206.99966, 213.40816,\n",
       "        208.5501 , 204.88072, 204.77736, 213.6924 , 205.91435, 208.21417,\n",
       "        194.05347, 216.63824, 216.0439 , 208.47258, 206.35364, 206.68958,\n",
       "        209.73877, 207.64568, 205.19081, 216.27647, 201.72815, 211.49594,\n",
       "        207.39207, 210.17807, 205.39754, 211.70267, 202.34833, 199.42833,\n",
       "        212.21948, 204.75151, 207.77489, 201.23718, 196.89595, 201.00461,\n",
       "        199.32497, 209.55789, 197.64532, 205.03577, 209.11859, 211.65099,\n",
       "        205.29417, 209.11859, 207.74904, 216.6124 , 209.48036, 209.14444,\n",
       "        208.47258, 197.59364, 198.55048, 209.8163 , 211.9094 , 207.594  ,\n",
       "        198.88568, 209.53204, 199.86763, 208.29169, 215.68213, 214.59683,\n",
       "        209.377  , 204.44144, 196.35329, 210.72072, 205.60426, 195.68143,\n",
       "        208.29169, 207.23222, 208.39505, 202.42586, 211.08249, 206.3278 ,\n",
       "        203.69205, 203.1494 , 206.40532, 211.9094 , 210.10054, 211.85771,\n",
       "        205.16496, 197.5678 , 204.27966, 207.82657, 203.35612, 200.00888,\n",
       "        204.65756, 214.08002, 204.3639 , 201.44391, 204.69983, 213.20143,\n",
       "        200.2294 , 204.20886, 197.90373, 205.5009 , 199.89346, 205.39754,\n",
       "        205.32   , 208.83435, 201.10797, 202.60674, 202.40001, 208.05913,\n",
       "        196.40497, 212.7363 , 214.46762, 213.07222], dtype=float32),\n",
       " 'sigma': Array(18.331284, dtype=float32),\n",
       " 'height': Array([182.50829, 187.08391, 182.28978, 208.4179 , 219.18452, 221.07317,\n",
       "        230.44122, 244.9325 , 215.20558, 198.1828 , 192.0441 , 203.11739,\n",
       "        204.3037 , 200.43152, 205.01445, 229.18605, 225.88367, 212.15096,\n",
       "        233.07925, 187.83733, 215.36067, 200.62038, 209.34996, 194.82164,\n",
       "        205.41759, 199.33315, 190.15091, 211.55203, 184.40074, 173.25504,\n",
       "        224.36935, 207.82756, 202.22743, 205.10774, 192.23549, 199.18877,\n",
       "        215.33331, 213.44844, 188.42517, 206.64403, 217.39526, 174.14981,\n",
       "        201.15034, 228.09818, 235.67975, 209.9302 , 223.60918, 191.2955 ,\n",
       "        188.35896, 204.32896, 200.43362, 204.44215, 198.11842, 207.36864,\n",
       "        219.93713, 195.81677, 189.73012, 186.09462, 210.7548 , 233.16594,\n",
       "        202.58043, 233.36038, 223.68362, 145.32011, 195.79504, 196.50943,\n",
       "        178.1377 , 176.76741, 184.9305 , 232.44202, 220.49983, 213.62292,\n",
       "        234.7704 , 187.70792, 191.29971, 193.0773 , 198.03352, 210.62593,\n",
       "        180.50598, 200.69499, 196.91093, 180.31358, 234.69246, 220.19534,\n",
       "        184.54593, 196.51236, 218.39914, 172.44754, 169.68073, 225.2623 ,\n",
       "        211.5755 , 212.1597 , 184.22832, 196.85406, 187.06126, 207.11151,\n",
       "        221.63226, 227.83487, 219.5154 , 189.52301, 179.17932, 193.26343,\n",
       "        218.44272, 186.16264, 209.46326, 232.57407, 192.38208, 188.37318,\n",
       "        217.77487, 259.63876, 213.53107, 200.63113, 228.49844, 186.13715,\n",
       "        196.56583, 217.52757, 212.21028, 196.87723, 218.36557, 222.89963,\n",
       "        190.06575, 183.78204, 216.0022 , 194.56287, 187.43187, 189.80998,\n",
       "        221.11093, 195.21747, 164.8575 , 205.75177, 232.32806, 221.4769 ,\n",
       "        257.93945, 209.91113, 231.32935, 212.98326, 173.04263, 159.39912,\n",
       "        204.16434, 230.35321, 218.79327, 177.12593, 240.25705, 194.59648,\n",
       "        218.617  , 203.67665, 226.92964, 199.02849, 225.43127, 201.44287,\n",
       "        211.9573 , 188.41803, 208.81252, 190.91365, 213.44252, 208.47388,\n",
       "        210.9378 , 237.3129 , 205.23112, 215.02264, 164.98904, 190.58383,\n",
       "        199.21025, 214.13728, 198.55203, 187.72382, 210.95132, 228.2118 ,\n",
       "        210.4664 , 211.70317, 222.25266, 215.1644 , 215.29568, 185.24876,\n",
       "        210.08963, 215.75266, 166.76518, 198.44994, 200.2621 , 200.68204,\n",
       "        206.57501, 205.72676, 172.77864, 247.72662, 176.80649, 229.19846,\n",
       "        200.04068, 201.67018, 185.99086, 216.72977, 158.45451, 234.61935,\n",
       "        212.16243, 226.36058, 214.73232, 211.12993, 179.27263, 200.30374,\n",
       "        206.74672, 199.36269, 226.92198, 171.84042, 221.17842, 188.89142,\n",
       "        233.18436, 192.2368 , 203.49252, 209.8763 , 192.93648, 220.58235,\n",
       "        219.33826, 200.26044, 203.61858, 191.60153, 209.1063 , 202.11977,\n",
       "        205.66087, 181.66927, 179.36009, 187.45699, 207.6234 , 189.42212,\n",
       "        229.0126 , 240.61696, 211.36528, 224.55624, 196.05421, 196.62071,\n",
       "        222.2091 , 227.57841, 213.61641, 225.51129, 219.11378, 199.08629,\n",
       "        226.79828, 216.38452, 193.03767, 229.4104 , 203.60191, 190.12201,\n",
       "        207.60434, 192.69489, 195.8931 , 201.65593, 237.80087, 239.94821,\n",
       "        241.10388, 199.37526, 218.54428, 238.89024, 210.69353, 205.35971,\n",
       "        195.88388, 181.53839, 220.84671, 213.2271 , 180.11882, 191.25418,\n",
       "        210.3258 , 204.29076, 234.6958 , 169.88434, 182.30164, 214.88727,\n",
       "        182.88518, 190.7012 , 199.25769, 228.61389, 194.15956, 193.07178,\n",
       "        196.13358, 210.37036, 177.31055, 216.92473, 216.70718, 216.8688 ,\n",
       "        196.6717 , 203.84195, 208.69022, 219.5744 , 210.05618, 220.6938 ,\n",
       "        219.36215, 198.4036 , 218.01164, 205.91199, 216.4751 , 224.41763,\n",
       "        238.79448, 180.57462, 230.58267, 178.0812 , 192.35974, 209.26192,\n",
       "        168.4035 , 216.53583, 222.87163, 221.13583, 217.62012, 180.70457,\n",
       "        171.2274 , 211.23085, 180.39307, 203.84244, 192.87299, 175.75302,\n",
       "        211.69897, 185.80016, 201.24286, 179.34116, 213.10736, 242.93007,\n",
       "        182.37369, 236.86584, 186.8878 , 195.1775 , 191.66241, 222.0962 ,\n",
       "        210.58463, 196.07751, 210.13309, 205.99306, 208.72476, 203.09293,\n",
       "        189.45798, 221.51703, 231.89694, 213.36774, 203.38539, 228.98027,\n",
       "        183.76765, 179.49985, 184.10239, 207.70557, 219.04907, 209.87369,\n",
       "        208.97604, 202.41382, 204.4969 , 208.25151, 211.20969, 172.8662 ,\n",
       "        213.25174, 230.70663, 195.61673, 193.27667], dtype=float32)}"
      ]
     },
     "execution_count": 75,
     "metadata": {},
     "output_type": "execute_result"
    }
   ],
   "source": [
    "jd_43.sample(seed=a_key())"
   ]
  },
  {
   "cell_type": "code",
   "execution_count": 74,
   "metadata": {},
   "outputs": [
    {
     "data": {
      "text/plain": [
       "Array(-824.8803, dtype=float32)"
      ]
     },
     "execution_count": 74,
     "metadata": {},
     "output_type": "execute_result"
    }
   ],
   "source": [
    "jd_43.log_prob(jd_43.sample(seed=a_key()))"
   ]
  },
  {
   "cell_type": "code",
   "execution_count": 14,
   "metadata": {},
   "outputs": [],
   "source": [
    "state_name = \"alpha\", \"beta\", \"sigma\""
   ]
  },
  {
   "cell_type": "code",
   "execution_count": 76,
   "metadata": {},
   "outputs": [
    {
     "data": {
      "text/plain": [
       "[Array(185.3092, dtype=float32),\n",
       " Array(0.71245664, dtype=float32),\n",
       " Array(41.973328, dtype=float32)]"
      ]
     },
     "execution_count": 76,
     "metadata": {},
     "output_type": "execute_result"
    }
   ],
   "source": [
    "init_state = [jd_43.sample(seed=a_key())[s] for s in state_name]\n",
    "init_state"
   ]
  },
  {
   "cell_type": "code",
   "execution_count": 77,
   "metadata": {},
   "outputs": [],
   "source": [
    "# \"mu\" is deterministic, but must be included\n",
    "def target_log_prob_43(alpha, beta, sigma):\n",
    "    sample = dict(zip(state_name, (alpha, beta, sigma)),\n",
    "                  mu = alpha + beta*(d2.weight.values - x_bar),\n",
    "                  height = d2.height.values)\n",
    "    return jd_43.log_prob(sample)"
   ]
  },
  {
   "cell_type": "code",
   "execution_count": 78,
   "metadata": {},
   "outputs": [
    {
     "data": {
      "text/plain": [
       "Array(-1714.5527, dtype=float32)"
      ]
     },
     "execution_count": 78,
     "metadata": {},
     "output_type": "execute_result"
    }
   ],
   "source": [
    "target_log_prob_43(init_state[0], init_state[1], init_state[2])"
   ]
  },
  {
   "cell_type": "code",
   "execution_count": 81,
   "metadata": {},
   "outputs": [
    {
     "data": {
      "text/plain": [
       "Array(-1675.2456, dtype=float32)"
      ]
     },
     "execution_count": 81,
     "metadata": {},
     "output_type": "execute_result"
    }
   ],
   "source": [
    "target_log_prob_43(jnp.array(180.), jnp.array(0.8), jnp.array(40.))"
   ]
  },
  {
   "cell_type": "code",
   "execution_count": 82,
   "metadata": {},
   "outputs": [],
   "source": [
    "num_burnin_steps = 400\n",
    "num_results = 500\n",
    "step_size = 0.2"
   ]
  },
  {
   "cell_type": "code",
   "execution_count": 83,
   "metadata": {},
   "outputs": [],
   "source": [
    "kernel_43 = tfp.mcmc.HamiltonianMonteCarlo(\n",
    "    target_log_prob_fn=target_log_prob_43,\n",
    "    step_size=step_size,\n",
    "    num_leapfrog_steps=2)\n",
    "\n",
    "kernel_43 = tfp.mcmc.SimpleStepSizeAdaptation(\n",
    "    inner_kernel=kernel_43, num_adaptation_steps=int(num_burnin_steps * 0.8))"
   ]
  },
  {
   "cell_type": "code",
   "execution_count": 85,
   "metadata": {},
   "outputs": [],
   "source": [
    "states_43 = tfp.mcmc.sample_chain(\n",
    "    num_results=num_results,\n",
    "    current_state=init_state,\n",
    "    kernel=kernel_43,\n",
    "    num_burnin_steps=num_burnin_steps,\n",
    "    trace_fn=None,\n",
    "    seed=a_key())"
   ]
  },
  {
   "cell_type": "code",
   "execution_count": 88,
   "metadata": {},
   "outputs": [],
   "source": [
    "states_43_dict = dict(zip(state_name, states_43))"
   ]
  },
  {
   "cell_type": "code",
   "execution_count": 89,
   "metadata": {},
   "outputs": [
    {
     "data": {
      "text/html": [
       "<div>\n",
       "<style scoped>\n",
       "    .dataframe tbody tr th:only-of-type {\n",
       "        vertical-align: middle;\n",
       "    }\n",
       "\n",
       "    .dataframe tbody tr th {\n",
       "        vertical-align: top;\n",
       "    }\n",
       "\n",
       "    .dataframe thead th {\n",
       "        text-align: right;\n",
       "    }\n",
       "</style>\n",
       "<table border=\"1\" class=\"dataframe\">\n",
       "  <thead>\n",
       "    <tr style=\"text-align: right;\">\n",
       "      <th></th>\n",
       "      <th>mean</th>\n",
       "      <th>sd</th>\n",
       "      <th>hdi_5.5%</th>\n",
       "      <th>hdi_94.5%</th>\n",
       "    </tr>\n",
       "  </thead>\n",
       "  <tbody>\n",
       "    <tr>\n",
       "      <th>alpha</th>\n",
       "      <td>154.64</td>\n",
       "      <td>0.29</td>\n",
       "      <td>154.21</td>\n",
       "      <td>155.13</td>\n",
       "    </tr>\n",
       "    <tr>\n",
       "      <th>beta</th>\n",
       "      <td>0.90</td>\n",
       "      <td>0.04</td>\n",
       "      <td>0.83</td>\n",
       "      <td>0.97</td>\n",
       "    </tr>\n",
       "    <tr>\n",
       "      <th>sigma</th>\n",
       "      <td>5.17</td>\n",
       "      <td>0.21</td>\n",
       "      <td>4.80</td>\n",
       "      <td>5.48</td>\n",
       "    </tr>\n",
       "  </tbody>\n",
       "</table>\n",
       "</div>"
      ],
      "text/plain": [
       "         mean    sd  hdi_5.5%  hdi_94.5%\n",
       "alpha  154.64  0.29    154.21     155.13\n",
       "beta     0.90  0.04      0.83       0.97\n",
       "sigma    5.17  0.21      4.80       5.48"
      ]
     },
     "execution_count": 89,
     "metadata": {},
     "output_type": "execute_result"
    }
   ],
   "source": [
    "# stats for all chains\n",
    "az.summary(states_43_dict, round_to=2, kind=\"stats\", hdi_prob=0.89)"
   ]
  },
  {
   "cell_type": "code",
   "execution_count": 91,
   "metadata": {},
   "outputs": [
    {
     "data": {
      "text/plain": [
       "array([[<Axes: title={'center': 'alpha'}>,\n",
       "        <Axes: title={'center': 'alpha'}>],\n",
       "       [<Axes: title={'center': 'beta'}>,\n",
       "        <Axes: title={'center': 'beta'}>],\n",
       "       [<Axes: title={'center': 'sigma'}>,\n",
       "        <Axes: title={'center': 'sigma'}>]], dtype=object)"
      ]
     },
     "execution_count": 91,
     "metadata": {},
     "output_type": "execute_result"
    },
    {
     "data": {
      "image/png": "[encoded data removed]",
      "text/plain": [
       "<Figure size 1200x600 with 6 Axes>"
      ]
     },
     "metadata": {},
     "output_type": "display_data"
    }
   ],
   "source": [
    "az.plot_trace(states_43_dict);"
   ]
  },
  {
   "cell_type": "markdown",
   "metadata": {},
   "source": [
    "#### JointDistributionCoroutineAutoBatched"
   ]
  },
  {
   "cell_type": "code",
   "execution_count": 12,
   "metadata": {},
   "outputs": [],
   "source": [
    "# the intermediate value 'mu' can be defined without tfd.Deterministic\n",
    "# when samples of 'mu' are needed, use tfd.Deterministic\n",
    "# don't forget to use 'name=' arg\n",
    "def m43():\n",
    "    alpha = yield tfd.Normal(loc=178.0, scale=20.0, name=\"alpha\")\n",
    "    beta = yield tfd.LogNormal(loc=0.0, scale=1.0, name=\"beta\")\n",
    "    sigma = yield tfd.Uniform(low=0.0, high=50.0, name=\"sigma\")\n",
    "    mu = alpha + beta*(d2.weight.values - x_bar)\n",
    "    # mu = lambda alpha, beta: tfd.Deterministic(alpha + beta*(d2.weight.values - x_bar))\n",
    "    height = yield tfd.Normal(loc=mu, scale=sigma, name=\"height\")\n",
    "\n",
    "jd_43 = tfd.JointDistributionCoroutineAutoBatched(m43)"
   ]
  },
  {
   "cell_type": "code",
   "execution_count": 107,
   "metadata": {},
   "outputs": [
    {
     "data": {
      "text/plain": [
       "(TensorShape([]),\n",
       " StructTuple(\n",
       "   alpha=TensorShape([]),\n",
       "   beta=TensorShape([]),\n",
       "   sigma=TensorShape([]),\n",
       "   height=TensorShape([346])\n",
       " ))"
      ]
     },
     "execution_count": 107,
     "metadata": {},
     "output_type": "execute_result"
    }
   ],
   "source": [
    "jd_43.batch_shape, jd_43.event_shape"
   ]
  },
  {
   "cell_type": "code",
   "execution_count": 109,
   "metadata": {},
   "outputs": [
    {
     "data": {
      "text/plain": [
       "Array(-1170.6125, dtype=float32)"
      ]
     },
     "execution_count": 109,
     "metadata": {},
     "output_type": "execute_result"
    }
   ],
   "source": [
    "jd_43.log_prob(jd_43.sample(seed=a_key()))"
   ]
  },
  {
   "cell_type": "code",
   "execution_count": 13,
   "metadata": {},
   "outputs": [],
   "source": [
    "state_name = \"alpha\", \"beta\", \"sigma\""
   ]
  },
  {
   "cell_type": "code",
   "execution_count": 14,
   "metadata": {},
   "outputs": [
    {
     "data": {
      "text/plain": [
       "StructTuple(\n",
       "  alpha=Array(172.12474, dtype=float32),\n",
       "  beta=Array(1.0588244, dtype=float32),\n",
       "  sigma=Array(35.67117, dtype=float32)\n",
       ")"
      ]
     },
     "execution_count": 14,
     "metadata": {},
     "output_type": "execute_result"
    }
   ],
   "source": [
    "init_state = jd_43.sample(seed=a_key())[:-1]\n",
    "init_state"
   ]
  },
  {
   "cell_type": "code",
   "execution_count": 15,
   "metadata": {},
   "outputs": [],
   "source": [
    "# setting up a namedtupe is combersome\n",
    "# getting inclined to Couroutine then Named as model becomes complex\n",
    "StateTuple = namedtuple(\"StateTuple\", state_name + (\"height\",))"
   ]
  },
  {
   "cell_type": "code",
   "execution_count": 16,
   "metadata": {},
   "outputs": [
    {
     "data": {
      "text/plain": [
       "StateTuple(alpha=10.0, beta=1.0, sigma=2.0, height=3.0)"
      ]
     },
     "execution_count": 16,
     "metadata": {},
     "output_type": "execute_result"
    }
   ],
   "source": [
    "StateTuple(**{\"alpha\": 10., \"beta\": 1., \"sigma\": 2., \"height\": 3.})"
   ]
  },
  {
   "cell_type": "code",
   "execution_count": 17,
   "metadata": {},
   "outputs": [],
   "source": [
    "def target_log_prob_43(alpha, beta, sigma):\n",
    "    state = {\"alpha\": alpha, \"beta\": beta, \"sigma\": sigma, \"height\": d2.height.values}\n",
    "    return jd_43.log_prob(StateTuple(**state))"
   ]
  },
  {
   "cell_type": "code",
   "execution_count": 148,
   "metadata": {},
   "outputs": [
    {
     "data": {
      "text/plain": [
       "Array(-1746.1475, dtype=float32)"
      ]
     },
     "execution_count": 148,
     "metadata": {},
     "output_type": "execute_result"
    }
   ],
   "source": [
    "target_log_prob_43(init_state[0], init_state[1], init_state[2])"
   ]
  },
  {
   "cell_type": "code",
   "execution_count": 18,
   "metadata": {},
   "outputs": [],
   "source": [
    "num_burnin_steps = 400\n",
    "num_results = 500\n",
    "step_size = 0.2"
   ]
  },
  {
   "cell_type": "code",
   "execution_count": 19,
   "metadata": {},
   "outputs": [],
   "source": [
    "kernel_43 = tfp.mcmc.HamiltonianMonteCarlo(\n",
    "    target_log_prob_fn=target_log_prob_43,\n",
    "    step_size=step_size,\n",
    "    num_leapfrog_steps=2)\n",
    "\n",
    "kernel_43 = tfp.mcmc.SimpleStepSizeAdaptation(\n",
    "    inner_kernel=kernel_43, num_adaptation_steps=int(num_burnin_steps * 0.8))"
   ]
  },
  {
   "cell_type": "code",
   "execution_count": 20,
   "metadata": {},
   "outputs": [],
   "source": [
    "# COMMENT:\n",
    "# zeros, ones for init_state as in official documents\n",
    "#   usually do not work, unless they are in 'nice' region\n",
    "# jd.sample() is better option \n",
    "states_43 = tfp.mcmc.sample_chain(\n",
    "    num_results=num_results,\n",
    "    current_state=init_state,\n",
    "    kernel=kernel_43,\n",
    "    num_burnin_steps=num_burnin_steps,\n",
    "    trace_fn=None,\n",
    "    seed=a_key())"
   ]
  },
  {
   "cell_type": "code",
   "execution_count": 21,
   "metadata": {},
   "outputs": [],
   "source": [
    "states_43_dict = states_43._asdict()"
   ]
  },
  {
   "cell_type": "code",
   "execution_count": 22,
   "metadata": {},
   "outputs": [
    {
     "data": {
      "text/html": [
       "<div>\n",
       "<style scoped>\n",
       "    .dataframe tbody tr th:only-of-type {\n",
       "        vertical-align: middle;\n",
       "    }\n",
       "\n",
       "    .dataframe tbody tr th {\n",
       "        vertical-align: top;\n",
       "    }\n",
       "\n",
       "    .dataframe thead th {\n",
       "        text-align: right;\n",
       "    }\n",
       "</style>\n",
       "<table border=\"1\" class=\"dataframe\">\n",
       "  <thead>\n",
       "    <tr style=\"text-align: right;\">\n",
       "      <th></th>\n",
       "      <th>mean</th>\n",
       "      <th>sd</th>\n",
       "      <th>hdi_5.5%</th>\n",
       "      <th>hdi_94.5%</th>\n",
       "    </tr>\n",
       "  </thead>\n",
       "  <tbody>\n",
       "    <tr>\n",
       "      <th>alpha</th>\n",
       "      <td>154.57</td>\n",
       "      <td>0.24</td>\n",
       "      <td>154.17</td>\n",
       "      <td>154.91</td>\n",
       "    </tr>\n",
       "    <tr>\n",
       "      <th>beta</th>\n",
       "      <td>0.90</td>\n",
       "      <td>0.05</td>\n",
       "      <td>0.82</td>\n",
       "      <td>0.97</td>\n",
       "    </tr>\n",
       "    <tr>\n",
       "      <th>sigma</th>\n",
       "      <td>5.16</td>\n",
       "      <td>0.19</td>\n",
       "      <td>4.84</td>\n",
       "      <td>5.44</td>\n",
       "    </tr>\n",
       "  </tbody>\n",
       "</table>\n",
       "</div>"
      ],
      "text/plain": [
       "         mean    sd  hdi_5.5%  hdi_94.5%\n",
       "alpha  154.57  0.24    154.17     154.91\n",
       "beta     0.90  0.05      0.82       0.97\n",
       "sigma    5.16  0.19      4.84       5.44"
      ]
     },
     "execution_count": 22,
     "metadata": {},
     "output_type": "execute_result"
    }
   ],
   "source": [
    "# stats for all chains\n",
    "az.summary(states_43_dict, round_to=2, kind=\"stats\", hdi_prob=0.89)"
   ]
  },
  {
   "cell_type": "code",
   "execution_count": 157,
   "metadata": {},
   "outputs": [
    {
     "data": {
      "image/png": "[encoded data removed]",
      "text/plain": [
       "<Figure size 1200x600 with 6 Axes>"
      ]
     },
     "metadata": {},
     "output_type": "display_data"
    }
   ],
   "source": [
    "az.plot_trace(states_43_dict);"
   ]
  },
  {
   "cell_type": "markdown",
   "metadata": {},
   "source": [
    "##### Code 4.43 \n",
    "\n",
    "Here the author talks about using log($\\beta$) instead of just $\\beta$ and says that the results will be same. \n",
    "\n",
    "But I did not find/understand the reason for it."
   ]
  },
  {
   "cell_type": "code",
   "execution_count": 190,
   "metadata": {},
   "outputs": [],
   "source": [
    "def m43b():\n",
    "    alpha = yield tfd.Normal(loc=178.0, scale=20.0, name=\"alpha\")\n",
    "    beta = yield tfd.LogNormal(loc=0.0, scale=1.0, name=\"beta\")\n",
    "    sigma = yield tfd.Uniform(low=0.0, high=50.0, name=\"sigma\")\n",
    "    exp_value = jnp.exp(beta)\n",
    "    mu = alpha + exp_value*(d2.weight.values - x_bar)\n",
    "    height = yield tfd.Normal(loc=mu, scale=sigma, name=\"height\")\n",
    "\n",
    "jd_43b = tfd.JointDistributionCoroutineAutoBatched(m43b)"
   ]
  },
  {
   "cell_type": "code",
   "execution_count": null,
   "metadata": {},
   "outputs": [],
   "source": [
    "state_name = \"alpha\", \"beta\", \"sigma\""
   ]
  },
  {
   "cell_type": "code",
   "execution_count": 191,
   "metadata": {},
   "outputs": [],
   "source": [
    "init_state = jd_43b.sample(seed=a_key())[:-1]"
   ]
  },
  {
   "cell_type": "code",
   "execution_count": 192,
   "metadata": {},
   "outputs": [
    {
     "data": {
      "text/plain": [
       "StructTuple(\n",
       "  alpha=Array(175.5064, dtype=float32),\n",
       "  beta=Array(0.6140351, dtype=float32),\n",
       "  sigma=Array(39.706802, dtype=float32)\n",
       ")"
      ]
     },
     "execution_count": 192,
     "metadata": {},
     "output_type": "execute_result"
    }
   ],
   "source": [
    "init_state"
   ]
  },
  {
   "cell_type": "code",
   "execution_count": 193,
   "metadata": {},
   "outputs": [],
   "source": [
    "StateTuple = namedtuple(\"StateTuple\", state_name + (\"height\",))"
   ]
  },
  {
   "cell_type": "code",
   "execution_count": 194,
   "metadata": {},
   "outputs": [],
   "source": [
    "def target_log_prob_43b(alpha, beta, sigma):\n",
    "    state = {\"alpha\": alpha, \"beta\": beta, \"sigma\": sigma, \"height\": d2.height.values}\n",
    "    return jd_43b.log_prob(StateTuple(**state))"
   ]
  },
  {
   "cell_type": "code",
   "execution_count": 195,
   "metadata": {},
   "outputs": [],
   "source": [
    "num_burnin_steps = 400\n",
    "num_results = 500\n",
    "step_size = 0.2"
   ]
  },
  {
   "cell_type": "code",
   "execution_count": 196,
   "metadata": {},
   "outputs": [],
   "source": [
    "kernel_43b = tfp.mcmc.HamiltonianMonteCarlo(\n",
    "    target_log_prob_fn=target_log_prob_43b,\n",
    "    step_size=step_size,\n",
    "    num_leapfrog_steps=2)\n",
    "\n",
    "kernel_43b = tfp.mcmc.SimpleStepSizeAdaptation(\n",
    "    inner_kernel=kernel_43b, num_adaptation_steps=int(num_burnin_steps * 0.8))"
   ]
  },
  {
   "cell_type": "code",
   "execution_count": 197,
   "metadata": {},
   "outputs": [],
   "source": [
    "states_43b = tfp.mcmc.sample_chain(\n",
    "    num_results=num_results,\n",
    "    current_state=init_state,\n",
    "    kernel=kernel_43b,\n",
    "    num_burnin_steps=num_burnin_steps,\n",
    "    trace_fn=None,\n",
    "    seed=a_key())"
   ]
  },
  {
   "cell_type": "code",
   "execution_count": 198,
   "metadata": {},
   "outputs": [
    {
     "data": {
      "text/plain": [
       "StructTuple(\n",
       "  alpha=Array([155.10489, 155.10489, 155.10489, 155.10489, 155.10489, 155.09988,\n",
       "           155.09988, 154.97894, 154.97894, 154.97894, 154.97894, 154.97894,\n",
       "           154.97894, 154.97894, 154.97894, 154.7985 , 154.7985 , 154.7985 ,\n",
       "           154.7985 , 154.7985 , 154.7985 , 154.7985 , 154.7985 , 154.85637,\n",
       "           154.85637, 154.88728, 154.88728, 154.88728, 154.88728, 154.85538,\n",
       "           154.85538, 154.85538, 154.85538, 154.85538, 154.85538, 154.85538,\n",
       "           154.85538, 154.85538, 155.04242, 155.04242, 155.04672, 155.04672,\n",
       "           155.02876, 155.02876, 155.02876, 154.9176 , 154.9176 , 154.90218,\n",
       "           154.90218, 154.90218, 154.9445 , 154.9445 , 154.9445 , 154.9445 ,\n",
       "           154.92627, 154.92627, 154.92627, 154.92627, 154.92627, 154.92627,\n",
       "           154.92627, 154.92627, 154.92627, 154.92627, 154.92627, 154.92627,\n",
       "           154.92627, 154.92627, 154.92627, 154.93916, 154.93916, 154.93916,\n",
       "           154.93916, 154.93916, 154.93916, 154.93916, 154.93916, 154.93916,\n",
       "           154.94109, 154.99818, 154.99818, 154.99818, 154.99818, 154.99818,\n",
       "           154.99818, 154.99818, 154.99818, 154.99818, 154.99818, 154.99818,\n",
       "           154.99818, 154.99818, 154.99818, 154.99818, 154.99818, 154.99818,\n",
       "           154.99818, 154.99818, 154.99818, 154.99818, 154.99818, 154.96826,\n",
       "           154.96826, 154.96826, 154.96826, 154.96826, 154.96826, 154.96826,\n",
       "           154.96826, 154.96826, 154.96826, 154.96826, 154.96826, 154.96826,\n",
       "           154.96826, 154.96826, 154.96826, 154.96826, 154.96826, 154.96826,\n",
       "           154.96826, 154.96826, 154.96826, 154.96826, 154.96826, 154.96826,\n",
       "           154.96826, 154.96826, 154.96826, 154.96826, 154.96826, 154.96826,\n",
       "           154.96826, 154.96826, 154.96826, 154.96826, 154.96826, 154.96826,\n",
       "           154.96826, 154.96826, 154.96826, 154.96826, 154.96826, 154.96826,\n",
       "           154.96826, 154.96826, 154.96826, 154.96826, 154.96826, 154.96826,\n",
       "           154.96826, 154.96826, 154.96826, 154.96826, 154.96826, 154.96826,\n",
       "           154.96826, 154.96826, 154.96826, 154.96826, 154.96826, 154.96826,\n",
       "           154.96826, 154.96826, 154.96826, 154.96826, 155.0565 , 155.0565 ,\n",
       "           155.0565 , 155.0565 , 155.0565 , 155.0565 , 154.84315, 154.84315,\n",
       "           154.84315, 154.84315, 154.84315, 154.84315, 154.84315, 154.84315,\n",
       "           154.84315, 154.84315, 154.84315, 154.84315, 154.84315, 154.69022,\n",
       "           154.69022, 154.69022, 154.69022, 154.69022, 154.69022, 154.69022,\n",
       "           154.69022, 154.69022, 154.69022, 154.69022, 154.69022, 154.69022,\n",
       "           154.69022, 154.69022, 154.80081, 154.80081, 154.80081, 154.84917,\n",
       "           154.84917, 154.84917, 154.84917, 154.84917, 154.84917, 154.84917,\n",
       "           154.84917, 154.84917, 154.80685, 154.80685, 154.80685, 154.80685,\n",
       "           154.80685, 154.80685, 154.80685, 154.80685, 154.80685, 154.80685,\n",
       "           154.80685, 154.80685, 154.80685, 154.80685, 154.80685, 154.80685,\n",
       "           154.80685, 154.80685, 154.80685, 154.80685, 154.80685, 154.80685,\n",
       "           154.76062, 154.76062, 154.76062, 154.76062, 154.76062, 154.76062,\n",
       "           154.7112 , 154.7112 , 154.7112 , 154.7112 , 154.7112 , 154.7112 ,\n",
       "           154.7112 , 154.7112 , 154.7112 , 154.7112 , 154.7112 , 154.7112 ,\n",
       "           154.7112 , 154.7112 , 154.7112 , 154.7112 , 154.7112 , 154.7112 ,\n",
       "           154.7112 , 154.7112 , 154.7112 , 154.7112 , 154.7112 , 154.7112 ,\n",
       "           154.7112 , 154.7112 , 154.54286, 154.54286, 154.54286, 154.54286,\n",
       "           154.54286, 154.54286, 154.54286, 154.54286, 154.54008, 154.54008,\n",
       "           154.49539, 154.49539, 154.49539, 154.49539, 154.49539, 154.49539,\n",
       "           154.60095, 154.632  , 154.632  , 154.632  , 154.61948, 154.61948,\n",
       "           154.61948, 154.61948, 154.61948, 154.61948, 154.61948, 154.61948,\n",
       "           154.61948, 154.61948, 154.61948, 154.61948, 154.61948, 154.61948,\n",
       "           154.61948, 154.61948, 154.61948, 154.61948, 154.61948, 154.61948,\n",
       "           154.5224 , 154.5224 , 154.43909, 154.43909, 154.43909, 154.43909,\n",
       "           154.47125, 154.47125, 154.47125, 154.47125, 154.47125, 154.47125,\n",
       "           154.47125, 154.47125, 154.47125, 154.47125, 154.47125, 154.47125,\n",
       "           154.47125, 154.47125, 154.47125, 154.5805 , 154.5805 , 154.5805 ,\n",
       "           154.5805 , 154.5805 , 154.5805 , 154.5805 , 154.5805 , 154.5805 ,\n",
       "           154.5805 , 154.56859, 154.56859, 154.56859, 154.56859, 154.56859,\n",
       "           154.56859, 154.56859, 154.56859, 154.58792, 154.54843, 154.54843,\n",
       "           154.5844 , 154.53946, 154.53946, 154.53946, 154.53946, 154.64743,\n",
       "           154.64743, 154.72404, 154.72404, 154.61966, 154.60744, 154.60744,\n",
       "           154.53871, 154.60254, 154.60254, 154.68816, 154.68816, 154.68425,\n",
       "           154.68425, 154.68425, 154.68425, 154.68425, 154.75642, 154.76219,\n",
       "           154.76219, 154.76219, 154.76219, 154.76219, 154.91821, 154.91821,\n",
       "           154.91821, 154.91821, 154.91821, 154.91821, 154.91821, 154.91821,\n",
       "           154.89053, 154.89053, 154.77544, 154.79993, 154.79993, 154.79993,\n",
       "           154.79993, 154.90637, 154.90637, 154.76506, 154.76506, 154.8299 ,\n",
       "           154.8299 , 154.8299 , 154.89081, 154.89081, 154.89081, 154.89081,\n",
       "           154.89081, 154.89081, 154.89081, 154.89081, 154.89081, 154.89081,\n",
       "           154.89081, 154.89081, 154.89081, 154.89081, 154.89081, 154.89081,\n",
       "           154.89081, 154.89081, 154.89081, 154.89081, 154.89081, 154.89081,\n",
       "           154.89081, 154.89081, 154.89081, 154.89081, 154.89081, 154.89081,\n",
       "           154.89081, 154.89081, 154.89081, 154.89081, 154.89081, 154.89081,\n",
       "           154.89081, 154.89081, 154.89081, 154.89081, 154.89081, 154.89081,\n",
       "           154.86977, 154.86977, 154.86977, 154.86977, 154.86977, 154.86977,\n",
       "           154.86977, 154.86977, 154.86977, 154.87233, 154.87233, 154.87233,\n",
       "           154.9285 , 154.9285 , 154.9285 , 154.9285 , 154.74362, 154.74362,\n",
       "           154.74883, 154.74883, 154.87587, 154.87587, 154.87587, 154.87587,\n",
       "           154.87587, 154.87587, 154.87587, 154.87587, 154.87587, 154.87587,\n",
       "           154.87587, 154.87587, 154.87587, 154.87587, 154.87587, 154.87587,\n",
       "           154.87587, 154.87587, 154.87587, 154.87587, 154.8398 , 154.8398 ,\n",
       "           154.71901, 154.71901, 154.71901, 154.68481, 154.68481, 154.65137,\n",
       "           154.65137, 154.6312 , 154.6312 , 154.6312 , 154.6312 , 154.6312 ,\n",
       "           154.6312 , 154.6312 , 154.6312 , 154.6312 , 154.6312 , 154.6312 ,\n",
       "           154.6312 , 154.6312 ], dtype=float32),\n",
       "  beta=Array([0.02982619, 0.02982619, 0.02982619, 0.02982619, 0.02982619,\n",
       "           0.02963988, 0.02963988, 0.05784466, 0.05784466, 0.05784466,\n",
       "           0.05784466, 0.05784466, 0.05784466, 0.05784466, 0.05784466,\n",
       "           0.03227408, 0.03227408, 0.03227408, 0.03227408, 0.03227408,\n",
       "           0.03227408, 0.03227408, 0.03227408, 0.02780995, 0.02780995,\n",
       "           0.02112957, 0.02112957, 0.02112957, 0.02112957, 0.06125259,\n",
       "           0.06125259, 0.06125259, 0.06125259, 0.06125259, 0.06125259,\n",
       "           0.06125259, 0.06125259, 0.06125259, 0.02839672, 0.02839672,\n",
       "           0.02928066, 0.02928066, 0.02153433, 0.02153433, 0.02153433,\n",
       "           0.01198236, 0.01198236, 0.02256684, 0.02256684, 0.02256684,\n",
       "           0.01522336, 0.01522336, 0.01522336, 0.01522336, 0.02218448,\n",
       "           0.02218448, 0.02218448, 0.02218448, 0.02218448, 0.02218448,\n",
       "           0.02218448, 0.02218448, 0.02218448, 0.02218448, 0.02218448,\n",
       "           0.02218448, 0.02218448, 0.02218448, 0.02218448, 0.01441955,\n",
       "           0.01441955, 0.01441955, 0.01441955, 0.01441955, 0.01441955,\n",
       "           0.01441955, 0.01441955, 0.01441955, 0.02030281, 0.04134024,\n",
       "           0.04134024, 0.04134024, 0.04134024, 0.04134024, 0.04134024,\n",
       "           0.04134024, 0.04134024, 0.04134024, 0.04134024, 0.04134024,\n",
       "           0.04134024, 0.04134024, 0.04134024, 0.04134024, 0.04134024,\n",
       "           0.04134024, 0.04134024, 0.04134024, 0.04134024, 0.04134024,\n",
       "           0.04134024, 0.04040869, 0.04040869, 0.04040869, 0.04040869,\n",
       "           0.04040869, 0.04040869, 0.04040869, 0.04040869, 0.04040869,\n",
       "           0.04040869, 0.04040869, 0.04040869, 0.04040869, 0.04040869,\n",
       "           0.04040869, 0.04040869, 0.04040869, 0.04040869, 0.04040869,\n",
       "           0.04040869, 0.04040869, 0.04040869, 0.04040869, 0.04040869,\n",
       "           0.04040869, 0.04040869, 0.04040869, 0.04040869, 0.04040869,\n",
       "           0.04040869, 0.04040869, 0.04040869, 0.04040869, 0.04040869,\n",
       "           0.04040869, 0.04040869, 0.04040869, 0.04040869, 0.04040869,\n",
       "           0.04040869, 0.04040869, 0.04040869, 0.04040869, 0.04040869,\n",
       "           0.04040869, 0.04040869, 0.04040869, 0.04040869, 0.04040869,\n",
       "           0.04040869, 0.04040869, 0.04040869, 0.04040869, 0.04040869,\n",
       "           0.04040869, 0.04040869, 0.04040869, 0.04040869, 0.04040869,\n",
       "           0.04040869, 0.04040869, 0.04040869, 0.04040869, 0.04040869,\n",
       "           0.04040869, 0.04911112, 0.04911112, 0.04911112, 0.04911112,\n",
       "           0.04911112, 0.04911112, 0.02888792, 0.02888792, 0.02888792,\n",
       "           0.02888792, 0.02888792, 0.02888792, 0.02888792, 0.02888792,\n",
       "           0.02888792, 0.02888792, 0.02888792, 0.02888792, 0.02888792,\n",
       "           0.0466752 , 0.0466752 , 0.0466752 , 0.0466752 , 0.0466752 ,\n",
       "           0.0466752 , 0.0466752 , 0.0466752 , 0.0466752 , 0.0466752 ,\n",
       "           0.0466752 , 0.0466752 , 0.0466752 , 0.0466752 , 0.0466752 ,\n",
       "           0.02737654, 0.02737654, 0.02737654, 0.01502651, 0.01502651,\n",
       "           0.01502651, 0.01502651, 0.01502651, 0.01502651, 0.01502651,\n",
       "           0.01502651, 0.01502651, 0.02504511, 0.02504511, 0.02504511,\n",
       "           0.02504511, 0.02504511, 0.02504511, 0.02504511, 0.02504511,\n",
       "           0.02504511, 0.02504511, 0.02504511, 0.02504511, 0.02504511,\n",
       "           0.02504511, 0.02504511, 0.02504511, 0.02504511, 0.02504511,\n",
       "           0.02504511, 0.02504511, 0.02504511, 0.02504511, 0.03883662,\n",
       "           0.03883662, 0.03883662, 0.03883662, 0.03883662, 0.03883662,\n",
       "           0.04667564, 0.04667564, 0.04667564, 0.04667564, 0.04667564,\n",
       "           0.04667564, 0.04667564, 0.04667564, 0.04667564, 0.04667564,\n",
       "           0.04667564, 0.04667564, 0.04667564, 0.04667564, 0.04667564,\n",
       "           0.04667564, 0.04667564, 0.04667564, 0.04667564, 0.04667564,\n",
       "           0.04667564, 0.04667564, 0.04667564, 0.04667564, 0.04667564,\n",
       "           0.04667564, 0.022812  , 0.022812  , 0.022812  , 0.022812  ,\n",
       "           0.022812  , 0.022812  , 0.022812  , 0.022812  , 0.01941044,\n",
       "           0.01941044, 0.01773695, 0.01773695, 0.01773695, 0.01773695,\n",
       "           0.01773695, 0.01773695, 0.01896216, 0.0348485 , 0.0348485 ,\n",
       "           0.0348485 , 0.0294483 , 0.0294483 , 0.0294483 , 0.0294483 ,\n",
       "           0.0294483 , 0.0294483 , 0.0294483 , 0.0294483 , 0.0294483 ,\n",
       "           0.0294483 , 0.0294483 , 0.0294483 , 0.0294483 , 0.0294483 ,\n",
       "           0.0294483 , 0.0294483 , 0.0294483 , 0.0294483 , 0.0294483 ,\n",
       "           0.0294483 , 0.02309185, 0.02309185, 0.0581045 , 0.0581045 ,\n",
       "           0.0581045 , 0.0581045 , 0.0448209 , 0.0448209 , 0.0448209 ,\n",
       "           0.0448209 , 0.0448209 , 0.0448209 , 0.0448209 , 0.0448209 ,\n",
       "           0.0448209 , 0.0448209 , 0.0448209 , 0.0448209 , 0.0448209 ,\n",
       "           0.0448209 , 0.0448209 , 0.07355282, 0.07355282, 0.07355282,\n",
       "           0.07355282, 0.07355282, 0.07355282, 0.07355282, 0.07355282,\n",
       "           0.07355282, 0.07355282, 0.06590367, 0.06590367, 0.06590367,\n",
       "           0.06590367, 0.06590367, 0.06590367, 0.06590367, 0.06590367,\n",
       "           0.02187338, 0.02905266, 0.02905266, 0.05446517, 0.0426929 ,\n",
       "           0.0426929 , 0.0426929 , 0.0426929 , 0.02745154, 0.02745154,\n",
       "           0.03986135, 0.03986135, 0.02803136, 0.03262526, 0.03262526,\n",
       "           0.02687379, 0.03590105, 0.03590105, 0.02358837, 0.02358837,\n",
       "           0.03269978, 0.03269978, 0.03269978, 0.03269978, 0.03269978,\n",
       "           0.02250459, 0.0408877 , 0.0408877 , 0.0408877 , 0.0408877 ,\n",
       "           0.0408877 , 0.04546464, 0.04546464, 0.04546464, 0.04546464,\n",
       "           0.04546464, 0.04546464, 0.04546464, 0.04546464, 0.03244095,\n",
       "           0.03244095, 0.02069944, 0.03506428, 0.03506428, 0.03506428,\n",
       "           0.03506428, 0.02057559, 0.02057559, 0.03289845, 0.03289845,\n",
       "           0.04423603, 0.04423603, 0.04423603, 0.06403665, 0.06403665,\n",
       "           0.06403665, 0.06403665, 0.06403665, 0.06403665, 0.06403665,\n",
       "           0.06403665, 0.06403665, 0.06403665, 0.06403665, 0.06403665,\n",
       "           0.06403665, 0.06403665, 0.06403665, 0.06403665, 0.06403665,\n",
       "           0.06403665, 0.06403665, 0.06403665, 0.06403665, 0.06403665,\n",
       "           0.06403665, 0.06403665, 0.06403665, 0.06403665, 0.06403665,\n",
       "           0.06403665, 0.06403665, 0.06403665, 0.06403665, 0.06403665,\n",
       "           0.06403665, 0.06403665, 0.06403665, 0.06403665, 0.06403665,\n",
       "           0.06403665, 0.06403665, 0.06403665, 0.0875374 , 0.0875374 ,\n",
       "           0.0875374 , 0.0875374 , 0.0875374 , 0.0875374 , 0.0875374 ,\n",
       "           0.0875374 , 0.0875374 , 0.0298339 , 0.0298339 , 0.0298339 ,\n",
       "           0.03387418, 0.03387418, 0.03387418, 0.03387418, 0.09493995,\n",
       "           0.09493995, 0.04853506, 0.04853506, 0.05407115, 0.05407115,\n",
       "           0.05407115, 0.05407115, 0.05407115, 0.05407115, 0.05407115,\n",
       "           0.05407115, 0.05407115, 0.05407115, 0.05407115, 0.05407115,\n",
       "           0.05407115, 0.05407115, 0.05407115, 0.05407115, 0.05407115,\n",
       "           0.05407115, 0.05407115, 0.05407115, 0.02216144, 0.02216144,\n",
       "           0.03286765, 0.03286765, 0.03286765, 0.0184856 , 0.0184856 ,\n",
       "           0.04382872, 0.04382872, 0.06002248, 0.06002248, 0.06002248,\n",
       "           0.06002248, 0.06002248, 0.06002248, 0.06002248, 0.06002248,\n",
       "           0.06002248, 0.06002248, 0.06002248, 0.06002248, 0.06002248],      dtype=float32),\n",
       "  sigma=Array([5.549618 , 5.549618 , 5.549618 , 5.549618 , 5.549618 , 5.5127087,\n",
       "           5.5127087, 5.443937 , 5.443937 , 5.443937 , 5.443937 , 5.443937 ,\n",
       "           5.443937 , 5.443937 , 5.443937 , 5.4043417, 5.4043417, 5.4043417,\n",
       "           5.4043417, 5.4043417, 5.4043417, 5.4043417, 5.4043417, 5.394472 ,\n",
       "           5.394472 , 5.4627213, 5.4627213, 5.4627213, 5.4627213, 5.3724294,\n",
       "           5.3724294, 5.3724294, 5.3724294, 5.3724294, 5.3724294, 5.3724294,\n",
       "           5.3724294, 5.3724294, 5.4099565, 5.4099565, 5.2589993, 5.2589993,\n",
       "           5.1552715, 5.1552715, 5.1552715, 5.0516   , 5.0516   , 5.1127324,\n",
       "           5.1127324, 5.1127324, 5.1286235, 5.1286235, 5.1286235, 5.1286235,\n",
       "           5.1438365, 5.1438365, 5.1438365, 5.1438365, 5.1438365, 5.1438365,\n",
       "           5.1438365, 5.1438365, 5.1438365, 5.1438365, 5.1438365, 5.1438365,\n",
       "           5.1438365, 5.1438365, 5.1438365, 5.040039 , 5.040039 , 5.040039 ,\n",
       "           5.040039 , 5.040039 , 5.040039 , 5.040039 , 5.040039 , 5.040039 ,\n",
       "           5.0232716, 4.9998474, 4.9998474, 4.9998474, 4.9998474, 4.9998474,\n",
       "           4.9998474, 4.9998474, 4.9998474, 4.9998474, 4.9998474, 4.9998474,\n",
       "           4.9998474, 4.9998474, 4.9998474, 4.9998474, 4.9998474, 4.9998474,\n",
       "           4.9998474, 4.9998474, 4.9998474, 4.9998474, 4.9998474, 4.963007 ,\n",
       "           4.963007 , 4.963007 , 4.963007 , 4.963007 , 4.963007 , 4.963007 ,\n",
       "           4.963007 , 4.963007 , 4.963007 , 4.963007 , 4.963007 , 4.963007 ,\n",
       "           4.963007 , 4.963007 , 4.963007 , 4.963007 , 4.963007 , 4.963007 ,\n",
       "           4.963007 , 4.963007 , 4.963007 , 4.963007 , 4.963007 , 4.963007 ,\n",
       "           4.963007 , 4.963007 , 4.963007 , 4.963007 , 4.963007 , 4.963007 ,\n",
       "           4.963007 , 4.963007 , 4.963007 , 4.963007 , 4.963007 , 4.963007 ,\n",
       "           4.963007 , 4.963007 , 4.963007 , 4.963007 , 4.963007 , 4.963007 ,\n",
       "           4.963007 , 4.963007 , 4.963007 , 4.963007 , 4.963007 , 4.963007 ,\n",
       "           4.963007 , 4.963007 , 4.963007 , 4.963007 , 4.963007 , 4.963007 ,\n",
       "           4.963007 , 4.963007 , 4.963007 , 4.963007 , 4.963007 , 4.963007 ,\n",
       "           4.963007 , 4.963007 , 4.963007 , 4.963007 , 4.958418 , 4.958418 ,\n",
       "           4.958418 , 4.958418 , 4.958418 , 4.958418 , 5.1187973, 5.1187973,\n",
       "           5.1187973, 5.1187973, 5.1187973, 5.1187973, 5.1187973, 5.1187973,\n",
       "           5.1187973, 5.1187973, 5.1187973, 5.1187973, 5.1187973, 5.1188745,\n",
       "           5.1188745, 5.1188745, 5.1188745, 5.1188745, 5.1188745, 5.1188745,\n",
       "           5.1188745, 5.1188745, 5.1188745, 5.1188745, 5.1188745, 5.1188745,\n",
       "           5.1188745, 5.1188745, 5.186497 , 5.186497 , 5.186497 , 5.23413  ,\n",
       "           5.23413  , 5.23413  , 5.23413  , 5.23413  , 5.23413  , 5.23413  ,\n",
       "           5.23413  , 5.23413  , 5.2470446, 5.2470446, 5.2470446, 5.2470446,\n",
       "           5.2470446, 5.2470446, 5.2470446, 5.2470446, 5.2470446, 5.2470446,\n",
       "           5.2470446, 5.2470446, 5.2470446, 5.2470446, 5.2470446, 5.2470446,\n",
       "           5.2470446, 5.2470446, 5.2470446, 5.2470446, 5.2470446, 5.2470446,\n",
       "           5.13235  , 5.13235  , 5.13235  , 5.13235  , 5.13235  , 5.13235  ,\n",
       "           5.1867285, 5.1867285, 5.1867285, 5.1867285, 5.1867285, 5.1867285,\n",
       "           5.1867285, 5.1867285, 5.1867285, 5.1867285, 5.1867285, 5.1867285,\n",
       "           5.1867285, 5.1867285, 5.1867285, 5.1867285, 5.1867285, 5.1867285,\n",
       "           5.1867285, 5.1867285, 5.1867285, 5.1867285, 5.1867285, 5.1867285,\n",
       "           5.1867285, 5.1867285, 5.302004 , 5.302004 , 5.302004 , 5.302004 ,\n",
       "           5.302004 , 5.302004 , 5.302004 , 5.302004 , 5.283596 , 5.283596 ,\n",
       "           5.3437023, 5.3437023, 5.3437023, 5.3437023, 5.3437023, 5.3437023,\n",
       "           5.2712197, 5.400936 , 5.400936 , 5.400936 , 5.3886466, 5.3886466,\n",
       "           5.3886466, 5.3886466, 5.3886466, 5.3886466, 5.3886466, 5.3886466,\n",
       "           5.3886466, 5.3886466, 5.3886466, 5.3886466, 5.3886466, 5.3886466,\n",
       "           5.3886466, 5.3886466, 5.3886466, 5.3886466, 5.3886466, 5.3886466,\n",
       "           5.4216356, 5.4216356, 5.5567894, 5.5567894, 5.5567894, 5.5567894,\n",
       "           5.7040977, 5.7040977, 5.7040977, 5.7040977, 5.7040977, 5.7040977,\n",
       "           5.7040977, 5.7040977, 5.7040977, 5.7040977, 5.7040977, 5.7040977,\n",
       "           5.7040977, 5.7040977, 5.7040977, 5.699623 , 5.699623 , 5.699623 ,\n",
       "           5.699623 , 5.699623 , 5.699623 , 5.699623 , 5.699623 , 5.699623 ,\n",
       "           5.699623 , 5.757947 , 5.757947 , 5.757947 , 5.757947 , 5.757947 ,\n",
       "           5.757947 , 5.757947 , 5.757947 , 5.6889873, 5.64466  , 5.64466  ,\n",
       "           5.6239467, 5.6072373, 5.6072373, 5.6072373, 5.6072373, 5.770073 ,\n",
       "           5.770073 , 5.8949904, 5.8949904, 5.798443 , 5.8378468, 5.8378468,\n",
       "           5.8149047, 5.653862 , 5.653862 , 5.709038 , 5.709038 , 5.7710156,\n",
       "           5.7710156, 5.7710156, 5.7710156, 5.7710156, 5.7886324, 5.689559 ,\n",
       "           5.689559 , 5.689559 , 5.689559 , 5.689559 , 5.663725 , 5.663725 ,\n",
       "           5.663725 , 5.663725 , 5.663725 , 5.663725 , 5.663725 , 5.663725 ,\n",
       "           5.6302805, 5.6302805, 5.6180687, 5.6439924, 5.6439924, 5.6439924,\n",
       "           5.6439924, 5.7684493, 5.7684493, 5.816962 , 5.816962 , 5.6699133,\n",
       "           5.6699133, 5.6699133, 5.7078686, 5.7078686, 5.7078686, 5.7078686,\n",
       "           5.7078686, 5.7078686, 5.7078686, 5.7078686, 5.7078686, 5.7078686,\n",
       "           5.7078686, 5.7078686, 5.7078686, 5.7078686, 5.7078686, 5.7078686,\n",
       "           5.7078686, 5.7078686, 5.7078686, 5.7078686, 5.7078686, 5.7078686,\n",
       "           5.7078686, 5.7078686, 5.7078686, 5.7078686, 5.7078686, 5.7078686,\n",
       "           5.7078686, 5.7078686, 5.7078686, 5.7078686, 5.7078686, 5.7078686,\n",
       "           5.7078686, 5.7078686, 5.7078686, 5.7078686, 5.7078686, 5.7078686,\n",
       "           5.6661243, 5.6661243, 5.6661243, 5.6661243, 5.6661243, 5.6661243,\n",
       "           5.6661243, 5.6661243, 5.6661243, 5.6270733, 5.6270733, 5.6270733,\n",
       "           5.7081494, 5.7081494, 5.7081494, 5.7081494, 5.78778  , 5.78778  ,\n",
       "           5.7884865, 5.7884865, 5.7971663, 5.7971663, 5.7971663, 5.7971663,\n",
       "           5.7971663, 5.7971663, 5.7971663, 5.7971663, 5.7971663, 5.7971663,\n",
       "           5.7971663, 5.7971663, 5.7971663, 5.7971663, 5.7971663, 5.7971663,\n",
       "           5.7971663, 5.7971663, 5.7971663, 5.7971663, 5.8051386, 5.8051386,\n",
       "           5.755088 , 5.755088 , 5.755088 , 5.6062126, 5.6062126, 5.7328076,\n",
       "           5.7328076, 5.7840815, 5.7840815, 5.7840815, 5.7840815, 5.7840815,\n",
       "           5.7840815, 5.7840815, 5.7840815, 5.7840815, 5.7840815, 5.7840815,\n",
       "           5.7840815, 5.7840815], dtype=float32)\n",
       ")"
      ]
     },
     "execution_count": 198,
     "metadata": {},
     "output_type": "execute_result"
    }
   ],
   "source": [
    "states_43b"
   ]
  },
  {
   "cell_type": "code",
   "execution_count": 199,
   "metadata": {},
   "outputs": [],
   "source": [
    "states_43b_dict = states_43b._asdict()"
   ]
  },
  {
   "cell_type": "code",
   "execution_count": 200,
   "metadata": {},
   "outputs": [
    {
     "data": {
      "text/html": [
       "<div>\n",
       "<style scoped>\n",
       "    .dataframe tbody tr th:only-of-type {\n",
       "        vertical-align: middle;\n",
       "    }\n",
       "\n",
       "    .dataframe tbody tr th {\n",
       "        vertical-align: top;\n",
       "    }\n",
       "\n",
       "    .dataframe thead th {\n",
       "        text-align: right;\n",
       "    }\n",
       "</style>\n",
       "<table border=\"1\" class=\"dataframe\">\n",
       "  <thead>\n",
       "    <tr style=\"text-align: right;\">\n",
       "      <th></th>\n",
       "      <th>mean</th>\n",
       "      <th>sd</th>\n",
       "      <th>hdi_5.5%</th>\n",
       "      <th>hdi_94.5%</th>\n",
       "    </tr>\n",
       "  </thead>\n",
       "  <tbody>\n",
       "    <tr>\n",
       "      <th>alpha</th>\n",
       "      <td>154.81</td>\n",
       "      <td>0.16</td>\n",
       "      <td>154.54</td>\n",
       "      <td>155.00</td>\n",
       "    </tr>\n",
       "    <tr>\n",
       "      <th>beta</th>\n",
       "      <td>0.04</td>\n",
       "      <td>0.02</td>\n",
       "      <td>0.02</td>\n",
       "      <td>0.06</td>\n",
       "    </tr>\n",
       "    <tr>\n",
       "      <th>sigma</th>\n",
       "      <td>5.38</td>\n",
       "      <td>0.30</td>\n",
       "      <td>4.96</td>\n",
       "      <td>5.77</td>\n",
       "    </tr>\n",
       "  </tbody>\n",
       "</table>\n",
       "</div>"
      ],
      "text/plain": [
       "         mean    sd  hdi_5.5%  hdi_94.5%\n",
       "alpha  154.81  0.16    154.54     155.00\n",
       "beta     0.04  0.02      0.02       0.06\n",
       "sigma    5.38  0.30      4.96       5.77"
      ]
     },
     "execution_count": 200,
     "metadata": {},
     "output_type": "execute_result"
    }
   ],
   "source": [
    "# stats for all chains\n",
    "az.summary(states_43b_dict, round_to=2, kind=\"stats\", hdi_prob=0.89)"
   ]
  },
  {
   "cell_type": "code",
   "execution_count": 203,
   "metadata": {},
   "outputs": [
    {
     "data": {
      "image/png": "[encoded data removed]",
      "text/plain": [
       "<Figure size 1200x600 with 6 Axes>"
      ]
     },
     "metadata": {},
     "output_type": "display_data"
    }
   ],
   "source": [
    "# bad posterior and trace\n",
    "# need more refinement or wrong\n",
    "az.plot_trace(states_43b_dict);"
   ]
  },
  {
   "cell_type": "markdown",
   "metadata": {},
   "source": [
    "##### Code 4.45"
   ]
  },
  {
   "cell_type": "code",
   "execution_count": 221,
   "metadata": {},
   "outputs": [
    {
     "data": {
      "image/png": "[encoded data removed]",
      "text/plain": [
       "<Figure size 1380x920 with 3 Axes>"
      ]
     },
     "metadata": {},
     "output_type": "display_data"
    }
   ],
   "source": [
    "az.plot_pair(states_43_dict);"
   ]
  },
  {
   "cell_type": "code",
   "execution_count": 222,
   "metadata": {},
   "outputs": [
    {
     "data": {
      "text/plain": [
       "Array([[ 0.096,  0.   , -0.005],\n",
       "       [ 0.   ,  0.002, -0.   ],\n",
       "       [-0.005, -0.   ,  0.037]], dtype=float32)"
      ]
     },
     "execution_count": 222,
     "metadata": {},
     "output_type": "execute_result"
    }
   ],
   "source": [
    "import pandas\n",
    "jnp.round(tfp.stats.covariance(pandas.DataFrame(states_43_dict).to_numpy()), 3)"
   ]
  },
  {
   "cell_type": "markdown",
   "metadata": {},
   "source": [
    "We see very little covariance among the parameters in this case. This lack of covariance among the parameters results from something called **Centering**"
   ]
  },
  {
   "cell_type": "markdown",
   "metadata": {},
   "source": [
    "#### 4.4.3.2 Plotting posterior inference against the data"
   ]
  },
  {
   "cell_type": "markdown",
   "metadata": {},
   "source": [
    "##### Code 4.46\n",
    "\n",
    "This snippet appears in the section titled **Plotting posterior inference against the data**. \n",
    "\n",
    "Author examplins that plotting is extremely useful in see when key observations or patterns in the plotted data are not close to the model's pediction.\n",
    "\n",
    "In this snippet, we start with the simple version of the task (i.e. plotting) by superimposing the posterior mean values over the height & weight data. Later more and more information to prediction plots will be added until the entire posterior distribution is covered.\n"
   ]
  },
  {
   "cell_type": "code",
   "execution_count": 250,
   "metadata": {},
   "outputs": [
    {
     "data": {
      "text/html": [
       "\n",
       "            <div>\n",
       "              <div class='xr-header'>\n",
       "                <div class=\"xr-obj-type\">arviz.InferenceData</div>\n",
       "              </div>\n",
       "              <ul class=\"xr-sections group-sections\">\n",
       "              \n",
       "            <li class = \"xr-section-item\">\n",
       "                  <input id=\"idata_posterior9e62076e-85bf-4184-911e-4962738d3cf5\" class=\"xr-section-summary-in\" type=\"checkbox\">\n",
       "                  <label for=\"idata_posterior9e62076e-85bf-4184-911e-4962738d3cf5\" class = \"xr-section-summary\">posterior</label>\n",
       "                  <div class=\"xr-section-inline-details\"></div>\n",
       "                  <div class=\"xr-section-details\">\n",
       "                      <ul id=\"xr-dataset-coord-list\" class=\"xr-var-list\">\n",
       "                          <div style=\"padding-left:2rem;\"><div><svg style=\"position: absolute; width: 0; height: 0; overflow: hidden\">\n",
       "<defs>\n",
       "<symbol id=\"icon-database\" viewBox=\"0 0 32 32\">\n",
       "<path d=\"M16 0c-8.837 0-16 2.239-16 5v4c0 2.761 7.163 5 16 5s16-2.239 16-5v-4c0-2.761-7.163-5-16-5z\"></path>\n",
       "<path d=\"M16 17c-8.837 0-16-2.239-16-5v6c0 2.761 7.163 5 16 5s16-2.239 16-5v-6c0 2.761-7.163 5-16 5z\"></path>\n",
       "<path d=\"M16 26c-8.837 0-16-2.239-16-5v6c0 2.761 7.163 5 16 5s16-2.239 16-5v-6c0 2.761-7.163 5-16 5z\"></path>\n",
       "</symbol>\n",
       "<symbol id=\"icon-file-text2\" viewBox=\"0 0 32 32\">\n",
       "<path d=\"M28.681 7.159c-0.694-0.947-1.662-2.053-2.724-3.116s-2.169-2.030-3.116-2.724c-1.612-1.182-2.393-1.319-2.841-1.319h-15.5c-1.378 0-2.5 1.121-2.5 2.5v27c0 1.378 1.122 2.5 2.5 2.5h23c1.378 0 2.5-1.122 2.5-2.5v-19.5c0-0.448-0.137-1.23-1.319-2.841zM24.543 5.457c0.959 0.959 1.712 1.825 2.268 2.543h-4.811v-4.811c0.718 0.556 1.584 1.309 2.543 2.268zM28 29.5c0 0.271-0.229 0.5-0.5 0.5h-23c-0.271 0-0.5-0.229-0.5-0.5v-27c0-0.271 0.229-0.5 0.5-0.5 0 0 15.499-0 15.5 0v7c0 0.552 0.448 1 1 1h7v19.5z\"></path>\n",
       "<path d=\"M23 26h-14c-0.552 0-1-0.448-1-1s0.448-1 1-1h14c0.552 0 1 0.448 1 1s-0.448 1-1 1z\"></path>\n",
       "<path d=\"M23 22h-14c-0.552 0-1-0.448-1-1s0.448-1 1-1h14c0.552 0 1 0.448 1 1s-0.448 1-1 1z\"></path>\n",
       "<path d=\"M23 18h-14c-0.552 0-1-0.448-1-1s0.448-1 1-1h14c0.552 0 1 0.448 1 1s-0.448 1-1 1z\"></path>\n",
       "</symbol>\n",
       "</defs>\n",
       "</svg>\n",
       "<style>/* CSS stylesheet for displaying xarray objects in jupyterlab.\n",
       " *\n",
       " */\n",
       "\n",
       ":root {\n",
       "  --xr-font-color0: var(--jp-content-font-color0, rgba(0, 0, 0, 1));\n",
       "  --xr-font-color2: var(--jp-content-font-color2, rgba(0, 0, 0, 0.54));\n",
       "  --xr-font-color3: var(--jp-content-font-color3, rgba(0, 0, 0, 0.38));\n",
       "  --xr-border-color: var(--jp-border-color2, #e0e0e0);\n",
       "  --xr-disabled-color: var(--jp-layout-color3, #bdbdbd);\n",
       "  --xr-background-color: var(--jp-layout-color0, white);\n",
       "  --xr-background-color-row-even: var(--jp-layout-color1, white);\n",
       "  --xr-background-color-row-odd: var(--jp-layout-color2, #eeeeee);\n",
       "}\n",
       "\n",
       "html[theme=dark],\n",
       "body[data-theme=dark],\n",
       "body.vscode-dark {\n",
       "  --xr-font-color0: rgba(255, 255, 255, 1);\n",
       "  --xr-font-color2: rgba(255, 255, 255, 0.54);\n",
       "  --xr-font-color3: rgba(255, 255, 255, 0.38);\n",
       "  --xr-border-color: #1F1F1F;\n",
       "  --xr-disabled-color: #515151;\n",
       "  --xr-background-color: #111111;\n",
       "  --xr-background-color-row-even: #111111;\n",
       "  --xr-background-color-row-odd: #313131;\n",
       "}\n",
       "\n",
       ".xr-wrap {\n",
       "  display: block !important;\n",
       "  min-width: 300px;\n",
       "  max-width: 700px;\n",
       "}\n",
       "\n",
       ".xr-text-repr-fallback {\n",
       "  /* fallback to plain text repr when CSS is not injected (untrusted notebook) */\n",
       "  display: none;\n",
       "}\n",
       "\n",
       ".xr-header {\n",
       "  padding-top: 6px;\n",
       "  padding-bottom: 6px;\n",
       "  margin-bottom: 4px;\n",
       "  border-bottom: solid 1px var(--xr-border-color);\n",
       "}\n",
       "\n",
       ".xr-header > div,\n",
       ".xr-header > ul {\n",
       "  display: inline;\n",
       "  margin-top: 0;\n",
       "  margin-bottom: 0;\n",
       "}\n",
       "\n",
       ".xr-obj-type,\n",
       ".xr-array-name {\n",
       "  margin-left: 2px;\n",
       "  margin-right: 10px;\n",
       "}\n",
       "\n",
       ".xr-obj-type {\n",
       "  color: var(--xr-font-color2);\n",
       "}\n",
       "\n",
       ".xr-sections {\n",
       "  padding-left: 0 !important;\n",
       "  display: grid;\n",
       "  grid-template-columns: 150px auto auto 1fr 20px 20px;\n",
       "}\n",
       "\n",
       ".xr-section-item {\n",
       "  display: contents;\n",
       "}\n",
       "\n",
       ".xr-section-item input {\n",
       "  display: none;\n",
       "}\n",
       "\n",
       ".xr-section-item input + label {\n",
       "  color: var(--xr-disabled-color);\n",
       "}\n",
       "\n",
       ".xr-section-item input:enabled + label {\n",
       "  cursor: pointer;\n",
       "  color: var(--xr-font-color2);\n",
       "}\n",
       "\n",
       ".xr-section-item input:enabled + label:hover {\n",
       "  color: var(--xr-font-color0);\n",
       "}\n",
       "\n",
       ".xr-section-summary {\n",
       "  grid-column: 1;\n",
       "  color: var(--xr-font-color2);\n",
       "  font-weight: 500;\n",
       "}\n",
       "\n",
       ".xr-section-summary > span {\n",
       "  display: inline-block;\n",
       "  padding-left: 0.5em;\n",
       "}\n",
       "\n",
       ".xr-section-summary-in:disabled + label {\n",
       "  color: var(--xr-font-color2);\n",
       "}\n",
       "\n",
       ".xr-section-summary-in + label:before {\n",
       "  display: inline-block;\n",
       "  content: '►';\n",
       "  font-size: 11px;\n",
       "  width: 15px;\n",
       "  text-align: center;\n",
       "}\n",
       "\n",
       ".xr-section-summary-in:disabled + label:before {\n",
       "  color: var(--xr-disabled-color);\n",
       "}\n",
       "\n",
       ".xr-section-summary-in:checked + label:before {\n",
       "  content: '▼';\n",
       "}\n",
       "\n",
       ".xr-section-summary-in:checked + label > span {\n",
       "  display: none;\n",
       "}\n",
       "\n",
       ".xr-section-summary,\n",
       ".xr-section-inline-details {\n",
       "  padding-top: 4px;\n",
       "  padding-bottom: 4px;\n",
       "}\n",
       "\n",
       ".xr-section-inline-details {\n",
       "  grid-column: 2 / -1;\n",
       "}\n",
       "\n",
       ".xr-section-details {\n",
       "  display: none;\n",
       "  grid-column: 1 / -1;\n",
       "  margin-bottom: 5px;\n",
       "}\n",
       "\n",
       ".xr-section-summary-in:checked ~ .xr-section-details {\n",
       "  display: contents;\n",
       "}\n",
       "\n",
       ".xr-array-wrap {\n",
       "  grid-column: 1 / -1;\n",
       "  display: grid;\n",
       "  grid-template-columns: 20px auto;\n",
       "}\n",
       "\n",
       ".xr-array-wrap > label {\n",
       "  grid-column: 1;\n",
       "  vertical-align: top;\n",
       "}\n",
       "\n",
       ".xr-preview {\n",
       "  color: var(--xr-font-color3);\n",
       "}\n",
       "\n",
       ".xr-array-preview,\n",
       ".xr-array-data {\n",
       "  padding: 0 5px !important;\n",
       "  grid-column: 2;\n",
       "}\n",
       "\n",
       ".xr-array-data,\n",
       ".xr-array-in:checked ~ .xr-array-preview {\n",
       "  display: none;\n",
       "}\n",
       "\n",
       ".xr-array-in:checked ~ .xr-array-data,\n",
       ".xr-array-preview {\n",
       "  display: inline-block;\n",
       "}\n",
       "\n",
       ".xr-dim-list {\n",
       "  display: inline-block !important;\n",
       "  list-style: none;\n",
       "  padding: 0 !important;\n",
       "  margin: 0;\n",
       "}\n",
       "\n",
       ".xr-dim-list li {\n",
       "  display: inline-block;\n",
       "  padding: 0;\n",
       "  margin: 0;\n",
       "}\n",
       "\n",
       ".xr-dim-list:before {\n",
       "  content: '(';\n",
       "}\n",
       "\n",
       ".xr-dim-list:after {\n",
       "  content: ')';\n",
       "}\n",
       "\n",
       ".xr-dim-list li:not(:last-child):after {\n",
       "  content: ',';\n",
       "  padding-right: 5px;\n",
       "}\n",
       "\n",
       ".xr-has-index {\n",
       "  font-weight: bold;\n",
       "}\n",
       "\n",
       ".xr-var-list,\n",
       ".xr-var-item {\n",
       "  display: contents;\n",
       "}\n",
       "\n",
       ".xr-var-item > div,\n",
       ".xr-var-item label,\n",
       ".xr-var-item > .xr-var-name span {\n",
       "  background-color: var(--xr-background-color-row-even);\n",
       "  margin-bottom: 0;\n",
       "}\n",
       "\n",
       ".xr-var-item > .xr-var-name:hover span {\n",
       "  padding-right: 5px;\n",
       "}\n",
       "\n",
       ".xr-var-list > li:nth-child(odd) > div,\n",
       ".xr-var-list > li:nth-child(odd) > label,\n",
       ".xr-var-list > li:nth-child(odd) > .xr-var-name span {\n",
       "  background-color: var(--xr-background-color-row-odd);\n",
       "}\n",
       "\n",
       ".xr-var-name {\n",
       "  grid-column: 1;\n",
       "}\n",
       "\n",
       ".xr-var-dims {\n",
       "  grid-column: 2;\n",
       "}\n",
       "\n",
       ".xr-var-dtype {\n",
       "  grid-column: 3;\n",
       "  text-align: right;\n",
       "  color: var(--xr-font-color2);\n",
       "}\n",
       "\n",
       ".xr-var-preview {\n",
       "  grid-column: 4;\n",
       "}\n",
       "\n",
       ".xr-index-preview {\n",
       "  grid-column: 2 / 5;\n",
       "  color: var(--xr-font-color2);\n",
       "}\n",
       "\n",
       ".xr-var-name,\n",
       ".xr-var-dims,\n",
       ".xr-var-dtype,\n",
       ".xr-preview,\n",
       ".xr-attrs dt {\n",
       "  white-space: nowrap;\n",
       "  overflow: hidden;\n",
       "  text-overflow: ellipsis;\n",
       "  padding-right: 10px;\n",
       "}\n",
       "\n",
       ".xr-var-name:hover,\n",
       ".xr-var-dims:hover,\n",
       ".xr-var-dtype:hover,\n",
       ".xr-attrs dt:hover {\n",
       "  overflow: visible;\n",
       "  width: auto;\n",
       "  z-index: 1;\n",
       "}\n",
       "\n",
       ".xr-var-attrs,\n",
       ".xr-var-data,\n",
       ".xr-index-data {\n",
       "  display: none;\n",
       "  background-color: var(--xr-background-color) !important;\n",
       "  padding-bottom: 5px !important;\n",
       "}\n",
       "\n",
       ".xr-var-attrs-in:checked ~ .xr-var-attrs,\n",
       ".xr-var-data-in:checked ~ .xr-var-data,\n",
       ".xr-index-data-in:checked ~ .xr-index-data {\n",
       "  display: block;\n",
       "}\n",
       "\n",
       ".xr-var-data > table {\n",
       "  float: right;\n",
       "}\n",
       "\n",
       ".xr-var-name span,\n",
       ".xr-var-data,\n",
       ".xr-index-name div,\n",
       ".xr-index-data,\n",
       ".xr-attrs {\n",
       "  padding-left: 25px !important;\n",
       "}\n",
       "\n",
       ".xr-attrs,\n",
       ".xr-var-attrs,\n",
       ".xr-var-data,\n",
       ".xr-index-data {\n",
       "  grid-column: 1 / -1;\n",
       "}\n",
       "\n",
       "dl.xr-attrs {\n",
       "  padding: 0;\n",
       "  margin: 0;\n",
       "  display: grid;\n",
       "  grid-template-columns: 125px auto;\n",
       "}\n",
       "\n",
       ".xr-attrs dt,\n",
       ".xr-attrs dd {\n",
       "  padding: 0;\n",
       "  margin: 0;\n",
       "  float: left;\n",
       "  padding-right: 10px;\n",
       "  width: auto;\n",
       "}\n",
       "\n",
       ".xr-attrs dt {\n",
       "  font-weight: normal;\n",
       "  grid-column: 1;\n",
       "}\n",
       "\n",
       ".xr-attrs dt:hover span {\n",
       "  display: inline-block;\n",
       "  background: var(--xr-background-color);\n",
       "  padding-right: 10px;\n",
       "}\n",
       "\n",
       ".xr-attrs dd {\n",
       "  grid-column: 2;\n",
       "  white-space: pre-wrap;\n",
       "  word-break: break-all;\n",
       "}\n",
       "\n",
       ".xr-icon-database,\n",
       ".xr-icon-file-text2,\n",
       ".xr-no-icon {\n",
       "  display: inline-block;\n",
       "  vertical-align: middle;\n",
       "  width: 1em;\n",
       "  height: 1.5em !important;\n",
       "  stroke-width: 0;\n",
       "  stroke: currentColor;\n",
       "  fill: currentColor;\n",
       "}\n",
       "</style><pre class='xr-text-repr-fallback'>&lt;xarray.Dataset&gt; Size: 10kB\n",
       "Dimensions:  (chain: 1, draw: 500)\n",
       "Coordinates:\n",
       "  * chain    (chain) int64 8B 0\n",
       "  * draw     (draw) int64 4kB 0 1 2 3 4 5 6 7 ... 493 494 495 496 497 498 499\n",
       "Data variables:\n",
       "    alpha    (chain, draw) float32 2kB 154.8 154.4 154.2 ... 154.7 154.7 154.4\n",
       "    beta     (chain, draw) float32 2kB 0.8884 0.8795 0.8769 ... 0.9305 0.8752\n",
       "    sigma    (chain, draw) float32 2kB 5.489 5.434 5.248 ... 5.396 5.396 5.681\n",
       "Attributes:\n",
       "    created_at:     2024-06-14T17:55:28.572625+00:00\n",
       "    arviz_version:  0.18.0</pre><div class='xr-wrap' style='display:none'><div class='xr-header'><div class='xr-obj-type'>xarray.Dataset</div></div><ul class='xr-sections'><li class='xr-section-item'><input id='section-8f91dc98-86c9-4791-aa20-5117773e581e' class='xr-section-summary-in' type='checkbox' disabled ><label for='section-8f91dc98-86c9-4791-aa20-5117773e581e' class='xr-section-summary'  title='Expand/collapse section'>Dimensions:</label><div class='xr-section-inline-details'><ul class='xr-dim-list'><li><span class='xr-has-index'>chain</span>: 1</li><li><span class='xr-has-index'>draw</span>: 500</li></ul></div><div class='xr-section-details'></div></li><li class='xr-section-item'><input id='section-9b2932ff-6363-4a58-918e-852054638667' class='xr-section-summary-in' type='checkbox'  checked><label for='section-9b2932ff-6363-4a58-918e-852054638667' class='xr-section-summary' >Coordinates: <span>(2)</span></label><div class='xr-section-inline-details'></div><div class='xr-section-details'><ul class='xr-var-list'><li class='xr-var-item'><div class='xr-var-name'><span class='xr-has-index'>chain</span></div><div class='xr-var-dims'>(chain)</div><div class='xr-var-dtype'>int64</div><div class='xr-var-preview xr-preview'>0</div><input id='attrs-f929bf84-bc5a-4f82-a78a-4925aef58e8c' class='xr-var-attrs-in' type='checkbox' disabled><label for='attrs-f929bf84-bc5a-4f82-a78a-4925aef58e8c' title='Show/Hide attributes'><svg class='icon xr-icon-file-text2'><use xlink:href='#icon-file-text2'></use></svg></label><input id='data-87fc96fb-16a9-49a7-baee-bb8e01ec4703' class='xr-var-data-in' type='checkbox'><label for='data-87fc96fb-16a9-49a7-baee-bb8e01ec4703' title='Show/Hide data repr'><svg class='icon xr-icon-database'><use xlink:href='#icon-database'></use></svg></label><div class='xr-var-attrs'><dl class='xr-attrs'></dl></div><div class='xr-var-data'><pre>array([0])</pre></div></li><li class='xr-var-item'><div class='xr-var-name'><span class='xr-has-index'>draw</span></div><div class='xr-var-dims'>(draw)</div><div class='xr-var-dtype'>int64</div><div class='xr-var-preview xr-preview'>0 1 2 3 4 5 ... 495 496 497 498 499</div><input id='attrs-c6e34a08-bac4-4881-aaa7-d31ada2d952a' class='xr-var-attrs-in' type='checkbox' disabled><label for='attrs-c6e34a08-bac4-4881-aaa7-d31ada2d952a' title='Show/Hide attributes'><svg class='icon xr-icon-file-text2'><use xlink:href='#icon-file-text2'></use></svg></label><input id='data-e1cd6630-6d1c-485a-8585-8d5972452099' class='xr-var-data-in' type='checkbox'><label for='data-e1cd6630-6d1c-485a-8585-8d5972452099' title='Show/Hide data repr'><svg class='icon xr-icon-database'><use xlink:href='#icon-database'></use></svg></label><div class='xr-var-attrs'><dl class='xr-attrs'></dl></div><div class='xr-var-data'><pre>array([  0,   1,   2, ..., 497, 498, 499])</pre></div></li></ul></div></li><li class='xr-section-item'><input id='section-57998925-3286-4c47-a44e-87751868733c' class='xr-section-summary-in' type='checkbox'  checked><label for='section-57998925-3286-4c47-a44e-87751868733c' class='xr-section-summary' >Data variables: <span>(3)</span></label><div class='xr-section-inline-details'></div><div class='xr-section-details'><ul class='xr-var-list'><li class='xr-var-item'><div class='xr-var-name'><span>alpha</span></div><div class='xr-var-dims'>(chain, draw)</div><div class='xr-var-dtype'>float32</div><div class='xr-var-preview xr-preview'>154.8 154.4 154.2 ... 154.7 154.4</div><input id='attrs-05655b1c-59f9-4f8a-869f-7f2a0e9abec7' class='xr-var-attrs-in' type='checkbox' disabled><label for='attrs-05655b1c-59f9-4f8a-869f-7f2a0e9abec7' title='Show/Hide attributes'><svg class='icon xr-icon-file-text2'><use xlink:href='#icon-file-text2'></use></svg></label><input id='data-5f5eee66-a56b-4eaf-9d5a-ab5932e228f4' class='xr-var-data-in' type='checkbox'><label for='data-5f5eee66-a56b-4eaf-9d5a-ab5932e228f4' title='Show/Hide data repr'><svg class='icon xr-icon-database'><use xlink:href='#icon-database'></use></svg></label><div class='xr-var-attrs'><dl class='xr-attrs'></dl></div><div class='xr-var-data'><pre>array([[154.78323, 154.44318, 154.24622, 154.24622, 154.24622, 154.38783,\n",
       "        154.38783, 154.28853, 154.08472, 154.08472, 154.12096, 154.06313,\n",
       "        154.02658, 154.02184, 154.06036, 154.04402, 154.05283, 154.05283,\n",
       "        154.31284, 154.31284, 154.31284, 154.41263, 154.41263, 154.43864,\n",
       "        154.43864, 154.43864, 154.71935, 154.68544, 154.51869, 154.56718,\n",
       "        154.5972 , 154.7252 , 154.7252 , 154.49869, 154.49869, 154.49869,\n",
       "        154.72675, 154.72675, 154.99698, 154.80891, 154.99481, 154.97101,\n",
       "        154.97101, 154.8759 , 154.79434, 154.85812, 154.90588, 154.70706,\n",
       "        154.60353, 154.60353, 154.60353, 154.60353, 154.60353, 154.60353,\n",
       "        154.60353, 154.74716, 154.58894, 154.49359, 154.53473, 154.29482,\n",
       "        154.00807, 154.00807, 154.00586, 154.19676, 154.19676, 154.17892,\n",
       "        154.17892, 154.17892, 154.01616, 154.11035, 154.11035, 154.11035,\n",
       "        154.25856, 154.18916, 154.18916, 154.18916, 154.3277 , 154.286  ,\n",
       "        154.38565, 154.21289, 154.2267 , 154.2267 , 154.2267 , 154.10587,\n",
       "        154.40315, 154.40315, 154.55132, 154.41917, 154.41917, 154.41917,\n",
       "        154.41917, 154.79167, 154.84865, 154.84865, 154.44238, 154.44238,\n",
       "        154.41202, 154.41202, 154.49449, 154.49449, 154.49449, 154.60931,\n",
       "        154.60931, 154.3846 , 154.3846 , 154.54771, 154.75172, 154.9931 ,\n",
       "        154.9931 , 154.78857, 154.78857, 154.83142, 154.83142, 154.83142,\n",
       "        154.83525, 154.83913, 154.78746, 154.96115, 154.96115, 154.96115,\n",
       "...\n",
       "        154.57341, 154.57341, 154.57341, 154.8568 , 154.8568 , 154.8568 ,\n",
       "        154.81087, 154.81087, 154.81087, 154.81087, 154.81087, 154.79704,\n",
       "        154.53413, 154.53413, 154.62283, 154.83896, 154.47206, 154.47206,\n",
       "        154.47206, 154.56906, 154.41342, 154.70987, 154.70987, 154.8266 ,\n",
       "        154.7991 , 154.68341, 154.68341, 154.68341, 154.90366, 154.94017,\n",
       "        154.84424, 154.84424, 154.84424, 154.50679, 154.66263, 154.54619,\n",
       "        154.72864, 154.86044, 154.95607, 154.95607, 154.95607, 155.38454,\n",
       "        155.66124, 155.66124, 155.66124, 155.37274, 155.37274, 155.37274,\n",
       "        155.54393, 155.3394 , 155.27771, 155.36732, 155.3156 , 155.37794,\n",
       "        155.37794, 155.34499, 155.34499, 155.34499, 155.34499, 154.96898,\n",
       "        154.91997, 154.91997, 154.91997, 154.91997, 154.95195, 154.99637,\n",
       "        154.98723, 154.98723, 154.98723, 154.84464, 154.75392, 154.8655 ,\n",
       "        154.8655 , 154.80222, 154.64499, 154.64499, 154.64499, 154.64499,\n",
       "        154.64499, 154.78555, 154.60474, 154.60474, 154.60474, 154.60474,\n",
       "        154.35895, 154.35895, 154.35895, 154.35895, 154.09505, 154.09505,\n",
       "        154.09505, 154.09505, 153.9056 , 153.9056 , 153.90057, 153.90598,\n",
       "        153.90598, 154.06148, 154.06148, 154.10416, 154.04865, 154.23209,\n",
       "        154.14023, 154.25334, 154.59962, 154.59962, 154.7128 , 154.59624,\n",
       "        154.63576, 154.45213, 154.40797, 154.48483, 154.58414, 154.6828 ,\n",
       "        154.6828 , 154.36967]], dtype=float32)</pre></div></li><li class='xr-var-item'><div class='xr-var-name'><span>beta</span></div><div class='xr-var-dims'>(chain, draw)</div><div class='xr-var-dtype'>float32</div><div class='xr-var-preview xr-preview'>0.8884 0.8795 ... 0.9305 0.8752</div><input id='attrs-79150ff2-dc26-4b8c-adb6-707eeba71659' class='xr-var-attrs-in' type='checkbox' disabled><label for='attrs-79150ff2-dc26-4b8c-adb6-707eeba71659' title='Show/Hide attributes'><svg class='icon xr-icon-file-text2'><use xlink:href='#icon-file-text2'></use></svg></label><input id='data-4e3e7514-291d-4be1-b9a0-e0bf9a3ffe59' class='xr-var-data-in' type='checkbox'><label for='data-4e3e7514-291d-4be1-b9a0-e0bf9a3ffe59' title='Show/Hide data repr'><svg class='icon xr-icon-database'><use xlink:href='#icon-database'></use></svg></label><div class='xr-var-attrs'><dl class='xr-attrs'></dl></div><div class='xr-var-data'><pre>array([[0.88835245, 0.87951946, 0.87691385, 0.87691385, 0.87691385,\n",
       "        1.0320106 , 1.0320106 , 0.97838265, 0.8682179 , 0.8682179 ,\n",
       "        0.8822836 , 0.9770582 , 0.8389799 , 0.97880274, 0.8844427 ,\n",
       "        0.9592255 , 0.95025176, 0.95025176, 0.93549   , 0.93549   ,\n",
       "        0.93549   , 0.930065  , 0.930065  , 0.90648097, 0.90648097,\n",
       "        0.90648097, 0.9480491 , 0.9925823 , 0.8631931 , 0.82522833,\n",
       "        0.8636692 , 0.86515707, 0.86515707, 0.8974556 , 0.8974556 ,\n",
       "        0.8974556 , 0.8979371 , 0.8979371 , 0.8874408 , 0.85915256,\n",
       "        0.91227686, 0.9179241 , 0.9179241 , 0.9553023 , 0.99101657,\n",
       "        0.9845071 , 1.013456  , 0.8667169 , 0.87136185, 0.87136185,\n",
       "        0.87136185, 0.87136185, 0.87136185, 0.87136185, 0.87136185,\n",
       "        0.901704  , 0.8911858 , 0.93012756, 0.95950913, 0.87318754,\n",
       "        0.8696916 , 0.8696916 , 0.8929399 , 0.90514296, 0.90514296,\n",
       "        0.89885056, 0.89885056, 0.89885056, 0.9592142 , 0.90162134,\n",
       "        0.90162134, 0.90162134, 0.89985716, 0.91721046, 0.91721046,\n",
       "        0.91721046, 0.88203114, 0.9338581 , 0.89080864, 0.9290657 ,\n",
       "        0.91815454, 0.91815454, 0.91815454, 0.85683775, 0.9363118 ,\n",
       "        0.9363118 , 0.9006432 , 0.8680003 , 0.8680003 , 0.8680003 ,\n",
       "        0.8680003 , 0.8556569 , 0.87700915, 0.87700915, 0.7902995 ,\n",
       "        0.7902995 , 0.82994485, 0.82994485, 0.89804846, 0.89804846,\n",
       "...\n",
       "        0.9907718 , 0.9907718 , 0.9803401 , 0.8230663 , 0.88310033,\n",
       "        0.88310033, 0.88310033, 0.947829  , 0.9436132 , 0.9442628 ,\n",
       "        0.9442628 , 0.9442628 , 0.909809  , 0.9354473 , 0.8514858 ,\n",
       "        0.9377754 , 0.86133474, 0.92167884, 0.92167884, 0.92167884,\n",
       "        0.9308434 , 0.8774499 , 0.8774499 , 0.8774499 , 0.8870641 ,\n",
       "        0.8870641 , 0.8870641 , 0.9160451 , 0.92910326, 0.85718054,\n",
       "        0.89631784, 0.87519264, 0.9635694 , 0.9635694 , 0.8979237 ,\n",
       "        0.8979237 , 0.8979237 , 0.8979237 , 0.8823349 , 0.8895985 ,\n",
       "        0.8895985 , 0.8895985 , 0.8895985 , 0.87350965, 0.82785034,\n",
       "        0.9355435 , 0.9355435 , 0.9355435 , 0.88356626, 0.89052427,\n",
       "        0.9369172 , 0.9369172 , 0.96415365, 0.905657  , 0.905657  ,\n",
       "        0.905657  , 0.905657  , 0.905657  , 0.84515035, 0.9332872 ,\n",
       "        0.9332872 , 0.9332872 , 0.9332872 , 0.95427924, 0.95427924,\n",
       "        0.95427924, 0.95427924, 0.9045238 , 0.9045238 , 0.9045238 ,\n",
       "        0.9045238 , 0.8632744 , 0.8632744 , 0.92457044, 0.92173046,\n",
       "        0.92173046, 0.8706452 , 0.8706452 , 0.84745556, 0.916372  ,\n",
       "        0.8909022 , 0.95848775, 0.88290304, 0.86791146, 0.86791146,\n",
       "        0.9429655 , 0.85833806, 0.90222913, 0.8834628 , 0.8900062 ,\n",
       "        0.91061795, 0.90307504, 0.93046284, 0.93046284, 0.87518775]],\n",
       "      dtype=float32)</pre></div></li><li class='xr-var-item'><div class='xr-var-name'><span>sigma</span></div><div class='xr-var-dims'>(chain, draw)</div><div class='xr-var-dtype'>float32</div><div class='xr-var-preview xr-preview'>5.489 5.434 5.248 ... 5.396 5.681</div><input id='attrs-4b2a6c3e-09f9-488b-8301-d3ef3a3be67f' class='xr-var-attrs-in' type='checkbox' disabled><label for='attrs-4b2a6c3e-09f9-488b-8301-d3ef3a3be67f' title='Show/Hide attributes'><svg class='icon xr-icon-file-text2'><use xlink:href='#icon-file-text2'></use></svg></label><input id='data-d8b031bb-c48d-450d-b945-47048cafeb72' class='xr-var-data-in' type='checkbox'><label for='data-d8b031bb-c48d-450d-b945-47048cafeb72' title='Show/Hide data repr'><svg class='icon xr-icon-database'><use xlink:href='#icon-database'></use></svg></label><div class='xr-var-attrs'><dl class='xr-attrs'></dl></div><div class='xr-var-data'><pre>array([[5.4886556, 5.4336057, 5.2482977, 5.2482977, 5.2482977, 5.166994 ,\n",
       "        5.166994 , 5.1790915, 4.964711 , 4.964711 , 5.2282495, 5.230567 ,\n",
       "        4.977498 , 5.0523987, 5.1195045, 5.0648227, 5.0174084, 5.0174084,\n",
       "        4.982948 , 4.982948 , 4.982948 , 5.045315 , 5.045315 , 5.173838 ,\n",
       "        5.173838 , 5.173838 , 5.3097982, 5.2409296, 5.3277497, 5.418646 ,\n",
       "        5.479681 , 5.1864066, 5.1864066, 5.148522 , 5.148522 , 5.148522 ,\n",
       "        5.1463866, 5.1463866, 4.942483 , 5.0594726, 4.862282 , 5.116731 ,\n",
       "        5.116731 , 5.07964  , 5.1763783, 5.0735326, 5.2163467, 5.352212 ,\n",
       "        5.3194127, 5.3194127, 5.3194127, 5.3194127, 5.3194127, 5.3194127,\n",
       "        5.3194127, 5.4983044, 5.6468186, 5.4984407, 5.30166  , 5.171583 ,\n",
       "        5.350964 , 5.350964 , 5.2852197, 5.361173 , 5.361173 , 5.4968767,\n",
       "        5.4968767, 5.4968767, 5.3789606, 5.427329 , 5.427329 , 5.427329 ,\n",
       "        5.2258415, 5.266969 , 5.266969 , 5.266969 , 5.2514668, 5.002309 ,\n",
       "        5.1216106, 5.100286 , 5.114059 , 5.114059 , 5.114059 , 5.2647734,\n",
       "        4.9736557, 4.9736557, 4.821779 , 4.9380064, 4.9380064, 4.9380064,\n",
       "        4.9380064, 4.7152953, 4.849909 , 4.849909 , 4.9891644, 4.9891644,\n",
       "        5.3190074, 5.3190074, 5.179937 , 5.179937 , 5.179937 , 5.164987 ,\n",
       "        5.164987 , 5.0735397, 5.0735397, 5.0929117, 5.0267158, 5.1361256,\n",
       "        5.1361256, 5.170941 , 5.170941 , 4.984734 , 4.984734 , 4.984734 ,\n",
       "        4.911158 , 5.114317 , 4.986334 , 5.019104 , 5.019104 , 5.019104 ,\n",
       "...\n",
       "        4.9161673, 4.9161673, 4.9161673, 5.02189  , 5.02189  , 5.02189  ,\n",
       "        4.887861 , 4.887861 , 4.887861 , 4.887861 , 4.887861 , 5.055221 ,\n",
       "        5.237322 , 5.237322 , 5.243101 , 5.2919574, 5.3701353, 5.3701353,\n",
       "        5.3701353, 5.411032 , 5.442354 , 5.076676 , 5.076676 , 5.2230716,\n",
       "        5.34413  , 5.4759088, 5.4759088, 5.4759088, 5.3241544, 5.181965 ,\n",
       "        5.3231025, 5.3231025, 5.3231025, 5.359424 , 5.386728 , 5.4915237,\n",
       "        5.5031037, 5.4464707, 5.3727117, 5.3727117, 5.3727117, 5.389615 ,\n",
       "        5.349943 , 5.349943 , 5.349943 , 5.448411 , 5.448411 , 5.448411 ,\n",
       "        5.4480205, 5.1379714, 5.215138 , 5.2128944, 4.9986625, 5.0772066,\n",
       "        5.0772066, 5.1282773, 5.1282773, 5.1282773, 5.1282773, 4.9618263,\n",
       "        4.9744015, 4.9744015, 4.9744015, 4.9744015, 5.08608  , 5.179642 ,\n",
       "        4.9218373, 4.9218373, 4.9218373, 4.9627247, 4.9939885, 4.9341245,\n",
       "        4.9341245, 4.8022375, 4.7919574, 4.7919574, 4.7919574, 4.7919574,\n",
       "        4.7919574, 4.946193 , 4.8965635, 4.8965635, 4.8965635, 4.8965635,\n",
       "        4.8679585, 4.8679585, 4.8679585, 4.8679585, 5.030734 , 5.030734 ,\n",
       "        5.030734 , 5.030734 , 5.172426 , 5.172426 , 5.09061  , 5.1974626,\n",
       "        5.1974626, 5.2682095, 5.2682095, 5.401724 , 5.3572593, 5.204229 ,\n",
       "        5.169112 , 5.131115 , 5.1744885, 5.1744885, 5.137738 , 5.453305 ,\n",
       "        5.419089 , 5.390717 , 5.296079 , 5.31772  , 5.5153265, 5.3961897,\n",
       "        5.3961897, 5.6811056]], dtype=float32)</pre></div></li></ul></div></li><li class='xr-section-item'><input id='section-ae06e8fe-9393-48f9-a497-8f3e5537c6ab' class='xr-section-summary-in' type='checkbox'  ><label for='section-ae06e8fe-9393-48f9-a497-8f3e5537c6ab' class='xr-section-summary' >Indexes: <span>(2)</span></label><div class='xr-section-inline-details'></div><div class='xr-section-details'><ul class='xr-var-list'><li class='xr-var-item'><div class='xr-index-name'><div>chain</div></div><div class='xr-index-preview'>PandasIndex</div><div></div><input id='index-c50ffdd0-0bca-4cb1-85ae-8e35c7720065' class='xr-index-data-in' type='checkbox'/><label for='index-c50ffdd0-0bca-4cb1-85ae-8e35c7720065' title='Show/Hide index repr'><svg class='icon xr-icon-database'><use xlink:href='#icon-database'></use></svg></label><div class='xr-index-data'><pre>PandasIndex(Index([0], dtype=&#x27;int64&#x27;, name=&#x27;chain&#x27;))</pre></div></li><li class='xr-var-item'><div class='xr-index-name'><div>draw</div></div><div class='xr-index-preview'>PandasIndex</div><div></div><input id='index-7b5d8752-be30-44da-8b06-f6f6403bcd80' class='xr-index-data-in' type='checkbox'/><label for='index-7b5d8752-be30-44da-8b06-f6f6403bcd80' title='Show/Hide index repr'><svg class='icon xr-icon-database'><use xlink:href='#icon-database'></use></svg></label><div class='xr-index-data'><pre>PandasIndex(Index([  0,   1,   2,   3,   4,   5,   6,   7,   8,   9,\n",
       "       ...\n",
       "       490, 491, 492, 493, 494, 495, 496, 497, 498, 499],\n",
       "      dtype=&#x27;int64&#x27;, name=&#x27;draw&#x27;, length=500))</pre></div></li></ul></div></li><li class='xr-section-item'><input id='section-05b44ea1-8497-4bf3-a0ea-4e1d13c2665e' class='xr-section-summary-in' type='checkbox'  checked><label for='section-05b44ea1-8497-4bf3-a0ea-4e1d13c2665e' class='xr-section-summary' >Attributes: <span>(2)</span></label><div class='xr-section-inline-details'></div><div class='xr-section-details'><dl class='xr-attrs'><dt><span>created_at :</span></dt><dd>2024-06-14T17:55:28.572625+00:00</dd><dt><span>arviz_version :</span></dt><dd>0.18.0</dd></dl></div></li></ul></div></div><br></div>\n",
       "                      </ul>\n",
       "                  </div>\n",
       "            </li>\n",
       "            \n",
       "              </ul>\n",
       "            </div>\n",
       "            <style> /* CSS stylesheet for displaying InferenceData objects in jupyterlab.\n",
       " *\n",
       " */\n",
       "\n",
       ":root {\n",
       "  --xr-font-color0: var(--jp-content-font-color0, rgba(0, 0, 0, 1));\n",
       "  --xr-font-color2: var(--jp-content-font-color2, rgba(0, 0, 0, 0.54));\n",
       "  --xr-font-color3: var(--jp-content-font-color3, rgba(0, 0, 0, 0.38));\n",
       "  --xr-border-color: var(--jp-border-color2, #e0e0e0);\n",
       "  --xr-disabled-color: var(--jp-layout-color3, #bdbdbd);\n",
       "  --xr-background-color: var(--jp-layout-color0, white);\n",
       "  --xr-background-color-row-even: var(--jp-layout-color1, white);\n",
       "  --xr-background-color-row-odd: var(--jp-layout-color2, #eeeeee);\n",
       "}\n",
       "\n",
       "html[theme=dark],\n",
       "body.vscode-dark {\n",
       "  --xr-font-color0: rgba(255, 255, 255, 1);\n",
       "  --xr-font-color2: rgba(255, 255, 255, 0.54);\n",
       "  --xr-font-color3: rgba(255, 255, 255, 0.38);\n",
       "  --xr-border-color: #1F1F1F;\n",
       "  --xr-disabled-color: #515151;\n",
       "  --xr-background-color: #111111;\n",
       "  --xr-background-color-row-even: #111111;\n",
       "  --xr-background-color-row-odd: #313131;\n",
       "}\n",
       "\n",
       ".xr-wrap {\n",
       "  display: block;\n",
       "  min-width: 300px;\n",
       "  max-width: 700px;\n",
       "}\n",
       "\n",
       ".xr-text-repr-fallback {\n",
       "  /* fallback to plain text repr when CSS is not injected (untrusted notebook) */\n",
       "  display: none;\n",
       "}\n",
       "\n",
       ".xr-header {\n",
       "  padding-top: 6px;\n",
       "  padding-bottom: 6px;\n",
       "  margin-bottom: 4px;\n",
       "  border-bottom: solid 1px var(--xr-border-color);\n",
       "}\n",
       "\n",
       ".xr-header > div,\n",
       ".xr-header > ul {\n",
       "  display: inline;\n",
       "  margin-top: 0;\n",
       "  margin-bottom: 0;\n",
       "}\n",
       "\n",
       ".xr-obj-type,\n",
       ".xr-array-name {\n",
       "  margin-left: 2px;\n",
       "  margin-right: 10px;\n",
       "}\n",
       "\n",
       ".xr-obj-type {\n",
       "  color: var(--xr-font-color2);\n",
       "}\n",
       "\n",
       ".xr-sections {\n",
       "  padding-left: 0 !important;\n",
       "  display: grid;\n",
       "  grid-template-columns: 150px auto auto 1fr 20px 20px;\n",
       "}\n",
       "\n",
       ".xr-sections.group-sections {\n",
       "  grid-template-columns: auto;\n",
       "}\n",
       "\n",
       ".xr-section-item {\n",
       "  display: contents;\n",
       "}\n",
       "\n",
       ".xr-section-item input {\n",
       "  display: none;\n",
       "}\n",
       "\n",
       ".xr-section-item input + label {\n",
       "  color: var(--xr-disabled-color);\n",
       "}\n",
       "\n",
       ".xr-section-item input:enabled + label {\n",
       "  cursor: pointer;\n",
       "  color: var(--xr-font-color2);\n",
       "}\n",
       "\n",
       ".xr-section-item input:enabled + label:hover {\n",
       "  color: var(--xr-font-color0);\n",
       "}\n",
       "\n",
       ".xr-section-summary {\n",
       "  grid-column: 1;\n",
       "  color: var(--xr-font-color2);\n",
       "  font-weight: 500;\n",
       "}\n",
       "\n",
       ".xr-section-summary > span {\n",
       "  display: inline-block;\n",
       "  padding-left: 0.5em;\n",
       "}\n",
       "\n",
       ".xr-section-summary-in:disabled + label {\n",
       "  color: var(--xr-font-color2);\n",
       "}\n",
       "\n",
       ".xr-section-summary-in + label:before {\n",
       "  display: inline-block;\n",
       "  content: '►';\n",
       "  font-size: 11px;\n",
       "  width: 15px;\n",
       "  text-align: center;\n",
       "}\n",
       "\n",
       ".xr-section-summary-in:disabled + label:before {\n",
       "  color: var(--xr-disabled-color);\n",
       "}\n",
       "\n",
       ".xr-section-summary-in:checked + label:before {\n",
       "  content: '▼';\n",
       "}\n",
       "\n",
       ".xr-section-summary-in:checked + label > span {\n",
       "  display: none;\n",
       "}\n",
       "\n",
       ".xr-section-summary,\n",
       ".xr-section-inline-details {\n",
       "  padding-top: 4px;\n",
       "  padding-bottom: 4px;\n",
       "}\n",
       "\n",
       ".xr-section-inline-details {\n",
       "  grid-column: 2 / -1;\n",
       "}\n",
       "\n",
       ".xr-section-details {\n",
       "  display: none;\n",
       "  grid-column: 1 / -1;\n",
       "  margin-bottom: 5px;\n",
       "}\n",
       "\n",
       ".xr-section-summary-in:checked ~ .xr-section-details {\n",
       "  display: contents;\n",
       "}\n",
       "\n",
       ".xr-array-wrap {\n",
       "  grid-column: 1 / -1;\n",
       "  display: grid;\n",
       "  grid-template-columns: 20px auto;\n",
       "}\n",
       "\n",
       ".xr-array-wrap > label {\n",
       "  grid-column: 1;\n",
       "  vertical-align: top;\n",
       "}\n",
       "\n",
       ".xr-preview {\n",
       "  color: var(--xr-font-color3);\n",
       "}\n",
       "\n",
       ".xr-array-preview,\n",
       ".xr-array-data {\n",
       "  padding: 0 5px !important;\n",
       "  grid-column: 2;\n",
       "}\n",
       "\n",
       ".xr-array-data,\n",
       ".xr-array-in:checked ~ .xr-array-preview {\n",
       "  display: none;\n",
       "}\n",
       "\n",
       ".xr-array-in:checked ~ .xr-array-data,\n",
       ".xr-array-preview {\n",
       "  display: inline-block;\n",
       "}\n",
       "\n",
       ".xr-dim-list {\n",
       "  display: inline-block !important;\n",
       "  list-style: none;\n",
       "  padding: 0 !important;\n",
       "  margin: 0;\n",
       "}\n",
       "\n",
       ".xr-dim-list li {\n",
       "  display: inline-block;\n",
       "  padding: 0;\n",
       "  margin: 0;\n",
       "}\n",
       "\n",
       ".xr-dim-list:before {\n",
       "  content: '(';\n",
       "}\n",
       "\n",
       ".xr-dim-list:after {\n",
       "  content: ')';\n",
       "}\n",
       "\n",
       ".xr-dim-list li:not(:last-child):after {\n",
       "  content: ',';\n",
       "  padding-right: 5px;\n",
       "}\n",
       "\n",
       ".xr-has-index {\n",
       "  font-weight: bold;\n",
       "}\n",
       "\n",
       ".xr-var-list,\n",
       ".xr-var-item {\n",
       "  display: contents;\n",
       "}\n",
       "\n",
       ".xr-var-item > div,\n",
       ".xr-var-item label,\n",
       ".xr-var-item > .xr-var-name span {\n",
       "  background-color: var(--xr-background-color-row-even);\n",
       "  margin-bottom: 0;\n",
       "}\n",
       "\n",
       ".xr-var-item > .xr-var-name:hover span {\n",
       "  padding-right: 5px;\n",
       "}\n",
       "\n",
       ".xr-var-list > li:nth-child(odd) > div,\n",
       ".xr-var-list > li:nth-child(odd) > label,\n",
       ".xr-var-list > li:nth-child(odd) > .xr-var-name span {\n",
       "  background-color: var(--xr-background-color-row-odd);\n",
       "}\n",
       "\n",
       ".xr-var-name {\n",
       "  grid-column: 1;\n",
       "}\n",
       "\n",
       ".xr-var-dims {\n",
       "  grid-column: 2;\n",
       "}\n",
       "\n",
       ".xr-var-dtype {\n",
       "  grid-column: 3;\n",
       "  text-align: right;\n",
       "  color: var(--xr-font-color2);\n",
       "}\n",
       "\n",
       ".xr-var-preview {\n",
       "  grid-column: 4;\n",
       "}\n",
       "\n",
       ".xr-var-name,\n",
       ".xr-var-dims,\n",
       ".xr-var-dtype,\n",
       ".xr-preview,\n",
       ".xr-attrs dt {\n",
       "  white-space: nowrap;\n",
       "  overflow: hidden;\n",
       "  text-overflow: ellipsis;\n",
       "  padding-right: 10px;\n",
       "}\n",
       "\n",
       ".xr-var-name:hover,\n",
       ".xr-var-dims:hover,\n",
       ".xr-var-dtype:hover,\n",
       ".xr-attrs dt:hover {\n",
       "  overflow: visible;\n",
       "  width: auto;\n",
       "  z-index: 1;\n",
       "}\n",
       "\n",
       ".xr-var-attrs,\n",
       ".xr-var-data {\n",
       "  display: none;\n",
       "  background-color: var(--xr-background-color) !important;\n",
       "  padding-bottom: 5px !important;\n",
       "}\n",
       "\n",
       ".xr-var-attrs-in:checked ~ .xr-var-attrs,\n",
       ".xr-var-data-in:checked ~ .xr-var-data {\n",
       "  display: block;\n",
       "}\n",
       "\n",
       ".xr-var-data > table {\n",
       "  float: right;\n",
       "}\n",
       "\n",
       ".xr-var-name span,\n",
       ".xr-var-data,\n",
       ".xr-attrs {\n",
       "  padding-left: 25px !important;\n",
       "}\n",
       "\n",
       ".xr-attrs,\n",
       ".xr-var-attrs,\n",
       ".xr-var-data {\n",
       "  grid-column: 1 / -1;\n",
       "}\n",
       "\n",
       "dl.xr-attrs {\n",
       "  padding: 0;\n",
       "  margin: 0;\n",
       "  display: grid;\n",
       "  grid-template-columns: 125px auto;\n",
       "}\n",
       "\n",
       ".xr-attrs dt,\n",
       ".xr-attrs dd {\n",
       "  padding: 0;\n",
       "  margin: 0;\n",
       "  float: left;\n",
       "  padding-right: 10px;\n",
       "  width: auto;\n",
       "}\n",
       "\n",
       ".xr-attrs dt {\n",
       "  font-weight: normal;\n",
       "  grid-column: 1;\n",
       "}\n",
       "\n",
       ".xr-attrs dt:hover span {\n",
       "  display: inline-block;\n",
       "  background: var(--xr-background-color);\n",
       "  padding-right: 10px;\n",
       "}\n",
       "\n",
       ".xr-attrs dd {\n",
       "  grid-column: 2;\n",
       "  white-space: pre-wrap;\n",
       "  word-break: break-all;\n",
       "}\n",
       "\n",
       ".xr-icon-database,\n",
       ".xr-icon-file-text2 {\n",
       "  display: inline-block;\n",
       "  vertical-align: middle;\n",
       "  width: 1em;\n",
       "  height: 1.5em !important;\n",
       "  stroke-width: 0;\n",
       "  stroke: currentColor;\n",
       "  fill: currentColor;\n",
       "}\n",
       ".xr-wrap{width:700px!important;} </style>"
      ],
      "text/plain": [
       "Inference data with groups:\n",
       "\t> posterior"
      ]
     },
     "execution_count": 250,
     "metadata": {},
     "output_type": "execute_result"
    }
   ],
   "source": [
    "idata_43 = az.from_dict(states_43_dict)\n",
    "idata_43"
   ]
  },
  {
   "cell_type": "code",
   "execution_count": 232,
   "metadata": {},
   "outputs": [],
   "source": [
    "import xarray as xr\n",
    "y = xr.DataArray(d2.height.values)\n",
    "x = xr.DataArray(d2.weight.values)"
   ]
  },
  {
   "cell_type": "code",
   "execution_count": 252,
   "metadata": {},
   "outputs": [],
   "source": [
    "idata_43.posterior[\"y_model\"] = idata_43.posterior[\"alpha\"] + \\\n",
    "    idata_43.posterior[\"beta\"]*(x - x_bar)"
   ]
  },
  {
   "cell_type": "code",
   "execution_count": 255,
   "metadata": {},
   "outputs": [
    {
     "data": {
      "image/png": "[encoded data removed]",
      "text/plain": [
       "<Figure size 600x400 with 1 Axes>"
      ]
     },
     "metadata": {},
     "output_type": "display_data"
    }
   ],
   "source": [
    "az.plot_lm(idata=idata_43, y=y, x=x, y_model=\"y_model\");"
   ]
  },
  {
   "cell_type": "markdown",
   "metadata": {},
   "source": [
    "## 4.5 Curves from lines"
   ]
  },
  {
   "cell_type": "markdown",
   "metadata": {},
   "source": [
    "### 4.5.1 Polynomial regression"
   ]
  },
  {
   "cell_type": "markdown",
   "metadata": {},
   "source": [
    "##### Code 4.64\n",
    "\n",
    "Here we start to look at polynomial regression and splines.\n",
    "\n",
    "Polynomial Regression is the first one. It helps to build curved associations. This time we will use full data instead of just adults"
   ]
  },
  {
   "cell_type": "code",
   "execution_count": 24,
   "metadata": {},
   "outputs": [
    {
     "data": {
      "text/html": [
       "<div>\n",
       "<style scoped>\n",
       "    .dataframe tbody tr th:only-of-type {\n",
       "        vertical-align: middle;\n",
       "    }\n",
       "\n",
       "    .dataframe tbody tr th {\n",
       "        vertical-align: top;\n",
       "    }\n",
       "\n",
       "    .dataframe thead th {\n",
       "        text-align: right;\n",
       "    }\n",
       "</style>\n",
       "<table border=\"1\" class=\"dataframe\">\n",
       "  <thead>\n",
       "    <tr style=\"text-align: right;\">\n",
       "      <th></th>\n",
       "      <th>height</th>\n",
       "      <th>weight</th>\n",
       "      <th>age</th>\n",
       "      <th>male</th>\n",
       "    </tr>\n",
       "  </thead>\n",
       "  <tbody>\n",
       "    <tr>\n",
       "      <th>count</th>\n",
       "      <td>544.000000</td>\n",
       "      <td>544.000000</td>\n",
       "      <td>544.000000</td>\n",
       "      <td>544.000000</td>\n",
       "    </tr>\n",
       "    <tr>\n",
       "      <th>mean</th>\n",
       "      <td>138.263596</td>\n",
       "      <td>35.610618</td>\n",
       "      <td>29.344393</td>\n",
       "      <td>0.472426</td>\n",
       "    </tr>\n",
       "    <tr>\n",
       "      <th>std</th>\n",
       "      <td>27.602448</td>\n",
       "      <td>14.719178</td>\n",
       "      <td>20.746888</td>\n",
       "      <td>0.499699</td>\n",
       "    </tr>\n",
       "    <tr>\n",
       "      <th>min</th>\n",
       "      <td>53.975000</td>\n",
       "      <td>4.252425</td>\n",
       "      <td>0.000000</td>\n",
       "      <td>0.000000</td>\n",
       "    </tr>\n",
       "    <tr>\n",
       "      <th>25%</th>\n",
       "      <td>125.095000</td>\n",
       "      <td>22.007717</td>\n",
       "      <td>12.000000</td>\n",
       "      <td>0.000000</td>\n",
       "    </tr>\n",
       "    <tr>\n",
       "      <th>50%</th>\n",
       "      <td>148.590000</td>\n",
       "      <td>40.057844</td>\n",
       "      <td>27.000000</td>\n",
       "      <td>0.000000</td>\n",
       "    </tr>\n",
       "    <tr>\n",
       "      <th>75%</th>\n",
       "      <td>157.480000</td>\n",
       "      <td>47.209005</td>\n",
       "      <td>43.000000</td>\n",
       "      <td>1.000000</td>\n",
       "    </tr>\n",
       "    <tr>\n",
       "      <th>max</th>\n",
       "      <td>179.070000</td>\n",
       "      <td>62.992589</td>\n",
       "      <td>88.000000</td>\n",
       "      <td>1.000000</td>\n",
       "    </tr>\n",
       "  </tbody>\n",
       "</table>\n",
       "</div>"
      ],
      "text/plain": [
       "           height      weight         age        male\n",
       "count  544.000000  544.000000  544.000000  544.000000\n",
       "mean   138.263596   35.610618   29.344393    0.472426\n",
       "std     27.602448   14.719178   20.746888    0.499699\n",
       "min     53.975000    4.252425    0.000000    0.000000\n",
       "25%    125.095000   22.007717   12.000000    0.000000\n",
       "50%    148.590000   40.057844   27.000000    0.000000\n",
       "75%    157.480000   47.209005   43.000000    1.000000\n",
       "max    179.070000   62.992589   88.000000    1.000000"
      ]
     },
     "execution_count": 24,
     "metadata": {},
     "output_type": "execute_result"
    }
   ],
   "source": [
    "d = pd.read_csv(\"./data/Howell1.csv\", sep=\";\")\n",
    "d.describe()"
   ]
  },
  {
   "cell_type": "markdown",
   "metadata": {},
   "source": [
    "##### Code 4.65\n",
    "\n",
    "Most common polynomial regression is a parabolic (degree 2) model of the mean.\n",
    "\n",
    "$\\mu_i \\sim \\alpha + \\beta_1x_i + \\beta_2x_i^2$\n",
    "\n",
    "\n",
    "**Standardization** is important in general but it becomes even more important for polynomials. Think what happens when you square or cube big numbers. They will create large variations.\n",
    "\n"
   ]
  },
  {
   "cell_type": "code",
   "execution_count": 25,
   "metadata": {},
   "outputs": [],
   "source": [
    "d[\"weight_std\"] = (d.weight - d.weight.mean()) / d.weight.std()\n",
    "d[\"weight_std2\"] = d.weight_std ** 2"
   ]
  },
  {
   "cell_type": "code",
   "execution_count": 40,
   "metadata": {},
   "outputs": [],
   "source": [
    "def m45():\n",
    "    alpha = yield tfd.Normal(loc=178.0, scale=20.0, name=\"alpha\")\n",
    "    beta1 = yield tfd.LogNormal(loc=0.0, scale=1.0, name=\"beta1\")\n",
    "    beta2 = yield tfd.Normal(loc=0.0, scale=1.0, name=\"beta2\")\n",
    "    sigma = yield tfd.Uniform(low=0.0, high=50.0, name=\"sigma\")\n",
    "\n",
    "    mu = alpha + beta1*d.weight_std.values + beta2*d.weight_std2.values\n",
    "\n",
    "    height = yield tfd.Normal(loc=mu, scale=sigma, name=\"height\")\n",
    "\n",
    "jd_45 = tfd.JointDistributionCoroutineAutoBatched(m45)"
   ]
  },
  {
   "cell_type": "code",
   "execution_count": 70,
   "metadata": {},
   "outputs": [],
   "source": [
    "state_name = \"alpha\", \"beta1\", \"beta2\", \"sigma\""
   ]
  },
  {
   "cell_type": "code",
   "execution_count": 103,
   "metadata": {},
   "outputs": [
    {
     "data": {
      "text/plain": [
       "('alpha', 'beta1', 'beta2', 'sigma')"
      ]
     },
     "execution_count": 103,
     "metadata": {},
     "output_type": "execute_result"
    }
   ],
   "source": [
    "init_state = jd_45.sample(seed=a_key())\n",
    "names = init_state._fields\n",
    "init_state = init_state[:-1]\n",
    "\n",
    "StateTuple = namedtuple(\"StateTuple\", names)\n",
    "state_name = names[:-1]\n",
    "state_name"
   ]
  },
  {
   "cell_type": "code",
   "execution_count": 104,
   "metadata": {},
   "outputs": [],
   "source": [
    "def target_log_prob_45(alpha, beta1, beta2, sigma):\n",
    "    state = {\"alpha\": alpha, \"beta1\": beta1, \"beta2\": beta2, \"sigma\": sigma, \"height\": d.height.values}\n",
    "    return jd_45.log_prob(StateTuple(**state))"
   ]
  },
  {
   "cell_type": "code",
   "execution_count": 98,
   "metadata": {},
   "outputs": [],
   "source": [
    "num_burnin_steps = 400\n",
    "num_results = 500\n",
    "step_size = 0.2"
   ]
  },
  {
   "cell_type": "code",
   "execution_count": 99,
   "metadata": {},
   "outputs": [],
   "source": [
    "kernel_45 = tfp.mcmc.HamiltonianMonteCarlo(\n",
    "    target_log_prob_fn=target_log_prob_45,\n",
    "    step_size=step_size,\n",
    "    num_leapfrog_steps=2)\n",
    "\n",
    "kernel_45 = tfp.mcmc.SimpleStepSizeAdaptation(\n",
    "    inner_kernel=kernel_45, num_adaptation_steps=int(num_burnin_steps * 0.8))"
   ]
  },
  {
   "cell_type": "code",
   "execution_count": 105,
   "metadata": {},
   "outputs": [],
   "source": [
    "states_45 = tfp.mcmc.sample_chain(\n",
    "    num_results=num_results,\n",
    "    current_state=init_state,\n",
    "    kernel=kernel_45,\n",
    "    num_burnin_steps=num_burnin_steps,\n",
    "    trace_fn=None,\n",
    "    seed=a_key())"
   ]
  },
  {
   "cell_type": "code",
   "execution_count": 106,
   "metadata": {},
   "outputs": [],
   "source": [
    "states_45_dict = states_45._asdict()"
   ]
  },
  {
   "cell_type": "code",
   "execution_count": 107,
   "metadata": {},
   "outputs": [
    {
     "data": {
      "text/html": [
       "<div>\n",
       "<style scoped>\n",
       "    .dataframe tbody tr th:only-of-type {\n",
       "        vertical-align: middle;\n",
       "    }\n",
       "\n",
       "    .dataframe tbody tr th {\n",
       "        vertical-align: top;\n",
       "    }\n",
       "\n",
       "    .dataframe thead th {\n",
       "        text-align: right;\n",
       "    }\n",
       "</style>\n",
       "<table border=\"1\" class=\"dataframe\">\n",
       "  <thead>\n",
       "    <tr style=\"text-align: right;\">\n",
       "      <th></th>\n",
       "      <th>mean</th>\n",
       "      <th>sd</th>\n",
       "      <th>hdi_5.5%</th>\n",
       "      <th>hdi_94.5%</th>\n",
       "    </tr>\n",
       "  </thead>\n",
       "  <tbody>\n",
       "    <tr>\n",
       "      <th>alpha</th>\n",
       "      <td>146.03</td>\n",
       "      <td>0.40</td>\n",
       "      <td>145.40</td>\n",
       "      <td>146.66</td>\n",
       "    </tr>\n",
       "    <tr>\n",
       "      <th>beta1</th>\n",
       "      <td>21.76</td>\n",
       "      <td>0.28</td>\n",
       "      <td>21.25</td>\n",
       "      <td>22.13</td>\n",
       "    </tr>\n",
       "    <tr>\n",
       "      <th>beta2</th>\n",
       "      <td>-7.77</td>\n",
       "      <td>0.29</td>\n",
       "      <td>-8.24</td>\n",
       "      <td>-7.33</td>\n",
       "    </tr>\n",
       "    <tr>\n",
       "      <th>sigma</th>\n",
       "      <td>5.81</td>\n",
       "      <td>0.18</td>\n",
       "      <td>5.50</td>\n",
       "      <td>6.04</td>\n",
       "    </tr>\n",
       "  </tbody>\n",
       "</table>\n",
       "</div>"
      ],
      "text/plain": [
       "         mean    sd  hdi_5.5%  hdi_94.5%\n",
       "alpha  146.03  0.40    145.40     146.66\n",
       "beta1   21.76  0.28     21.25      22.13\n",
       "beta2   -7.77  0.29     -8.24      -7.33\n",
       "sigma    5.81  0.18      5.50       6.04"
      ]
     },
     "execution_count": 107,
     "metadata": {},
     "output_type": "execute_result"
    }
   ],
   "source": [
    "# stats for all chains\n",
    "az.summary(states_45_dict, round_to=2, kind=\"stats\", hdi_prob=0.89)"
   ]
  },
  {
   "cell_type": "code",
   "execution_count": 108,
   "metadata": {},
   "outputs": [
    {
     "data": {
      "image/png": "[encoded data removed]",
      "text/plain": [
       "<Figure size 1200x600 with 6 Axes>"
      ]
     },
     "metadata": {},
     "output_type": "display_data"
    }
   ],
   "source": [
    "az.plot_trace(states_43_dict);"
   ]
  }
 ],
 "metadata": {
  "kernelspec": {
   "display_name": "tfpjax",
   "language": "python",
   "name": "python3"
  },
  "language_info": {
   "codemirror_mode": {
    "name": "ipython",
    "version": 3
   },
   "file_extension": ".py",
   "mimetype": "text/x-python",
   "name": "python",
   "nbconvert_exporter": "python",
   "pygments_lexer": "ipython3",
   "version": "3.11.9"
  }
 },
 "nbformat": 4,
 "nbformat_minor": 2
}
