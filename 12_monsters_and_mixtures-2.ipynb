{
 "cells": [
  {
   "cell_type": "markdown",
   "metadata": {},
   "source": [
    "[![Open In Colab](https://colab.research.google.com/assets/colab-badge.svg)](https://colab.research.google.com/github/ksachdeva/rethinking-tensorflow-probability/blob/master/notebooks/12_monsters_and_mixtures.ipynb)"
   ]
  },
  {
   "cell_type": "markdown",
   "metadata": {},
   "source": [
    "# 12. Monsters and Mixtures"
   ]
  },
  {
   "cell_type": "code",
   "execution_count": 3,
   "metadata": {},
   "outputs": [],
   "source": [
    "import numpy as np\n",
    "import arviz as az\n",
    "import pandas as pd\n",
    "import xarray as xr\n",
    "import matplotlib.pyplot as plt\n",
    "from collections import namedtuple\n",
    "import statsmodels.formula.api as smf\n",
    "\n",
    "import random\n",
    "import jax\n",
    "import jax.numpy as jnp\n",
    "\n",
    "import tensorflow as tf\n",
    "from tensorflow_probability.substrates import jax as tfp\n",
    "tfd = tfp.distributions\n",
    "tfb = tfp.bijectors\n",
    "# to use 'sample_distributions'\n",
    "import tensorflow_probability as xtfp\n",
    "xtfd = xtfp.distributions\n",
    "xtfb = xtfp.bijectors\n",
    "\n",
    "key = tfp.util.SeedStream(1448, salt=\"ch-12\")\n",
    "plt.rcParams['figure.figsize'] = [6, 5]\n",
    "\n",
    "# TFP often requires 64-bit precision (float64) for certain computations \n",
    "# to ensure numerical stability and accuracy, e.g., tfd.Possion.\n",
    "jax.config.update(\"jax_enable_x64\", True)"
   ]
  },
  {
   "cell_type": "markdown",
   "metadata": {},
   "source": [
    "## 12.1 Over-dispersed counts"
   ]
  },
  {
   "cell_type": "markdown",
   "metadata": {},
   "source": [
    "### 12.1.1 Beta-binomial"
   ]
  },
  {
   "cell_type": "markdown",
   "metadata": {},
   "source": [
    "##### Code 12.1\n",
    "\n",
    "\n",
    "A beta distribution is a probability distribution for probabilities !"
   ]
  },
  {
   "cell_type": "code",
   "execution_count": 4,
   "metadata": {},
   "outputs": [
    {
     "data": {
      "image/png": "[encoded data removed]",
      "text/plain": [
       "<Figure size 600x500 with 1 Axes>"
      ]
     },
     "metadata": {},
     "output_type": "display_data"
    }
   ],
   "source": [
    "pbar = 0.5  # mean\n",
    "theta = 5  # total concentration\n",
    "\n",
    "alpha = pbar * theta\n",
    "beta = (1 - pbar) * theta\n",
    "\n",
    "x = np.linspace(0, 1, 101)\n",
    "\n",
    "plt.plot(x, tfd.Beta(alpha, beta).prob(x))\n",
    "plt.xlabel(\"probability\")\n",
    "plt.ylabel(\"Density\")\n",
    "plt.show()"
   ]
  },
  {
   "cell_type": "markdown",
   "metadata": {},
   "source": [
    "##### Code 12.2"
   ]
  },
  {
   "cell_type": "code",
   "execution_count": 2,
   "metadata": {},
   "outputs": [],
   "source": [
    "d = pd.read_csv(\"./data/UCBadmit.csv\", sep=\";\")\n",
    "d[\"gid\"] = (d[\"applicant.gender\"] != \"male\").astype(int)"
   ]
  },
  {
   "cell_type": "code",
   "execution_count": 6,
   "metadata": {},
   "outputs": [
    {
     "data": {
      "text/html": [
       "<div>\n",
       "<style scoped>\n",
       "    .dataframe tbody tr th:only-of-type {\n",
       "        vertical-align: middle;\n",
       "    }\n",
       "\n",
       "    .dataframe tbody tr th {\n",
       "        vertical-align: top;\n",
       "    }\n",
       "\n",
       "    .dataframe thead th {\n",
       "        text-align: right;\n",
       "    }\n",
       "</style>\n",
       "<table border=\"1\" class=\"dataframe\">\n",
       "  <thead>\n",
       "    <tr style=\"text-align: right;\">\n",
       "      <th></th>\n",
       "      <th>dept</th>\n",
       "      <th>applicant.gender</th>\n",
       "      <th>admit</th>\n",
       "      <th>reject</th>\n",
       "      <th>applications</th>\n",
       "      <th>gid</th>\n",
       "    </tr>\n",
       "  </thead>\n",
       "  <tbody>\n",
       "    <tr>\n",
       "      <th>1</th>\n",
       "      <td>A</td>\n",
       "      <td>male</td>\n",
       "      <td>512</td>\n",
       "      <td>313</td>\n",
       "      <td>825</td>\n",
       "      <td>0</td>\n",
       "    </tr>\n",
       "    <tr>\n",
       "      <th>2</th>\n",
       "      <td>A</td>\n",
       "      <td>female</td>\n",
       "      <td>89</td>\n",
       "      <td>19</td>\n",
       "      <td>108</td>\n",
       "      <td>1</td>\n",
       "    </tr>\n",
       "    <tr>\n",
       "      <th>3</th>\n",
       "      <td>B</td>\n",
       "      <td>male</td>\n",
       "      <td>353</td>\n",
       "      <td>207</td>\n",
       "      <td>560</td>\n",
       "      <td>0</td>\n",
       "    </tr>\n",
       "    <tr>\n",
       "      <th>4</th>\n",
       "      <td>B</td>\n",
       "      <td>female</td>\n",
       "      <td>17</td>\n",
       "      <td>8</td>\n",
       "      <td>25</td>\n",
       "      <td>1</td>\n",
       "    </tr>\n",
       "    <tr>\n",
       "      <th>5</th>\n",
       "      <td>C</td>\n",
       "      <td>male</td>\n",
       "      <td>120</td>\n",
       "      <td>205</td>\n",
       "      <td>325</td>\n",
       "      <td>0</td>\n",
       "    </tr>\n",
       "    <tr>\n",
       "      <th>6</th>\n",
       "      <td>C</td>\n",
       "      <td>female</td>\n",
       "      <td>202</td>\n",
       "      <td>391</td>\n",
       "      <td>593</td>\n",
       "      <td>1</td>\n",
       "    </tr>\n",
       "    <tr>\n",
       "      <th>7</th>\n",
       "      <td>D</td>\n",
       "      <td>male</td>\n",
       "      <td>138</td>\n",
       "      <td>279</td>\n",
       "      <td>417</td>\n",
       "      <td>0</td>\n",
       "    </tr>\n",
       "    <tr>\n",
       "      <th>8</th>\n",
       "      <td>D</td>\n",
       "      <td>female</td>\n",
       "      <td>131</td>\n",
       "      <td>244</td>\n",
       "      <td>375</td>\n",
       "      <td>1</td>\n",
       "    </tr>\n",
       "    <tr>\n",
       "      <th>9</th>\n",
       "      <td>E</td>\n",
       "      <td>male</td>\n",
       "      <td>53</td>\n",
       "      <td>138</td>\n",
       "      <td>191</td>\n",
       "      <td>0</td>\n",
       "    </tr>\n",
       "    <tr>\n",
       "      <th>10</th>\n",
       "      <td>E</td>\n",
       "      <td>female</td>\n",
       "      <td>94</td>\n",
       "      <td>299</td>\n",
       "      <td>393</td>\n",
       "      <td>1</td>\n",
       "    </tr>\n",
       "    <tr>\n",
       "      <th>11</th>\n",
       "      <td>F</td>\n",
       "      <td>male</td>\n",
       "      <td>22</td>\n",
       "      <td>351</td>\n",
       "      <td>373</td>\n",
       "      <td>0</td>\n",
       "    </tr>\n",
       "    <tr>\n",
       "      <th>12</th>\n",
       "      <td>F</td>\n",
       "      <td>female</td>\n",
       "      <td>24</td>\n",
       "      <td>317</td>\n",
       "      <td>341</td>\n",
       "      <td>1</td>\n",
       "    </tr>\n",
       "  </tbody>\n",
       "</table>\n",
       "</div>"
      ],
      "text/plain": [
       "   dept applicant.gender  admit  reject  applications  gid\n",
       "1     A             male    512     313           825    0\n",
       "2     A           female     89      19           108    1\n",
       "3     B             male    353     207           560    0\n",
       "4     B           female     17       8            25    1\n",
       "5     C             male    120     205           325    0\n",
       "6     C           female    202     391           593    1\n",
       "7     D             male    138     279           417    0\n",
       "8     D           female    131     244           375    1\n",
       "9     E             male     53     138           191    0\n",
       "10    E           female     94     299           393    1\n",
       "11    F             male     22     351           373    0\n",
       "12    F           female     24     317           341    1"
      ]
     },
     "execution_count": 6,
     "metadata": {},
     "output_type": "execute_result"
    }
   ],
   "source": [
    "d"
   ]
  },
  {
   "cell_type": "code",
   "execution_count": 5,
   "metadata": {},
   "outputs": [],
   "source": [
    "def model_12_1(gid, N):\n",
    "\tdef _generator():\n",
    "\t\ta = yield tfd.Sample(tfd.Normal(loc=0.0, scale=1.5), sample_shape=2, name='a')\n",
    "\t\tphi = yield tfd.Exponential(rate=1.0, name='phi')\n",
    "\t\ttheta = phi + 2\n",
    "\t\tpbar = jax.nn.sigmoid(jnp.take(a, gid))\n",
    "\n",
    "\t\tconcentration1 = pbar * theta\n",
    "\t\tconcentration0 = (1 - pbar) * theta\n",
    "\n",
    "\t\tyield tfd.BetaBinomial(\n",
    "\t\t\ttotal_count=N, \n",
    "\t\t\tconcentration1=concentration1, concentration0=concentration0,\n",
    "\t\t\tname='A')\n",
    "\n",
    "\treturn tfd.JointDistributionCoroutineAutoBatched(_generator)"
   ]
  },
  {
   "cell_type": "code",
   "execution_count": 12,
   "metadata": {},
   "outputs": [],
   "source": [
    "jd_12_1 = model_12_1(d.gid.values, d.applications.values.astype(np.float32))"
   ]
  },
  {
   "cell_type": "code",
   "execution_count": 13,
   "metadata": {},
   "outputs": [],
   "source": [
    "jd_12_1_pin = jd_12_1.experimental_pin(A=d.admit.values)"
   ]
  },
  {
   "cell_type": "code",
   "execution_count": 14,
   "metadata": {},
   "outputs": [],
   "source": [
    "@jax.jit\n",
    "def run_chain(init_state, seed, step_size=1e-3, num_steps=500, burnin=400):\n",
    "\n",
    "  def target_log_prob(*states):\n",
    "    return jd_12_1_pin.unnormalized_log_prob(states)\n",
    "  \n",
    "  bijectors = [tfb.Identity(), tfb.Exp()]\n",
    "\n",
    "  kernel = tfp.mcmc.NoUTurnSampler(\n",
    "      target_log_prob_fn=target_log_prob,\n",
    "      step_size=step_size)\n",
    "  \n",
    "  kernel = tfp.mcmc.TransformedTransitionKernel(\n",
    "    inner_kernel=kernel,\n",
    "    bijector=bijectors)\n",
    "\n",
    "  kernel = tfp.mcmc.DualAveragingStepSizeAdaptation(\n",
    "    inner_kernel=kernel,\n",
    "    num_adaptation_steps=burnin)\n",
    "\n",
    "  chain_state = tfp.mcmc.sample_chain(\n",
    "      num_results=num_steps,\n",
    "      num_burnin_steps=burnin,\n",
    "      current_state=init_state,\n",
    "      kernel=kernel,\n",
    "      seed=seed,\n",
    "      trace_fn=None)\n",
    "  \n",
    "  return chain_state"
   ]
  },
  {
   "cell_type": "code",
   "execution_count": 15,
   "metadata": {},
   "outputs": [],
   "source": [
    "num_chains = 4\n",
    "init_state = jd_12_1_pin.sample_unpinned(num_chains, seed=key())\n",
    "post_1 = run_chain(init_state=init_state, seed=key())"
   ]
  },
  {
   "cell_type": "code",
   "execution_count": 16,
   "metadata": {},
   "outputs": [],
   "source": [
    "post_1_dict = {k: jnp.moveaxis(v, 0, 1) for k, v in post_1._asdict().items()}\n",
    "dict_1 = dict(posterior=post_1_dict)\n",
    "idata_1 = az.from_dict(**dict_1)"
   ]
  },
  {
   "cell_type": "code",
   "execution_count": 17,
   "metadata": {},
   "outputs": [
    {
     "data": {
      "text/html": [
       "<div>\n",
       "<style scoped>\n",
       "    .dataframe tbody tr th:only-of-type {\n",
       "        vertical-align: middle;\n",
       "    }\n",
       "\n",
       "    .dataframe tbody tr th {\n",
       "        vertical-align: top;\n",
       "    }\n",
       "\n",
       "    .dataframe thead th {\n",
       "        text-align: right;\n",
       "    }\n",
       "</style>\n",
       "<table border=\"1\" class=\"dataframe\">\n",
       "  <thead>\n",
       "    <tr style=\"text-align: right;\">\n",
       "      <th></th>\n",
       "      <th>mean</th>\n",
       "      <th>sd</th>\n",
       "      <th>hdi_5.5%</th>\n",
       "      <th>hdi_94.5%</th>\n",
       "      <th>mcse_mean</th>\n",
       "      <th>mcse_sd</th>\n",
       "      <th>ess_bulk</th>\n",
       "      <th>ess_tail</th>\n",
       "      <th>r_hat</th>\n",
       "    </tr>\n",
       "  </thead>\n",
       "  <tbody>\n",
       "    <tr>\n",
       "      <th>a[0]</th>\n",
       "      <td>-0.449</td>\n",
       "      <td>0.395</td>\n",
       "      <td>-1.074</td>\n",
       "      <td>0.163</td>\n",
       "      <td>0.009</td>\n",
       "      <td>0.008</td>\n",
       "      <td>2108.0</td>\n",
       "      <td>1157.0</td>\n",
       "      <td>1.00</td>\n",
       "    </tr>\n",
       "    <tr>\n",
       "      <th>a[1]</th>\n",
       "      <td>-0.322</td>\n",
       "      <td>0.402</td>\n",
       "      <td>-0.933</td>\n",
       "      <td>0.310</td>\n",
       "      <td>0.008</td>\n",
       "      <td>0.008</td>\n",
       "      <td>2789.0</td>\n",
       "      <td>1443.0</td>\n",
       "      <td>1.00</td>\n",
       "    </tr>\n",
       "    <tr>\n",
       "      <th>phi</th>\n",
       "      <td>1.021</td>\n",
       "      <td>0.755</td>\n",
       "      <td>0.001</td>\n",
       "      <td>2.008</td>\n",
       "      <td>0.029</td>\n",
       "      <td>0.021</td>\n",
       "      <td>503.0</td>\n",
       "      <td>373.0</td>\n",
       "      <td>1.01</td>\n",
       "    </tr>\n",
       "  </tbody>\n",
       "</table>\n",
       "</div>"
      ],
      "text/plain": [
       "       mean     sd  hdi_5.5%  hdi_94.5%  mcse_mean  mcse_sd  ess_bulk  \\\n",
       "a[0] -0.449  0.395    -1.074      0.163      0.009    0.008    2108.0   \n",
       "a[1] -0.322  0.402    -0.933      0.310      0.008    0.008    2789.0   \n",
       "phi   1.021  0.755     0.001      2.008      0.029    0.021     503.0   \n",
       "\n",
       "      ess_tail  r_hat  \n",
       "a[0]    1157.0   1.00  \n",
       "a[1]    1443.0   1.00  \n",
       "phi      373.0   1.01  "
      ]
     },
     "execution_count": 17,
     "metadata": {},
     "output_type": "execute_result"
    }
   ],
   "source": [
    "az.summary(idata_1, hdi_prob=0.89)"
   ]
  },
  {
   "cell_type": "markdown",
   "metadata": {},
   "source": [
    "##### Code 12.3"
   ]
  },
  {
   "cell_type": "code",
   "execution_count": 18,
   "metadata": {},
   "outputs": [],
   "source": [
    "# compute the difference between alphas\n",
    "idata_1.posterior[\"da\"] = idata_1.posterior[\"a\"][:, :, 0] - idata_1.posterior[\"a\"][:, :, 1]\n",
    "\n",
    "# compute theta\n",
    "idata_1.posterior[\"theta\"] = idata_1.posterior[\"phi\"] + 2"
   ]
  },
  {
   "cell_type": "code",
   "execution_count": 19,
   "metadata": {},
   "outputs": [
    {
     "data": {
      "text/html": [
       "<div>\n",
       "<style scoped>\n",
       "    .dataframe tbody tr th:only-of-type {\n",
       "        vertical-align: middle;\n",
       "    }\n",
       "\n",
       "    .dataframe tbody tr th {\n",
       "        vertical-align: top;\n",
       "    }\n",
       "\n",
       "    .dataframe thead th {\n",
       "        text-align: right;\n",
       "    }\n",
       "</style>\n",
       "<table border=\"1\" class=\"dataframe\">\n",
       "  <thead>\n",
       "    <tr style=\"text-align: right;\">\n",
       "      <th></th>\n",
       "      <th>mean</th>\n",
       "      <th>sd</th>\n",
       "      <th>hdi_5.5%</th>\n",
       "      <th>hdi_94.5%</th>\n",
       "      <th>mcse_mean</th>\n",
       "      <th>mcse_sd</th>\n",
       "      <th>ess_bulk</th>\n",
       "      <th>ess_tail</th>\n",
       "      <th>r_hat</th>\n",
       "    </tr>\n",
       "  </thead>\n",
       "  <tbody>\n",
       "    <tr>\n",
       "      <th>a[0]</th>\n",
       "      <td>-0.449</td>\n",
       "      <td>0.395</td>\n",
       "      <td>-1.074</td>\n",
       "      <td>0.163</td>\n",
       "      <td>0.009</td>\n",
       "      <td>0.008</td>\n",
       "      <td>2108.0</td>\n",
       "      <td>1157.0</td>\n",
       "      <td>1.00</td>\n",
       "    </tr>\n",
       "    <tr>\n",
       "      <th>a[1]</th>\n",
       "      <td>-0.322</td>\n",
       "      <td>0.402</td>\n",
       "      <td>-0.933</td>\n",
       "      <td>0.310</td>\n",
       "      <td>0.008</td>\n",
       "      <td>0.008</td>\n",
       "      <td>2789.0</td>\n",
       "      <td>1443.0</td>\n",
       "      <td>1.00</td>\n",
       "    </tr>\n",
       "    <tr>\n",
       "      <th>phi</th>\n",
       "      <td>1.021</td>\n",
       "      <td>0.755</td>\n",
       "      <td>0.001</td>\n",
       "      <td>2.008</td>\n",
       "      <td>0.029</td>\n",
       "      <td>0.021</td>\n",
       "      <td>503.0</td>\n",
       "      <td>373.0</td>\n",
       "      <td>1.01</td>\n",
       "    </tr>\n",
       "    <tr>\n",
       "      <th>da</th>\n",
       "      <td>-0.127</td>\n",
       "      <td>0.555</td>\n",
       "      <td>-0.922</td>\n",
       "      <td>0.805</td>\n",
       "      <td>0.011</td>\n",
       "      <td>0.013</td>\n",
       "      <td>2681.0</td>\n",
       "      <td>1183.0</td>\n",
       "      <td>1.00</td>\n",
       "    </tr>\n",
       "    <tr>\n",
       "      <th>theta</th>\n",
       "      <td>3.021</td>\n",
       "      <td>0.755</td>\n",
       "      <td>2.001</td>\n",
       "      <td>4.008</td>\n",
       "      <td>0.029</td>\n",
       "      <td>0.021</td>\n",
       "      <td>503.0</td>\n",
       "      <td>373.0</td>\n",
       "      <td>1.01</td>\n",
       "    </tr>\n",
       "  </tbody>\n",
       "</table>\n",
       "</div>"
      ],
      "text/plain": [
       "        mean     sd  hdi_5.5%  hdi_94.5%  mcse_mean  mcse_sd  ess_bulk  \\\n",
       "a[0]  -0.449  0.395    -1.074      0.163      0.009    0.008    2108.0   \n",
       "a[1]  -0.322  0.402    -0.933      0.310      0.008    0.008    2789.0   \n",
       "phi    1.021  0.755     0.001      2.008      0.029    0.021     503.0   \n",
       "da    -0.127  0.555    -0.922      0.805      0.011    0.013    2681.0   \n",
       "theta  3.021  0.755     2.001      4.008      0.029    0.021     503.0   \n",
       "\n",
       "       ess_tail  r_hat  \n",
       "a[0]     1157.0   1.00  \n",
       "a[1]     1443.0   1.00  \n",
       "phi       373.0   1.01  \n",
       "da       1183.0   1.00  \n",
       "theta     373.0   1.01  "
      ]
     },
     "execution_count": 19,
     "metadata": {},
     "output_type": "execute_result"
    }
   ],
   "source": [
    "az.summary(idata_1, hdi_prob=0.89)"
   ]
  },
  {
   "cell_type": "markdown",
   "metadata": {},
   "source": [
    "##### Code 12.4"
   ]
  },
  {
   "cell_type": "code",
   "execution_count": 40,
   "metadata": {},
   "outputs": [
    {
     "data": {
      "text/plain": [
       "Array(2.0049706, dtype=float32)"
      ]
     },
     "execution_count": 40,
     "metadata": {},
     "output_type": "execute_result"
    }
   ],
   "source": [
    "theta = post_1_dict['phi'][0, :] + 2\n",
    "theta[2]"
   ]
  },
  {
   "cell_type": "code",
   "execution_count": 52,
   "metadata": {},
   "outputs": [
    {
     "data": {
      "image/png": "[encoded data removed]",
      "text/plain": [
       "<Figure size 600x500 with 1 Axes>"
      ]
     },
     "metadata": {},
     "output_type": "display_data"
    }
   ],
   "source": [
    "a = post_1_dict['a'][0, :, 1] # female\n",
    "theta = post_1_dict['phi'][0, :] + 2\n",
    "\n",
    "# draw posterior mean beta distribution\n",
    "x = np.linspace(0, 1, 101)\n",
    "pbar = jnp.mean(jax.nn.sigmoid(a))\n",
    "thetabar = jnp.mean(theta)\n",
    "plt.plot(x, tfd.Beta(pbar * thetabar, (1 - pbar) * thetabar).prob(x))\n",
    "plt.gca().set(ylabel=\"Density\", xlabel=\"probability admit\", ylim=(0, 3))\n",
    "\n",
    "# draw 50 beta distributions sampled from posterior\n",
    "for i in np.random.choice(500, 50):\n",
    "\tp = jax.nn.sigmoid(a[i])\n",
    "\tthetai = theta[i]\n",
    "\tplt.plot(x, tfd.Beta(pbar * thetai, (1 - pbar) * thetai).prob(x), \"k\", alpha=0.1)\n",
    "plt.title(\"distribution of female admission rates\")\n",
    "plt.show()"
   ]
  },
  {
   "cell_type": "markdown",
   "metadata": {},
   "source": [
    "##### Code 12.5"
   ]
  },
  {
   "cell_type": "code",
   "execution_count": 63,
   "metadata": {},
   "outputs": [],
   "source": [
    "# get samples given the posterior distribution\n",
    "N = d.applications.values.astype(np.float32)\n",
    "gid = d.gid.values\n",
    "\n",
    "# prepare the concentration vector\n",
    "concentration1 = pbar * thetabar\n",
    "concentration0 = (1 - pbar) * thetabar\n",
    "\n",
    "dist = tfd.BetaBinomial(\n",
    "  total_count=N, \n",
    "  concentration1=concentration1, concentration0=concentration0)\n",
    "\n",
    "predictive_samples = dist.sample(500, seed=key())\n",
    "admit_rate = predictive_samples / N"
   ]
  },
  {
   "cell_type": "code",
   "execution_count": 64,
   "metadata": {},
   "outputs": [
    {
     "data": {
      "text/plain": [
       "(500, 12)"
      ]
     },
     "execution_count": 64,
     "metadata": {},
     "output_type": "execute_result"
    }
   ],
   "source": [
    "admit_rate.shape"
   ]
  },
  {
   "cell_type": "code",
   "execution_count": 65,
   "metadata": {},
   "outputs": [
    {
     "data": {
      "image/png": "[encoded data removed]",
      "text/plain": [
       "<Figure size 600x500 with 1 Axes>"
      ]
     },
     "metadata": {},
     "output_type": "display_data"
    }
   ],
   "source": [
    "plt.scatter(range(1, 13), d.admit.values / N)\n",
    "plt.errorbar(\n",
    "    range(1, 13),\n",
    "    np.mean(admit_rate, 0),\n",
    "    np.std(admit_rate, 0) / 2,\n",
    "    fmt=\"o\",\n",
    "    c=\"k\",\n",
    "    mfc=\"none\",\n",
    "    ms=7,\n",
    "    elinewidth=1,\n",
    ")\n",
    "plt.plot(range(1, 13), np.percentile(admit_rate, 5.5, 0), \"k+\")\n",
    "plt.plot(range(1, 13), np.percentile(admit_rate, 94.5, 0), \"k+\")\n",
    "plt.show()"
   ]
  },
  {
   "cell_type": "markdown",
   "metadata": {},
   "source": [
    "In the above plot, the vertifical axis shows the predicted proportion admitted, for each case on the horizontal.\n",
    "\n",
    "Blue points show the empirical proportion admitted on each row of data\n",
    "\n",
    "Open circles are the posterior mean pbar and + symbols mark the 89% interval of predicted counts of admission"
   ]
  },
  {
   "cell_type": "markdown",
   "metadata": {},
   "source": [
    "### 12.1.2 Negative-binomial or gamma-Poisson"
   ]
  },
  {
   "cell_type": "markdown",
   "metadata": {},
   "source": [
    "##### Code 12.6 \n",
    "\n",
    "Start to use **Gamma-Poisson** (also known as **Negative Binomial**) models.\n",
    "\n",
    "Essentially Gamm-Poisson is about associating a rate to each Posisson count observation. Estimates the shape of gamma distribution to describe the Poisson rates across cases.\n",
    "\n",
    "Gamma-Poisson also expects more variation around the mean rate.\n",
    "\n",
    "The negative binomial distribution arises naturally from a probability experiment of performing a series of independent Bernoulli trials until the occurrence of the rth success where r is a positive integer."
   ]
  },
  {
   "cell_type": "code",
   "execution_count": 69,
   "metadata": {},
   "outputs": [
    {
     "data": {
      "text/html": [
       "<div>\n",
       "<style scoped>\n",
       "    .dataframe tbody tr th:only-of-type {\n",
       "        vertical-align: middle;\n",
       "    }\n",
       "\n",
       "    .dataframe tbody tr th {\n",
       "        vertical-align: top;\n",
       "    }\n",
       "\n",
       "    .dataframe thead th {\n",
       "        text-align: right;\n",
       "    }\n",
       "</style>\n",
       "<table border=\"1\" class=\"dataframe\">\n",
       "  <thead>\n",
       "    <tr style=\"text-align: right;\">\n",
       "      <th></th>\n",
       "      <th>culture</th>\n",
       "      <th>population</th>\n",
       "      <th>contact</th>\n",
       "      <th>total_tools</th>\n",
       "      <th>mean_TU</th>\n",
       "      <th>P</th>\n",
       "      <th>contact_id</th>\n",
       "    </tr>\n",
       "  </thead>\n",
       "  <tbody>\n",
       "    <tr>\n",
       "      <th>0</th>\n",
       "      <td>Malekula</td>\n",
       "      <td>1100</td>\n",
       "      <td>low</td>\n",
       "      <td>13</td>\n",
       "      <td>3.2</td>\n",
       "      <td>-1.291473</td>\n",
       "      <td>0</td>\n",
       "    </tr>\n",
       "    <tr>\n",
       "      <th>1</th>\n",
       "      <td>Tikopia</td>\n",
       "      <td>1500</td>\n",
       "      <td>low</td>\n",
       "      <td>22</td>\n",
       "      <td>4.7</td>\n",
       "      <td>-1.088551</td>\n",
       "      <td>0</td>\n",
       "    </tr>\n",
       "    <tr>\n",
       "      <th>2</th>\n",
       "      <td>Santa Cruz</td>\n",
       "      <td>3600</td>\n",
       "      <td>low</td>\n",
       "      <td>24</td>\n",
       "      <td>4.0</td>\n",
       "      <td>-0.515765</td>\n",
       "      <td>0</td>\n",
       "    </tr>\n",
       "    <tr>\n",
       "      <th>3</th>\n",
       "      <td>Yap</td>\n",
       "      <td>4791</td>\n",
       "      <td>high</td>\n",
       "      <td>43</td>\n",
       "      <td>5.0</td>\n",
       "      <td>-0.328773</td>\n",
       "      <td>1</td>\n",
       "    </tr>\n",
       "    <tr>\n",
       "      <th>4</th>\n",
       "      <td>Lau Fiji</td>\n",
       "      <td>7400</td>\n",
       "      <td>high</td>\n",
       "      <td>33</td>\n",
       "      <td>5.0</td>\n",
       "      <td>-0.044339</td>\n",
       "      <td>1</td>\n",
       "    </tr>\n",
       "    <tr>\n",
       "      <th>5</th>\n",
       "      <td>Trobriand</td>\n",
       "      <td>8000</td>\n",
       "      <td>high</td>\n",
       "      <td>19</td>\n",
       "      <td>4.0</td>\n",
       "      <td>0.006668</td>\n",
       "      <td>1</td>\n",
       "    </tr>\n",
       "    <tr>\n",
       "      <th>6</th>\n",
       "      <td>Chuuk</td>\n",
       "      <td>9200</td>\n",
       "      <td>high</td>\n",
       "      <td>40</td>\n",
       "      <td>3.8</td>\n",
       "      <td>0.098109</td>\n",
       "      <td>1</td>\n",
       "    </tr>\n",
       "    <tr>\n",
       "      <th>7</th>\n",
       "      <td>Manus</td>\n",
       "      <td>13000</td>\n",
       "      <td>low</td>\n",
       "      <td>28</td>\n",
       "      <td>6.6</td>\n",
       "      <td>0.324318</td>\n",
       "      <td>0</td>\n",
       "    </tr>\n",
       "    <tr>\n",
       "      <th>8</th>\n",
       "      <td>Tonga</td>\n",
       "      <td>17500</td>\n",
       "      <td>high</td>\n",
       "      <td>55</td>\n",
       "      <td>5.4</td>\n",
       "      <td>0.518798</td>\n",
       "      <td>1</td>\n",
       "    </tr>\n",
       "    <tr>\n",
       "      <th>9</th>\n",
       "      <td>Hawaii</td>\n",
       "      <td>275000</td>\n",
       "      <td>low</td>\n",
       "      <td>71</td>\n",
       "      <td>6.6</td>\n",
       "      <td>2.321008</td>\n",
       "      <td>0</td>\n",
       "    </tr>\n",
       "  </tbody>\n",
       "</table>\n",
       "</div>"
      ],
      "text/plain": [
       "      culture  population contact  total_tools  mean_TU         P  contact_id\n",
       "0    Malekula        1100     low           13      3.2 -1.291473           0\n",
       "1     Tikopia        1500     low           22      4.7 -1.088551           0\n",
       "2  Santa Cruz        3600     low           24      4.0 -0.515765           0\n",
       "3         Yap        4791    high           43      5.0 -0.328773           1\n",
       "4    Lau Fiji        7400    high           33      5.0 -0.044339           1\n",
       "5   Trobriand        8000    high           19      4.0  0.006668           1\n",
       "6       Chuuk        9200    high           40      3.8  0.098109           1\n",
       "7       Manus       13000     low           28      6.6  0.324318           0\n",
       "8       Tonga       17500    high           55      5.4  0.518798           1\n",
       "9      Hawaii      275000     low           71      6.6  2.321008           0"
      ]
     },
     "execution_count": 69,
     "metadata": {},
     "output_type": "execute_result"
    }
   ],
   "source": [
    "d = pd.read_csv(\"./data/Kline.csv\", sep=\";\")\n",
    "d[\"P\"] = d.population.pipe(np.log).pipe(lambda x: (x - x.mean()) / x.std())\n",
    "d[\"contact_id\"] = (d.contact == \"high\").astype(int)\n",
    "d"
   ]
  },
  {
   "cell_type": "code",
   "execution_count": 101,
   "metadata": {},
   "outputs": [
    {
     "data": {
      "text/plain": [
       "Array([0.20999995, 0.06300002, 0.0189    ], dtype=float32)"
      ]
     },
     "execution_count": 101,
     "metadata": {},
     "output_type": "execute_result"
    }
   ],
   "source": [
    "# dgampois( x , mu , scale , log=FALSE )\n",
    "\n",
    "# == dnbinom(x, size=mu/scale, prob=1/(1+scale), mu=mu, log = FALSE)\n",
    "#    - x: number of failures\n",
    "#    - size: number of successes\n",
    "#    - prob: probability of success,  size / (size + mu)\n",
    "#    - mu: size * (1 - prob) / prob\n",
    "\n",
    "# == tfd.NegativeBinomial(total_count=size, probs=1-prob)\n",
    "# NOTE: In the official document says, \n",
    "#        total_count=x, probs=prob.\n",
    "#       But dnbinom outputs match with:\n",
    "#        total_count=size, probs=1-prob\n",
    "\n",
    "tfd.NegativeBinomial(total_count=1., probs=.3).prob([1., 2., 3.])\n",
    "# == dnbinom(c(1, 2, 3), size=1, prob=.7)"
   ]
  },
  {
   "cell_type": "code",
   "execution_count": 125,
   "metadata": {},
   "outputs": [],
   "source": [
    "def model_12_2(cid, P):\n",
    "\tdef _generator():\n",
    "\t\t# g = yield tfd.Exponential(rate=1.0, name='g')\n",
    "\t\tphi = yield tfd.Exponential(rate=1.0, name='phi')\n",
    "\t\t# a = yield tfd.Normal(loc=1.0, scale=1.0, name='a')\n",
    "\t\t# b = yield tfd.Exponential(rate=1.0, name='b')\n",
    "\t\t# NOTE: the scientific approach does not work\n",
    "\t\t# mu = jnp.exp(jnp.take(a, cid)) * jnp.pow(P, jnp.take(b, cid)) / g\n",
    "\t\tlambda_ = yield tfd.Exponential(rate=1.0, name='lambda_')\n",
    "\t\tyield tfd.Sample(\n",
    "\t\t\ttfd.NegativeBinomial(total_count=lambda_/phi, probs=phi/(1+phi)),\n",
    "\t\t\tsample_shape=10, name='tools')\n",
    "\n",
    "\treturn tfd.JointDistributionCoroutineAutoBatched(_generator)"
   ]
  },
  {
   "cell_type": "code",
   "execution_count": 126,
   "metadata": {},
   "outputs": [],
   "source": [
    "jd_12_2 = model_12_2(d.contact_id.values, d.P.values.astype(np.float32))"
   ]
  },
  {
   "cell_type": "code",
   "execution_count": 127,
   "metadata": {},
   "outputs": [],
   "source": [
    "jd_12_2_pin = jd_12_2.experimental_pin(tools=d.total_tools.values.astype(np.float32))"
   ]
  },
  {
   "cell_type": "code",
   "execution_count": 128,
   "metadata": {},
   "outputs": [],
   "source": [
    "@jax.jit\n",
    "def run_chain(init_state, seed, step_size=1e-3, num_steps=500, burnin=400):\n",
    "\n",
    "  def target_log_prob(*states):\n",
    "    return jd_12_2_pin.unnormalized_log_prob(states)\n",
    "  \n",
    "  bijectors = [tfb.Exp(), tfb.Exp()]\n",
    "\n",
    "  kernel = tfp.mcmc.NoUTurnSampler(\n",
    "      target_log_prob_fn=target_log_prob,\n",
    "      step_size=step_size)\n",
    "  \n",
    "  kernel = tfp.mcmc.TransformedTransitionKernel(\n",
    "    inner_kernel=kernel,\n",
    "    bijector=bijectors)\n",
    "\n",
    "  kernel = tfp.mcmc.DualAveragingStepSizeAdaptation(\n",
    "    inner_kernel=kernel,\n",
    "    num_adaptation_steps=burnin)\n",
    "\n",
    "  chain_state = tfp.mcmc.sample_chain(\n",
    "      num_results=num_steps,\n",
    "      num_burnin_steps=burnin,\n",
    "      current_state=init_state,\n",
    "      kernel=kernel,\n",
    "      seed=seed,\n",
    "      trace_fn=None)\n",
    "  \n",
    "  return chain_state"
   ]
  },
  {
   "cell_type": "code",
   "execution_count": 129,
   "metadata": {},
   "outputs": [],
   "source": [
    "num_chains = 4\n",
    "init_state = jd_12_2_pin.sample_unpinned(num_chains, seed=key())\n",
    "post_2 = run_chain(init_state=init_state, seed=key())"
   ]
  },
  {
   "cell_type": "code",
   "execution_count": 130,
   "metadata": {},
   "outputs": [],
   "source": [
    "post_2_dict = {k: jnp.moveaxis(v, 0, 1) for k, v in post_2._asdict().items()}\n",
    "dict_2 = dict(posterior=post_2_dict)\n",
    "idata_2 = az.from_dict(**dict_2)"
   ]
  },
  {
   "cell_type": "code",
   "execution_count": 131,
   "metadata": {},
   "outputs": [
    {
     "data": {
      "text/html": [
       "<div>\n",
       "<style scoped>\n",
       "    .dataframe tbody tr th:only-of-type {\n",
       "        vertical-align: middle;\n",
       "    }\n",
       "\n",
       "    .dataframe tbody tr th {\n",
       "        vertical-align: top;\n",
       "    }\n",
       "\n",
       "    .dataframe thead th {\n",
       "        text-align: right;\n",
       "    }\n",
       "</style>\n",
       "<table border=\"1\" class=\"dataframe\">\n",
       "  <thead>\n",
       "    <tr style=\"text-align: right;\">\n",
       "      <th></th>\n",
       "      <th>mean</th>\n",
       "      <th>sd</th>\n",
       "      <th>hdi_5.5%</th>\n",
       "      <th>hdi_94.5%</th>\n",
       "      <th>mcse_mean</th>\n",
       "      <th>mcse_sd</th>\n",
       "      <th>ess_bulk</th>\n",
       "      <th>ess_tail</th>\n",
       "      <th>r_hat</th>\n",
       "    </tr>\n",
       "  </thead>\n",
       "  <tbody>\n",
       "    <tr>\n",
       "      <th>lambda_</th>\n",
       "      <td>19.731</td>\n",
       "      <td>3.804</td>\n",
       "      <td>13.814</td>\n",
       "      <td>25.545</td>\n",
       "      <td>0.121</td>\n",
       "      <td>0.086</td>\n",
       "      <td>989.0</td>\n",
       "      <td>1104.0</td>\n",
       "      <td>1.0</td>\n",
       "    </tr>\n",
       "    <tr>\n",
       "      <th>phi</th>\n",
       "      <td>5.696</td>\n",
       "      <td>1.961</td>\n",
       "      <td>2.708</td>\n",
       "      <td>8.473</td>\n",
       "      <td>0.075</td>\n",
       "      <td>0.053</td>\n",
       "      <td>645.0</td>\n",
       "      <td>580.0</td>\n",
       "      <td>1.0</td>\n",
       "    </tr>\n",
       "  </tbody>\n",
       "</table>\n",
       "</div>"
      ],
      "text/plain": [
       "           mean     sd  hdi_5.5%  hdi_94.5%  mcse_mean  mcse_sd  ess_bulk  \\\n",
       "lambda_  19.731  3.804    13.814     25.545      0.121    0.086     989.0   \n",
       "phi       5.696  1.961     2.708      8.473      0.075    0.053     645.0   \n",
       "\n",
       "         ess_tail  r_hat  \n",
       "lambda_    1104.0    1.0  \n",
       "phi         580.0    1.0  "
      ]
     },
     "execution_count": 131,
     "metadata": {},
     "output_type": "execute_result"
    }
   ],
   "source": [
    "az.summary(idata_2, hdi_prob=0.89)"
   ]
  },
  {
   "cell_type": "markdown",
   "metadata": {},
   "source": [
    "## 12.2 Zero-inflated outcomes"
   ]
  },
  {
   "cell_type": "markdown",
   "metadata": {},
   "source": [
    "##### Code 12.6 "
   ]
  },
  {
   "cell_type": "code",
   "execution_count": 150,
   "metadata": {},
   "outputs": [],
   "source": [
    "# define parameters\n",
    "prob_drink = 0.2 # 20% of days\n",
    "rate_work = 1 # average 1 manuscript per day\n",
    "# sample one year of production\n",
    "N = 365\n",
    "# simulate days monks drink\n",
    "drink = tfd.Bernoulli(probs=prob_drink).sample(N, seed=key())\n",
    "# simulate manuscripts completed\n",
    "y = (1 - drink) * tfd.Poisson(rate=rate_work).sample(N, seed=key())"
   ]
  },
  {
   "cell_type": "code",
   "execution_count": 151,
   "metadata": {},
   "outputs": [
    {
     "data": {
      "text/plain": [
       "(Array(65, dtype=int64), Array(110, dtype=int64), Array(175, dtype=int64))"
      ]
     },
     "execution_count": 151,
     "metadata": {},
     "output_type": "execute_result"
    }
   ],
   "source": [
    "zeros_drink = jnp.sum(drink)\n",
    "zeros_work = jnp.sum((y==0) & (drink==0))\n",
    "zeros_total = jnp.sum(y==0)\n",
    "\n",
    "zeros_drink, zeros_work, zeros_total"
   ]
  },
  {
   "cell_type": "markdown",
   "metadata": {},
   "source": [
    "##### Code 12.9"
   ]
  },
  {
   "cell_type": "code",
   "execution_count": 169,
   "metadata": {},
   "outputs": [],
   "source": [
    "def model_12_3():\n",
    "\tdef _generator():\n",
    "\t\tal = yield tfd.Normal(loc=1.0, scale=0.5, name='al')\n",
    "\t\tap = yield tfd.Normal(loc=-1.5, scale=1.0, name='ap')\n",
    "\t\tyield tfd.Sample(\n",
    "\t\t\ttfd.Inflated(tfd.Poisson(log_rate=al), inflated_loc_logits=ap), \n",
    "\t\t\tsample_shape=365, name='y')\n",
    "\n",
    "\treturn tfd.JointDistributionCoroutineAutoBatched(_generator)"
   ]
  },
  {
   "cell_type": "code",
   "execution_count": 170,
   "metadata": {},
   "outputs": [],
   "source": [
    "jd_12_3 = model_12_3()"
   ]
  },
  {
   "cell_type": "code",
   "execution_count": 171,
   "metadata": {},
   "outputs": [],
   "source": [
    "jd_12_3_pin = jd_12_3.experimental_pin(y=y)"
   ]
  },
  {
   "cell_type": "code",
   "execution_count": 176,
   "metadata": {},
   "outputs": [],
   "source": [
    "@jax.jit\n",
    "def run_chain(init_state, seed, step_size=1e-3, num_steps=500, burnin=500):\n",
    "\n",
    "  def target_log_prob(*states):\n",
    "    return jd_12_3_pin.unnormalized_log_prob(states)\n",
    "  \n",
    "  bijectors = [tfb.Identity(), tfb.Identity()]\n",
    "\n",
    "  kernel = tfp.mcmc.NoUTurnSampler(\n",
    "      target_log_prob_fn=target_log_prob,\n",
    "      step_size=step_size)\n",
    "  \n",
    "  kernel = tfp.mcmc.TransformedTransitionKernel(\n",
    "    inner_kernel=kernel,\n",
    "    bijector=bijectors)\n",
    "\n",
    "  kernel = tfp.mcmc.DualAveragingStepSizeAdaptation(\n",
    "    inner_kernel=kernel,\n",
    "    num_adaptation_steps=burnin)\n",
    "\n",
    "  chain_state = tfp.mcmc.sample_chain(\n",
    "      num_results=num_steps,\n",
    "      num_burnin_steps=burnin,\n",
    "      current_state=init_state,\n",
    "      kernel=kernel,\n",
    "      seed=seed,\n",
    "      trace_fn=None)\n",
    "  \n",
    "  return chain_state"
   ]
  },
  {
   "cell_type": "code",
   "execution_count": 177,
   "metadata": {},
   "outputs": [],
   "source": [
    "num_chains = 4\n",
    "init_state = jd_12_3_pin.sample_unpinned(num_chains, seed=key())\n",
    "post_3 = run_chain(init_state=init_state, seed=key())"
   ]
  },
  {
   "cell_type": "code",
   "execution_count": 178,
   "metadata": {},
   "outputs": [],
   "source": [
    "post_3_dict = {k: jnp.moveaxis(v, 0, 1) for k, v in post_3._asdict().items()}\n",
    "dict_3 = dict(posterior=post_3_dict)\n",
    "idata_3 = az.from_dict(**dict_3)"
   ]
  },
  {
   "cell_type": "code",
   "execution_count": 179,
   "metadata": {},
   "outputs": [
    {
     "data": {
      "text/html": [
       "<div>\n",
       "<style scoped>\n",
       "    .dataframe tbody tr th:only-of-type {\n",
       "        vertical-align: middle;\n",
       "    }\n",
       "\n",
       "    .dataframe tbody tr th {\n",
       "        vertical-align: top;\n",
       "    }\n",
       "\n",
       "    .dataframe thead th {\n",
       "        text-align: right;\n",
       "    }\n",
       "</style>\n",
       "<table border=\"1\" class=\"dataframe\">\n",
       "  <thead>\n",
       "    <tr style=\"text-align: right;\">\n",
       "      <th></th>\n",
       "      <th>mean</th>\n",
       "      <th>sd</th>\n",
       "      <th>hdi_5.5%</th>\n",
       "      <th>hdi_94.5%</th>\n",
       "      <th>mcse_mean</th>\n",
       "      <th>mcse_sd</th>\n",
       "      <th>ess_bulk</th>\n",
       "      <th>ess_tail</th>\n",
       "      <th>r_hat</th>\n",
       "    </tr>\n",
       "  </thead>\n",
       "  <tbody>\n",
       "    <tr>\n",
       "      <th>al</th>\n",
       "      <td>-0.085</td>\n",
       "      <td>0.093</td>\n",
       "      <td>-0.239</td>\n",
       "      <td>0.048</td>\n",
       "      <td>0.005</td>\n",
       "      <td>0.003</td>\n",
       "      <td>400.0</td>\n",
       "      <td>746.0</td>\n",
       "      <td>1.01</td>\n",
       "    </tr>\n",
       "    <tr>\n",
       "      <th>ap</th>\n",
       "      <td>-1.171</td>\n",
       "      <td>0.541</td>\n",
       "      <td>-1.839</td>\n",
       "      <td>-0.521</td>\n",
       "      <td>0.036</td>\n",
       "      <td>0.026</td>\n",
       "      <td>267.0</td>\n",
       "      <td>308.0</td>\n",
       "      <td>1.02</td>\n",
       "    </tr>\n",
       "  </tbody>\n",
       "</table>\n",
       "</div>"
      ],
      "text/plain": [
       "     mean     sd  hdi_5.5%  hdi_94.5%  mcse_mean  mcse_sd  ess_bulk  ess_tail  \\\n",
       "al -0.085  0.093    -0.239      0.048      0.005    0.003     400.0     746.0   \n",
       "ap -1.171  0.541    -1.839     -0.521      0.036    0.026     267.0     308.0   \n",
       "\n",
       "    r_hat  \n",
       "al   1.01  \n",
       "ap   1.02  "
      ]
     },
     "execution_count": 179,
     "metadata": {},
     "output_type": "execute_result"
    }
   ],
   "source": [
    "az.summary(idata_3, hdi_prob=0.89)"
   ]
  },
  {
   "cell_type": "markdown",
   "metadata": {},
   "source": [
    "##### Code 12.10"
   ]
  },
  {
   "cell_type": "code",
   "execution_count": 182,
   "metadata": {},
   "outputs": [
    {
     "data": {
      "text/plain": [
       "(Array(0.24943775, dtype=float32), Array(0.9228564, dtype=float32))"
      ]
     },
     "execution_count": 182,
     "metadata": {},
     "output_type": "execute_result"
    }
   ],
   "source": [
    "(\n",
    "  jnp.mean(jax.nn.sigmoid(post_3_dict['ap'])), # probability drink\n",
    "  jnp.mean(jnp.exp(post_3_dict['al'])) # rate finish manuscripts, when not drinking\n",
    ")"
   ]
  },
  {
   "cell_type": "markdown",
   "metadata": {},
   "source": [
    "## 12.3 Ordered categorical outcomes"
   ]
  },
  {
   "cell_type": "markdown",
   "metadata": {},
   "source": [
    "##### Code 12.12"
   ]
  },
  {
   "cell_type": "code",
   "execution_count": 4,
   "metadata": {},
   "outputs": [
    {
     "data": {
      "text/html": [
       "<div>\n",
       "<style scoped>\n",
       "    .dataframe tbody tr th:only-of-type {\n",
       "        vertical-align: middle;\n",
       "    }\n",
       "\n",
       "    .dataframe tbody tr th {\n",
       "        vertical-align: top;\n",
       "    }\n",
       "\n",
       "    .dataframe thead th {\n",
       "        text-align: right;\n",
       "    }\n",
       "</style>\n",
       "<table border=\"1\" class=\"dataframe\">\n",
       "  <thead>\n",
       "    <tr style=\"text-align: right;\">\n",
       "      <th></th>\n",
       "      <th>case</th>\n",
       "      <th>response</th>\n",
       "      <th>order</th>\n",
       "      <th>id</th>\n",
       "      <th>age</th>\n",
       "      <th>male</th>\n",
       "      <th>edu</th>\n",
       "      <th>action</th>\n",
       "      <th>intention</th>\n",
       "      <th>contact</th>\n",
       "      <th>story</th>\n",
       "      <th>action2</th>\n",
       "    </tr>\n",
       "  </thead>\n",
       "  <tbody>\n",
       "    <tr>\n",
       "      <th>0</th>\n",
       "      <td>cfaqu</td>\n",
       "      <td>3</td>\n",
       "      <td>2</td>\n",
       "      <td>96;434</td>\n",
       "      <td>14</td>\n",
       "      <td>0</td>\n",
       "      <td>Middle School</td>\n",
       "      <td>0</td>\n",
       "      <td>0</td>\n",
       "      <td>1</td>\n",
       "      <td>aqu</td>\n",
       "      <td>1</td>\n",
       "    </tr>\n",
       "    <tr>\n",
       "      <th>1</th>\n",
       "      <td>cfbur</td>\n",
       "      <td>2</td>\n",
       "      <td>31</td>\n",
       "      <td>96;434</td>\n",
       "      <td>14</td>\n",
       "      <td>0</td>\n",
       "      <td>Middle School</td>\n",
       "      <td>0</td>\n",
       "      <td>0</td>\n",
       "      <td>1</td>\n",
       "      <td>bur</td>\n",
       "      <td>1</td>\n",
       "    </tr>\n",
       "    <tr>\n",
       "      <th>2</th>\n",
       "      <td>cfrub</td>\n",
       "      <td>3</td>\n",
       "      <td>16</td>\n",
       "      <td>96;434</td>\n",
       "      <td>14</td>\n",
       "      <td>0</td>\n",
       "      <td>Middle School</td>\n",
       "      <td>0</td>\n",
       "      <td>0</td>\n",
       "      <td>1</td>\n",
       "      <td>rub</td>\n",
       "      <td>1</td>\n",
       "    </tr>\n",
       "    <tr>\n",
       "      <th>3</th>\n",
       "      <td>cibox</td>\n",
       "      <td>2</td>\n",
       "      <td>32</td>\n",
       "      <td>96;434</td>\n",
       "      <td>14</td>\n",
       "      <td>0</td>\n",
       "      <td>Middle School</td>\n",
       "      <td>0</td>\n",
       "      <td>1</td>\n",
       "      <td>1</td>\n",
       "      <td>box</td>\n",
       "      <td>1</td>\n",
       "    </tr>\n",
       "    <tr>\n",
       "      <th>4</th>\n",
       "      <td>cibur</td>\n",
       "      <td>2</td>\n",
       "      <td>4</td>\n",
       "      <td>96;434</td>\n",
       "      <td>14</td>\n",
       "      <td>0</td>\n",
       "      <td>Middle School</td>\n",
       "      <td>0</td>\n",
       "      <td>1</td>\n",
       "      <td>1</td>\n",
       "      <td>bur</td>\n",
       "      <td>1</td>\n",
       "    </tr>\n",
       "    <tr>\n",
       "      <th>...</th>\n",
       "      <td>...</td>\n",
       "      <td>...</td>\n",
       "      <td>...</td>\n",
       "      <td>...</td>\n",
       "      <td>...</td>\n",
       "      <td>...</td>\n",
       "      <td>...</td>\n",
       "      <td>...</td>\n",
       "      <td>...</td>\n",
       "      <td>...</td>\n",
       "      <td>...</td>\n",
       "      <td>...</td>\n",
       "    </tr>\n",
       "    <tr>\n",
       "      <th>9925</th>\n",
       "      <td>ilpon</td>\n",
       "      <td>2</td>\n",
       "      <td>23</td>\n",
       "      <td>98;299</td>\n",
       "      <td>66</td>\n",
       "      <td>1</td>\n",
       "      <td>Graduate Degree</td>\n",
       "      <td>0</td>\n",
       "      <td>1</td>\n",
       "      <td>0</td>\n",
       "      <td>pon</td>\n",
       "      <td>0</td>\n",
       "    </tr>\n",
       "    <tr>\n",
       "      <th>9926</th>\n",
       "      <td>ilsha</td>\n",
       "      <td>5</td>\n",
       "      <td>15</td>\n",
       "      <td>98;299</td>\n",
       "      <td>66</td>\n",
       "      <td>1</td>\n",
       "      <td>Graduate Degree</td>\n",
       "      <td>0</td>\n",
       "      <td>1</td>\n",
       "      <td>0</td>\n",
       "      <td>sha</td>\n",
       "      <td>0</td>\n",
       "    </tr>\n",
       "    <tr>\n",
       "      <th>9927</th>\n",
       "      <td>ilshi</td>\n",
       "      <td>6</td>\n",
       "      <td>7</td>\n",
       "      <td>98;299</td>\n",
       "      <td>66</td>\n",
       "      <td>1</td>\n",
       "      <td>Graduate Degree</td>\n",
       "      <td>0</td>\n",
       "      <td>1</td>\n",
       "      <td>0</td>\n",
       "      <td>shi</td>\n",
       "      <td>0</td>\n",
       "    </tr>\n",
       "    <tr>\n",
       "      <th>9928</th>\n",
       "      <td>ilswi</td>\n",
       "      <td>1</td>\n",
       "      <td>18</td>\n",
       "      <td>98;299</td>\n",
       "      <td>66</td>\n",
       "      <td>1</td>\n",
       "      <td>Graduate Degree</td>\n",
       "      <td>0</td>\n",
       "      <td>1</td>\n",
       "      <td>0</td>\n",
       "      <td>swi</td>\n",
       "      <td>0</td>\n",
       "    </tr>\n",
       "    <tr>\n",
       "      <th>9929</th>\n",
       "      <td>nfrub</td>\n",
       "      <td>1</td>\n",
       "      <td>17</td>\n",
       "      <td>98;299</td>\n",
       "      <td>66</td>\n",
       "      <td>1</td>\n",
       "      <td>Graduate Degree</td>\n",
       "      <td>1</td>\n",
       "      <td>0</td>\n",
       "      <td>0</td>\n",
       "      <td>rub</td>\n",
       "      <td>1</td>\n",
       "    </tr>\n",
       "  </tbody>\n",
       "</table>\n",
       "<p>9930 rows × 12 columns</p>\n",
       "</div>"
      ],
      "text/plain": [
       "       case  response  order      id  age  male              edu  action  \\\n",
       "0     cfaqu         3      2  96;434   14     0    Middle School       0   \n",
       "1     cfbur         2     31  96;434   14     0    Middle School       0   \n",
       "2     cfrub         3     16  96;434   14     0    Middle School       0   \n",
       "3     cibox         2     32  96;434   14     0    Middle School       0   \n",
       "4     cibur         2      4  96;434   14     0    Middle School       0   \n",
       "...     ...       ...    ...     ...  ...   ...              ...     ...   \n",
       "9925  ilpon         2     23  98;299   66     1  Graduate Degree       0   \n",
       "9926  ilsha         5     15  98;299   66     1  Graduate Degree       0   \n",
       "9927  ilshi         6      7  98;299   66     1  Graduate Degree       0   \n",
       "9928  ilswi         1     18  98;299   66     1  Graduate Degree       0   \n",
       "9929  nfrub         1     17  98;299   66     1  Graduate Degree       1   \n",
       "\n",
       "      intention  contact story  action2  \n",
       "0             0        1   aqu        1  \n",
       "1             0        1   bur        1  \n",
       "2             0        1   rub        1  \n",
       "3             1        1   box        1  \n",
       "4             1        1   bur        1  \n",
       "...         ...      ...   ...      ...  \n",
       "9925          1        0   pon        0  \n",
       "9926          1        0   sha        0  \n",
       "9927          1        0   shi        0  \n",
       "9928          1        0   swi        0  \n",
       "9929          0        0   rub        1  \n",
       "\n",
       "[9930 rows x 12 columns]"
      ]
     },
     "execution_count": 4,
     "metadata": {},
     "output_type": "execute_result"
    }
   ],
   "source": [
    "d = pd.read_csv(\"./data/Trolley.csv\", sep=\";\")\n",
    "d['response'] = d['response'] - 1\n",
    "d"
   ]
  },
  {
   "cell_type": "code",
   "execution_count": 24,
   "metadata": {},
   "outputs": [],
   "source": [
    "def model_12_4():\n",
    "\tdef _generator():\n",
    "\t\tcutpoints = yield tfd.TransformedDistribution(\n",
    "\t\t\tdistribution=tfd.Sample(tfd.Normal(loc=0., scale=1.5), sample_shape=6), \n",
    "\t\t\tbijector=tfb.Ascending(), name='cutpoints')\n",
    "\t\tyield tfd.Sample(\n",
    "\t\t\ttfd.OrderedLogistic(cutpoints=cutpoints, loc=0.), \n",
    "\t\t\tsample_shape=9930, name='response')\n",
    "\n",
    "\treturn tfd.JointDistributionCoroutineAutoBatched(_generator)"
   ]
  },
  {
   "cell_type": "code",
   "execution_count": 25,
   "metadata": {},
   "outputs": [],
   "source": [
    "jd_12_4 = model_12_4()"
   ]
  },
  {
   "cell_type": "code",
   "execution_count": 26,
   "metadata": {},
   "outputs": [],
   "source": [
    "jd_12_4_pin = jd_12_4.experimental_pin(response=d.response.values.astype(np.float32))"
   ]
  },
  {
   "cell_type": "code",
   "execution_count": 28,
   "metadata": {},
   "outputs": [],
   "source": [
    "@jax.jit\n",
    "def run_chain(init_state, seed, step_size=1e-3, num_steps=500, burnin=500):\n",
    "\n",
    "  def target_log_prob(*states):\n",
    "    return jd_12_4_pin.unnormalized_log_prob(states)\n",
    "  \n",
    "  bijectors = [tfb.Identity()]\n",
    "\n",
    "  kernel = tfp.mcmc.NoUTurnSampler(\n",
    "      target_log_prob_fn=target_log_prob,\n",
    "      step_size=step_size)\n",
    "  \n",
    "  kernel = tfp.mcmc.TransformedTransitionKernel(\n",
    "    inner_kernel=kernel,\n",
    "    bijector=bijectors)\n",
    "\n",
    "  kernel = tfp.mcmc.DualAveragingStepSizeAdaptation(\n",
    "    inner_kernel=kernel,\n",
    "    num_adaptation_steps=burnin)\n",
    "\n",
    "  chain_state = tfp.mcmc.sample_chain(\n",
    "      num_results=num_steps,\n",
    "      num_burnin_steps=burnin,\n",
    "      current_state=init_state,\n",
    "      kernel=kernel,\n",
    "      seed=seed,\n",
    "      trace_fn=None)\n",
    "  \n",
    "  return chain_state"
   ]
  },
  {
   "cell_type": "code",
   "execution_count": 29,
   "metadata": {},
   "outputs": [],
   "source": [
    "num_chains = 4\n",
    "init_state = jd_12_4_pin.sample_unpinned(num_chains, seed=key())\n",
    "post_4 = run_chain(init_state=init_state, seed=key())"
   ]
  },
  {
   "cell_type": "code",
   "execution_count": 30,
   "metadata": {},
   "outputs": [],
   "source": [
    "post_4_dict = {k: jnp.moveaxis(v, 0, 1) for k, v in post_4._asdict().items()}\n",
    "dict_4 = dict(posterior=post_4_dict)\n",
    "idata_4 = az.from_dict(**dict_4)"
   ]
  },
  {
   "cell_type": "code",
   "execution_count": 32,
   "metadata": {},
   "outputs": [
    {
     "data": {
      "text/html": [
       "<div>\n",
       "<style scoped>\n",
       "    .dataframe tbody tr th:only-of-type {\n",
       "        vertical-align: middle;\n",
       "    }\n",
       "\n",
       "    .dataframe tbody tr th {\n",
       "        vertical-align: top;\n",
       "    }\n",
       "\n",
       "    .dataframe thead th {\n",
       "        text-align: right;\n",
       "    }\n",
       "</style>\n",
       "<table border=\"1\" class=\"dataframe\">\n",
       "  <thead>\n",
       "    <tr style=\"text-align: right;\">\n",
       "      <th></th>\n",
       "      <th>mean</th>\n",
       "      <th>sd</th>\n",
       "      <th>hdi_5.5%</th>\n",
       "      <th>hdi_94.5%</th>\n",
       "      <th>mcse_mean</th>\n",
       "      <th>mcse_sd</th>\n",
       "      <th>ess_bulk</th>\n",
       "      <th>ess_tail</th>\n",
       "      <th>r_hat</th>\n",
       "    </tr>\n",
       "  </thead>\n",
       "  <tbody>\n",
       "    <tr>\n",
       "      <th>cutpoints[0]</th>\n",
       "      <td>-1.915</td>\n",
       "      <td>0.029</td>\n",
       "      <td>-1.961</td>\n",
       "      <td>-1.869</td>\n",
       "      <td>0.001</td>\n",
       "      <td>0.001</td>\n",
       "      <td>1165.0</td>\n",
       "      <td>1285.0</td>\n",
       "      <td>1.0</td>\n",
       "    </tr>\n",
       "    <tr>\n",
       "      <th>cutpoints[1]</th>\n",
       "      <td>-1.267</td>\n",
       "      <td>0.024</td>\n",
       "      <td>-1.306</td>\n",
       "      <td>-1.230</td>\n",
       "      <td>0.001</td>\n",
       "      <td>0.001</td>\n",
       "      <td>1074.0</td>\n",
       "      <td>1305.0</td>\n",
       "      <td>1.0</td>\n",
       "    </tr>\n",
       "    <tr>\n",
       "      <th>cutpoints[2]</th>\n",
       "      <td>-0.719</td>\n",
       "      <td>0.021</td>\n",
       "      <td>-0.753</td>\n",
       "      <td>-0.685</td>\n",
       "      <td>0.001</td>\n",
       "      <td>0.000</td>\n",
       "      <td>1055.0</td>\n",
       "      <td>1208.0</td>\n",
       "      <td>1.0</td>\n",
       "    </tr>\n",
       "    <tr>\n",
       "      <th>cutpoints[3]</th>\n",
       "      <td>0.248</td>\n",
       "      <td>0.021</td>\n",
       "      <td>0.216</td>\n",
       "      <td>0.282</td>\n",
       "      <td>0.001</td>\n",
       "      <td>0.000</td>\n",
       "      <td>1089.0</td>\n",
       "      <td>900.0</td>\n",
       "      <td>1.0</td>\n",
       "    </tr>\n",
       "    <tr>\n",
       "      <th>cutpoints[4]</th>\n",
       "      <td>0.889</td>\n",
       "      <td>0.023</td>\n",
       "      <td>0.855</td>\n",
       "      <td>0.928</td>\n",
       "      <td>0.001</td>\n",
       "      <td>0.000</td>\n",
       "      <td>1074.0</td>\n",
       "      <td>1034.0</td>\n",
       "      <td>1.0</td>\n",
       "    </tr>\n",
       "    <tr>\n",
       "      <th>cutpoints[5]</th>\n",
       "      <td>1.769</td>\n",
       "      <td>0.029</td>\n",
       "      <td>1.723</td>\n",
       "      <td>1.816</td>\n",
       "      <td>0.001</td>\n",
       "      <td>0.001</td>\n",
       "      <td>1131.0</td>\n",
       "      <td>1122.0</td>\n",
       "      <td>1.0</td>\n",
       "    </tr>\n",
       "  </tbody>\n",
       "</table>\n",
       "</div>"
      ],
      "text/plain": [
       "               mean     sd  hdi_5.5%  hdi_94.5%  mcse_mean  mcse_sd  ess_bulk  \\\n",
       "cutpoints[0] -1.915  0.029    -1.961     -1.869      0.001    0.001    1165.0   \n",
       "cutpoints[1] -1.267  0.024    -1.306     -1.230      0.001    0.001    1074.0   \n",
       "cutpoints[2] -0.719  0.021    -0.753     -0.685      0.001    0.000    1055.0   \n",
       "cutpoints[3]  0.248  0.021     0.216      0.282      0.001    0.000    1089.0   \n",
       "cutpoints[4]  0.889  0.023     0.855      0.928      0.001    0.000    1074.0   \n",
       "cutpoints[5]  1.769  0.029     1.723      1.816      0.001    0.001    1131.0   \n",
       "\n",
       "              ess_tail  r_hat  \n",
       "cutpoints[0]    1285.0    1.0  \n",
       "cutpoints[1]    1305.0    1.0  \n",
       "cutpoints[2]    1208.0    1.0  \n",
       "cutpoints[3]     900.0    1.0  \n",
       "cutpoints[4]    1034.0    1.0  \n",
       "cutpoints[5]    1122.0    1.0  "
      ]
     },
     "execution_count": 32,
     "metadata": {},
     "output_type": "execute_result"
    }
   ],
   "source": [
    "summary_4 = az.summary(idata_4, hdi_prob=0.89)\n",
    "summary_4"
   ]
  },
  {
   "cell_type": "markdown",
   "metadata": {},
   "source": [
    "##### Code 12.19"
   ]
  },
  {
   "cell_type": "code",
   "execution_count": 36,
   "metadata": {},
   "outputs": [
    {
     "data": {
      "text/plain": [
       "cutpoints[0]    0.128420\n",
       "cutpoints[1]    0.219771\n",
       "cutpoints[2]    0.327613\n",
       "cutpoints[3]    0.561684\n",
       "cutpoints[4]    0.708684\n",
       "cutpoints[5]    0.854333\n",
       "Name: mean, dtype: float64"
      ]
     },
     "execution_count": 36,
     "metadata": {},
     "output_type": "execute_result"
    }
   ],
   "source": [
    "summary_4['mean'].pipe(lambda x: 1 / (1 + np.exp(-x)))"
   ]
  },
  {
   "cell_type": "markdown",
   "metadata": {},
   "source": [
    "##### Code 12.20"
   ]
  },
  {
   "cell_type": "code",
   "execution_count": 47,
   "metadata": {},
   "outputs": [
    {
     "data": {
      "text/plain": [
       "Array([0.12842017, 0.09135107, 0.10784199, 0.23407094, 0.14699959,\n",
       "       0.1456495 , 0.14566673], dtype=float64)"
      ]
     },
     "execution_count": 47,
     "metadata": {},
     "output_type": "execute_result"
    }
   ],
   "source": [
    "coef_4 = summary_4['mean'].values\n",
    "pk = tfd.OrderedLogistic(cutpoints=coef_4, loc=0.).prob(jnp.arange(7))\n",
    "pk"
   ]
  },
  {
   "cell_type": "markdown",
   "metadata": {},
   "source": [
    "##### Code 12.21"
   ]
  },
  {
   "cell_type": "code",
   "execution_count": 46,
   "metadata": {},
   "outputs": [
    {
     "data": {
      "text/plain": [
       "Array(4.19949416, dtype=float64)"
      ]
     },
     "execution_count": 46,
     "metadata": {},
     "output_type": "execute_result"
    }
   ],
   "source": [
    "jnp.sum(pk * (jnp.arange(7) + 1))"
   ]
  },
  {
   "cell_type": "markdown",
   "metadata": {},
   "source": [
    "##### Code 12.22"
   ]
  },
  {
   "cell_type": "code",
   "execution_count": 48,
   "metadata": {},
   "outputs": [
    {
     "data": {
      "text/plain": [
       "Array([0.082036  , 0.06387981, 0.08219667, 0.20921881, 0.15871065,\n",
       "       0.18452957, 0.21942848], dtype=float64)"
      ]
     },
     "execution_count": 48,
     "metadata": {},
     "output_type": "execute_result"
    }
   ],
   "source": [
    "pk = tfd.OrderedLogistic(cutpoints=coef_4 - 0.5, loc=0.).prob(jnp.arange(7))\n",
    "pk"
   ]
  },
  {
   "cell_type": "markdown",
   "metadata": {},
   "source": [
    "##### Code 12.23"
   ]
  },
  {
   "cell_type": "code",
   "execution_count": 49,
   "metadata": {},
   "outputs": [
    {
     "data": {
      "text/plain": [
       "Array(4.72999096, dtype=float64)"
      ]
     },
     "execution_count": 49,
     "metadata": {},
     "output_type": "execute_result"
    }
   ],
   "source": [
    "jnp.sum(pk * (jnp.arange(7) + 1))"
   ]
  },
  {
   "cell_type": "markdown",
   "metadata": {},
   "source": [
    "##### Code 12.24\n",
    "\n",
    "WARNING: The following model_12_5 consumes almost all resources and tries running forever. I guess the input data might be treated as batch (probably at phi).\n",
    "Numpyro version runs in 17.8s. "
   ]
  },
  {
   "cell_type": "code",
   "execution_count": 5,
   "metadata": {},
   "outputs": [],
   "source": [
    "def model_12_5(I):\n",
    "\tdef _generator():\n",
    "\t\tbA = yield tfd.Sample(tfd.Normal(loc=0., scale=0.5), sample_shape=1, name='bA')\n",
    "\t\tbI = yield tfd.Sample(tfd.Normal(loc=0., scale=0.5), sample_shape=1, name='bI')\n",
    "\t\t# bC = yield tfd.Normal(loc=0., scale=0.5, name='bC')\n",
    "\t\t# bIA = yield tfd.Normal(loc=0., scale=0.5, name='bIA')\n",
    "\t\t# bIC = yield tfd.Normal(loc=0., scale=0.5, name='bIC')\n",
    "\t\t# BI = bI + bIA*A + bIC*C\n",
    "\t\t# phi = bA*A + bC*C + BI*I\n",
    "\t\tphi = bA + bI*I\n",
    "\t\tcutpoints = yield tfd.TransformedDistribution(\n",
    "\t\t\tdistribution=tfd.Sample(tfd.Normal(loc=0., scale=1.5), sample_shape=6), \n",
    "\t\t\tbijector=tfb.Ascending(), name='cutpoints')\t\n",
    "\t\tyield tfd.Sample(tfd.OrderedLogistic(cutpoints=cutpoints, loc=phi), \n",
    "\t\t\t\t\t\t\t\t\t sample_shape=9930, name='response')\n",
    "\n",
    "\treturn tfd.JointDistributionCoroutineAutoBatched(_generator)"
   ]
  },
  {
   "cell_type": "code",
   "execution_count": 6,
   "metadata": {},
   "outputs": [],
   "source": [
    "# jd_12_5 = model_12_5(A=d.action.values.astype(np.float32), \n",
    "#                      I=d.intention.values.astype(np.float32), \n",
    "#                      C=d.contact.values.astype(np.float32))\n",
    "jd_12_5 = model_12_5(I=d.intention.values.astype(np.float32))"
   ]
  },
  {
   "cell_type": "code",
   "execution_count": 7,
   "metadata": {},
   "outputs": [],
   "source": [
    "jd_12_5_pin = jd_12_5.experimental_pin(response=d.response.values.astype(np.float32))"
   ]
  },
  {
   "cell_type": "code",
   "execution_count": 8,
   "metadata": {},
   "outputs": [],
   "source": [
    "@jax.jit\n",
    "def run_chain(init_state, seed, step_size=1e-3, num_steps=5, burnin=2):\n",
    "\n",
    "  def target_log_prob(*states):\n",
    "    return jd_12_5_pin.unnormalized_log_prob(states)\n",
    "  \n",
    "  # bijectors = [tfb.Identity(), tfb.Identity(), tfb.Identity(),\n",
    "  #              tfb.Identity(), tfb.Identity(), tfb.Identity()]\n",
    "  bijectors = [tfb.Identity(), tfb.Identity(), tfb.Identity()]\n",
    "\n",
    "  kernel = tfp.mcmc.NoUTurnSampler(\n",
    "      target_log_prob_fn=target_log_prob,\n",
    "      step_size=step_size)\n",
    "  \n",
    "  kernel = tfp.mcmc.TransformedTransitionKernel(\n",
    "    inner_kernel=kernel,\n",
    "    bijector=bijectors)\n",
    "\n",
    "  kernel = tfp.mcmc.DualAveragingStepSizeAdaptation(\n",
    "    inner_kernel=kernel,\n",
    "    num_adaptation_steps=burnin)\n",
    "\n",
    "  chain_state = tfp.mcmc.sample_chain(\n",
    "      num_results=num_steps,\n",
    "      num_burnin_steps=burnin,\n",
    "      current_state=init_state,\n",
    "      kernel=kernel,\n",
    "      seed=seed,\n",
    "      trace_fn=None)\n",
    "  \n",
    "  return chain_state"
   ]
  },
  {
   "cell_type": "code",
   "execution_count": 9,
   "metadata": {},
   "outputs": [],
   "source": [
    "num_chains = 1\n",
    "init_state = jd_12_5_pin.sample_unpinned(num_chains, seed=key())\n",
    "post_5 = run_chain(init_state=init_state, seed=key())"
   ]
  },
  {
   "cell_type": "code",
   "execution_count": null,
   "metadata": {},
   "outputs": [],
   "source": [
    "# post_5_dict = {k: jnp.moveaxis(v, 0, 1) for k, v in post_5._asdict().items()}\n",
    "# dict_5 = dict(posterior=post_5_dict)\n",
    "# idata_5 = az.from_dict(**dict_5)"
   ]
  },
  {
   "cell_type": "code",
   "execution_count": null,
   "metadata": {},
   "outputs": [],
   "source": [
    "# summary_5 = az.summary(idata_5, hdi_prob=0.89)\n",
    "# summary_5"
   ]
  }
 ],
 "metadata": {
  "kernelspec": {
   "display_name": "Python 3 (ipykernel)",
   "language": "python",
   "name": "python3"
  },
  "language_info": {
   "codemirror_mode": {
    "name": "ipython",
    "version": 3
   },
   "file_extension": ".py",
   "mimetype": "text/x-python",
   "name": "python",
   "nbconvert_exporter": "python",
   "pygments_lexer": "ipython3",
   "version": "3.12.7"
  },
  "toc": {
   "base_numbering": 1,
   "nav_menu": {},
   "number_sections": true,
   "sideBar": true,
   "skip_h1_title": false,
   "title_cell": "Table of Contents",
   "title_sidebar": "Contents",
   "toc_cell": false,
   "toc_position": {},
   "toc_section_display": true,
   "toc_window_display": false
  }
 },
 "nbformat": 4,
 "nbformat_minor": 4
}
